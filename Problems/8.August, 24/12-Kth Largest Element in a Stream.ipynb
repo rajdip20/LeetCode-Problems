{
 "cells": [
  {
   "cell_type": "markdown",
   "metadata": {},
   "source": [
    "Design a class to find the **k<sup>th</sup>** largest element in a stream. Note that it is the **k<sup>th</sup>** largest element in the sorted order, not the **k<sup>th</sup>** distinct element.\n",
    "\n",
    "Implement `KthLargest` class:\n",
    "- `KthLargest(int k, int[] nums)` Initializes the object with the integer `k` and the stream of integers `nums`.\n",
    "- `int add(int val)` Appends the integer `val` to the stream and returns the element representing the **k<sup>th</sup>** largest element in the stream.\n",
    "\n",
    "<br>\n",
    "\n",
    "**Example 1:**\n",
    ">**Input**<br>\n",
    ">[\"KthLargest\", \"add\", \"add\", \"add\", \"add\", \"add\"]<br>\n",
    ">[[3, [4, 5, 8, 2]], [3], [5], [10], [9], [4]]<br>\n",
    ">**Output**<br>\n",
    ">[null, 4, 5, 5, 8, 8]<br>\n",
    "><br>\n",
    ">**Explanation**<br>\n",
    ">KthLargest kthLargest = new KthLargest(3, [4, 5, 8, 2]);<br>\n",
    ">kthLargest.add(3); &emsp; // return 4<br>\n",
    ">kthLargest.add(5); &emsp; // return 5<br>\n",
    ">kthLargest.add(10); &emsp; // return 5<br>\n",
    ">kthLargest.add(9); &emsp; // return 8<br>\n",
    ">kthLargest.add(4); &emsp; // return 8\n",
    "\n",
    "<br>\n",
    "\n",
    "**Constraints:**\n",
    "- >1 <= k <= 10<sup>4</sup>\n",
    "- >0 <= nums.length <= 10<sup>4</sup>\n",
    "- >-10<sup>4</sup> <= nums[i] <= 10<sup>4</sup>\n",
    "- >-10<sup>4</sup> <= val <= 10<sup>4</sup>\n",
    "- >At most 10<sup>4</sup> calls will be made to add.\n",
    "- >It is guaranteed that there will be at least `k` elements in the array when you search for the **k<sup>th</sup>** element."
   ]
  },
  {
   "cell_type": "code",
   "execution_count": 1,
   "metadata": {},
   "outputs": [],
   "source": [
    "import heapq\n",
    "class KthLargest:\n",
    "    \n",
    "    def __init__(self, k: int, nums: list[int]):\n",
    "        self.k = k\n",
    "        self.min_heap = []\n",
    "\n",
    "        for num in nums:\n",
    "            self.add(num)\n",
    "        \n",
    "\n",
    "    def add(self, val: int) -> int:\n",
    "        if len(self.min_heap) < self.k:\n",
    "            heapq.heappush(self.min_heap, val)\n",
    "        elif val > self.min_heap[0]:\n",
    "            heapq.heapreplace(self.min_heap, val)\n",
    "        \n",
    "        return self.min_heap[0]\n",
    "        \n",
    "\n",
    "\n",
    "# Your KthLargest object will be instantiated and called as such:\n",
    "# obj = KthLargest(k, nums)\n",
    "# param_1 = obj.add(val)"
   ]
  }
 ],
 "metadata": {
  "kernelspec": {
   "display_name": "base",
   "language": "python",
   "name": "python3"
  },
  "language_info": {
   "codemirror_mode": {
    "name": "ipython",
    "version": 3
   },
   "file_extension": ".py",
   "mimetype": "text/x-python",
   "name": "python",
   "nbconvert_exporter": "python",
   "pygments_lexer": "ipython3",
   "version": "3.9.16"
  }
 },
 "nbformat": 4,
 "nbformat_minor": 2
}

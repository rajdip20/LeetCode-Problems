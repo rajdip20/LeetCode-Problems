{
 "cells": [
  {
   "cell_type": "markdown",
   "metadata": {},
   "source": [
    "Given a string `n` representing an integer, return *the closest integer (not including itself), which is a palindrome*. If there is a tie, return ***the smaller one***.\n",
    "\n",
    "The closest is defined as the absolute difference minimized between two integers.\n",
    "\n",
    "<br>\n",
    "\n",
    "**Example 1:**\n",
    ">**Input:** n = \"123\"<br>\n",
    ">**Output:** \"121\"\n",
    "\n",
    "**Example 2:**\n",
    ">**Input:** n = \"1\"<br>\n",
    ">**Output:** \"0\"<br>\n",
    ">**Explanation:** 0 and 2 are the closest palindromes but we return the smallest which is 0.\n",
    "\n",
    "<br>\n",
    "\n",
    "**Constraints:**\n",
    "- >1 <= n.length <= 18\n",
    "- >n consists of only digits.\n",
    "- >n does not have leading zeros.\n",
    "- >n is representing an integer in the range [1, 10<sup>18</sup> - 1]."
   ]
  },
  {
   "cell_type": "code",
   "execution_count": 1,
   "metadata": {},
   "outputs": [],
   "source": [
    "class Solution:\n",
    "    def nearestPalindromic(self, n: str) -> str:\n",
    "        length = len(n)\n",
    "    \n",
    "        if length == 1:\n",
    "            return str(int(n) - 1)\n",
    "        \n",
    "        prefix = int(n[:(length + 1) // 2])\n",
    "        \n",
    "        candidates = [\n",
    "            str(prefix - 1) + str(prefix - 1)[::-1][length % 2:],\n",
    "            str(prefix) + str(prefix)[::-1][length % 2:],\n",
    "            str(prefix + 1) + str(prefix + 1)[::-1][length % 2:],\n",
    "            \"9\" * (length - 1),\n",
    "            \"1\" + \"0\" * (length - 1) + \"1\"\n",
    "        ]\n",
    "        \n",
    "        candidates = [c for c in candidates if c != n]\n",
    "        closest_palindrome = min(candidates, key=lambda x: (abs(int(x) - int(n)), int(x)))\n",
    "        \n",
    "        return closest_palindrome"
   ]
  }
 ],
 "metadata": {
  "kernelspec": {
   "display_name": "base",
   "language": "python",
   "name": "python3"
  },
  "language_info": {
   "codemirror_mode": {
    "name": "ipython",
    "version": 3
   },
   "file_extension": ".py",
   "mimetype": "text/x-python",
   "name": "python",
   "nbconvert_exporter": "python",
   "pygments_lexer": "ipython3",
   "version": "3.9.16"
  }
 },
 "nbformat": 4,
 "nbformat_minor": 2
}

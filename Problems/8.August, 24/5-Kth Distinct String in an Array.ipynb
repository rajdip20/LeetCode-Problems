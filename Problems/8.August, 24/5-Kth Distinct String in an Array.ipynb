{
 "cells": [
  {
   "cell_type": "markdown",
   "metadata": {},
   "source": [
    "A **distinct string** is a string that is present only **once** in an array.\n",
    "\n",
    "Given an array of strings `arr`, and an integer `k`, return *the* **k<sup>th</sup>** ***distinct string*** *present in* `arr`. If there are fewer than `k` distinct strings, return *an* ***empty string*** `\"\"`.\n",
    "\n",
    "Note that the strings are considered in the **order in which they appear** in the array.\n",
    "\n",
    "<br>\n",
    "\n",
    "**Example 1:**\n",
    ">**Input:** arr = [\"d\",\"b\",\"c\",\"b\",\"c\",\"a\"], k = 2<br>\n",
    ">**Output:** \"a\"<br>\n",
    ">**Explanation:**<br>\n",
    ">The only distinct strings in arr are \"d\" and \"a\".<br>\n",
    ">\"d\" appears 1st, so it is the 1st distinct string.<br>\n",
    ">\"a\" appears 2nd, so it is the 2nd distinct string.<br>\n",
    ">Since k == 2, \"a\" is returned. \n",
    "\n",
    "**Example 2:**\n",
    ">**Input:** arr = [\"aaa\",\"aa\",\"a\"], k = 1<br>\n",
    ">**Output:** \"aaa\"<br>\n",
    ">**Explanation:**<br>\n",
    ">All strings in arr are distinct, so the 1st string \"aaa\" is returned.\n",
    "\n",
    "**Example 3:**\n",
    ">**Input:** arr = [\"a\",\"b\",\"a\"], k = 3<br>\n",
    ">**Output:** \"\"<br>\n",
    ">**Explanation:**<br>\n",
    ">The only distinct string is \"b\". Since there are fewer than 3 distinct strings, we return an empty string \"\".\n",
    "\n",
    "<br>\n",
    "\n",
    "**Constraints:**\n",
    "- >1 <= k <= arr.length <= 1000\n",
    "- >1 <= arr[i].length <= 5\n",
    "- >arr[i] consists of lowercase English letters."
   ]
  },
  {
   "cell_type": "code",
   "execution_count": 1,
   "metadata": {},
   "outputs": [],
   "source": [
    "class Solution:\n",
    "    def kthDistinct(self, arr: list[str], k: int) -> str:\n",
    "        frequency = {}\n",
    "        for string in arr:\n",
    "            if string in frequency:\n",
    "                frequency[string] += 1\n",
    "            else:\n",
    "                frequency[string] = 1\n",
    "        \n",
    "        distinct_strings = []\n",
    "        for string in arr:\n",
    "            if frequency[string] == 1:\n",
    "                distinct_strings.append(string)\n",
    "        \n",
    "        if len(distinct_strings) >= k:\n",
    "            return distinct_strings[k - 1]\n",
    "        else:\n",
    "            return \"\""
   ]
  }
 ],
 "metadata": {
  "kernelspec": {
   "display_name": "base",
   "language": "python",
   "name": "python3"
  },
  "language_info": {
   "codemirror_mode": {
    "name": "ipython",
    "version": 3
   },
   "file_extension": ".py",
   "mimetype": "text/x-python",
   "name": "python",
   "nbconvert_exporter": "python",
   "pygments_lexer": "ipython3",
   "version": "3.9.16"
  }
 },
 "nbformat": 4,
 "nbformat_minor": 2
}

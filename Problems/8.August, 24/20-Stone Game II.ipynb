{
 "cells": [
  {
   "cell_type": "markdown",
   "metadata": {},
   "source": [
    "Alice and Bob continue their games with piles of stones. There are a number of piles **arranged in a row**, and each pile has a positive integer number of stones `piles[i]`.  The objective of the game is to end with the most stones. \n",
    "\n",
    "Alice and Bob take turns, with Alice starting first. Initially, `M = 1`.\n",
    "\n",
    "On each player's turn, that player can take **all the stones** in the **first** `X` remaining piles, where `1 <= X <= 2M`. Then, we set `M = max(M, X)`.\n",
    "\n",
    "The game continues until all the stones have been taken.\n",
    "\n",
    "Assuming Alice and Bob play optimally, return the maximum number of stones Alice can get.\n",
    "\n",
    "<br>\n",
    "\n",
    "**Example 1:**\n",
    ">**Input:** piles = [2,7,9,4,4]<br>\n",
    ">**Output:** 10<br>\n",
    ">**Explanation:**  If Alice takes one pile at the beginning, Bob takes two piles, then Alice takes 2 piles again. Alice can get 2 + 4 + 4 = 10 piles in total. If Alice takes two piles at the beginning, then Bob can take all three piles left. In this case, Alice get 2 + 7 = 9 piles in total. So we return 10 since it's larger. \n",
    "\n",
    "**Example 2:**\n",
    ">**Input:** piles = [1,2,3,4,5,100]<br>\n",
    ">**Output:** 104\n",
    "\n",
    "<br>\n",
    "\n",
    "**Constraints:**\n",
    "- >1 <= piles.length <= 100\n",
    "- >1 <= piles[i] <= 10<sup>4</sup>"
   ]
  },
  {
   "cell_type": "code",
   "execution_count": 1,
   "metadata": {},
   "outputs": [],
   "source": [
    "class Solution:\n",
    "    def stoneGameII(self, piles: list[int]) -> int:\n",
    "        n = len(piles)\n",
    "        dp = [[0] * (n + 1) for _ in range(n + 1)]\n",
    "        suffix_sum = [0] * (n + 1)\n",
    "        \n",
    "        for i in range(n - 1, -1, -1):\n",
    "            suffix_sum[i] = suffix_sum[i + 1] + piles[i]\n",
    "        \n",
    "        for i in range(n - 1, -1, -1):\n",
    "            for M in range(1, n + 1):\n",
    "                max_stones = 0\n",
    "                for X in range(1, 2 * M + 1):\n",
    "                    if i + X >= n:\n",
    "                        max_stones = max(max_stones, suffix_sum[i])\n",
    "                    else:\n",
    "                        max_stones = max(max_stones, suffix_sum[i] - dp[i + X][max(M, X)])\n",
    "                dp[i][M] = max_stones\n",
    "        \n",
    "        return dp[0][1]"
   ]
  }
 ],
 "metadata": {
  "kernelspec": {
   "display_name": "base",
   "language": "python",
   "name": "python3"
  },
  "language_info": {
   "codemirror_mode": {
    "name": "ipython",
    "version": 3
   },
   "file_extension": ".py",
   "mimetype": "text/x-python",
   "name": "python",
   "nbconvert_exporter": "python",
   "pygments_lexer": "ipython3",
   "version": "3.9.16"
  }
 },
 "nbformat": 4,
 "nbformat_minor": 2
}

{
 "cells": [
  {
   "cell_type": "markdown",
   "metadata": {},
   "source": [
    "Convert a non-negative integer `num` to its English words representation.\n",
    "\n",
    "<br>\n",
    "\n",
    "**Example 1:**\n",
    ">**Input:** num = 123<br>\n",
    ">**Output:** \"One Hundred Twenty Three\"\n",
    "\n",
    "**Example 2:**\n",
    ">**Input:** num = 12345<br>\n",
    ">**Output:** \"Twelve Thousand Three Hundred Forty Five\"\n",
    "\n",
    "**Example 3:**\n",
    ">**Input:** num = 1234567<br>\n",
    ">**Output:** \"One Million Two Hundred Thirty Four Thousand Five Hundred Sixty Seven\"\n",
    "\n",
    "<br>\n",
    "\n",
    "**Constraints:**\n",
    "- >0 <= num <= 2<sup>31</sup> - 1"
   ]
  },
  {
   "cell_type": "code",
   "execution_count": 1,
   "metadata": {},
   "outputs": [],
   "source": [
    "class Solution:\n",
    "    def numberToWords(self, num: int) -> str:\n",
    "        if num == 0:\n",
    "            return \"Zero\"\n",
    "        \n",
    "        below_20 = [\"\", \"One\", \"Two\", \"Three\", \"Four\", \"Five\", \"Six\", \"Seven\", \"Eight\", \"Nine\", \n",
    "                    \"Ten\", \"Eleven\", \"Twelve\", \"Thirteen\", \"Fourteen\", \"Fifteen\", \"Sixteen\", \n",
    "                    \"Seventeen\", \"Eighteen\", \"Nineteen\"]\n",
    "        tens = [\"\", \"\", \"Twenty\", \"Thirty\", \"Forty\", \"Fifty\", \"Sixty\", \"Seventy\", \"Eighty\", \"Ninety\"]\n",
    "        thousands = [\"\", \"Thousand\", \"Million\", \"Billion\"]\n",
    "        \n",
    "        def helper(n):\n",
    "            if n == 0:\n",
    "                return \"\"\n",
    "            elif n < 20:\n",
    "                return below_20[n] + \" \"\n",
    "            elif n < 100:\n",
    "                return tens[n // 10] + \" \" + helper(n % 10)\n",
    "            else:\n",
    "                return below_20[n // 100] + \" Hundred \" + helper(n % 100)\n",
    "        \n",
    "        result = \"\"\n",
    "        for i, unit in enumerate(thousands):\n",
    "            if num % 1000 != 0:\n",
    "                result = helper(num % 1000) + unit + \" \" + result\n",
    "            num //= 1000\n",
    "        \n",
    "        return result.strip()"
   ]
  }
 ],
 "metadata": {
  "kernelspec": {
   "display_name": "base",
   "language": "python",
   "name": "python3"
  },
  "language_info": {
   "codemirror_mode": {
    "name": "ipython",
    "version": 3
   },
   "file_extension": ".py",
   "mimetype": "text/x-python",
   "name": "python",
   "nbconvert_exporter": "python",
   "pygments_lexer": "ipython3",
   "version": "3.9.16"
  }
 },
 "nbformat": 4,
 "nbformat_minor": 2
}

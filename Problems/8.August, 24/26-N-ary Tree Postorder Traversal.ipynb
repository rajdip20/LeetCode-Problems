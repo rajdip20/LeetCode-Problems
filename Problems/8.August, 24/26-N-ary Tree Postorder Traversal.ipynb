{
 "cells": [
  {
   "cell_type": "markdown",
   "metadata": {},
   "source": [
    "Given the `root` of an n-ary tree, return *the postorder traversal of its nodes' values*.\n",
    "\n",
    "Nary-Tree input serialization is represented in their level order traversal. Each group of children is separated by the null value (See examples)\n",
    "\n",
    "<br>\n",
    "\n",
    "**Example 1:**\n",
    "\n",
    "![narraytree1](../../images/narytreeexample.png)\n",
    "\n",
    ">**Input:** root = [1,null,3,2,4,null,5,6]<br>\n",
    ">**Output:** [5,6,3,2,4,1]\n",
    "\n",
    "**Example 2:**\n",
    "\n",
    "![narraytree2](../../images/sample_4_964.png)\n",
    "\n",
    ">**Input:** root = [1,null,2,3,4,5,null,null,6,7,null,8,null,9,10,null,null,11,null,12,null,13,null,null,14]<br>\n",
    ">**Output:** [2,6,14,11,7,3,12,8,4,13,9,10,5,1]\n",
    "\n",
    "<br>\n",
    "\n",
    "**Constraints:**\n",
    "- >The number of nodes in the tree is in the range [0, 10<sup>4</sup>].\n",
    "- >0 <= Node.val <= 10<sup>4</sup>\n",
    "- >The height of the n-ary tree is less than or equal to 1000.\n",
    "\n",
    "<br><br>\n",
    "\n",
    "**Follow up:** Recursive solution is trivial, could you do it iteratively?"
   ]
  },
  {
   "cell_type": "code",
   "execution_count": 1,
   "metadata": {},
   "outputs": [],
   "source": [
    "\"\"\"\n",
    "# Definition for a Node.\n",
    "class Node:\n",
    "    def __init__(self, val=None, children=None):\n",
    "        self.val = val\n",
    "        self.children = children\n",
    "\"\"\"\n",
    "\n",
    "class Solution:\n",
    "    def postorder(self, root) -> list[int]:\n",
    "        if root is None:\n",
    "            return []\n",
    "        \n",
    "        stack = [root]\n",
    "        output = []\n",
    "        \n",
    "        while stack:\n",
    "            node = stack.pop()\n",
    "            output.append(node.val)\n",
    "            \n",
    "            for child in node.children:\n",
    "                stack.append(child)\n",
    "        \n",
    "        return output[::-1]"
   ]
  }
 ],
 "metadata": {
  "kernelspec": {
   "display_name": "base",
   "language": "python",
   "name": "python3"
  },
  "language_info": {
   "codemirror_mode": {
    "name": "ipython",
    "version": 3
   },
   "file_extension": ".py",
   "mimetype": "text/x-python",
   "name": "python",
   "nbconvert_exporter": "python",
   "pygments_lexer": "ipython3",
   "version": "3.9.16"
  }
 },
 "nbformat": 4,
 "nbformat_minor": 2
}

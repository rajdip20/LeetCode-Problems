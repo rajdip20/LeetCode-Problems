{
 "cells": [
  {
   "cell_type": "markdown",
   "metadata": {},
   "source": [
    "An **ugly number** is a positive integer whose prime factors are limited to `2`, `3`, and `5`.\n",
    "\n",
    "Given an integer `n`, return *the* **n<sup>th</sup>** ***ugly number***.\n",
    "\n",
    "<br>\n",
    "\n",
    "**Example 1:**\n",
    ">**Input:** n = 10<br>\n",
    ">**Output:** 12<br>\n",
    ">**Explanation:** [1, 2, 3, 4, 5, 6, 8, 9, 10, 12] is the sequence of the first 10 ugly numbers.\n",
    "\n",
    "**Example 2:**\n",
    ">**Input:** n = 1<br>\n",
    ">**Output:** 1<br>\n",
    ">**Explanation:** 1 has no prime factors, therefore all of its prime factors are limited to 2, 3, and 5.\n",
    "\n",
    "<br>\n",
    "\n",
    "**Constraints:**\n",
    "- >1 <= n <= 1690"
   ]
  },
  {
   "cell_type": "code",
   "execution_count": 1,
   "metadata": {},
   "outputs": [],
   "source": [
    "class Solution:\n",
    "    def nthUglyNumber(self, n: int) -> int:\n",
    "        dp = [0] * n\n",
    "        dp[0] = 1\n",
    "        \n",
    "        i2 = i3 = i5 = 0\n",
    "        \n",
    "        next_multiple_of_2 = 2\n",
    "        next_multiple_of_3 = 3\n",
    "        next_multiple_of_5 = 5\n",
    "        \n",
    "        for i in range(1, n):\n",
    "            next_ugly = min(next_multiple_of_2, next_multiple_of_3, next_multiple_of_5)\n",
    "            dp[i] = next_ugly\n",
    "            \n",
    "            if next_ugly == next_multiple_of_2:\n",
    "                i2 += 1\n",
    "                next_multiple_of_2 = dp[i2] * 2\n",
    "            if next_ugly == next_multiple_of_3:\n",
    "                i3 += 1\n",
    "                next_multiple_of_3 = dp[i3] * 3\n",
    "            if next_ugly == next_multiple_of_5:\n",
    "                i5 += 1\n",
    "                next_multiple_of_5 = dp[i5] * 5\n",
    "        \n",
    "        return dp[-1]"
   ]
  }
 ],
 "metadata": {
  "kernelspec": {
   "display_name": "base",
   "language": "python",
   "name": "python3"
  },
  "language_info": {
   "codemirror_mode": {
    "name": "ipython",
    "version": 3
   },
   "file_extension": ".py",
   "mimetype": "text/x-python",
   "name": "python",
   "nbconvert_exporter": "python",
   "pygments_lexer": "ipython3",
   "version": "3.9.16"
  }
 },
 "nbformat": 4,
 "nbformat_minor": 2
}

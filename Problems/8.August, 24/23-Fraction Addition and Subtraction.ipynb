{
 "cells": [
  {
   "cell_type": "markdown",
   "metadata": {},
   "source": [
    "Given a string `expression` representing an expression of fraction addition and subtraction, return the calculation result in string format.\n",
    "\n",
    "The final result should be an [irreducible fraction](https://en.wikipedia.org/wiki/Irreducible_fraction). If your final result is an integer, change it to the format of a fraction that has a denominator `1`. So in this case, `2` should be converted to `2/1`.\n",
    "\n",
    ">\n",
    "\n",
    "**Example 1:**\n",
    ">**Input:** expression = \"-1/2+1/2\"<br>\n",
    ">**Output:** \"0/1\"\n",
    "\n",
    "**Example 2:**\n",
    ">**Input:** expression = \"-1/2+1/2+1/3\"<br>\n",
    ">**Output:** \"1/3\"\n",
    "\n",
    "**Example 3:**\n",
    ">**Input:** expression = \"1/3-1/2\"<br>\n",
    ">**Output:** \"-1/6\"\n",
    "\n",
    ">\n",
    "\n",
    "**Constraints:**\n",
    "- >The input string only contains `'0'` to `'9'`, `'/'`, `'+'` and `'-'`. So does the output.\n",
    "- >Each fraction (input and output) has the format `±numerator/denominator`. If the first input fraction or the output is positive, then `'+'` will be omitted.\n",
    "- >The input only contains valid **irreducible fractions**, where the **numerator** and **denominator** of each fraction will always be in the range `[1, 10]`. If the denominator is `1`, it means this fraction is actually an integer in a fraction format defined above.\n",
    "- >The number of given fractions will be in the range `[1, 10]`.\n",
    "- >The numerator and denominator of the **final result** are guaranteed to be valid and in the range of **32-bit** int."
   ]
  },
  {
   "cell_type": "code",
   "execution_count": 1,
   "metadata": {},
   "outputs": [],
   "source": [
    "class Solution:\n",
    "    def fractionAddition(self, expression: str) -> str:\n",
    "        from math import gcd\n",
    "        \n",
    "        numerator, denominator = 0, 1\n",
    "        i = 0\n",
    "        n = len(expression)\n",
    "        \n",
    "        while i < n:\n",
    "            sign = 1\n",
    "            if expression[i] == '+' or expression[i] == '-':\n",
    "                if expression[i] == '-':\n",
    "                    sign = -1\n",
    "                i += 1\n",
    "            \n",
    "            start = i\n",
    "            while i < n and expression[i].isdigit():\n",
    "                i += 1\n",
    "            num = sign * int(expression[start:i])\n",
    "            \n",
    "            i += 1\n",
    "            \n",
    "            start = i\n",
    "            while i < n and expression[i].isdigit():\n",
    "                i += 1\n",
    "            denom = int(expression[start:i])\n",
    "            \n",
    "            numerator = numerator * denom + num * denominator\n",
    "            denominator = denominator * denom\n",
    "            \n",
    "            g = gcd(abs(numerator), abs(denominator))\n",
    "            numerator //= g\n",
    "            denominator //= g\n",
    "        \n",
    "        return f\"{numerator}/{denominator}\""
   ]
  }
 ],
 "metadata": {
  "kernelspec": {
   "display_name": "base",
   "language": "python",
   "name": "python3"
  },
  "language_info": {
   "codemirror_mode": {
    "name": "ipython",
    "version": 3
   },
   "file_extension": ".py",
   "mimetype": "text/x-python",
   "name": "python",
   "nbconvert_exporter": "python",
   "pygments_lexer": "ipython3",
   "version": "3.9.16"
  }
 },
 "nbformat": 4,
 "nbformat_minor": 2
}

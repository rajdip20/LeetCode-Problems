{
 "cells": [
  {
   "cell_type": "markdown",
   "metadata": {},
   "source": [
    "There is a strange printer with the following two special properties:\n",
    "- The printer can only print a sequence of **the same character** each time.\n",
    "- At each turn, the printer can print new characters starting from and ending at any place and will cover the original existing characters.\n",
    "\n",
    "Given a string `s`, return *the minimum number of turns the printer needed to print it*.\n",
    "\n",
    "<br>\n",
    "\n",
    "**Example 1:**\n",
    ">**Input:** s = \"aaabbb\"<br>\n",
    ">**Output:** 2<br>\n",
    ">**Explanation:** Print \"aaa\" first and then print \"bbb\".\n",
    "\n",
    "**Example 2:**\n",
    ">**Input:** s = \"aba\"<br>\n",
    ">**Output:** 2<br>\n",
    ">**Explanation:** Print \"aaa\" first and then print \"b\" from the second place of the string, which will cover the existing character 'a'.\n",
    "\n",
    "<br>\n",
    "\n",
    "**Constraints:**\n",
    "- >1 <= s.length <= 100\n",
    "- >s consists of lowercase English letters."
   ]
  },
  {
   "cell_type": "code",
   "execution_count": 1,
   "metadata": {},
   "outputs": [],
   "source": [
    "class Solution:\n",
    "    def strangePrinter(self, s: str) -> int:\n",
    "        n = len(s)\n",
    "        dp = [[0] * n for _ in range(n)]\n",
    "        \n",
    "        for i in range(n):\n",
    "            dp[i][i] = 1\n",
    "        \n",
    "        for length in range(2, n + 1):\n",
    "            for i in range(n - length + 1):\n",
    "                j = i + length - 1\n",
    "                dp[i][j] = dp[i][j - 1] + 1\n",
    "                for k in range(i, j):\n",
    "                    if s[k] == s[j]:\n",
    "                        dp[i][j] = min(dp[i][j], dp[i][k] + dp[k + 1][j - 1])\n",
    "        \n",
    "        return dp[0][n - 1]"
   ]
  }
 ],
 "metadata": {
  "kernelspec": {
   "display_name": "base",
   "language": "python",
   "name": "python3"
  },
  "language_info": {
   "codemirror_mode": {
    "name": "ipython",
    "version": 3
   },
   "file_extension": ".py",
   "mimetype": "text/x-python",
   "name": "python",
   "nbconvert_exporter": "python",
   "pygments_lexer": "ipython3",
   "version": "3.9.16"
  }
 },
 "nbformat": 4,
 "nbformat_minor": 2
}

{
 "cells": [
  {
   "cell_type": "markdown",
   "metadata": {},
   "source": [
    "At a lemonade stand, each lemonade costs `$5`. Customers are standing in a queue to buy from you and order one at a time (in the order specified by bills). Each customer will only buy one lemonade and pay with either a `$5`, `$10`, or `$20` bill. You must provide the correct change to each customer so that the net transaction is that the customer pays `$5`.\n",
    "\n",
    "Note that you do not have any change in hand at first.\n",
    "\n",
    "Given an integer array `bills` where `bills[i]` is the bill the **i<sup>th</sup>** customer pays, return `true` *if you can provide every customer with the correct change, or* `false` *otherwise*.\n",
    "\n",
    "<br>\n",
    "\n",
    "**Example 1:**\n",
    ">**Input:** bills = [5,5,5,10,20]<br>\n",
    ">**Output:** true<br>\n",
    ">**Explanation:** <br>\n",
    ">From the first 3 customers, we collect three $5 bills in order.<br>\n",
    ">From the fourth customer, we collect a $10 bill and give back a $5.<br>\n",
    ">From the fifth customer, we give a $10 bill and a $5 bill.<br>\n",
    ">Since all customers got correct change, we output true.\n",
    "\n",
    "**Example 2:**\n",
    ">**Input:** bills = [5,5,10,10,20]<br>\n",
    ">**Output:** false<br>\n",
    ">**Explanation:** <br>\n",
    ">From the first two customers in order, we collect two $5 bills.<br>\n",
    ">For the next two customers in order, we collect a $10 bill and give back a $5 bill.<br>\n",
    ">For the last customer, we can not give the change of $15 back because we only have two $10 bills.<br>\n",
    ">Since not every customer received the correct change, the answer is false.\n",
    "\n",
    "<br>\n",
    "\n",
    "**Constraints:**\n",
    "- >1 <= bills.length <= 10<sup>5</sup>\n",
    "- >bills[i] is either 5, 10, or 20."
   ]
  },
  {
   "cell_type": "code",
   "execution_count": 1,
   "metadata": {},
   "outputs": [],
   "source": [
    "class Solution:\n",
    "    def lemonadeChange(self, bills: list[int]) -> bool:\n",
    "        five_count = 0\n",
    "        ten_count = 0\n",
    "        \n",
    "        for bill in bills:\n",
    "            if bill == 5:\n",
    "                five_count += 1\n",
    "            elif bill == 10:\n",
    "                if five_count == 0:\n",
    "                    return False\n",
    "                five_count -= 1\n",
    "                ten_count += 1\n",
    "            elif bill == 20:\n",
    "                if ten_count > 0 and five_count > 0:\n",
    "                    ten_count -= 1\n",
    "                    five_count -= 1\n",
    "                elif five_count >= 3:\n",
    "                    five_count -= 3\n",
    "                else:\n",
    "                    return False\n",
    "        \n",
    "        return True"
   ]
  }
 ],
 "metadata": {
  "kernelspec": {
   "display_name": "base",
   "language": "python",
   "name": "python3"
  },
  "language_info": {
   "codemirror_mode": {
    "name": "ipython",
    "version": 3
   },
   "file_extension": ".py",
   "mimetype": "text/x-python",
   "name": "python",
   "nbconvert_exporter": "python",
   "pygments_lexer": "ipython3",
   "version": "3.9.16"
  }
 },
 "nbformat": 4,
 "nbformat_minor": 2
}

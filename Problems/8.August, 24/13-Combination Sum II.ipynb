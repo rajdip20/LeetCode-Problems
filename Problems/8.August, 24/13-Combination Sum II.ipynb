{
 "cells": [
  {
   "cell_type": "markdown",
   "metadata": {},
   "source": [
    "Given a collection of candidate numbers (`candidates`) and a target number (`target`), find all unique combinations in `candidates` where the candidate numbers sum to `target`.\n",
    "\n",
    "Each number in `candidates` may only be used **once** in the combination.\n",
    "\n",
    "**Note:** The solution set must not contain duplicate combinations.\n",
    "\n",
    "<br>\n",
    "\n",
    "**Example 1:**\n",
    ">**Input:** candidates = [10,1,2,7,6,1,5], target = 8<br>\n",
    ">**Output:** <br>\n",
    ">[<br>\n",
    ">[1,1,6],<br>\n",
    ">[1,2,5],<br>\n",
    ">[1,7],<br>\n",
    ">[2,6]<br>\n",
    ">]\n",
    "\n",
    "**Example 2:**\n",
    ">**Input:** candidates = [2,5,2,1,2], target = 5<br>\n",
    ">**Output:** <br>\n",
    ">[<br>\n",
    ">[1,2,2],<br>\n",
    ">[5]<br>\n",
    ">]\n",
    "\n",
    "<br>\n",
    "\n",
    "**Constraints:**\n",
    "- >1 <= candidates.length <= 100\n",
    "- >1 <= candidates[i] <= 50\n",
    "- >1 <= target <= 30"
   ]
  },
  {
   "cell_type": "code",
   "execution_count": 1,
   "metadata": {},
   "outputs": [],
   "source": [
    "class Solution:\n",
    "    def combinationSum2(self, candidates: list[int], target: int) -> list[list[int]]:\n",
    "        def backtrack(start, target, path):\n",
    "            if target == 0:\n",
    "                result.append(path)\n",
    "                return\n",
    "            for i in range(start, len(candidates)):\n",
    "                if i > start and candidates[i] == candidates[i - 1]:\n",
    "                    continue\n",
    "                if candidates[i] > target:\n",
    "                    break\n",
    "                backtrack(i + 1, target - candidates[i], path + [candidates[i]])\n",
    "        \n",
    "        candidates.sort()\n",
    "        result = []\n",
    "        backtrack(0, target, [])\n",
    "        return result"
   ]
  }
 ],
 "metadata": {
  "kernelspec": {
   "display_name": "base",
   "language": "python",
   "name": "python3"
  },
  "language_info": {
   "codemirror_mode": {
    "name": "ipython",
    "version": 3
   },
   "file_extension": ".py",
   "mimetype": "text/x-python",
   "name": "python",
   "nbconvert_exporter": "python",
   "pygments_lexer": "ipython3",
   "version": "3.9.16"
  }
 },
 "nbformat": 4,
 "nbformat_minor": 2
}

{
 "cells": [
  {
   "cell_type": "markdown",
   "metadata": {},
   "source": [
    "You start at the cell `(rStart, cStart)` of an `rows x cols` grid facing east. The northwest corner is at the first row and column in the grid, and the southeast corner is at the last row and column.\n",
    "\n",
    "You will walk in a clockwise spiral shape to visit every position in this grid. Whenever you move outside the grid's boundary, we continue our walk outside the grid (but may return to the grid boundary later.). Eventually, we reach all `rows * cols` spaces of the grid.\n",
    "\n",
    "Return *an array of coordinates representing the positions of the grid in the order you visited them*.\n",
    "\n",
    "<br>\n",
    "\n",
    "**Example 1:**\n",
    "\n",
    "![example_1](../../images/example_1.png)\n",
    "\n",
    ">**Input:** rows = 1, cols = 4, rStart = 0, cStart = 0<br>\n",
    ">**Output:** [[0,0],[0,1],[0,2],[0,3]]\n",
    "\n",
    "**Example 2:**\n",
    "\n",
    "![example_2](../../images/example_2.png)\n",
    "\n",
    ">**Input:** rows = 5, cols = 6, rStart = 1, cStart = 4<br>\n",
    ">**Output:** [[1,4],[1,5],[2,5],[2,4],[2,3],[1,3],[0,3],[0,4],[0,5],[3,5],[3,4],[3,3],[3,2],[2,2],[1,2],[0,2],[4,5],[4,4],[4,3],[4,2],[4,1],[3,1],[2,1],[1,1],[0,1],[4,0],[3,0],[2,0],[1,0],[0,0]]\n",
    "\n",
    "<br>\n",
    "\n",
    "**Constraints:**\n",
    "- >1 <= rows, cols <= 100\n",
    "- >0 <= rStart < rows\n",
    "- >0 <= cStart < cols"
   ]
  },
  {
   "cell_type": "code",
   "execution_count": 1,
   "metadata": {},
   "outputs": [],
   "source": [
    "class Solution:\n",
    "    def spiralMatrixIII(self, rows: int, cols: int, rStart: int, cStart: int) -> list[list[int]]:\n",
    "        directions = [(0, 1), (1, 0), (0, -1), (-1, 0)]  # Right, Down, Left, Up\n",
    "        result = []\n",
    "        steps = 1\n",
    "        direction_index = 0\n",
    "        r, c = rStart, cStart\n",
    "\n",
    "        while len(result) < rows * cols:\n",
    "            for _ in range(2):\n",
    "                for _ in range(steps):\n",
    "                    if 0 <= r < rows and 0 <= c < cols:\n",
    "                        result.append([r, c])\n",
    "                    r += directions[direction_index][0]\n",
    "                    c += directions[direction_index][1]\n",
    "\n",
    "                direction_index = (direction_index + 1) % 4\n",
    "\n",
    "            steps += 1\n",
    "\n",
    "        return result"
   ]
  }
 ],
 "metadata": {
  "kernelspec": {
   "display_name": "base",
   "language": "python",
   "name": "python3"
  },
  "language_info": {
   "codemirror_mode": {
    "name": "ipython",
    "version": 3
   },
   "file_extension": ".py",
   "mimetype": "text/x-python",
   "name": "python",
   "nbconvert_exporter": "python",
   "pygments_lexer": "ipython3",
   "version": "3.9.16"
  }
 },
 "nbformat": 4,
 "nbformat_minor": 2
}

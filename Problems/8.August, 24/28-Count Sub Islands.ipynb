{
 "cells": [
  {
   "cell_type": "markdown",
   "metadata": {},
   "source": [
    "You are given two `m x n` binary matrices `grid1` and `grid2` containing only `0`'s (representing water) and `1`'s (representing land). An **island** is a group of `1`'s connected **4-directionally** (horizontal or vertical). Any cells outside of the grid are considered water cells.\n",
    "\n",
    "An island in `grid2` is considered a **sub-island** if there is an island in `grid1` that contains **all** the cells that make up **this** island in `grid2`.\n",
    "\n",
    "Return *the ***number*** of islands in* `grid2` *that are considered* ***sub-islands***.\n",
    "\n",
    "<br>\n",
    "\n",
    "**Example 1:**\n",
    "\n",
    "![test1](../../images/test1.png)\n",
    "\n",
    ">**Input:** grid1 = [[1,1,1,0,0],[0,1,1,1,1],[0,0,0,0,0],[1,0,0,0,0],[1,1,0,1,1]], grid2 = [[1,1,1,0,0],[0,0,1,1,1],[0,1,0,0,0],[1,0,1,1,0],[0,1,0,1,0]]<br>\n",
    ">**Output:** 3<br>\n",
    ">**Explanation:** In the picture above, the grid on the left is grid1 and the grid on the right is grid2.<br>\n",
    ">The 1s colored red in grid2 are those considered to be part of a sub-island. There are three sub-islands.\n",
    "\n",
    "**Example 2:**\n",
    "\n",
    "![testcasex2](../../images/testcasex2.png)\n",
    "\n",
    ">**Input:** grid1 = [[1,0,1,0,1],[1,1,1,1,1],[0,0,0,0,0],[1,1,1,1,1],[1,0,1,0,1]], grid2 = [[0,0,0,0,0],[1,1,1,1,1],[0,1,0,1,0],[0,1,0,1,0],[1,0,0,0,1]]<br>\n",
    ">**Output:** 2 <br>\n",
    ">**Explanation:** In the picture above, the grid on the left is grid1 and the grid on the right is grid2.<br>\n",
    ">The 1s colored red in grid2 are those considered to be part of a sub-island. There are two sub-islands.\n",
    "\n",
    "<br>\n",
    "\n",
    "**Constraints:**\n",
    "- >m == grid1.length == grid2.length\n",
    "- >n == grid1[i].length == grid2[i].length\n",
    "- >1 <= m, n <= 500\n",
    "- >grid1[i][j] and grid2[i][j] are either 0 or 1."
   ]
  },
  {
   "cell_type": "code",
   "execution_count": 1,
   "metadata": {},
   "outputs": [],
   "source": [
    "class Solution:\n",
    "    def countSubIslands(self, grid1: list[list[int]], grid2: list[list[int]]) -> int:\n",
    "        def dfs(i, j):\n",
    "            if i < 0 or i >= m or j < 0 or j >= n or grid2[i][j] == 0:\n",
    "                return True\n",
    "            \n",
    "            if grid1[i][j] == 0:\n",
    "                return False\n",
    "            \n",
    "            grid2[i][j] = 0\n",
    "            \n",
    "            result = True\n",
    "            result &= dfs(i+1, j)\n",
    "            result &= dfs(i-1, j)\n",
    "            result &= dfs(i, j+1)\n",
    "            result &= dfs(i, j-1)\n",
    "            \n",
    "            return result\n",
    "\n",
    "        m, n = len(grid1), len(grid2[0])\n",
    "        count = 0\n",
    "        \n",
    "        for i in range(m):\n",
    "            for j in range(n):\n",
    "                if grid2[i][j] == 1:\n",
    "                    if dfs(i, j):\n",
    "                        count += 1\n",
    "        \n",
    "        return count"
   ]
  }
 ],
 "metadata": {
  "kernelspec": {
   "display_name": "base",
   "language": "python",
   "name": "python3"
  },
  "language_info": {
   "codemirror_mode": {
    "name": "ipython",
    "version": 3
   },
   "file_extension": ".py",
   "mimetype": "text/x-python",
   "name": "python",
   "nbconvert_exporter": "python",
   "pygments_lexer": "ipython3",
   "version": "3.9.16"
  }
 },
 "nbformat": 4,
 "nbformat_minor": 2
}

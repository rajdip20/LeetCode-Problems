{
 "cells": [
  {
   "cell_type": "markdown",
   "metadata": {},
   "source": [
    "You are given an `m x n` integer matrix `points` (**0-indexed**). Starting with `0` points, you want to **maximize** the number of points you can get from the matrix.\n",
    "\n",
    "To gain points, you must pick one cell in **each row**. Picking the cell at coordinates `(r, c)` will add `points[r][c]` to your score.\n",
    "\n",
    "However, you will lose points if you pick a cell too far from the cell that you picked in the previous row. For every two adjacent rows `r` and `r + 1` (where `0 <= r < m - 1`), picking cells at coordinates **(r, c<sub>1</sub>)** and **(r + 1, c<sub>2</sub>)** will **subtract** **abs(c<sub>1</sub> - c<sub>2</sub>)** from your score.\n",
    "\n",
    "Return *the ***maximum*** number of points you can achieve*.\n",
    "\n",
    "`abs(x)` is defined as:\n",
    "- `x` for `x >= 0`.\n",
    "- `-x` for `x < 0`.\n",
    "\n",
    "<br>\n",
    "\n",
    "**Example 1:**\n",
    "\n",
    "![pic1](../../images/screenshot-2021-07-12-at-13-40-26-diagram-drawio-diagrams-net.png)\n",
    "\n",
    ">**Input:** points = [[1,2,3],[1,5,1],[3,1,1]]<br>\n",
    ">**Output:** 9<br>\n",
    ">**Explanation:**<br>\n",
    ">The blue cells denote the optimal cells to pick, which have coordinates (0, 2), (1, 1), and (2, 0).<br>\n",
    ">You add 3 + 5 + 3 = 11 to your score.<br>\n",
    ">However, you must subtract abs(2 - 1) + abs(1 - 0) = 2 from your score.<br>\n",
    ">Your final score is 11 - 2 = 9.\n",
    "\n",
    "**Example 2:**\n",
    "\n",
    "![pic2](../../images/screenshot-2021-07-12-at-13-42-14-diagram-drawio-diagrams-net.png)\n",
    "\n",
    ">**Input:** points = [[1,5],[2,3],[4,2]]<br>\n",
    ">**Output:** 11<br>\n",
    ">**Explanation:**<br>\n",
    ">The blue cells denote the optimal cells to pick, which have coordinates (0, 1), (1, 1), and (2, 0).<br>\n",
    ">You add 5 + 3 + 4 = 12 to your score.<br>\n",
    ">However, you must subtract abs(1 - 1) + abs(1 - 0) = 1 from your score.<br>\n",
    ">Your final score is 12 - 1 = 11.\n",
    "\n",
    "<br>\n",
    "\n",
    "**Constraints:**\n",
    "- >m == points.length\n",
    "- >n == points[r].length\n",
    "- >1 <= m, n <= 10<sup>5</sup>\n",
    "- >1 <= m * n <= 10<sup>5</sup>\n",
    "- >0 <= points[r][c] <= 10<sup>5</sup>"
   ]
  },
  {
   "cell_type": "code",
   "execution_count": 1,
   "metadata": {},
   "outputs": [],
   "source": [
    "class Solution:\n",
    "    def maxPoints(self, points: list[list[int]]) -> int:\n",
    "        m, n = len(points), len(points[0])\n",
    "        dp = points[0]\n",
    "        \n",
    "        for r in range(1, m):\n",
    "            left_max = [0] * n\n",
    "            right_max = [0] * n\n",
    "            \n",
    "            left_max[0] = dp[0]\n",
    "            for c in range(1, n):\n",
    "                left_max[c] = max(left_max[c - 1], dp[c] + c)\n",
    "            \n",
    "            right_max[-1] = dp[-1] - (n - 1)\n",
    "            for c in range(n - 2, -1, -1):\n",
    "                right_max[c] = max(right_max[c + 1], dp[c] - c)\n",
    "            \n",
    "            new_dp = [0] * n\n",
    "            for c in range(n):\n",
    "                new_dp[c] = points[r][c] + max(left_max[c] - c, right_max[c] + c)\n",
    "            \n",
    "            dp = new_dp\n",
    "        \n",
    "        return max(dp)"
   ]
  }
 ],
 "metadata": {
  "kernelspec": {
   "display_name": "base",
   "language": "python",
   "name": "python3"
  },
  "language_info": {
   "codemirror_mode": {
    "name": "ipython",
    "version": 3
   },
   "file_extension": ".py",
   "mimetype": "text/x-python",
   "name": "python",
   "nbconvert_exporter": "python",
   "pygments_lexer": "ipython3",
   "version": "3.9.16"
  }
 },
 "nbformat": 4,
 "nbformat_minor": 2
}

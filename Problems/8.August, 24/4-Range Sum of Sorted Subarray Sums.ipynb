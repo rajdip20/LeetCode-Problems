{
 "cells": [
  {
   "cell_type": "markdown",
   "metadata": {},
   "source": [
    "You are given the array `nums` consisting of `n` positive integers. You computed the sum of all non-empty continuous subarrays from the array and then sorted them in non-decreasing order, creating a new array of `n * (n + 1) / 2` numbers.\n",
    "\n",
    "*Return the sum of the numbers from index* `left` *to index* `right` (**indexed from 1**), *inclusive, in the new array*. Since the answer can be a huge number return it modulo **10<sup>9</sup> + 7**.\n",
    "\n",
    "<br>\n",
    "\n",
    "**Example 1:**\n",
    ">**Input:** nums = [1,2,3,4], n = 4, left = 1, right = 5<br>\n",
    ">**Output:** 13 <br>\n",
    ">**Explanation:** All subarray sums are 1, 3, 6, 10, 2, 5, 9, 3, 7, 4. After sorting them in non-decreasing order we have the new array [1, 2, 3, 3, 4, 5, 6, 7, 9, 10]. The sum of the numbers from index le = 1 to ri = 5 is 1 + 2 + 3 + 3 + 4 = 13. \n",
    "\n",
    "**Example 2:**\n",
    ">**Input:** nums = [1,2,3,4], n = 4, left = 3, right = 4<br>\n",
    ">**Output:** 6<br>\n",
    ">**Explanation:** The given array is the same as example 1. We have the new array [1, 2, 3, 3, 4, 5, 6, 7, 9, 10]. The sum of the numbers from index le = 3 to ri = 4 is 3 + 3 = 6.\n",
    "\n",
    "**Example 3:**\n",
    ">**Input:** nums = [1,2,3,4], n = 4, left = 1, right = 10<br>\n",
    ">**Output:** 50\n",
    "\n",
    "<br>\n",
    "\n",
    "**Constraints:**\n",
    "- >n == nums.length\n",
    "- >1 <= nums.length <= 1000\n",
    "- >1 <= nums[i] <= 100\n",
    "- >1 <= left <= right <= n * (n + 1) / 2"
   ]
  },
  {
   "cell_type": "code",
   "execution_count": 1,
   "metadata": {},
   "outputs": [],
   "source": [
    "class Solution:\n",
    "    def rangeSum(self, nums: list[int], n: int, left: int, right: int) -> int:\n",
    "        MOD = 10**9 + 7\n",
    "        n = len(nums)\n",
    "        subarray_sums = []\n",
    "\n",
    "        for i in range(n):\n",
    "            current_sum = 0\n",
    "            for j in range(i, n):\n",
    "                current_sum += nums[j]\n",
    "                subarray_sums.append(current_sum)\n",
    "\n",
    "        subarray_sums.sort()\n",
    "        result = sum(subarray_sums[left-1:right]) % MOD\n",
    "\n",
    "        return result"
   ]
  }
 ],
 "metadata": {
  "kernelspec": {
   "display_name": "base",
   "language": "python",
   "name": "python3"
  },
  "language_info": {
   "codemirror_mode": {
    "name": "ipython",
    "version": 3
   },
   "file_extension": ".py",
   "mimetype": "text/x-python",
   "name": "python",
   "nbconvert_exporter": "python",
   "pygments_lexer": "ipython3",
   "version": "3.9.16"
  }
 },
 "nbformat": 4,
 "nbformat_minor": 2
}

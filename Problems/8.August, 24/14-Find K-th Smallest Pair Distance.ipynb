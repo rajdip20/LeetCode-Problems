{
 "cells": [
  {
   "cell_type": "markdown",
   "metadata": {},
   "source": [
    "The **distance of a pair** of integers `a` and `b` is defined as the absolute difference between `a` and `b`.\n",
    "\n",
    "Given an integer array `nums` and an integer `k`, return *the* **k<sup>th</sup>** *smallest* ***distance among all the pairs*** `nums[i]` *and* `nums[j]` *where* `0 <= i < j < nums.length`.\n",
    "\n",
    "\n",
    "\n",
    "**Example 1:**\n",
    ">**Input:** nums = [1,3,1], k = 1<br>\n",
    ">**Output:** 0<br>\n",
    ">**Explanation:** Here are all the pairs:<br>\n",
    ">(1,3) -> 2<br>\n",
    ">(1,1) -> 0<br>\n",
    ">(3,1) -> 2<br>\n",
    ">Then the 1<sup>st</sup> smallest distance pair is (1,1), and its distance is 0.\n",
    "\n",
    "**Example 2:**\n",
    ">**Input:** nums = [1,1,1], k = 2<br>\n",
    ">**Output:** 0\n",
    "\n",
    "**Example 3:**\n",
    ">**Input:** nums = [1,6,1], k = 3<br>\n",
    ">**Output:** 5\n",
    "\n",
    "\n",
    "\n",
    "**Constraints:**\n",
    "- >n == nums.length\n",
    "- >2 <= n <= 10<sup>4</sup>\n",
    "- >0 <= nums[i] <= 10<sup>6</sup>\n",
    "- >1 <= k <= n * (n - 1) / 2"
   ]
  },
  {
   "cell_type": "code",
   "execution_count": 1,
   "metadata": {},
   "outputs": [],
   "source": [
    "class Solution:\n",
    "    def smallestDistancePair(self, nums: list[int], k: int) -> int:\n",
    "        def count_pairs_with_distance_lte(nums, distance):\n",
    "            count = 0\n",
    "            left = 0\n",
    "            for right in range(len(nums)):\n",
    "                while nums[right] - nums[left] > distance:\n",
    "                    left += 1\n",
    "                count += right - left\n",
    "            return count\n",
    "        \n",
    "        nums.sort()\n",
    "        low, high = 0, nums[-1] - nums[0]\n",
    "        \n",
    "        while low < high:\n",
    "            mid = (low + high) // 2\n",
    "            if count_pairs_with_distance_lte(nums, mid) >= k:\n",
    "                high = mid\n",
    "            else:\n",
    "                low = mid + 1\n",
    "        \n",
    "        return low"
   ]
  }
 ],
 "metadata": {
  "kernelspec": {
   "display_name": "base",
   "language": "python",
   "name": "python3"
  },
  "language_info": {
   "codemirror_mode": {
    "name": "ipython",
    "version": 3
   },
   "file_extension": ".py",
   "mimetype": "text/x-python",
   "name": "python",
   "nbconvert_exporter": "python",
   "pygments_lexer": "ipython3",
   "version": "3.9.16"
  }
 },
 "nbformat": 4,
 "nbformat_minor": 2
}

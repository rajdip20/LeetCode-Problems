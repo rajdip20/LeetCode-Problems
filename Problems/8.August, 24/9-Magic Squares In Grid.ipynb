{
 "cells": [
  {
   "cell_type": "markdown",
   "metadata": {},
   "source": [
    "A `3 x 3` **magic square** is a `3 x 3` grid filled with distinct numbers **from** 1 **to** 9 such that each row, column, and both diagonals all have the same sum.\n",
    "\n",
    "Given a `row x col` `grid` of integers, how many `3 x 3` contiguous magic square subgrids are there?\n",
    "\n",
    "Note: while a magic square can only contain numbers from 1 to 9, `grid` may contain numbers up to 15.\n",
    "\n",
    "<br>\n",
    "\n",
    "**Example 1:**\n",
    "\n",
    "![magic_main](../../images/magic_main.jpg)\n",
    "\n",
    ">**Input:** grid = [[4,3,8,4],[9,5,1,9],[2,7,6,2]]<br>\n",
    ">**Output:** 1<br>\n",
    ">**Explanation:** <br>\n",
    ">The following subgrid is a 3 x 3 magic square:<br>\n",
    ">![magic_valid](../../images/magic_valid.jpg)<br>\n",
    ">while this one is not:<br>\n",
    ">![magic_invalid](../../images/magic_invalid.jpg)<br>\n",
    ">In total, there is only one magic square inside the given grid.\n",
    "\n",
    "**Example 2:**\n",
    ">**Input:** grid = [[8]]<br>\n",
    ">**Output:** 0\n",
    "\n",
    "<br>\n",
    "\n",
    "**Constraints:**\n",
    "- >row == grid.length\n",
    "- >col == grid[i].length\n",
    "- >1 <= row, col <= 10\n",
    "- >0 <= grid[i][j] <= 15"
   ]
  },
  {
   "cell_type": "code",
   "execution_count": 1,
   "metadata": {},
   "outputs": [],
   "source": [
    "class Solution:\n",
    "    def numMagicSquaresInside(self, grid: list[list[int]]) -> int:\n",
    "        def is_magic_square(grid, r, c):\n",
    "            nums = set()\n",
    "            for i in range(3):\n",
    "                for j in range(3):\n",
    "                    nums.add(grid[r + i][c + j])\n",
    "            \n",
    "            if nums != {1, 2, 3, 4, 5, 6, 7, 8, 9}:\n",
    "                return False\n",
    "            \n",
    "            sum1 = grid[r][c] + grid[r][c+1] + grid[r][c+2]\n",
    "            sum2 = grid[r+1][c] + grid[r+1][c+1] + grid[r+1][c+2]\n",
    "            sum3 = grid[r+2][c] + grid[r+2][c+1] + grid[r+2][c+2]\n",
    "            \n",
    "            sum4 = grid[r][c] + grid[r+1][c] + grid[r+2][c]\n",
    "            sum5 = grid[r][c+1] + grid[r+1][c+1] + grid[r+2][c+1]\n",
    "            sum6 = grid[r][c+2] + grid[r+1][c+2] + grid[r+2][c+2]\n",
    "            \n",
    "            sum7 = grid[r][c] + grid[r+1][c+1] + grid[r+2][c+2]\n",
    "            sum8 = grid[r][c+2] + grid[r+1][c+1] + grid[r+2][c]\n",
    "            \n",
    "            return sum1 == sum2 == sum3 == sum4 == sum5 == sum6 == sum7 == sum8 == 15\n",
    "        \n",
    "        rows = len(grid)\n",
    "        cols = len(grid[0])\n",
    "        count = 0\n",
    "        \n",
    "        for r in range(rows - 2):\n",
    "            for c in range(cols - 2):\n",
    "                if grid[r+1][c+1] == 5 and is_magic_square(grid, r, c):\n",
    "                    count += 1\n",
    "        \n",
    "        return count"
   ]
  }
 ],
 "metadata": {
  "kernelspec": {
   "display_name": "base",
   "language": "python",
   "name": "python3"
  },
  "language_info": {
   "codemirror_mode": {
    "name": "ipython",
    "version": 3
   },
   "file_extension": ".py",
   "mimetype": "text/x-python",
   "name": "python",
   "nbconvert_exporter": "python",
   "pygments_lexer": "ipython3",
   "version": "3.9.16"
  }
 },
 "nbformat": 4,
 "nbformat_minor": 2
}

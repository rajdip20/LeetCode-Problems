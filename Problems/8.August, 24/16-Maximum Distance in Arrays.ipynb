{
 "cells": [
  {
   "cell_type": "markdown",
   "metadata": {},
   "source": [
    "You are given `m` `arrays`, where each array is sorted in **ascending order**.\n",
    "\n",
    "You can pick up two integers from two different arrays (each array picks one) and calculate the distance. We define the distance between two integers `a` and `b` to be their absolute difference `|a - b|`.\n",
    "\n",
    "Return *the maximum distance*.\n",
    "\n",
    "<br>\n",
    "\n",
    "**Example 1:**\n",
    ">**Input:** arrays = [[1,2,3],[4,5],[1,2,3]]<br>\n",
    ">**Output:** 4<br>\n",
    ">**Explanation:** One way to reach the maximum distance 4 is to pick 1 in the first or third array and pick 5 in the second array.\n",
    "\n",
    "**Example 2:**\n",
    ">**Input:** arrays = [[1],[1]]<br>\n",
    ">**Output:** 0\n",
    "\n",
    "<br>\n",
    "\n",
    "**Constraints:**\n",
    "- >m == arrays.length\n",
    "- >2 <= m <= 10<sup>5</sup>\n",
    "- >1 <= arrays[i].length <= 500\n",
    "- >-10<sup>4</sup> <= arrays[i][j] <= 10<sup>4</sup>\n",
    "- >arrays[i] is sorted in **ascending order**.\n",
    "- >There will be at most 10<sup>5</sup> integers in all the arrays."
   ]
  },
  {
   "cell_type": "code",
   "execution_count": 1,
   "metadata": {},
   "outputs": [],
   "source": [
    "class Solution:\n",
    "    def maxDistance(self, arrays: list[list[int]]) -> int:\n",
    "        current_min = arrays[0][0]\n",
    "        current_max = arrays[0][-1]\n",
    "        max_dist = 0\n",
    "        \n",
    "        for i in range(1, len(arrays)):\n",
    "            max_dist = max(max_dist, abs(arrays[i][-1] - current_min), abs(arrays[i][0] - current_max))\n",
    "            \n",
    "            current_min = min(current_min, arrays[i][0])\n",
    "            current_max = max(current_max, arrays[i][-1])\n",
    "        \n",
    "        return max_dist"
   ]
  }
 ],
 "metadata": {
  "kernelspec": {
   "display_name": "base",
   "language": "python",
   "name": "python3"
  },
  "language_info": {
   "codemirror_mode": {
    "name": "ipython",
    "version": 3
   },
   "file_extension": ".py",
   "mimetype": "text/x-python",
   "name": "python",
   "nbconvert_exporter": "python",
   "pygments_lexer": "ipython3",
   "version": "3.9.16"
  }
 },
 "nbformat": 4,
 "nbformat_minor": 2
}

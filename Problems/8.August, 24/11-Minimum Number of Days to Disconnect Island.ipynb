{
 "cells": [
  {
   "cell_type": "markdown",
   "metadata": {},
   "source": [
    "You are given an `m x n` binary grid `grid` where `1` represents land and `0` represents water. An **island** is a maximal **4-directionally** (horizontal or vertical) connected group of `1`'s.\n",
    "\n",
    "The grid is said to be **connected** if we have **exactly one island**, otherwise is said **disconnected**.\n",
    "\n",
    "In one day, we are allowed to change **any** single land cell `(1)` into a water cell `(0)`.\n",
    "\n",
    "Return *the minimum number of days to disconnect the grid*.\n",
    "\n",
    "<br>\n",
    "\n",
    "**Example 1:**\n",
    "\n",
    "![land1](../../images/land1.jpg)\n",
    "\n",
    ">**Input:** grid = [[0,1,1,0],[0,1,1,0],[0,0,0,0]]<br>\n",
    ">**Output:** 2<br>\n",
    ">**Explanation:** We need at least 2 days to get a disconnected grid.<br>\n",
    ">Change land grid[1][1] and grid[0][2] to water and get 2 disconnected island.\n",
    "\n",
    "**Example 2:**\n",
    "\n",
    "![land2](../../images/land2.jpg)\n",
    "\n",
    ">**Input:** grid = [[1,1]]<br>\n",
    ">**Output:** 2<br>\n",
    ">**Explanation:** Grid of full water is also disconnected ([[1,1]] -> [[0,0]]), 0 islands.\n",
    "\n",
    "<br>\n",
    "\n",
    "**Constraints:**\n",
    "- >m == grid.length\n",
    "- >n == grid[i].length\n",
    "- >1 <= m, n <= 30\n",
    "- >grid[i][j] is either 0 or 1."
   ]
  },
  {
   "cell_type": "code",
   "execution_count": 1,
   "metadata": {},
   "outputs": [],
   "source": [
    "class Solution:\n",
    "    def minDays(self, grid: list[list[int]]) -> int:\n",
    "        def isConnected(grid):\n",
    "            def dfs(x, y):\n",
    "                if x < 0 or y < 0 or x >= len(grid) or y >= len(grid[0]) or grid[x][y] == 0:\n",
    "                    return\n",
    "                grid[x][y] = 0\n",
    "                for dx, dy in [(1, 0), (-1, 0), (0, 1), (0, -1)]:\n",
    "                    dfs(x + dx, y + dy)\n",
    "\n",
    "            land_found = False\n",
    "            for i in range(len(grid)):\n",
    "                for j in range(len(grid[0])):\n",
    "                    if grid[i][j] == 1:\n",
    "                        if land_found:\n",
    "                            return False\n",
    "                        dfs(i, j)\n",
    "                        land_found = True\n",
    "            return land_found\n",
    "\n",
    "        if not isConnected([row[:] for row in grid]):\n",
    "            return 0\n",
    "        \n",
    "        for i in range(len(grid)):\n",
    "            for j in range(len(grid[0])):\n",
    "                if grid[i][j] == 1:\n",
    "                    grid[i][j] = 0\n",
    "                    if not isConnected([row[:] for row in grid]):\n",
    "                        return 1\n",
    "                    grid[i][j] = 1\n",
    "        \n",
    "        return 2"
   ]
  }
 ],
 "metadata": {
  "kernelspec": {
   "display_name": "base",
   "language": "python",
   "name": "python3"
  },
  "language_info": {
   "codemirror_mode": {
    "name": "ipython",
    "version": 3
   },
   "file_extension": ".py",
   "mimetype": "text/x-python",
   "name": "python",
   "nbconvert_exporter": "python",
   "pygments_lexer": "ipython3",
   "version": "3.9.16"
  }
 },
 "nbformat": 4,
 "nbformat_minor": 2
}

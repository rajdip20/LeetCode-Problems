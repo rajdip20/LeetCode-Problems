{
 "cells": [
  {
   "cell_type": "markdown",
   "metadata": {},
   "source": [
    "Given the `root` of a binary tree, return *the postorder traversal of its nodes' values*.\n",
    "\n",
    "<br>\n",
    "\n",
    "**Example 1:**\n",
    "\n",
    "![pre1](../../images/pre1.jpg)\n",
    "\n",
    ">**Input:** root = [1,null,2,3]<br>\n",
    ">**Output:** [3,2,1]\n",
    "\n",
    "**Example 2:**\n",
    ">**Input:** root = []<br>\n",
    ">**Output:** []\n",
    "\n",
    "**Example 3:**\n",
    ">**Input:** root = [1]<br>\n",
    ">**Output:** [1]\n",
    "\n",
    "<br>\n",
    "\n",
    "**Constraints:**\n",
    "- >The number of the nodes in the tree is in the range [0, 100].\n",
    "- >-100 <= Node.val <= 100\n",
    "\n",
    "<br><br>\n",
    "\n",
    "**Follow up:** Recursive solution is trivial, could you do it iteratively?"
   ]
  },
  {
   "cell_type": "code",
   "execution_count": 1,
   "metadata": {},
   "outputs": [],
   "source": [
    "# Definition for a binary tree node.\n",
    "# class TreeNode:\n",
    "#     def __init__(self, val=0, left=None, right=None):\n",
    "#         self.val = val\n",
    "#         self.left = left\n",
    "#         self.right = right\n",
    "class Solution:\n",
    "    def postorderTraversal(self, root) -> list[int]:\n",
    "        if not root:\n",
    "            return []\n",
    "        \n",
    "        stack = [root]\n",
    "        postorder = []\n",
    "        \n",
    "        while stack:\n",
    "            current = stack.pop()\n",
    "            postorder.append(current.val)\n",
    "            \n",
    "            if current.left:\n",
    "                stack.append(current.left)\n",
    "            if current.right:\n",
    "                stack.append(current.right)\n",
    "        \n",
    "        return postorder[::-1]"
   ]
  }
 ],
 "metadata": {
  "kernelspec": {
   "display_name": "base",
   "language": "python",
   "name": "python3"
  },
  "language_info": {
   "codemirror_mode": {
    "name": "ipython",
    "version": 3
   },
   "file_extension": ".py",
   "mimetype": "text/x-python",
   "name": "python",
   "nbconvert_exporter": "python",
   "pygments_lexer": "ipython3",
   "version": "3.9.16"
  }
 },
 "nbformat": 4,
 "nbformat_minor": 2
}

{
 "cells": [
  {
   "cell_type": "markdown",
   "metadata": {},
   "source": [
    "You are given two integer arrays of equal length `target` and `arr`. In one step, you can select any **non-empty subarray** of `arr` and reverse it. You are allowed to make any number of steps.\n",
    "\n",
    "Return `true` *if you can make* `arr` *equal to* `target` *or* `false` *otherwise*.\n",
    "\n",
    "<br>\n",
    "\n",
    "**Example 1:**\n",
    ">**Input:** target = [1,2,3,4], arr = [2,4,1,3]<br>\n",
    ">**Output:** true<br>\n",
    ">**Explanation:** You can follow the next steps to convert arr to target:<br>\n",
    ">1- Reverse subarray [2,4,1], arr becomes [1,4,2,3]<br>\n",
    ">2- Reverse subarray [4,2], arr becomes [1,2,4,3]<br>\n",
    ">3- Reverse subarray [4,3], arr becomes [1,2,3,4]<br>\n",
    ">There are multiple ways to convert arr to target, this is not the only way to do so.\n",
    "\n",
    "**Example 2:**\n",
    ">**Input:** target = [7], arr = [7]<br>\n",
    ">**Output:** true<br>\n",
    ">**Explanation:** arr is equal to target without any reverses.\n",
    "\n",
    "**Example 3:**\n",
    ">**Input:** target = [3,7,9], arr = [3,7,11]<br>\n",
    ">**Output:** false<br>\n",
    ">**Explanation:** arr does not have value 9 and it can never be converted to target.\n",
    "\n",
    "<br>\n",
    "\n",
    "**Constraints:**\n",
    "- >target.length == arr.length\n",
    "- >1 <= target.length <= 1000\n",
    "- >1 <= target[i] <= 1000\n",
    "- >1 <= arr[i] <= 1000"
   ]
  },
  {
   "cell_type": "code",
   "execution_count": 1,
   "metadata": {},
   "outputs": [],
   "source": [
    "class Solution:\n",
    "    def canBeEqual(self, target: list[int], arr: list[int]) -> bool:\n",
    "        target.sort()\n",
    "        arr.sort()\n",
    "\n",
    "        return target == arr"
   ]
  }
 ],
 "metadata": {
  "kernelspec": {
   "display_name": "base",
   "language": "python",
   "name": "python3"
  },
  "language_info": {
   "codemirror_mode": {
    "name": "ipython",
    "version": 3
   },
   "file_extension": ".py",
   "mimetype": "text/x-python",
   "name": "python",
   "nbconvert_exporter": "python",
   "pygments_lexer": "ipython3",
   "version": "3.9.16"
  }
 },
 "nbformat": 4,
 "nbformat_minor": 2
}

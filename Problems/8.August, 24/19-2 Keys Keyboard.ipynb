{
 "cells": [
  {
   "cell_type": "markdown",
   "metadata": {},
   "source": [
    "There is only one character `'A'` on the screen of a notepad. You can perform one of two operations on this notepad for each step:\n",
    "- Copy All: You can copy all the characters present on the screen (a partial copy is not allowed).\n",
    "- Paste: You can paste the characters which are copied last time.\n",
    "\n",
    "Given an integer `n`, return *the minimum number of operations to get the character* `'A'` *exactly* `n` *times on the screen*.\n",
    "\n",
    "<br>\n",
    "\n",
    "**Example 1:**\n",
    ">**Input:** n = 3<br>\n",
    ">**Output:** 3<br>\n",
    ">**Explanation:** Initially, we have one character 'A'.<br>\n",
    ">In step 1, we use Copy All operation.<br>\n",
    ">In step 2, we use Paste operation to get 'AA'.<br>\n",
    ">In step 3, we use Paste operation to get 'AAA'.\n",
    "\n",
    "**Example 2:**\n",
    ">**Input:** n = 1<br>\n",
    ">**Output:** 0\n",
    " \n",
    "<br>\n",
    "\n",
    "**Constraints:**\n",
    "- >1 <= n <= 1000"
   ]
  },
  {
   "cell_type": "code",
   "execution_count": 1,
   "metadata": {},
   "outputs": [],
   "source": [
    "class Solution:\n",
    "    def minSteps(self, n: int) -> int:\n",
    "        dp = [0] * (n + 1)\n",
    "    \n",
    "        for i in range(2, n + 1):\n",
    "            dp[i] = i\n",
    "            for j in range(1, i // 2 + 1):\n",
    "                if i % j == 0:\n",
    "                    dp[i] = min(dp[i], dp[j] + (i // j))\n",
    "        \n",
    "        return dp[n]"
   ]
  }
 ],
 "metadata": {
  "kernelspec": {
   "display_name": "base",
   "language": "python",
   "name": "python3"
  },
  "language_info": {
   "codemirror_mode": {
    "name": "ipython",
    "version": 3
   },
   "file_extension": ".py",
   "mimetype": "text/x-python",
   "name": "python",
   "nbconvert_exporter": "python",
   "pygments_lexer": "ipython3",
   "version": "3.9.16"
  }
 },
 "nbformat": 4,
 "nbformat_minor": 2
}

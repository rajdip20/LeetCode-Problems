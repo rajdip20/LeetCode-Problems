{
 "cells": [
  {
   "cell_type": "markdown",
   "metadata": {},
   "source": [
    "A **swap** is defined as taking two **distinct** positions in an array and swapping the values in them.\n",
    "\n",
    "A **circular** array is defined as an array where we consider the **first** element and the **last** element to be **adjacent**.\n",
    "\n",
    "Given a **binary circular** array `nums`, return *the minimum number of swaps required to group all* `1`*'s present in the array together at* ***any location***.\n",
    "\n",
    "<br>\n",
    "\n",
    "**Example 1:**\n",
    ">**Input:** nums = [0,1,0,1,1,0,0]<br>\n",
    ">**Output:** 1<br>\n",
    ">**Explanation:** Here are a few of the ways to group all the 1's together:<br>\n",
    ">[0,0,1,1,1,0,0] using 1 swap.<br>\n",
    ">[0,1,1,1,0,0,0] using 1 swap.<br>\n",
    ">[1,1,0,0,0,0,1] using 2 swaps (using the circular property of the array).<br>\n",
    ">There is no way to group all 1's together with 0 swaps.<br>\n",
    ">Thus, the minimum number of swaps required is 1.\n",
    "\n",
    "**Example 2:**\n",
    ">**Input:** nums = [0,1,1,1,0,0,1,1,0]<br>\n",
    ">**Output:** 2<br>\n",
    ">**Explanation:** Here are a few of the ways to group all the 1's together:<br>\n",
    ">[1,1,1,0,0,0,0,1,1] using 2 swaps (using the circular property of the array).<br>\n",
    ">[1,1,1,1,1,0,0,0,0] using 2 swaps.<br>\n",
    ">There is no way to group all 1's together with 0 or 1 swaps.<br>\n",
    ">Thus, the minimum number of swaps required is 2.\n",
    "\n",
    "**Example 3:**\n",
    ">**Input:** nums = [1,1,0,0,1]<br>\n",
    ">**Output:** 0<br>\n",
    ">**Explanation:** All the 1's are already grouped together due to the circular property of the array.<br>\n",
    ">Thus, the minimum number of swaps required is 0.\n",
    "\n",
    "<br>\n",
    "\n",
    "**Constraints:**\n",
    "- >1 <= nums.length <= 10<sup>5</sup>\n",
    "- >nums[i] is either 0 or 1."
   ]
  },
  {
   "cell_type": "code",
   "execution_count": 1,
   "metadata": {},
   "outputs": [],
   "source": [
    "class Solution:\n",
    "    def minSwaps(self, nums: list[int]) -> int:\n",
    "        total_ones = sum(nums)\n",
    "        n = len(nums)\n",
    "        \n",
    "        if total_ones == 0 or total_ones == n:\n",
    "            return 0\n",
    "        \n",
    "        extended_nums = nums + nums\n",
    "        current_zeros = total_ones - sum(extended_nums[:total_ones])\n",
    "        min_swaps = current_zeros\n",
    "        \n",
    "        for i in range(1, n):\n",
    "            if extended_nums[i-1] == 0:\n",
    "                current_zeros -= 1\n",
    "            if extended_nums[i+total_ones-1] == 0:\n",
    "                current_zeros += 1\n",
    "            min_swaps = min(min_swaps, current_zeros)\n",
    "        \n",
    "        return min_swaps"
   ]
  }
 ],
 "metadata": {
  "kernelspec": {
   "display_name": "base",
   "language": "python",
   "name": "python3"
  },
  "language_info": {
   "codemirror_mode": {
    "name": "ipython",
    "version": 3
   },
   "file_extension": ".py",
   "mimetype": "text/x-python",
   "name": "python",
   "nbconvert_exporter": "python",
   "pygments_lexer": "ipython3",
   "version": "3.9.16"
  }
 },
 "nbformat": 4,
 "nbformat_minor": 2
}

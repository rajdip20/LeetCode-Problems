{
 "cells": [
  {
   "cell_type": "markdown",
   "metadata": {},
   "source": [
    "You are given an array of strings `tokens` that represents an arithmetic expression in a [Reverse Polish Notation](http://en.wikipedia.org/wiki/Reverse_Polish_notation).\n",
    "\n",
    "Evaluate the expression. Return *an integer that represents the value of the expression*.\n",
    "\n",
    "**Note** that:\n",
    "- The valid operators are `'+'`, `'-'`, `'*'`, and `'/'`.\n",
    "- Each operand may be an integer or another expression.\n",
    "- The division between two integers always **truncates toward zero**.\n",
    "- There will not be any division by zero.\n",
    "- The input represents a valid arithmetic expression in a reverse polish notation.\n",
    "- The answer and all the intermediate calculations can be represented in a **32-bit** integer.\n",
    "\n",
    "<br> \n",
    "\n",
    "**Example 1:**\n",
    ">**Input:** tokens = [\"2\",\"1\",\"+\",\"3\",\"*\"]<br>\n",
    ">**Output:** 9<br>\n",
    ">**Explanation:** ((2 + 1) * 3) = 9\n",
    "\n",
    "\n",
    "**Example 2:**\n",
    ">**Input:** tokens = [\"4\",\"13\",\"5\",\"/\",\"+\"]<br>\n",
    ">**Output:** 6<br>\n",
    ">**Explanation:** (4 + (13 / 5)) = 6\n",
    "\n",
    "\n",
    "**Example 3:**\n",
    ">**Input:** tokens = [\"10\",\"6\",\"9\",\"3\",\"+\",\"-11\",\"*\",\"/\",\"*\",\"17\",\"+\",\"5\",\"+\"]<br>\n",
    ">**Output:** 22<br>\n",
    ">**Explanation:** ((10 * (6 / ((9 + 3) * -11))) + 17) + 5<br>\n",
    ">= ((10 * (6 / (12 * -11))) + 17) + 5<br>\n",
    ">= ((10 * (6 / -132)) + 17) + 5<br>\n",
    ">= ((10 * 0) + 17) + 5<br>\n",
    ">= (0 + 17) + 5<br>\n",
    ">= 17 + 5<br>\n",
    ">= 22\n",
    " \n",
    "<br>\n",
    "\n",
    "**Constraints:**\n",
    "\n",
    "- >1 <= tokens.length <= 10<sup>4</sup>\n",
    "- >tokens[i] is either an operator: \"+\", \"-\", \"*\", or \"/\", or an integer in the range [-200, 200]."
   ]
  },
  {
   "cell_type": "code",
   "execution_count": 1,
   "metadata": {},
   "outputs": [],
   "source": [
    "class Solution:\n",
    "    def evalRPN(self, tokens: list[str]) -> int:\n",
    "        stack = []\n",
    "\n",
    "        for token in tokens:\n",
    "            if token.isdigit() or (token[0] == '-' and token[1:].isdigit()):\n",
    "                stack.append(int(token))\n",
    "\n",
    "            else:\n",
    "                operand2 = stack.pop()\n",
    "                operand1 = stack.pop()\n",
    "\n",
    "                if token == '+':\n",
    "                    result = operand1 + operand2\n",
    "                elif token == '-':\n",
    "                    result = operand1 - operand2\n",
    "                elif token == '*':\n",
    "                    result = operand1 * operand2\n",
    "                elif token == '/':\n",
    "                    result = int(operand1 / operand2)\n",
    "\n",
    "                stack.append(result)\n",
    "            \n",
    "        return stack[0]"
   ]
  }
 ],
 "metadata": {
  "kernelspec": {
   "display_name": "base",
   "language": "python",
   "name": "python3"
  },
  "language_info": {
   "codemirror_mode": {
    "name": "ipython",
    "version": 3
   },
   "file_extension": ".py",
   "mimetype": "text/x-python",
   "name": "python",
   "nbconvert_exporter": "python",
   "pygments_lexer": "ipython3",
   "version": "3.9.16"
  }
 },
 "nbformat": 4,
 "nbformat_minor": 2
}

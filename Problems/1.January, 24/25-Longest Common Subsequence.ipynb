{
 "cells": [
  {
   "cell_type": "markdown",
   "metadata": {},
   "source": [
    "Given two strings `text1` and `text2`, return *the length of their longest ***common subsequence***.* If there is no ***common subsequence***, return `0`.\n",
    "\n",
    "A **subsequence** of a string is a new string generated from the original string with some characters (can be none) deleted without changing the relative order of the remaining characters.\n",
    "\n",
    "- For example, `\"ace\"` is a subsequence of `\"abcde\"`.\n",
    "\n",
    "A **common subsequence** of two strings is a subsequence that is common to both strings.\n",
    "\n",
    "<br>\n",
    "\n",
    "**Example 1:**\n",
    ">**Input:** text1 = \"abcde\", text2 = \"ace\" <br>\n",
    ">**Output:** 3  <br>\n",
    ">**Explanation:** The longest common subsequence is \"ace\" and its length is 3.\n",
    "\n",
    "**Example 2:**\n",
    ">**Input:** text1 = \"abc\", text2 = \"abc\"<br>\n",
    ">**Output:** 3<br>\n",
    ">**Explanation:** The longest common subsequence is \"abc\" and its length is 3.\n",
    "\n",
    "**Example 3:**\n",
    ">**Input:** text1 = \"abc\", text2 = \"def\"<br>\n",
    ">**Output:** 0<br>\n",
    ">**Explanation:** There is no such common subsequence, so the result is 0.\n",
    " \n",
    "<br>\n",
    "\n",
    "**Constraints:**\n",
    "- >1 <= text1.length, text2.length <= 1000\n",
    "- >text1 and text2 consist of only lowercase English characters."
   ]
  },
  {
   "cell_type": "code",
   "execution_count": 1,
   "metadata": {},
   "outputs": [],
   "source": [
    "class Solution:\n",
    "    def longestCommonSubsequence(self, text1: str, text2: str) -> int:\n",
    "        m, n = len(text1), len(text2)\n",
    "\n",
    "        dp = [[0] * (n + 1) for _ in range(m + 1)]\n",
    "\n",
    "        for i in range(1, m + 1):\n",
    "            for j in range(1, n + 1):\n",
    "                \n",
    "                if text1[i - 1] == text2[j - 1]:\n",
    "                    dp[i][j] = dp[i - 1][j - 1] + 1\n",
    "                else:\n",
    "                    dp[i][j] = max(dp[i - 1][j], dp[i][j - 1])\n",
    "        \n",
    "        return dp[m][n]"
   ]
  }
 ],
 "metadata": {
  "kernelspec": {
   "display_name": "base",
   "language": "python",
   "name": "python3"
  },
  "language_info": {
   "codemirror_mode": {
    "name": "ipython",
    "version": 3
   },
   "file_extension": ".py",
   "mimetype": "text/x-python",
   "name": "python",
   "nbconvert_exporter": "python",
   "pygments_lexer": "ipython3",
   "version": "3.9.16"
  }
 },
 "nbformat": 4,
 "nbformat_minor": 2
}

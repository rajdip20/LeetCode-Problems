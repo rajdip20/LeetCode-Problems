{
 "cells": [
  {
   "cell_type": "markdown",
   "metadata": {},
   "source": [
    "Assume you are an awesome parent and want to give your children some cookies. But, you should give each child at most one cookie.\n",
    "\n",
    "Each child `i` has a greed factor `g[i]`, which is the minimum size of a cookie that the child will be content with; and each cookie `j` has a size `s[j]`. If `s[j] >= g[i]`, we can assign the cookie `j` to the child `i`, and the child `i` will be content. Your goal is to maximize the number of your content children and output the maximum number.\n",
    "\n",
    " \n",
    "\n",
    "**Example 1:**\n",
    "\n",
    "> **Input:** g = [1,2,3], s = [1,1]<br>\n",
    "> **Output:** 1<br>\n",
    "> **Explanation:** You have 3 children and 2 cookies. The greed factors of 3 children are 1, 2, 3.<br>\n",
    "And even though you have 2 cookies, since their size is both 1, you could only make the child whose greed factor is 1 content.<br>\n",
    "You need to output 1.\n",
    "\n",
    "**Example 2:**\n",
    "\n",
    "> **Input:** g = [1,2], s = [1,2,3]<br>\n",
    "> **Output:** 2<br>\n",
    "> **Explanation:** You have 2 children and 3 cookies. The greed factors of 2 children are 1, 2. <br>\n",
    "You have 3 cookies and their sizes are big enough to gratify all of the children, <br>\n",
    "You need to output 2.\n",
    " \n",
    "\n",
    "**Constraints:**\n",
    "\n",
    "* >1 <= g.length <= 3 * 10<sup>4</sup>\n",
    "* >0 <= s.length <= 3 * 10<sup>4</sup>\n",
    "* >1 <= g[i], s[j] <= 2<sup>31</sup> - 1"
   ]
  },
  {
   "cell_type": "code",
   "execution_count": 1,
   "metadata": {},
   "outputs": [],
   "source": [
    "class Solution:\n",
    "    def findContentChildren(self, g: list[int], s: list[int]) -> int:\n",
    "        g.sort()\n",
    "        s.sort()\n",
    "        children = 0\n",
    "        cookie = 0\n",
    "        while cookie < len(s) and children < len(g):\n",
    "            if s[cookie] >= g[children]:\n",
    "                children += 1\n",
    "            cookie += 1\n",
    "        return children"
   ]
  }
 ],
 "metadata": {
  "kernelspec": {
   "display_name": "base",
   "language": "python",
   "name": "python3"
  },
  "language_info": {
   "codemirror_mode": {
    "name": "ipython",
    "version": 3
   },
   "file_extension": ".py",
   "mimetype": "text/x-python",
   "name": "python",
   "nbconvert_exporter": "python",
   "pygments_lexer": "ipython3",
   "version": "3.9.16"
  }
 },
 "nbformat": 4,
 "nbformat_minor": 2
}

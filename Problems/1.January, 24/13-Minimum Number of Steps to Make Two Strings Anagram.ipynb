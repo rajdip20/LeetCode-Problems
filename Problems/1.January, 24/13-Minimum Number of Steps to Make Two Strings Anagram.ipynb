{
 "cells": [
  {
   "cell_type": "markdown",
   "metadata": {},
   "source": [
    "You are given two strings of the same length `s` and `t`. In one step you can choose **any character** of `t` and replace it with **another character**.\n",
    "\n",
    "Return *the minimum number of steps to make `t` an anagram of `s`*.\n",
    "\n",
    "An **Anagram** of a string is a string that contains the same characters with a different (or the same) ordering.\n",
    "\n",
    "<br>\n",
    "\n",
    "**Example 1:**\n",
    "\n",
    ">**Input:** s = \"bab\", t = \"aba\"<br>\n",
    ">**Output:** 1<br>\n",
    ">**Explanation:** Replace the first 'a' in t with b, t = \"bba\" which is anagram of s.\n",
    "\n",
    "**Example 2:**\n",
    "\n",
    ">**Input:** s = \"leetcode\", t = \"practice\"<br>\n",
    ">**Output:** 5<br>\n",
    ">**Explanation:** Replace 'p', 'r', 'a', 'i' and 'c' from t with proper characters to make t anagram of s.\n",
    "\n",
    "**Example 3:**\n",
    "\n",
    ">**Input:** s = \"anagram\", t = \"mangaar\"<br>\n",
    ">**Output:** 0<br>\n",
    ">**Explanation:** \"anagram\" and \"mangaar\" are anagrams. \n",
    " \n",
    "<br>\n",
    "\n",
    "**Constraints:**\n",
    "\n",
    "- >1 <= s.length <= 5 * 10<sup>4</sup>\n",
    "- >s.length == t.length\n",
    "- >s and t consist of lowercase English letters only."
   ]
  },
  {
   "cell_type": "code",
   "execution_count": 1,
   "metadata": {},
   "outputs": [],
   "source": [
    "class Solution:\n",
    "    def minSteps(self, s: str, t: str) -> int:\n",
    "        freq_s = [0] * 26\n",
    "        freq_t = [0] * 26\n",
    "\n",
    "        for char in s:\n",
    "            freq_s[ord(char) - ord('a')] += 1\n",
    "\n",
    "        for char in t:\n",
    "            freq_t[ord(char) - ord('a')] += 1\n",
    "\n",
    "        step = sum(abs(freq_s[i] - freq_t[i]) for i in range(26))\n",
    "\n",
    "        return step // 2"
   ]
  }
 ],
 "metadata": {
  "kernelspec": {
   "display_name": "base",
   "language": "python",
   "name": "python3"
  },
  "language_info": {
   "codemirror_mode": {
    "name": "ipython",
    "version": 3
   },
   "file_extension": ".py",
   "mimetype": "text/x-python",
   "name": "python",
   "nbconvert_exporter": "python",
   "pygments_lexer": "ipython3",
   "version": "3.9.16"
  }
 },
 "nbformat": 4,
 "nbformat_minor": 2
}

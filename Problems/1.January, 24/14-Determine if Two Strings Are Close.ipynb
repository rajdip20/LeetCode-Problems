{
 "cells": [
  {
   "cell_type": "markdown",
   "metadata": {},
   "source": [
    "Two strings are considered **close** if you can attain one from the other using the following operations:\n",
    "\n",
    "- Operation 1: Swap any two **existing** characters.\n",
    "    - For example, `abcde -> aecdb`\n",
    "- Operation 2: Transform **every** occurrence of one **existing** character into another **existing** character, and do the same with the other character.\n",
    "    - For example, `aacabb -> bbcbaa` (all `a`'s turn into `b`'s, and all `b`'s turn into `a`'s)\n",
    "\n",
    "You can use the operations on either string as many times as necessary.\n",
    "\n",
    "Given two strings, `word1` and `word2`, return *`true` if `word1` and `word2` are **close**, and `false` otherwise*.\n",
    "\n",
    "<br> \n",
    "\n",
    "**Example 1:**\n",
    "\n",
    ">**Input:** word1 = \"abc\", word2 = \"bca\"<br>\n",
    ">**Output:** true<br>\n",
    ">**Explanation:** You can attain word2 from word1 in 2 operations.<br>\n",
    ">Apply Operation 1: \"abc\" -> \"acb\"<br>\n",
    ">Apply Operation 1: \"acb\" -> \"bca\"\n",
    "\n",
    "\n",
    "**Example 2:**\n",
    "\n",
    ">**Input:** word1 = \"a\", word2 = \"aa\"<br>\n",
    ">**Output:** false<br>\n",
    ">**Explanation:** It is impossible to attain word2 from word1, or vice versa, in any number of operations.\n",
    "\n",
    "**Example 3:**\n",
    "\n",
    ">**Input:** word1 = \"cabbba\", word2 = \"abbccc\"<br>\n",
    ">**Output:** true<br>\n",
    ">**Explanation:** You can attain word2 from word1 in 3 operations.<br>\n",
    ">Apply Operation 1: \"cabbba\" -> \"caabbb\"<br>\n",
    ">Apply Operation 2: \"caabbb\" -> \"baaccc\"<br>\n",
    ">Apply Operation 2: \"baaccc\" -> \"abbccc\"\n",
    " \n",
    "<br>\n",
    "\n",
    "**Constraints:**\n",
    "\n",
    "- >1 <= word1.length, word2.length <= 10<sup>5</sup>\n",
    "- >word1 and word2 contain only lowercase English letters."
   ]
  },
  {
   "cell_type": "code",
   "execution_count": 1,
   "metadata": {},
   "outputs": [],
   "source": [
    "class Solution:\n",
    "    def closeStrings(self, word1: str, word2: str) -> bool:\n",
    "        from collections import Counter\n",
    "\n",
    "        if len(word1) != len(word2):\n",
    "            return False\n",
    "\n",
    "        count1 = Counter(word1)\n",
    "        count2 = Counter(word2)\n",
    "\n",
    "        return sorted(count1.values()) == sorted(count2.values()) and set(word1) == set(word2)"
   ]
  }
 ],
 "metadata": {
  "kernelspec": {
   "display_name": "base",
   "language": "python",
   "name": "python3"
  },
  "language_info": {
   "codemirror_mode": {
    "name": "ipython",
    "version": 3
   },
   "file_extension": ".py",
   "mimetype": "text/x-python",
   "name": "python",
   "nbconvert_exporter": "python",
   "pygments_lexer": "ipython3",
   "version": "3.9.16"
  }
 },
 "nbformat": 4,
 "nbformat_minor": 2
}

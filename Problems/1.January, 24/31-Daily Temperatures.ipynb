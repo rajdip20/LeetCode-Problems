{
 "cells": [
  {
   "cell_type": "markdown",
   "metadata": {},
   "source": [
    "Given an array of integers `temperatures` represents the daily temperatures, return *an array `answer` such that `answer[i]` is the number of days you have to wait after the **i<sup>th</sup>** day to get a warmer temperature*. If there is no future day for which this is possible, keep `answer[i] == 0` instead.\n",
    "\n",
    "<br>\n",
    "\n",
    "**Example 1:**\n",
    ">**Input:** temperatures = [73,74,75,71,69,72,76,73]<br>\n",
    ">**Output:** [1,1,4,2,1,1,0,0]\n",
    "\n",
    "\n",
    "**Example 2:**\n",
    ">**Input:** temperatures = [30,40,50,60]<br>\n",
    ">**Output:** [1,1,1,0]\n",
    "\n",
    "\n",
    "**Example 3:**\n",
    ">**Input:** temperatures = [30,60,90]<br>\n",
    ">**Output:** [1,1,0]\n",
    " \n",
    "<br>\n",
    "\n",
    "**Constraints:**\n",
    "- >1 <= temperatures.length <= 10<sup>5</sup>\n",
    "- >30 <= temperatures[i] <= 100"
   ]
  },
  {
   "cell_type": "code",
   "execution_count": 1,
   "metadata": {},
   "outputs": [],
   "source": [
    "class Solution:\n",
    "    def dailyTemperatures(self, temperatures: list[int]) -> list[int]:\n",
    "        n = len(temperatures)\n",
    "\n",
    "        answer = [0] * n\n",
    "        stack = []\n",
    "\n",
    "        for i in range(n):\n",
    "            while stack and temperatures[i] > temperatures[stack[-1]]:\n",
    "                prev_index = stack.pop()\n",
    "                answer[prev_index] = i - prev_index\n",
    "\n",
    "            stack.append(i)\n",
    "\n",
    "        return answer"
   ]
  }
 ],
 "metadata": {
  "kernelspec": {
   "display_name": "base",
   "language": "python",
   "name": "python3"
  },
  "language_info": {
   "codemirror_mode": {
    "name": "ipython",
    "version": 3
   },
   "file_extension": ".py",
   "mimetype": "text/x-python",
   "name": "python",
   "nbconvert_exporter": "python",
   "pygments_lexer": "ipython3",
   "version": "3.9.16"
  }
 },
 "nbformat": 4,
 "nbformat_minor": 2
}

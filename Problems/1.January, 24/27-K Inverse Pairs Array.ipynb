{
 "cells": [
  {
   "cell_type": "markdown",
   "metadata": {},
   "source": [
    "For an integer array `nums`, an **inverse pair** is a pair of integers `[i, j]` where `0 <= i < j < nums.length` and `nums[i] > nums[j]`.\n",
    "\n",
    "Given two integers n and k, return the number of different arrays consist of numbers from `1` to `n` such that there are exactly `k` **inverse pairs**. Since the answer can be huge, return it **modulo 10<sup>9</sup> + 7**.\n",
    "\n",
    "<br>\n",
    "\n",
    "**Example 1:**\n",
    ">**Input:** n = 3, k = 0<br>\n",
    ">**Output:** 1<br>\n",
    ">**Explanation:** Only the array [1,2,3] which consists of numbers from 1 to 3 has exactly 0 inverse pairs.\n",
    "\n",
    "**Example 2:**\n",
    ">**Input:** n = 3, k = 1<br>\n",
    ">**Output:** 2<br>\n",
    ">**Explanation:** The array [1,3,2] and [2,1,3] have exactly 1 inverse pair.\n",
    " \n",
    "\n",
    "**Constraints:**\n",
    "- >1 <= n <= 1000\n",
    "- >0 <= k <= 1000"
   ]
  },
  {
   "cell_type": "code",
   "execution_count": 1,
   "metadata": {},
   "outputs": [],
   "source": [
    "class Solution:\n",
    "    def kInversePairs(self, n: int, k: int) -> int:\n",
    "        MOD = 10 ** 9 + 7\n",
    "        dp = [[0] * (k + 1) for _ in range(n + 1)] \n",
    "        dp[0][0] = 1\n",
    "        \n",
    "        for i in range(1, n + 1):\n",
    "            prefix_sum = 0\n",
    "            for j in range(k + 1):\n",
    "                prefix_sum = (prefix_sum + dp[i - 1][j]) % MOD\n",
    "                \n",
    "                if j >= i:\n",
    "                    prefix_sum = (prefix_sum - dp[i - 1][j - i] + MOD) % MOD\n",
    "                \n",
    "                dp[i][j] = prefix_sum\n",
    "        \n",
    "        return dp[n][k]"
   ]
  }
 ],
 "metadata": {
  "kernelspec": {
   "display_name": "base",
   "language": "python",
   "name": "python3"
  },
  "language_info": {
   "codemirror_mode": {
    "name": "ipython",
    "version": 3
   },
   "file_extension": ".py",
   "mimetype": "text/x-python",
   "name": "python",
   "nbconvert_exporter": "python",
   "pygments_lexer": "ipython3",
   "version": "3.9.16"
  }
 },
 "nbformat": 4,
 "nbformat_minor": 2
}

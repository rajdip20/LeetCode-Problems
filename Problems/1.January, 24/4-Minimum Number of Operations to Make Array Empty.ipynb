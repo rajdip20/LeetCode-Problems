{
 "cells": [
  {
   "cell_type": "markdown",
   "metadata": {},
   "source": [
    "You are given a **0-indexed** array `nums` consisting of positive integers.\n",
    "\n",
    "There are two types of operations that you can apply on the array **any** number of times:\n",
    "\n",
    "- Choose **two** elements with **equal** values and **delete** them from the array.\n",
    "- Choose **three** elements with **equal** values and **delete** them from the array.\n",
    "\n",
    "Return *the **minimum** number of operations required to make the array empty, or `-1` if it is not possible*.\n",
    "\n",
    " \n",
    "\n",
    "**Example 1:**\n",
    "\n",
    ">**Input:** nums = [2,3,3,2,2,4,2,3,4]<br>\n",
    ">**Output:** 4<br>\n",
    ">**Explanation:** We can apply the following operations to make the array empty:<br>\n",
    ">\\- Apply the first operation on the elements at indices 0 and 3. The resulting array is nums = [3,3,2,4,2,3,4].<br>\n",
    ">\\- Apply the first operation on the elements at indices 2 and 4. The resulting array is nums = [3,3,4,3,4].<br>\n",
    ">\\- Apply the second operation on the elements at indices 0, 1, and 3. The resulting array is nums = [4,4].<br>\n",
    ">\\- Apply the first operation on the elements at indices 0 and 1. The resulting array is nums = [].<br>\n",
    ">It can be shown that we cannot make the array empty in less than 4 operations.<br>\n",
    "\n",
    "\n",
    "**Example 2:**\n",
    "\n",
    ">**Input:** nums = [2,1,2,2,3,3]<br>\n",
    ">**Output:** -1<br>\n",
    ">**Explanation:** It is impossible to empty the array.<br>\n",
    " \n",
    "\n",
    "**Constraints:**\n",
    "\n",
    "- >2 <= nums.length <= 10<sup>5</sup>\n",
    "- >1 <= nums[i] <= 10<sup>6</sup>"
   ]
  },
  {
   "cell_type": "code",
   "execution_count": 1,
   "metadata": {},
   "outputs": [],
   "source": [
    "class Solution:\n",
    "    def minOperations(self, nums: list[int]) -> int:\n",
    "        freq = {}\n",
    "\n",
    "        for i in nums:\n",
    "            freq[i] = 1 + freq.get(i, 0)\n",
    "\n",
    "        if 1 in freq.values():\n",
    "            return -1\n",
    "        \n",
    "        return sum((i + 2) // 3 for i in freq.values())"
   ]
  }
 ],
 "metadata": {
  "kernelspec": {
   "display_name": "base",
   "language": "python",
   "name": "python3"
  },
  "language_info": {
   "codemirror_mode": {
    "name": "ipython",
    "version": 3
   },
   "file_extension": ".py",
   "mimetype": "text/x-python",
   "name": "python",
   "nbconvert_exporter": "python",
   "pygments_lexer": "ipython3",
   "version": "3.9.16"
  }
 },
 "nbformat": 4,
 "nbformat_minor": 2
}

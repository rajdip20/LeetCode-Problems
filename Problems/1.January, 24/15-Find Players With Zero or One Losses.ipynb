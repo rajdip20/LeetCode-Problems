{
 "cells": [
  {
   "cell_type": "markdown",
   "metadata": {},
   "source": [
    "You are given an integer array `matches` where **matches[i] = [winner<sub>i</sub>, loser<sub>i</sub>]** indicates that the player **winner<sub>i</sub>** defeated player **loser<sub>i</sub>** in a match.\n",
    "\n",
    "Return *a list `answer` of size `2` where*:\n",
    "\n",
    "- `answer[0]` is a list of all players that have **not** lost any matches.\n",
    "- `answer[1]` is a list of all players that have lost exactly **one** match.\n",
    "\n",
    "The values in the two lists should be returned in increasing order.\n",
    "\n",
    "**Note:**\n",
    "\n",
    "- You should only consider the players that have played **at least one** match.\n",
    "- The testcases will be generated such that **no** two matches will have the **same** outcome.\n",
    " \n",
    "<br>\n",
    "\n",
    "**Example 1:**\n",
    "\n",
    ">**Input:** matches = [[1,3],[2,3],[3,6],[5,6],[5,7],[4,5],[4,8],[4,9],[10,4],[10,9]]<br>\n",
    ">**Output:** [[1,2,10],[4,5,7,8]]<br>\n",
    ">**Explanation:**<br>\n",
    ">Players 1, 2, and 10 have not lost any matches.<br>\n",
    ">Players 4, 5, 7, and 8 each have lost one match.<br>\n",
    ">Players 3, 6, and 9 each have lost two matches.<br>\n",
    ">Thus, answer[0] = [1,2,10] and answer[1] = [4,5,7,8].\n",
    "\n",
    "\n",
    "**Example 2:**\n",
    "\n",
    ">**Input:** matches = [[2,3],[1,3],[5,4],[6,4]]<br>\n",
    ">**Output:** [[1,2,5,6],[]]<br>\n",
    ">**Explanation:**<br>\n",
    ">Players 1, 2, 5, and 6 have not lost any matches.<br>\n",
    ">Players 3 and 4 each have lost two matches.<br>\n",
    ">Thus, answer[0] = [1,2,5,6] and answer[1] = [].\n",
    " \n",
    "<br>\n",
    "\n",
    "**Constraints:**\n",
    "\n",
    "- >1 <= matches.length <= 10<sup>5</sup>\n",
    "- >matches[i].length == 2\n",
    "- >1 <= winner<sub>i</sub>, loser<sub>i</sub> <= 105\n",
    "- >winner<sub>i</sub> != loser<sub>i</sub>\n",
    "- >All matches[i] are **unique**."
   ]
  },
  {
   "cell_type": "code",
   "execution_count": 1,
   "metadata": {},
   "outputs": [],
   "source": [
    "class Solution:\n",
    "    def findWinners(self, matches: list[list[int]]) -> list[list[int]]:\n",
    "        lost_count = {}\n",
    "\n",
    "        for winner, loser in matches:\n",
    "            if loser in lost_count:\n",
    "                lost_count[loser] += 1\n",
    "            else:\n",
    "                lost_count[loser] = 1\n",
    "\n",
    "        not_lost = [player for player in set(winner for winner, _ in matches) if player not in lost_count]\n",
    "        lost_one = [player for player, count in lost_count.items() if count == 1]\n",
    "\n",
    "        return sorted(not_lost), sorted(lost_one)"
   ]
  }
 ],
 "metadata": {
  "kernelspec": {
   "display_name": "base",
   "language": "python",
   "name": "python3"
  },
  "language_info": {
   "codemirror_mode": {
    "name": "ipython",
    "version": 3
   },
   "file_extension": ".py",
   "mimetype": "text/x-python",
   "name": "python",
   "nbconvert_exporter": "python",
   "pygments_lexer": "ipython3",
   "version": "3.9.16"
  }
 },
 "nbformat": 4,
 "nbformat_minor": 2
}

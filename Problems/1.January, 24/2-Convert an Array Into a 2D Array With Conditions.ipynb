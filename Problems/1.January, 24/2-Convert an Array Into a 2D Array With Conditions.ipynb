{
 "cells": [
  {
   "cell_type": "markdown",
   "metadata": {},
   "source": [
    "You are given an integer array `nums`. You need to create a 2D array from `nums` satisfying the following conditions:\n",
    "\n",
    "- The 2D array should contain **only** the elements of the array `nums`.\n",
    "- Each row in the 2D array contains **distinct** integers.\n",
    "- The number of rows in the 2D array should be **minimal**.\n",
    "\n",
    "Return *the resulting array*. If there are multiple answers, return any of them.\n",
    "\n",
    "**Note** that the 2D array can have a different number of elements on each row.\n",
    "\n",
    " \n",
    "\n",
    "**Example 1:**\n",
    "\n",
    ">**Input:** nums = [1,3,4,1,2,3,1]<br>\n",
    ">**Output:** [[1,3,4,2], [1,3], [1]]<br>\n",
    ">**Explanation:** We can create a 2D array that contains the following rows:<br>\n",
    ">\\- 1,3,4,2<br>\n",
    ">\\- 1,3<br>\n",
    ">\\- 1<br>\n",
    ">All elements of nums were used, and each row of the 2D array contains distinct integers, so it is a valid answer.<br>\n",
    "It can be shown that we cannot have less than 3 rows in a valid array.\n",
    "\n",
    "\n",
    "**Example 2:**\n",
    "\n",
    ">**Input:** nums = [1,2,3,4]<br>\n",
    ">**Output:** [[4,3,2,1]]<br>\n",
    ">**Explanation:** All elements of the array are distinct, so we can keep all of them in the first row of the 2D array.\n",
    " \n",
    "\n",
    "**Constraints:**\n",
    "\n",
    "- >1 <= nums.length <= 200\n",
    "- >1 <= nums[i] <= nums.length"
   ]
  },
  {
   "cell_type": "code",
   "execution_count": 1,
   "metadata": {},
   "outputs": [],
   "source": [
    "class Solution:\n",
    "    def findMatrix(self, nums: list[int]) -> list[list[int]]:\n",
    "        new_array = []\n",
    "        freq = {}\n",
    "        \n",
    "        for ele in nums:\n",
    "            freq[ele] = 1 + freq.get(ele, 0)\n",
    "\n",
    "            if freq[ele] > len(new_array):\n",
    "                new_array.append([])\n",
    "            \n",
    "            new_array[freq[ele] - 1].append(ele)\n",
    "        \n",
    "        return new_array"
   ]
  }
 ],
 "metadata": {
  "kernelspec": {
   "display_name": "base",
   "language": "python",
   "name": "python3"
  },
  "language_info": {
   "codemirror_mode": {
    "name": "ipython",
    "version": 3
   },
   "file_extension": ".py",
   "mimetype": "text/x-python",
   "name": "python",
   "nbconvert_exporter": "python",
   "pygments_lexer": "ipython3",
   "version": "3.9.16"
  }
 },
 "nbformat": 4,
 "nbformat_minor": 2
}

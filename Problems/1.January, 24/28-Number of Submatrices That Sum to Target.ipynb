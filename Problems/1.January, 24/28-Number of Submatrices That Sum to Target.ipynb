{
 "cells": [
  {
   "attachments": {
    "mate1.jpg": {
     "image/jpeg": "[encoded data removed]"
    }
   },
   "cell_type": "markdown",
   "metadata": {},
   "source": [
    "Given a `matrix` and a `target`, return the number of non-empty submatrices that sum to target.\n",
    "\n",
    "A submatrix `x1, y1, x2, y2` is the set of all cells `matrix[x][y]` with `x1 <= x <= x2` and `y1 <= y <= y2`.\n",
    "\n",
    "Two submatrices `(x1, y1, x2, y2)` and `(x1', y1', x2', y2')` are different if they have some coordinate that is different: for example, if `x1 != x1'`.\n",
    "\n",
    "<br> \n",
    "\n",
    "**Example 1:**\n",
    "\n",
    "![mate1.jpg](attachment:mate1.jpg)\n",
    "\n",
    ">**Input:** matrix = [[0,1,0],[1,1,1],[0,1,0]], target = 0<br>\n",
    ">**Output:** 4<br>\n",
    ">**Explanation:** The four 1x1 submatrices that only contain 0.\n",
    "\n",
    "\n",
    "**Example 2:**\n",
    ">**Input:** matrix = [[1,-1],[-1,1]], target = 0<br>\n",
    ">**Output:** 5<br>\n",
    ">**Explanation:** The two 1x2 submatrices, plus the two 2x1 submatrices, plus the 2x2 submatrix.\n",
    "\n",
    "\n",
    "**Example 3:**\n",
    ">**Input:** matrix = [[904]], target = 0<br>\n",
    ">**Output:** 0\n",
    "\n",
    "<br>\n",
    "\n",
    "**Constraints:**\n",
    "- >1 <= matrix.length <= 100\n",
    "- >1 <= matrix[0].length <= 100\n",
    "- >-1000 <= matrix[i] <= 1000\n",
    "- >-10^8 <= target <= 10^8"
   ]
  },
  {
   "cell_type": "code",
   "execution_count": 1,
   "metadata": {},
   "outputs": [],
   "source": [
    "class Solution:\n",
    "    def numSubmatrixSumTarget(self, matrix: list[list[int]], target: int) -> int:\n",
    "        m, n = len(matrix), len(matrix[0])\n",
    "        count = 0\n",
    "\n",
    "        for i in range(m):\n",
    "            for j in range(1, n):\n",
    "                matrix[i][j] += matrix[i][j - 1]\n",
    "\n",
    "        for i in range(n):\n",
    "            for j in range(i, n):\n",
    "                prefix_sum = {0: 1}\n",
    "                current_sum = 0\n",
    "\n",
    "                for k in range(m):\n",
    "                    current_sum += matrix[k][j] - (matrix[k][i - 1] if i > 0 else 0)\n",
    "                    count += prefix_sum.get(current_sum - target, 0)\n",
    "\n",
    "                    prefix_sum[current_sum] = prefix_sum.get(current_sum, 0) + 1\n",
    "        \n",
    "        return count"
   ]
  }
 ],
 "metadata": {
  "kernelspec": {
   "display_name": "base",
   "language": "python",
   "name": "python3"
  },
  "language_info": {
   "codemirror_mode": {
    "name": "ipython",
    "version": 3
   },
   "file_extension": ".py",
   "mimetype": "text/x-python",
   "name": "python",
   "nbconvert_exporter": "python",
   "pygments_lexer": "ipython3",
   "version": "3.9.16"
  }
 },
 "nbformat": 4,
 "nbformat_minor": 2
}

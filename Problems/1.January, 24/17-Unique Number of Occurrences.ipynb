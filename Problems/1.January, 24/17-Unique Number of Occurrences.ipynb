{
 "cells": [
  {
   "cell_type": "markdown",
   "metadata": {},
   "source": [
    "Given an array of integers `arr`, return `true` *if the number of occurrences of each value in the array is **unique** or* `false` *otherwise*.\n",
    "\n",
    "<br>\n",
    "\n",
    "**Example 1:**\n",
    "\n",
    ">**Input:** arr = [1,2,2,1,1,3]<br>\n",
    ">**Output:** true<br>\n",
    ">**Explanation:** The value 1 has 3 occurrences, 2 has 2 and 3 has 1. No two values have the same number of occurrences.\n",
    "\n",
    "\n",
    "**Example 2:**\n",
    "\n",
    ">**Input:** arr = [1,2]<br>\n",
    ">**Output:** false\n",
    "\n",
    "\n",
    "**Example 3:**\n",
    "\n",
    ">**Input:** arr = [-3,0,1,-3,1,1,1,-3,10,0]<br>\n",
    ">**Output:** true\n",
    " \n",
    "<br>\n",
    "\n",
    "**Constraints:**\n",
    "\n",
    "- >1 <= arr.length <= 1000\n",
    "- >-1000 <= arr[i] <= 1000"
   ]
  },
  {
   "cell_type": "code",
   "execution_count": 1,
   "metadata": {},
   "outputs": [],
   "source": [
    "class Solution:\n",
    "    def uniqueOccurrences(self, arr: list[int]) -> bool:\n",
    "        from collections import Counter\n",
    "\n",
    "        count_map = Counter(arr)\n",
    "\n",
    "        occurrences_set = set(count_map.values())\n",
    "\n",
    "        return len(occurrences_set) == len(count_map)"
   ]
  }
 ],
 "metadata": {
  "kernelspec": {
   "display_name": "base",
   "language": "python",
   "name": "python3"
  },
  "language_info": {
   "codemirror_mode": {
    "name": "ipython",
    "version": 3
   },
   "file_extension": ".py",
   "mimetype": "text/x-python",
   "name": "python",
   "nbconvert_exporter": "python",
   "pygments_lexer": "ipython3",
   "version": "3.9.16"
  }
 },
 "nbformat": 4,
 "nbformat_minor": 2
}

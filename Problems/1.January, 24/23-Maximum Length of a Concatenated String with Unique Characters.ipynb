{
 "cells": [
  {
   "cell_type": "markdown",
   "metadata": {},
   "source": [
    "You are given an array of strings `arr`. A string `s` is formed by the **concatenation** of a **subsequence** of `arr` that has **unique characters**.\n",
    "\n",
    "Return *the ***maximum*** possible length of `s`*.\n",
    "\n",
    "A **subsequence** is an array that can be derived from another array by deleting some or no elements without changing the order of the remaining elements.\n",
    "\n",
    "<br>\n",
    "\n",
    "**Example 1:**\n",
    "\n",
    ">**Input:** arr = [\"un\",\"iq\",\"ue\"]<br>\n",
    ">**Output:** 4<br>\n",
    ">**Explanation:** All the valid concatenations are:<br>\n",
    ">\\- \"\"<br>\n",
    ">\\- \"un\"<br>\n",
    ">\\- \"iq\"<br>\n",
    ">\\- \"ue\"<br>\n",
    ">\\- \"uniq\" (\"un\" + \"iq\")<br>\n",
    ">\\- \"ique\" (\"iq\" + \"ue\")<br>\n",
    ">Maximum length is 4.\n",
    "\n",
    "\n",
    "**Example 2:**\n",
    "\n",
    ">**Input:** arr = [\"cha\",\"r\",\"act\",\"ers\"]<br>\n",
    ">**Output:** 6<br>\n",
    ">**Explanation:** Possible longest valid concatenations are \"chaers\" (\"cha\" + \"ers\") and \"acters\" (\"act\" + \"ers\").\n",
    "\n",
    "\n",
    "**Example 3:**\n",
    "\n",
    ">**Input:** arr = [\"abcdefghijklmnopqrstuvwxyz\"]<br>\n",
    ">**Output:** 26<br>\n",
    ">**Explanation:** The only string in arr has all 26 characters.\n",
    " \n",
    "<br>\n",
    "\n",
    "**Constraints:**\n",
    "- >1 <= arr.length <= 16\n",
    "- >1 <= arr[i].length <= 26\n",
    "- >arr[i] contains only lowercase English letters."
   ]
  },
  {
   "cell_type": "code",
   "execution_count": 1,
   "metadata": {},
   "outputs": [],
   "source": [
    "class Solution:\n",
    "    def maxLength(self, arr: list[str]) -> int:\n",
    "        def is_unique(s):\n",
    "            return len(set(s)) == len(s)\n",
    "\n",
    "        def backtrack(start, current):\n",
    "            nonlocal max_length\n",
    "            max_length = max(max_length, len(current))\n",
    "\n",
    "            for i in range(start, len(arr)):\n",
    "                if is_unique(current + arr[i]):\n",
    "                    backtrack(i + 1, current + arr[i])\n",
    "\n",
    "        max_length = 0\n",
    "        backtrack(0, \"\")\n",
    "        return max_length"
   ]
  }
 ],
 "metadata": {
  "kernelspec": {
   "display_name": "base",
   "language": "python",
   "name": "python3"
  },
  "language_info": {
   "codemirror_mode": {
    "name": "ipython",
    "version": 3
   },
   "file_extension": ".py",
   "mimetype": "text/x-python",
   "name": "python",
   "nbconvert_exporter": "python",
   "pygments_lexer": "ipython3",
   "version": "3.9.16"
  }
 },
 "nbformat": 4,
 "nbformat_minor": 2
}

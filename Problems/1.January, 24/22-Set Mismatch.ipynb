{
 "cells": [
  {
   "cell_type": "markdown",
   "metadata": {},
   "source": [
    "You have a set of integers `s`, which originally contains all the numbers from `1` to `n`. Unfortunately, due to some error, one of the numbers in `s` got duplicated to another number in the set, which results in **repetition of one** number and **loss of another** number.\n",
    "\n",
    "You are given an integer array `nums` representing the data status of this set after the error.\n",
    "\n",
    "Find the number that occurs twice and the number that is missing and return *them in the form of an array*.\n",
    "\n",
    "<br>\n",
    "\n",
    "**Example 1:**\n",
    "\n",
    ">**Input:** nums = [1,2,2,4]<br>\n",
    ">**Output:** [2,3]\n",
    "\n",
    "**Example 2:**\n",
    "\n",
    ">**Input:** nums = [1,1]<br>\n",
    ">**Output:** [1,2]\n",
    " \n",
    "<br>\n",
    "\n",
    "**Constraints:**\n",
    "- >2 <= nums.length <= 10<sup>4</sup>\n",
    "- >1 <= nums[i] <= 10<sup>4</sup>"
   ]
  },
  {
   "cell_type": "code",
   "execution_count": 1,
   "metadata": {},
   "outputs": [],
   "source": [
    "class Solution:\n",
    "    def findErrorNums(self, nums: list[int]) -> list[int]:\n",
    "        n = len(nums)\n",
    "\n",
    "        duplicate = sum(nums) - sum(set(nums))\n",
    "\n",
    "        missing = (n * (n + 1) // 2) - sum(set(nums))\n",
    "\n",
    "        return [duplicate, missing]"
   ]
  }
 ],
 "metadata": {
  "kernelspec": {
   "display_name": "base",
   "language": "python",
   "name": "python3"
  },
  "language_info": {
   "codemirror_mode": {
    "name": "ipython",
    "version": 3
   },
   "file_extension": ".py",
   "mimetype": "text/x-python",
   "name": "python",
   "nbconvert_exporter": "python",
   "pygments_lexer": "ipython3",
   "version": "3.9.16"
  }
 },
 "nbformat": 4,
 "nbformat_minor": 2
}

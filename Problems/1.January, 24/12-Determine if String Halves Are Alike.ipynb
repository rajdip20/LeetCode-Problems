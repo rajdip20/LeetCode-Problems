{
 "cells": [
  {
   "cell_type": "markdown",
   "metadata": {},
   "source": [
    "You are given a string `s` of even length. Split this string into two halves of equal lengths, and let `a` be the first half and `b` be the second half.\n",
    "\n",
    "Two strings are alike if they have the same number of vowels (`'a'`, `'e'`, `'i'`, `'o'`, `'u'`, `'A'`, `'E'`, `'I'`, `'O'`, `'U'`). Notice that `s` contains uppercase and lowercase letters.\n",
    "\n",
    "Return *`true` if `a` and `b` are **alike***. Otherwise, return `false`.\n",
    "\n",
    "<br>\n",
    "\n",
    "**Example 1:**\n",
    "\n",
    ">**Input:** s = \"book\"<br>\n",
    ">**Output:** true<br>\n",
    ">**Explanation:** a = \"bo\" and b = \"ok\". a has 1 vowel and b has 1 vowel. Therefore, they are alike.\n",
    "\n",
    "\n",
    "**Example 2:**\n",
    "\n",
    ">**Input:** s = \"textbook\"<br>\n",
    ">**Output:** false<br>\n",
    ">**Explanation:** a = \"text\" and b = \"book\". a has 1 vowel whereas b has 2. Therefore, they are not alike.<br>\n",
    ">Notice that the vowel o is counted twice.\n",
    " \n",
    "<br>\n",
    "\n",
    "**Constraints:**\n",
    "\n",
    "- >2 <= s.length <= 1000\n",
    "- >s.length is even.\n",
    "- >s consists of **uppercase and lowercase** letters."
   ]
  },
  {
   "cell_type": "code",
   "execution_count": 1,
   "metadata": {},
   "outputs": [],
   "source": [
    "class Solution:\n",
    "    def halvesAreAlike(self, s: str) -> bool:\n",
    "        def count_vowels(string):\n",
    "            vow = set(\"aeiouAEIOU\")\n",
    "            count = 0\n",
    "            for char in string:\n",
    "                if char in vow:\n",
    "                    count += 1\n",
    "            return count\n",
    "\n",
    "        half_length = len(s) // 2\n",
    "        a = s[:half_length]\n",
    "        b = s[half_length:]\n",
    "\n",
    "        return count_vowels(a) == count_vowels(b)"
   ]
  }
 ],
 "metadata": {
  "kernelspec": {
   "display_name": "base",
   "language": "python",
   "name": "python3"
  },
  "language_info": {
   "codemirror_mode": {
    "name": "ipython",
    "version": 3
   },
   "file_extension": ".py",
   "mimetype": "text/x-python",
   "name": "python",
   "nbconvert_exporter": "python",
   "pygments_lexer": "ipython3",
   "version": "3.9.16"
  }
 },
 "nbformat": 4,
 "nbformat_minor": 2
}

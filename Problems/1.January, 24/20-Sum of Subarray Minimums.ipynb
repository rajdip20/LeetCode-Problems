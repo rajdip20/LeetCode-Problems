{
 "cells": [
  {
   "cell_type": "markdown",
   "metadata": {},
   "source": [
    "Given an array of integers arr, find the sum of `min(b)`, where `b` ranges over every (contiguous) subarray of `arr`. Since the answer may be large, return the answer **modulo** **10<sup>9</sup> + 7**.\n",
    "\n",
    "<br>\n",
    "\n",
    "**Example 1:**\n",
    "\n",
    ">**Input:** arr = [3,1,2,4]<br>\n",
    ">**Output:** 17<br>\n",
    ">**Explanation:** <br>\n",
    ">Subarrays are [3], [1], [2], [4], [3,1], [1,2], [2,4], [3,1,2], [1,2,4], [3,1,2,4]. <br>\n",
    ">Minimums are 3, 1, 2, 4, 1, 1, 2, 1, 1, 1.<br>\n",
    ">Sum is 17.\n",
    "\n",
    "\n",
    "**Example 2:**\n",
    "\n",
    ">**Input:** arr = [11,81,94,43,3]<br>\n",
    ">**Output:** 444\n",
    " \n",
    "<br>\n",
    "\n",
    "**Constraints:**\n",
    "\n",
    "- >1 <= arr.length <= 3 * 10<sup>4</sup>\n",
    "- >1 <= arr[i] <= 3 * 10<sup>4</sup>"
   ]
  },
  {
   "cell_type": "code",
   "execution_count": 1,
   "metadata": {},
   "outputs": [],
   "source": [
    "class Solution:\n",
    "    def sumSubarrayMins(self, arr: list[int]) -> int:\n",
    "        MOD = 10 ** 9 + 7\n",
    "        n = len(arr)\n",
    "        stack = []\n",
    "        result = 0\n",
    "\n",
    "        for i in range(n):\n",
    "            while stack and arr[i] < arr[stack[-1]]:\n",
    "                j = stack.pop()\n",
    "                k = stack[-1] if stack else -1\n",
    "                result = (result + arr[j] * (i - j) * (j - k)) % MOD\n",
    "\n",
    "            stack.append(i)\n",
    "\n",
    "        while stack:\n",
    "            j = stack.pop()\n",
    "            k = stack[-1] if stack else -1\n",
    "            result = (result + arr[j] * (n - j) * (j - k)) % MOD\n",
    "\n",
    "        return result"
   ]
  }
 ],
 "metadata": {
  "kernelspec": {
   "display_name": "base",
   "language": "python",
   "name": "python3"
  },
  "language_info": {
   "codemirror_mode": {
    "name": "ipython",
    "version": 3
   },
   "file_extension": ".py",
   "mimetype": "text/x-python",
   "name": "python",
   "nbconvert_exporter": "python",
   "pygments_lexer": "ipython3",
   "version": "3.9.16"
  }
 },
 "nbformat": 4,
 "nbformat_minor": 2
}

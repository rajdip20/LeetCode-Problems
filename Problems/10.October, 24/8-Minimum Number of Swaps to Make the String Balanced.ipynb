{
 "cells": [
  {
   "cell_type": "markdown",
   "metadata": {},
   "source": [
    "You are given a **0-indexed** string `s` of **even** length `n`. The string consists of **exactly** `n / 2` opening brackets `'['` and `n / 2` closing brackets `']'`.\n",
    "\n",
    "A string is called **balanced** if and only if:\n",
    "- It is the empty string, or\n",
    "- It can be written as `AB`, where both `A` and `B` are **balanced** strings, or\n",
    "- It can be written as `[C]`, where `C` is a **balanced** string.\n",
    "\n",
    "You may swap the brackets at **any** two indices **any** number of times.\n",
    "\n",
    "Return *the ***minimum*** number of swaps to make* `s` ***balanced***.\n",
    "\n",
    "<br>\n",
    "\n",
    "**Example 1:**\n",
    ">**Input:** s = \"][][\"<br>\n",
    ">**Output:** 1<br>\n",
    ">**Explanation:** You can make the string balanced by swapping index 0 with index 3.<br>\n",
    ">The resulting string is \"[[]]\".\n",
    "\n",
    "**Example 2:**\n",
    ">**Input:** s = \"]]][[[\"<br>\n",
    ">**Output:** 2<br>\n",
    ">**Explanation:** You can do the following to make the string balanced:<br>\n",
    ">\\- Swap index 0 with index 4. s = \"[]][][\".<br>\n",
    ">\\- Swap index 1 with index 5. s = \"[[][]]\".<br>\n",
    ">The resulting string is \"[[][]]\".\n",
    "\n",
    "**Example 3:**\n",
    ">**Input:** s = \"[]\"<br>\n",
    ">**Output:** 0<br>\n",
    ">**Explanation:** The string is already balanced.\n",
    "\n",
    "<br>\n",
    "\n",
    "**Constraints:**\n",
    "- >n == s.length\n",
    "- >2 <= n <= 10<sup>6</sup>\n",
    "- >n is even.\n",
    "- >s[i] is either '[' or ']'.\n",
    "- >The number of opening brackets '[' equals n / 2, and the number of closing brackets ']' equals n / 2."
   ]
  },
  {
   "cell_type": "code",
   "execution_count": 1,
   "metadata": {},
   "outputs": [],
   "source": [
    "class Solution:\n",
    "    def minSwaps(self, s: str) -> int:\n",
    "        imbalance = 0\n",
    "        max_imbalance = 0\n",
    "        \n",
    "        for char in s:\n",
    "            if char == '[':\n",
    "                imbalance -= 1\n",
    "            else:\n",
    "                imbalance += 1\n",
    "            \n",
    "            max_imbalance = max(max_imbalance, imbalance)\n",
    "        \n",
    "        return (max_imbalance + 1) // 2"
   ]
  }
 ],
 "metadata": {
  "kernelspec": {
   "display_name": "base",
   "language": "python",
   "name": "python3"
  },
  "language_info": {
   "codemirror_mode": {
    "name": "ipython",
    "version": 3
   },
   "file_extension": ".py",
   "mimetype": "text/x-python",
   "name": "python",
   "nbconvert_exporter": "python",
   "pygments_lexer": "ipython3",
   "version": "3.9.16"
  }
 },
 "nbformat": 4,
 "nbformat_minor": 2
}

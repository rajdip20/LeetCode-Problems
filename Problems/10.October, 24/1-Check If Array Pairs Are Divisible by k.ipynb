{
 "cells": [
  {
   "cell_type": "markdown",
   "metadata": {},
   "source": [
    "Given an array of integers `arr` of even length `n` and an integer `k`.\n",
    "\n",
    "We want to divide the array into exactly `n / 2` pairs such that the sum of each pair is divisible by `k`.\n",
    "\n",
    "Return `true` *If you can find a way to do that or* `false` *otherwise*.\n",
    "\n",
    "<br>\n",
    "\n",
    "**Example 1:**\n",
    ">**Input:** arr = [1,2,3,4,5,10,6,7,8,9], k = 5<br>\n",
    ">**Output:** true<br>\n",
    ">**Explanation:** Pairs are (1,9),(2,8),(3,7),(4,6) and (5,10).\n",
    "\n",
    "**Example 2:**\n",
    ">**Input:** arr = [1,2,3,4,5,6], k = 7<br>\n",
    ">**Output:** true<br>\n",
    ">**Explanation:** Pairs are (1,6),(2,5) and(3,4).\n",
    "\n",
    "**Example 3:**\n",
    ">**Input:** arr = [1,2,3,4,5,6], k = 10<br>\n",
    ">**Output:** false<br>\n",
    ">**Explanation:** You can try all possible pairs to see that there is no way to divide arr into 3 pairs each with sum divisible by 10.\n",
    "\n",
    "<br>\n",
    "\n",
    "**Constraints:**\n",
    "- >arr.length == n\n",
    "- >1 <= n <= 10<sup>5</sup>\n",
    "- >n is even.\n",
    "- >-10<sup>9</sup> <= arr[i] <= 10<sup>9</sup>\n",
    "- >1 <= k <= 10<sup>5</sup>"
   ]
  },
  {
   "cell_type": "code",
   "execution_count": 1,
   "metadata": {},
   "outputs": [],
   "source": [
    "class Solution:\n",
    "    def canArrange(self, arr: list[int], k: int) -> bool:\n",
    "        remainder_count = [0] * k\n",
    "\n",
    "        for num in arr:\n",
    "            remainder = num % k\n",
    "            if remainder < 0:\n",
    "                remainder += k\n",
    "            remainder_count[remainder] += 1\n",
    "\n",
    "        for r in range(1, k):\n",
    "            if remainder_count[r] != remainder_count[k - r]:\n",
    "                return False\n",
    "\n",
    "        if remainder_count[0] % 2 != 0:\n",
    "            return False\n",
    "\n",
    "        return True"
   ]
  }
 ],
 "metadata": {
  "kernelspec": {
   "display_name": "base",
   "language": "python",
   "name": "python3"
  },
  "language_info": {
   "codemirror_mode": {
    "name": "ipython",
    "version": 3
   },
   "file_extension": ".py",
   "mimetype": "text/x-python",
   "name": "python",
   "nbconvert_exporter": "python",
   "pygments_lexer": "ipython3",
   "version": "3.9.16"
  }
 },
 "nbformat": 4,
 "nbformat_minor": 2
}

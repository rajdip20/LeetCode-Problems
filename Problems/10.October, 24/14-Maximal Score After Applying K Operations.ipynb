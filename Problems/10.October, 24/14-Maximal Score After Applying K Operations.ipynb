{
 "cells": [
  {
   "cell_type": "markdown",
   "metadata": {},
   "source": [
    "You are given a **0-indexed** integer array `nums` and an integer `k`. You have a **starting score** of `0`.\n",
    "\n",
    "In one **operation**:\n",
    "1. choose an index `i` such that `0 <= i < nums.length`,\n",
    "2. increase your **score** by `nums[i]`, and\n",
    "3. replace `nums[i]` with `ceil(nums[i] / 3)`.\n",
    "\n",
    "Return *the maximum possible ***score*** you can attain after applying* ***exactly*** `k` *operations*.\n",
    "\n",
    "The ceiling function `ceil(val)` is the least integer greater than or equal to `val`.\n",
    "\n",
    "<br>\n",
    "\n",
    "**Example 1:**\n",
    ">**Input:** nums = [10,10,10,10,10], k = 5<br>\n",
    ">**Output:** 50<br>\n",
    ">**Explanation:** Apply the operation to each array element exactly once. The final score is 10 + 10 + 10 + 10 + 10 = 50.\n",
    "\n",
    "**Example 2:**\n",
    ">**Input:** nums = [1,10,3,3,3], k = 3<br>\n",
    ">**Output:** 17<br>\n",
    ">**Explanation:** You can do the following operations:<br>\n",
    ">Operation 1: Select i = 1, so nums becomes [1,4,3,3,3]. Your score increases by 10.<br>\n",
    ">Operation 2: Select i = 1, so nums becomes [1,2,3,3,3]. Your score increases by 4.<br>\n",
    ">Operation 3: Select i = 2, so nums becomes [1,1,1,3,3]. Your score increases by 3.<br>\n",
    ">The final score is 10 + 4 + 3 = 17.\n",
    "\n",
    "<br>\n",
    "\n",
    "**Constraints:**\n",
    "- >1 <= nums.length, k <= 10<sup>5</sup>\n",
    "- >1 <= nums[i] <= 10<sup>9</sup>"
   ]
  },
  {
   "cell_type": "code",
   "execution_count": 1,
   "metadata": {},
   "outputs": [],
   "source": [
    "class Solution:\n",
    "    def maxKelements(self, nums: list[int], k: int) -> int:\n",
    "        import heapq\n",
    "        import math\n",
    "\n",
    "        max_heap = [-num for num in nums]\n",
    "        heapq.heapify(max_heap)\n",
    "        \n",
    "        score = 0\n",
    "        \n",
    "        for _ in range(k):\n",
    "            max_val = -heapq.heappop(max_heap)\n",
    "            score += max_val\n",
    "            \n",
    "            new_val = math.ceil(max_val / 3)\n",
    "            \n",
    "            heapq.heappush(max_heap, -new_val)\n",
    "        \n",
    "        return score"
   ]
  }
 ],
 "metadata": {
  "kernelspec": {
   "display_name": "base",
   "language": "python",
   "name": "python3"
  },
  "language_info": {
   "codemirror_mode": {
    "name": "ipython",
    "version": 3
   },
   "file_extension": ".py",
   "mimetype": "text/x-python",
   "name": "python",
   "nbconvert_exporter": "python",
   "pygments_lexer": "ipython3",
   "version": "3.9.16"
  }
 },
 "nbformat": 4,
 "nbformat_minor": 2
}

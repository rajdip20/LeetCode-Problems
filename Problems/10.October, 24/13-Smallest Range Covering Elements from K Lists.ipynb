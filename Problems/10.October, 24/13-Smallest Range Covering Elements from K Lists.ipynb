{
 "cells": [
  {
   "cell_type": "markdown",
   "metadata": {},
   "source": [
    "You have `k` lists of sorted integers in **non-decreasing order**. Find the **smallest** range that includes at least one number from each of the `k` lists.\n",
    "\n",
    "We define the range `[a, b]` is smaller than range `[c, d]` if `b - a < d - c` or `a < c` if `b - a == d - c`.\n",
    "\n",
    "<br>\n",
    "\n",
    "**Example 1:**\n",
    ">**Input:** nums = [[4,10,15,24,26],[0,9,12,20],[5,18,22,30]]<br>\n",
    ">**Output:** [20,24]<br>\n",
    ">**Explanation:** <br>\n",
    ">List 1: [4, 10, 15, 24,26], 24 is in range [20,24].<br>\n",
    ">List 2: [0, 9, 12, 20], 20 is in range [20,24].<br>\n",
    ">List 3: [5, 18, 22, 30], 22 is in range [20,24].\n",
    "\n",
    "**Example 2:**\n",
    ">**Input:** nums = [[1,2,3],[1,2,3],[1,2,3]]<br>\n",
    ">**Output:** [1,1]\n",
    "\n",
    "<br>\n",
    "\n",
    "**Constraints:**\n",
    "- >nums.length == k\n",
    "- >1 <= k <= 3500\n",
    "- >1 <= nums[i].length <= 50\n",
    "- >-10<sup>5</sup> <= nums[i][j] <= 10<sup>5</sup>\n",
    "- >nums[i] is sorted in **non-decreasing** order."
   ]
  },
  {
   "cell_type": "code",
   "execution_count": 1,
   "metadata": {},
   "outputs": [],
   "source": [
    "class Solution:\n",
    "    def smallestRange(self, nums: list[list[int]]) -> list[int]:\n",
    "        import heapq\n",
    "\n",
    "        min_heap = []\n",
    "        current_max = float('-inf')\n",
    "\n",
    "        for i in range(len(nums)):\n",
    "            heapq.heappush(min_heap, (nums[i][0], i, 0))\n",
    "            current_max = max(current_max, nums[i][0])\n",
    "\n",
    "        result_range = [float('-inf'), float('inf')]\n",
    "\n",
    "        while min_heap:\n",
    "            min_value, row, col = heapq.heappop(min_heap)\n",
    "\n",
    "            if current_max - min_value < result_range[1] - result_range[0]:\n",
    "                result_range = [min_value, current_max]\n",
    "\n",
    "            if col + 1 < len(nums[row]):\n",
    "                next_value = nums[row][col + 1]\n",
    "                heapq.heappush(min_heap, (next_value, row, col + 1))\n",
    "                current_max = max(current_max, next_value)\n",
    "            else:\n",
    "                break\n",
    "\n",
    "        return result_range"
   ]
  }
 ],
 "metadata": {
  "kernelspec": {
   "display_name": "base",
   "language": "python",
   "name": "python3"
  },
  "language_info": {
   "codemirror_mode": {
    "name": "ipython",
    "version": 3
   },
   "file_extension": ".py",
   "mimetype": "text/x-python",
   "name": "python",
   "nbconvert_exporter": "python",
   "pygments_lexer": "ipython3",
   "version": "3.9.16"
  }
 },
 "nbformat": 4,
 "nbformat_minor": 2
}

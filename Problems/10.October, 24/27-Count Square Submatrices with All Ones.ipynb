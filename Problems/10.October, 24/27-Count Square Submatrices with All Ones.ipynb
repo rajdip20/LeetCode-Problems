{
 "cells": [
  {
   "cell_type": "markdown",
   "metadata": {},
   "source": [
    "Given a `m * n` matrix of ones and zeros, return how many **square** submatrices have all ones.\n",
    "\n",
    "<br>\n",
    "\n",
    "**Example 1:**\n",
    ">**Input:** matrix =<br>\n",
    ">[<br>\n",
    ">&ensp; [0,1,1,1],<br>\n",
    ">&ensp; [1,1,1,1],<br>\n",
    ">&ensp; [0,1,1,1]<br>\n",
    ">]<br>\n",
    ">**Output:** 15<br>\n",
    ">**Explanation:**<br>\n",
    ">There are 10 squares of side 1.<br>\n",
    ">There are 4 squares of side 2.<br>\n",
    ">There is  1 square of side 3.<br>\n",
    ">Total number of squares = 10 + 4 + 1 = 15.\n",
    "\n",
    "**Example 2:**\n",
    ">**Input:** matrix =<br>\n",
    ">[<br>\n",
    ">&ensp; [1,0,1],<br>\n",
    ">&ensp; [1,1,0],<br>\n",
    ">&ensp; [1,1,0]<br>\n",
    ">]<br>\n",
    ">**Output:** 7<br>\n",
    ">**Explanation:**<br>\n",
    ">There are 6 squares of side 1.<br>\n",
    ">There is 1 square of side 2.<br>\n",
    ">Total number of squares = 6 + 1 = 7.<br>\n",
    "\n",
    "<br>\n",
    "\n",
    "**Constraints:**\n",
    "- >1 <= arr.length <= 300\n",
    "- >1 <= arr[0].length <= 300\n",
    "- >0 <= arr[i][j] <= 1"
   ]
  },
  {
   "cell_type": "code",
   "execution_count": 1,
   "metadata": {},
   "outputs": [],
   "source": [
    "class Solution:\n",
    "    def countSquares(self, matrix: list[list[int]]) -> int:\n",
    "        rows = len(matrix)\n",
    "        cols = len(matrix[0])\n",
    "        dp = [[0] * cols for _ in range(rows)]\n",
    "        count = 0\n",
    "        \n",
    "        for i in range(rows):\n",
    "            for j in range(cols):\n",
    "                if matrix[i][j] == 1:\n",
    "                    if i == 0 or j == 0:\n",
    "                        dp[i][j] = 1\n",
    "                    else:\n",
    "                        dp[i][j] = min(dp[i-1][j], dp[i][j-1], dp[i-1][j-1]) + 1\n",
    "                    \n",
    "                    count += dp[i][j]\n",
    "        \n",
    "        return count"
   ]
  }
 ],
 "metadata": {
  "kernelspec": {
   "display_name": "base",
   "language": "python",
   "name": "python3"
  },
  "language_info": {
   "codemirror_mode": {
    "name": "ipython",
    "version": 3
   },
   "file_extension": ".py",
   "mimetype": "text/x-python",
   "name": "python",
   "nbconvert_exporter": "python",
   "pygments_lexer": "ipython3",
   "version": "3.9.16"
  }
 },
 "nbformat": 4,
 "nbformat_minor": 2
}

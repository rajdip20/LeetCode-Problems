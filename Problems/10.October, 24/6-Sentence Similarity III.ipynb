{
 "cells": [
  {
   "cell_type": "markdown",
   "metadata": {},
   "source": [
    "You are given two strings `sentence1` and `sentence2`, each representing a **sentence** composed of words. A sentence is a list of **words** that are separated by a **single** space with no leading or trailing spaces. Each word consists of only uppercase and lowercase English characters.\n",
    "\n",
    "Two sentences `s1` and `s2` are considered **similar** if it is possible to insert an arbitrary sentence *(possibly empty)* inside one of these sentences such that the two sentences become equal. Note that the inserted sentence must be separated from existing words by spaces.\n",
    "\n",
    "For example,\n",
    "- `s1 = \"Hello Jane\"` and `s2 = \"Hello my name is Jane\"` can be made equal by inserting `\"my name is\"` between `\"Hello\"` and `\"Jane\"` in s1.\n",
    "- `s1 = \"Frog cool\"` and `s2 = \"Frogs are cool\"` are **not** similar, since although there is a sentence `\"s are\"` inserted into `s1`, it is not separated from `\"Frog\"` by a space.\n",
    "\n",
    "Given two sentences `sentence1` and `sentence2`, return **true** if `sentence1` and `sentence2` are **similar**. Otherwise, return **false**.\n",
    "\n",
    "<br>\n",
    "\n",
    "**Example 1:**\n",
    ">**Input:** sentence1 = \"My name is Haley\", sentence2 = \"My Haley\"<br>\n",
    ">**Output:** true<br>\n",
    ">**Explanation:**<br>\n",
    ">sentence2 can be turned to sentence1 by inserting \"name is\" between \"My\" and \"Haley\".\n",
    "\n",
    "**Example 2:**\n",
    ">**Input:** sentence1 = \"of\", sentence2 = \"A lot of words\"<br>\n",
    ">**Output:** false<br>\n",
    ">**Explanation:**<br>\n",
    ">No single sentence can be inserted inside one of the sentences to make it equal to the other.\n",
    "\n",
    "**Example 3:**\n",
    ">**Input:** sentence1 = \"Eating right now\", sentence2 = \"Eating\"<br>\n",
    ">**Output:** true<br>\n",
    ">**Explanation:**<br>\n",
    ">sentence2 can be turned to sentence1 by inserting \"right now\" at the end of the sentence.\n",
    "\n",
    "<br>\n",
    "\n",
    "**Constraints:**\n",
    "- >1 <= sentence1.length, sentence2.length <= 100\n",
    "- >sentence1 and sentence2 consist of lowercase and uppercase English letters and spaces.\n",
    "- >The words in sentence1 and sentence2 are separated by a single space."
   ]
  },
  {
   "cell_type": "code",
   "execution_count": 1,
   "metadata": {},
   "outputs": [],
   "source": [
    "class Solution:\n",
    "    def areSentencesSimilar(self, sentence1: str, sentence2: str) -> bool:\n",
    "        words1 = sentence1.split()\n",
    "        words2 = sentence2.split()\n",
    "        \n",
    "        if len(words1) > len(words2):\n",
    "            words1, words2 = words2, words1\n",
    "        \n",
    "        i, j = 0, len(words1) - 1\n",
    "        len2 = len(words2)\n",
    "        \n",
    "        while i <= j and words1[i] == words2[i]:\n",
    "            i += 1\n",
    "        \n",
    "        while j >= i and words1[j] == words2[len2 - (len(words1) - j)]:\n",
    "            j -= 1\n",
    "        \n",
    "        return i > j"
   ]
  }
 ],
 "metadata": {
  "kernelspec": {
   "display_name": "base",
   "language": "python",
   "name": "python3"
  },
  "language_info": {
   "codemirror_mode": {
    "name": "ipython",
    "version": 3
   },
   "file_extension": ".py",
   "mimetype": "text/x-python",
   "name": "python",
   "nbconvert_exporter": "python",
   "pygments_lexer": "ipython3",
   "version": "3.9.16"
  }
 },
 "nbformat": 4,
 "nbformat_minor": 2
}

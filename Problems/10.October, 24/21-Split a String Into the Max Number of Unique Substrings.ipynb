{
 "cells": [
  {
   "cell_type": "markdown",
   "metadata": {},
   "source": [
    "Given a string `s`, return *the maximum number of unique substrings that the given string can be split into*.\n",
    "\n",
    "You can split string `s` into any list of **non-empty substrings**, where the concatenation of the substrings forms the original string. However, you must split the substrings such that all of them are **unique**.\n",
    "\n",
    "A **substring** is a contiguous sequence of characters within a string.\n",
    "\n",
    "<br>\n",
    "\n",
    "**Example 1:**\n",
    ">**Input:** s = \"ababccc\"<br>\n",
    ">**Output:** 5<br>\n",
    ">**Explanation:** One way to split maximally is ['a', 'b', 'ab', 'c', 'cc']. Splitting like ['a', 'b', 'a', 'b', 'c', 'cc'] is not valid as you have 'a' and 'b' multiple times.\n",
    "\n",
    "**Example 2:**\n",
    ">**Input:** s = \"aba\"<br>\n",
    ">**Output:** 2<br>\n",
    ">**Explanation:** One way to split maximally is ['a', 'ba'].\n",
    "\n",
    "**Example 3:**\n",
    ">**Input:** s = \"aa\"<br>\n",
    ">**Output:** 1<br>\n",
    ">**Explanation:** It is impossible to split the string any further.\n",
    "\n",
    "<br>\n",
    "\n",
    "**Constraints:**\n",
    "- >1 <= s.length <= 16\n",
    "- >s contains only lower case English letters."
   ]
  },
  {
   "cell_type": "code",
   "execution_count": 1,
   "metadata": {},
   "outputs": [],
   "source": [
    "class Solution:\n",
    "    def maxUniqueSplit(self, s: str) -> int:\n",
    "        def backtrack(index, current_set):\n",
    "            if index == len(s):\n",
    "                return len(current_set)\n",
    "            \n",
    "            max_splits = 0\n",
    "            for i in range(index + 1, len(s) + 1):\n",
    "                substring = s[index:i]\n",
    "                if substring not in current_set:\n",
    "                    current_set.add(substring)\n",
    "                    max_splits = max(max_splits, backtrack(i, current_set))\n",
    "                    current_set.remove(substring)\n",
    "            \n",
    "            return max_splits\n",
    "        \n",
    "        return backtrack(0, set())"
   ]
  }
 ],
 "metadata": {
  "kernelspec": {
   "display_name": "base",
   "language": "python",
   "name": "python3"
  },
  "language_info": {
   "codemirror_mode": {
    "name": "ipython",
    "version": 3
   },
   "file_extension": ".py",
   "mimetype": "text/x-python",
   "name": "python",
   "nbconvert_exporter": "python",
   "pygments_lexer": "ipython3",
   "version": "3.9.16"
  }
 },
 "nbformat": 4,
 "nbformat_minor": 2
}

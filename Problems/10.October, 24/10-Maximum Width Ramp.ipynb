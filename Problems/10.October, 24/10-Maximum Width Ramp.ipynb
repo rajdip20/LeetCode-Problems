{
 "cells": [
  {
   "cell_type": "markdown",
   "metadata": {},
   "source": [
    "A **ramp** in an integer array `nums` is a pair `(i, j)` for which `i < j` and `nums[i] <= nums[j]`. The **width** of such a ramp is `j - i`.\n",
    "\n",
    "Given an integer array `nums`, return *the maximum width of a ***ramp*** in* `nums`. If there is no **ramp** in `nums`, return `0`.\n",
    "\n",
    "<br>\n",
    "\n",
    "**Example 1:**\n",
    ">**Input:** nums = [6,0,8,2,1,5]<br>\n",
    ">**Output:** 4<br>\n",
    ">**Explanation:** The maximum width ramp is achieved at (i, j) = (1, 5): nums[1] = 0 and nums[5] = 5.\n",
    "\n",
    "**Example 2:**\n",
    ">**Input:** nums = [9,8,1,0,1,9,4,0,4,1]<br>\n",
    ">**Output:** 7<br>\n",
    ">**Explanation:** The maximum width ramp is achieved at (i, j) = (2, 9): nums[2] = 1 and nums[9] = 1.\n",
    "\n",
    "<br>\n",
    "\n",
    "**Constraints:**\n",
    "- >2 <= nums.length <= 5 * 10<sup>4</sup>\n",
    "- >0 <= nums[i] <= 5 * 10<sup>4</sup>"
   ]
  },
  {
   "cell_type": "code",
   "execution_count": 1,
   "metadata": {},
   "outputs": [],
   "source": [
    "class Solution:\n",
    "    def maxWidthRamp(self, nums: list[int]) -> int:\n",
    "        n = len(nums)\n",
    "        stack = []\n",
    "        \n",
    "        for i in range(n):\n",
    "            if not stack or nums[i] < nums[stack[-1]]:\n",
    "                stack.append(i)\n",
    "        \n",
    "        max_width = 0\n",
    "        \n",
    "        for j in range(n-1, -1, -1):\n",
    "            while stack and nums[stack[-1]] <= nums[j]:\n",
    "                max_width = max(max_width, j - stack.pop())\n",
    "        \n",
    "        return max_width"
   ]
  }
 ],
 "metadata": {
  "kernelspec": {
   "display_name": "base",
   "language": "python",
   "name": "python3"
  },
  "language_info": {
   "codemirror_mode": {
    "name": "ipython",
    "version": 3
   },
   "file_extension": ".py",
   "mimetype": "text/x-python",
   "name": "python",
   "nbconvert_exporter": "python",
   "pygments_lexer": "ipython3",
   "version": "3.9.16"
  }
 },
 "nbformat": 4,
 "nbformat_minor": 2
}

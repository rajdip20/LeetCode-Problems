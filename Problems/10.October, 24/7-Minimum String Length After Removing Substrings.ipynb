{
 "cells": [
  {
   "cell_type": "markdown",
   "metadata": {},
   "source": [
    "You are given a string `s` consisting only of **uppercase** English letters.\n",
    "\n",
    "You can apply some operations to this string where, in one operation, you can remove **any** occurrence of one of the substrings `\"AB\"` or `\"CD\"` from `s`.\n",
    "\n",
    "Return *the ***minimum*** possible length of the resulting string that you can obtain*.\n",
    "\n",
    "**Note** that the string concatenates after removing the substring and could produce new `\"AB\"` or `\"CD\"` substrings.\n",
    "\n",
    "<br>\n",
    "\n",
    "**Example 1:**\n",
    ">**Input:** s = \"ABFCACDB\"<br>\n",
    ">**Output:** 2<br>\n",
    ">**Explanation:** We can do the following operations:<br>\n",
    ">\\- Remove the substring \"ABFCACDB\", so s = \"FCACDB\".<br>\n",
    ">\\- Remove the substring \"FCACDB\", so s = \"FCAB\".<br>\n",
    ">\\- Remove the substring \"FCAB\", so s = \"FC\".<br>\n",
    ">So the resulting length of the string is 2.<br>\n",
    ">It can be shown that it is the minimum length that we can obtain.\n",
    "\n",
    "**Example 2:**\n",
    ">**Input:** s = \"ACBBD\"<br>\n",
    ">**Output:** 5<br>\n",
    ">**Explanation:** We cannot do any operations on the string so the length remains the same.\n",
    "\n",
    "<br>\n",
    "\n",
    "**Constraints:**\n",
    "- >1 <= s.length <= 100\n",
    "- >s consists only of uppercase English letters."
   ]
  },
  {
   "cell_type": "code",
   "execution_count": 1,
   "metadata": {},
   "outputs": [],
   "source": [
    "class Solution:\n",
    "    def minLength(self, s: str) -> int:\n",
    "        stack = []\n",
    "    \n",
    "        for char in s:\n",
    "            if stack and stack[-1] == 'A' and char == 'B':\n",
    "                stack.pop()\n",
    "            elif stack and stack[-1] == 'C' and char == 'D':\n",
    "                stack.pop()\n",
    "            else:\n",
    "                stack.append(char)\n",
    "        \n",
    "        return len(stack)"
   ]
  }
 ],
 "metadata": {
  "kernelspec": {
   "display_name": "base",
   "language": "python",
   "name": "python3"
  },
  "language_info": {
   "codemirror_mode": {
    "name": "ipython",
    "version": 3
   },
   "file_extension": ".py",
   "mimetype": "text/x-python",
   "name": "python",
   "nbconvert_exporter": "python",
   "pygments_lexer": "ipython3",
   "version": "3.9.16"
  }
 },
 "nbformat": 4,
 "nbformat_minor": 2
}

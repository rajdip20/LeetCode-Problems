{
 "cells": [
  {
   "cell_type": "markdown",
   "metadata": {},
   "source": [
    "A **boolean expression** is an expression that evaluates to either `true` or `false`. It can be in one of the following shapes:\n",
    "- `'t'` that evaluates to `true`.\n",
    "- `'f'` that evaluates to `false`.\n",
    "- `'!(subExpr)'` that evaluates to **the logical NOT** of the inner expression `subExpr`.\n",
    "- **'&(subExpr<sub>1</sub>, subExpr<sub>2</sub>, ..., subExpr<sub>n</sub>)'** that evaluates to **the logical AND** of the inner expressions **subExpr<sub>1</sub>, subExpr<sub>2</sub>, ..., subExpr<sub>n</sub>** where **n >= 1**.\n",
    "- **'|(subExpr<sub>1</sub>, subExpr<sub>2</sub>, ..., subExpr<sub>n</sub>)'** that evaluates to **the logical OR** of the inner expressions **subExpr<sub>1</sub>, subExpr<sub>2</sub>, ..., subExpr<sub>n</sub>** where **n >= 1**.\n",
    "\n",
    "Given a string `expression` that represents a **boolean expression**, return *the evaluation of that expression*.\n",
    "\n",
    "It is **guaranteed** that the given expression is valid and follows the given rules.\n",
    "\n",
    "<br>\n",
    "\n",
    "**Example 1:**\n",
    ">**Input:** expression = \"&(|(f))\"<br>\n",
    ">**Output:** false<br>\n",
    ">**Explanation:** <br>\n",
    ">First, evaluate |(f) --> f. The expression is now \"&(f)\".<br>\n",
    ">Then, evaluate &(f) --> f. The expression is now \"f\".<br>\n",
    ">Finally, return false.\n",
    "\n",
    "**Example 2:**\n",
    ">**Input:** expression = \"|(f,f,f,t)\"<br>\n",
    ">**Output:** true<br>\n",
    ">**Explanation:** The evaluation of (false OR false OR false OR true) is true.\n",
    "\n",
    "**Example 3:**\n",
    ">**Input:** expression = \"!(&(f,t))\"<br>\n",
    ">**Output:** true<br>\n",
    ">**Explanation:** <br>\n",
    ">First, evaluate &(f,t) --> (false AND true) --> false --> f. The expression is now \"!(f)\".<br>\n",
    ">Then, evaluate !(f) --> NOT false --> true. We return true.\n",
    "\n",
    "<br>\n",
    "\n",
    "**Constraints:**\n",
    "- >1 <= expression.length <= 2 * 10<sup>4</sup>\n",
    "- >expression[i] is one following characters: `'('`, `')'`, `'&'`, `'|'`, `'!'`, `'t'`, `'f'`, and `','`."
   ]
  },
  {
   "cell_type": "code",
   "execution_count": 1,
   "metadata": {},
   "outputs": [],
   "source": [
    "class Solution:\n",
    "    def parseBoolExpr(self, expression: str) -> bool:\n",
    "        stack = []\n",
    "    \n",
    "        for ch in expression:\n",
    "            if ch == ')':\n",
    "                sub_expr = []\n",
    "                while stack and stack[-1] != '(':\n",
    "                    sub_expr.append(stack.pop())\n",
    "                stack.pop()\n",
    "                \n",
    "                operator = stack.pop()\n",
    "                \n",
    "                if operator == '&':\n",
    "                    result = all(x == 't' for x in sub_expr)\n",
    "                elif operator == '|':\n",
    "                    result = any(x == 't' for x in sub_expr)\n",
    "                elif operator == '!':\n",
    "                    result = sub_expr[0] == 'f'\n",
    "                \n",
    "                stack.append('t' if result else 'f')\n",
    "            \n",
    "            elif ch != ',':\n",
    "                stack.append(ch)\n",
    "        \n",
    "        return stack[-1] == 't'"
   ]
  }
 ],
 "metadata": {
  "kernelspec": {
   "display_name": "base",
   "language": "python",
   "name": "python3"
  },
  "language_info": {
   "codemirror_mode": {
    "name": "ipython",
    "version": 3
   },
   "file_extension": ".py",
   "mimetype": "text/x-python",
   "name": "python",
   "nbconvert_exporter": "python",
   "pygments_lexer": "ipython3",
   "version": "3.9.16"
  }
 },
 "nbformat": 4,
 "nbformat_minor": 2
}

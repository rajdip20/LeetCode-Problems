{
 "cells": [
  {
   "cell_type": "markdown",
   "metadata": {},
   "source": [
    "Given two positive integers `n` and `k`, the binary string **S<sub>n<sub>** is formed as follows:\n",
    "- **S<sub>1</sub> = \"0\"**\n",
    "- **S<sub>i</sub> = S<sub>i - 1</sub> + \"1\" + reverse(invert(S<sub>i - 1</sub>))** for `i > 1`\n",
    "\n",
    "Where `+` denotes the concatenation operation, `reverse(x)` returns the reversed string `x`, and `invert(x)` inverts all the bits in `x` (`0` changes to `1` and `1` changes to `0`).\n",
    "\n",
    "For example, the first four strings in the above sequence are:\n",
    "- **S<sub>1</sub> = \"0\"**\n",
    "- **S<sub>2</sub> = \"011\"**\n",
    "- **S<sub>3</sub> = \"0111001\"**\n",
    "- **S<sub>4</sub> = \"011100110110001\"**\n",
    "\n",
    "Return *the **k<sup>th</sup>** bit in **S<sub>n</sub>**. It is guaranteed that* `k` *is valid for the given* `n`.\n",
    "\n",
    "<br>\n",
    "\n",
    "**Example 1:**\n",
    ">**Input:** n = 3, k = 1<br>\n",
    ">**Output:** \"0\"<br>\n",
    ">**Explanation:** S<sub>3</sub> is \"**0**111001\".<br>\n",
    ">The 1<sup>st</sup> bit is \"0\".\n",
    "\n",
    "**Example 2:**\n",
    ">**Input:** n = 4, k = 11<br>\n",
    ">**Output:** \"1\"<br>\n",
    ">**Explanation:** S<sub>4</sub> is \"0111001101**1**0001\".<br>\n",
    ">The 11<sup>th</sup> bit is \"1\".\n",
    "\n",
    "<br>\n",
    "\n",
    "**Constraints:**\n",
    "- >1 <= n <= 20\n",
    "- >1 <= k <= 2<sup>n</sup> - 1"
   ]
  },
  {
   "cell_type": "code",
   "execution_count": 1,
   "metadata": {},
   "outputs": [],
   "source": [
    "class Solution:\n",
    "    def findKthBit(self, n: int, k: int) -> str:\n",
    "        if n == 1:\n",
    "            return '0'\n",
    "        \n",
    "        mid = (1 << (n - 1))\n",
    "        \n",
    "        if k == mid:\n",
    "            return '1'\n",
    "        elif k < mid:\n",
    "            return self.findKthBit(n - 1, k)\n",
    "        else:\n",
    "            return '0' if self.findKthBit(n - 1, mid - (k - mid)) == '1' else '1'"
   ]
  }
 ],
 "metadata": {
  "kernelspec": {
   "display_name": "base",
   "language": "python",
   "name": "python3"
  },
  "language_info": {
   "codemirror_mode": {
    "name": "ipython",
    "version": 3
   },
   "file_extension": ".py",
   "mimetype": "text/x-python",
   "name": "python",
   "nbconvert_exporter": "python",
   "pygments_lexer": "ipython3",
   "version": "3.9.16"
  }
 },
 "nbformat": 4,
 "nbformat_minor": 2
}

{
 "cells": [
  {
   "cell_type": "markdown",
   "metadata": {},
   "source": [
    "You are given a positive integer array `skill` of **even** length `n` where `skill[i]` denotes the skill of the **i<sup>th</sup>** player. Divide the players into `n / 2` teams of size `2` such that the total skill of each team is **equal**.\n",
    "\n",
    "The **chemistry** of a team is equal to the **product** of the skills of the players on that team.\n",
    "\n",
    "Return *the sum of the ***chemistry*** of all the teams, or return* `-1` *if there is no way to divide the players into teams such that the total skill of each team is equal*.\n",
    "\n",
    "<br>\n",
    "\n",
    "**Example 1:**\n",
    ">**Input:** skill = [3,2,5,1,3,4]<br>\n",
    ">**Output:** 22<br>\n",
    ">**Explanation:** <br>\n",
    ">Divide the players into the following teams: (1, 5), (2, 4), (3, 3), where each team has a total skill of 6.<br>\n",
    ">The sum of the chemistry of all the teams is: 1 * 5 + 2 * 4 + 3 * 3 = 5 + 8 + 9 = 22.\n",
    "\n",
    "**Example 2:**\n",
    ">**Input:** skill = [3,4]<br>\n",
    ">**Output:** 12<br>\n",
    ">**Explanation:** <br>\n",
    ">The two players form a team with a total skill of 7.<br>\n",
    ">The chemistry of the team is 3 * 4 = 12.\n",
    "\n",
    "**Example 3:**\n",
    ">**Input:** skill = [1,1,2,3]<br>\n",
    ">**Output:** -1<br>\n",
    ">**Explanation:** <br>\n",
    ">There is no way to divide the players into teams such that the total skill of each team is equal.\n",
    "\n",
    "<br>\n",
    "\n",
    "**Constraints:**\n",
    "- >2 <= skill.length <= 10<sup>5</sup>\n",
    "- >skill.length is even.\n",
    "- >1 <= skill[i] <= 1000"
   ]
  },
  {
   "cell_type": "code",
   "execution_count": 1,
   "metadata": {},
   "outputs": [],
   "source": [
    "class Solution:\n",
    "    def dividePlayers(self, skill: list[int]) -> int:\n",
    "        n = len(skill)\n",
    "    \n",
    "        total_sum = sum(skill)\n",
    "        num_teams = n // 2\n",
    "        \n",
    "        if total_sum % num_teams != 0:\n",
    "            return -1\n",
    "        \n",
    "        target_sum = total_sum // num_teams\n",
    "        skill.sort()\n",
    "        \n",
    "        chemistry_sum = 0\n",
    "        left, right = 0, n - 1\n",
    "        \n",
    "        while left < right:\n",
    "            if skill[left] + skill[right] != target_sum:\n",
    "                return -1\n",
    "            chemistry_sum += skill[left] * skill[right]\n",
    "            left += 1\n",
    "            right -= 1\n",
    "        \n",
    "        return chemistry_sum"
   ]
  }
 ],
 "metadata": {
  "kernelspec": {
   "display_name": "base",
   "language": "python",
   "name": "python3"
  },
  "language_info": {
   "codemirror_mode": {
    "name": "ipython",
    "version": 3
   },
   "file_extension": ".py",
   "mimetype": "text/x-python",
   "name": "python",
   "nbconvert_exporter": "python",
   "pygments_lexer": "ipython3",
   "version": "3.9.16"
  }
 },
 "nbformat": 4,
 "nbformat_minor": 2
}

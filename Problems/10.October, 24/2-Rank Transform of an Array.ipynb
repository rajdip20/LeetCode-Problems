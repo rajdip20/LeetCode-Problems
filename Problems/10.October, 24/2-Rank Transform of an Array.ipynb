{
 "cells": [
  {
   "cell_type": "markdown",
   "metadata": {},
   "source": [
    "Given an array of integers `arr`, replace each element with its rank.\n",
    "\n",
    "The rank represents how large the element is. The rank has the following rules:\n",
    "- Rank is an integer starting from 1.\n",
    "- The larger the element, the larger the rank. If two elements are equal, their rank must be the same.\n",
    "- Rank should be as small as possible.\n",
    "\n",
    "<br>\n",
    "\n",
    "**Example 1:**\n",
    ">**Input:** arr = [40,10,20,30]<br>\n",
    ">**Output:** [4,1,2,3]<br>\n",
    ">**Explanation:** 40 is the largest element. 10 is the smallest. 20 is the second smallest. 30 is the third smallest.\n",
    "\n",
    "**Example 2:**\n",
    ">**Input:** arr = [100,100,100]<br>\n",
    ">**Output:** [1,1,1]<br>\n",
    ">**Explanation:** Same elements share the same rank.\n",
    "\n",
    "**Example 3:**\n",
    ">**Input:** arr = [37,12,28,9,100,56,80,5,12]<br>\n",
    ">**Output:** [5,3,4,2,8,6,7,1,3]\n",
    "\n",
    "<br>\n",
    "\n",
    "**Constraints:**\n",
    "- >0 <= arr.length <= 10<sup>5</sup>\n",
    "- >-10<sup>9</sup> <= arr[i] <= 10<sup>9</sup>"
   ]
  },
  {
   "cell_type": "code",
   "execution_count": 1,
   "metadata": {},
   "outputs": [],
   "source": [
    "class Solution:\n",
    "    def arrayRankTransform(self, arr: list[int]) -> list[int]:\n",
    "        sorted_unique = sorted(set(arr))\n",
    "        rank_map = {num: rank + 1 for rank, num in enumerate(sorted_unique)}\n",
    "        \n",
    "        return [rank_map[num] for num in arr]"
   ]
  }
 ],
 "metadata": {
  "kernelspec": {
   "display_name": "base",
   "language": "python",
   "name": "python3"
  },
  "language_info": {
   "codemirror_mode": {
    "name": "ipython",
    "version": 3
   },
   "file_extension": ".py",
   "mimetype": "text/x-python",
   "name": "python",
   "nbconvert_exporter": "python",
   "pygments_lexer": "ipython3",
   "version": "3.9.16"
  }
 },
 "nbformat": 4,
 "nbformat_minor": 2
}

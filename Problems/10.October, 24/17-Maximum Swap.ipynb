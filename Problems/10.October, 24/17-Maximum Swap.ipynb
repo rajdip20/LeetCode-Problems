{
 "cells": [
  {
   "cell_type": "markdown",
   "metadata": {},
   "source": [
    "You are given an integer `num`. You can swap two digits at most once to get the maximum valued number.\n",
    "\n",
    "Return *the maximum valued number you can get*.\n",
    "\n",
    "<br>\n",
    "\n",
    "**Example 1:**\n",
    ">**Input:** num = 2736<br>\n",
    ">**Output:** 7236<br>\n",
    ">**Explanation:** Swap the number 2 and the number 7.\n",
    "\n",
    "**Example 2:**\n",
    ">**Input:** num = 9973<br>\n",
    ">**Output:** 9973<br>\n",
    ">**Explanation:** No swap.\n",
    "\n",
    "<br>\n",
    "\n",
    "**Constraints:**\n",
    "- >0 <= num <= 10<sup>8</sup>"
   ]
  },
  {
   "cell_type": "code",
   "execution_count": 1,
   "metadata": {},
   "outputs": [],
   "source": [
    "class Solution:\n",
    "    def maximumSwap(self, num: int) -> int:\n",
    "        num_list = list(str(num))\n",
    "        last_occurrence = {int(x): i for i, x in enumerate(num_list)}\n",
    "        \n",
    "        for i, digit in enumerate(num_list):\n",
    "            for d in range(9, int(digit), -1):\n",
    "                if last_occurrence.get(d, -1) > i:\n",
    "                    num_list[i], num_list[last_occurrence[d]] = num_list[last_occurrence[d]], num_list[i]\n",
    "                    return int(\"\".join(num_list))\n",
    "        \n",
    "        return num"
   ]
  }
 ],
 "metadata": {
  "kernelspec": {
   "display_name": "base",
   "language": "python",
   "name": "python3"
  },
  "language_info": {
   "codemirror_mode": {
    "name": "ipython",
    "version": 3
   },
   "file_extension": ".py",
   "mimetype": "text/x-python",
   "name": "python",
   "nbconvert_exporter": "python",
   "pygments_lexer": "ipython3",
   "version": "3.9.16"
  }
 },
 "nbformat": 4,
 "nbformat_minor": 2
}

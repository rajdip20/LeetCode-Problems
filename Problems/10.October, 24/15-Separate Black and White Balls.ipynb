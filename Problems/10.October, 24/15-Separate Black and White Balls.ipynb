{
 "cells": [
  {
   "cell_type": "markdown",
   "metadata": {},
   "source": [
    "There are `n` balls on a table, each ball has a color black or white.\n",
    "\n",
    "You are given a **0-indexed** binary string `s` of length `n`, where `1` and `0` represent black and white balls, respectively.\n",
    "\n",
    "In each step, you can choose two adjacent balls and swap them.\n",
    "\n",
    "Return *the ***minimum*** number of steps to group all the black balls to the right and all the white balls to the left*.\n",
    "\n",
    "<br>\n",
    "\n",
    "**Example 1:**\n",
    ">**Input:** s = \"101\"<br>\n",
    ">**Output:** 1<br>\n",
    ">**Explanation:** We can group all the black balls to the right in the following way:<br>\n",
    ">\\- Swap s[0] and s[1], s = \"011\".<br>\n",
    ">Initially, 1s are not grouped together, requiring at least 1 step to group them to the right.\n",
    "\n",
    "**Example 2:**\n",
    ">**Input:** s = \"100\"<br>\n",
    ">**Output:** 2<br>\n",
    ">**Explanation:** We can group all the black balls to the right in the following way:<br>\n",
    ">\\- Swap s[0] and s[1], s = \"010\".<br>\n",
    ">\\- Swap s[1] and s[2], s = \"001\".<br>\n",
    ">It can be proven that the minimum number of steps needed is 2.\n",
    "\n",
    "**Example 3:**\n",
    ">**Input:** s = \"0111\"<br>\n",
    ">**Output:** 0<br>\n",
    ">**Explanation:** All the black balls are already grouped to the right.\n",
    "\n",
    "<br>\n",
    "\n",
    "**Constraints:**\n",
    "- >1 <= n == s.length <= 10<sup>5</sup>\n",
    "- >s[i] is either '0' or '1'."
   ]
  },
  {
   "cell_type": "code",
   "execution_count": 1,
   "metadata": {},
   "outputs": [],
   "source": [
    "class Solution:\n",
    "    def minimumSteps(self, s: str) -> int:\n",
    "        white = 0\n",
    "        res = 0\n",
    "        j = 0\n",
    "        n = len(s)\n",
    "        \n",
    "        while(j < n):\n",
    "            if s[j] == '0':\n",
    "                res += white\n",
    "            white += 1 if s[j] == '1' else 0\n",
    "            j += 1\n",
    "            \n",
    "        return res"
   ]
  }
 ],
 "metadata": {
  "kernelspec": {
   "display_name": "base",
   "language": "python",
   "name": "python3"
  },
  "language_info": {
   "codemirror_mode": {
    "name": "ipython",
    "version": 3
   },
   "file_extension": ".py",
   "mimetype": "text/x-python",
   "name": "python",
   "nbconvert_exporter": "python",
   "pygments_lexer": "ipython3",
   "version": "3.9.16"
  }
 },
 "nbformat": 4,
 "nbformat_minor": 2
}

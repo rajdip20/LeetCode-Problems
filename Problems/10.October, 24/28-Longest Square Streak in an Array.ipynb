{
 "cells": [
  {
   "cell_type": "markdown",
   "metadata": {},
   "source": [
    "You are given an integer array `nums`. A subsequence of `nums` is called a **square streak** if:\n",
    "- The length of the subsequence is at least `2`, and\n",
    "- **after** sorting the subsequence, each element (except the first element) is the **square** of the previous number.\n",
    "\n",
    "Return *the length of the ***longest square streak*** in* `nums`*, or return* `-1` *if there is no* ***square streak***.\n",
    "\n",
    "A **subsequence** is an array that can be derived from another array by deleting some or no elements without changing the order of the remaining elements.\n",
    "\n",
    "<br>\n",
    "\n",
    "**Example 1:**\n",
    ">**Input:** nums = [4,3,6,16,8,2]<br>\n",
    ">**Output:** 3<br>\n",
    ">**Explanation:** Choose the subsequence [4,16,2]. After sorting it, it becomes [2,4,16].<br>\n",
    ">\\- 4 = 2 * 2.<br>\n",
    ">\\- 16 = 4 * 4.<br>\n",
    ">Therefore, [4,16,2] is a square streak.<br>\n",
    ">It can be shown that every subsequence of length 4 is not a square streak.\n",
    "\n",
    "**Example 2:**\n",
    ">**Input:** nums = [2,3,5,6,7]<br>\n",
    ">**Output:** -1<br>\n",
    ">**Explanation:** There is no square streak in nums so return -1.\n",
    "\n",
    "<br>\n",
    "\n",
    "**Constraints:**\n",
    "- >2 <= nums.length <= 10<sup>5</sup>\n",
    "- >2 <= nums[i] <= 10<sup>5</sup>"
   ]
  },
  {
   "cell_type": "code",
   "execution_count": 1,
   "metadata": {},
   "outputs": [],
   "source": [
    "class Solution:\n",
    "    def longestSquareStreak(self, nums: list[int]) -> int:\n",
    "        nums.sort()\n",
    "        num_set = set(nums)\n",
    "        max_streak = 0\n",
    "\n",
    "        for num in nums:\n",
    "            streak_length = 1\n",
    "            current = num\n",
    "            while current * current in num_set:\n",
    "                current = current * current\n",
    "                streak_length += 1\n",
    "            \n",
    "            if streak_length > 1:\n",
    "                max_streak = max(max_streak, streak_length)\n",
    "        \n",
    "        return max_streak if max_streak >= 2 else -1"
   ]
  }
 ],
 "metadata": {
  "kernelspec": {
   "display_name": "base",
   "language": "python",
   "name": "python3"
  },
  "language_info": {
   "codemirror_mode": {
    "name": "ipython",
    "version": 3
   },
   "file_extension": ".py",
   "mimetype": "text/x-python",
   "name": "python",
   "nbconvert_exporter": "python",
   "pygments_lexer": "ipython3",
   "version": "3.9.16"
  }
 },
 "nbformat": 4,
 "nbformat_minor": 2
}

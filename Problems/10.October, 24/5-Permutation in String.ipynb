{
 "cells": [
  {
   "cell_type": "markdown",
   "metadata": {},
   "source": [
    "Given two strings `s1` and `s2`, return `true` if `s2` contains a permutation of `s1`, or `false` otherwise.\n",
    "\n",
    "In other words, return `true` if one of `s1`'s permutations is the substring of `s2`.\n",
    "\n",
    "<br>\n",
    "\n",
    "**Example 1:**\n",
    ">**Input:** s1 = \"ab\", s2 = \"eidbaooo\"<br>\n",
    ">**Output:** true<br>\n",
    ">**Explanation:** s2 contains one permutation of s1 (\"ba\").\n",
    "\n",
    "**Example 2:**\n",
    ">**Input:** s1 = \"ab\", s2 = \"eidboaoo\"<br>\n",
    ">**Output:** false\n",
    "\n",
    "<br>\n",
    "\n",
    "**Constraints:**\n",
    "- >1 <= s1.length, s2.length <= 10<sup>4</sup>\n",
    "- >s1 and s2 consist of lowercase English letters."
   ]
  },
  {
   "cell_type": "code",
   "execution_count": 1,
   "metadata": {},
   "outputs": [],
   "source": [
    "class Solution:\n",
    "    def checkInclusion(self, s1: str, s2: str) -> bool:\n",
    "        if len(s1) > len(s2):\n",
    "            return False\n",
    "        \n",
    "        freq_s1 = [0] * 26\n",
    "        window_freq = [0] * 26\n",
    "        \n",
    "        for char in s1:\n",
    "            freq_s1[ord(char) - ord('a')] += 1\n",
    "        \n",
    "        for i in range(len(s2)):\n",
    "            window_freq[ord(s2[i]) - ord('a')] += 1\n",
    "            \n",
    "            if i >= len(s1):\n",
    "                window_freq[ord(s2[i - len(s1)]) - ord('a')] -= 1\n",
    "            \n",
    "            if window_freq == freq_s1:\n",
    "                return True\n",
    "        \n",
    "        return False"
   ]
  }
 ],
 "metadata": {
  "kernelspec": {
   "display_name": "base",
   "language": "python",
   "name": "python3"
  },
  "language_info": {
   "codemirror_mode": {
    "name": "ipython",
    "version": 3
   },
   "file_extension": ".py",
   "mimetype": "text/x-python",
   "name": "python",
   "nbconvert_exporter": "python",
   "pygments_lexer": "ipython3",
   "version": "3.9.16"
  }
 },
 "nbformat": 4,
 "nbformat_minor": 2
}

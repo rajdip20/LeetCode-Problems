{
 "cells": [
  {
   "cell_type": "markdown",
   "metadata": {},
   "source": [
    "You are given a 2D integer array `intervals` where **intervals[i] = [left<sub>i</sub>, right<sub>i</sub>]** represents the **inclusive** interval **[left<sub>i</sub>, right<sub>i</sub>]**.\n",
    "\n",
    "You have to divide the intervals into one or more **groups** such that each interval is in **exactly** one group, and no two intervals that are in the same group **intersect** each other.\n",
    "\n",
    "Return *the ***minimum*** number of groups you need to make*.\n",
    "\n",
    "Two intervals **intersect** if there is at least one common number between them. For example, the intervals `[1, 5]` and `[5, 8]` intersect.\n",
    "\n",
    "<br>\n",
    "\n",
    "**Example 1:**\n",
    ">**Input:** intervals = [[5,10],[6,8],[1,5],[2,3],[1,10]]<br>\n",
    ">**Output:** 3<br>\n",
    ">**Explanation:** We can divide the intervals into the following groups:<br>\n",
    ">\\- Group 1: [1, 5], [6, 8].<br>\n",
    ">\\- Group 2: [2, 3], [5, 10].<br>\n",
    ">\\- Group 3: [1, 10].<br>\n",
    ">It can be proven that it is not possible to divide the intervals into fewer than 3 groups.\n",
    "\n",
    "**Example 2:**\n",
    ">**Input:** intervals = [[1,3],[5,6],[8,10],[11,13]]<br>\n",
    ">**Output:** 1<br>\n",
    ">**Explanation:** None of the intervals overlap, so we can put all of them in one group.\n",
    "\n",
    "<br>\n",
    "\n",
    "**Constraints:**\n",
    "- >1 <= intervals.length <= 10<sup>5</sup>\n",
    "- >intervals[i].length == 2\n",
    "- >1 <= left<sub>i</sub> <= right<sub>i</sub> <= 10<sup>6</sup>"
   ]
  },
  {
   "cell_type": "code",
   "execution_count": 1,
   "metadata": {},
   "outputs": [],
   "source": [
    "class Solution:\n",
    "    def minGroups(self, intervals: list[list[int]]) -> int:\n",
    "        events = []\n",
    "        \n",
    "        for left, right in intervals:\n",
    "            events.append((left, 1))\n",
    "            events.append((right + 1, -1))\n",
    "        \n",
    "        events.sort()\n",
    "        \n",
    "        max_groups = 0\n",
    "        current_groups = 0\n",
    "        \n",
    "        for time, event in events:\n",
    "            current_groups += event\n",
    "            max_groups = max(max_groups, current_groups)\n",
    "        \n",
    "        return max_groups"
   ]
  }
 ],
 "metadata": {
  "kernelspec": {
   "display_name": "base",
   "language": "python",
   "name": "python3"
  },
  "language_info": {
   "codemirror_mode": {
    "name": "ipython",
    "version": 3
   },
   "file_extension": ".py",
   "mimetype": "text/x-python",
   "name": "python",
   "nbconvert_exporter": "python",
   "pygments_lexer": "ipython3",
   "version": "3.9.16"
  }
 },
 "nbformat": 4,
 "nbformat_minor": 2
}

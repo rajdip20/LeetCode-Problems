{
 "cells": [
  {
   "cell_type": "markdown",
   "metadata": {},
   "source": [
    "For a binary tree **T**, we can define a **flip operation** as follows: choose any node, and swap the left and right child subtrees.\n",
    "\n",
    "A binary tree **X** is *flip equivalent* to a binary tree **Y** if and only if we can make **X** equal to **Y** after some number of flip operations.\n",
    "\n",
    "Given the roots of two binary trees `root1` and `root2`, return `true` if the two trees are flip equivalent or `false` otherwise.\n",
    "\n",
    "<br>\n",
    "\n",
    "**Example 1:**\n",
    ">![Flipped Trees Diagram](../../images/tree_ex.png)<br>\n",
    ">**Input:** root1 = [1,2,3,4,5,6,null,null,null,7,8], root2 = [1,3,2,null,6,4,5,null,null,null,null,8,7]<br>\n",
    ">**Output:** true<br>\n",
    ">**Explanation:** We flipped at nodes with values 1, 3, and 5.\n",
    "\n",
    "**Example 2:**\n",
    ">**Input:** root1 = [], root2 = []<br>\n",
    ">**Output:** true\n",
    "\n",
    "**Example 3:**\n",
    ">**Input:** root1 = [], root2 = [1]<br>\n",
    ">**Output:** false\n",
    "\n",
    "<br>\n",
    "\n",
    "**Constraints:**\n",
    "- >The number of nodes in each tree is in the range [0, 100].\n",
    "- >Each tree will have **unique node values** in the range [0, 99]."
   ]
  },
  {
   "cell_type": "code",
   "execution_count": 1,
   "metadata": {},
   "outputs": [],
   "source": [
    "# Definition for a binary tree node.\n",
    "# class TreeNode:\n",
    "#     def __init__(self, val=0, left=None, right=None):\n",
    "#         self.val = val\n",
    "#         self.left = left\n",
    "#         self.right = right\n",
    "class Solution:\n",
    "    def flipEquiv(self, root1, root2) -> bool:\n",
    "        if not root1 and not root2:\n",
    "            return True\n",
    "        if not root1 or not root2 or root1.val != root2.val:\n",
    "            return False\n",
    "        \n",
    "        return (self.flipEquiv(root1.left, root2.left) and self.flipEquiv(root1.right, root2.right)) or (self.flipEquiv(root1.left, root2.right) and self.flipEquiv(root1.right, root2.left))"
   ]
  }
 ],
 "metadata": {
  "kernelspec": {
   "display_name": "base",
   "language": "python",
   "name": "python3"
  },
  "language_info": {
   "codemirror_mode": {
    "name": "ipython",
    "version": 3
   },
   "file_extension": ".py",
   "mimetype": "text/x-python",
   "name": "python",
   "nbconvert_exporter": "python",
   "pygments_lexer": "ipython3",
   "version": "3.9.16"
  }
 },
 "nbformat": 4,
 "nbformat_minor": 2
}

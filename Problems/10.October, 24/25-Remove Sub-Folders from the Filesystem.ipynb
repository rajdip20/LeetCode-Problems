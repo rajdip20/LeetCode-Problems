{
 "cells": [
  {
   "cell_type": "markdown",
   "metadata": {},
   "source": [
    "Given a list of folders `folder`, return *the folders after removing all ***sub-folders*** in those folders*. You may return the answer in **any order**.\n",
    "\n",
    "If a `folder[i]` is located within another `folder[j]`, it is called a **sub-folder** of it. A sub-folder of `folder[j]` must start with `folder[j]`, followed by a `\"/\"`. For example, `\"/a/b\"` is a sub-folder of `\"/a\"`, but `\"/b\"` is not a sub-folder of `\"/a/b/c\"`.\n",
    "\n",
    "The format of a path is one or more concatenated strings of the form: `'/'` followed by one or more lowercase English letters.\n",
    "- For example, `\"/leetcode\"` and `\"/leetcode/problems\"` are valid paths while an empty string and `\"/\"` are not.\n",
    "\n",
    "<br>\n",
    "\n",
    "**Example 1:**\n",
    ">**Input:** folder = [\"/a\",\"/a/b\",\"/c/d\",\"/c/d/e\",\"/c/f\"]<br>\n",
    ">**Output:** [\"/a\",\"/c/d\",\"/c/f\"]<br>\n",
    ">**Explanation:** Folders \"/a/b\" is a subfolder of \"/a\" and \"/c/d/e\" is inside of folder \"/c/d\" in our filesystem.\n",
    "\n",
    "**Example 2:**\n",
    ">**Input:** folder = [\"/a\",\"/a/b/c\",\"/a/b/d\"]<br>\n",
    ">**Output:** [\"/a\"]<br>\n",
    ">**Explanation:** Folders \"/a/b/c\" and \"/a/b/d\" will be removed because they are subfolders of \"/a\".\n",
    "\n",
    "**Example 3:**\n",
    ">**Input:** folder = [\"/a/b/c\",\"/a/b/ca\",\"/a/b/d\"]<br>\n",
    ">**Output:** [\"/a/b/c\",\"/a/b/ca\",\"/a/b/d\"]\n",
    "\n",
    "<br>\n",
    "\n",
    "**Constraints:**\n",
    "- >1 <= folder.length <= 4 * 10<sup>4</sup\n",
    "- >2 <= folder[i].length <= 100\n",
    "- >folder[i] contains only lowercase letters and '/'.\n",
    "- >folder[i] always starts with the character '/'.\n",
    "- >Each folder name is **unique**."
   ]
  },
  {
   "cell_type": "code",
   "execution_count": 1,
   "metadata": {},
   "outputs": [],
   "source": [
    "class Solution:\n",
    "    def removeSubfolders(self, folder: list[str]) -> list[str]:\n",
    "        folder.sort()\n",
    "        result = []\n",
    "        \n",
    "        for f in folder:\n",
    "            if not result or not f.startswith(result[-1] + '/'):\n",
    "                result.append(f)\n",
    "                \n",
    "        return result"
   ]
  }
 ],
 "metadata": {
  "kernelspec": {
   "display_name": "base",
   "language": "python",
   "name": "python3"
  },
  "language_info": {
   "codemirror_mode": {
    "name": "ipython",
    "version": 3
   },
   "file_extension": ".py",
   "mimetype": "text/x-python",
   "name": "python",
   "nbconvert_exporter": "python",
   "pygments_lexer": "ipython3",
   "version": "3.9.16"
  }
 },
 "nbformat": 4,
 "nbformat_minor": 2
}

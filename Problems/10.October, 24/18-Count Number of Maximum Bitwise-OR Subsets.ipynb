{
 "cells": [
  {
   "cell_type": "markdown",
   "metadata": {},
   "source": [
    "Given an integer array `nums`, find the **maximum** possible **bitwise OR** of a subset of `nums` and return *the ***number of different non-empty subsets*** with the maximum bitwise OR*.\n",
    "\n",
    "An array `a` is a **subset** of an array `b` if `a` can be obtained from `b` by deleting some (possibly zero) elements of `b`. Two subsets are considered **different** if the indices of the elements chosen are different.\n",
    "\n",
    "The bitwise OR of an array `a` is equal to `a[0] OR a[1] OR ... OR a[a.length - 1]` (**0-indexed**).\n",
    "\n",
    "<br>\n",
    "\n",
    "**Example 1:**\n",
    ">**Input:** nums = [3,1]<br>\n",
    ">**Output:** 2<br>\n",
    ">**Explanation:** The maximum possible bitwise OR of a subset is 3. There are 2 subsets with a bitwise OR of 3:<br>\n",
    ">\\- [3]<br>\n",
    ">\\- [3,1]\n",
    "\n",
    "**Example 2:**\n",
    ">**Input:** nums = [2,2,2]<br>\n",
    ">**Output:** 7<br>\n",
    ">**Explanation:** All non-empty subsets of [2,2,2] have a bitwise OR of 2. There are 23 - 1 = 7 total subsets.\n",
    "\n",
    "**Example 3:**\n",
    ">**Input:** nums = [3,2,1,5]<br>\n",
    ">**Output:** 6<br>\n",
    ">**Explanation:** The maximum possible bitwise OR of a subset is 7. There are 6 subsets with a bitwise OR of 7:<br>\n",
    ">\\- [3,5]<br>\n",
    ">\\- [3,1,5]<br>\n",
    ">\\- [3,2,5]<br>\n",
    ">\\- [3,2,1,5]<br>\n",
    ">\\- [2,5]<br>\n",
    ">\\- [2,1,5]\n",
    "\n",
    "<br>\n",
    "\n",
    "**Constraints:**\n",
    "- >1 <= nums.length <= 16\n",
    "- >1 <= nums[i] <= 10<sup>5</sup>"
   ]
  },
  {
   "cell_type": "code",
   "execution_count": 1,
   "metadata": {},
   "outputs": [],
   "source": [
    "class Solution:\n",
    "    def countMaxOrSubsets(self, nums: list[int]) -> int:\n",
    "        max_or = 0\n",
    "        for num in nums:\n",
    "            max_or |= num\n",
    "        \n",
    "        n = len(nums)\n",
    "        count = 0\n",
    "\n",
    "        for subset_mask in range(1, 1 << n):\n",
    "            current_or = 0\n",
    "            for i in range(n):\n",
    "                if subset_mask & (1 << i):\n",
    "                    current_or |= nums[i]\n",
    "            if current_or == max_or:\n",
    "                count += 1\n",
    "\n",
    "        return count"
   ]
  }
 ],
 "metadata": {
  "kernelspec": {
   "display_name": "base",
   "language": "python",
   "name": "python3"
  },
  "language_info": {
   "codemirror_mode": {
    "name": "ipython",
    "version": 3
   },
   "file_extension": ".py",
   "mimetype": "text/x-python",
   "name": "python",
   "nbconvert_exporter": "python",
   "pygments_lexer": "ipython3",
   "version": "3.9.16"
  }
 },
 "nbformat": 4,
 "nbformat_minor": 2
}

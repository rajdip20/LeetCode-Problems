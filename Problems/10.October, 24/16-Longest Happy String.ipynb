{
 "cells": [
  {
   "cell_type": "markdown",
   "metadata": {},
   "source": [
    "A string `s` is called **happy** if it satisfies the following conditions:\n",
    "- `s` only contains the letters `'a'`, `'b'`, and `'c'`.\n",
    "- `s` does not contain any of `\"aaa\"`, `\"bbb\"`, or `\"ccc\"` as a substring.\n",
    "- `s` contains **at most** `a` occurrences of the letter `'a'`.\n",
    "- `s` contains **at most** `b` occurrences of the letter `'b'`.\n",
    "- `s` contains **at most** `c` occurrences of the letter `'c'`.\n",
    "\n",
    "Given three integers `a`, `b`, and `c`, return *the ***longest possible happy*** string*. If there are multiple longest happy strings, return *any of them*. If there is no such string, return t*he empty string* `\"\"`.\n",
    "\n",
    "A **substring** is a contiguous sequence of characters within a string.\n",
    "\n",
    "<br>\n",
    "\n",
    "**Example 1:**\n",
    ">**Input:** a = 1, b = 1, c = 7<br>\n",
    ">**Output:** \"ccaccbcc\"<br>\n",
    ">**Explanation:** \"ccbccacc\" would also be a correct answer.\n",
    "\n",
    "**Example 2:**\n",
    ">**Input:** a = 7, b = 1, c = 0<br>\n",
    ">**Output:** \"aabaa\"<br>\n",
    ">**Explanation:** It is the only correct answer in this case.\n",
    "\n",
    "<br>\n",
    "\n",
    "**Constraints:**\n",
    "- >0 <= a, b, c <= 100\n",
    "- >a + b + c > 0"
   ]
  },
  {
   "cell_type": "code",
   "execution_count": 1,
   "metadata": {},
   "outputs": [],
   "source": [
    "class Solution:\n",
    "    def longestDiverseString(self, a: int, b: int, c: int) -> str:\n",
    "        import heapq\n",
    "\n",
    "        heap = []\n",
    "    \n",
    "        if a > 0:\n",
    "            heapq.heappush(heap, (-a, 'a'))\n",
    "        if b > 0:\n",
    "            heapq.heappush(heap, (-b, 'b'))\n",
    "        if c > 0:\n",
    "            heapq.heappush(heap, (-c, 'c'))\n",
    "        \n",
    "        result = []\n",
    "        \n",
    "        while heap:\n",
    "            count1, char1 = heapq.heappop(heap)\n",
    "            \n",
    "            if len(result) >= 2 and result[-1] == char1 and result[-2] == char1:\n",
    "                if not heap:\n",
    "                    break\n",
    "                \n",
    "                count2, char2 = heapq.heappop(heap)\n",
    "                result.append(char2)\n",
    "                count2 += 1\n",
    "                \n",
    "                if count2 != 0:\n",
    "                    heapq.heappush(heap, (count2, char2))\n",
    "                \n",
    "                heapq.heappush(heap, (count1, char1))\n",
    "            else:\n",
    "                result.append(char1)\n",
    "                count1 += 1\n",
    "                \n",
    "                if count1 != 0:\n",
    "                    heapq.heappush(heap, (count1, char1))\n",
    "        \n",
    "        return ''.join(result)"
   ]
  }
 ],
 "metadata": {
  "kernelspec": {
   "display_name": "base",
   "language": "python",
   "name": "python3"
  },
  "language_info": {
   "codemirror_mode": {
    "name": "ipython",
    "version": 3
   },
   "file_extension": ".py",
   "mimetype": "text/x-python",
   "name": "python",
   "nbconvert_exporter": "python",
   "pygments_lexer": "ipython3",
   "version": "3.9.16"
  }
 },
 "nbformat": 4,
 "nbformat_minor": 2
}

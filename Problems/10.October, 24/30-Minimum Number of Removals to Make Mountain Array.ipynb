{
 "cells": [
  {
   "cell_type": "markdown",
   "metadata": {},
   "source": [
    "You may recall that an array `arr` is a **mountain array** if and only if:\n",
    "- `arr.length >= 3`\n",
    "- There exists some index `i` (**0-indexed**) with `0 < i < arr.length - 1` such that:\n",
    "    - `arr[0] < arr[1] < ... < arr[i - 1] < arr[i]`\n",
    "    - `arr[i] > arr[i + 1] > ... > arr[arr.length - 1]`\n",
    "\n",
    "Given an integer array `nums​​​`, return *the ***minimum*** number of elements to remove to make* `nums​​​` *a* ***mountain array***.\n",
    "\n",
    "<br>\n",
    "\n",
    "**Example 1:**\n",
    ">**Input:** nums = [1,3,1]<br>\n",
    ">**Output:** 0<br>\n",
    ">**Explanation:** The array itself is a mountain array so we do not need to remove any elements.\n",
    "\n",
    "**Example 2:**\n",
    ">**Input:** nums = [2,1,1,5,6,2,3,1]<br>\n",
    ">**Output:** 3<br>\n",
    ">**Explanation:** One solution is to remove the elements at indices 0, 1, and 5, making the array nums = [1,5,6,3,1].\n",
    "\n",
    "<br>\n",
    "\n",
    "**Constraints:**\n",
    "- >3 <= nums.length <= 1000\n",
    "- >1 <= nums[i] <= 10<sup>9</sup>\n",
    "- >It is guaranteed that you can make a mountain array out of nums."
   ]
  },
  {
   "cell_type": "code",
   "execution_count": 1,
   "metadata": {},
   "outputs": [],
   "source": [
    "class Solution:\n",
    "    def minimumMountainRemovals(self, nums: list[int]) -> int:\n",
    "        n = len(nums)\n",
    "    \n",
    "        lis = [1] * n\n",
    "        for i in range(n):\n",
    "            for j in range(i):\n",
    "                if nums[j] < nums[i]:\n",
    "                    lis[i] = max(lis[i], lis[j] + 1)\n",
    "        \n",
    "        lds = [1] * n\n",
    "        for i in range(n - 1, -1, -1):\n",
    "            for j in range(i + 1, n):\n",
    "                if nums[j] < nums[i]:\n",
    "                    lds[i] = max(lds[i], lds[j] + 1)\n",
    "        \n",
    "        max_mountain_len = 0\n",
    "        for i in range(1, n - 1):\n",
    "            if lis[i] > 1 and lds[i] > 1:\n",
    "                max_mountain_len = max(max_mountain_len, lis[i] + lds[i] - 1)\n",
    "        \n",
    "        return n - max_mountain_len if max_mountain_len > 0 else 0"
   ]
  }
 ],
 "metadata": {
  "kernelspec": {
   "display_name": "base",
   "language": "python",
   "name": "python3"
  },
  "language_info": {
   "codemirror_mode": {
    "name": "ipython",
    "version": 3
   },
   "file_extension": ".py",
   "mimetype": "text/x-python",
   "name": "python",
   "nbconvert_exporter": "python",
   "pygments_lexer": "ipython3",
   "version": "3.9.16"
  }
 },
 "nbformat": 4,
 "nbformat_minor": 2
}

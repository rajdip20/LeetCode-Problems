{
 "cells": [
  {
   "cell_type": "markdown",
   "metadata": {},
   "source": [
    "You are given the `root` of a binary tree and a positive integer `k`.\n",
    "\n",
    "The **level sum** in the tree is the sum of the values of the nodes that are on the **same** level.\n",
    "\n",
    "Return *the* **k<sup>th</sup>** ***largest*** *level sum in the tree (not necessarily distinct). If there are fewer than* `k` *levels in the tree, return* `-1`.\n",
    "\n",
    "**Note** that two nodes are on the same level if they have the same distance from the root.\n",
    "\n",
    "<br>\n",
    "\n",
    "**Example 1:**\n",
    ">![image1](../../images/binaryytreeedrawio-2.png)<br>\n",
    ">**Input:** root = [5,8,9,2,1,3,7,4,6], k = 2<br>\n",
    ">**Output:** 13<br>\n",
    ">**Explanation:** The level sums are the following:<br>\n",
    ">\\- Level 1: 5.<br>\n",
    ">\\- Level 2: 8 + 9 = 17.<br>\n",
    ">\\- Level 3: 2 + 1 + 3 + 7 = 13.<br>\n",
    ">\\- Level 4: 4 + 6 = 10.<br>\n",
    ">The 2nd largest level sum is 13.\n",
    "\n",
    "**Example 2:**\n",
    ">![image2](../../images/treedrawio-3.png)<br>\n",
    ">**Input:** root = [1,2,null,3], k = 1<br>\n",
    ">**Output:** 3<br>\n",
    ">**Explanation:** The largest level sum is 3.\n",
    "\n",
    "<br>\n",
    "\n",
    "**Constraints:**\n",
    "- >The number of nodes in the tree is n.\n",
    "- >2 <= n <= 10<sup>5</sup>\n",
    "- >1 <= Node.val <= 10<sup>6</sup>\n",
    "- >1 <= k <= n"
   ]
  },
  {
   "cell_type": "code",
   "execution_count": 1,
   "metadata": {},
   "outputs": [],
   "source": [
    "# Definition for a binary tree node.\n",
    "# class TreeNode:\n",
    "#     def __init__(self, val=0, left=None, right=None):\n",
    "#         self.val = val\n",
    "#         self.left = left\n",
    "#         self.right = right\n",
    "class Solution:\n",
    "    def kthLargestLevelSum(self, root, k: int) -> int:\n",
    "        from collections import deque\n",
    "\n",
    "        if not root:\n",
    "            return -1\n",
    "        \n",
    "        queue = deque([root])\n",
    "        level_sums = []\n",
    "        \n",
    "        while queue:\n",
    "            level_size = len(queue)\n",
    "            level_sum = 0\n",
    "            for _ in range(level_size):\n",
    "                node = queue.popleft()\n",
    "                level_sum += node.val\n",
    "                if node.left:\n",
    "                    queue.append(node.left)\n",
    "                if node.right:\n",
    "                    queue.append(node.right)\n",
    "            level_sums.append(level_sum)\n",
    "        \n",
    "        level_sums.sort(reverse=True)\n",
    "        \n",
    "        if k <= len(level_sums):\n",
    "            return level_sums[k - 1]\n",
    "        else:\n",
    "            return -1"
   ]
  }
 ],
 "metadata": {
  "kernelspec": {
   "display_name": "base",
   "language": "python",
   "name": "python3"
  },
  "language_info": {
   "codemirror_mode": {
    "name": "ipython",
    "version": 3
   },
   "file_extension": ".py",
   "mimetype": "text/x-python",
   "name": "python",
   "nbconvert_exporter": "python",
   "pygments_lexer": "ipython3",
   "version": "3.9.16"
  }
 },
 "nbformat": 4,
 "nbformat_minor": 2
}

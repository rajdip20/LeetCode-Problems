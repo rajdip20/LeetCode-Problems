{
 "cells": [
  {
   "cell_type": "markdown",
   "metadata": {},
   "source": [
    "There is a party where `n` friends numbered from `0` to `n - 1` are attending. There is an **infinite** number of chairs in this party that are numbered from `0` to `infinity`. When a friend arrives at the party, they sit on the unoccupied chair with the **smallest number**.\n",
    "- For example, if chairs `0`, `1`, and `5` are occupied when a friend comes, they will sit on chair number `2`.\n",
    "\n",
    "When a friend leaves the party, their chair becomes unoccupied at the moment they leave. If another friend arrives at that same moment, they can sit in that chair.\n",
    "\n",
    "You are given a **0-indexed** 2D integer array `times` where **times[i] = [arrival<sub>i</sub>, leaving<sub>i</sub>]**, indicating the arrival and leaving times of the **i<sup>th</sup>** friend respectively, and an integer `targetFriend`. All arrival times are **distinct**.\n",
    "\n",
    "Return *the ***chair number*** that the friend numbered* `targetFriend` *will sit on*.\n",
    "\n",
    "<br>\n",
    "\n",
    "**Example 1:**\n",
    ">**Input:** times = [[1,4],[2,3],[4,6]], targetFriend = 1<br>\n",
    ">**Output:** 1<br>\n",
    ">**Explanation:** <br>\n",
    ">\\- Friend 0 arrives at time 1 and sits on chair 0.<br>\n",
    ">\\- Friend 1 arrives at time 2 and sits on chair 1.<br>\n",
    ">\\- Friend 1 leaves at time 3 and chair 1 becomes empty.<br>\n",
    ">\\- Friend 0 leaves at time 4 and chair 0 becomes empty.<br>\n",
    ">\\- Friend 2 arrives at time 4 and sits on chair 0.<br>\n",
    ">Since friend 1 sat on chair 1, we return 1.\n",
    "\n",
    "**Example 2:**\n",
    ">**Input:** times = [[3,10],[1,5],[2,6]], targetFriend = 0<br>\n",
    ">**Output:** 2<br>\n",
    ">**Explanation:** <br>\n",
    ">\\- Friend 1 arrives at time 1 and sits on chair 0.<br>\n",
    ">\\- Friend 2 arrives at time 2 and sits on chair 1.<br>\n",
    ">\\- Friend 0 arrives at time 3 and sits on chair 2.<br>\n",
    ">\\- Friend 1 leaves at time 5 and chair 0 becomes empty.<br>\n",
    ">\\- Friend 2 leaves at time 6 and chair 1 becomes empty.<br>\n",
    ">\\- Friend 0 leaves at time 10 and chair 2 becomes empty.<br>\n",
    ">Since friend 0 sat on chair 2, we return 2.\n",
    "\n",
    "<br>\n",
    "\n",
    "**Constraints:**\n",
    "- >n == times.length\n",
    "- >2 <= n <= 10<sup>4</sup>\n",
    "- >times[i].length == 2\n",
    "- >1 <= arrival<sub>i</sub> < leaving<sub>i</sub> <= 10<sup>5</sup>\n",
    "- >0 <= targetFriend <= n - 1\n",
    "- >Each arrival<sub>i</sub> time is **distinct**."
   ]
  },
  {
   "cell_type": "code",
   "execution_count": 1,
   "metadata": {},
   "outputs": [],
   "source": [
    "class Solution:\n",
    "    def smallestChair(self, times: list[list[int]], targetFriend: int) -> int:\n",
    "        from heapq import heappush, heappop\n",
    "\n",
    "        order = sorted(range(len(times)), key = lambda x: times[x][0])\n",
    "        emptySeats, takenSeats = list(range(len(times))), []\n",
    "\n",
    "        for i in order:\n",
    "            ar, lv = times[i]\n",
    "\n",
    "            while takenSeats and takenSeats[0][0] <= ar:\n",
    "                heappush(emptySeats, heappop(takenSeats)[1])\n",
    "            seat = heappop(emptySeats)\n",
    "\n",
    "            if i == targetFriend: return seat\n",
    "\n",
    "            heappush(takenSeats,(lv, seat))"
   ]
  }
 ],
 "metadata": {
  "kernelspec": {
   "display_name": "base",
   "language": "python",
   "name": "python3"
  },
  "language_info": {
   "codemirror_mode": {
    "name": "ipython",
    "version": 3
   },
   "file_extension": ".py",
   "mimetype": "text/x-python",
   "name": "python",
   "nbconvert_exporter": "python",
   "pygments_lexer": "ipython3",
   "version": "3.9.16"
  }
 },
 "nbformat": 4,
 "nbformat_minor": 2
}

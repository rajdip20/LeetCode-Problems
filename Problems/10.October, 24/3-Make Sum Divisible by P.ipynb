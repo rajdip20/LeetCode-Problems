{
 "cells": [
  {
   "cell_type": "markdown",
   "metadata": {},
   "source": [
    "Given an array of positive integers `nums`, remove the **smallest** subarray (possibly **empty**) such that the **sum** of the remaining elements is divisible by `p`. It is **not** allowed to remove the whole array.\n",
    "\n",
    "Return *the length of the smallest subarray that you need to remove, or* `-1` *if it's impossible*.\n",
    "\n",
    "A **subarray** is defined as a contiguous block of elements in the array.\n",
    "\n",
    "<br>\n",
    "\n",
    "**Example 1:**\n",
    ">**Input:** nums = [3,1,4,2], p = 6<br>\n",
    ">**Output:** 1<br>\n",
    ">**Explanation:** The sum of the elements in nums is 10, which is not divisible by 6. We can remove the subarray [4], and the sum of the remaining elements is 6, which is divisible by 6.\n",
    "\n",
    "**Example 2:**\n",
    ">**Input:** nums = [6,3,5,2], p = 9<br>\n",
    ">**Output:** 2<br>\n",
    ">**Explanation:** We cannot remove a single element to get a sum divisible by 9. The best way is to remove the subarray [5,2], leaving us with [6,3] with sum 9.\n",
    "\n",
    "**Example 3:**\n",
    ">**Input:** nums = [1,2,3], p = 3<br>\n",
    ">**Output:** 0<br>\n",
    ">**Explanation:** Here the sum is 6. which is already divisible by 3. Thus we do not need to remove anything.\n",
    "\n",
    "<br>\n",
    "\n",
    "**Constraints:**\n",
    "- >1 <= nums.length <= 10<sup>5</sup>\n",
    "- >1 <= nums[i] <= 10<sup>9</sup>\n",
    "- >1 <= p <= 10<sup>9</sup>"
   ]
  },
  {
   "cell_type": "code",
   "execution_count": 1,
   "metadata": {},
   "outputs": [],
   "source": [
    "class Solution:\n",
    "    def minSubarray(self, nums: list[int], p: int) -> int:\n",
    "        total_sum = sum(nums)\n",
    "        target = total_sum % p\n",
    "        \n",
    "        if target == 0:\n",
    "            return 0\n",
    "        \n",
    "        mod_map = {0: -1}\n",
    "        prefix_sum = 0\n",
    "        min_len = len(nums)\n",
    "        \n",
    "        for i, num in enumerate(nums):\n",
    "            prefix_sum = (prefix_sum + num) % p\n",
    "            required_mod = (prefix_sum - target) % p\n",
    "            \n",
    "            if required_mod in mod_map:\n",
    "                min_len = min(min_len, i - mod_map[required_mod])\n",
    "            \n",
    "            mod_map[prefix_sum] = i\n",
    "        \n",
    "        return min_len if min_len < len(nums) else -1"
   ]
  }
 ],
 "metadata": {
  "kernelspec": {
   "display_name": "base",
   "language": "python",
   "name": "python3"
  },
  "language_info": {
   "codemirror_mode": {
    "name": "ipython",
    "version": 3
   },
   "file_extension": ".py",
   "mimetype": "text/x-python",
   "name": "python",
   "nbconvert_exporter": "python",
   "pygments_lexer": "ipython3",
   "version": "3.9.16"
  }
 },
 "nbformat": 4,
 "nbformat_minor": 2
}

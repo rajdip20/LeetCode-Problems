{
 "cells": [
  {
   "cell_type": "markdown",
   "metadata": {},
   "source": [
    "You are given a **0-indexed** `m x n` matrix `grid` consisting of **positive** integers.\n",
    "\n",
    "You can start at **any** cell in the first column of the matrix, and traverse the grid in the following way:\n",
    "- From a cell `(row, col)`, you can move to any of the cells: `(row - 1, col + 1)`, `(row, col + 1)` and `(row + 1, col + 1)` such that the value of the cell you move to, should be **strictly** bigger than the value of the current cell.\n",
    "\n",
    "Return *the ***maximum*** number of ***moves*** that you can perform*.\n",
    "\n",
    "<br>\n",
    "\n",
    "**Example 1:**\n",
    ">![image1](../../images/yetgriddrawio-10.png)<br>\n",
    ">**Input:** grid = [[2,4,3,5],[5,4,9,3],[3,4,2,11],[10,9,13,15]]<br>\n",
    ">**Output:** 3<br>\n",
    ">**Explanation:** We can start at the cell (0, 0) and make the following moves:<br>\n",
    ">\\- (0, 0) -> (0, 1).<br>\n",
    ">\\- (0, 1) -> (1, 2).<br>\n",
    ">\\- (1, 2) -> (2, 3).<br>\n",
    ">It can be shown that it is the maximum number of moves that can be made.\n",
    "\n",
    "**Example 2:**\n",
    ">![image2](../../images/yetgrid4drawio.png)<br>\n",
    ">**Input:** grid = [[3,2,4],[2,1,9],[1,1,7]]<br>\n",
    ">**Output:** 0<br>\n",
    ">**Explanation:** Starting from any cell in the first column we cannot perform any moves.\n",
    "\n",
    "<br>\n",
    "\n",
    "**Constraints:**\n",
    "- >m == grid.length\n",
    "- >n == grid[i].length\n",
    "- >2 <= m, n <= 1000\n",
    "- >4 <= m * n <= 10<sup>5</sup>\n",
    "- >1 <= grid[i][j] <= 10<sup>6</sup>"
   ]
  },
  {
   "cell_type": "code",
   "execution_count": 1,
   "metadata": {},
   "outputs": [],
   "source": [
    "class Solution:\n",
    "    def maxMoves(self, grid: list[list[int]]) -> int:\n",
    "        m, n = len(grid), len(grid[0])\n",
    "        dp = [[-1] * n for _ in range(m)]\n",
    "\n",
    "        def dfs(row, col):\n",
    "            if dp[row][col] != -1:\n",
    "                return dp[row][col]\n",
    "            \n",
    "            max_moves = 0\n",
    "            for dr, dc in [(-1, 1), (0, 1), (1, 1)]:\n",
    "                new_row, new_col = row + dr, col + dc\n",
    "                if 0 <= new_row < m and new_col < n and grid[new_row][new_col] > grid[row][col]:\n",
    "                    max_moves = max(max_moves, 1 + dfs(new_row, new_col))\n",
    "            \n",
    "            dp[row][col] = max_moves\n",
    "            return dp[row][col]\n",
    "\n",
    "        result = 0\n",
    "        for row in range(m):\n",
    "            result = max(result, dfs(row, 0))\n",
    "        \n",
    "        return result"
   ]
  }
 ],
 "metadata": {
  "kernelspec": {
   "display_name": "base",
   "language": "python",
   "name": "python3"
  },
  "language_info": {
   "codemirror_mode": {
    "name": "ipython",
    "version": 3
   },
   "file_extension": ".py",
   "mimetype": "text/x-python",
   "name": "python",
   "nbconvert_exporter": "python",
   "pygments_lexer": "ipython3",
   "version": "3.9.16"
  }
 },
 "nbformat": 4,
 "nbformat_minor": 2
}

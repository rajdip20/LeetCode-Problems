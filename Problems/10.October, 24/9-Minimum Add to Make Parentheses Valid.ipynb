{
 "cells": [
  {
   "cell_type": "markdown",
   "metadata": {},
   "source": [
    "A parentheses string is valid if and only if:\n",
    "- It is the empty string,\n",
    "- It can be written as `AB` (`A` concatenated with `B`), where `A` and `B` are valid strings, or\n",
    "- It can be written as `(A)`, where `A` is a valid string.\n",
    "\n",
    "You are given a parentheses string `s`. In one move, you can insert a parenthesis at any position of the string.\n",
    "- For example, if `s = \"()))\"`, you can insert an opening parenthesis to be `\"(()))\"` or a closing parenthesis to be `\"())))\"`.\n",
    "\n",
    "Return *the minimum number of moves required to make* `s` *valid*.\n",
    "\n",
    "<br>\n",
    "\n",
    "**Example 1:**\n",
    ">**Input:** s = \"())\"<br>\n",
    ">**Output:** 1\n",
    "\n",
    "**Example 2:**\n",
    ">**Input:** s = \"(((\"<br>\n",
    ">**Output:** 3\n",
    "\n",
    "<br>\n",
    "\n",
    "**Constraints:**\n",
    "- >1 <= s.length <= 1000\n",
    "- >s[i] is either '(' or ')'."
   ]
  },
  {
   "cell_type": "code",
   "execution_count": 1,
   "metadata": {},
   "outputs": [],
   "source": [
    "class Solution:\n",
    "    def minAddToMakeValid(self, s: str) -> int:\n",
    "        left_unmatched = 0\n",
    "        right_unmatched = 0\n",
    "        \n",
    "        for char in s:\n",
    "            if char == '(':\n",
    "                left_unmatched += 1\n",
    "            elif char == ')':\n",
    "                if left_unmatched > 0:\n",
    "                    left_unmatched -= 1\n",
    "                else:\n",
    "                    right_unmatched += 1\n",
    "        \n",
    "        return left_unmatched + right_unmatched"
   ]
  }
 ],
 "metadata": {
  "kernelspec": {
   "display_name": "base",
   "language": "python",
   "name": "python3"
  },
  "language_info": {
   "codemirror_mode": {
    "name": "ipython",
    "version": 3
   },
   "file_extension": ".py",
   "mimetype": "text/x-python",
   "name": "python",
   "nbconvert_exporter": "python",
   "pygments_lexer": "ipython3",
   "version": "3.9.16"
  }
 },
 "nbformat": 4,
 "nbformat_minor": 2
}

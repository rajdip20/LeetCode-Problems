{
 "cells": [
  {
   "cell_type": "markdown",
   "metadata": {},
   "source": [
    "A **bit flip** of a number `x` is choosing a bit in the binary representation of `x` and **flipping** it from either `0` to `1` or `1` to `0`.\n",
    "- For example, for `x = 7`, the binary representation is `111` and we may choose any bit (including any leading zeros not shown) and flip it. We can flip the first bit from the right to get `110`, flip the second bit from the right to get `101`, flip the fifth bit from the right (a leading zero) to get `10111`, etc.\n",
    "\n",
    "Given two integers `start` and `goal`, return *the minimum ***number*** of ***bit flips*** to convert* `start` *to* `goal`.\n",
    "\n",
    "<br>\n",
    "\n",
    "**Example 1:**\n",
    ">**Input:** start = 10, goal = 7<br>\n",
    ">**Output:** 3<br>\n",
    ">**Explanation:** The binary representation of 10 and 7 are 1010 and 0111 respectively. We can convert 10 to 7 in 3 steps:<br>\n",
    ">\\- Flip the first bit from the right: 1010 -> 1011.<br>\n",
    ">\\- Flip the third bit from the right: 1011 -> 1111.<br>\n",
    ">\\- Flip the fourth bit from the right: 1111 -> 0111.<br>\n",
    ">It can be shown we cannot convert 10 to 7 in less than 3 steps. Hence, we return 3.\n",
    "\n",
    "**Example 2:**\n",
    ">**Input:** start = 3, goal = 4<br>\n",
    ">**Output:** 3<br>\n",
    ">**Explanation:** The binary representation of 3 and 4 are 011 and 100 respectively. We can convert 3 to 4 in 3 steps:<br>\n",
    ">\\- Flip the first bit from the right: 011 -> 010.<br>\n",
    ">\\- Flip the second bit from the right: 010 -> 000.<br>\n",
    ">\\- Flip the third bit from the right: 000 -> 100.<br>\n",
    ">It can be shown we cannot convert 3 to 4 in less than 3 steps. Hence, we return 3.\n",
    "\n",
    "<br>\n",
    "\n",
    "**Constraints:**\n",
    "- >0 <= start, goal <= 10<sup>9</sup>"
   ]
  },
  {
   "cell_type": "code",
   "execution_count": 1,
   "metadata": {},
   "outputs": [],
   "source": [
    "class Solution:\n",
    "    def minBitFlips(self, start: int, goal: int) -> int:\n",
    "        xor_result = start ^ goal\n",
    "        return bin(xor_result).count('1')"
   ]
  }
 ],
 "metadata": {
  "kernelspec": {
   "display_name": "base",
   "language": "python",
   "name": "python3"
  },
  "language_info": {
   "codemirror_mode": {
    "name": "ipython",
    "version": 3
   },
   "file_extension": ".py",
   "mimetype": "text/x-python",
   "name": "python",
   "nbconvert_exporter": "python",
   "pygments_lexer": "ipython3",
   "version": "3.9.16"
  }
 },
 "nbformat": 4,
 "nbformat_minor": 2
}

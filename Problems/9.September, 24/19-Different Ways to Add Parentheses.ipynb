{
 "cells": [
  {
   "cell_type": "markdown",
   "metadata": {},
   "source": [
    "Given a string `expression` of numbers and operators, return *all possible results from computing all the different possible ways to group numbers and operators*. You may return the answer in **any order**.\n",
    "\n",
    "The test cases are generated such that the output values fit in a 32-bit integer and the number of different results does not exceed **10<sup>4</sup>**.\n",
    "\n",
    "<br>\n",
    "\n",
    "**Example 1:**\n",
    ">**Input:** expression = \"2 - 1 - 1\"<br>\n",
    ">**Output:** [0,2]<br>\n",
    ">**Explanation:**<br>\n",
    ">((2 - 1) - 1) = 0<br>\n",
    ">(2 - (1 - 1)) = 2\n",
    "\n",
    "**Example 2:**<br>\n",
    ">**Input:** expression = \"2 * 3 - 4 * 5\"<br>\n",
    ">**Output:** [-34,-14,-10,-10,10]<br>\n",
    ">**Explanation:**<br>\n",
    ">(2 * (3 - (4 * 5))) = -34<br>\n",
    ">((2 * 3) - (4 * 5)) = -14<br>\n",
    ">((2 * (3 - 4)) * 5) = -10<br>\n",
    ">(2 * ((3 - 4) * 5)) = -10<br>\n",
    ">(((2 * 3) - 4) * 5) = 10\n",
    "\n",
    "<br>\n",
    "\n",
    "**Constraints:**\n",
    "- >1 <= expression.length <= 20\n",
    "- >expression consists of digits and the operator '+', '-', and '*'.\n",
    "- >All the integer values in the input expression are in the range [0, 99].\n",
    "- >The integer values in the input expression do not have a leading '-' or '+' denoting the sign."
   ]
  },
  {
   "cell_type": "code",
   "execution_count": 1,
   "metadata": {},
   "outputs": [],
   "source": [
    "class Solution:\n",
    "    def diffWaysToCompute(self, expression: str) -> list[int]:\n",
    "        memo = {}\n",
    "    \n",
    "        def compute(expr):\n",
    "            if expr in memo:\n",
    "                return memo[expr]\n",
    "            \n",
    "            results = []\n",
    "            \n",
    "            for i, char in enumerate(expr):\n",
    "                if char in \"+-*\":\n",
    "                    left = compute(expr[:i])\n",
    "                    right = compute(expr[i+1:])\n",
    "                    \n",
    "                    for l in left:\n",
    "                        for r in right:\n",
    "                            if char == '+':\n",
    "                                results.append(l + r)\n",
    "                            elif char == '-':\n",
    "                                results.append(l - r)\n",
    "                            elif char == '*':\n",
    "                                results.append(l * r)\n",
    "                                \n",
    "            if not results:\n",
    "                results.append(int(expr))\n",
    "            \n",
    "            memo[expr] = results\n",
    "            return results\n",
    "        \n",
    "        return compute(expression)"
   ]
  }
 ],
 "metadata": {
  "kernelspec": {
   "display_name": "base",
   "language": "python",
   "name": "python3"
  },
  "language_info": {
   "codemirror_mode": {
    "name": "ipython",
    "version": 3
   },
   "file_extension": ".py",
   "mimetype": "text/x-python",
   "name": "python",
   "nbconvert_exporter": "python",
   "pygments_lexer": "ipython3",
   "version": "3.9.16"
  }
 },
 "nbformat": 4,
 "nbformat_minor": 2
}

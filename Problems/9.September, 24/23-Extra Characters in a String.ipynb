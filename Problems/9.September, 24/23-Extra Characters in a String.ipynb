{
 "cells": [
  {
   "cell_type": "markdown",
   "metadata": {},
   "source": [
    "You are given a **0-indexed** string `s` and a dictionary of words `dictionary`. You have to break `s` into one or more **non-overlapping** substrings such that each substring is present in `dictionary`. There may be some **extra characters** in `s` which are not present in any of the substrings.\n",
    "\n",
    "Return *the ***minimum*** number of extra characters left over if you break up* `s` *optimally*.\n",
    "\n",
    "<br>\n",
    "\n",
    "**Example 1:**\n",
    ">**Input:** s = \"leetscode\", dictionary = [\"leet\",\"code\",\"leetcode\"]<br>\n",
    ">**Output:** 1<br>\n",
    ">**Explanation:** We can break s in two substrings: \"leet\" from index 0 to 3 and \"code\" from index 5 to 8. There is only 1 unused character (at index 4), so we return 1.\n",
    "\n",
    "**Example 2:**\n",
    ">**Input:** s = \"sayhelloworld\", dictionary = [\"hello\",\"world\"]<br>\n",
    ">**Output:** 3<br>\n",
    ">**Explanation:** We can break s in two substrings: \"hello\" from index 3 to 7 and \"world\" from index 8 to 12. The characters at indices 0, 1, 2 are not used in any substring and thus are considered as extra characters. Hence, we return 3.\n",
    "\n",
    "<br>\n",
    "\n",
    "**Constraints:**\n",
    "- >1 <= s.length <= 50\n",
    "- >1 <= dictionary.length <= 50\n",
    "- >1 <= dictionary[i].length <= 50\n",
    "- >dictionary[i] and s consists of only lowercase English letters\n",
    "- >dictionary contains distinct words"
   ]
  },
  {
   "cell_type": "code",
   "execution_count": 1,
   "metadata": {},
   "outputs": [],
   "source": [
    "class Solution:\n",
    "    def minExtraChar(self, s: str, dictionary: list[str]) -> int:\n",
    "        n = len(s)\n",
    "        word_set = set(dictionary)\n",
    "        dp = [float('inf')] * (n + 1)\n",
    "        \n",
    "        dp[n] = 0\n",
    "        \n",
    "        for i in range(n - 1, -1, -1):\n",
    "            for j in range(i + 1, n + 1):\n",
    "                if s[i:j] in word_set:\n",
    "                    dp[i] = min(dp[i], dp[j])\n",
    "                else:\n",
    "                    dp[i] = min(dp[i], dp[i + 1] + 1)\n",
    "        \n",
    "        return dp[0]"
   ]
  }
 ],
 "metadata": {
  "kernelspec": {
   "display_name": "base",
   "language": "python",
   "name": "python3"
  },
  "language_info": {
   "codemirror_mode": {
    "name": "ipython",
    "version": 3
   },
   "file_extension": ".py",
   "mimetype": "text/x-python",
   "name": "python",
   "nbconvert_exporter": "python",
   "pygments_lexer": "ipython3",
   "version": "3.9.16"
  }
 },
 "nbformat": 4,
 "nbformat_minor": 2
}

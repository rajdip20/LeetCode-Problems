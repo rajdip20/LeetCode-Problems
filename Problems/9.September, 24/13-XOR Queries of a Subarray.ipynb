{
 "cells": [
  {
   "cell_type": "markdown",
   "metadata": {},
   "source": [
    "You are given an array `arr` of positive integers. You are also given the array `queries` where **queries[i] = [left<sub>i</sub>, right<sub>i</sub>]**.\n",
    "\n",
    "For each query `i` compute the **XOR** of elements from **left<sub>i</sub>** to **right<sub>i</sub>** (that is, **arr[left<sub>i</sub>] XOR arr[left<sub>i</sub> + 1] XOR ... XOR arr[right<sub>i</sub>]**).\n",
    "\n",
    "Return an array `answer` where `answer[i]` is the answer to the **i<sup>th</sup>** query.\n",
    "\n",
    "<br>\n",
    "\n",
    "**Example 1:**\n",
    ">**Input:** arr = [1,3,4,8], queries = [[0,1],[1,2],[0,3],[3,3]]<br>\n",
    ">**Output:** [2,7,14,8] <br>\n",
    ">**Explanation:** <br>\n",
    ">The binary representation of the elements in the array are:<br>\n",
    ">1 = 0001 <br>\n",
    ">3 = 0011 <br>\n",
    ">4 = 0100 <br>\n",
    ">8 = 1000 <br>\n",
    ">The XOR values for queries are:<br>\n",
    ">[0,1] = 1 xor 3 = 2 <br>\n",
    ">[1,2] = 3 xor 4 = 7 <br>\n",
    ">[0,3] = 1 xor 3 xor 4 xor 8 = 14 <br>\n",
    "[3,3] = 8\n",
    "\n",
    "**Example 2:**\n",
    ">**Input:** arr = [4,8,2,10], queries = [[2,3],[1,3],[0,0],[0,3]]<br>\n",
    ">**Output:** [8,0,4,4]\n",
    "\n",
    "<br>\n",
    "\n",
    "**Constraints:**\n",
    "- >1 <= arr.length, queries.length <= 3 * 10<sup>4</sup>\n",
    "- >1 <= arr[i] <= 10<sup>9</sup>\n",
    "- >queries[i].length == 2\n",
    "- >0 <= left<sub>i</sub> <= right<sub>i</sub> < arr.length"
   ]
  },
  {
   "cell_type": "code",
   "execution_count": 1,
   "metadata": {},
   "outputs": [],
   "source": [
    "class Solution:\n",
    "    def xorQueries(self, arr: list[int], queries: list[list[int]]) -> list[int]:\n",
    "        n = len(arr)\n",
    "        prefixXOR = [0] * n\n",
    "        prefixXOR[0] = arr[0]\n",
    "        \n",
    "        for i in range(1, n):\n",
    "            prefixXOR[i] = prefixXOR[i - 1] ^ arr[i]\n",
    "        \n",
    "        result = []\n",
    "        for left, right in queries:\n",
    "            if left == 0:\n",
    "                result.append(prefixXOR[right])\n",
    "            else:\n",
    "                result.append(prefixXOR[right] ^ prefixXOR[left - 1])\n",
    "        \n",
    "        return result"
   ]
  }
 ],
 "metadata": {
  "kernelspec": {
   "display_name": "base",
   "language": "python",
   "name": "python3"
  },
  "language_info": {
   "codemirror_mode": {
    "name": "ipython",
    "version": 3
   },
   "file_extension": ".py",
   "mimetype": "text/x-python",
   "name": "python",
   "nbconvert_exporter": "python",
   "pygments_lexer": "ipython3",
   "version": "3.9.16"
  }
 },
 "nbformat": 4,
 "nbformat_minor": 2
}

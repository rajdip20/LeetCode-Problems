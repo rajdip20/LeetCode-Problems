{
 "cells": [
  {
   "cell_type": "markdown",
   "metadata": {},
   "source": [
    "You are implementing a program to use as your calendar. We can add a new event if adding the event will not cause a **triple booking**.\n",
    "\n",
    "A **triple booking** happens when three events have some non-empty intersection (i.e., some moment is common to all the three events.).\n",
    "\n",
    "The event can be represented as a pair of integers `start` and `end` that represents a booking on the half-open interval `[start, end)`, the range of real numbers `x` such that `start <= x < end`.\n",
    "\n",
    "Implement the `MyCalendarTwo` class:\n",
    "- `MyCalendarTwo()` Initializes the calendar object.\n",
    "- `boolean book(int start, int end)` Returns `true` if the event can be added to the calendar successfully without causing a **triple booking**. Otherwise, return `false` and do not add the event to the calendar.\n",
    "\n",
    "<br>\n",
    "\n",
    "**Example 1:**\n",
    ">**Input:**<br>\n",
    ">[\"MyCalendarTwo\", \"book\", \"book\", \"book\", \"book\", \"book\", \"book\"]<br>\n",
    ">[[], [10, 20], [50, 60], [10, 40], [5, 15], [5, 10], [25, 55]]<br>\n",
    ">**Output:**<br>\n",
    ">[null, true, true, true, false, true, true]<br>\n",
    ">**Explanation:**<br>\n",
    ">MyCalendarTwo myCalendarTwo = new MyCalendarTwo();<br>\n",
    ">myCalendarTwo.book(10, 20); &emsp; // return True, The event can be booked. <br>\n",
    ">myCalendarTwo.book(50, 60); &emsp; // return True, The event can be booked. <br>\n",
    ">myCalendarTwo.book(10, 40); &emsp; // return True, The event can be double booked. <br>\n",
    ">myCalendarTwo.book(5, 15); &emsp; // return False, The event cannot be booked, because it would result in a triple booking.<br>\n",
    ">myCalendarTwo.book(5, 10); &emsp; // return True, The event can be booked, as it does not use time 10 which is already double booked.<br>\n",
    ">myCalendarTwo.book(25, 55); &emsp; // return True, The event can be booked, as the time in [25, 40) will be double booked with the third event, the time [40, 50) will be single booked, and the time [50, 55) will be double booked with the second event.\n",
    "\n",
    "<br>\n",
    "\n",
    "**Constraints:**\n",
    "- >0 <= start < end <= 10<sup>9</sup>\n",
    "- >At most 1000 calls will be made to book."
   ]
  },
  {
   "cell_type": "code",
   "execution_count": 1,
   "metadata": {},
   "outputs": [],
   "source": [
    "class MyCalendarTwo:\n",
    "\n",
    "    def __init__(self):\n",
    "        self.single_bookings = []\n",
    "        self.double_bookings = []\n",
    "\n",
    "    def book(self, start: int, end: int) -> bool:\n",
    "        for s, e in self.double_bookings:\n",
    "            if start < e and end > s:\n",
    "                return False\n",
    "        \n",
    "        for s, e in self.single_bookings:\n",
    "            if start < e and end > s:\n",
    "                overlap_start = max(start, s)\n",
    "                overlap_end = min(end, e)\n",
    "                self.double_bookings.append((overlap_start, overlap_end))\n",
    "        \n",
    "        self.single_bookings.append((start, end))\n",
    "        \n",
    "        return True\n",
    "\n",
    "\n",
    "# Your MyCalendarTwo object will be instantiated and called as such:\n",
    "# obj = MyCalendarTwo()\n",
    "# param_1 = obj.book(start,end)"
   ]
  }
 ],
 "metadata": {
  "kernelspec": {
   "display_name": "base",
   "language": "python",
   "name": "python3"
  },
  "language_info": {
   "codemirror_mode": {
    "name": "ipython",
    "version": 3
   },
   "file_extension": ".py",
   "mimetype": "text/x-python",
   "name": "python",
   "nbconvert_exporter": "python",
   "pygments_lexer": "ipython3",
   "version": "3.9.16"
  }
 },
 "nbformat": 4,
 "nbformat_minor": 2
}

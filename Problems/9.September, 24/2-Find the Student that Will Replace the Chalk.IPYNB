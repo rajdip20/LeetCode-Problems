{
 "cells": [
  {
   "cell_type": "markdown",
   "metadata": {},
   "source": [
    "There are `n` students in a class numbered from `0` to `n - 1`. The teacher will give each student a problem starting with the student number `0`, then the student number `1`, and so on until the teacher reaches the student number `n - 1`. After that, the teacher will restart the process, starting with the student number `0` again.\n",
    "\n",
    "You are given a **0-indexed** integer array `chalk` and an integer `k`. There are initially `k` pieces of chalk. When the student number `i` is given a problem to solve, they will use `chalk[i]` pieces of chalk to solve that problem. However, if the current number of chalk pieces is **strictly less** than `chalk[i]`, then the student number `i` will be asked to **replace** the chalk.\n",
    "\n",
    "Return *the ***index*** of the student that will ***replace*** the chalk pieces*.\n",
    "\n",
    "<br>\n",
    "\n",
    "**Example 1:**\n",
    ">**Input:** chalk = [5,1,5], k = 22<br>\n",
    ">**Output:** 0<br>\n",
    ">**Explanation:** The students go in turns as follows:<br>\n",
    ">\\- Student number 0 uses 5 chalk, so k = 17.<br>\n",
    ">\\- Student number 1 uses 1 chalk, so k = 16.<br>\n",
    ">\\- Student number 2 uses 5 chalk, so k = 11.<br>\n",
    ">\\- Student number 0 uses 5 chalk, so k = 6.<br>\n",
    ">\\- Student number 1 uses 1 chalk, so k = 5.<br>\n",
    ">\\- Student number 2 uses 5 chalk, so k = 0.<br>\n",
    ">Student number 0 does not have enough chalk, so they will have to replace it.\n",
    "\n",
    "**Example 2:**\n",
    ">**Input:** chalk = [3,4,1,2], k = 25<br>\n",
    ">**Output:** 1<br>\n",
    ">**Explanation:** The students go in turns as follows:<br>\n",
    ">\\- Student number 0 uses 3 chalk so k = 22.<br>\n",
    ">\\- Student number 1 uses 4 chalk so k = 18.<br>\n",
    ">\\- Student number 2 uses 1 chalk so k = 17.<br>\n",
    ">\\- Student number 3 uses 2 chalk so k = 15.<br>\n",
    ">\\- Student number 0 uses 3 chalk so k = 12.<br>\n",
    ">\\- Student number 1 uses 4 chalk so k = 8.<br>\n",
    ">\\- Student number 2 uses 1 chalk so k = 7.<br>\n",
    ">\\- Student number 3 uses 2 chalk so k = 5.<br>\n",
    ">\\- Student number 0 uses 3 chalk so k = 2.<br>\n",
    ">Student number 1 does not have enough chalk, so they will have to replace it.\n",
    "\n",
    "<br>\n",
    "\n",
    "**Constraints:**\n",
    "- >chalk.length == n\n",
    "- >1 <= n <= 10<sup>5</sup>\n",
    "- >1 <= chalk[i] <= 10<sup>5</sup>\n",
    "- >1 <= k <= 10<sup>9</sup>"
   ]
  },
  {
   "cell_type": "code",
   "execution_count": 1,
   "metadata": {},
   "outputs": [],
   "source": [
    "class Solution:\n",
    "    def chalkReplacer(self, chalk: list[int], k: int) -> int:\n",
    "        total_chalk = sum(chalk)\n",
    "        k %= total_chalk\n",
    "        \n",
    "        for i in range(len(chalk)):\n",
    "            if k < chalk[i]:\n",
    "                return i\n",
    "            k -= chalk[i]"
   ]
  }
 ],
 "metadata": {
  "kernelspec": {
   "display_name": "base",
   "language": "python",
   "name": "python3"
  },
  "language_info": {
   "codemirror_mode": {
    "name": "ipython",
    "version": 3
   },
   "file_extension": ".py",
   "mimetype": "text/x-python",
   "name": "python",
   "nbconvert_exporter": "python",
   "pygments_lexer": "ipython3",
   "version": "3.9.16"
  }
 },
 "nbformat": 4,
 "nbformat_minor": 2
}

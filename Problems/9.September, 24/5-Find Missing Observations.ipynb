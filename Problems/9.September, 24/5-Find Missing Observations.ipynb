{
 "cells": [
  {
   "cell_type": "markdown",
   "metadata": {},
   "source": [
    "You have observations of `n + m` **6-sided** dice rolls with each face numbered from `1` to `6`. `n` of the observations went missing, and you only have the observations of `m` rolls. Fortunately, you have also calculated the **average value** of the `n + m` rolls.\n",
    "\n",
    "You are given an integer array `rolls` of length `m` where `rolls[i]` is the value of the **i<sup>th</sup>** observation. You are also given the two integers `mean` and `n`.\n",
    "\n",
    "Return *an array of length* `n` *containing the missing observations such that the ***average value*** of the* `n + m` *rolls is* ***exactly*** `mean`. *If there are multiple valid answers, return any of them. If no such array exists, return an empty array*.\n",
    "\n",
    "The **average value** of a set of `k` numbers is the sum of the numbers divided by `k`.\n",
    "\n",
    "Note that `mean` is an integer, so the sum of the `n + m` rolls should be divisible by `n + m`.\n",
    "\n",
    "<br>\n",
    "\n",
    "**Example 1:**\n",
    ">**Input:** rolls = [3,2,4,3], mean = 4, n = 2<br>\n",
    ">**Output:** [6,6]<br>\n",
    ">**Explanation:** The mean of all n + m rolls is (3 + 2 + 4 + 3 + 6 + 6) / 6 = 4.\n",
    "\n",
    "**Example 2:**\n",
    ">**Input:** rolls = [1,5,6], mean = 3, n = 4<br>\n",
    ">**Output:** [2,3,2,2]<br>\n",
    ">**Explanation:** The mean of all n + m rolls is (1 + 5 + 6 + 2 + 3 + 2 + 2) / 7 = 3.\n",
    "\n",
    "**Example 3:**\n",
    ">**Input:** rolls = [1,2,3,4], mean = 6, n = 4<br>\n",
    ">**Output:** []<br>\n",
    ">**Explanation:** It is impossible for the mean to be 6 no matter what the 4 missing rolls are.\n",
    "\n",
    "<br>\n",
    "\n",
    "**Constraints:**\n",
    "- >m == rolls.length\n",
    "- >1 <= n, m <= 10<sup>5</sup>\n",
    "- >1 <= rolls[i], mean <= 6"
   ]
  },
  {
   "cell_type": "code",
   "execution_count": 1,
   "metadata": {},
   "outputs": [],
   "source": [
    "class Solution:\n",
    "    def missingRolls(self, rolls: list[int], mean: int, n: int) -> list[int]:\n",
    "        m = len(rolls)\n",
    "        total_sum = mean * (n + m)\n",
    "        sum_m = sum(rolls)\n",
    "        sum_n = total_sum - sum_m\n",
    "        \n",
    "        if sum_n < n or sum_n > 6 * n:\n",
    "            return []\n",
    "        \n",
    "        base_value = sum_n // n\n",
    "        remainder = sum_n % n\n",
    "        \n",
    "        result = [base_value] * n\n",
    "        for i in range(remainder):\n",
    "            result[i] += 1\n",
    "        \n",
    "        return result"
   ]
  }
 ],
 "metadata": {
  "kernelspec": {
   "display_name": "base",
   "language": "python",
   "name": "python3"
  },
  "language_info": {
   "codemirror_mode": {
    "name": "ipython",
    "version": 3
   },
   "file_extension": ".py",
   "mimetype": "text/x-python",
   "name": "python",
   "nbconvert_exporter": "python",
   "pygments_lexer": "ipython3",
   "version": "3.9.16"
  }
 },
 "nbformat": 4,
 "nbformat_minor": 2
}

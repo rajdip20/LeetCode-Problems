{
 "cells": [
  {
   "cell_type": "markdown",
   "metadata": {},
   "source": [
    "You are given a string `s`. You can convert `s` to a palindrome by adding characters in front of it.\n",
    "\n",
    "Return *the shortest palindrome you can find by performing this transformation*.\n",
    "\n",
    "<br>\n",
    "\n",
    "**Example 1:**\n",
    ">**Input:** s = \"aacecaaa\"<br>\n",
    ">**Output:** \"aaacecaaa\"\n",
    "\n",
    "**Example 2:**\n",
    ">**Input:** s = \"abcd\"<br>\n",
    ">**Output:** \"dcbabcd\"\n",
    "\n",
    "<br>\n",
    "\n",
    "**Constraints:**\n",
    "- >0 <= s.length <= 5 * 10<sup>4</sup>\n",
    "- >s consists of lowercase English letters only."
   ]
  },
  {
   "cell_type": "code",
   "execution_count": 1,
   "metadata": {},
   "outputs": [],
   "source": [
    "class Solution:\n",
    "    def shortestPalindrome(self, s: str) -> str:\n",
    "        def computeLPS(pattern):\n",
    "            lps = [0] * len(pattern)\n",
    "            length = 0\n",
    "            i = 1\n",
    "            while i < len(pattern):\n",
    "                if pattern[i] == pattern[length]:\n",
    "                    length += 1\n",
    "                    lps[i] = length\n",
    "                    i += 1\n",
    "                else:\n",
    "                    if length != 0:\n",
    "                        length = lps[length - 1]\n",
    "                    else:\n",
    "                        lps[i] = 0\n",
    "                        i += 1\n",
    "            return lps\n",
    "\n",
    "        if not s:\n",
    "            return \"\"\n",
    "\n",
    "        rev_s = s[::-1]\n",
    "        combined = s + '#' + rev_s\n",
    "\n",
    "        lps = computeLPS(combined)\n",
    "\n",
    "        to_add = rev_s[:len(s) - lps[-1]]\n",
    "        return to_add + s"
   ]
  }
 ],
 "metadata": {
  "kernelspec": {
   "display_name": "base",
   "language": "python",
   "name": "python3"
  },
  "language_info": {
   "codemirror_mode": {
    "name": "ipython",
    "version": 3
   },
   "file_extension": ".py",
   "mimetype": "text/x-python",
   "name": "python",
   "nbconvert_exporter": "python",
   "pygments_lexer": "ipython3",
   "version": "3.9.16"
  }
 },
 "nbformat": 4,
 "nbformat_minor": 2
}

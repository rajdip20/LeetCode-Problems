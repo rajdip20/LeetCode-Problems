{
 "cells": [
  {
   "cell_type": "markdown",
   "metadata": {},
   "source": [
    "You are given two arrays with **positive** integers `arr1` and `arr2`.\n",
    "\n",
    "A **prefix** of a positive integer is an integer formed by one or more of its digits, starting from its **leftmost** digit. For example, `123` is a prefix of the integer `12345`, while `234` is **not**.\n",
    "\n",
    "A **common prefix** of two integers `a` and `b` is an integer `c`, such that `c` is a prefix of both `a` and `b`. For example, `5655359` and `56554` have a common prefix `565` while `1223` and `43456` **do not** have a common prefix.\n",
    "\n",
    "You need to find the length of the **longest common prefix** between all pairs of integers `(x, y)` such that `x` belongs to `arr1` and `y` belongs to `arr2`.\n",
    "\n",
    "Return *the length of the ***longest*** common prefix among all pairs. If no common prefix exists among them, return* `0`.\n",
    "\n",
    "<br>\n",
    "\n",
    "**Example 1:**\n",
    ">**Input:** arr1 = [1,10,100], arr2 = [1000]<br>\n",
    ">**Output:** 3<br>\n",
    ">**Explanation:** There are 3 pairs (arr1[i], arr2[j]):<br>\n",
    ">\\- The longest common prefix of (1, 1000) is 1.<br>\n",
    ">\\- The longest common prefix of (10, 1000) is 10.<br>\n",
    ">\\- The longest common prefix of (100, 1000) is 100.<br>\n",
    ">The longest common prefix is 100 with a length of 3.\n",
    "\n",
    "**Example 2:**\n",
    ">**Input:** arr1 = [1,2,3], arr2 = [4,4,4]<br>\n",
    ">**Output:** 0<br>\n",
    ">**Explanation:** There exists no common prefix for any pair (arr1[i], arr2[j]), hence we return 0.<br>\n",
    ">Note that common prefixes between elements of the same array do not count.\n",
    "\n",
    "<br>\n",
    "\n",
    "**Constraints:**\n",
    "- >1 <= arr1.length, arr2.length <= 5 * 10<sup>4</sup>\n",
    "- >1 <= arr1[i], arr2[i] <= 10<sup>8</sup>"
   ]
  },
  {
   "cell_type": "code",
   "execution_count": 1,
   "metadata": {},
   "outputs": [],
   "source": [
    "class Solution:\n",
    "    def longestCommonPrefix(self, arr1: list[int], arr2: list[int]) -> int:\n",
    "        prefix_map = {}\n",
    "        \n",
    "        for num in arr1:\n",
    "            str_num = str(num)\n",
    "            prefix = \"\"\n",
    "            for ch in str_num:\n",
    "                prefix += ch\n",
    "                prefix_map[prefix] = prefix_map.get(prefix, 0) + 1\n",
    "        \n",
    "        max_length = 0\n",
    "        \n",
    "        for num in arr2:\n",
    "            str_num = str(num)\n",
    "            prefix = \"\"\n",
    "            for ch in str_num:\n",
    "                prefix += ch\n",
    "                if prefix in prefix_map:\n",
    "                    max_length = max(max_length, len(prefix))\n",
    "        \n",
    "        return max_length"
   ]
  }
 ],
 "metadata": {
  "kernelspec": {
   "display_name": "base",
   "language": "python",
   "name": "python3"
  },
  "language_info": {
   "codemirror_mode": {
    "name": "ipython",
    "version": 3
   },
   "file_extension": ".py",
   "mimetype": "text/x-python",
   "name": "python",
   "nbconvert_exporter": "python",
   "pygments_lexer": "ipython3",
   "version": "3.9.16"
  }
 },
 "nbformat": 4,
 "nbformat_minor": 2
}

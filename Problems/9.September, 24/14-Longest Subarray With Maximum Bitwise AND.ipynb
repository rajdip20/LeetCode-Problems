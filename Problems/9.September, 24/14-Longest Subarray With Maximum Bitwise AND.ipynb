{
 "cells": [
  {
   "cell_type": "markdown",
   "metadata": {},
   "source": [
    "You are given an integer array `nums` of size `n`.\n",
    "\n",
    "Consider a **non-empty** subarray from `nums` that has the **maximum** possible **bitwise AND**.\n",
    "- In other words, let `k` be the maximum value of the bitwise AND of **any** subarray of `nums`. Then, only subarrays with a bitwise AND equal to `k` should be considered.\n",
    "\n",
    "Return *the length of the ***longest*** such subarray*.\n",
    "\n",
    "The bitwise AND of an array is the bitwise AND of all the numbers in it.\n",
    "\n",
    "A **subarray** is a contiguous sequence of elements within an array.\n",
    "\n",
    "<br>\n",
    "\n",
    "**Example 1:**\n",
    ">**Input:** nums = [1,2,3,3,2,2]<br>\n",
    ">**Output:** 2<br>\n",
    ">**Explanation:**<br>\n",
    ">The maximum possible bitwise AND of a subarray is 3.<br>\n",
    ">The longest subarray with that value is [3,3], so we return 2.\n",
    "\n",
    "**Example 2:**\n",
    ">**Input:** nums = [1,2,3,4]<br>\n",
    ">**Output:** 1<br>\n",
    ">**Explanation:**<br>\n",
    ">The maximum possible bitwise AND of a subarray is 4.<br>\n",
    ">The longest subarray with that value is [4], so we return 1.\n",
    "\n",
    "<br>\n",
    "\n",
    "**Constraints:**\n",
    "- >1 <= nums.length <= 10<sup>5</sup>\n",
    "- >1 <= nums[i] <= 10<sup>6</sup>"
   ]
  },
  {
   "cell_type": "code",
   "execution_count": 1,
   "metadata": {},
   "outputs": [],
   "source": [
    "class Solution:\n",
    "    def longestSubarray(self, nums: list[int]) -> int:\n",
    "        max_value = max(nums)\n",
    "        longest = 0\n",
    "        current_length = 0\n",
    "        \n",
    "        for num in nums:\n",
    "            if num == max_value:\n",
    "                current_length += 1\n",
    "                longest = max(longest, current_length)\n",
    "            else:\n",
    "                current_length = 0\n",
    "        \n",
    "        return longest"
   ]
  }
 ],
 "metadata": {
  "kernelspec": {
   "display_name": "base",
   "language": "python",
   "name": "python3"
  },
  "language_info": {
   "codemirror_mode": {
    "name": "ipython",
    "version": 3
   },
   "file_extension": ".py",
   "mimetype": "text/x-python",
   "name": "python",
   "nbconvert_exporter": "python",
   "pygments_lexer": "ipython3",
   "version": "3.9.16"
  }
 },
 "nbformat": 4,
 "nbformat_minor": 2
}

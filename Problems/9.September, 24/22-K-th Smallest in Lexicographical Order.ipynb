{
 "cells": [
  {
   "cell_type": "markdown",
   "metadata": {},
   "source": [
    "Given two integers `n` and `k`, return *the* **k<sup>th</sup>** *lexicographically smallest integer in the range* `[1, n]`.\n",
    "\n",
    "<br>\n",
    "\n",
    "**Example 1:**\n",
    ">**Input:** n = 13, k = 2<br>\n",
    ">**Output:** 10<br>\n",
    ">**Explanation:** The lexicographical order is [1, 10, 11, 12, 13, 2, 3, 4, 5, 6, 7, 8, 9], so the second smallest number is 10.\n",
    "\n",
    "**Example 2:**\n",
    ">**Input:** n = 1, k = 1<br>\n",
    ">**Output:** 1\n",
    "\n",
    "<br>\n",
    "\n",
    "**Constraints:**\n",
    "- >1 <= k <= n <= 10<sup>9</sup>"
   ]
  },
  {
   "cell_type": "code",
   "execution_count": 1,
   "metadata": {},
   "outputs": [],
   "source": [
    "class Solution:\n",
    "    def findKthNumber(self, n: int, k: int) -> int:\n",
    "        def count_prefix(p, n):\n",
    "            curr = p\n",
    "            next_prefix = p + 1\n",
    "            count = 0\n",
    "            while curr <= n:\n",
    "                count += min(n + 1, next_prefix) - curr\n",
    "                curr *= 10\n",
    "                next_prefix *= 10\n",
    "            return count\n",
    "\n",
    "        curr = 1\n",
    "        k -= 1\n",
    "        \n",
    "        while k > 0:\n",
    "            count = count_prefix(curr, n)\n",
    "            if count <= k:\n",
    "                k -= count\n",
    "                curr += 1\n",
    "            else:\n",
    "                curr *= 10\n",
    "                k -= 1\n",
    "        \n",
    "        return curr"
   ]
  }
 ],
 "metadata": {
  "kernelspec": {
   "display_name": "base",
   "language": "python",
   "name": "python3"
  },
  "language_info": {
   "codemirror_mode": {
    "name": "ipython",
    "version": 3
   },
   "file_extension": ".py",
   "mimetype": "text/x-python",
   "name": "python",
   "nbconvert_exporter": "python",
   "pygments_lexer": "ipython3",
   "version": "3.9.16"
  }
 },
 "nbformat": 4,
 "nbformat_minor": 2
}

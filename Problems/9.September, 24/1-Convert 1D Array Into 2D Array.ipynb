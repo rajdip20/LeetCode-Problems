{
 "cells": [
  {
   "cell_type": "markdown",
   "metadata": {},
   "source": [
    "You are given a **0-indexed** 1-dimensional (1D) integer array `original`, and two integers, `m` and `n`. You are tasked with creating a 2-dimensional (2D) array with  `m` rows and `n` columns using **all** the elements from `original`.\n",
    "\n",
    "The elements from indices `0` to `n - 1` (**inclusive**) of `original` should form the first row of the constructed 2D array, the elements from indices `n` to `2 * n - 1` (**inclusive**) should form the second row of the constructed 2D array, and so on.\n",
    "\n",
    "Return *an* `m x n` *2D array constructed according to the above procedure, or an empty 2D array if it is impossible*.\n",
    "\n",
    "<br>\n",
    "\n",
    "**Example 1:**\n",
    "\n",
    "![pic1](../../images/image-20210826114243-1.png)\n",
    "\n",
    ">**Input:** original = [1,2,3,4], m = 2, n = 2<br>\n",
    ">**Output:** [[1,2],[3,4]]<br>\n",
    ">**Explanation:** The constructed 2D array should contain 2 rows and 2 columns.<br>\n",
    ">The first group of n=2 elements in original, [1,2], becomes the first row in the constructed 2D array.<br>\n",
    ">The second group of n=2 elements in original, [3,4], becomes the second row in the constructed 2D array.\n",
    "\n",
    "**Example 2:**\n",
    ">**Input:** original = [1,2,3], m = 1, n = 3<br>\n",
    ">**Output:** [[1,2,3]]<br>\n",
    ">**Explanation:** The constructed 2D array should contain 1 row and 3 columns.<br>\n",
    ">Put all three elements in original into the first row of the constructed 2D array.\n",
    "\n",
    "**Example 3:**\n",
    ">**Input:** original = [1,2], m = 1, n = 1<br>\n",
    ">**Output:** []<br>\n",
    ">**Explanation:** There are 2 elements in original.<br>\n",
    ">It is impossible to fit 2 elements in a 1x1 2D array, so return an empty 2D array.\n",
    "\n",
    "<br>\n",
    "\n",
    "**Constraints:**\n",
    "- >1 <= original.length <= 5 * 10<sup>4</sup>\n",
    "- >1 <= original[i] <= 10<sup>5</sup>\n",
    "- >1 <= m, n <= 4 * 10<sup>4</sup>"
   ]
  },
  {
   "cell_type": "code",
   "execution_count": 1,
   "metadata": {},
   "outputs": [],
   "source": [
    "class Solution:\n",
    "    def construct2DArray(self, original: list[int], m: int, n: int) -> list[list[int]]:\n",
    "        if len(original) != m * n:\n",
    "            return []\n",
    "        \n",
    "        result = []\n",
    "        for i in range(m):\n",
    "            result.append(original[i * n : (i + 1) * n])\n",
    "        \n",
    "        return result"
   ]
  }
 ],
 "metadata": {
  "kernelspec": {
   "display_name": "base",
   "language": "python",
   "name": "python3"
  },
  "language_info": {
   "codemirror_mode": {
    "name": "ipython",
    "version": 3
   },
   "file_extension": ".py",
   "mimetype": "text/x-python",
   "name": "python",
   "nbconvert_exporter": "python",
   "pygments_lexer": "ipython3",
   "version": "3.9.16"
  }
 },
 "nbformat": 4,
 "nbformat_minor": 2
}

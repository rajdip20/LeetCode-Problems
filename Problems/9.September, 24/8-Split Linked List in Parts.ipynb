{
 "cells": [
  {
   "cell_type": "markdown",
   "metadata": {},
   "source": [
    "Given the `head` of a singly linked list and an integer `k`, split the linked list into `k` consecutive linked list parts.\n",
    "\n",
    "The length of each part should be as equal as possible: no two parts should have a size differing by more than one. This may lead to some parts being null.\n",
    "\n",
    "The parts should be in the order of occurrence in the input list, and parts occurring earlier should always have a size greater than or equal to parts occurring later.\n",
    "\n",
    "Return *an array of the* `k` *parts*.\n",
    "\n",
    "<br>\n",
    "\n",
    "**Example 1:**\n",
    "\n",
    "![split-1](../../images/split1-lc.jpg)\n",
    "\n",
    ">**Input:** head = [1,2,3], k = 5<br>\n",
    ">**Output:** [[1],[2],[3],[],[]]<br>\n",
    ">**Explanation:**<br>\n",
    ">The first element output[0] has output[0].val = 1, output[0].next = null.<br>\n",
    ">The last element output[4] is null, but its string representation as a ListNode is [].\n",
    "\n",
    "**Example 2:**\n",
    "\n",
    "![split-2](../../images/split2-lc.jpg)\n",
    "\n",
    ">**Input:** head = [1,2,3,4,5,6,7,8,9,10], k = 3<br>\n",
    ">**Output:** [[1,2,3,4],[5,6,7],[8,9,10]]<br>\n",
    ">**Explanation:**<br>\n",
    ">The input has been split into consecutive parts with size difference at most 1, and earlier parts are a larger size than the later parts.\n",
    "\n",
    "<br>\n",
    "\n",
    "**Constraints:**\n",
    "- >The number of nodes in the list is in the range [0, 1000].\n",
    "- >0 <= Node.val <= 1000\n",
    "- >1 <= k <= 50"
   ]
  },
  {
   "cell_type": "code",
   "execution_count": 1,
   "metadata": {},
   "outputs": [],
   "source": [
    "# Definition for singly-linked list.\n",
    "# class ListNode:\n",
    "#     def __init__(self, val=0, next=None):\n",
    "#         self.val = val\n",
    "#         self.next = next\n",
    "class Solution:\n",
    "    def splitListToParts(self, head, k: int) -> list:\n",
    "        length = 0\n",
    "        current = head\n",
    "        while current:\n",
    "            length += 1\n",
    "            current = current.next\n",
    "\n",
    "        part_size = length // k\n",
    "        extra_nodes = length % k\n",
    "\n",
    "        parts = []\n",
    "        current = head\n",
    "        for i in range(k):\n",
    "            part_head = current\n",
    "            part_length = part_size + (1 if i < extra_nodes else 0)\n",
    "            \n",
    "            for j in range(part_length - 1):\n",
    "                if current:\n",
    "                    current = current.next\n",
    "            \n",
    "            if current:\n",
    "                next_part = current.next\n",
    "                current.next = None\n",
    "                current = next_part\n",
    "            \n",
    "            parts.append(part_head)\n",
    "        \n",
    "        return parts"
   ]
  }
 ],
 "metadata": {
  "kernelspec": {
   "display_name": "base",
   "language": "python",
   "name": "python3"
  },
  "language_info": {
   "codemirror_mode": {
    "name": "ipython",
    "version": 3
   },
   "file_extension": ".py",
   "mimetype": "text/x-python",
   "name": "python",
   "nbconvert_exporter": "python",
   "pygments_lexer": "ipython3",
   "version": "3.9.16"
  }
 },
 "nbformat": 4,
 "nbformat_minor": 2
}

{
 "cells": [
  {
   "cell_type": "markdown",
   "metadata": {},
   "source": [
    "Given a list of non-negative integers `nums`, arrange them such that they form the largest number and return it.\n",
    "\n",
    "Since the result may be very large, so you need to return a string instead of an integer.\n",
    "\n",
    "<br>\n",
    "\n",
    "**Example 1:**\n",
    ">**Input:** nums = [10,2]<br>\n",
    ">**Output:** \"210\"\n",
    "\n",
    "**Example 2:**\n",
    ">**Input:** nums = [3,30,34,5,9]<br>\n",
    ">**Output:** \"9534330\"\n",
    "\n",
    "<br>\n",
    "\n",
    "**Constraints:**\n",
    "- >1 <= nums.length <= 100\n",
    "- >0 <= nums[i] <= 10<sup>9</sup>"
   ]
  },
  {
   "cell_type": "code",
   "execution_count": 1,
   "metadata": {},
   "outputs": [],
   "source": [
    "class Solution:\n",
    "    def largestNumber(self, nums: list[int]) -> str:\n",
    "        from functools import cmp_to_key\n",
    "\n",
    "        nums = list(map(str, nums))\n",
    "        \n",
    "        def compare(x, y):\n",
    "            if x + y > y + x:\n",
    "                return -1\n",
    "            else:\n",
    "                return 1\n",
    "        \n",
    "        nums.sort(key=cmp_to_key(compare))\n",
    "        \n",
    "        if nums[0] == \"0\":\n",
    "            return \"0\"\n",
    "        \n",
    "        return \"\".join(nums)"
   ]
  }
 ],
 "metadata": {
  "kernelspec": {
   "display_name": "base",
   "language": "python",
   "name": "python3"
  },
  "language_info": {
   "codemirror_mode": {
    "name": "ipython",
    "version": 3
   },
   "file_extension": ".py",
   "mimetype": "text/x-python",
   "name": "python",
   "nbconvert_exporter": "python",
   "pygments_lexer": "ipython3",
   "version": "3.9.16"
  }
 },
 "nbformat": 4,
 "nbformat_minor": 2
}

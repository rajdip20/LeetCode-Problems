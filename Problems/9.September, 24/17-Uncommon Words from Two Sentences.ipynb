{
 "cells": [
  {
   "cell_type": "markdown",
   "metadata": {},
   "source": [
    "A **sentence** is a string of single-space separated words where each word consists only of lowercase letters.\n",
    "\n",
    "A word is **uncommon** if it appears exactly once in one of the sentences, and **does not appear** in the other sentence.\n",
    "\n",
    "Given two **sentences** `s1` and `s2`, return *a list of all the* ***uncommon words***. You may return the answer in **any order**.\n",
    "\n",
    "<br>\n",
    "\n",
    "**Example 1:**\n",
    ">**Input:** s1 = \"this apple is sweet\", s2 = \"this apple is sour\"<br>\n",
    ">**Output:** [\"sweet\",\"sour\"]<br>\n",
    ">**Explanation:**<br>\n",
    ">The word `\"sweet\"` appears only in `s1`, while the word `\"sour\"` appears only in `s2`.\n",
    "\n",
    "**Example 2:**\n",
    ">**Input:** s1 = \"apple apple\", s2 = \"banana\"<br>\n",
    ">**Output:** [\"banana\"]\n",
    "\n",
    "<br>\n",
    "\n",
    "**Constraints:**\n",
    "- >1 <= s1.length, s2.length <= 200\n",
    "- >s1 and s2 consist of lowercase English letters and spaces.\n",
    "- >s1 and s2 do not have leading or trailing spaces.\n",
    "- >All the words in s1 and s2 are separated by a single space."
   ]
  },
  {
   "cell_type": "code",
   "execution_count": 1,
   "metadata": {},
   "outputs": [],
   "source": [
    "class Solution:\n",
    "    def uncommonFromSentences(self, s1: str, s2: str) -> list[str]:\n",
    "        from collections import Counter\n",
    "        \n",
    "        words1 = s1.split()\n",
    "        words2 = s2.split()\n",
    "        \n",
    "        word_count = Counter(words1) + Counter(words2)\n",
    "        \n",
    "        result = [word for word in word_count if word_count[word] == 1]\n",
    "        \n",
    "        return result"
   ]
  }
 ],
 "metadata": {
  "kernelspec": {
   "display_name": "base",
   "language": "python",
   "name": "python3"
  },
  "language_info": {
   "codemirror_mode": {
    "name": "ipython",
    "version": 3
   },
   "file_extension": ".py",
   "mimetype": "text/x-python",
   "name": "python",
   "nbconvert_exporter": "python",
   "pygments_lexer": "ipython3",
   "version": "3.9.16"
  }
 },
 "nbformat": 4,
 "nbformat_minor": 2
}

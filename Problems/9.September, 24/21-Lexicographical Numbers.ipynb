{
 "cells": [
  {
   "cell_type": "markdown",
   "metadata": {},
   "source": [
    "Given an integer `n`, return all the numbers in the range `[1, n]` sorted in lexicographical order.\n",
    "\n",
    "You must write an algorithm that runs in `O(n)` time and uses `O(1)` extra space. \n",
    "\n",
    "<br>\n",
    "\n",
    "**Example 1:**\n",
    ">**Input:** n = 13<br>\n",
    ">**Output:** [1,10,11,12,13,2,3,4,5,6,7,8,9]\n",
    "\n",
    "**Example 2:**\n",
    ">**Input:** n = 2<br>\n",
    ">**Output:** [1,2]\n",
    "\n",
    "<br>\n",
    "\n",
    "**Constraints:**\n",
    "- >1 <= n <= 5 * 10<sup>4</sup>"
   ]
  },
  {
   "cell_type": "code",
   "execution_count": 1,
   "metadata": {},
   "outputs": [],
   "source": [
    "class Solution:\n",
    "    def lexicalOrder(self, n: int) -> list[int]:\n",
    "        result = []\n",
    "        current = 1\n",
    "        \n",
    "        for _ in range(n):\n",
    "            result.append(current)\n",
    "            if current * 10 <= n:\n",
    "                current *= 10\n",
    "            else:\n",
    "                while current % 10 == 9 or current + 1 > n:\n",
    "                    current //= 10\n",
    "                current += 1\n",
    "        \n",
    "        return result"
   ]
  }
 ],
 "metadata": {
  "kernelspec": {
   "display_name": "base",
   "language": "python",
   "name": "python3"
  },
  "language_info": {
   "codemirror_mode": {
    "name": "ipython",
    "version": 3
   },
   "file_extension": ".py",
   "mimetype": "text/x-python",
   "name": "python",
   "nbconvert_exporter": "python",
   "pygments_lexer": "ipython3",
   "version": "3.9.16"
  }
 },
 "nbformat": 4,
 "nbformat_minor": 2
}

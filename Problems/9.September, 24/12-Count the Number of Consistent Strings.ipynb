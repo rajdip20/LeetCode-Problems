{
 "cells": [
  {
   "cell_type": "markdown",
   "metadata": {},
   "source": [
    "You are given a string `allowed` consisting of **distinct** characters and an array of strings `words`. A string is **consistent** if all characters in the string appear in the string `allowed`.\n",
    "\n",
    "Return *the number of ***consistent*** strings in the array* `words`.\n",
    "\n",
    "<br>\n",
    "\n",
    "**Example 1:**\n",
    ">**Input:** allowed = \"ab\", words = [\"ad\",\"bd\",\"aaab\",\"baa\",\"badab\"]<br>\n",
    ">**Output:** 2<br>\n",
    ">**Explanation:** Strings \"aaab\" and \"baa\" are consistent since they only contain characters 'a' and 'b'.\n",
    "\n",
    "**Example 2:**\n",
    ">**Input:** allowed = \"abc\", words = [\"a\",\"b\",\"c\",\"ab\",\"ac\",\"bc\",\"abc\"]<br>\n",
    ">**Output:** 7<br>\n",
    ">**Explanation:** All strings are consistent.\n",
    "\n",
    "**Example 3:**\n",
    ">**Input:** allowed = \"cad\", words = [\"cc\",\"acd\",\"b\",\"ba\",\"bac\",\"bad\",\"ac\",\"d\"]<br>\n",
    ">**Output:** 4<br>\n",
    ">**Explanation:** Strings \"cc\", \"acd\", \"ac\", and \"d\" are consistent.\n",
    "\n",
    "<br>\n",
    "\n",
    "**Constraints:**\n",
    "- >1 <= words.length <= 10<sup>4</sup>\n",
    "- >1 <= allowed.length <= 26\n",
    "- >1 <= words[i].length <= 10\n",
    "- >The characters in allowed are **distinct**.\n",
    "- >words[i] and allowed contain only lowercase English letters."
   ]
  },
  {
   "cell_type": "code",
   "execution_count": 1,
   "metadata": {},
   "outputs": [],
   "source": [
    "class Solution:\n",
    "    def countConsistentStrings(self, allowed: str, words: list[str]) -> int:\n",
    "        allowed_set = set(allowed)\n",
    "        consistent_count = 0\n",
    "        \n",
    "        for word in words:\n",
    "            if all(char in allowed_set for char in word):\n",
    "                consistent_count += 1\n",
    "        \n",
    "        return consistent_count"
   ]
  }
 ],
 "metadata": {
  "kernelspec": {
   "display_name": "base",
   "language": "python",
   "name": "python3"
  },
  "language_info": {
   "codemirror_mode": {
    "name": "ipython",
    "version": 3
   },
   "file_extension": ".py",
   "mimetype": "text/x-python",
   "name": "python",
   "nbconvert_exporter": "python",
   "pygments_lexer": "ipython3",
   "version": "3.9.16"
  }
 },
 "nbformat": 4,
 "nbformat_minor": 2
}

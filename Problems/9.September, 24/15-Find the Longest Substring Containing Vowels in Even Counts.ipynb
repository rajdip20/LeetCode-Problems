{
 "cells": [
  {
   "cell_type": "markdown",
   "metadata": {},
   "source": [
    "Given the string `s`, return the size of the longest substring containing each vowel an even number of times. That is, 'a', 'e', 'i', 'o', and 'u' must appear an even number of times.\n",
    "\n",
    "<br>\n",
    "\n",
    "**Example 1:**\n",
    ">**Input:** s = \"eleetminicoworoep\"<br>\n",
    ">**Output:** 13<br>\n",
    ">**Explanation:** The longest substring is \"leetminicowor\" which contains two each of the vowels: **e**, **i** and **o** and zero of the vowels: **a** and **u**.\n",
    "\n",
    "**Example 2:**\n",
    ">**Input:** s = \"leetcodeisgreat\"<br>\n",
    ">**Output:** 5<br>\n",
    ">**Explanation:** The longest substring is \"leetc\" which contains two e's.\n",
    "\n",
    "**Example 3:**\n",
    ">**Input:** s = \"bcbcbc\"<br>\n",
    ">**Output:** 6<br>\n",
    ">**Explanation:** In this case, the given string \"bcbcbc\" is the longest because all vowels: **a**, **e**, **i**, **o** and **u** appear zero times.\n",
    "\n",
    "<br>\n",
    "\n",
    "**Constraints:**\n",
    "- >1 <= s.length <= 5 x 10^5\n",
    "- >s contains only lowercase English letters."
   ]
  },
  {
   "cell_type": "code",
   "execution_count": 1,
   "metadata": {},
   "outputs": [],
   "source": [
    "class Solution:\n",
    "    def findTheLongestSubstring(self, s: str) -> int:\n",
    "        vowels = {'a': 0, 'e': 1, 'i': 2, 'o': 3, 'u': 4}\n",
    "    \n",
    "        bitmask = 0\n",
    "        bitmask_map = {0: -1}\n",
    "        max_len = 0\n",
    "\n",
    "        for i, char in enumerate(s):\n",
    "            if char in vowels:\n",
    "                bitmask ^= (1 << vowels[char])\n",
    "            \n",
    "            if bitmask in bitmask_map:\n",
    "                max_len = max(max_len, i - bitmask_map[bitmask])\n",
    "            else:\n",
    "                bitmask_map[bitmask] = i\n",
    "        \n",
    "        return max_len"
   ]
  }
 ],
 "metadata": {
  "kernelspec": {
   "display_name": "base",
   "language": "python",
   "name": "python3"
  },
  "language_info": {
   "codemirror_mode": {
    "name": "ipython",
    "version": 3
   },
   "file_extension": ".py",
   "mimetype": "text/x-python",
   "name": "python",
   "nbconvert_exporter": "python",
   "pygments_lexer": "ipython3",
   "version": "3.9.16"
  }
 },
 "nbformat": 4,
 "nbformat_minor": 2
}

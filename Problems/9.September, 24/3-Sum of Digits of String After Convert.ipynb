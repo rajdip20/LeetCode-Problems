{
 "cells": [
  {
   "cell_type": "markdown",
   "metadata": {},
   "source": [
    "You are given a string `s` consisting of lowercase English letters, and an integer `k`.\n",
    "\n",
    "First, **convert** `s` into an integer by replacing each letter with its position in the alphabet (i.e., replace `'a'` with `1`, `'b'` with `2`, ..., `'z'` with `26`). Then, **transform** the integer by replacing it with the **sum of its digits**. Repeat the **transform** operation `k` **times** in total.\n",
    "\n",
    "For example, if `s = \"zbax\"` and `k = 2`, then the resulting integer would be `8` by the following operations:\n",
    "- **Convert:** `\"zbax\" ➝ \"(26)(2)(1)(24)\" ➝ \"262124\" ➝ 262124`\n",
    "- **Transform #1:** `262124 ➝ 2 + 6 + 2 + 1 + 2 + 4 ➝ 17`\n",
    "- **Transform #2:** `17 ➝ 1 + 7 ➝ 8`\n",
    "\n",
    "Return *the resulting integer after performing the operations described above*.\n",
    "\n",
    "<br>\n",
    "\n",
    "**Example 1:**\n",
    ">**Input:** s = \"iiii\", k = 1<br>\n",
    ">**Output:** 36<br>\n",
    ">**Explanation:** The operations are as follows:<br>\n",
    ">\\- Convert: \"iiii\" ➝ \"(9)(9)(9)(9)\" ➝ \"9999\" ➝ 9999<br>\n",
    ">\\- Transform #1: 9999 ➝ 9 + 9 + 9 + 9 ➝ 36<br>\n",
    ">Thus the resulting integer is 36.\n",
    "\n",
    "**Example 2:**\n",
    ">**Input:** s = \"leetcode\", k = 2<br>\n",
    ">**Output:** 6<br>\n",
    ">**Explanation:** The operations are as follows:<br>\n",
    ">\\- Convert: \"leetcode\" ➝ \"(12)(5)(5)(20)(3)(15)(4)(5)\" ➝ \"12552031545\" ➝ 12552031545<br>\n",
    ">\\- Transform #1: 12552031545 ➝ 1 + 2 + 5 + 5 + 2 + 0 + 3 + 1 + 5 + 4 + 5 ➝ 33<br>\n",
    ">\\- Transform #2: 33 ➝ 3 + 3 ➝ 6<br>\n",
    ">Thus the resulting integer is 6.\n",
    "\n",
    "**Example 3:**\n",
    ">**Input:** s = \"zbax\", k = 2<br>\n",
    ">**Output:** 8\n",
    "\n",
    "<br>\n",
    "\n",
    "**Constraints:**\n",
    "- >1 <= s.length <= 100\n",
    "- >1 <= k <= 10\n",
    "- >s consists of lowercase English letters."
   ]
  },
  {
   "cell_type": "code",
   "execution_count": 1,
   "metadata": {},
   "outputs": [],
   "source": [
    "class Solution:\n",
    "    def getLucky(self, s: str, k: int) -> int:\n",
    "        numeric_string = ''.join(str(ord(char) - ord('a') + 1) for char in s)\n",
    "    \n",
    "        def digit_sum(num_str):\n",
    "            return sum(int(c) for c in num_str)\n",
    "        \n",
    "        result = digit_sum(numeric_string)\n",
    "        \n",
    "        for _ in range(k - 1):\n",
    "            result = digit_sum(str(result))\n",
    "        \n",
    "        return result"
   ]
  }
 ],
 "metadata": {
  "kernelspec": {
   "display_name": "base",
   "language": "python",
   "name": "python3"
  },
  "language_info": {
   "codemirror_mode": {
    "name": "ipython",
    "version": 3
   },
   "file_extension": ".py",
   "mimetype": "text/x-python",
   "name": "python",
   "nbconvert_exporter": "python",
   "pygments_lexer": "ipython3",
   "version": "3.9.16"
  }
 },
 "nbformat": 4,
 "nbformat_minor": 2
}

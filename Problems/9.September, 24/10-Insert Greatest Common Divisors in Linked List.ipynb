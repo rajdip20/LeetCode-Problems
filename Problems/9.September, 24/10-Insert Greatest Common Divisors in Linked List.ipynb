{
 "cells": [
  {
   "cell_type": "markdown",
   "metadata": {},
   "source": [
    "Given the head of a linked list `head`, in which each node contains an integer value.\n",
    "\n",
    "Between every pair of adjacent nodes, insert a new node with a value equal to the **greatest common divisor** of them.\n",
    "\n",
    "Return *the linked list after insertion*.\n",
    "\n",
    "The **greatest common divisor** of two numbers is the largest positive integer that evenly divides both numbers.\n",
    "\n",
    "<br>\n",
    "\n",
    "**Example 1:**\n",
    "\n",
    "![ex1_copy](../../images/ex1_copy.png)\n",
    "\n",
    ">**Input:** head = [18,6,10,3]<br>\n",
    ">**Output:** [18,6,6,2,10,1,3]<br>\n",
    ">**Explanation:** The 1st diagram denotes the initial linked list and the 2nd diagram denotes the linked list after inserting the new nodes (nodes in blue are the inserted nodes).<br>\n",
    ">\\- We insert the greatest common divisor of 18 and 6 = 6 between the 1st and the 2nd nodes.<br>\n",
    ">\\- We insert the greatest common divisor of 6 and 10 = 2 between the 2nd and the 3rd nodes.<br>\n",
    ">\\- We insert the greatest common divisor of 10 and 3 = 1 between the 3rd and the 4th nodes.<br>\n",
    ">There are no more adjacent nodes, so we return the linked list.\n",
    "\n",
    "**Example 2:**\n",
    "\n",
    "![ex2_copy1](../../images/ex2_copy1.png)\n",
    "\n",
    ">**Input:** head = [7]<br>\n",
    ">**Output:** [7]<br>\n",
    ">**Explanation:** The 1st diagram denotes the initial linked list and the 2nd diagram denotes the linked list after inserting the new nodes.<br>\n",
    ">There are no pairs of adjacent nodes, so we return the initial linked list.\n",
    "\n",
    "<br>\n",
    "\n",
    "**Constraints:**\n",
    "- >The number of nodes in the list is in the range [1, 5000].\n",
    "- >1 <= Node.val <= 1000"
   ]
  },
  {
   "cell_type": "code",
   "execution_count": 1,
   "metadata": {},
   "outputs": [],
   "source": [
    "# Definition for singly-linked list.\n",
    "# class ListNode:\n",
    "#     def __init__(self, val=0, next=None):\n",
    "#         self.val = val\n",
    "#         self.next = next\n",
    "class Solution:\n",
    "    def insertGreatestCommonDivisors(self, head):\n",
    "        import math\n",
    "        \n",
    "        if not head or not head.next:\n",
    "            return head\n",
    "        \n",
    "        current = head\n",
    "        \n",
    "        while current and current.next:\n",
    "            gcd_value = math.gcd(current.val, current.next.val)\n",
    "            \n",
    "            gcd_node = ListNode(gcd_value)\n",
    "            \n",
    "            gcd_node.next = current.next\n",
    "            current.next = gcd_node\n",
    "            \n",
    "            current = gcd_node.next\n",
    "        \n",
    "        return head"
   ]
  }
 ],
 "metadata": {
  "kernelspec": {
   "display_name": "base",
   "language": "python",
   "name": "python3"
  },
  "language_info": {
   "codemirror_mode": {
    "name": "ipython",
    "version": 3
   },
   "file_extension": ".py",
   "mimetype": "text/x-python",
   "name": "python",
   "nbconvert_exporter": "python",
   "pygments_lexer": "ipython3",
   "version": "3.9.16"
  }
 },
 "nbformat": 4,
 "nbformat_minor": 2
}

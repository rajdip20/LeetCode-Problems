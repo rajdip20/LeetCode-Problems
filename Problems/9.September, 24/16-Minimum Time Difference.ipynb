{
 "cells": [
  {
   "cell_type": "markdown",
   "metadata": {},
   "source": [
    "Given a list of 24-hour clock time points in **\"HH:MM\"** format, return *the minimum ***minutes*** difference between any two time-points in the list*.\n",
    "\n",
    "<br>\n",
    "\n",
    "**Example 1:**\n",
    ">**Input:** timePoints = [\"23:59\",\"00:00\"]<br>\n",
    ">**Output:** 1\n",
    "\n",
    "**Example 2:**\n",
    ">**Input:** timePoints = [\"00:00\",\"23:59\",\"00:00\"]<br>\n",
    ">**Output:** 0\n",
    "\n",
    "<br>\n",
    "\n",
    "**Constraints:**\n",
    "- >2 <= timePoints.length <= 2 * 10<sup>4</sup>\n",
    "- >timePoints[i] is in the format **\"HH:MM\"**."
   ]
  },
  {
   "cell_type": "code",
   "execution_count": 1,
   "metadata": {},
   "outputs": [],
   "source": [
    "class Solution:\n",
    "    def findMinDifference(self, timePoints: list[str]) -> int:\n",
    "        def timeToMinutes(time: str) -> int:\n",
    "            hours, minutes = map(int, time.split(\":\"))\n",
    "            return hours * 60 + minutes\n",
    "            \n",
    "        minutes_list = [timeToMinutes(time) for time in timePoints]\n",
    "        \n",
    "        minutes_list.sort()\n",
    "        \n",
    "        min_diff = float('inf')\n",
    "        \n",
    "        for i in range(1, len(minutes_list)):\n",
    "            min_diff = min(min_diff, minutes_list[i] - minutes_list[i - 1])\n",
    "        \n",
    "        circular_diff = 1440 + minutes_list[0] - minutes_list[-1]  # 1440 = 24 * 60 minutes\n",
    "        min_diff = min(min_diff, circular_diff)\n",
    "        \n",
    "        return min_diff"
   ]
  }
 ],
 "metadata": {
  "kernelspec": {
   "display_name": "base",
   "language": "python",
   "name": "python3"
  },
  "language_info": {
   "codemirror_mode": {
    "name": "ipython",
    "version": 3
   },
   "file_extension": ".py",
   "mimetype": "text/x-python",
   "name": "python",
   "nbconvert_exporter": "python",
   "pygments_lexer": "ipython3",
   "version": "3.9.16"
  }
 },
 "nbformat": 4,
 "nbformat_minor": 2
}

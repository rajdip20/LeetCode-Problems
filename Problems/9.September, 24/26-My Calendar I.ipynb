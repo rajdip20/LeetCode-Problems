{
 "cells": [
  {
   "cell_type": "markdown",
   "metadata": {},
   "source": [
    "You are implementing a program to use as your calendar. We can add a new event if adding the event will not cause a **double booking**.\n",
    "\n",
    "A **double booking** happens when two events have some non-empty intersection (i.e., some moment is common to both events.).\n",
    "\n",
    "The event can be represented as a pair of integers `start` and `end` that represents a booking on the half-open interval `[start, end)`, the range of real numbers `x` such that `start <= x < end`.\n",
    "\n",
    "Implement the `MyCalendar` class:\n",
    "- `MyCalendar()` Initializes the calendar object.\n",
    "- `boolean book(int start, int end)` Returns `true` if the event can be added to the calendar successfully without causing a **double booking**. Otherwise, return `false` and do not add the event to the calendar.\n",
    "\n",
    "<br>\n",
    "\n",
    "**Example 1:**\n",
    ">**Input:**<br>\n",
    ">[\"MyCalendar\", \"book\", \"book\", \"book\"]<br>\n",
    ">[[], [10, 20], [15, 25], [20, 30]]<br>\n",
    ">**Output:**<br>\n",
    ">[null, true, false, true]<br>\n",
    ">**Explanation:**<br>\n",
    ">MyCalendar myCalendar = new MyCalendar();<br>\n",
    ">myCalendar.book(10, 20); &emsp; // return True<br>\n",
    ">myCalendar.book(15, 25); &emsp; // return False, It can not be booked because time 15 is already booked by another event.<br>\n",
    ">myCalendar.book(20, 30); &emsp; // return True, The event can be booked, as the first event takes every time less than 20, but not including 20.\n",
    "\n",
    "<br>\n",
    "\n",
    "**Constraints:**\n",
    "- >0 <= start < end <= 10<sup>9</sup>\n",
    "- >At most 1000 calls will be made to book."
   ]
  },
  {
   "cell_type": "code",
   "execution_count": 1,
   "metadata": {},
   "outputs": [],
   "source": [
    "class MyCalendar:\n",
    "\n",
    "    def __init__(self):\n",
    "        self.bookings = []\n",
    "\n",
    "    def book(self, start: int, end: int) -> bool:\n",
    "        for booked_start, booked_end in self.bookings:\n",
    "            if start < booked_end and booked_start < end:\n",
    "                return False\n",
    "        \n",
    "        self.bookings.append((start, end))\n",
    "        \n",
    "        return True\n",
    "\n",
    "\n",
    "# Your MyCalendar object will be instantiated and called as such:\n",
    "# obj = MyCalendar()\n",
    "# param_1 = obj.book(start,end)"
   ]
  }
 ],
 "metadata": {
  "kernelspec": {
   "display_name": "base",
   "language": "python",
   "name": "python3"
  },
  "language_info": {
   "codemirror_mode": {
    "name": "ipython",
    "version": 3
   },
   "file_extension": ".py",
   "mimetype": "text/x-python",
   "name": "python",
   "nbconvert_exporter": "python",
   "pygments_lexer": "ipython3",
   "version": "3.9.16"
  }
 },
 "nbformat": 4,
 "nbformat_minor": 2
}

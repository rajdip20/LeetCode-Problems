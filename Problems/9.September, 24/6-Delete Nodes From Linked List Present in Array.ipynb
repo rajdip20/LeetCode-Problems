{
 "cells": [
  {
   "cell_type": "markdown",
   "metadata": {},
   "source": [
    "You are given an array of integers nums and the head of a linked list. Return the head of the modified linked list after removing all nodes from the linked list that have a value that exists in nums.\n",
    "\n",
    "<br>\n",
    "\n",
    "**Example 1:**\n",
    ">**Input:** nums = [1,2,3], head = [1,2,3,4,5]<br>\n",
    ">**Output:** [4,5]<br>\n",
    ">**Explanation:**<br>\n",
    "><br>\n",
    ">![linkedlistexample0](../../images/linkedlistexample0.png)<br>\n",
    "><br>\n",
    ">Remove the nodes with values 1, 2, and 3.\n",
    "\n",
    "**Example 2:**\n",
    ">**Input:** nums = [1], head = [1,2,1,2,1,2]<br>\n",
    ">**Output:** [2,2,2]<br>\n",
    ">**Explanation:**<br>\n",
    "><br>\n",
    ">![linkedlistexample1](../../images/linkedlistexample1.png)<br>\n",
    "><br>\n",
    ">Remove the nodes with value 1.\n",
    "\n",
    "**Example 3:**\n",
    ">**Input:** nums = [5], head = [1,2,3,4]<br>\n",
    ">**Output:** [1,2,3,4]<br>\n",
    ">**Explanation:**<br>\n",
    "><br>\n",
    ">![linkedlistexample2](../../images/linkedlistexample2.png)<br>\n",
    "><br>\n",
    ">No node has value 5.\n",
    "\n",
    "<br>\n",
    "\n",
    "**Constraints:**\n",
    "- >1 <= nums.length <= 10<sup>5</sup>\n",
    "- >1 <= nums[i] <= 10<sup>5</sup>\n",
    "- >All elements in nums are unique.\n",
    "- >The number of nodes in the given list is in the range [1, 10<sup>5</sup>].\n",
    "- >1 <= Node.val <= 10<sup>5</sup>\n",
    "- >The input is generated such that there is at least one node in the linked list that has a value not present in nums."
   ]
  },
  {
   "cell_type": "code",
   "execution_count": 1,
   "metadata": {},
   "outputs": [],
   "source": [
    "# Definition for singly-linked list.\n",
    "# class ListNode:\n",
    "#     def __init__(self, val=0, next=None):\n",
    "#         self.val = val\n",
    "#         self.next = next\n",
    "class Solution:\n",
    "    def modifiedList(self, nums: list[int], head):\n",
    "        nums_set = set(nums)\n",
    "    \n",
    "        dummy = ListNode(0)\n",
    "        dummy.next = head\n",
    "        \n",
    "        prev = dummy\n",
    "        curr = head\n",
    "        \n",
    "        while curr:\n",
    "            if curr.val in nums_set:\n",
    "                prev.next = curr.next\n",
    "            else:\n",
    "                prev = curr\n",
    "            curr = curr.next\n",
    "        \n",
    "        return dummy.next"
   ]
  }
 ],
 "metadata": {
  "kernelspec": {
   "display_name": "base",
   "language": "python",
   "name": "python3"
  },
  "language_info": {
   "codemirror_mode": {
    "name": "ipython",
    "version": 3
   },
   "file_extension": ".py",
   "mimetype": "text/x-python",
   "name": "python",
   "nbconvert_exporter": "python",
   "pygments_lexer": "ipython3",
   "version": "3.9.16"
  }
 },
 "nbformat": 4,
 "nbformat_minor": 2
}

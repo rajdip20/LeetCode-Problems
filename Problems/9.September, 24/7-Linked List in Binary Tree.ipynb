{
 "cells": [
  {
   "cell_type": "markdown",
   "metadata": {},
   "source": [
    "Given a binary tree `root` and a linked list with `head` as the first node. \n",
    "\n",
    "Return True if all the elements in the linked list starting from the `head` correspond to some *downward path* connected in the binary tree otherwise return False.\n",
    "\n",
    "In this context downward path means a path that starts at some node and goes downwards.\n",
    "\n",
    "<br>\n",
    "\n",
    "**Example 1:**\n",
    "\n",
    "![image-1](../../images/sample_1_1720.png)\n",
    "\n",
    ">**Input:** head = [4,2,8], root = [1,4,4,null,2,2,null,1,null,6,8,null,null,null,null,1,3]<br>\n",
    ">**Output:** true<br>\n",
    ">**Explanation:** Nodes in blue form a subpath in the binary Tree.  \n",
    "\n",
    "**Example 2:**\n",
    "\n",
    "![image-2](../../images/sample_2_1720.png)\n",
    "\n",
    ">**Input:** head = [1,4,2,6], root = [1,4,4,null,2,2,null,1,null,6,8,null,null,null,null,1,3]<br>\n",
    ">**Output:** true\n",
    "\n",
    "**Example 3:**\n",
    ">**Input:** head = [1,4,2,6,8], root = [1,4,4,null,2,2,null,1,null,6,8,null,null,null,null,1,3]<br>\n",
    ">**Output:** false<br>\n",
    ">**Explanation:** There is no path in the binary tree that contains all the elements of the linked list from head.\n",
    "\n",
    "<br>\n",
    "\n",
    "**Constraints:**\n",
    "- >The number of nodes in the tree will be in the range [1, 2500].\n",
    "- >The number of nodes in the list will be in the range [1, 100].\n",
    "- >1 <= Node.val <= 100 for each node in the linked list and binary tree."
   ]
  },
  {
   "cell_type": "code",
   "execution_count": 1,
   "metadata": {},
   "outputs": [],
   "source": [
    "# Definition for singly-linked list.\n",
    "# class ListNode:\n",
    "#     def __init__(self, val=0, next=None):\n",
    "#         self.val = val\n",
    "#         self.next = next\n",
    "# Definition for a binary tree node.\n",
    "# class TreeNode:\n",
    "#     def __init__(self, val=0, left=None, right=None):\n",
    "#         self.val = val\n",
    "#         self.left = left\n",
    "#         self.right = right\n",
    "class Solution:\n",
    "    def isSubPath(self, head, root) -> bool:\n",
    "        def dfs(treeNode, listNode):\n",
    "            if not listNode:\n",
    "                return True\n",
    "            if not treeNode or treeNode.val != listNode.val:\n",
    "                return False\n",
    "            return dfs(treeNode.left, listNode.next) or dfs(treeNode.right, listNode.next)\n",
    "        \n",
    "        def traverse(treeNode):\n",
    "            if not treeNode:\n",
    "                return False\n",
    "            if dfs(treeNode, head):\n",
    "                return True\n",
    "            return traverse(treeNode.left) or traverse(treeNode.right)\n",
    "        \n",
    "        return traverse(root)"
   ]
  }
 ],
 "metadata": {
  "kernelspec": {
   "display_name": "base",
   "language": "python",
   "name": "python3"
  },
  "language_info": {
   "codemirror_mode": {
    "name": "ipython",
    "version": 3
   },
   "file_extension": ".py",
   "mimetype": "text/x-python",
   "name": "python",
   "nbconvert_exporter": "python",
   "pygments_lexer": "ipython3",
   "version": "3.9.16"
  }
 },
 "nbformat": 4,
 "nbformat_minor": 2
}

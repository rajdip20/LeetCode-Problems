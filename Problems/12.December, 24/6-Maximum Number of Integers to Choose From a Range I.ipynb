{
 "cells": [
  {
   "cell_type": "markdown",
   "metadata": {},
   "source": [
    "You are given an integer array `banned` and two integers `n` and `maxSum`. You are choosing some number of integers following the below rules:\n",
    "- The chosen integers have to be in the range `[1, n]`.\n",
    "- Each integer can be chosen **at most once**.\n",
    "- The chosen integers should not be in the array `banned`.\n",
    "- The sum of the chosen integers should not exceed `maxSum`.\n",
    "\n",
    "Return *the ***maximum*** number of integers you can choose following the mentioned rules*.\n",
    "\n",
    "<br>\n",
    "\n",
    "**Example 1:**\n",
    ">**Input:** banned = [1,6,5], n = 5, maxSum = 6<br>\n",
    ">**Output:** 2<br>\n",
    ">**Explanation:** You can choose the integers 2 and 4.<br>\n",
    ">2 and 4 are from the range [1, 5], both did not appear in banned, and their sum is 6, which did not exceed maxSum.\n",
    "\n",
    "**Example 2:**\n",
    ">**Input:** banned = [1,2,3,4,5,6,7], n = 8, maxSum = 1<br>\n",
    ">**Output:** 0<br>\n",
    ">**Explanation:** You cannot choose any integer while following the mentioned conditions.\n",
    "\n",
    "**Example 3:**\n",
    ">**Input:** banned = [11], n = 7, maxSum = 50<br>\n",
    ">**Output:** 7<br>\n",
    ">**Explanation:** You can choose the integers 1, 2, 3, 4, 5, 6, and 7.<br>\n",
    ">They are from the range [1, 7], all did not appear in banned, and their sum is 28, which did not exceed maxSum.\n",
    "\n",
    "<br>\n",
    "\n",
    "**Constraints:**\n",
    "- >1 <= banned.length <= 10<sup>4</sup>\n",
    "- >1 <= banned[i], n <= 10<sup>4</sup>\n",
    "- >1 <= maxSum <= 10<sup>9</sup>"
   ]
  },
  {
   "cell_type": "code",
   "execution_count": 1,
   "metadata": {},
   "outputs": [],
   "source": [
    "class Solution:\n",
    "    def maxCount(self, banned: list[int], n: int, maxSum: int) -> int:\n",
    "        banned_set = set(banned)\n",
    "        current_sum = 0\n",
    "        count = 0\n",
    "        \n",
    "        for i in range(1, n + 1):\n",
    "            if i not in banned_set and current_sum + i <= maxSum:\n",
    "                current_sum += i\n",
    "                count += 1\n",
    "            elif current_sum + i > maxSum:\n",
    "                break\n",
    "        \n",
    "        return count"
   ]
  }
 ],
 "metadata": {
  "kernelspec": {
   "display_name": "base",
   "language": "python",
   "name": "python3"
  },
  "language_info": {
   "codemirror_mode": {
    "name": "ipython",
    "version": 3
   },
   "file_extension": ".py",
   "mimetype": "text/x-python",
   "name": "python",
   "nbconvert_exporter": "python",
   "pygments_lexer": "ipython3",
   "version": "3.9.16"
  }
 },
 "nbformat": 4,
 "nbformat_minor": 2
}

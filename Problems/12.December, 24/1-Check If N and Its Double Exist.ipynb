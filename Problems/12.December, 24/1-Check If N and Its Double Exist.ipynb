{
 "cells": [
  {
   "cell_type": "markdown",
   "metadata": {},
   "source": [
    "Given an array `arr` of integers, check if there exist two indices `i` and `j` such that :\n",
    "- `i != j`\n",
    "- `0 <= i, j < arr.length`\n",
    "- `arr[i] == 2 * arr[j]`\n",
    "\n",
    "<br>\n",
    "\n",
    "**Example 1:**\n",
    ">**Input:** arr = [10,2,5,3]<br>\n",
    ">**Output:** true<br>\n",
    ">**Explanation:** For i = 0 and j = 2, arr[i] == 10 == 2 * 5 == 2 * arr[j]\n",
    "\n",
    "**Example 2:**\n",
    ">**Input:** arr = [3,1,7,11]<br>\n",
    ">**Output:** false<br>\n",
    ">**Explanation:** There is no i and j that satisfy the conditions.\n",
    "\n",
    "<br>\n",
    "\n",
    "**Constraints:**\n",
    "- >2 <= arr.length <= 500\n",
    "- >-10<sup>3</sup> <= arr[i] <= 10<sup>3</sup>"
   ]
  },
  {
   "cell_type": "code",
   "execution_count": 1,
   "metadata": {},
   "outputs": [],
   "source": [
    "class Solution:\n",
    "    def checkIfExist(self, arr: list[int]) -> bool:\n",
    "        seen = set()\n",
    "        \n",
    "        for x in arr:\n",
    "            if 2 * x in seen or (x % 2 == 0 and x // 2 in seen):\n",
    "                return True\n",
    "            seen.add(x)\n",
    "        \n",
    "        return False"
   ]
  }
 ],
 "metadata": {
  "kernelspec": {
   "display_name": "base",
   "language": "python",
   "name": "python3"
  },
  "language_info": {
   "codemirror_mode": {
    "name": "ipython",
    "version": 3
   },
   "file_extension": ".py",
   "mimetype": "text/x-python",
   "name": "python",
   "nbconvert_exporter": "python",
   "pygments_lexer": "ipython3",
   "version": "3.9.16"
  }
 },
 "nbformat": 4,
 "nbformat_minor": 2
}

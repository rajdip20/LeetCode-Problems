{
 "cells": [
  {
   "cell_type": "markdown",
   "metadata": {},
   "source": [
    "You are given two strings `start` and `target`, both of length `n`. Each string consists **only** of the characters `'L'`, `'R'`, and `'_'` where:\n",
    "- The characters `'L'` and `'R'` represent pieces, where a piece `'L'` can move to the **left** only if there is a **blank** space directly to its left, and a piece `'R'` can move to the **right** only if there is a **blank** space directly to its right.\n",
    "- The character `'_'` represents a blank space that can be occupied by **any** of the `'L'` or `'R'` pieces.\n",
    "\n",
    "Return `true` *if it is possible to obtain the string* `target` *by moving the pieces of the string* `start` ***any*** number of times. Otherwise, return `false`.\n",
    "\n",
    "<br>\n",
    "\n",
    "**Example 1:**\n",
    ">**Input:** start = \"\\_L__R__R_\", target = \"L______RR\"<br>\n",
    ">**Output:** true<br>\n",
    ">**Explanation:** We can obtain the string target from start by doing the following moves:<br>\n",
    ">\\- Move the first piece one step to the left, start becomes equal to \"**L**___R__R_\".<br>\n",
    ">\\- Move the last piece one step to the right, start becomes equal to \"L___R___**R**\".<br>\n",
    ">\\- Move the second piece three steps to the right, start becomes equal to \"L______**R**R\".<br>\n",
    ">Since it is possible to get the string target from start, we return true.\n",
    "\n",
    "**Example 2:**\n",
    ">**Input:** start = \"R_L_\", target = \"__LR\"<br>\n",
    ">**Output:** false<br>\n",
    ">**Explanation:** The 'R' piece in the string start can move one step to the right to obtain \"\\_**R**L\\_\".<br>\n",
    ">After that, no pieces can move anymore, so it is impossible to obtain the string target from start.\n",
    "\n",
    "**Example 3:**\n",
    ">**Input:** start = \"\\_R\", target = \"R_\"<br>\n",
    ">**Output:** false<br>\n",
    ">**Explanation:** The piece in the string start can move only to the right, so it is impossible to obtain the string target from start.\n",
    "\n",
    "<br>\n",
    "\n",
    "**Constraints:**\n",
    "- >n == start.length == target.length\n",
    "- >1 <= n <= 10<sup>5</sup>\n",
    "- >start and target consist of the characters `'L'`, `'R'`, and `'_'`."
   ]
  },
  {
   "cell_type": "code",
   "execution_count": 1,
   "metadata": {},
   "outputs": [],
   "source": [
    "class Solution:\n",
    "    def canChange(self, start: str, target: str) -> bool:\n",
    "        start_pieces = [(c, i) for i, c in enumerate(start) if c != '_']\n",
    "        target_pieces = [(c, i) for i, c in enumerate(target) if c != '_']\n",
    "        \n",
    "        if len(start_pieces) != len(target_pieces):\n",
    "            return False\n",
    "        \n",
    "        for (s_char, s_index), (t_char, t_index) in zip(start_pieces, target_pieces):\n",
    "            if s_char != t_char:\n",
    "                return False\n",
    "            if s_char == 'L' and s_index < t_index:\n",
    "                return False\n",
    "            if s_char == 'R' and s_index > t_index:\n",
    "                return False\n",
    "        \n",
    "        return True"
   ]
  }
 ],
 "metadata": {
  "kernelspec": {
   "display_name": "base",
   "language": "python",
   "name": "python3"
  },
  "language_info": {
   "codemirror_mode": {
    "name": "ipython",
    "version": 3
   },
   "file_extension": ".py",
   "mimetype": "text/x-python",
   "name": "python",
   "nbconvert_exporter": "python",
   "pygments_lexer": "ipython3",
   "version": "3.9.16"
  }
 },
 "nbformat": 4,
 "nbformat_minor": 2
}

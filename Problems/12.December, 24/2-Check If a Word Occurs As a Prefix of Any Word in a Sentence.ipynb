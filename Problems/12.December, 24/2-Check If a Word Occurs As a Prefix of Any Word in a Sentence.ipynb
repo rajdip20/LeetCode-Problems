{
 "cells": [
  {
   "cell_type": "markdown",
   "metadata": {},
   "source": [
    "Given a `sentence` that consists of some words separated by a **single space**, and a `searchWord`, check if `searchWord` is a prefix of any word in `sentence`.\n",
    "\n",
    "Return *the index of the word in* `sentence` ***(1-indexed)*** *where* `searchWord` *is a prefix of this word*. If `searchWord` is a prefix of more than one word, return the index of the first word **(minimum index)**. If there is no such word return `-1`.\n",
    "\n",
    "A **prefix** of a string `s` is any leading contiguous substring of `s`.\n",
    "\n",
    "<br>\n",
    "\n",
    "**Example 1:**\n",
    ">**Input:** sentence = \"i love eating burger\", searchWord = \"burg\"<br>\n",
    ">**Output:** 4<br>\n",
    ">**Explanation:** \"burg\" is prefix of \"burger\" which is the 4th word in the sentence.\n",
    "\n",
    "**Example 2:**\n",
    ">**Input:** sentence = \"this problem is an easy problem\", searchWord = \"pro\"<br>\n",
    ">**Output:** 2<br>\n",
    ">**Explanation:** \"pro\" is prefix of \"problem\" which is the 2nd and the 6th word in the sentence, but we return 2 as it's the minimal index.\n",
    "\n",
    "**Example 3:**\n",
    ">**Input:** sentence = \"i am tired\", searchWord = \"you\"<br>\n",
    ">**Output:** -1<br>\n",
    ">**Explanation:** \"you\" is not a prefix of any word in the sentence.\n",
    "\n",
    "<br>\n",
    "\n",
    "**Constraints:**\n",
    "- >1 <= sentence.length <= 100\n",
    "- >1 <= searchWord.length <= 10\n",
    "- >sentence consists of lowercase English letters and spaces.\n",
    "- >searchWord consists of lowercase English letters."
   ]
  },
  {
   "cell_type": "code",
   "execution_count": 1,
   "metadata": {},
   "outputs": [],
   "source": [
    "class Solution:\n",
    "    def isPrefixOfWord(self, sentence: str, searchWord: str) -> int:\n",
    "        words = sentence.split()\n",
    "    \n",
    "        for i, word in enumerate(words, start=1):\n",
    "            if word.startswith(searchWord):\n",
    "                return i\n",
    "        \n",
    "        return -1"
   ]
  }
 ],
 "metadata": {
  "kernelspec": {
   "display_name": "base",
   "language": "python",
   "name": "python3"
  },
  "language_info": {
   "codemirror_mode": {
    "name": "ipython",
    "version": 3
   },
   "file_extension": ".py",
   "mimetype": "text/x-python",
   "name": "python",
   "nbconvert_exporter": "python",
   "pygments_lexer": "ipython3",
   "version": "3.9.16"
  }
 },
 "nbformat": 4,
 "nbformat_minor": 2
}

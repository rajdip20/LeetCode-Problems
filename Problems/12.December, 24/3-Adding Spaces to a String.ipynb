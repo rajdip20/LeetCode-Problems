{
 "cells": [
  {
   "cell_type": "markdown",
   "metadata": {},
   "source": [
    "You are given a **0-indexed** string `s` and a **0-indexed** integer array `spaces` that describes the indices in the original string where spaces will be added. Each space should be inserted **before** the character at the given index.\n",
    "- For example, given `s = \"EnjoyYourCoffee\"` and `spaces = [5, 9]`, we place spaces before `'Y'` and `'C'`, which are at indices `5` and `9` respectively. Thus, we obtain **\"Enjoy <u>Y</u>our <u>C</u>offee\"**.\n",
    "\n",
    "Return *the modified string ***after*** the spaces have been added*.\n",
    "\n",
    "<br>\n",
    "\n",
    "**Example 1:**\n",
    ">**Input:** s = \"LeetcodeHelpsMeLearn\", spaces = [8,13,15]<br>\n",
    ">**Output:** \"Leetcode Helps Me Learn\"<br>\n",
    ">**Explanation:** <br>\n",
    ">The indices 8, 13, and 15 correspond to the underlined characters in \"Leetcode<u>**H**</u>elps<u>**M**</u>e<u>**L**</u>earn\".<br>\n",
    ">We then place spaces before those characters.\n",
    "\n",
    "**Example 2:**\n",
    ">**Input:** s = \"icodeinpython\", spaces = [1,5,7,9]<br>\n",
    ">**Output:** \"i code in py thon\"<br>\n",
    ">**Explanation:**<br>\n",
    ">The indices 1, 5, 7, and 9 correspond to the underlined characters in \"i<u>**c**</u>ode<u>**i**</u>n<u>**p**</u>y<u>**t**</u>hon\".<br>\n",
    ">We then place spaces before those characters.\n",
    "\n",
    "**Example 3:**\n",
    ">**Input:** s = \"spacing\", spaces = [0,1,2,3,4,5,6]<br>\n",
    ">**Output:** \" s p a c i n g\"<br>\n",
    ">**Explanation:**<br>\n",
    ">We are also able to place spaces before the first character of the string.\n",
    "\n",
    "<br>\n",
    "\n",
    "**Constraints:**\n",
    "- >1 <= s.length <= 3 * 10<sup>5</sup>\n",
    "- >s consists only of lowercase and uppercase English letters.\n",
    "- >1 <= spaces.length <= 3 * 10<sup>5</sup>\n",
    "- >0 <= spaces[i] <= s.length - 1\n",
    "- >All the values of spaces are **strictly increasing**."
   ]
  },
  {
   "cell_type": "code",
   "execution_count": 1,
   "metadata": {},
   "outputs": [],
   "source": [
    "class Solution:\n",
    "    def addSpaces(self, s: str, spaces: list[int]) -> str:\n",
    "        result = []\n",
    "        p = 0\n",
    "\n",
    "        for i, char in enumerate(s):\n",
    "            if p < len(spaces) and i == spaces[p]:\n",
    "                result.append(' ')\n",
    "                p += 1\n",
    "            result.append(char)\n",
    "\n",
    "        return ''.join(result)"
   ]
  }
 ],
 "metadata": {
  "kernelspec": {
   "display_name": "base",
   "language": "python",
   "name": "python3"
  },
  "language_info": {
   "codemirror_mode": {
    "name": "ipython",
    "version": 3
   },
   "file_extension": ".py",
   "mimetype": "text/x-python",
   "name": "python",
   "nbconvert_exporter": "python",
   "pygments_lexer": "ipython3",
   "version": "3.9.16"
  }
 },
 "nbformat": 4,
 "nbformat_minor": 2
}

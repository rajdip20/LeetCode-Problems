{
 "cells": [
  {
   "cell_type": "markdown",
   "metadata": {},
   "source": [
    "You are given two **0-indexed** strings `str1` and `str2`.\n",
    "\n",
    "In an operation, you select a **set** of indices in `str1`, and for each index `i` in the set, increment `str1[i]` to the next character **cyclically**. That is `'a'` becomes `'b'`, `'b'` becomes `'c'`, and so on, and `'z'` becomes `'a'`.\n",
    "\n",
    "Return `true` *if it is possible to make* `str2` *a subsequence of* `str1` *by performing the operation ***at most once***, and* `false` *otherwise*.\n",
    "\n",
    "**Note:** A subsequence of a string is a new string that is formed from the original string by deleting some (possibly none) of the characters without disturbing the relative positions of the remaining characters.\n",
    "\n",
    "<br>\n",
    "\n",
    "**Example 1:**\n",
    ">**Input:** str1 = \"abc\", str2 = \"ad\"<br>\n",
    ">**Output:** true<br>\n",
    ">**Explanation:** Select index 2 in str1.<br>\n",
    ">Increment str1[2] to become 'd'. <br>\n",
    ">Hence, str1 becomes \"abd\" and str2 is now a subsequence. Therefore, true is returned.\n",
    "\n",
    "**Example 2:**\n",
    ">**Input:** str1 = \"zc\", str2 = \"ad\"<br>\n",
    ">**Output:** true<br>\n",
    ">**Explanation:** Select indices 0 and 1 in str1. <br>\n",
    ">Increment str1[0] to become 'a'. <br>\n",
    ">Increment str1[1] to become 'd'. <br>\n",
    ">Hence, str1 becomes \"ad\" and str2 is now a subsequence. Therefore, true is returned.\n",
    "\n",
    "**Example 3:**\n",
    ">**Input:** str1 = \"ab\", str2 = \"d\"<br>\n",
    ">**Output:** false<br>\n",
    ">**Explanation:** In this example, it can be shown that it is impossible to make str2 a subsequence of str1 using the operation at most once. <br>\n",
    ">Therefore, false is returned.\n",
    "\n",
    "<br>\n",
    "\n",
    "**Constraints:**\n",
    "- >1 <= str1.length <= 10<sup>5</sup>\n",
    "- >1 <= str2.length <= 10<sup>5</sup>\n",
    "- >str1 and str2 consist of only lowercase English letters."
   ]
  },
  {
   "cell_type": "code",
   "execution_count": 1,
   "metadata": {},
   "outputs": [],
   "source": [
    "class Solution:\n",
    "    def canMakeSubsequence(self, str1: str, str2: str) -> bool:\n",
    "        i, j = 0, 0\n",
    "        \n",
    "        while i < len(str1) and j < len(str2):\n",
    "            if str1[i] == str2[j] or (chr((ord(str1[i]) - ord('a') + 1) % 26 + ord('a')) == str2[j]):\n",
    "                j += 1\n",
    "            i += 1\n",
    "\n",
    "        return j == len(str2)"
   ]
  }
 ],
 "metadata": {
  "kernelspec": {
   "display_name": "base",
   "language": "python",
   "name": "python3"
  },
  "language_info": {
   "codemirror_mode": {
    "name": "ipython",
    "version": 3
   },
   "file_extension": ".py",
   "mimetype": "text/x-python",
   "name": "python",
   "nbconvert_exporter": "python",
   "pygments_lexer": "ipython3",
   "version": "3.9.16"
  }
 },
 "nbformat": 4,
 "nbformat_minor": 2
}

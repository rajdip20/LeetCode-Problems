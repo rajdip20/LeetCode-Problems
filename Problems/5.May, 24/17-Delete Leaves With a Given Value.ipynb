{
 "cells": [
  {
   "cell_type": "markdown",
   "metadata": {},
   "source": [
    "Given a binary tree `root` and an integer `target`, delete all the **leaf nodes** with value `target`.\n",
    "\n",
    "Note that once you delete a leaf node with value `target`, if its parent node becomes a leaf node and has the value `target`, it should also be deleted (you need to continue doing that until you cannot).\n",
    "\n",
    "<br>\n",
    "\n",
    "**Example 1:**\n",
    "\n",
    "![sample_1](../../images/sample_1_1684.png)\n",
    "\n",
    ">**Input:** root = [1,2,3,2,null,2,4], target = 2<br>\n",
    ">**Output:** [1,null,3,null,4]<br>\n",
    ">**Explanation:** Leaf nodes in green with value (target = 2) are removed (Picture in left). <br>\n",
    ">After removing, new nodes become leaf nodes with value (target = 2) (Picture in center).\n",
    "\n",
    "**Example 2:**\n",
    "\n",
    "![sample_2](../../images/sample_2_1684.png)\n",
    "\n",
    ">**Input:** root = [1,3,3,3,2], target = 3<br>\n",
    ">**Output:** [1,3,null,null,2]\n",
    "\n",
    "**Example 3:**\n",
    "\n",
    "![sample_3](../../images/sample_3_1684.png)\n",
    "\n",
    ">**Input:** root = [1,2,null,2,null,2], target = 2<br>\n",
    ">**Output:** [1]<br>\n",
    ">**Explanation:** Leaf nodes in green with value (target = 2) are removed at each step.\n",
    "\n",
    "<br>\n",
    "\n",
    "**Constraints:**\n",
    "- >The number of nodes in the tree is in the range [1, 3000].\n",
    "- >1 <= Node.val, target <= 1000"
   ]
  },
  {
   "cell_type": "code",
   "execution_count": 1,
   "metadata": {},
   "outputs": [],
   "source": [
    "# Definition for a binary tree node.\n",
    "# class TreeNode:\n",
    "#     def __init__(self, val=0, left=None, right=None):\n",
    "#         self.val = val\n",
    "#         self.left = left\n",
    "#         self.right = right\n",
    "class Solution:\n",
    "    def removeLeafNodes(self, root, target: int):\n",
    "        if root is None:\n",
    "            return None\n",
    "\n",
    "        root.left = self.removeLeafNodes(root.left, target)\n",
    "        root.right = self.removeLeafNodes(root.right, target)\n",
    "\n",
    "        if root.val == target and root.left is None and root.right is None:\n",
    "            return None\n",
    "\n",
    "        return root"
   ]
  }
 ],
 "metadata": {
  "kernelspec": {
   "display_name": "base",
   "language": "python",
   "name": "python3"
  },
  "language_info": {
   "codemirror_mode": {
    "name": "ipython",
    "version": 3
   },
   "file_extension": ".py",
   "mimetype": "text/x-python",
   "name": "python",
   "nbconvert_exporter": "python",
   "pygments_lexer": "ipython3",
   "version": "3.9.16"
  }
 },
 "nbformat": 4,
 "nbformat_minor": 2
}

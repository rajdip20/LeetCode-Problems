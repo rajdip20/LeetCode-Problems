{
 "cells": [
  {
   "cell_type": "markdown",
   "metadata": {},
   "source": [
    "You are given the `head` of a linked list.\n",
    "\n",
    "Remove every node which has a node with a greater value anywhere to the right side of it.\n",
    "\n",
    "Return *the* `head` *of the modified linked list*.\n",
    "\n",
    "<br>\n",
    "\n",
    "**Example 1:**\n",
    "\n",
    "![drawio](../../images/drawio.png)\n",
    "\n",
    ">**Input:** head = [5,2,13,3,8]<br>\n",
    ">**Output:** [13,8]<br>\n",
    ">**Explanation:** The nodes that should be removed are 5, 2 and 3.<br>\n",
    ">\\- Node 13 is to the right of node 5.<br>\n",
    ">\\- Node 13 is to the right of node 2.<br>\n",
    ">\\- Node 8 is to the right of node 3.\n",
    "\n",
    "**Example 2:**\n",
    ">**Input:** head = [1,1,1,1]<br>\n",
    ">**Output:** [1,1,1,1]<br>\n",
    ">**Explanation:** Every node has value 1, so no nodes are removed.\n",
    "\n",
    "<br>\n",
    "\n",
    "**Constraints:**\n",
    "- >The number of the nodes in the given list is in the range [1, 10<sup>5</sup>].\n",
    "- >1 <= Node.val <= 10<sup>5</sup>"
   ]
  },
  {
   "cell_type": "code",
   "execution_count": 1,
   "metadata": {},
   "outputs": [],
   "source": [
    "# Definition for singly-linked list.\n",
    "# class ListNode:\n",
    "#     def __init__(self, val=0, next=None):\n",
    "#         self.val = val\n",
    "#         self.next = next\n",
    "class Solution:\n",
    "    def removeNodes(self, head):\n",
    "        prev = None\n",
    "        current = head\n",
    "        while current:\n",
    "            next_node = current.next\n",
    "            current.next = prev\n",
    "            prev = current\n",
    "            current = next_node\n",
    "        head = prev\n",
    "\n",
    "        max_val = float('-inf')\n",
    "        current = head\n",
    "        prev = None\n",
    "        while current:\n",
    "            if current.val < max_val:\n",
    "                prev.next = current.next\n",
    "            else:\n",
    "                max_val = current.val\n",
    "                prev = current\n",
    "            current = current.next\n",
    "\n",
    "        prev = None\n",
    "        current = head\n",
    "        while current:\n",
    "            next_node = current.next\n",
    "            current.next = prev\n",
    "            prev = current\n",
    "            current = next_node\n",
    "        head = prev\n",
    "\n",
    "        return head"
   ]
  }
 ],
 "metadata": {
  "kernelspec": {
   "display_name": "base",
   "language": "python",
   "name": "python3"
  },
  "language_info": {
   "codemirror_mode": {
    "name": "ipython",
    "version": 3
   },
   "file_extension": ".py",
   "mimetype": "text/x-python",
   "name": "python",
   "nbconvert_exporter": "python",
   "pygments_lexer": "ipython3",
   "version": "3.9.16"
  }
 },
 "nbformat": 4,
 "nbformat_minor": 2
}

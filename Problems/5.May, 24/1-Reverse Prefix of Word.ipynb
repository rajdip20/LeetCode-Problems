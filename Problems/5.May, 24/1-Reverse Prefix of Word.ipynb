{
 "cells": [
  {
   "cell_type": "markdown",
   "metadata": {},
   "source": [
    "Given a **0-indexed** string `word` and a character `ch`, **reverse** the segment of `word` that starts at index `0` and ends at the index of the **first occurrence** of `ch` **(inclusive)**. If the character `ch` does not exist in `word`, do nothing.\n",
    "- For example, if `word = \"abcdefd\"` and `ch = \"d\"`, then you should **reverse** the segment that starts at `0` and ends at `3` **(inclusive)**. The resulting string will be `\"dcbaefd\"`.\n",
    "\n",
    "Return *the resulting string*.\n",
    "\n",
    "<br>\n",
    "\n",
    "**Example 1:**\n",
    ">**Input:** word = \"abcdefd\", ch = \"d\"<br>\n",
    ">**Output:** \"dcbaefd\"<br>\n",
    ">**Explanation:** The first occurrence of \"d\" is at index 3. <br>\n",
    ">Reverse the part of word from 0 to 3 (inclusive), the resulting string is \"dcbaefd\".\n",
    "\n",
    "**Example 2:**\n",
    ">**Input:** word = \"xyxzxe\", ch = \"z\"<br>\n",
    ">**Output:** \"zxyxxe\"<br>\n",
    ">**Explanation:** The first and only occurrence of \"z\" is at index 3.<br>\n",
    ">Reverse the part of word from 0 to 3 (inclusive), the resulting string is \"zxyxxe\".\n",
    "\n",
    "**Example 3:**\n",
    ">**Input:** word = \"abcd\", ch = \"z\"<br>\n",
    ">**Output:** \"abcd\"<br>\n",
    ">**Explanation:** \"z\" does not exist in word.<br>\n",
    ">You should not do any reverse operation, the resulting string is \"abcd\".\n",
    "\n",
    "<br>\n",
    "\n",
    "**Constraints:**\n",
    "- >1 <= word.length <= 250\n",
    "- >word consists of lowercase English letters.\n",
    "- >ch is a lowercase English letter."
   ]
  },
  {
   "cell_type": "code",
   "execution_count": 1,
   "metadata": {},
   "outputs": [],
   "source": [
    "class Solution:\n",
    "    def reversePrefix(self, word: str, ch: str) -> str:\n",
    "        index = word.find(ch)\n",
    "        if index != -1:\n",
    "            return word[:index+1][::-1] + word[index+1:]\n",
    "        else:\n",
    "            return word"
   ]
  }
 ],
 "metadata": {
  "kernelspec": {
   "display_name": "base",
   "language": "python",
   "name": "python3"
  },
  "language_info": {
   "codemirror_mode": {
    "name": "ipython",
    "version": 3
   },
   "file_extension": ".py",
   "mimetype": "text/x-python",
   "name": "python",
   "nbconvert_exporter": "python",
   "pygments_lexer": "ipython3",
   "version": "3.9.16"
  }
 },
 "nbformat": 4,
 "nbformat_minor": 2
}

{
 "cells": [
  {
   "cell_type": "markdown",
   "metadata": {},
   "source": [
    "Given a list of `words`, list of  single `letters` (might be repeating) and `score` of every character.\n",
    "\n",
    "Return the maximum score of **any** valid set of words formed by using the given letters (`words[i]` cannot be used two or more times).\n",
    "\n",
    "It is not necessary to use all characters in `letters` and each letter can only be used once. Score of letters `'a'`, `'b'`, `'c'`, ... ,`'z'` is given by `score[0]`, `score[1]`, ... , `score[25]` respectively.\n",
    "\n",
    "<br>\n",
    "\n",
    "**Example 1:**\n",
    ">**Input:** words = [\"dog\",\"cat\",\"dad\",\"good\"], letters = [\"a\",\"a\",\"c\",\"d\",\"d\",\"d\",\"g\",\"o\",\"o\"], score = [1,0,9,5,0,0,3,0,0,0,0,0,0,0,2,0,0,0,0,0,0,0,0,0,0,0]<br>\n",
    ">**Output:** 23<br>\n",
    ">**Explanation:**<br>\n",
    ">Score  a=1, c=9, d=5, g=3, o=2<br>\n",
    ">Given letters, we can form the words \"dad\" (5+1+5) and \"good\" (3+2+2+5) with a score of 23.<br>\n",
    ">Words \"dad\" and \"dog\" only get a score of 21.\n",
    "\n",
    "**Example 2:**\n",
    ">**Input:** words = [\"xxxz\",\"ax\",\"bx\",\"cx\"], letters = [\"z\",\"a\",\"b\",\"c\",\"x\",\"x\",\"x\"], score = [4,4,4,0,0,0,0,0,0,0,0,0,0,0,0,0,0,0,0,0,0,0,0,5,0,10]<br>\n",
    ">**Output:** 27<br>\n",
    ">**Explanation:**<br>\n",
    ">Score  a=4, b=4, c=4, x=5, z=10<br>\n",
    ">Given letters, we can form the words \"ax\" (4+5), \"bx\" (4+5) and \"cx\" (4+5) with a score of 27.<br>\n",
    ">Word \"xxxz\" only get a score of 25.\n",
    "\n",
    "**Example 3:**\n",
    ">**Input:** words = [\"leetcode\"], letters = [\"l\",\"e\",\"t\",\"c\",\"o\",\"d\"], score = [0,0,1,1,1,0,0,0,0,0,0,1,0,0,1,0,0,0,0,1,0,0,0,0,0,0]<br>\n",
    ">**Output:** 0<br>\n",
    ">**Explanation:**<br>\n",
    ">Letter \"e\" can only be used once.\n",
    "\n",
    "<br>\n",
    "\n",
    "**Constraints:**\n",
    "- >1 <= words.length <= 14\n",
    "- >1 <= words[i].length <= 15\n",
    "- >1 <= letters.length <= 100\n",
    "- >letters[i].length == 1\n",
    "- >score.length == 26\n",
    "- >0 <= score[i] <= 10\n",
    "- >words[i], letters[i] contains only lower case English letters."
   ]
  },
  {
   "cell_type": "code",
   "execution_count": 1,
   "metadata": {},
   "outputs": [],
   "source": [
    "class Solution:\n",
    "    def maxScoreWords(self, words: list[str], letters: list[str], score: list[int]) -> int:\n",
    "        from collections import Counter\n",
    "    \n",
    "        def word_score(word):\n",
    "            return sum(score[ord(c) - ord('a')] for c in word)\n",
    "        \n",
    "        letter_count = Counter(letters)\n",
    "        words = [(word, word_score(word)) for word in words]\n",
    "        \n",
    "        def backtrack(index, current_score, remaining_letters):\n",
    "            if index == len(words):\n",
    "                return current_score\n",
    "            \n",
    "            max_score = backtrack(index + 1, current_score, remaining_letters)\n",
    "            word, word_sc = words[index]\n",
    "            word_count = Counter(word)\n",
    "            \n",
    "            if all(remaining_letters[char] >= word_count[char] for char in word_count):\n",
    "                for char in word_count:\n",
    "                    remaining_letters[char] -= word_count[char]\n",
    "                \n",
    "                max_score = max(max_score, backtrack(index + 1, current_score + word_sc, remaining_letters))\n",
    "                for char in word_count:\n",
    "                    remaining_letters[char] += word_count[char]\n",
    "            \n",
    "            return max_score\n",
    "        \n",
    "        return backtrack(0, 0, letter_count)"
   ]
  }
 ],
 "metadata": {
  "kernelspec": {
   "display_name": "base",
   "language": "python",
   "name": "python3"
  },
  "language_info": {
   "codemirror_mode": {
    "name": "ipython",
    "version": 3
   },
   "file_extension": ".py",
   "mimetype": "text/x-python",
   "name": "python",
   "nbconvert_exporter": "python",
   "pygments_lexer": "ipython3",
   "version": "3.9.16"
  }
 },
 "nbformat": 4,
 "nbformat_minor": 2
}

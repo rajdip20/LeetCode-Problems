{
 "cells": [
  {
   "cell_type": "markdown",
   "metadata": {},
   "source": [
    "Given two version numbers, `version1` and `version2`, compare them.\n",
    "\n",
    "Version numbers consist of **one or more revisions** joined by a dot `'.'`. Each revision consists of **digits** and may contain leading **zeros**. Every revision contains **at least one character**. Revisions are **0-indexed from left to right**, with the leftmost revision being revision 0, the next revision being revision 1, and so on. For example **2.5.33** and **0.1** are valid version numbers.\n",
    "\n",
    "To compare version numbers, compare their revisions in **left-to-right order**. Revisions are compared using their **integer value ignoring any leading zeros**. This means that revisions `1` and `001` are considered **equal**. If a version number does not specify a revision at an index, then **treat the revision as** `0`. For example, version `1.0` is less than version `1.1` because their revision 0s are the same, but their revision 1s are `0` and `1` respectively, and `0 < 1`.\n",
    "\n",
    "*Return the following:*\n",
    "- If `version1 < version2`, return `-1`.\n",
    "- If `version1 > version2`, return `1`.\n",
    "- Otherwise, return `0`.\n",
    "\n",
    "<br>\n",
    "\n",
    "**Example 1:**\n",
    ">**Input:** version1 = \"1.01\", version2 = \"1.001\"<br>\n",
    ">**Output:** 0<br>\n",
    ">**Explanation:** Ignoring leading zeroes, both \"01\" and \"001\" represent the same integer \"1\".\n",
    "\n",
    "**Example 2:**\n",
    ">**Input:** version1 = \"1.0\", version2 = \"1.0.0\"<br>\n",
    ">**Output:** 0<br>\n",
    ">**Explanation:** version1 does not specify revision 2, which means it is treated as \"0\".\n",
    "\n",
    "**Example 3:**\n",
    ">**Input:** version1 = \"0.1\", version2 = \"1.1\"<br>\n",
    ">**Output:** -1<br>\n",
    ">**Explanation:** version1's revision 0 is \"0\", while version2's revision 0 is \"1\". 0 < 1, so version1 < version2.\n",
    "\n",
    "<br>\n",
    "\n",
    "**Constraints:**\n",
    "- >1 <= version1.length, version2.length <= 500\n",
    "- >version1 and version2 only contain digits and '.'.\n",
    "- >version1 and version2 **are valid version numbers**.\n",
    "- >All the given revisions in version1 and version2 can be stored in a **32-bit integer**."
   ]
  },
  {
   "cell_type": "code",
   "execution_count": 1,
   "metadata": {},
   "outputs": [],
   "source": [
    "class Solution:\n",
    "    def compareVersion(self, version1: str, version2: str) -> int:\n",
    "        revisions1 = list(map(int, version1.split('.')))\n",
    "        revisions2 = list(map(int, version2.split('.')))\n",
    "\n",
    "        len1, len2 = len(revisions1), len(revisions2)\n",
    "        if len1 < len2:\n",
    "            revisions1.extend([0] * (len2 - len1))\n",
    "        else:\n",
    "            revisions2.extend([0] * (len1 - len2))\n",
    "\n",
    "        for rev1, rev2 in zip(revisions1, revisions2):\n",
    "            if rev1 < rev2:\n",
    "                return -1\n",
    "            elif rev1 > rev2:\n",
    "                return 1\n",
    "\n",
    "        return 0"
   ]
  }
 ],
 "metadata": {
  "kernelspec": {
   "display_name": "base",
   "language": "python",
   "name": "python3"
  },
  "language_info": {
   "codemirror_mode": {
    "name": "ipython",
    "version": 3
   },
   "file_extension": ".py",
   "mimetype": "text/x-python",
   "name": "python",
   "nbconvert_exporter": "python",
   "pygments_lexer": "ipython3",
   "version": "3.9.16"
  }
 },
 "nbformat": 4,
 "nbformat_minor": 2
}

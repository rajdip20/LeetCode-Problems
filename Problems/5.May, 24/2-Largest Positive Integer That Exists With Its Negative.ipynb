{
 "cells": [
  {
   "cell_type": "markdown",
   "metadata": {},
   "source": [
    "Given an integer array `nums` that **does not contain** any zeros, find **the largest positive** integer `k` such that `-k` also exists in the array.\n",
    "\n",
    "Return *the positive integer* `k`. If there is no such integer, return `-1`.\n",
    "\n",
    "<br>\n",
    "\n",
    "**Example 1:**\n",
    ">**Input:** nums = [-1,2,-3,3]<br>\n",
    ">**Output:** 3<br>\n",
    ">**Explanation:** 3 is the only valid k we can find in the array.\n",
    "\n",
    "**Example 2:**\n",
    ">**Input:** nums = [-1,10,6,7,-7,1]<br>\n",
    ">**Output:** 7<br>\n",
    ">**Explanation:** Both 1 and 7 have their corresponding negative values in the array. 7 has a larger value.\n",
    "\n",
    "**Example 3:**\n",
    ">**Input:** nums = [-10,8,6,7,-2,-3]<br>\n",
    ">**Output:** -1<br>\n",
    ">**Explanation:** There is no a single valid k, we return -1.\n",
    "\n",
    "<br>\n",
    "\n",
    "**Constraints:**\n",
    "- >1 <= nums.length <= 1000\n",
    "- >-1000 <= nums[i] <= 1000\n",
    "- >nums[i] != 0"
   ]
  },
  {
   "cell_type": "code",
   "execution_count": 1,
   "metadata": {},
   "outputs": [],
   "source": [
    "class Solution:\n",
    "    def findMaxK(self, nums: list[int]) -> int:\n",
    "        num_set = set(nums)\n",
    "        largest_k = -1\n",
    "        \n",
    "        for num in nums:\n",
    "            if num > 0 and -num in num_set:\n",
    "                largest_k = max(largest_k, num)\n",
    "        \n",
    "        return largest_k"
   ]
  }
 ],
 "metadata": {
  "kernelspec": {
   "display_name": "base",
   "language": "python",
   "name": "python3"
  },
  "language_info": {
   "codemirror_mode": {
    "name": "ipython",
    "version": 3
   },
   "file_extension": ".py",
   "mimetype": "text/x-python",
   "name": "python",
   "nbconvert_exporter": "python",
   "pygments_lexer": "ipython3",
   "version": "3.9.16"
  }
 },
 "nbformat": 4,
 "nbformat_minor": 2
}

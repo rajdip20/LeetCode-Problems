{
 "cells": [
  {
   "cell_type": "markdown",
   "metadata": {},
   "source": [
    "You are given an array `happiness` of length `n`, and a **positive** integer `k`.\n",
    "\n",
    "There are `n` children standing in a queue, where the **i<sup>th</sup>** child has **happiness value** `happiness[i]`. You want to select `k` children from these `n` children in `k` turns.\n",
    "\n",
    "In each turn, when you select a child, the **happiness value** of all the children that have **not** been selected till now decreases by `1`. Note that the happiness value **cannot** become negative and gets decremented **only** if it is positive.\n",
    "\n",
    "Return *the ***maximum*** sum of the happiness values of the selected children you can achieve by selecting* `k` *children*.\n",
    "\n",
    "<br>\n",
    "\n",
    "**Example 1:**\n",
    ">**Input:** happiness = [1,2,3], k = 2<br>\n",
    ">**Output:** 4<br>\n",
    ">**Explanation:** We can pick 2 children in the following way:<br>\n",
    ">\\- Pick the child with the happiness value == 3. The happiness value of the remaining children becomes [0,1].<br>\n",
    ">\\- Pick the child with the happiness value == 1. The happiness value of the remaining child becomes [0]. Note that the happiness value cannot become less >than 0.<br>\n",
    ">The sum of the happiness values of the selected children is 3 + 1 = 4.\n",
    "\n",
    "**Example 2:**\n",
    ">**Input:** happiness = [1,1,1,1], k = 2<br>\n",
    ">**Output:** 1<br>\n",
    ">**Explanation:** We can pick 2 children in the following way:<br>\n",
    ">\\- Pick any child with the happiness value == 1. The happiness value of the remaining children becomes [0,0,0].<br>\n",
    ">\\- Pick the child with the happiness value == 0. The happiness value of the remaining child becomes [0,0].<br>\n",
    ">The sum of the happiness values of the selected children is 1 + 0 = 1.\n",
    "\n",
    "**Example 3:**\n",
    ">**Input:** happiness = [2,3,4,5], k = 1<br>\n",
    ">**Output:** 5<br>\n",
    ">**Explanation:** We can pick 1 child in the following way:<br>\n",
    ">\\- Pick the child with the happiness value == 5. The happiness value of the remaining children becomes [1,2,3].<br>\n",
    ">The sum of the happiness values of the selected children is 5.\n",
    "\n",
    "<br>\n",
    "\n",
    "**Constraints:**\n",
    "- >1 <= n == happiness.length <= 2 * 10<sup>5</sup>\n",
    "- >1 <= happiness[i] <= 10<sup>8</sup>\n",
    "- >1 <= k <= n"
   ]
  },
  {
   "cell_type": "code",
   "execution_count": 1,
   "metadata": {},
   "outputs": [],
   "source": [
    "class Solution:\n",
    "    def maximumHappinessSum(self, happiness: list[int], k: int) -> int:\n",
    "        happiness.sort(reverse=True)\n",
    "    \n",
    "        sum_happiness = 0\n",
    "        \n",
    "        decrement = 0\n",
    "        \n",
    "        for i in range(k):\n",
    "            if happiness[i] - decrement > 0:\n",
    "                sum_happiness += happiness[i] - decrement\n",
    "                decrement += 1\n",
    "        \n",
    "        return sum_happiness"
   ]
  }
 ],
 "metadata": {
  "kernelspec": {
   "display_name": "base",
   "language": "python",
   "name": "python3"
  },
  "language_info": {
   "codemirror_mode": {
    "name": "ipython",
    "version": 3
   },
   "file_extension": ".py",
   "mimetype": "text/x-python",
   "name": "python",
   "nbconvert_exporter": "python",
   "pygments_lexer": "ipython3",
   "version": "3.9.16"
  }
 },
 "nbformat": 4,
 "nbformat_minor": 2
}

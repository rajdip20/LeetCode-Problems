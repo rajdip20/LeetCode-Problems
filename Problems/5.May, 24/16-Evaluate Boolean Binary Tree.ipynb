{
 "cells": [
  {
   "cell_type": "markdown",
   "metadata": {},
   "source": [
    "You are given the `root` of a **full binary tree** with the following properties:\n",
    "- **Leaf nodes** have either the value `0` or `1`, where `0` represents `False` and `1` represents `True`.\n",
    "- **Non-leaf nodes** have either the value `2` or `3`, where `2` represents the boolean `OR` and `3` represents the boolean `AND`.\n",
    "\n",
    "The **evaluation** of a node is as follows:\n",
    "- If the node is a leaf node, the evaluation is the **value** of the node, i.e. `True` or `False`.\n",
    "- Otherwise, **evaluate** the node's two children and **apply** the boolean operation of its value with the children's evaluations.\n",
    "\n",
    "Return *the boolean result of ***evaluating*** the* `root` *node*.\n",
    "\n",
    "A **full binary tree** is a binary tree where each node has either `0` or `2` children.\n",
    "\n",
    "A **leaf node** is a node that has zero children.\n",
    "\n",
    "<br>\n",
    "\n",
    "**Example 1:**\n",
    "\n",
    "![example1drawio1](../../images/example1drawio1.png)\n",
    "\n",
    ">**Input:** root = [2,1,3,null,null,0,1]<br>\n",
    ">**Output:** true<br>\n",
    ">**Explanation:** The above diagram illustrates the evaluation process.<br>\n",
    ">The AND node evaluates to False AND True = False.<br>\n",
    ">The OR node evaluates to True OR False = True.<br>\n",
    ">The root node evaluates to True, so we return true.\n",
    "\n",
    "**Example 2:**\n",
    ">**Input:** root = [0]<br>\n",
    ">**Output:** false<br>\n",
    ">**Explanation:** The root node is a leaf node and it evaluates to false, so we return false.\n",
    "\n",
    "<br>\n",
    "\n",
    "**Constraints:**\n",
    "- >The number of nodes in the tree is in the range [1, 1000].\n",
    "- >0 <= Node.val <= 3\n",
    "- >Every node has either 0 or 2 children.\n",
    "- >Leaf nodes have a value of 0 or 1.\n",
    "- >Non-leaf nodes have a value of 2 or 3."
   ]
  },
  {
   "cell_type": "code",
   "execution_count": 1,
   "metadata": {},
   "outputs": [],
   "source": [
    "# Definition for a binary tree node.\n",
    "# class TreeNode:\n",
    "#     def __init__(self, val=0, left=None, right=None):\n",
    "#         self.val = val\n",
    "#         self.left = left\n",
    "#         self.right = right\n",
    "class Solution:\n",
    "    def evaluateTree(self, root) -> bool:\n",
    "        if root is None:\n",
    "            return False\n",
    "\n",
    "        if root.val == 0:\n",
    "            return False\n",
    "        elif root.val == 1:\n",
    "            return True\n",
    "\n",
    "        left_val = self.evaluateTree(root.left)\n",
    "        right_val = self.evaluateTree(root.right)\n",
    "\n",
    "        if root.val == 2:\n",
    "            return left_val or right_val\n",
    "        elif root.val == 3:\n",
    "            return left_val and right_val"
   ]
  }
 ],
 "metadata": {
  "kernelspec": {
   "display_name": "base",
   "language": "python",
   "name": "python3"
  },
  "language_info": {
   "codemirror_mode": {
    "name": "ipython",
    "version": 3
   },
   "file_extension": ".py",
   "mimetype": "text/x-python",
   "name": "python",
   "nbconvert_exporter": "python",
   "pygments_lexer": "ipython3",
   "version": "3.9.16"
  }
 },
 "nbformat": 4,
 "nbformat_minor": 2
}

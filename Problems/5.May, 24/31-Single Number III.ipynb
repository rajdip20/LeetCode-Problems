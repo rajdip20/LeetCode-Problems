{
 "cells": [
  {
   "cell_type": "markdown",
   "metadata": {},
   "source": [
    "Given an integer array `nums`, in which exactly two elements appear only once and all the other elements appear exactly twice. Find the two elements that appear only once. You can return the answer in **any order**.\n",
    "\n",
    "You must write an algorithm that runs in linear runtime complexity and uses only constant extra space.\n",
    "\n",
    "<br>\n",
    "\n",
    "**Example 1:**\n",
    ">**Input:** nums = [1,2,1,3,2,5]<br>\n",
    ">**Output:** [3,5]<br>\n",
    ">**Explanation:**  [5, 3] is also a valid answer.\n",
    "\n",
    "**Example 2:**\n",
    ">**Input:** nums = [-1,0]<br>\n",
    ">**Output:** [-1,0]\n",
    "\n",
    "**Example 3:**\n",
    ">**Input:** nums = [0,1]<br>\n",
    ">**Output:** [1,0]\n",
    "\n",
    "<br>\n",
    "\n",
    "**Constraints:**\n",
    "- >2 <= nums.length <= 3 * 10<sup>4</sup>\n",
    "- >-2<sup>31</sup> <= nums[i] <= 2<sup>31</sup> - 1\n",
    "- >Each integer in nums will appear twice, only two integers will appear once."
   ]
  },
  {
   "cell_type": "code",
   "execution_count": 1,
   "metadata": {},
   "outputs": [],
   "source": [
    "class Solution:\n",
    "    def singleNumber(self, nums: list[int]) -> list[int]:\n",
    "        xor_result = 0\n",
    "        for num in nums:\n",
    "            xor_result ^= num\n",
    "        \n",
    "        rightmost_set_bit = xor_result & -xor_result\n",
    "        num1, num2 = 0, 0\n",
    "        \n",
    "        for num in nums:\n",
    "            if num & rightmost_set_bit:\n",
    "                num1 ^= num\n",
    "            else:\n",
    "                num2 ^= num\n",
    "        \n",
    "        return [num1, num2]"
   ]
  }
 ],
 "metadata": {
  "kernelspec": {
   "display_name": "base",
   "language": "python",
   "name": "python3"
  },
  "language_info": {
   "codemirror_mode": {
    "name": "ipython",
    "version": 3
   },
   "file_extension": ".py",
   "mimetype": "text/x-python",
   "name": "python",
   "nbconvert_exporter": "python",
   "pygments_lexer": "ipython3",
   "version": "3.9.16"
  }
 },
 "nbformat": 4,
 "nbformat_minor": 2
}

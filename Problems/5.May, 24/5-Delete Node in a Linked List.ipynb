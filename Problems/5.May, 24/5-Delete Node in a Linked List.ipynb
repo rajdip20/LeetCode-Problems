{
 "cells": [
  {
   "cell_type": "markdown",
   "metadata": {},
   "source": [
    "There is a singly-linked list `head` and we want to delete a node `node` in it.\n",
    "\n",
    "You are given the node to be deleted `node`. You will **not be given access** to the first node of `head`.\n",
    "\n",
    "All the values of the linked list are **unique**, and it is guaranteed that the given node `node` is not the last node in the linked list.\n",
    "\n",
    "Delete the given node. Note that by deleting the node, we do not mean removing it from memory. We mean:\n",
    "- The value of the given node should not exist in the linked list.\n",
    "- The number of nodes in the linked list should decrease by one.\n",
    "- All the values before node should be in the same order.\n",
    "- All the values after node should be in the same order.\n",
    "\n",
    "**Custom testing:**\n",
    "- For the input, you should provide the entire linked list head and the node to be given node. node should not be the last node of the list and should be an actual node in the list.\n",
    "- We will build the linked list and pass the node to your function.\n",
    "- The output will be the entire list after calling your function.\n",
    "\n",
    "<br>\n",
    "\n",
    "**Example 1:**\n",
    "\n",
    "![node1](../../images/node1.jpg)\n",
    "\n",
    ">**Input:** head = [4,5,1,9], node = 5<br>\n",
    ">**Output:** [4,1,9]<br>\n",
    ">**Explanation:** You are given the second node with value 5, the linked list should become 4 -> 1 -> 9 after calling your function.\n",
    "\n",
    "**Example 2:**\n",
    "\n",
    "![node2](../../images/node2.jpg)\n",
    "\n",
    ">**Input:** head = [4,5,1,9], node = 1<br>\n",
    ">**Output:** [4,5,9]<br>\n",
    ">**Explanation:** You are given the third node with value 1, the linked list should become 4 -> 5 -> 9 after calling your function.\n",
    "\n",
    "<br>\n",
    "\n",
    "**Constraints:**\n",
    "- >The number of the nodes in the given list is in the range [2, 1000].\n",
    "- >-1000 <= Node.val <= 1000\n",
    "- >The value of each node in the list is **unique**.\n",
    "- >The node to be deleted is **in the list** and is **not a tail** node."
   ]
  },
  {
   "cell_type": "code",
   "execution_count": 1,
   "metadata": {},
   "outputs": [],
   "source": [
    "# Definition for singly-linked list.\n",
    "# class ListNode:\n",
    "#     def __init__(self, x):\n",
    "#         self.val = x\n",
    "#         self.next = None\n",
    "\n",
    "class Solution:\n",
    "    def deleteNode(self, node):\n",
    "        \"\"\"\n",
    "        :type node: ListNode\n",
    "        :rtype: void Do not return anything, modify node in-place instead.\n",
    "        \"\"\"\n",
    "        node.val = node.next.val\n",
    "        node.next = node.next.next"
   ]
  }
 ],
 "metadata": {
  "kernelspec": {
   "display_name": "base",
   "language": "python",
   "name": "python3"
  },
  "language_info": {
   "codemirror_mode": {
    "name": "ipython",
    "version": 3
   },
   "file_extension": ".py",
   "mimetype": "text/x-python",
   "name": "python",
   "nbconvert_exporter": "python",
   "pygments_lexer": "ipython3",
   "version": "3.9.16"
  }
 },
 "nbformat": 4,
 "nbformat_minor": 2
}

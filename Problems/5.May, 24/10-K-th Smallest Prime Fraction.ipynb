{
 "cells": [
  {
   "cell_type": "markdown",
   "metadata": {},
   "source": [
    "You are given a sorted integer array `arr` containing `1` and **prime** numbers, where all the integers of `arr` are unique. You are also given an integer `k`.\n",
    "\n",
    "For every `i` and `j` where `0 <= i < j < arr.length`, we consider the fraction `arr[i] / arr[j]`.\n",
    "\n",
    "Return *the* **k<sup>th</sup>** *smallest fraction considered*. Return your answer as an array of integers of size `2`, where `answer[0] == arr[i]` and `answer[1] == arr[j]`.\n",
    "\n",
    "<br>\n",
    "\n",
    "**Example 1:**\n",
    ">**Input:** arr = [1,2,3,5], k = 3<br>\n",
    ">**Output:** [2,5]<br>\n",
    ">**Explanation:** The fractions to be considered in sorted order are:<br>\n",
    ">1/5, 1/3, 2/5, 1/2, 3/5, and 2/3.<br>\n",
    ">The third fraction is 2/5.\n",
    "\n",
    "**Example 2:**\n",
    ">**Input:** arr = [1,7], k = 1<br>\n",
    ">**Output:** [1,7]\n",
    "\n",
    "<br>\n",
    "\n",
    "**Constraints:**\n",
    "- >2 <= arr.length <= 1000\n",
    "- >1 <= arr[i] <= 3 * 10<sup>4</sup>\n",
    "- >arr[0] == 1\n",
    "- >arr[i] is a **prime** number for i > 0.\n",
    "- >All the numbers of arr are **unique** and sorted in **strictly increasing** order.\n",
    "- >1 <= k <= arr.length * (arr.length - 1) / 2\n",
    "\n",
    "<br><br>\n",
    "\n",
    "**Follow up:** Can you solve the problem with better than **O(n<sup>2</sup>)** complexity?"
   ]
  },
  {
   "cell_type": "code",
   "execution_count": 1,
   "metadata": {},
   "outputs": [],
   "source": [
    "class Solution:\n",
    "    def kthSmallestPrimeFraction(self, arr: list[int], k: int) -> list[int]:\n",
    "        from fractions import Fraction\n",
    "\n",
    "        n = len(arr)\n",
    "        low, high = 0, 1\n",
    "\n",
    "        while low < high:\n",
    "            mid = (low + high) / 2\n",
    "            count, max_fraction = 0, Fraction(0, 1)\n",
    "            j = 1\n",
    "            for i in range(n - 1):\n",
    "                while j < n and arr[i] > mid * arr[j]:\n",
    "                    j += 1\n",
    "                if j == n: break\n",
    "                count += n - j\n",
    "                if arr[i] / arr[j] > max_fraction:\n",
    "                    max_fraction = Fraction(arr[i], arr[j])\n",
    "\n",
    "            if count == k:\n",
    "                return [max_fraction.numerator, max_fraction.denominator]\n",
    "            elif count < k:\n",
    "                low = mid\n",
    "            else:\n",
    "                high = mid\n",
    "\n",
    "        return []"
   ]
  }
 ],
 "metadata": {
  "kernelspec": {
   "display_name": "base",
   "language": "python",
   "name": "python3"
  },
  "language_info": {
   "codemirror_mode": {
    "name": "ipython",
    "version": 3
   },
   "file_extension": ".py",
   "mimetype": "text/x-python",
   "name": "python",
   "nbconvert_exporter": "python",
   "pygments_lexer": "ipython3",
   "version": "3.9.16"
  }
 },
 "nbformat": 4,
 "nbformat_minor": 2
}

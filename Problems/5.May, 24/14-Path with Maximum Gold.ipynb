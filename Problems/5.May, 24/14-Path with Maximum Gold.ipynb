{
 "cells": [
  {
   "cell_type": "markdown",
   "metadata": {},
   "source": [
    "In a gold mine `grid` of size `m x n`, each cell in this mine has an integer representing the amount of gold in that cell, `0` if it is empty.\n",
    "\n",
    "Return the maximum amount of gold you can collect under the conditions:\n",
    "- Every time you are located in a cell you will collect all the gold in that cell.\n",
    "- From your position, you can walk one step to the left, right, up, or down.\n",
    "- You can't visit the same cell more than once.\n",
    "- Never visit a cell with `0` gold.\n",
    "- You can start and stop collecting gold from any position in the grid that has some gold.\n",
    "\n",
    "<br>\n",
    "\n",
    "**Example 1:**\n",
    ">**Input:** grid = [[0,6,0],[5,8,7],[0,9,0]]<br>\n",
    ">**Output:** 24<br>\n",
    ">**Explanation:**<br>\n",
    ">[[0,6,0],<br>\n",
    ">&nbsp; [5,8,7],<br>\n",
    ">&nbsp; [0,9,0]]<br>\n",
    ">Path to get the maximum gold, 9 -> 8 -> 7.\n",
    "\n",
    "**Example 2:**\n",
    ">**Input:** grid = [[1,0,7],[2,0,6],[3,4,5],[0,3,0],[9,0,20]]<br>\n",
    ">**Output:** 28<br>\n",
    ">**Explanation:**<br>\n",
    ">[[1,0,7],<br>\n",
    ">&nbsp; [2,0,6],<br>\n",
    ">&nbsp; [3,4,5],<br>\n",
    ">&nbsp; [0,3,0],<br>\n",
    ">&nbsp; [9,0,20]]<br>\n",
    ">Path to get the maximum gold, 1 -> 2 -> 3 -> 4 -> 5 -> 6 -> 7.\n",
    "\n",
    "<br>\n",
    "\n",
    "**Constraints:**\n",
    "- >m == grid.length\n",
    "- >n == grid[i].length\n",
    "- >1 <= m, n <= 15\n",
    "- >0 <= grid[i][j] <= 100\n",
    "- >There are at most **25** cells containing gold."
   ]
  },
  {
   "cell_type": "code",
   "execution_count": 1,
   "metadata": {},
   "outputs": [],
   "source": [
    "class Solution:\n",
    "    def getMaximumGold(self, grid: list[list[int]]) -> int:\n",
    "        def collect(x, y):\n",
    "            if x < 0 or x == m or y < 0 or y == n or grid[x][y] == 0:\n",
    "                return 0\n",
    "            temp = grid[x][y]\n",
    "            grid[x][y] = 0\n",
    "            max_gold = 0\n",
    "            \n",
    "            for dx, dy in [(1, 0), (-1, 0), (0, 1), (0, -1)]:\n",
    "                max_gold = max(max_gold, temp + collect(x + dx, y + dy))\n",
    "            grid[x][y] = temp\n",
    "            \n",
    "            return max_gold\n",
    "\n",
    "        if not grid or not grid[0]:\n",
    "            return 0\n",
    "\n",
    "        m, n = len(grid), len(grid[0])\n",
    "        max_gold_collected = 0\n",
    "        for i in range(m):\n",
    "            for j in range(n):\n",
    "                if grid[i][j] != 0:\n",
    "                    max_gold_collected = max(max_gold_collected, collect(i, j))\n",
    "\n",
    "        return max_gold_collected"
   ]
  }
 ],
 "metadata": {
  "kernelspec": {
   "display_name": "base",
   "language": "python",
   "name": "python3"
  },
  "language_info": {
   "codemirror_mode": {
    "name": "ipython",
    "version": 3
   },
   "file_extension": ".py",
   "mimetype": "text/x-python",
   "name": "python",
   "nbconvert_exporter": "python",
   "pygments_lexer": "ipython3",
   "version": "3.9.16"
  }
 },
 "nbformat": 4,
 "nbformat_minor": 2
}

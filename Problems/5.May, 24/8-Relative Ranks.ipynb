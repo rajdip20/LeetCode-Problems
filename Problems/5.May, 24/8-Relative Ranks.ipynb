{
 "cells": [
  {
   "cell_type": "markdown",
   "metadata": {},
   "source": [
    "You are given an integer array `score` of size `n`, where `score[i]` is the score of the **i<sup>th</sup>** athlete in a competition. All the scores are guaranteed to be **unique**.\n",
    "\n",
    "The athletes are **placed** based on their scores, where the **1<sup>st</sup>** place athlete has the highest score, the **2<sup>nd</sup>** place athlete has the **2<sup>nd</sup>** highest score, and so on. The placement of each athlete determines their rank:\n",
    "- The **1<sup>st</sup>** place athlete's rank is `\"Gold Medal\"`.\n",
    "- The **2<sup>nd</sup>** place athlete's rank is `\"Silver Medal\"`.\n",
    "- The **3<sup>rd</sup>** place athlete's rank is `\"Bronze Medal\"`.\n",
    "- For the **4<sup>th</sup>** place to the **n<sup>th</sup>** place athlete, their rank is their placement number (i.e., the **x<sup>th</sup>** place athlete's rank is `\"x\"`).\n",
    "\n",
    "Return an array `answer` of size `n` where `answer[i]` is the **rank** of the **i<sup>th</sup>** athlete.\n",
    "\n",
    "<br>\n",
    "\n",
    "**Example 1:**\n",
    ">**Input:** score = [5,4,3,2,1]<br>\n",
    ">**Output:** [\"Gold Medal\",\"Silver Medal\",\"Bronze Medal\",\"4\",\"5\"]<br>\n",
    ">**Explanation:** The placements are [1st, 2nd, 3rd, 4th, 5th].\n",
    "\n",
    "**Example 2:**\n",
    ">**Input:** score = [10,3,8,9,4]<br>\n",
    ">**Output:** [\"Gold Medal\",\"5\",\"Bronze Medal\",\"Silver Medal\",\"4\"]<br>\n",
    ">**Explanation:** The placements are [1st, 5th, 3rd, 2nd, 4th].\n",
    "\n",
    "<br>\n",
    "\n",
    "**Constraints:**\n",
    "- >n == score.length\n",
    "- >1 <= n <= 10<sup>4</sup>\n",
    "- >0 <= score[i] <= 10<sup>6</sup>\n",
    "- >All the values in score are **unique**."
   ]
  },
  {
   "cell_type": "code",
   "execution_count": 1,
   "metadata": {},
   "outputs": [],
   "source": [
    "class Solution:\n",
    "    def findRelativeRanks(self, score: list[int]) -> list[str]:\n",
    "        sorted_scores = sorted(score, reverse=True)\n",
    "        ranks = [\"Gold Medal\", \"Silver Medal\", \"Bronze Medal\"] + list(map(str, range(4, len(score) + 1)))\n",
    "        score_to_rank = {score: rank for score, rank in zip(sorted_scores, ranks)}\n",
    "\n",
    "        return [score_to_rank[score] for score in score]"
   ]
  }
 ],
 "metadata": {
  "kernelspec": {
   "display_name": "base",
   "language": "python",
   "name": "python3"
  },
  "language_info": {
   "codemirror_mode": {
    "name": "ipython",
    "version": 3
   },
   "file_extension": ".py",
   "mimetype": "text/x-python",
   "name": "python",
   "nbconvert_exporter": "python",
   "pygments_lexer": "ipython3",
   "version": "3.9.16"
  }
 },
 "nbformat": 4,
 "nbformat_minor": 2
}

{
 "cells": [
  {
   "cell_type": "markdown",
   "metadata": {},
   "source": [
    "You are given an `m x n` binary matrix `grid`.\n",
    "\n",
    "A **move** consists of choosing any row or column and toggling each value in that row or column (i.e., changing all `0`'s to `1`'s, and all `1`'s to `0`'s).\n",
    "\n",
    "Every row of the matrix is interpreted as a binary number, and the **score** of the matrix is the sum of these numbers.\n",
    "\n",
    "Return *the highest possible score after making any number of ***moves*** (including zero moves)*.\n",
    "\n",
    "<br>\n",
    "\n",
    "**Example 1:**\n",
    "\n",
    "![Ic-toogle1](../../images/lc-toogle1.jpg)\n",
    "\n",
    ">**Input:** grid = [[0,0,1,1],[1,0,1,0],[1,1,0,0]]<br>\n",
    ">**Output:** 39<br>\n",
    ">**Explanation:** 0b1111 + 0b1001 + 0b1111 = 15 + 9 + 15 = 39\n",
    "\n",
    "**Example 2:**\n",
    ">**Input:** grid = [[0]]<br>\n",
    ">**Output:** 1\n",
    "\n",
    "<br>\n",
    "\n",
    "**Constraints:**\n",
    "- >m == grid.length\n",
    "- >n == grid[i].length\n",
    "- >1 <= m, n <= 20\n",
    "- >grid[i][j] is either 0 or 1."
   ]
  },
  {
   "cell_type": "code",
   "execution_count": 1,
   "metadata": {},
   "outputs": [],
   "source": [
    "class Solution:\n",
    "    def matrixScore(self, grid: list[list[int]]) -> int:\n",
    "        m, n = len(grid), len(grid[0])\n",
    "    \n",
    "        for i in range(m):\n",
    "            if grid[i][0] == 0:\n",
    "                grid[i] = [1 - x for x in grid[i]]\n",
    "        \n",
    "        for j in range(1, n):\n",
    "            if sum(grid[i][j] for i in range(m)) < m / 2:\n",
    "                for i in range(m):\n",
    "                    grid[i][j] = 1 - grid[i][j]\n",
    "        \n",
    "        score = 0\n",
    "        for row in grid:\n",
    "            score += int(\"\".join(str(x) for x in row), 2)\n",
    "        \n",
    "        return score"
   ]
  }
 ],
 "metadata": {
  "kernelspec": {
   "display_name": "base",
   "language": "python",
   "name": "python3"
  },
  "language_info": {
   "codemirror_mode": {
    "name": "ipython",
    "version": 3
   },
   "file_extension": ".py",
   "mimetype": "text/x-python",
   "name": "python",
   "nbconvert_exporter": "python",
   "pygments_lexer": "ipython3",
   "version": "3.9.16"
  }
 },
 "nbformat": 4,
 "nbformat_minor": 2
}

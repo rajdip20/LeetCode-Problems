{
 "cells": [
  {
   "cell_type": "markdown",
   "metadata": {},
   "source": [
    "Given an array of integers `arr`.\n",
    "\n",
    "We want to select three indices `i`, `j` and `k` where `(0 <= i < j <= k < arr.length)`.\n",
    "\n",
    "Let's define `a` and `b` as follows:\n",
    "- `a = arr[i] ^ arr[i + 1] ^ ... ^ arr[j - 1]`\n",
    "- `b = arr[j] ^ arr[j + 1] ^ ... ^ arr[k]`\n",
    "\n",
    "Note that ^ denotes the **bitwise-xor** operation.\n",
    "\n",
    "Return *the number of triplets* (`i`, `j` and `k`) Where `a == b`.\n",
    "\n",
    "<br>\n",
    "\n",
    "**Example 1:**\n",
    ">**Input:** arr = [2,3,1,6,7]<br>\n",
    ">**Output:** 4<br>\n",
    ">**Explanation:** The triplets are (0,1,2), (0,2,2), (2,3,4) and (2,4,4)\n",
    "\n",
    "**Example 2:**\n",
    ">**Input:** arr = [1,1,1,1,1]<br>\n",
    ">**Output:** 10\n",
    "\n",
    "<br>\n",
    "\n",
    "**Constraints:**\n",
    "- >1 <= arr.length <= 300\n",
    "- >1 <= arr[i] <= 10<sup>8</sup>"
   ]
  },
  {
   "cell_type": "code",
   "execution_count": 1,
   "metadata": {},
   "outputs": [],
   "source": [
    "class Solution:\n",
    "    def countTriplets(self, arr: list[int]) -> int:\n",
    "        n = len(arr)\n",
    "        prefixXOR = [0] * (n + 1)\n",
    "        \n",
    "        for i in range(n):\n",
    "            prefixXOR[i + 1] = prefixXOR[i] ^ arr[i]\n",
    "        \n",
    "        count = 0\n",
    "        \n",
    "        for i in range(n):\n",
    "            for k in range(i + 1, n):\n",
    "                if prefixXOR[k + 1] == prefixXOR[i]:\n",
    "                    count += (k - i)\n",
    "        \n",
    "        return count"
   ]
  }
 ],
 "metadata": {
  "kernelspec": {
   "display_name": "base",
   "language": "python",
   "name": "python3"
  },
  "language_info": {
   "codemirror_mode": {
    "name": "ipython",
    "version": 3
   },
   "file_extension": ".py",
   "mimetype": "text/x-python",
   "name": "python",
   "nbconvert_exporter": "python",
   "pygments_lexer": "ipython3",
   "version": "3.9.16"
  }
 },
 "nbformat": 4,
 "nbformat_minor": 2
}

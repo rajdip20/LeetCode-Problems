{
 "cells": [
  {
   "cell_type": "markdown",
   "metadata": {},
   "source": [
    "You are given an array `people` where `people[i]` is the weight of the **i<sup>th</sup>** person, and an infinite number of boats where each boat can carry a maximum weight of `limit`. Each boat carries at most two people at the same time, provided the sum of the weight of those people is at most `limit`.\n",
    "\n",
    "Return *the minimum number of boats to carry every given person*.\n",
    "\n",
    "<br>\n",
    "\n",
    "**Example 1:**\n",
    ">**Input:** people = [1,2], limit = 3<br>\n",
    ">**Output:** 1<br>\n",
    ">**Explanation:** 1 boat (1, 2)\n",
    "\n",
    "**Example 2:**\n",
    ">**Input:** people = [3,2,2,1], limit = 3<br>\n",
    ">**Output:** 3<br>\n",
    ">**Explanation:** 3 boats (1, 2), (2) and (3)\n",
    "\n",
    "**Example 3:**\n",
    ">**Input:** people = [3,5,3,4], limit = 5<br>\n",
    ">**Output:** 4<br>\n",
    ">**Explanation:** 4 boats (3), (3), (4), (5)\n",
    "\n",
    "<br>\n",
    "\n",
    "**Constraints:**\n",
    "- >1 <= people.length <= 5 * 10<sup>4</sup>\n",
    "- >1 <= people[i] <= limit <= 3 * 10<sup>4</sup>"
   ]
  },
  {
   "cell_type": "code",
   "execution_count": 1,
   "metadata": {},
   "outputs": [],
   "source": [
    "class Solution:\n",
    "    def numRescueBoats(self, people: list[int], limit: int) -> int:\n",
    "        people.sort()\n",
    "        left, right = 0, len(people) - 1\n",
    "        boats = 0\n",
    "        while left <= right:\n",
    "            if people[left] + people[right] <= limit:\n",
    "                left += 1\n",
    "            right -= 1\n",
    "            boats += 1\n",
    "        return boats"
   ]
  }
 ],
 "metadata": {
  "kernelspec": {
   "display_name": "base",
   "language": "python",
   "name": "python3"
  },
  "language_info": {
   "codemirror_mode": {
    "name": "ipython",
    "version": 3
   },
   "file_extension": ".py",
   "mimetype": "text/x-python",
   "name": "python",
   "nbconvert_exporter": "python",
   "pygments_lexer": "ipython3",
   "version": "3.9.16"
  }
 },
 "nbformat": 4,
 "nbformat_minor": 2
}

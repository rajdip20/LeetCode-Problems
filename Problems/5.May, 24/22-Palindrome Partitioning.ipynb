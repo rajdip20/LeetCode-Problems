{
 "cells": [
  {
   "cell_type": "markdown",
   "metadata": {},
   "source": [
    "Given a string `s`, partition `s` such that every substring of the partition is a **palindrome**. Return *all possible palindrome partitioning of* `s`.\n",
    "\n",
    "<br>\n",
    "\n",
    "**Example 1:**\n",
    ">**Input:** s = \"aab\"<br>\n",
    ">**Output:** [[\"a\",\"a\",\"b\"],[\"aa\",\"b\"]]\n",
    "\n",
    "**Example 2:**\n",
    ">**Input:** s = \"a\"<br>\n",
    ">**Output:** [[\"a\"]]\n",
    "\n",
    "<br>\n",
    "\n",
    "**Constraints:**\n",
    "- >1 <= s.length <= 16\n",
    "- >s contains only lowercase English letters."
   ]
  },
  {
   "cell_type": "code",
   "execution_count": 1,
   "metadata": {},
   "outputs": [],
   "source": [
    "class Solution:\n",
    "    def partition(self, s: str) -> list[list[str]]:\n",
    "        def is_palindrome(sub):\n",
    "            return sub == sub[::-1]\n",
    "\n",
    "        def backtrack(start, path):\n",
    "            if start == len(s):\n",
    "                result.append(path)\n",
    "                return\n",
    "            for end in range(start + 1, len(s) + 1):\n",
    "                if is_palindrome(s[start:end]):\n",
    "                    backtrack(end, path + [s[start:end]])\n",
    "\n",
    "        result = []\n",
    "        backtrack(0, [])\n",
    "        return result"
   ]
  }
 ],
 "metadata": {
  "kernelspec": {
   "display_name": "base",
   "language": "python",
   "name": "python3"
  },
  "language_info": {
   "codemirror_mode": {
    "name": "ipython",
    "version": 3
   },
   "file_extension": ".py",
   "mimetype": "text/x-python",
   "name": "python",
   "nbconvert_exporter": "python",
   "pygments_lexer": "ipython3",
   "version": "3.9.16"
  }
 },
 "nbformat": 4,
 "nbformat_minor": 2
}

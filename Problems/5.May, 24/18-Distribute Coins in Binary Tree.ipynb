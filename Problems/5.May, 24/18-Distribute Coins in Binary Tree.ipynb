{
 "cells": [
  {
   "cell_type": "markdown",
   "metadata": {},
   "source": [
    "You are given the `root` of a binary tree with `n` nodes where each `node` in the tree has `node.val` coins. There are `n` coins in total throughout the whole tree.\n",
    "\n",
    "In one move, we may choose two adjacent nodes and move one coin from one node to another. A move may be from parent to child, or from child to parent.\n",
    "\n",
    "Return **the ***minimum*** number of moves required to make every node have ***exactly*** one coin**.\n",
    "\n",
    "<br>\n",
    "\n",
    "**Example 1:**\n",
    "\n",
    "![tree7](../../images/tree7.png)\n",
    "\n",
    ">**Input:** root = [3,0,0]<br>\n",
    ">**Output:** 2<br>\n",
    ">**Explanation:** From the root of the tree, we move one coin to its left child, and one coin to its right child.\n",
    "\n",
    "**Example 2:**\n",
    "\n",
    "![tree8](../../images/tree8.png)\n",
    "\n",
    ">**Input:** root = [0,3,0]<br>\n",
    ">**Output:** 3<br>\n",
    ">**Explanation:** From the left child of the root, we move two coins to the root [taking two moves]. Then, we move one coin from the root of the tree to the right child.\n",
    "\n",
    "<br>\n",
    "\n",
    "**Constraints:**\n",
    "- >The number of nodes in the tree is n.\n",
    "- >1 <= n <= 100\n",
    "- >0 <= Node.val <= n\n",
    "- >The sum of all Node.val is n."
   ]
  },
  {
   "cell_type": "code",
   "execution_count": 1,
   "metadata": {},
   "outputs": [],
   "source": [
    "# Definition for a binary tree node.\n",
    "# class TreeNode:\n",
    "#     def __init__(self, val=0, left=None, right=None):\n",
    "#         self.val = val\n",
    "#         self.left = left\n",
    "#         self.right = right\n",
    "class Solution:\n",
    "    def distributeCoins(self, root) -> int:\n",
    "        def dfs(node):\n",
    "            if not node:\n",
    "                return 0, 0\n",
    "            left_balance, left_moves = dfs(node.left)\n",
    "            right_balance, right_moves = dfs(node.right)\n",
    "            balance = node.val + left_balance + right_balance - 1\n",
    "            moves = left_moves + right_moves + abs(balance)\n",
    "            return balance, moves\n",
    "\n",
    "        _, total_moves = dfs(root)\n",
    "        return total_moves"
   ]
  }
 ],
 "metadata": {
  "kernelspec": {
   "display_name": "base",
   "language": "python",
   "name": "python3"
  },
  "language_info": {
   "codemirror_mode": {
    "name": "ipython",
    "version": 3
   },
   "file_extension": ".py",
   "mimetype": "text/x-python",
   "name": "python",
   "nbconvert_exporter": "python",
   "pygments_lexer": "ipython3",
   "version": "3.9.16"
  }
 },
 "nbformat": 4,
 "nbformat_minor": 2
}

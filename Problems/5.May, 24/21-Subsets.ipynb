{
 "cells": [
  {
   "cell_type": "markdown",
   "metadata": {},
   "source": [
    "Given an integer array `nums` of **unique** elements, return *all possible subsets (the power set)*.\n",
    "\n",
    "The solution set **must not** contain duplicate subsets. Return the solution in **any order**.\n",
    "\n",
    "<br>\n",
    "\n",
    "**Example 1:**\n",
    ">**Input:** nums = [1,2,3]<br>\n",
    ">**Output:** [[],[1],[2],[1,2],[3],[1,3],[2,3],[1,2,3]]\n",
    "\n",
    "**Example 2:**\n",
    ">**Input:** nums = [0]<br>\n",
    ">**Output:** [[],[0]]\n",
    "\n",
    "<br>\n",
    "\n",
    "**Constraints:**\n",
    "- >1 <= nums.length <= 10\n",
    "- >-10 <= nums[i] <= 10\n",
    "- >All the numbers of nums are **unique**."
   ]
  },
  {
   "cell_type": "code",
   "execution_count": 1,
   "metadata": {},
   "outputs": [],
   "source": [
    "class Solution:\n",
    "    def subsets(self, nums: list[int]) -> list[list[int]]:\n",
    "        res = []\n",
    "    \n",
    "        def backtrack(start, path):\n",
    "            res.append(path)\n",
    "            for i in range(start, len(nums)):\n",
    "                backtrack(i + 1, path + [nums[i]])\n",
    "        \n",
    "        backtrack(0, [])\n",
    "        return res"
   ]
  }
 ],
 "metadata": {
  "kernelspec": {
   "display_name": "base",
   "language": "python",
   "name": "python3"
  },
  "language_info": {
   "codemirror_mode": {
    "name": "ipython",
    "version": 3
   },
   "file_extension": ".py",
   "mimetype": "text/x-python",
   "name": "python",
   "nbconvert_exporter": "python",
   "pygments_lexer": "ipython3",
   "version": "3.9.16"
  }
 },
 "nbformat": 4,
 "nbformat_minor": 2
}

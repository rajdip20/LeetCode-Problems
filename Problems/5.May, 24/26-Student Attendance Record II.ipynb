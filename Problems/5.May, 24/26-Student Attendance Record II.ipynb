{
 "cells": [
  {
   "cell_type": "markdown",
   "metadata": {},
   "source": [
    "An attendance record for a student can be represented as a string where each character signifies whether the student was absent, late, or present on that day. The record only contains the following three characters:\n",
    "- `'A'`: Absent.\n",
    "- `'L'`: Late.\n",
    "- `'P'`: Present.\n",
    "\n",
    "Any student is eligible for an attendance award if they meet **both** of the following criteria:\n",
    "- The student was absent (`'A'`) for **strictly** fewer than 2 days **total**.\n",
    "- The student was **never** late (`'L'`) for 3 or more **consecutive** days.\n",
    "\n",
    "Given an integer `n`, return *the ***number*** of possible attendance records of length* `n` *that make a student eligible for an attendance award. The answer may be very large, so return it* ***modulo*** **10<sup>9</sup> + 7**.\n",
    "\n",
    "<br>\n",
    "\n",
    "**Example 1:**\n",
    ">**Input:** n = 2<br>\n",
    ">**Output:** 8<br>\n",
    ">**Explanation:** There are 8 records with length 2 that are eligible for an award:<br>\n",
    ">\"PP\", \"AP\", \"PA\", \"LP\", \"PL\", \"AL\", \"LA\", \"LL\"<br>\n",
    ">Only \"AA\" is not eligible because there are 2 absences (there need to be fewer than 2).\n",
    "\n",
    "**Example 2:**\n",
    ">**Input:** n = 1<br>\n",
    ">**Output:** 3\n",
    "\n",
    "**Example 3:**\n",
    ">**Input:** n = 10101<br>\n",
    ">**Output:** 183236316\n",
    "\n",
    "<br>\n",
    "\n",
    "**Constraints:**\n",
    "- >1 <= n <= 10<up>5</sup>"
   ]
  },
  {
   "cell_type": "code",
   "execution_count": 1,
   "metadata": {},
   "outputs": [],
   "source": [
    "class Solution:\n",
    "    def checkRecord(self, n: int) -> int:\n",
    "        MOD = 10**9 + 7\n",
    "\n",
    "        dp = [[[0 for _ in range(3)] for _ in range(2)] for _ in range(n + 1)]\n",
    "        dp[0][0][0] = 1\n",
    "\n",
    "        for i in range(1, n + 1):\n",
    "            for j in range(2):\n",
    "                for k in range(3):\n",
    "                    # Add 'P'\n",
    "                    dp[i][j][0] = (dp[i][j][0] + dp[i-1][j][k]) % MOD\n",
    "                    \n",
    "                    # Add 'A'\n",
    "                    if j < 1:\n",
    "                        dp[i][j+1][0] = (dp[i][j+1][0] + dp[i-1][j][k]) % MOD\n",
    "                    \n",
    "                    # Add 'L'\n",
    "                    if k < 2:\n",
    "                        dp[i][j][k+1] = (dp[i][j][k+1] + dp[i-1][j][k]) % MOD\n",
    "\n",
    "        result = 0\n",
    "        for j in range(2):\n",
    "            for k in range(3):\n",
    "                result = (result + dp[n][j][k]) % MOD\n",
    "\n",
    "        return result"
   ]
  }
 ],
 "metadata": {
  "kernelspec": {
   "display_name": "base",
   "language": "python",
   "name": "python3"
  },
  "language_info": {
   "codemirror_mode": {
    "name": "ipython",
    "version": 3
   },
   "file_extension": ".py",
   "mimetype": "text/x-python",
   "name": "python",
   "nbconvert_exporter": "python",
   "pygments_lexer": "ipython3",
   "version": "3.9.16"
  }
 },
 "nbformat": 4,
 "nbformat_minor": 2
}

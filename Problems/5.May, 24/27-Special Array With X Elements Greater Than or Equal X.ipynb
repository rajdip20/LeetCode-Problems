{
 "cells": [
  {
   "cell_type": "markdown",
   "metadata": {},
   "source": [
    "You are given an array `nums` of non-negative integers. `nums` is considered **special** if there exists a number `x` such that there are **exactly** `x` numbers in `nums` that are **greater than or equal to** `x`.\n",
    "\n",
    "Notice that `x` **does not** have to be an element in `nums`.\n",
    "\n",
    "Return `x` *if the array is ***special***, otherwise, return* `-1`. It can be proven that if `nums` is special, the value for `x` is **unique**.\n",
    "\n",
    "<br>\n",
    "\n",
    "**Example 1:**\n",
    ">**Input:** nums = [3,5]<br>\n",
    ">**Output:** 2<br>\n",
    ">**Explanation:** There are 2 values (3 and 5) that are greater than or equal to 2.\n",
    "\n",
    "**Example 2:**\n",
    ">**Input:** nums = [0,0]<br>\n",
    ">**Output:** -1<br>\n",
    ">**Explanation:** No numbers fit the criteria for x.<br>\n",
    ">If x = 0, there should be 0 numbers >= x, but there are 2.<br>\n",
    ">If x = 1, there should be 1 number >= x, but there are 0.<br>\n",
    ">If x = 2, there should be 2 numbers >= x, but there are 0.<br>\n",
    ">x cannot be greater since there are only 2 numbers in nums.\n",
    "\n",
    "**Example 3:**\n",
    ">**Input:** nums = [0,4,3,0,4]<br>\n",
    ">**Output:** 3<br>\n",
    ">**Explanation:** There are 3 values that are greater than or equal to 3.\n",
    "\n",
    "<br>\n",
    "\n",
    "**Constraints:**\n",
    "- >1 <= nums.length <= 100\n",
    "- >0 <= nums[i] <= 1000"
   ]
  },
  {
   "cell_type": "code",
   "execution_count": 1,
   "metadata": {},
   "outputs": [],
   "source": [
    "class Solution:\n",
    "    def specialArray(self, nums: list[int]) -> int:\n",
    "        nums.sort()\n",
    "        n = len(nums)\n",
    "        \n",
    "        for x in range(1, n + 1):\n",
    "            count = 0\n",
    "            for num in nums:\n",
    "                if num >= x:\n",
    "                    count += 1\n",
    "            \n",
    "            if count == x:\n",
    "                return x\n",
    "        \n",
    "        return -1"
   ]
  }
 ],
 "metadata": {
  "kernelspec": {
   "display_name": "base",
   "language": "python",
   "name": "python3"
  },
  "language_info": {
   "codemirror_mode": {
    "name": "ipython",
    "version": 3
   },
   "file_extension": ".py",
   "mimetype": "text/x-python",
   "name": "python",
   "nbconvert_exporter": "python",
   "pygments_lexer": "ipython3",
   "version": "3.9.16"
  }
 },
 "nbformat": 4,
 "nbformat_minor": 2
}

{
 "cells": [
  {
   "cell_type": "markdown",
   "metadata": {},
   "source": [
    "You are given an `n x n` integer matrix `grid`.\n",
    "\n",
    "Generate an integer matrix `maxLocal` of size `(n - 2) x (n - 2)` such that:\n",
    "- `maxLocal[i][j]` is equal to the **largest** value of the `3 x 3` matrix in `grid` centered around row `i + 1` and column `j + 1`.\n",
    "\n",
    "In other words, we want to find the largest value in every contiguous `3 x 3` matrix in `grid`.\n",
    "\n",
    "Return *the generated matrix*.\n",
    "\n",
    "<br>\n",
    "\n",
    "**Example 1:**\n",
    "\n",
    "![ex1](../../images/ex4.png)\n",
    "\n",
    ">**Input:** grid = [[9,9,8,1],[5,6,2,6],[8,2,6,4],[6,2,2,2]]<br>\n",
    ">**Output:** [[9,9],[8,6]]<br>\n",
    ">**Explanation:** The diagram above shows the original matrix and the generated matrix.<br>\n",
    ">Notice that each value in the generated matrix corresponds to the largest value of a contiguous 3 x 3 matrix in grid.\n",
    "\n",
    "**Example 2:**\n",
    "\n",
    "![ex2](../../images/ex2new2.png)\n",
    "\n",
    ">**Input:** grid = [[1,1,1,1,1],[1,1,1,1,1],[1,1,2,1,1],[1,1,1,1,1],[1,1,1,1,1]]<br>\n",
    ">**Output:** [[2,2,2],[2,2,2],[2,2,2]]<br>\n",
    ">**Explanation:** Notice that the 2 is contained within every contiguous 3 x 3 matrix in grid.\n",
    "\n",
    "<br>\n",
    "\n",
    "**Constraints:**\n",
    "- >n == grid.length == grid[i].length\n",
    "- >3 <= n <= 100\n",
    "- >1 <= grid[i][j] <= 100"
   ]
  },
  {
   "cell_type": "code",
   "execution_count": 1,
   "metadata": {},
   "outputs": [],
   "source": [
    "class Solution:\n",
    "    def largestLocal(self, grid: list[list[int]]) -> list[list[int]]:\n",
    "        n = len(grid)\n",
    "        maxLocal = [[0] * (n - 2) for _ in range(n - 2)]\n",
    "        \n",
    "        for i in range(1, n - 1):\n",
    "            for j in range(1, n - 1):\n",
    "                maxLocal[i - 1][j - 1] = max(\n",
    "                    grid[i - 1][j - 1], grid[i - 1][j], grid[i - 1][j + 1],\n",
    "                    grid[i][j - 1], grid[i][j], grid[i][j + 1],\n",
    "                    grid[i + 1][j - 1], grid[i + 1][j], grid[i + 1][j + 1]\n",
    "                )\n",
    "        \n",
    "        return maxLocal"
   ]
  }
 ],
 "metadata": {
  "kernelspec": {
   "display_name": "base",
   "language": "python",
   "name": "python3"
  },
  "language_info": {
   "codemirror_mode": {
    "name": "ipython",
    "version": 3
   },
   "file_extension": ".py",
   "mimetype": "text/x-python",
   "name": "python",
   "nbconvert_exporter": "python",
   "pygments_lexer": "ipython3",
   "version": "3.9.16"
  }
 },
 "nbformat": 4,
 "nbformat_minor": 2
}

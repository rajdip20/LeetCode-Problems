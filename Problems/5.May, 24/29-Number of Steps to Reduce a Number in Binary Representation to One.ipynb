{
 "cells": [
  {
   "cell_type": "markdown",
   "metadata": {},
   "source": [
    "Given the binary representation of an integer as a string `s`, return *the number of steps to reduce it to* `1` *under the following rules*:\n",
    "- If the current number is even, you have to divide it by 2.\n",
    "- If the current number is odd, you have to add 1 to it.\n",
    "\n",
    "It is guaranteed that you can always reach one for all test cases.\n",
    "\n",
    "<br>\n",
    "\n",
    "**Example 1:**\n",
    ">**Input:** s = \"1101\"<br>\n",
    ">**Output:** 6<br>\n",
    ">**Explanation:** \"1101\" corressponds to number 13 in their decimal representation.<br>\n",
    ">Step 1) 13 is odd, add 1 and obtain 14. <br>\n",
    ">Step 2) 14 is even, divide by 2 and obtain 7.<br>\n",
    ">Step 3) 7 is odd, add 1 and obtain 8.<br>\n",
    ">Step 4) 8 is even, divide by 2 and obtain 4.  <br>\n",
    ">Step 5) 4 is even, divide by 2 and obtain 2. <br>\n",
    ">Step 6) 2 is even, divide by 2 and obtain 1.  \n",
    "\n",
    "**Example 2:**\n",
    ">**Input:** s = \"10\"<br>\n",
    ">**Output:** 1<br>\n",
    ">**Explanation:** \"10\" corressponds to number 2 in their decimal representation.<br>\n",
    ">Step 1) 2 is even, divide by 2 and obtain 1.  \n",
    "\n",
    "**Example 3:**\n",
    ">**Input:** s = \"1\"<br>\n",
    ">**Output:** 0\n",
    "\n",
    "<br>\n",
    "\n",
    "**Constraints:**\n",
    "- >1 <= s.length <= 500\n",
    "- >s consists of characters '0' or '1'\n",
    "- >s[0] == '1'"
   ]
  },
  {
   "cell_type": "code",
   "execution_count": 1,
   "metadata": {},
   "outputs": [],
   "source": [
    "class Solution:\n",
    "    def numSteps(self, s: str) -> int:\n",
    "        num = int(s, 2)\n",
    "        steps = 0\n",
    "        \n",
    "        while num > 1:\n",
    "            if num % 2 == 0:\n",
    "                num //= 2\n",
    "            else:\n",
    "                num += 1\n",
    "            steps += 1\n",
    "        \n",
    "        return steps"
   ]
  }
 ],
 "metadata": {
  "kernelspec": {
   "display_name": "base",
   "language": "python",
   "name": "python3"
  },
  "language_info": {
   "codemirror_mode": {
    "name": "ipython",
    "version": 3
   },
   "file_extension": ".py",
   "mimetype": "text/x-python",
   "name": "python",
   "nbconvert_exporter": "python",
   "pygments_lexer": "ipython3",
   "version": "3.9.16"
  }
 },
 "nbformat": 4,
 "nbformat_minor": 2
}

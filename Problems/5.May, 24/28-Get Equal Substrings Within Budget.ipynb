{
 "cells": [
  {
   "cell_type": "markdown",
   "metadata": {},
   "source": [
    "You are given two strings `s` and `t` of the same length and an integer `maxCost`.\n",
    "\n",
    "You want to change `s` to `t`. Changing the **i<sup>th</sup>** character of `s` to **i<sup>th</sup>** character of `t` costs `|s[i] - t[i]|` (i.e., the absolute difference between the ASCII values of the characters).\n",
    "\n",
    "Return *the maximum length of a substring of* `s` *that can be changed to be the same as the corresponding substring of* `t` *with a cost less than or equal to* `maxCost`. If there is no substring from `s` that can be changed to its corresponding substring from `t`, return `0`.\n",
    "\n",
    "<br>\n",
    "\n",
    "**Example 1:**\n",
    ">**Input:** s = \"abcd\", t = \"bcdf\", maxCost = 3<br>\n",
    ">**Output:** 3<br>\n",
    ">**Explanation:** \"abc\" of s can change to \"bcd\".<br>\n",
    ">That costs 3, so the maximum length is 3.\n",
    "\n",
    "**Example 2:**\n",
    ">**Input:** s = \"abcd\", t = \"cdef\", maxCost = 3<br>\n",
    ">**Output:** 1<br>\n",
    ">**Explanation:** Each character in s costs 2 to change to character in t,  so the maximum length is 1.\n",
    "\n",
    "**Example 3:**\n",
    ">**Input:** s = \"abcd\", t = \"acde\", maxCost = 0<br>\n",
    ">**Output:** 1<br>\n",
    ">**Explanation:** You cannot make any change, so the maximum length is 1.\n",
    "\n",
    "<br>\n",
    "\n",
    "**Constraints:**\n",
    "- >1 <= s.length <= 10<sup>5</sup>\n",
    "- >t.length == s.length\n",
    "- >0 <= maxCost <= 10<sup>6</sup>\n",
    "- >s and t consist of only lowercase English letters."
   ]
  },
  {
   "cell_type": "code",
   "execution_count": 1,
   "metadata": {},
   "outputs": [],
   "source": [
    "class Solution:\n",
    "    def equalSubstring(self, s: str, t: str, maxCost: int) -> int:\n",
    "        n = len(s)\n",
    "        cost = [abs(ord(s[i]) - ord(t[i])) for i in range(n)]\n",
    "        \n",
    "        max_length = 0\n",
    "        current_cost = 0\n",
    "        left = 0\n",
    "        \n",
    "        for right in range(n):\n",
    "            current_cost += cost[right]\n",
    "            \n",
    "            while current_cost > maxCost:\n",
    "                current_cost -= cost[left]\n",
    "                left += 1\n",
    "            \n",
    "            max_length = max(max_length, right - left + 1)\n",
    "        \n",
    "        return max_length"
   ]
  }
 ],
 "metadata": {
  "kernelspec": {
   "display_name": "base",
   "language": "python",
   "name": "python3"
  },
  "language_info": {
   "codemirror_mode": {
    "name": "ipython",
    "version": 3
   },
   "file_extension": ".py",
   "mimetype": "text/x-python",
   "name": "python",
   "nbconvert_exporter": "python",
   "pygments_lexer": "ipython3",
   "version": "3.9.16"
  }
 },
 "nbformat": 4,
 "nbformat_minor": 2
}

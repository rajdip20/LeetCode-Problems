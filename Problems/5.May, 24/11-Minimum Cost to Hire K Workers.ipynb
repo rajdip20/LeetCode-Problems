{
 "cells": [
  {
   "cell_type": "markdown",
   "metadata": {},
   "source": [
    "There are `n` workers. You are given two integer arrays `quality` and `wage` where `quality[i]` is the quality of the **i<sup>th</sup>** worker and `wage[i]` is the minimum wage expectation for the **i<sup>th</sup>** worker.\n",
    "\n",
    "We want to hire exactly `k` workers to form a **paid group**. To hire a group of `k` workers, we must pay them according to the following rules:\n",
    "1. Every worker in the paid group must be paid at least their minimum wage expectation.\n",
    "2. In the group, each worker's pay must be directly proportional to their quality. This means if a worker’s quality is double that of another worker in the group, then they must be paid twice as much as the other worker.\n",
    "\n",
    "Given the integer `k`, return *the least amount of money needed to form a paid group satisfying the above conditions*. Answers within **10<sup>-5</sup>** of the actual answer will be accepted.\n",
    "\n",
    "<br>\n",
    "\n",
    "**Example 1:**\n",
    ">**Input:** quality = [10,20,5], wage = [70,50,30], k = 2<br>\n",
    ">**Output:** 105.00000<br>\n",
    ">**Explanation:** We pay 70 to 0<sup>th</sup> worker and 35 to 2<sup>nd</sup> worker.\n",
    "\n",
    "**Example 2:**\n",
    ">**Input:** quality = [3,1,10,10,1], wage = [4,8,2,2,7], k = 3<br>\n",
    ">**Output:** 30.66667<br>\n",
    ">**Explanation:** We pay 4 to 0<sup>th</sup> worker, 13.33333 to 2<sup>nd</sup> and 3<sup>rd</sup> workers separately.\n",
    " \n",
    "<br>\n",
    "\n",
    "**Constraints:**\n",
    "- >n == quality.length == wage.length\n",
    "- >1 <= k <= n <= 10<sup>4</sup>\n",
    "- >1 <= quality[i], wage[i] <= 10<sup>4</sup>"
   ]
  },
  {
   "cell_type": "code",
   "execution_count": 1,
   "metadata": {},
   "outputs": [],
   "source": [
    "class Solution:\n",
    "    def mincostToHireWorkers(self, quality: list[int], wage: list[int], k: int) -> float:\n",
    "        import heapq\n",
    "        \n",
    "        workers = sorted((w / q, q, w) for q, w in zip(quality, wage))\n",
    "        heap = []\n",
    "        sumq = 0\n",
    "        res = float('inf')\n",
    "        \n",
    "        for ratio, q, w in workers:\n",
    "            heapq.heappush(heap, -q)\n",
    "            sumq += q\n",
    "            if len(heap) > k:\n",
    "                sumq += heapq.heappop(heap)\n",
    "            if len(heap) == k:\n",
    "                res = min(res, ratio * sumq)\n",
    "        return res"
   ]
  }
 ],
 "metadata": {
  "kernelspec": {
   "display_name": "base",
   "language": "python",
   "name": "python3"
  },
  "language_info": {
   "codemirror_mode": {
    "name": "ipython",
    "version": 3
   },
   "file_extension": ".py",
   "mimetype": "text/x-python",
   "name": "python",
   "nbconvert_exporter": "python",
   "pygments_lexer": "ipython3",
   "version": "3.9.16"
  }
 },
 "nbformat": 4,
 "nbformat_minor": 2
}

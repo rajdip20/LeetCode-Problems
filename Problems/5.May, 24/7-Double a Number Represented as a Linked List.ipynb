{
 "cells": [
  {
   "cell_type": "markdown",
   "metadata": {},
   "source": [
    "You are given the `head` of a **non-empty** linked list representing a non-negative integer without leading zeroes.\n",
    "\n",
    "Return *the* `head` *of the linked list after ***doubling*** it*.\n",
    "\n",
    "<br>\n",
    "\n",
    "**Example 1:**\n",
    "\n",
    "![example](../../images/example.png)\n",
    "\n",
    ">**Input:** head = [1,8,9]<br>\n",
    ">**Output:** [3,7,8]<br>\n",
    ">**Explanation:** The figure above corresponds to the given linked list which represents the number 189. Hence, the returned linked list represents the number 189 * 2 = 378.\n",
    "\n",
    "**Example 2:**\n",
    "\n",
    "![example2](../../images/example2.png)\n",
    "\n",
    ">**Input:** head = [9,9,9]<br>\n",
    ">**Output:** [1,9,9,8]<br>\n",
    ">**Explanation:** The figure above corresponds to the given linked list which represents the number 999. Hence, the returned linked list reprersents the number 999 * 2 = 1998. \n",
    "\n",
    "<br>\n",
    "\n",
    "**Constraints:**\n",
    "- >The number of nodes in the list is in the range [1, 10<sup>4</sup>]\n",
    "- >0 <= Node.val <= 9\n",
    "- >The input is generated such that the list represents a number that does not have leading zeros, except the number 0 itself."
   ]
  },
  {
   "cell_type": "code",
   "execution_count": 1,
   "metadata": {},
   "outputs": [],
   "source": [
    "# Definition for singly-linked list.\n",
    "# class ListNode:\n",
    "#     def __init__(self, val=0, next=None):\n",
    "#         self.val = val\n",
    "#         self.next = next\n",
    "class Solution:\n",
    "    def doubleIt(self, head):\n",
    "        def reverse(node):\n",
    "            prev = None\n",
    "            current = node\n",
    "            while current:\n",
    "                next_node = current.next\n",
    "                current.next = prev\n",
    "                prev = current\n",
    "                current = next_node\n",
    "            return prev\n",
    "        \n",
    "        head = reverse(head)\n",
    "        \n",
    "        carry = 0\n",
    "        current = head\n",
    "        while current:\n",
    "            doubled_value = current.val * 2 + carry\n",
    "            current.val = doubled_value % 10\n",
    "            carry = doubled_value // 10\n",
    "            if not current.next and carry:\n",
    "                current.next = ListNode(carry)\n",
    "                break\n",
    "            current = current.next\n",
    "        \n",
    "        return reverse(head)"
   ]
  }
 ],
 "metadata": {
  "kernelspec": {
   "display_name": "base",
   "language": "python",
   "name": "python3"
  },
  "language_info": {
   "codemirror_mode": {
    "name": "ipython",
    "version": 3
   },
   "file_extension": ".py",
   "mimetype": "text/x-python",
   "name": "python",
   "nbconvert_exporter": "python",
   "pygments_lexer": "ipython3",
   "version": "3.9.16"
  }
 },
 "nbformat": 4,
 "nbformat_minor": 2
}

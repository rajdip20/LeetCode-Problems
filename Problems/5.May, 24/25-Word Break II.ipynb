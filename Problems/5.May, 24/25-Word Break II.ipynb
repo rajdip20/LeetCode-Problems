{
 "cells": [
  {
   "cell_type": "markdown",
   "metadata": {},
   "source": [
    "Given a string `s` and a dictionary of strings `wordDict`, add spaces in `s` to construct a sentence where each word is a valid dictionary word. Return all such possible sentences in **any order**.\n",
    "\n",
    "**Note** that the same word in the dictionary may be reused multiple times in the segmentation.\n",
    "\n",
    "<br>\n",
    "\n",
    "**Example 1:**\n",
    ">**Input:** s = \"catsanddog\", wordDict = [\"cat\",\"cats\",\"and\",\"sand\",\"dog\"]<br>\n",
    ">**Output:** [\"cats and dog\",\"cat sand dog\"]\n",
    "\n",
    "**Example 2:**\n",
    ">**Input:** s = \"pineapplepenapple\", wordDict = [\"apple\",\"pen\",\"applepen\",\"pine\",\"pineapple\"]<br>\n",
    ">**Output:** [\"pine apple pen apple\",\"pineapple pen apple\",\"pine applepen apple\"]<br>\n",
    ">**Explanation:** Note that you are allowed to reuse a dictionary word.\n",
    "\n",
    "**Example 3:**\n",
    ">**Input:** s = \"catsandog\", wordDict = [\"cats\",\"dog\",\"sand\",\"and\",\"cat\"]<br>\n",
    ">**Output:** []\n",
    "\n",
    "<br>\n",
    "\n",
    "**Constraints:**\n",
    "- >1 <= s.length <= 20\n",
    "- >1 <= wordDict.length <= 1000\n",
    "- >1 <= wordDict[i].length <= 10\n",
    "- >s and wordDict[i] consist of only lowercase English letters.\n",
    "- >All the strings of wordDict are **unique**.\n",
    "- >Input is generated in a way that the length of the answer doesn't exceed 10<sup>5</sup>."
   ]
  },
  {
   "cell_type": "code",
   "execution_count": 1,
   "metadata": {},
   "outputs": [],
   "source": [
    "class Solution:\n",
    "    def wordBreak(self, s: str, wordDict: list[str]) -> list[str]:\n",
    "        wordSet = set(wordDict)\n",
    "        memo = {}\n",
    "        \n",
    "        def backtrack(start):\n",
    "            if start in memo:\n",
    "                return memo[start]\n",
    "            if start == len(s):\n",
    "                return [\"\"]\n",
    "            \n",
    "            result = []\n",
    "            for end in range(start + 1, len(s) + 1):\n",
    "                word = s[start:end]\n",
    "                if word in wordSet:\n",
    "                    rest_of_sentences = backtrack(end)\n",
    "                    for sentence in rest_of_sentences:\n",
    "                        if sentence:\n",
    "                            result.append(word + \" \" + sentence)\n",
    "                        else:\n",
    "                            result.append(word)\n",
    "            \n",
    "            memo[start] = result\n",
    "            return result\n",
    "        \n",
    "        return backtrack(0)"
   ]
  }
 ],
 "metadata": {
  "kernelspec": {
   "display_name": "base",
   "language": "python",
   "name": "python3"
  },
  "language_info": {
   "codemirror_mode": {
    "name": "ipython",
    "version": 3
   },
   "file_extension": ".py",
   "mimetype": "text/x-python",
   "name": "python",
   "nbconvert_exporter": "python",
   "pygments_lexer": "ipython3",
   "version": "3.9.16"
  }
 },
 "nbformat": 4,
 "nbformat_minor": 2
}

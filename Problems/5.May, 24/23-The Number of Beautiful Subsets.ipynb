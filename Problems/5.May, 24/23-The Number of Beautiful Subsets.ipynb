{
 "cells": [
  {
   "cell_type": "markdown",
   "metadata": {},
   "source": [
    "You are given an array `nums` of positive integers and a **positive** integer `k`.\n",
    "\n",
    "A subset of `nums` is **beautiful** if it does not contain two integers with an absolute difference equal to `k`.\n",
    "\n",
    "Return t*he number of ***non-empty beautiful*** subsets of the array* `nums`.\n",
    "\n",
    "A **subset** of `nums` is an array that can be obtained by deleting some (possibly none) elements from `nums`. Two subsets are different if and only if the chosen indices to delete are different.\n",
    "\n",
    "<br>\n",
    "\n",
    "**Example 1:**\n",
    ">**Input:** nums = [2,4,6], k = 2<br>\n",
    ">**Output:** 4<br>\n",
    ">**Explanation:** The beautiful subsets of the array nums are: [2], [4], [6], [2, 6].<br>\n",
    ">It can be proved that there are only 4 beautiful subsets in the array [2,4,6].\n",
    "\n",
    "**Example 2:**\n",
    ">**Input:** nums = [1], k = 1<br>\n",
    ">**Output:** 1<br>\n",
    ">**Explanation:** The beautiful subset of the array nums is [1].<br>\n",
    ">It can be proved that there is only 1 beautiful subset in the array [1].\n",
    "\n",
    "<br>\n",
    "\n",
    "**Constraints:**\n",
    "- >1 <= nums.length <= 20\n",
    "- >1 <= nums[i], k <= 1000"
   ]
  },
  {
   "cell_type": "code",
   "execution_count": 1,
   "metadata": {},
   "outputs": [],
   "source": [
    "class Solution:\n",
    "    def beautifulSubsets(self, nums: list[int], k: int) -> int:\n",
    "        from collections import defaultdict\n",
    "        \n",
    "        count = 0\n",
    "        lenNums = len(nums)\n",
    "\n",
    "        def explore(index):\n",
    "            nonlocal count\n",
    "            if lenNums == index:\n",
    "                count += 1\n",
    "                return\n",
    "\n",
    "            num = nums[index]\n",
    "\n",
    "            if num - k not in visited and num + k not in visited:\n",
    "                visited[num] += 1\n",
    "                explore(index + 1)\n",
    "                visited[num] -= 1\n",
    "                if visited[num] == 0:\n",
    "                    del visited[num]\n",
    "\n",
    "            explore(index + 1)\n",
    "\n",
    "        visited = defaultdict(int)\n",
    "        explore(0)\n",
    "        return count - 1"
   ]
  }
 ],
 "metadata": {
  "kernelspec": {
   "display_name": "base",
   "language": "python",
   "name": "python3"
  },
  "language_info": {
   "codemirror_mode": {
    "name": "ipython",
    "version": 3
   },
   "file_extension": ".py",
   "mimetype": "text/x-python",
   "name": "python",
   "nbconvert_exporter": "python",
   "pygments_lexer": "ipython3",
   "version": "3.9.16"
  }
 },
 "nbformat": 4,
 "nbformat_minor": 2
}

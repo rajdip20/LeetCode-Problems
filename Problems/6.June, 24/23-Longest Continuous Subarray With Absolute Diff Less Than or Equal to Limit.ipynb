{
 "cells": [
  {
   "cell_type": "markdown",
   "metadata": {},
   "source": [
    "Given an array of integers `nums` and an integer `limit`, return the size of the longest **non-empty** subarray such that the absolute difference between any two elements of this subarray is less than or equal to `limit`.\n",
    "\n",
    "<br>\n",
    "\n",
    "**Example 1:**\n",
    ">**Input:** nums = [8,2,4,7], limit = 4<br>\n",
    ">**Output:** 2 <br>\n",
    ">**Explanation:** All subarrays are: <br>\n",
    ">[8] with maximum absolute diff |8-8| = 0 <= 4.<br>\n",
    ">[8,2] with maximum absolute diff |8-2| = 6 > 4. <br>\n",
    ">[8,2,4] with maximum absolute diff |8-2| = 6 > 4.<br>\n",
    ">[8,2,4,7] with maximum absolute diff |8-2| = 6 > 4.<br>\n",
    ">[2] with maximum absolute diff |2-2| = 0 <= 4.<br>\n",
    ">[2,4] with maximum absolute diff |2-4| = 2 <= 4.<br>\n",
    ">[2,4,7] with maximum absolute diff |2-7| = 5 > 4.<br>\n",
    ">[4] with maximum absolute diff |4-4| = 0 <= 4.<br>\n",
    ">[4,7] with maximum absolute diff |4-7| = 3 <= 4.<br>\n",
    ">[7] with maximum absolute diff |7-7| = 0 <= 4. <br>\n",
    ">Therefore, the size of the longest subarray is 2.\n",
    "\n",
    "**Example 2:**\n",
    ">**Input:** nums = [10,1,2,4,7,2], limit = 5<br>\n",
    ">**Output:** 4 <br>\n",
    ">**Explanation:** The subarray [2,4,7,2] is the longest since the maximum absolute diff is |2-7| = 5 <= 5.\n",
    "\n",
    "**Example 3:**\n",
    ">**Input:** nums = [4,2,2,2,4,4,2,2], limit = 0<br>\n",
    ">**Output:** 3\n",
    "\n",
    "<br>\n",
    "\n",
    "**Constraints:**\n",
    "- >1 <= nums.length <= 10<sup>5</sup>\n",
    "- >1 <= nums[i] <= 10<sup>9</sup>\n",
    "- >0 <= limit <= 10<sup>9</sup>"
   ]
  },
  {
   "cell_type": "code",
   "execution_count": 1,
   "metadata": {},
   "outputs": [],
   "source": [
    "class Solution:\n",
    "    def longestSubarray(self, nums: list[int], limit: int) -> int:\n",
    "        from collections import deque\n",
    "\n",
    "        decQ = deque() \n",
    "        incQ = deque() \n",
    "        ans = 0\n",
    "        left = 0\n",
    "\n",
    "        for right, num in enumerate(nums):\n",
    "            while decQ and num > decQ[-1]:\n",
    "                decQ.pop()\n",
    "\n",
    "            decQ.append(num)\n",
    "\n",
    "            while incQ and num < incQ[-1]:\n",
    "                incQ.pop()\n",
    "\n",
    "            incQ.append(num)\n",
    "\n",
    "            while decQ[0] - incQ[0] > limit:\n",
    "                if decQ[0] == nums[left]:\n",
    "                    decQ.popleft()\n",
    "\n",
    "                if incQ[0] == nums[left]:\n",
    "                    incQ.popleft()\n",
    "\n",
    "                left += 1\n",
    "\n",
    "            ans = max(ans, right - left + 1)\n",
    "\n",
    "        return ans"
   ]
  }
 ],
 "metadata": {
  "kernelspec": {
   "display_name": "base",
   "language": "python",
   "name": "python3"
  },
  "language_info": {
   "codemirror_mode": {
    "name": "ipython",
    "version": 3
   },
   "file_extension": ".py",
   "mimetype": "text/x-python",
   "name": "python",
   "nbconvert_exporter": "python",
   "pygments_lexer": "ipython3",
   "version": "3.9.16"
  }
 },
 "nbformat": 4,
 "nbformat_minor": 2
}

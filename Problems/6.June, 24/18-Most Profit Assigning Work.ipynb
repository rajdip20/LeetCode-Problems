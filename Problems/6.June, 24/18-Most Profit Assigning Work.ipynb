{
 "cells": [
  {
   "cell_type": "markdown",
   "metadata": {},
   "source": [
    "You have `n` jobs and `m` workers. You are given three arrays: `difficulty`, `profit`, and `worker` where:\n",
    "- `difficulty[i]` and `profit[i]` are the difficulty and the profit of the **i<sup>th</sup>** job, and\n",
    "- `worker[j]` is the ability of **j<sup>th</sup>** worker (i.e., the **j<sup>th</sup>** worker can only complete a job with difficulty at most `worker[j]`).\n",
    "\n",
    "Every worker can be assigned **at most one job**, but one job can be **completed multiple times**.\n",
    "\n",
    "- For example, if three workers attempt the same job that pays **$1**, then the total profit will be **$3**. If a worker cannot complete any job, their profit is **$0**.\n",
    "\n",
    "Return the maximum profit we can achieve after assigning the workers to the jobs.\n",
    "\n",
    "<br>\n",
    "\n",
    "**Example 1:**\n",
    ">**Input:** difficulty = [2,4,6,8,10], profit = [10,20,30,40,50], worker = [4,5,6,7]<br>\n",
    ">**Output:** 100<br>\n",
    ">**Explanation:** Workers are assigned jobs of difficulty [4,4,6,6] and they get a profit of [20,20,30,30] separately.\n",
    "\n",
    "**Example 2:**\n",
    ">**Input:** difficulty = [85,47,57], profit = [24,66,99], worker = [40,25,25]<br>\n",
    ">**Output:** 0\n",
    "\n",
    "<br>\n",
    "\n",
    "**Constraints:**\n",
    "- >n == difficulty.length\n",
    "- >n == profit.length\n",
    "- >m == worker.length\n",
    "- >1 <= n, m <= 10<sup>4</sup>\n",
    "- >1 <= difficulty[i], profit[i], worker[i] <= 10<sup>5</sup>"
   ]
  },
  {
   "cell_type": "code",
   "execution_count": 1,
   "metadata": {},
   "outputs": [],
   "source": [
    "class Solution:\n",
    "    def maxProfitAssignment(self, difficulty: list[int], profit: list[int], worker: list[int]) -> int:\n",
    "        jobs = sorted(zip(difficulty, profit))\n",
    "        worker.sort()\n",
    "        \n",
    "        max_profit = 0\n",
    "        max_profit_so_far = 0\n",
    "        job_pointer = 0\n",
    "        \n",
    "        for ability in worker:\n",
    "            while job_pointer < len(jobs) and jobs[job_pointer][0] <= ability:\n",
    "                max_profit_so_far = max(max_profit_so_far, jobs[job_pointer][1])\n",
    "                job_pointer += 1\n",
    "            max_profit += max_profit_so_far\n",
    "        \n",
    "        return max_profit"
   ]
  }
 ],
 "metadata": {
  "kernelspec": {
   "display_name": "base",
   "language": "python",
   "name": "python3"
  },
  "language_info": {
   "codemirror_mode": {
    "name": "ipython",
    "version": 3
   },
   "file_extension": ".py",
   "mimetype": "text/x-python",
   "name": "python",
   "nbconvert_exporter": "python",
   "pygments_lexer": "ipython3",
   "version": "3.9.16"
  }
 },
 "nbformat": 4,
 "nbformat_minor": 2
}

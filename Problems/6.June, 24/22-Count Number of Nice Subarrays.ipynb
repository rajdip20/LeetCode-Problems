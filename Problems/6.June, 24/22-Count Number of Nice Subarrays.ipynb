{
 "cells": [
  {
   "cell_type": "markdown",
   "metadata": {},
   "source": [
    "Given an array of integers `nums` and an integer `k`. A continuous subarray is called **nice** if there are `k` odd numbers on it.\n",
    "\n",
    "Return *the number of ***nice*** sub-arrays*.\n",
    "\n",
    "<br>\n",
    "\n",
    "**Example 1:**\n",
    ">**Input:** nums = [1,1,2,1,1], k = 3<br>\n",
    ">**Output:** 2<br>\n",
    ">**Explanation:** The only sub-arrays with 3 odd numbers are [1,1,2,1] and [1,2,1,1].\n",
    "\n",
    "**Example 2:**\n",
    ">**Input:** nums = [2,4,6], k = 1<br>\n",
    ">**Output:** 0<br>\n",
    ">**Explanation:** There are no odd numbers in the array.\n",
    "\n",
    "**Example 3:**\n",
    ">**Input:** nums = [2,2,2,1,2,2,1,2,2,2], k = 2<br>\n",
    ">**Output:** 16\n",
    "\n",
    "<br>\n",
    "\n",
    "**Constraints:**\n",
    "- >1 <= nums.length <= 50000\n",
    "- >1 <= nums[i] <= 10^5\n",
    "- >1 <= k <= nums.length"
   ]
  },
  {
   "cell_type": "code",
   "execution_count": 1,
   "metadata": {},
   "outputs": [],
   "source": [
    "class Solution:\n",
    "    def numberOfSubarrays(self, nums: list[int], k: int) -> int:\n",
    "        def atMostK(k):\n",
    "            count = 0\n",
    "            start = 0\n",
    "            odd_count = 0\n",
    "            for end in range(len(nums)):\n",
    "                if nums[end] % 2 == 1:\n",
    "                    odd_count += 1\n",
    "                \n",
    "                while odd_count > k:\n",
    "                    if nums[start] % 2 == 1:\n",
    "                        odd_count -= 1\n",
    "                    start += 1\n",
    "                \n",
    "                count += end - start + 1\n",
    "            \n",
    "            return count\n",
    "\n",
    "        return atMostK(k) - atMostK(k - 1)"
   ]
  }
 ],
 "metadata": {
  "kernelspec": {
   "display_name": "base",
   "language": "python",
   "name": "python3"
  },
  "language_info": {
   "codemirror_mode": {
    "name": "ipython",
    "version": 3
   },
   "file_extension": ".py",
   "mimetype": "text/x-python",
   "name": "python",
   "nbconvert_exporter": "python",
   "pygments_lexer": "ipython3",
   "version": "3.9.16"
  }
 },
 "nbformat": 4,
 "nbformat_minor": 2
}

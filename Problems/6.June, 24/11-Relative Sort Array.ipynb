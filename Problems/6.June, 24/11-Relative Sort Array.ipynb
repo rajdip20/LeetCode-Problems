{
 "cells": [
  {
   "cell_type": "markdown",
   "metadata": {},
   "source": [
    "Given two arrays `arr1` and `arr2`, the elements of `arr2` are distinct, and all elements in `arr2` are also in `arr1`.\n",
    "\n",
    "Sort the elements of `arr1` such that the relative ordering of items in `arr1` are the same as in `arr2`. Elements that do not appear in `arr2` should be placed at the end of `arr1` in **ascending** order.\n",
    "\n",
    "<br>\n",
    "\n",
    "**Example 1:**\n",
    ">**Input:** arr1 = [2,3,1,3,2,4,6,7,9,2,19], arr2 = [2,1,4,3,9,6]<br>\n",
    ">**Output:** [2,2,2,1,4,3,3,9,6,7,19]\n",
    "\n",
    "**Example 2:**\n",
    ">**Input:** arr1 = [28,6,22,8,44,17], arr2 = [22,28,8,6]<br>\n",
    ">**Output:** [22,28,8,6,17,44]\n",
    "\n",
    "<br>\n",
    "\n",
    "**Constraints:**\n",
    "- >1 <= arr1.length, arr2.length <= 1000\n",
    "- >0 <= arr1[i], arr2[i] <= 1000\n",
    "- >All the elements of arr2 are **distinct**.\n",
    "- >Each arr2[i] is in arr1."
   ]
  },
  {
   "cell_type": "code",
   "execution_count": 1,
   "metadata": {},
   "outputs": [],
   "source": [
    "class Solution:\n",
    "    def relativeSortArray(self, arr1: list[int], arr2: list[int]) -> list[int]:\n",
    "        from collections import Counter\n",
    "        \n",
    "        count = Counter(arr1)\n",
    "        result = []\n",
    "        \n",
    "        for num in arr2:\n",
    "            if num in count:\n",
    "                result.extend([num] * count[num])\n",
    "                del count[num]\n",
    "        \n",
    "        remaining_elements = sorted(count.elements())\n",
    "        result.extend(remaining_elements)\n",
    "        \n",
    "        return result"
   ]
  }
 ],
 "metadata": {
  "kernelspec": {
   "display_name": "base",
   "language": "python",
   "name": "python3"
  },
  "language_info": {
   "codemirror_mode": {
    "name": "ipython",
    "version": 3
   },
   "file_extension": ".py",
   "mimetype": "text/x-python",
   "name": "python",
   "nbconvert_exporter": "python",
   "pygments_lexer": "ipython3",
   "version": "3.9.16"
  }
 },
 "nbformat": 4,
 "nbformat_minor": 2
}

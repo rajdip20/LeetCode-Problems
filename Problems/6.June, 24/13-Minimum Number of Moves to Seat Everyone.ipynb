{
 "cells": [
  {
   "cell_type": "markdown",
   "metadata": {},
   "source": [
    "There are `n` seats and `n` students in a room. You are given an array `seats` of length `n`, where `seats[i]` is the position of the **i<sup>th</sup>** seat. You are also given the array `students` of length `n`, where `students[j]` is the position of the **j<sup>th</sup>** student.\n",
    "\n",
    "You may perform the following move any number of times:\n",
    "- Increase or decrease the position of the **i<sup>th</sup>** student by `1` (i.e., moving the **i<sup>th</sup>** student from position `x` to `x + 1` or `x - 1`)\n",
    "\n",
    "Return *the ***minimum number of moves*** required to move each student to a seat such that no two students are in the same seat*.\n",
    "\n",
    "Note that there may be **multiple** seats or students in the **same** position at the beginning.\n",
    "\n",
    "<br>\n",
    "\n",
    "**Example 1:**\n",
    ">**Input:** seats = [3,1,5], students = [2,7,4]<br>\n",
    ">**Output:** 4<br>\n",
    ">**Explanation:** The students are moved as follows:<br>\n",
    ">\\- The first student is moved from from position 2 to position 1 using 1 move.<br>\n",
    ">\\- The second student is moved from from position 7 to position 5 using 2 moves.<br>\n",
    ">\\- The third student is moved from from position 4 to position 3 using 1 move.<br>\n",
    ">In total, 1 + 2 + 1 = 4 moves were used.\n",
    "\n",
    "**Example 2:**\n",
    ">**Input:** seats = [4,1,5,9], students = [1,3,2,6]<br>\n",
    ">**Output:** 7<br>\n",
    ">**Explanation:** The students are moved as follows:<br>\n",
    ">\\- The first student is not moved.<br>\n",
    ">\\- The second student is moved from from position 3 to position 4 using 1 move.<br>\n",
    ">\\- The third student is moved from from position 2 to position 5 using 3 moves.<br>\n",
    ">\\- The fourth student is moved from from position 6 to position 9 using 3 moves.<br>\n",
    ">In total, 0 + 1 + 3 + 3 = 7 moves were used.\n",
    "\n",
    "**Example 3:**\n",
    ">**Input:** seats = [2,2,6,6], students = [1,3,2,6]<br>\n",
    ">**Output:** 4<br>\n",
    ">**Explanation:** Note that there are two seats at position 2 and two seats at position 6.<br>\n",
    ">The students are moved as follows:<br>\n",
    ">\\- The first student is moved from from position 1 to position 2 using 1 move.<br>\n",
    ">\\- The second student is moved from from position 3 to position 6 using 3 moves.<br>\n",
    ">\\- The third student is not moved.<br>\n",
    ">\\- The fourth student is not moved.<br>\n",
    ">In total, 1 + 3 + 0 + 0 = 4 moves were used.\n",
    "\n",
    "<br>\n",
    "\n",
    "**Constraints:**\n",
    "- >n == seats.length == students.length\n",
    "- >1 <= n <= 100\n",
    "- >1 <= seats[i], students[j] <= 100"
   ]
  },
  {
   "cell_type": "code",
   "execution_count": 1,
   "metadata": {},
   "outputs": [],
   "source": [
    "class Solution:\n",
    "    def minMovesToSeat(self, seats: list[int], students: list[int]) -> int:\n",
    "        seats.sort()\n",
    "        students.sort()\n",
    "        total_moves = 0\n",
    "        \n",
    "        for seat, student in zip(seats, students):\n",
    "            total_moves += abs(seat - student)\n",
    "        \n",
    "        return total_moves"
   ]
  }
 ],
 "metadata": {
  "kernelspec": {
   "display_name": "base",
   "language": "python",
   "name": "python3"
  },
  "language_info": {
   "codemirror_mode": {
    "name": "ipython",
    "version": 3
   },
   "file_extension": ".py",
   "mimetype": "text/x-python",
   "name": "python",
   "nbconvert_exporter": "python",
   "pygments_lexer": "ipython3",
   "version": "3.9.16"
  }
 },
 "nbformat": 4,
 "nbformat_minor": 2
}

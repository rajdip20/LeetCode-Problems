{
 "cells": [
  {
   "cell_type": "markdown",
   "metadata": {},
   "source": [
    "Suppose LeetCode will start its **IPO** soon. In order to sell a good price of its shares to Venture Capital, LeetCode would like to work on some projects to increase its capital before the **IPO**. Since it has limited resources, it can only finish at most `k` distinct projects before the **IPO**. Help LeetCode design the best way to maximize its total capital after finishing at most `k` distinct projects.\n",
    "\n",
    "You are given `n` projects where the **ith** project has a pure profit `profits[i]` and a minimum capital of `capital[i]` is needed to start it.\n",
    "\n",
    "Initially, you have `w` capital. When you finish a project, you will obtain its pure profit and the profit will be added to your total capital.\n",
    "\n",
    "Pick a list of **at most** `k` distinct projects from given projects to **maximize your final capital**, and return *the final maximized capital*.\n",
    "\n",
    "The answer is guaranteed to fit in a 32-bit signed integer.\n",
    "\n",
    "<br>\n",
    "\n",
    "**Example 1:**\n",
    ">**Input:** k = 2, w = 0, profits = [1,2,3], capital = [0,1,1]<br>\n",
    ">**Output:** 4<br>\n",
    ">**Explanation:** Since your initial capital is 0, you can only start the project indexed 0.<br>\n",
    ">After finishing it you will obtain profit 1 and your capital becomes 1.<br>\n",
    ">With capital 1, you can either start the project indexed 1 or the project indexed 2.<br>\n",
    ">Since you can choose at most 2 projects, you need to finish the project indexed 2 to get the maximum capital.<br>\n",
    ">Therefore, output the final maximized capital, which is 0 + 1 + 3 = 4.\n",
    "\n",
    "**Example 2:**\n",
    ">**Input:** k = 3, w = 0, profits = [1,2,3], capital = [0,1,2]<br>\n",
    ">**Output:** 6\n",
    "\n",
    "<br>\n",
    "\n",
    "**Constraints:**\n",
    "- >1 <= k <= 10<sup>5</sup>\n",
    "- >0 <= w <= 10<sup>9</sup>\n",
    "- >n == profits.length\n",
    "- >n == capital.length\n",
    "- >1 <= n <= 10<sup>5</sup>\n",
    "- >0 <= profits[i] <= 10<sup>4</sup>\n",
    "- >0 <= capital[i] <= 10<sup>9</sup>"
   ]
  },
  {
   "cell_type": "code",
   "execution_count": null,
   "metadata": {},
   "outputs": [],
   "source": [
    "class Solution:\n",
    "    def findMaximizedCapital(self, k: int, w: int, profits: list[int], capital: list[int]) -> int:\n",
    "        import heapq\n",
    "\n",
    "        projects = list(zip(capital, profits))\n",
    "        projects.sort()\n",
    "        min_capital_heap = []\n",
    "        max_profit_heap = []\n",
    "        \n",
    "        for c, p in projects:\n",
    "            heapq.heappush(min_capital_heap, (c, p))\n",
    "        \n",
    "        available_capital = w\n",
    "        \n",
    "        for _ in range(k):\n",
    "            while min_capital_heap and min_capital_heap[0][0] <= available_capital:\n",
    "                c, p = heapq.heappop(min_capital_heap)\n",
    "                heapq.heappush(max_profit_heap, -p)\n",
    "            \n",
    "            if not max_profit_heap:\n",
    "                break\n",
    "            \n",
    "            available_capital += -heapq.heappop(max_profit_heap)\n",
    "        \n",
    "        return available_capital"
   ]
  }
 ],
 "metadata": {
  "kernelspec": {
   "display_name": "base",
   "language": "python",
   "name": "python3"
  },
  "language_info": {
   "codemirror_mode": {
    "name": "ipython",
    "version": 3
   },
   "file_extension": ".py",
   "mimetype": "text/x-python",
   "name": "python",
   "nbconvert_exporter": "python",
   "pygments_lexer": "ipython3",
   "version": "3.9.16"
  }
 },
 "nbformat": 4,
 "nbformat_minor": 2
}

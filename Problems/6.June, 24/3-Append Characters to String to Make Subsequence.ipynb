{
 "cells": [
  {
   "cell_type": "markdown",
   "metadata": {},
   "source": [
    "You are given two strings `s` and `t` consisting of only lowercase English letters.\n",
    "\n",
    "Return *the minimum number of characters that need to be appended to the end of* `s` *so that* `t` *becomes a ***subsequence*** of* `s`.\n",
    "\n",
    "A **subsequence** is a string that can be derived from another string by deleting some or no characters without changing the order of the remaining characters.\n",
    "\n",
    "<br>\n",
    "\n",
    "**Example 1:**\n",
    ">**Input:** s = \"coaching\", t = \"coding\"<br>\n",
    ">**Output:** 4<br>\n",
    ">**Explanation:** Append the characters \"ding\" to the end of s so that s = \"coachingding\".<br>\n",
    ">Now, t is a subsequence of s (\"coachingding\").<br>\n",
    ">It can be shown that appending any 3 characters to the end of s will never make t a subsequence.\n",
    "\n",
    "**Example 2:**\n",
    ">**Input:** s = \"abcde\", t = \"a\"<br>\n",
    ">**Output:** 0<br>\n",
    ">**Explanation:** t is already a subsequence of s (\"abcde\").\n",
    "\n",
    "**Example 3:**\n",
    ">**Input:** s = \"z\", t = \"abcde\"<br>\n",
    ">**Output:** 5<br>\n",
    ">**Explanation:** Append the characters \"abcde\" to the end of s so that s = \"zabcde\".<br>\n",
    ">Now, t is a subsequence of s (\"zabcde\").<br>\n",
    ">It can be shown that appending any 4 characters to the end of s will never make t a subsequence.\n",
    "\n",
    "<br>\n",
    "\n",
    "**Constraints:**\n",
    "- >1 <= s.length, t.length <= 10<sup>5</sup>\n",
    "- >s and t consist only of lowercase English letters."
   ]
  },
  {
   "cell_type": "code",
   "execution_count": 1,
   "metadata": {},
   "outputs": [],
   "source": [
    "class Solution:\n",
    "    def appendCharacters(self, s: str, t: str) -> int:\n",
    "        i, j = 0, 0\n",
    "        \n",
    "        while i < len(s) and j < len(t):\n",
    "            if s[i] == t[j]:\n",
    "                j += 1\n",
    "            i += 1\n",
    "        \n",
    "        return len(t) - j"
   ]
  }
 ],
 "metadata": {
  "kernelspec": {
   "display_name": "base",
   "language": "python",
   "name": "python3"
  },
  "language_info": {
   "codemirror_mode": {
    "name": "ipython",
    "version": 3
   },
   "file_extension": ".py",
   "mimetype": "text/x-python",
   "name": "python",
   "nbconvert_exporter": "python",
   "pygments_lexer": "ipython3",
   "version": "3.9.16"
  }
 },
 "nbformat": 4,
 "nbformat_minor": 2
}

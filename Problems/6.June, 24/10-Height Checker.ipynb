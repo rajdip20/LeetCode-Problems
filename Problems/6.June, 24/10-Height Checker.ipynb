{
 "cells": [
  {
   "cell_type": "markdown",
   "metadata": {},
   "source": [
    "A school is trying to take an annual photo of all the students. The students are asked to stand in a single file line in **non-decreasing order** by height. Let this ordering be represented by the integer array `expected` where `expected[i]` is the expected height of the **i<sup>th</sup>** student in line.\n",
    "\n",
    "You are given an integer array `heights` representing the **current order** that the students are standing in. Each `heights[i]` is the height of the **i<sup>th</sup>** student in line (**0-indexed**).\n",
    "\n",
    "Return *the ***number of indices*** where* `heights[i] != expected[i]`.\n",
    "\n",
    "<br>\n",
    "\n",
    "**Example 1:**\n",
    ">**Input:** heights = [1,1,4,2,1,3]<br>\n",
    ">**Output:** 3<br>\n",
    ">**Explanation:** <br>\n",
    ">heights:  [1,1,4,2,1,3]<br>\n",
    ">expected: [1,1,1,2,3,4]<br>\n",
    ">Indices 2, 4, and 5 do not match.\n",
    "\n",
    "**Example 2:**\n",
    ">**Input:** heights = [5,1,2,3,4]<br>\n",
    ">**Output:** 5<br>\n",
    ">**Explanation:**<br>\n",
    ">heights:  [5,1,2,3,4]<br>\n",
    ">expected: [1,2,3,4,5]<br>\n",
    ">All indices do not match.\n",
    "\n",
    "**Example 3:**\n",
    ">**Input:** heights = [1,2,3,4,5]<br>\n",
    ">**Output:** 0<br>\n",
    ">**Explanation:**<br>\n",
    ">heights:  [1,2,3,4,5]<br>\n",
    ">expected: [1,2,3,4,5]<br>\n",
    ">All indices match.\n",
    "\n",
    "<br>\n",
    "\n",
    "**Constraints:**\n",
    "- >1 <= heights.length <= 100\n",
    "- >1 <= heights[i] <= 100"
   ]
  },
  {
   "cell_type": "code",
   "execution_count": 1,
   "metadata": {},
   "outputs": [],
   "source": [
    "class Solution:\n",
    "    def heightChecker(self, heights: list[int]) -> int:\n",
    "        expected = sorted(heights)\n",
    "        mismatch_count = 0\n",
    "        \n",
    "        for i in range(len(heights)):\n",
    "            if heights[i] != expected[i]:\n",
    "                mismatch_count += 1\n",
    "        \n",
    "        return mismatch_count"
   ]
  }
 ],
 "metadata": {
  "kernelspec": {
   "display_name": "base",
   "language": "python",
   "name": "python3"
  },
  "language_info": {
   "codemirror_mode": {
    "name": "ipython",
    "version": 3
   },
   "file_extension": ".py",
   "mimetype": "text/x-python",
   "name": "python",
   "nbconvert_exporter": "python",
   "pygments_lexer": "ipython3",
   "version": "3.9.16"
  }
 },
 "nbformat": 4,
 "nbformat_minor": 2
}

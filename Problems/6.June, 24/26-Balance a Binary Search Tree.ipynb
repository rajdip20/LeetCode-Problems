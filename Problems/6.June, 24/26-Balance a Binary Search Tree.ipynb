{
 "cells": [
  {
   "cell_type": "markdown",
   "metadata": {},
   "source": [
    "Given the `root` of a binary search tree, return *a ***balanced*** binary search tree with the same node values*. If there is more than one answer, return **any of them**.\n",
    "\n",
    "A binary search tree is **balanced** if the depth of the two subtrees of every node never differs by more than `1`.\n",
    "\n",
    "<br>\n",
    "\n",
    "**Example 1:**\n",
    "\n",
    "![balance1](../../images/balance1-tree.jpg)\n",
    "\n",
    ">**Input:** root = [1,null,2,null,3,null,4,null,null]<br>\n",
    ">**Output:** [2,1,3,null,null,null,4]<br>\n",
    ">**Explanation:** This is not the only correct answer, [3,1,4,null,2] is also correct.\n",
    "\n",
    "**Example 2:**\n",
    "\n",
    "![balance2](../../images/balanced2-tree.jpg)\n",
    "\n",
    ">**Input:** root = [2,1,3]<br>\n",
    ">**Output:** [2,1,3]\n",
    "\n",
    "<br>\n",
    "\n",
    "**Constraints:**\n",
    "- >The number of nodes in the tree is in the range [1, 10<sup>4</sup>].\n",
    "- >1 <= Node.val <= 10<sup></sup>5"
   ]
  },
  {
   "cell_type": "code",
   "execution_count": 1,
   "metadata": {},
   "outputs": [],
   "source": [
    "# Definition for a binary tree node.\n",
    "# class TreeNode:\n",
    "#     def __init__(self, val=0, left=None, right=None):\n",
    "#         self.val = val\n",
    "#         self.left = left\n",
    "#         self.right = right\n",
    "class Solution:\n",
    "    def balanceBST(self, root):\n",
    "        def sorted_list_to_bst(nums):\n",
    "            if not nums:\n",
    "                return None\n",
    "            mid = len(nums) // 2\n",
    "            node = TreeNode(nums[mid])\n",
    "            node.left = sorted_list_to_bst(nums[:mid])\n",
    "            node.right = sorted_list_to_bst(nums[mid+1:])\n",
    "            return node\n",
    "        \n",
    "        def inorder_traversal(root):\n",
    "            res = []\n",
    "            def inorder(node):\n",
    "                if not node:\n",
    "                    return\n",
    "                inorder(node.left)\n",
    "                res.append(node.val)\n",
    "                inorder(node.right)\n",
    "            inorder(root)\n",
    "            return res\n",
    "\n",
    "\n",
    "        sorted_vals = inorder_traversal(root)\n",
    "        return sorted_list_to_bst(sorted_vals)"
   ]
  }
 ],
 "metadata": {
  "kernelspec": {
   "display_name": "base",
   "language": "python",
   "name": "python3"
  },
  "language_info": {
   "codemirror_mode": {
    "name": "ipython",
    "version": 3
   },
   "file_extension": ".py",
   "mimetype": "text/x-python",
   "name": "python",
   "nbconvert_exporter": "python",
   "pygments_lexer": "ipython3",
   "version": "3.9.16"
  }
 },
 "nbformat": 4,
 "nbformat_minor": 2
}

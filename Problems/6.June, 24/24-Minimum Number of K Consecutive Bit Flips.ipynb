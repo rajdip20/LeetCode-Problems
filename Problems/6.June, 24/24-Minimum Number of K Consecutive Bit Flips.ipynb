{
 "cells": [
  {
   "cell_type": "markdown",
   "metadata": {},
   "source": [
    "You are given a binary array `nums` and an integer `k`.\n",
    "\n",
    "A **k-bit flip** is choosing a **subarray** of length `k` from `nums` and simultaneously changing every `0` in the subarray to `1`, and every `1` in the subarray to `0`.\n",
    "\n",
    "Return *the minimum number of ***k-bit flips*** required so that there is no* `0` *in the array*. If it is not possible, return `-1`.\n",
    "\n",
    "A **subarray** is a **contiguous** part of an array.\n",
    "\n",
    "<br>\n",
    "\n",
    "**Example 1:**\n",
    ">**Input:** nums = [0,1,0], k = 1<br>\n",
    ">**Output:** 2<br>\n",
    ">**Explanation:** Flip nums[0], then flip nums[2].\n",
    "\n",
    "**Example 2:**\n",
    ">**Input:** nums = [1,1,0], k = 2<br>\n",
    ">**Output:** -1<br>\n",
    ">**Explanation:** No matter how we flip subarrays of size 2, we cannot make the array become [1,1,1].\n",
    "\n",
    "**Example 3:**\n",
    ">**Input:** nums = [0,0,0,1,0,1,1,0], k = 3<br>\n",
    ">**Output:** 3<br>\n",
    ">**Explanation:** <br>\n",
    ">Flip nums[0],nums[1],nums[2]: nums becomes [1,1,1,1,0,1,1,0]<br>\n",
    ">Flip nums[4],nums[5],nums[6]: nums becomes [1,1,1,1,1,0,0,0]<br>\n",
    ">Flip nums[5],nums[6],nums[7]: nums becomes [1,1,1,1,1,1,1,1]\n",
    "\n",
    "<br>\n",
    "\n",
    "**Constraints:**\n",
    "- >1 <= nums.length <= 10<sup>5</sup>\n",
    "- >1 <= k <= nums.length"
   ]
  },
  {
   "cell_type": "code",
   "execution_count": 1,
   "metadata": {},
   "outputs": [],
   "source": [
    "class Solution:\n",
    "    def minKBitFlips(self, nums: list[int], k: int) -> int:\n",
    "        n = len(nums)\n",
    "        flip = [0] * n\n",
    "        flips = 0\n",
    "        current_flip = 0\n",
    "        \n",
    "        for i in range(n):\n",
    "            if i >= k:\n",
    "                current_flip ^= flip[i - k]\n",
    "            \n",
    "            if nums[i] == current_flip:\n",
    "                if i + k > n:\n",
    "                    return -1\n",
    "                \n",
    "                flips += 1\n",
    "                current_flip ^= 1\n",
    "                flip[i] = 1\n",
    "                \n",
    "        return flips"
   ]
  }
 ],
 "metadata": {
  "kernelspec": {
   "display_name": "base",
   "language": "python",
   "name": "python3"
  },
  "language_info": {
   "codemirror_mode": {
    "name": "ipython",
    "version": 3
   },
   "file_extension": ".py",
   "mimetype": "text/x-python",
   "name": "python",
   "nbconvert_exporter": "python",
   "pygments_lexer": "ipython3",
   "version": "3.9.16"
  }
 },
 "nbformat": 4,
 "nbformat_minor": 2
}

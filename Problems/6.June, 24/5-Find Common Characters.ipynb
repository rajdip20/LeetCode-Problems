{
 "cells": [
  {
   "cell_type": "markdown",
   "metadata": {},
   "source": [
    "Given a string array `words`, return *an array of all characters that show up in all strings within the* `words` *(including duplicates)*. You may return the answer in **any order**.\n",
    "\n",
    "<br>\n",
    "\n",
    "**Example 1:**\n",
    ">**Input:** words = [\"bella\",\"label\",\"roller\"]<br>\n",
    ">**Output:** [\"e\",\"l\",\"l\"]\n",
    "\n",
    "**Example 2:**\n",
    ">**Input:** words = [\"cool\",\"lock\",\"cook\"]<br>\n",
    ">**Output:** [\"c\",\"o\"]\n",
    "\n",
    "<br>\n",
    "\n",
    "**Constraints:**\n",
    "- >1 <= words.length <= 100\n",
    "- >1 <= words[i].length <= 100\n",
    "- >words[i] consists of lowercase English letters."
   ]
  },
  {
   "cell_type": "code",
   "execution_count": 1,
   "metadata": {},
   "outputs": [],
   "source": [
    "class Solution:\n",
    "    def commonChars(self, words: list[str]) -> list[str]:\n",
    "        from collections import Counter\n",
    "        import string\n",
    "\n",
    "\n",
    "        min_freq = {char: float('inf') for char in string.ascii_lowercase}\n",
    "    \n",
    "        for word in words:\n",
    "            word_count = Counter(word)\n",
    "            for char in min_freq:\n",
    "                min_freq[char] = min(min_freq[char], word_count[char])\n",
    "        \n",
    "        result = []\n",
    "        for char, freq in min_freq.items():\n",
    "            result.extend([char] * freq)\n",
    "        \n",
    "        return result"
   ]
  }
 ],
 "metadata": {
  "kernelspec": {
   "display_name": "base",
   "language": "python",
   "name": "python3"
  },
  "language_info": {
   "codemirror_mode": {
    "name": "ipython",
    "version": 3
   },
   "file_extension": ".py",
   "mimetype": "text/x-python",
   "name": "python",
   "nbconvert_exporter": "python",
   "pygments_lexer": "ipython3",
   "version": "3.9.16"
  }
 },
 "nbformat": 4,
 "nbformat_minor": 2
}

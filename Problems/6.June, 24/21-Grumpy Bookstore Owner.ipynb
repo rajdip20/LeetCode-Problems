{
 "cells": [
  {
   "cell_type": "markdown",
   "metadata": {},
   "source": [
    "There is a bookstore owner that has a store open for `n` minutes. Every minute, some number of customers enter the store. You are given an integer array `customers` of length `n` where `customers[i]` is the number of the customer that enters the store at the start of the **i<sup>th</sup>** minute and all those customers leave after the end of that minute.\n",
    "\n",
    "On some minutes, the bookstore owner is grumpy. You are given a binary array grumpy where `grumpy[i]` is `1` if the bookstore owner is grumpy during the **i<sup>th</sup>** minute, and is `0` otherwise.\n",
    "\n",
    "When the bookstore owner is grumpy, the customers of that minute are not satisfied, otherwise, they are satisfied.\n",
    "\n",
    "The bookstore owner knows a secret technique to keep themselves not grumpy for `minutes` consecutive minutes, but can only use it once.\n",
    "\n",
    "Return *the maximum number of customers that can be satisfied throughout the day*.\n",
    "\n",
    "<br>\n",
    "\n",
    "**Example 1:**\n",
    ">**Input:** customers = [1,0,1,2,1,1,7,5], grumpy = [0,1,0,1,0,1,0,1], minutes = 3<br>\n",
    ">**Output:** 16<br>\n",
    ">**Explanation:** The bookstore owner keeps themselves not grumpy for the last 3 minutes. <br>\n",
    ">The maximum number of customers that can be satisfied = 1 + 1 + 1 + 1 + 7 + 5 = 16.\n",
    "\n",
    "**Example 2:**\n",
    ">**Input:** customers = [1], grumpy = [0], minutes = 1<br>\n",
    ">**Output:** 1\n",
    "\n",
    "<br>\n",
    "\n",
    "**Constraints:**\n",
    "- >n == customers.length == grumpy.length\n",
    "- >1 <= minutes <= n <= 2 * 10<sup>4</sup>\n",
    "- >0 <= customers[i] <= 1000\n",
    "- >grumpy[i] is either 0 or 1."
   ]
  },
  {
   "cell_type": "code",
   "execution_count": 1,
   "metadata": {},
   "outputs": [],
   "source": [
    "class Solution:\n",
    "    def maxSatisfied(self, customers: list[int], grumpy: list[int], minutes: int) -> int:\n",
    "        n = len(customers)\n",
    "        total_satisfied = 0\n",
    "        \n",
    "        for i in range(n):\n",
    "            if grumpy[i] == 0:\n",
    "                total_satisfied += customers[i]\n",
    "\n",
    "        additional_satisfied = 0\n",
    "        current_window_addition = 0\n",
    "        \n",
    "        for i in range(minutes):\n",
    "            if grumpy[i] == 1:\n",
    "                current_window_addition += customers[i]\n",
    "        \n",
    "        additional_satisfied = current_window_addition\n",
    "\n",
    "        for i in range(minutes, n):\n",
    "            if grumpy[i] == 1:\n",
    "                current_window_addition += customers[i]\n",
    "            if grumpy[i - minutes] == 1:\n",
    "                current_window_addition -= customers[i - minutes]\n",
    "            \n",
    "            additional_satisfied = max(additional_satisfied, current_window_addition)\n",
    "\n",
    "        return total_satisfied + additional_satisfied"
   ]
  }
 ],
 "metadata": {
  "kernelspec": {
   "display_name": "base",
   "language": "python",
   "name": "python3"
  },
  "language_info": {
   "codemirror_mode": {
    "name": "ipython",
    "version": 3
   },
   "file_extension": ".py",
   "mimetype": "text/x-python",
   "name": "python",
   "nbconvert_exporter": "python",
   "pygments_lexer": "ipython3",
   "version": "3.9.16"
  }
 },
 "nbformat": 4,
 "nbformat_minor": 2
}

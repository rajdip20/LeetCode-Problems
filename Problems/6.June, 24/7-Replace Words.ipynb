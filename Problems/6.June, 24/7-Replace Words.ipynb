{
 "cells": [
  {
   "cell_type": "markdown",
   "metadata": {},
   "source": [
    "In English, we have a concept called **root**, which can be followed by some other word to form another longer word - let's call this word **derivative**. For example, when the **root** `\"help\"` is followed by the word `\"ful\"`, we can form a derivative `\"helpful\"`.\n",
    "\n",
    "Given a `dictionary` consisting of many **roots** and a `sentence` consisting of words separated by spaces, replace all the derivatives in the sentence with the **root** forming it. If a derivative can be replaced by more than one **root**, replace it with the **root** that has **the shortest length**.\n",
    "\n",
    "Return *the* *`sentence`* *after the replacement*.\n",
    "\n",
    "<br>\n",
    "\n",
    "**Example 1:**\n",
    ">**Input:** dictionary = [\"cat\",\"bat\",\"rat\"], sentence = \"the cattle was rattled by the battery\"<br>\n",
    ">**Output:** \"the cat was rat by the bat\"\n",
    "\n",
    "**Example 2:**\n",
    ">**Input:** dictionary = [\"a\",\"b\",\"c\"], sentence = \"aadsfasf absbs bbab cadsfafs\"<br>\n",
    ">**Output:** \"a a b c\"\n",
    "\n",
    "<br>\n",
    "\n",
    "**Constraints:**\n",
    "- >1 <= dictionary.length <= 1000\n",
    "- >1 <= dictionary[i].length <= 100\n",
    "- >dictionary[i] consists of only lower-case letters.\n",
    "- >1 <= sentence.length <= 10<sup>6</sup>\n",
    "- >sentence consists of only lower-case letters and spaces.\n",
    "- >The number of words in sentence is in the range [1, 1000]\n",
    "- >The length of each word in sentence is in the range [1, 1000]\n",
    "- >Every two consecutive words in sentence will be separated by exactly one space.\n",
    "- >sentence does not have leading or trailing spaces."
   ]
  },
  {
   "cell_type": "code",
   "execution_count": 1,
   "metadata": {},
   "outputs": [],
   "source": [
    "class Solution:\n",
    "    def replaceWords(self, dictionary: list[str], sentence: str) -> str:\n",
    "        roots = set(dictionary)\n",
    "        words = sentence.split()\n",
    "        result = []\n",
    "\n",
    "        for word in words:\n",
    "            for i in range(len(word) + 1):\n",
    "                prefix = word[:i]\n",
    "                if prefix in roots:\n",
    "                    result.append(prefix)\n",
    "                    break\n",
    "            else:\n",
    "                result.append(word)\n",
    "\n",
    "        return ' '.join(result)"
   ]
  }
 ],
 "metadata": {
  "kernelspec": {
   "display_name": "base",
   "language": "python",
   "name": "python3"
  },
  "language_info": {
   "codemirror_mode": {
    "name": "ipython",
    "version": 3
   },
   "file_extension": ".py",
   "mimetype": "text/x-python",
   "name": "python",
   "nbconvert_exporter": "python",
   "pygments_lexer": "ipython3",
   "version": "3.9.16"
  }
 },
 "nbformat": 4,
 "nbformat_minor": 2
}

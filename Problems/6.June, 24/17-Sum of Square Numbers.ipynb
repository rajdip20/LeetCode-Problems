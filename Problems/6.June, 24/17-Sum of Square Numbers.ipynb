{
 "cells": [
  {
   "cell_type": "markdown",
   "metadata": {},
   "source": [
    "Given a non-negative integer `c`, decide whether there're two integers `a` and `b` such that **a<sup>2</sup> + b<sup>2</sup> = c**.\n",
    "\n",
    "<br>\n",
    "\n",
    "**Example 1:**\n",
    ">**Input:** c = 5<br>\n",
    ">**Output:** true<br>\n",
    ">**Explanation:** 1 * 1 + 2 * 2 = 5\n",
    "\n",
    "**Example 2:**\n",
    ">**Input:** c = 3<br>\n",
    ">**Output:** false\n",
    "\n",
    "<br>\n",
    "\n",
    "**Constraints:**\n",
    "- >0 <= c <= 2<sup>31</sup> - 1"
   ]
  },
  {
   "cell_type": "code",
   "execution_count": 1,
   "metadata": {},
   "outputs": [],
   "source": [
    "class Solution:\n",
    "    def judgeSquareSum(self, c: int) -> bool:\n",
    "        import math\n",
    "\n",
    "        a = 0\n",
    "        b = int(math.sqrt(c))\n",
    "        \n",
    "        while a <= b:\n",
    "            current_sum = a * a + b * b\n",
    "            if current_sum == c:\n",
    "                return True\n",
    "            elif current_sum < c:\n",
    "                a += 1\n",
    "            else:\n",
    "                b -= 1\n",
    "        \n",
    "        return False"
   ]
  }
 ],
 "metadata": {
  "kernelspec": {
   "display_name": "base",
   "language": "python",
   "name": "python3"
  },
  "language_info": {
   "codemirror_mode": {
    "name": "ipython",
    "version": 3
   },
   "file_extension": ".py",
   "mimetype": "text/x-python",
   "name": "python",
   "nbconvert_exporter": "python",
   "pygments_lexer": "ipython3",
   "version": "3.9.16"
  }
 },
 "nbformat": 4,
 "nbformat_minor": 2
}

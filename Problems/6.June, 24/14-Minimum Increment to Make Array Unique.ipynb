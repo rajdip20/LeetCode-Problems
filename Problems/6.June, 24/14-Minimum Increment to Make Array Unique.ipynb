{
 "cells": [
  {
   "cell_type": "markdown",
   "metadata": {},
   "source": [
    "You are given an integer array `nums`. In one move, you can pick an index `i` where `0 <= i < nums.length` and increment `nums[i]` by `1`.\n",
    "\n",
    "Return *the minimum number of moves to make every value in* `nums` ***unique***.\n",
    "\n",
    "The test cases are generated so that the answer fits in a 32-bit integer.\n",
    "\n",
    "<br>\n",
    "\n",
    "**Example 1:**\n",
    ">**Input:** nums = [1,2,2]<br>\n",
    ">**Output:** 1<br>\n",
    ">**Explanation:** After 1 move, the array could be [1, 2, 3].\n",
    "\n",
    "**Example 2:**\n",
    ">**Input:** nums = [3,2,1,2,1,7]<br>\n",
    ">**Output:** 6<br>\n",
    ">**Explanation:** After 6 moves, the array could be [3, 4, 1, 2, 5, 7].<br>\n",
    ">It can be shown with 5 or less moves that it is impossible for the array to have all unique values.\n",
    "\n",
    "<br>\n",
    "\n",
    "**Constraints:**\n",
    "- >1 <= nums.length <= 10<sup>5</sup>\n",
    "- >0 <= nums[i] <= 10<sup>5</sup>"
   ]
  },
  {
   "cell_type": "code",
   "execution_count": 1,
   "metadata": {},
   "outputs": [],
   "source": [
    "class Solution:\n",
    "    def minIncrementForUnique(self, nums: list[int]) -> int:\n",
    "        nums.sort()\n",
    "        moves = 0\n",
    "        \n",
    "        for i in range(1, len(nums)):\n",
    "            if nums[i] <= nums[i - 1]:\n",
    "                increment = nums[i - 1] + 1 - nums[i]\n",
    "                nums[i] += increment\n",
    "                moves += increment\n",
    "        \n",
    "        return moves"
   ]
  }
 ],
 "metadata": {
  "kernelspec": {
   "display_name": "base",
   "language": "python",
   "name": "python3"
  },
  "language_info": {
   "codemirror_mode": {
    "name": "ipython",
    "version": 3
   },
   "file_extension": ".py",
   "mimetype": "text/x-python",
   "name": "python",
   "nbconvert_exporter": "python",
   "pygments_lexer": "ipython3",
   "version": "3.9.16"
  }
 },
 "nbformat": 4,
 "nbformat_minor": 2
}

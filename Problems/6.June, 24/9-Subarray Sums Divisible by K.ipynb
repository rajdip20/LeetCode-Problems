{
 "cells": [
  {
   "cell_type": "markdown",
   "metadata": {},
   "source": [
    "Given an integer array `nums` and an integer `k`, return *the number of non-empty ***subarrays*** that have a sum divisible by* `k`.\n",
    "\n",
    "A **subarray** is a **contiguous** part of an array.\n",
    "\n",
    "<br>\n",
    "\n",
    "**Example 1:**\n",
    ">**Input:** nums = [4,5,0,-2,-3,1], k = 5<br>\n",
    ">**Output:** 7<br>\n",
    ">**Explanation:** There are 7 subarrays with a sum divisible by k = 5:<br>\n",
    ">[4, 5, 0, -2, -3, 1], [5], [5, 0], [5, 0, -2, -3], [0], [0, -2, -3], [-2, -3]\n",
    "\n",
    "**Example 2:**\n",
    ">**Input:** nums = [5], k = 9<br>\n",
    ">**Output:** 0\n",
    "\n",
    "\n",
    "\n",
    "**Constraints:**\n",
    "- >1 <= nums.length <= 3 * 10<sup>4</sup>\n",
    "- >-10<sup>4</sup> <= nums[i] <= 10<sup>4</sup>\n",
    "- >2 <= k <= 10<sup>4</sup>"
   ]
  },
  {
   "cell_type": "code",
   "execution_count": 1,
   "metadata": {},
   "outputs": [],
   "source": [
    "class Solution:\n",
    "    def subarraysDivByK(self, nums: list[int], k: int) -> int:\n",
    "        remainder_count = {0: 1}\n",
    "        prefix_sum = 0\n",
    "        count = 0\n",
    "        \n",
    "        for num in nums:\n",
    "            prefix_sum += num\n",
    "            remainder = prefix_sum % k\n",
    "            \n",
    "            if remainder < 0:\n",
    "                remainder += k\n",
    "            \n",
    "            if remainder in remainder_count:\n",
    "                count += remainder_count[remainder]\n",
    "            \n",
    "            if remainder in remainder_count:\n",
    "                remainder_count[remainder] += 1\n",
    "            else:\n",
    "                remainder_count[remainder] = 1\n",
    "        \n",
    "        return count"
   ]
  }
 ],
 "metadata": {
  "kernelspec": {
   "display_name": "base",
   "language": "python",
   "name": "python3"
  },
  "language_info": {
   "codemirror_mode": {
    "name": "ipython",
    "version": 3
   },
   "file_extension": ".py",
   "mimetype": "text/x-python",
   "name": "python",
   "nbconvert_exporter": "python",
   "pygments_lexer": "ipython3",
   "version": "3.9.16"
  }
 },
 "nbformat": 4,
 "nbformat_minor": 2
}

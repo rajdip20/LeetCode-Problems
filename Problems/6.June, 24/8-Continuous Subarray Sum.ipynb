{
 "cells": [
  {
   "cell_type": "markdown",
   "metadata": {},
   "source": [
    "Given an integer array nums and an integer k, return `true` *if* `nums` *has a good subarray or* `false` *otherwise*.\n",
    "\n",
    "A **good subarray** is a subarray where:\n",
    "- its length is **at least two**, and\n",
    "- the sum of the elements of the subarray is a multiple of `k`.\n",
    "\n",
    "**Note** that:\n",
    "- A **subarray** is a contiguous part of the array.\n",
    "- An integer `x` is a multiple of `k` if there exists an integer `n` such that `x = n * k`. `0` is **always** a multiple of `k`.\n",
    "\n",
    "<br>\n",
    "\n",
    "**Example 1:**\n",
    ">**Input:** nums = [23,2,4,6,7], k = 6<br>\n",
    ">**Output:** true<br>\n",
    ">**Explanation:** [2, 4] is a continuous subarray of size 2 whose elements sum up to 6.\n",
    "\n",
    "**Example 2:**\n",
    ">**Input:** nums = [23,2,6,4,7], k = 6<br>\n",
    ">**Output:** true<br>\n",
    ">**Explanation:** [23, 2, 6, 4, 7] is an continuous subarray of size 5 whose elements sum up to 42.<br>\n",
    ">42 is a multiple of 6 because 42 = 7 * 6 and 7 is an integer.\n",
    "\n",
    "**Example 3:**\n",
    ">**Input:** nums = [23,2,6,4,7], k = 13<br>\n",
    ">**Output:** false\n",
    "\n",
    "<br>\n",
    "\n",
    "**Constraints:**\n",
    "- >1 <= nums.length <= 10<sup>5</sup>\n",
    "- >0 <= nums[i] <= 10<sup>9</sup>\n",
    "- >0 <= sum(nums[i]) <= 2<sup>31</sup> - 1\n",
    "- >1 <= k <= 2<sup>31</sup> - 1"
   ]
  },
  {
   "cell_type": "code",
   "execution_count": 1,
   "metadata": {},
   "outputs": [],
   "source": [
    "class Solution:\n",
    "    def checkSubarraySum(self, nums: list[int], k: int) -> bool:\n",
    "        remainder_map = {0: -1}\n",
    "        cumulative_sum = 0\n",
    "        \n",
    "        for i in range(len(nums)):\n",
    "            cumulative_sum += nums[i]\n",
    "            remainder = cumulative_sum % k\n",
    "            \n",
    "            if remainder in remainder_map:\n",
    "                if i - remainder_map[remainder] > 1:\n",
    "                    return True\n",
    "            else:\n",
    "                remainder_map[remainder] = i\n",
    "                \n",
    "        return False"
   ]
  }
 ],
 "metadata": {
  "kernelspec": {
   "display_name": "base",
   "language": "python",
   "name": "python3"
  },
  "language_info": {
   "codemirror_mode": {
    "name": "ipython",
    "version": 3
   },
   "file_extension": ".py",
   "mimetype": "text/x-python",
   "name": "python",
   "nbconvert_exporter": "python",
   "pygments_lexer": "ipython3",
   "version": "3.9.16"
  }
 },
 "nbformat": 4,
 "nbformat_minor": 2
}

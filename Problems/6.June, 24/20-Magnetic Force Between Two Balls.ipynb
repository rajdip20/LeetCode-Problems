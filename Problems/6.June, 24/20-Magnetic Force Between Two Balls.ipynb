{
 "cells": [
  {
   "cell_type": "markdown",
   "metadata": {},
   "source": [
    "In the universe Earth C-137, Rick discovered a special form of magnetic force between two balls if they are put in his new invented basket. Rick has `n` empty baskets, the **i<sup>th</sup>** basket is at `position[i]`, Morty has `m` balls and needs to distribute the balls into the baskets such that the **minimum magnetic force** between any two balls is **maximum**.\n",
    "\n",
    "Rick stated that magnetic force between two different balls at positions `x` and `y` is `|x - y|`.\n",
    "\n",
    "Given the integer array `position` and the integer `m`. Return *the required force*.\n",
    "\n",
    "<br>\n",
    "\n",
    "**Example 1:**\n",
    "\n",
    "![q3v1](../../images/q3v1.jpg)\n",
    "\n",
    ">**Input:** position = [1,2,3,4,7], m = 3<br>\n",
    ">**Output:** 3<br>\n",
    ">**Explanation:** Distributing the 3 balls into baskets 1, 4 and 7 will make the magnetic force between ball pairs [3, 3, 6]. The minimum magnetic force is 3. We cannot achieve a larger minimum magnetic force than 3.\n",
    "\n",
    "**Example 2:**\n",
    ">**Input:** position = [5,4,3,2,1,1000000000], m = 2<br>\n",
    ">**Output:** 999999999<br>\n",
    ">**Explanation:** We can use baskets 1 and 1000000000.\n",
    "\n",
    "<br>\n",
    "\n",
    "**Constraints:**\n",
    "- >n == position.length\n",
    "- >2 <= n <= 10<sup>5</sup>\n",
    "- >1 <= position[i] <= 10<sup>9</sup>\n",
    "- >All integers in position are **distinct**.\n",
    "- >2 <= m <= position.length"
   ]
  },
  {
   "cell_type": "code",
   "execution_count": 1,
   "metadata": {},
   "outputs": [],
   "source": [
    "class Solution:\n",
    "    def maxDistance(self, position: list[int], m: int) -> int:\n",
    "        def canPlaceBalls(d):\n",
    "            count = 1\n",
    "            last_position = position[0]\n",
    "            \n",
    "            for i in range(1, len(position)):\n",
    "                if position[i] - last_position >= d:\n",
    "                    count += 1\n",
    "                    last_position = position[i]\n",
    "                if count >= m:\n",
    "                    return True\n",
    "            return False\n",
    "\n",
    "        position.sort()\n",
    "        left, right = 1, position[-1] - position[0]\n",
    "        \n",
    "        while left <= right:\n",
    "            mid = (left + right) // 2\n",
    "            if canPlaceBalls(mid):\n",
    "                left = mid + 1\n",
    "            else:\n",
    "                right = mid - 1\n",
    "        \n",
    "        return right"
   ]
  }
 ],
 "metadata": {
  "kernelspec": {
   "display_name": "base",
   "language": "python",
   "name": "python3"
  },
  "language_info": {
   "codemirror_mode": {
    "name": "ipython",
    "version": 3
   },
   "file_extension": ".py",
   "mimetype": "text/x-python",
   "name": "python",
   "nbconvert_exporter": "python",
   "pygments_lexer": "ipython3",
   "version": "3.9.16"
  }
 },
 "nbformat": 4,
 "nbformat_minor": 2
}

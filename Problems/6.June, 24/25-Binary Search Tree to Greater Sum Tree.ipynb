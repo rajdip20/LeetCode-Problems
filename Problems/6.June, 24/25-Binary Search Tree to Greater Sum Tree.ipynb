{
 "cells": [
  {
   "cell_type": "markdown",
   "metadata": {},
   "source": [
    "Given the `root` of a Binary Search Tree (BST), convert it to a Greater Tree such that every key of the original BST is changed to the original key plus the sum of all keys greater than the original key in BST.\n",
    "\n",
    "As a reminder, a *binary search tree* is a tree that satisfies these constraints:\n",
    "- The left subtree of a node contains only nodes with keys **less than** the node's key.\n",
    "- The right subtree of a node contains only nodes with keys **greater than** the node's key.\n",
    "- Both the left and right subtrees must also be binary search trees.\n",
    "\n",
    "<br>\n",
    "\n",
    "**Example 1:**\n",
    "\n",
    "![tree](../../images/tree4.png)\n",
    "\n",
    ">**Input:** root = [4,1,6,0,2,5,7,null,null,null,3,null,null,null,8]<br>\n",
    ">**Output:** [30,36,21,36,35,26,15,null,null,null,33,null,null,null,8]\n",
    "\n",
    "**Example 2:**\n",
    ">**Input:** root = [0,null,1]<br>\n",
    ">**Output:** [1,null,1]\n",
    "\n",
    "<br>\n",
    "\n",
    "**Constraints:**\n",
    "- >The number of nodes in the tree is in the range [1, 100].\n",
    "- >0 <= Node.val <= 100\n",
    "- >All the values in the tree are **unique**.\n",
    " \n",
    "\n",
    "**Note:** This question is the same as 538: https://leetcode.com/problems/convert-bst-to-greater-tree/"
   ]
  },
  {
   "cell_type": "code",
   "execution_count": 1,
   "metadata": {},
   "outputs": [],
   "source": [
    "# Definition for a binary tree node.\n",
    "# class TreeNode:\n",
    "#     def __init__(self, val=0, left=None, right=None):\n",
    "#         self.val = val\n",
    "#         self.left = left\n",
    "#         self.right = right\n",
    "class Solution:\n",
    "    def bstToGst(self, root):\n",
    "        acc = 0\n",
    "    \n",
    "        def reverse_in_order(node):\n",
    "            nonlocal acc\n",
    "            if node is None:\n",
    "                return\n",
    "            \n",
    "            reverse_in_order(node.right)\n",
    "            \n",
    "            acc += node.val\n",
    "            node.val = acc\n",
    "            \n",
    "            reverse_in_order(node.left)\n",
    "        \n",
    "        reverse_in_order(root)\n",
    "        return root"
   ]
  }
 ],
 "metadata": {
  "kernelspec": {
   "display_name": "base",
   "language": "python",
   "name": "python3"
  },
  "language_info": {
   "codemirror_mode": {
    "name": "ipython",
    "version": 3
   },
   "file_extension": ".py",
   "mimetype": "text/x-python",
   "name": "python",
   "nbconvert_exporter": "python",
   "pygments_lexer": "ipython3",
   "version": "3.9.16"
  }
 },
 "nbformat": 4,
 "nbformat_minor": 2
}

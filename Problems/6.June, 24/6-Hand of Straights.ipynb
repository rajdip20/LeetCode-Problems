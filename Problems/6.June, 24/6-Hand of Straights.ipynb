{
 "cells": [
  {
   "cell_type": "markdown",
   "metadata": {},
   "source": [
    "Alice has some number of cards and she wants to rearrange the cards into groups so that each group is of size `groupSize`, and consists of `groupSize` consecutive cards.\n",
    "\n",
    "Given an integer array `hand` where `hand[i]` is the value written on the **i<sup>th</sup>** card and an integer `groupSize`, return `true` if she can rearrange the cards, or `false` otherwise.\n",
    "\n",
    "<br>\n",
    "\n",
    "**Example 1:**\n",
    ">**Input:** hand = [1,2,3,6,2,3,4,7,8], groupSize = 3<br>\n",
    ">**Output:** true<br>\n",
    ">**Explanation:** Alice's hand can be rearranged as [1,2,3],[2,3,4],[6,7,8]\n",
    "\n",
    "**Example 2:**\n",
    ">**Input:** hand = [1,2,3,4,5], groupSize = 4<br>\n",
    ">**Output:** false<br>\n",
    ">**Explanation:** Alice's hand can not be rearranged into groups of 4.\n",
    "\n",
    "<br>\n",
    "\n",
    "**Constraints:**\n",
    "- >1 <= hand.length <= 10<sup>4</sup>\n",
    "- >0 <= hand[i] <= 10<sup>9</sup>\n",
    "- >1 <= groupSize <= hand.length\n",
    "\n",
    "<br><br>\n",
    "\n",
    "**Note:** This question is the same as 1296: https://leetcode.com/problems/divide-array-in-sets-of-k-consecutive-numbers/"
   ]
  },
  {
   "cell_type": "code",
   "execution_count": 1,
   "metadata": {},
   "outputs": [],
   "source": [
    "class Solution:\n",
    "    def isNStraightHand(self, hand: list[int], groupSize: int) -> bool:\n",
    "        from collections import Counter\n",
    "        \n",
    "        if len(hand) % groupSize != 0:\n",
    "            return False\n",
    "        \n",
    "        count = Counter(hand)\n",
    "        sorted_cards = sorted(count)\n",
    "        \n",
    "        for card in sorted_cards:\n",
    "            if count[card] > 0:\n",
    "                needed = count[card]\n",
    "                for i in range(groupSize):\n",
    "                    if count[card + i] < needed:\n",
    "                        return False\n",
    "                    count[card + i] -= needed\n",
    "                    \n",
    "        return True"
   ]
  }
 ],
 "metadata": {
  "kernelspec": {
   "display_name": "base",
   "language": "python",
   "name": "python3"
  },
  "language_info": {
   "codemirror_mode": {
    "name": "ipython",
    "version": 3
   },
   "file_extension": ".py",
   "mimetype": "text/x-python",
   "name": "python",
   "nbconvert_exporter": "python",
   "pygments_lexer": "ipython3",
   "version": "3.9.16"
  }
 },
 "nbformat": 4,
 "nbformat_minor": 2
}

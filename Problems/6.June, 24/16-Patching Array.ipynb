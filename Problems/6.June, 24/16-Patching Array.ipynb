{
 "cells": [
  {
   "cell_type": "markdown",
   "metadata": {},
   "source": [
    "Given a sorted integer array `nums` and an integer `n`, add/patch elements to the array such that any number in the range `[1, n]` inclusive can be formed by the sum of some elements in the array.\n",
    "\n",
    "Return *the minimum number of patches required*.\n",
    "\n",
    "<br>\n",
    "\n",
    "**Example 1:**\n",
    ">**Input:** nums = [1,3], n = 6<br>\n",
    ">**Output:** 1<br>\n",
    ">**Explanation:**<br>\n",
    ">Combinations of nums are [1], [3], [1,3], which form possible sums of: 1, 3, 4.<br>\n",
    ">Now if we add/patch 2 to nums, the combinations are: [1], [2], [3], [1,3], [2,3], [1,2,3].<br>\n",
    ">Possible sums are 1, 2, 3, 4, 5, 6, which now covers the range [1, 6].<br>\n",
    ">So we only need 1 patch.\n",
    "\n",
    "**Example 2:**\n",
    ">**Input:** nums = [1,5,10], n = 20<br>\n",
    ">**Output:** 2<br>\n",
    ">**Explanation:** The two patches can be [2, 4].\n",
    "\n",
    "**Example 3:**\n",
    ">**Input:** nums = [1,2,2], n = 5<br>\n",
    ">**Output:** 0\n",
    "\n",
    "<br>\n",
    "\n",
    "**Constraints:**\n",
    "- >1 <= nums.length <= 1000\n",
    "- >1 <= nums[i] <= 10<sup>4</sup>\n",
    "- >nums is sorted in **ascending order**.\n",
    "- >1 <= n <= 2<sup>31</sup> - 1"
   ]
  },
  {
   "cell_type": "code",
   "execution_count": 1,
   "metadata": {},
   "outputs": [],
   "source": [
    "class Solution:\n",
    "    def minPatches(self, nums: list[int], n: int) -> int:\n",
    "        patches = 0\n",
    "        miss = 1\n",
    "        i = 0\n",
    "        \n",
    "        while miss <= n:\n",
    "            if i < len(nums) and nums[i] <= miss:\n",
    "                miss += nums[i]\n",
    "                i += 1\n",
    "            else:\n",
    "                miss += miss\n",
    "                patches += 1\n",
    "        \n",
    "        return patches"
   ]
  }
 ],
 "metadata": {
  "kernelspec": {
   "display_name": "base",
   "language": "python",
   "name": "python3"
  },
  "language_info": {
   "codemirror_mode": {
    "name": "ipython",
    "version": 3
   },
   "file_extension": ".py",
   "mimetype": "text/x-python",
   "name": "python",
   "nbconvert_exporter": "python",
   "pygments_lexer": "ipython3",
   "version": "3.9.16"
  }
 },
 "nbformat": 4,
 "nbformat_minor": 2
}

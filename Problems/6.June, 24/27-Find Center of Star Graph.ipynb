{
 "cells": [
  {
   "cell_type": "markdown",
   "metadata": {},
   "source": [
    "There is an undirected **star** graph consisting of `n` nodes labeled from `1` to `n`. A star graph is a graph where there is one **center** node and **exactly** `n - 1` edges that connect the center node with every other node.\n",
    "\n",
    "You are given a 2D integer array `edges` where each **edges[i] = [u<sup>i</sup>, v<sup>i</sup>]** indicates that there is an edge between the nodes **u<sup>i</sup>** and **v<sup>i</sup>**. Return the center of the given star graph.\n",
    "\n",
    "<br>\n",
    "\n",
    "**Example 1:**\n",
    "![star_graph](../../images/star_graph.png)\n",
    "\n",
    ">**Input:** edges = [[1,2],[2,3],[4,2]]<br>\n",
    ">**Output:** 2<br>\n",
    ">**Explanation:** As shown in the figure above, node 2 is connected to every other node, so 2 is the center.\n",
    "\n",
    "**Example 2:**\n",
    ">**Input:** edges = [[1,2],[5,1],[1,3],[1,4]]<br>\n",
    ">**Output:** 1\n",
    "\n",
    "<br>\n",
    "\n",
    "**Constraints:**\n",
    "- >3 <= n <= 10<sup>5</sup>\n",
    "- >edges.length == n - 1\n",
    "- >edges[i].length == 2\n",
    "- >1 <= u<sub>i</sub>, v<sub>i</sub> <= n\n",
    "- >u<sub>i</sub> != v<sub>i</sub>\n",
    "- >The given edges represent a valid star graph."
   ]
  },
  {
   "cell_type": "code",
   "execution_count": 1,
   "metadata": {},
   "outputs": [],
   "source": [
    "class Solution:\n",
    "    def findCenter(self, edges: list[list[int]]) -> int:\n",
    "        if edges[0][0] == edges[1][0] or edges[0][0] == edges[1][1]:\n",
    "            return edges[0][0]\n",
    "        else:\n",
    "            return edges[0][1]"
   ]
  }
 ],
 "metadata": {
  "kernelspec": {
   "display_name": "base",
   "language": "python",
   "name": "python3"
  },
  "language_info": {
   "codemirror_mode": {
    "name": "ipython",
    "version": 3
   },
   "file_extension": ".py",
   "mimetype": "text/x-python",
   "name": "python",
   "nbconvert_exporter": "python",
   "pygments_lexer": "ipython3",
   "version": "3.9.16"
  }
 },
 "nbformat": 4,
 "nbformat_minor": 2
}

{
 "cells": [
  {
   "cell_type": "markdown",
   "metadata": {},
   "source": [
    "Given a string `s` which consists of lowercase or uppercase letters, return the length of the **longest** palindrome that can be built with those letters.\n",
    "\n",
    "Letters are **case sensitive**, for example, `\"Aa\"` is not considered a palindrome.\n",
    "\n",
    "<br>\n",
    "\n",
    "**Example 1:**\n",
    ">**Input:** s = \"abccccdd\"<br>\n",
    ">**Output:** 7<br>\n",
    ">**Explanation:** One longest palindrome that can be built is \"dccaccd\", whose length is 7.\n",
    "\n",
    "**Example 2:**\n",
    ">**Input:** s = \"a\"<br>\n",
    ">**Output:** 1<br>\n",
    ">**Explanation:** The longest palindrome that can be built is \"a\", whose length is 1.\n",
    "\n",
    "<br>\n",
    "\n",
    "**Constraints:**\n",
    "- >1 <= s.length <= 2000\n",
    "- >s consists of lowercase **and/or** uppercase English letters only."
   ]
  },
  {
   "cell_type": "code",
   "execution_count": 1,
   "metadata": {},
   "outputs": [],
   "source": [
    "class Solution:\n",
    "    def longestPalindrome(self, s: str) -> int:\n",
    "        from collections import Counter\n",
    "\n",
    "        freq = Counter(s)\n",
    "        length = 0\n",
    "        odd_found = False\n",
    "        \n",
    "        for count in freq.values():\n",
    "            length += count // 2 * 2\n",
    "            if count % 2 == 1:\n",
    "                odd_found = True\n",
    "        \n",
    "        if odd_found:\n",
    "            length += 1\n",
    "        \n",
    "        return length"
   ]
  }
 ],
 "metadata": {
  "kernelspec": {
   "display_name": "base",
   "language": "python",
   "name": "python3"
  },
  "language_info": {
   "codemirror_mode": {
    "name": "ipython",
    "version": 3
   },
   "file_extension": ".py",
   "mimetype": "text/x-python",
   "name": "python",
   "nbconvert_exporter": "python",
   "pygments_lexer": "ipython3",
   "version": "3.9.16"
  }
 },
 "nbformat": 4,
 "nbformat_minor": 2
}

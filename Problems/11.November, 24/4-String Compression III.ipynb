{
 "cells": [
  {
   "cell_type": "markdown",
   "metadata": {},
   "source": [
    "Given a string `word`, compress it using the following algorithm:\n",
    "- Begin with an empty string `comp`. While `word` is **not** empty, use the following operation:\n",
    "    - Remove a maximum length prefix of `word` made of a single character `c` repeating **at most** 9 times.\n",
    "    - Append the length of the prefix followed by `c` to `comp`.\n",
    "\n",
    "Return the string `comp`.\n",
    "\n",
    "<br>\n",
    "\n",
    "**Example 1:**\n",
    ">**Input:** word = \"abcde\"<br>\n",
    ">**Output:** \"1a1b1c1d1e\"<br>\n",
    ">**Explanation:**<br>\n",
    ">Initially, `comp = \"\"`. Apply the operation 5 times, choosing `\"a\"`, `\"b\"`, `\"c\"`, `\"d\"`, and `\"e\"` as the prefix in each operation.<br>\n",
    ">For each prefix, append `\"1\"` followed by the character to `comp`.\n",
    "\n",
    "**Example 2:**\n",
    ">**Input:** word = \"aaaaaaaaaaaaaabb\"<br>\n",
    ">**Output:** \"9a5a2b\"<br>\n",
    ">**Explanation:**<br>\n",
    ">Initially, `comp = \"\"`. Apply the operation 3 times, choosing `\"aaaaaaaaa\"`, `\"aaaaa\"`, and `\"bb\"` as the prefix in each operation.<br>\n",
    ">For prefix `\"aaaaaaaaa\"`, append `\"9\"` followed by `\"a\"` to `comp`.<br>\n",
    ">For prefix `\"aaaaa\"`, append `\"5\"` followed by `\"a\"` to `comp`.<br>\n",
    ">For prefix `\"bb\"`, append `\"2\"` followed by `\"b\"` to `comp`.\n",
    "\n",
    "<br>\n",
    "\n",
    "**Constraints:**\n",
    "- >1 <= word.length <= 2 * 10<sup>5</sup>\n",
    "- >`word` consists only of lowercase English letters."
   ]
  },
  {
   "cell_type": "code",
   "execution_count": 1,
   "metadata": {},
   "outputs": [],
   "source": [
    "class Solution:\n",
    "    def compressedString(self, word: str) -> str:\n",
    "        comp = \"\"\n",
    "        i = 0\n",
    "\n",
    "        while i < len(word):\n",
    "            current_char = word[i]\n",
    "            count = 0\n",
    "\n",
    "            while i < len(word) and word[i] == current_char and count < 9:\n",
    "                count += 1\n",
    "                i += 1\n",
    "\n",
    "            comp += str(count) + current_char\n",
    "\n",
    "        return comp"
   ]
  }
 ],
 "metadata": {
  "kernelspec": {
   "display_name": "base",
   "language": "python",
   "name": "python3"
  },
  "language_info": {
   "codemirror_mode": {
    "name": "ipython",
    "version": 3
   },
   "file_extension": ".py",
   "mimetype": "text/x-python",
   "name": "python",
   "nbconvert_exporter": "python",
   "pygments_lexer": "ipython3",
   "version": "3.9.16"
  }
 },
 "nbformat": 4,
 "nbformat_minor": 2
}

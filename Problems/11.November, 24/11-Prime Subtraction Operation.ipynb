{
 "cells": [
  {
   "cell_type": "markdown",
   "metadata": {},
   "source": [
    "You are given a **0-indexed** integer array `nums` of length `n`.\n",
    "\n",
    "You can perform the following operation as many times as you want:\n",
    "- Pick an index `i` that you haven’t picked before, and pick a prime `p` **strictly less than** `nums[i]`, then subtract `p` from `nums[i]`.\n",
    "\n",
    "Return *true if you can make* `nums` *a strictly increasing array using the above operation and false otherwise*.\n",
    "\n",
    "A **strictly increasing array** is an array whose each element is strictly greater than its preceding element.\n",
    "\n",
    "<br>\n",
    "\n",
    "**Example 1:**\n",
    ">**Input:** nums = [4,9,6,10]<br>\n",
    ">**Output:** true<br>\n",
    ">**Explanation:** In the first operation: Pick i = 0 and p = 3, and then subtract 3 from nums[0], so that nums becomes [1,9,6,10].<br>\n",
    ">In the second operation: i = 1, p = 7, subtract 7 from nums[1], so nums becomes equal to [1,2,6,10].<br>\n",
    ">After the second operation, nums is sorted in strictly increasing order, so the answer is true.\n",
    "\n",
    "**Example 2:**\n",
    ">**Input:** nums = [6,8,11,12]<br>\n",
    ">**Output:** true<br>\n",
    ">**Explanation:** Initially nums is sorted in strictly increasing order, so we don't need to make any operations.\n",
    "\n",
    "**Example 3:**\n",
    ">**Input:** nums = [5,8,3]<br>\n",
    ">**Output:** false<br>\n",
    ">**Explanation:** It can be proven that there is no way to perform operations to make nums sorted in strictly increasing order, so the answer is false.\n",
    "\n",
    "<br>\n",
    "\n",
    "**Constraints:**\n",
    "- >1 <= nums.length <= 1000\n",
    "- >1 <= nums[i] <= 1000\n",
    "- >nums.length == n"
   ]
  },
  {
   "cell_type": "code",
   "execution_count": 1,
   "metadata": {},
   "outputs": [],
   "source": [
    "class Solution:\n",
    "    def primeSubOperation(self, nums: list[int]) -> bool:\n",
    "        import math\n",
    "        \n",
    "        def isPrime(number: int) -> bool:\n",
    "            if number < 2:\n",
    "                return False\n",
    "            \n",
    "            for i in range(2, int(math.sqrt(number)) + 1):\n",
    "                if number % i == 0:\n",
    "                    return False\n",
    "            return True\n",
    "        \n",
    "        for i in range(len(nums)):\n",
    "            bound = nums[0] if i == 0 else nums[i] - nums[i - 1]\n",
    "            \n",
    "            if bound <= 0:\n",
    "                return False\n",
    "            \n",
    "            largestPrime = 0\n",
    "            for j in range(bound - 1, 1, -1):\n",
    "                if isPrime(j):\n",
    "                    largestPrime = j\n",
    "                    break\n",
    "            \n",
    "            nums[i] -= largestPrime\n",
    "        \n",
    "        return True"
   ]
  }
 ],
 "metadata": {
  "kernelspec": {
   "display_name": "base",
   "language": "python",
   "name": "python3"
  },
  "language_info": {
   "codemirror_mode": {
    "name": "ipython",
    "version": 3
   },
   "file_extension": ".py",
   "mimetype": "text/x-python",
   "name": "python",
   "nbconvert_exporter": "python",
   "pygments_lexer": "ipython3",
   "version": "3.9.16"
  }
 },
 "nbformat": 4,
 "nbformat_minor": 2
}

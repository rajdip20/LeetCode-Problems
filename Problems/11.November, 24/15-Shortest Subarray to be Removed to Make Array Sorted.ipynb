{
 "cells": [
  {
   "cell_type": "markdown",
   "metadata": {},
   "source": [
    "Given an integer array `arr`, remove a subarray (can be empty) from `arr` such that the remaining elements in `arr` are **non-decreasing**.\n",
    "\n",
    "Return *the length of the shortest subarray to remove*.\n",
    "\n",
    "A **subarray** is a contiguous subsequence of the array.\n",
    "\n",
    "<br>\n",
    "\n",
    "**Example 1:**\n",
    ">**Input:** arr = [1,2,3,10,4,2,3,5]<br>\n",
    ">**Output:** 3<br>\n",
    ">**Explanation:** The shortest subarray we can remove is [10,4,2] of length 3. The remaining elements after that will be [1,2,3,3,5] which are sorted.<br>\n",
    ">Another correct solution is to remove the subarray [3,10,4].\n",
    "\n",
    "**Example 2:**\n",
    ">**Input:** arr = [5,4,3,2,1]<br>\n",
    ">**Output:** 4<br>\n",
    ">**Explanation:** Since the array is strictly decreasing, we can only keep a single element. Therefore we need to remove a subarray of length 4, either [5,4,3,2] or [4,3,2,1].\n",
    "\n",
    "**Example 3:**\n",
    ">**Input:** arr = [1,2,3]<br>\n",
    ">**Output:** 0<br>\n",
    ">**Explanation:** The array is already non-decreasing. We do not need to remove any elements.\n",
    "\n",
    "<br>\n",
    "\n",
    "**Constraints:**\n",
    "- >1 <= arr.length <= 10<sup>5</sup>\n",
    "- >0 <= arr[i] <= 10<sup>9</sup>"
   ]
  },
  {
   "cell_type": "code",
   "execution_count": 1,
   "metadata": {},
   "outputs": [],
   "source": [
    "class Solution:\n",
    "    def findLengthOfShortestSubarray(self, arr: list[int]) -> int:\n",
    "        n = len(arr)\n",
    "    \n",
    "        prefix_end = 0\n",
    "        while prefix_end + 1 < n and arr[prefix_end] <= arr[prefix_end + 1]:\n",
    "            prefix_end += 1\n",
    "\n",
    "        if prefix_end == n - 1:\n",
    "            return 0\n",
    "\n",
    "        suffix_start = n - 1\n",
    "        while suffix_start - 1 >= 0 and arr[suffix_start - 1] <= arr[suffix_start]:\n",
    "            suffix_start -= 1\n",
    "\n",
    "        min_length = min(n - prefix_end - 1, suffix_start)\n",
    "\n",
    "        i, j = 0, suffix_start\n",
    "        while i <= prefix_end and j < n:\n",
    "            if arr[i] <= arr[j]:\n",
    "                min_length = min(min_length, j - i - 1)\n",
    "                i += 1\n",
    "            else:\n",
    "                j += 1\n",
    "\n",
    "        return min_length"
   ]
  }
 ],
 "metadata": {
  "kernelspec": {
   "display_name": "base",
   "language": "python",
   "name": "python3"
  },
  "language_info": {
   "codemirror_mode": {
    "name": "ipython",
    "version": 3
   },
   "file_extension": ".py",
   "mimetype": "text/x-python",
   "name": "python",
   "nbconvert_exporter": "python",
   "pygments_lexer": "ipython3",
   "version": "3.9.16"
  }
 },
 "nbformat": 4,
 "nbformat_minor": 2
}

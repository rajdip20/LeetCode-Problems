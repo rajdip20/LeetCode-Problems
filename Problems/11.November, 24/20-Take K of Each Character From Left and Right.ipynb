{
 "cells": [
  {
   "cell_type": "markdown",
   "metadata": {},
   "source": [
    "You are given a string `s` consisting of the characters `'a'`, `'b'`, and `'c'` and a non-negative integer `k`. Each minute, you may take either the **leftmost** character of `s`, or the **rightmost** character of `s`.\n",
    "\n",
    "Return *the ***minimum*** number of minutes needed for you to take* ***at least*** `k` *of each character, or return* `-1` *if it is not possible to take* `k` *of each character*.\n",
    "\n",
    "<br>\n",
    "\n",
    "**Example 1:**\n",
    ">**Input:** s = \"aabaaaacaabc\", k = 2<br>\n",
    ">**Output:** 8<br>\n",
    ">**Explanation:** <br>\n",
    ">Take three characters from the left of s. You now have two 'a' characters, and one 'b' character.<br>\n",
    ">Take five characters from the right of s. You now have four 'a' characters, two 'b' characters, and two 'c' characters.<br>\n",
    ">A total of 3 + 5 = 8 minutes is needed.<br>\n",
    ">It can be proven that 8 is the minimum number of minutes needed.\n",
    "\n",
    "**Example 2:**\n",
    ">**Input:** s = \"a\", k = 1<br>\n",
    ">**Output:** -1<br>\n",
    ">**Explanation:** It is not possible to take one 'b' or 'c' so return -1.\n",
    "\n",
    "<br>\n",
    "\n",
    "**Constraints:**\n",
    "- >1 <= s.length <= 10<sup>5</sup>\n",
    "- >s consists of only the letters 'a', 'b', and 'c'.\n",
    "- >0 <= k <= s.length"
   ]
  },
  {
   "cell_type": "code",
   "execution_count": 1,
   "metadata": {},
   "outputs": [],
   "source": [
    "class Solution:\n",
    "    def takeCharacters(self, s: str, k: int) -> int:\n",
    "        count = [0, 0, 0]\n",
    "        for c in s:\n",
    "            count[ord(c) - ord('a')] += 1\n",
    "\n",
    "        if min(count) < k:\n",
    "            return -1\n",
    "\n",
    "        res = float(\"inf\")\n",
    "        l = 0\n",
    "        for r in range(len(s)):\n",
    "            count[ord(s[r]) - ord('a')] -= 1\n",
    "\n",
    "            while min(count) < k:\n",
    "                count[ord(s[l]) - ord('a')] += 1\n",
    "                l += 1\n",
    "            res = min(res, len(s) - (r - l + 1))\n",
    "        return res"
   ]
  }
 ],
 "metadata": {
  "kernelspec": {
   "display_name": "base",
   "language": "python",
   "name": "python3"
  },
  "language_info": {
   "codemirror_mode": {
    "name": "ipython",
    "version": 3
   },
   "file_extension": ".py",
   "mimetype": "text/x-python",
   "name": "python",
   "nbconvert_exporter": "python",
   "pygments_lexer": "ipython3",
   "version": "3.9.16"
  }
 },
 "nbformat": 4,
 "nbformat_minor": 2
}

{
 "cells": [
  {
   "cell_type": "markdown",
   "metadata": {},
   "source": [
    "A **fancy string** is a string where no **three consecutive** characters are equal.\n",
    "\n",
    "Given a string `s`, delete the **minimum** possible number of characters from `s` to make it **fancy**.\n",
    "\n",
    "Return *the final string after the deletion*. It can be shown that the answer will always be **unique**.\n",
    "\n",
    "<br>\n",
    "\n",
    "**Example 1:**\n",
    ">**Input:** s = \"leeetcode\"<br>\n",
    ">**Output:** \"leetcode\"<br>\n",
    ">**Explanation:**<br>\n",
    ">Remove an 'e' from the first group of 'e's to create \"leetcode\".<br>\n",
    ">No three consecutive characters are equal, so return \"leetcode\".\n",
    "\n",
    "**Example 2:**\n",
    ">**Input:** s = \"aaabaaaa\"<br>\n",
    ">**Output:** \"aabaa\"<br>\n",
    ">**Explanation:**<br>\n",
    ">Remove an 'a' from the first group of 'a's to create \"aabaaaa\".<br>\n",
    ">Remove two 'a's from the second group of 'a's to create \"aabaa\".<br>\n",
    ">No three consecutive characters are equal, so return \"aabaa\".\n",
    "\n",
    "**Example 3:**\n",
    ">**Input:** s = \"aab\"<br>\n",
    ">**Output:** \"aab\"<br>\n",
    ">**Explanation:** No three consecutive characters are equal, so return \"aab\".\n",
    "\n",
    "<br>\n",
    "\n",
    "**Constraints:**\n",
    "- >1 <= s.length <= 10<sup>5</sup>\n",
    "- >s consists only of lowercase English letters."
   ]
  },
  {
   "cell_type": "code",
   "execution_count": 1,
   "metadata": {},
   "outputs": [],
   "source": [
    "class Solution:\n",
    "    def makeFancyString(self, s: str) -> str:\n",
    "        result = []\n",
    "        count = 1\n",
    "        \n",
    "        for i in range(len(s)):\n",
    "            if i > 0 and s[i] == s[i - 1]:\n",
    "                count += 1\n",
    "            else:\n",
    "                count = 1\n",
    "            \n",
    "            if count <= 2:\n",
    "                result.append(s[i])\n",
    "        \n",
    "        return ''.join(result)"
   ]
  }
 ],
 "metadata": {
  "kernelspec": {
   "display_name": "base",
   "language": "python",
   "name": "python3"
  },
  "language_info": {
   "codemirror_mode": {
    "name": "ipython",
    "version": 3
   },
   "file_extension": ".py",
   "mimetype": "text/x-python",
   "name": "python",
   "nbconvert_exporter": "python",
   "pygments_lexer": "ipython3",
   "version": "3.9.16"
  }
 },
 "nbformat": 4,
 "nbformat_minor": 2
}

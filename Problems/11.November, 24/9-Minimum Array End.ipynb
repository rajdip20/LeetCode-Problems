{
 "cells": [
  {
   "cell_type": "markdown",
   "metadata": {},
   "source": [
    "You are given two integers `n` and `x`. You have to construct an array of **positive** integers `nums` of size `n` where for every `0 <= i < n - 1`, `nums[i + 1]` is **greater than** `nums[i]`, and the result of the bitwise `AND` operation between all elements of `nums` is `x`.\n",
    "\n",
    "Return the **minimum** possible value of `nums[n - 1]`.\n",
    "\n",
    "<br>\n",
    "\n",
    "**Example 1:**\n",
    ">**Input:** n = 3, x = 4<br>\n",
    ">**Output:** 6<br>\n",
    ">**Explanation:**<br>\n",
    ">`nums` can be `[4,5,6]` and its last element is 6.\n",
    "\n",
    "**Example 2:**\n",
    ">**Input:** n = 2, x = 7<br>\n",
    ">**Output:** 15<br>\n",
    ">**Explanation:**<br>\n",
    ">`nums` can be `[7,15]` and its last element is 15.\n",
    "\n",
    "<br>\n",
    "\n",
    "**Constraints:**\n",
    "- >1 <= n, x <= 10<sup>8</sup>"
   ]
  },
  {
   "cell_type": "code",
   "execution_count": 1,
   "metadata": {},
   "outputs": [],
   "source": [
    "class Solution:\n",
    "    def minEnd(self, n: int, x: int) -> int:\n",
    "        result = x\n",
    "        remaining = n - 1\n",
    "        position = 1\n",
    "    \n",
    "        while remaining:\n",
    "            if not (x & position):\n",
    "                result |= (remaining & 1) * position\n",
    "                remaining >>= 1\n",
    "            position <<= 1\n",
    "    \n",
    "        return result"
   ]
  }
 ],
 "metadata": {
  "kernelspec": {
   "display_name": "base",
   "language": "python",
   "name": "python3"
  },
  "language_info": {
   "codemirror_mode": {
    "name": "ipython",
    "version": 3
   },
   "file_extension": ".py",
   "mimetype": "text/x-python",
   "name": "python",
   "nbconvert_exporter": "python",
   "pygments_lexer": "ipython3",
   "version": "3.9.16"
  }
 },
 "nbformat": 4,
 "nbformat_minor": 2
}

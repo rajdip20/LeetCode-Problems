{
 "cells": [
  {
   "cell_type": "markdown",
   "metadata": {},
   "source": [
    "You are given an integer array `nums` and an integer `k`. Find the maximum subarray sum of all the subarrays of `nums` that meet the following conditions:\n",
    "- The length of the subarray is `k`, and\n",
    "- All the elements of the subarray are **distinct**.\n",
    "\n",
    "Return *the maximum subarray sum of all the subarrays that meet the conditions*. If no subarray meets the conditions, return `0`.\n",
    "\n",
    "A ***subarray*** *is a contiguous non-empty sequence of elements within an array*.\n",
    "\n",
    "<br>\n",
    "\n",
    "**Example 1:**\n",
    ">**Input:** nums = [1,5,4,2,9,9,9], k = 3<br>\n",
    ">**Output:** 15<br>\n",
    ">**Explanation:** The subarrays of nums with length 3 are:<br>\n",
    ">\\- [1,5,4] which meets the requirements and has a sum of 10.<br>\n",
    ">\\- [5,4,2] which meets the requirements and has a sum of 11.<br>\n",
    ">\\- [4,2,9] which meets the requirements and has a sum of 15.<br>\n",
    ">\\- [2,9,9] which does not meet the requirements because the element 9 is repeated.<br>\n",
    ">\\- [9,9,9] which does not meet the requirements because the element 9 is repeated.<br>\n",
    ">We return 15 because it is the maximum subarray sum of all the subarrays that meet the conditions\n",
    "\n",
    "**Example 2:**\n",
    ">**Input:** nums = [4,4,4], k = 3<br>\n",
    ">**Output:** 0<br>\n",
    ">**Explanation:** The subarrays of nums with length 3 are:<br>\n",
    ">\\- [4,4,4] which does not meet the requirements because the element 4 is repeated.<br>\n",
    ">We return 0 because no subarrays meet the conditions.\n",
    "\n",
    "<br>\n",
    "\n",
    "**Constraints:**\n",
    "- >1 <= k <= nums.length <= 10<sup>5</sup>\n",
    "- >1 <= nums[i] <= 10<sup>5</sup>"
   ]
  },
  {
   "cell_type": "code",
   "execution_count": 1,
   "metadata": {},
   "outputs": [],
   "source": [
    "class Solution:\n",
    "    def maximumSubarraySum(self, nums: list[int], k: int) -> int:\n",
    "        n = len(nums)\n",
    "        seen = set()\n",
    "        curr_sum = 0\n",
    "        max_sum = 0\n",
    "        left = 0\n",
    "\n",
    "        for right in range(n):\n",
    "            while nums[right] in seen:\n",
    "                seen.remove(nums[left])\n",
    "                curr_sum -= nums[left]\n",
    "                left += 1\n",
    "            \n",
    "            seen.add(nums[right])\n",
    "            curr_sum += nums[right]\n",
    "\n",
    "            if right - left + 1 == k:\n",
    "                max_sum = max(max_sum, curr_sum)\n",
    "                seen.remove(nums[left])\n",
    "                curr_sum -= nums[left]\n",
    "                left += 1\n",
    "\n",
    "        return max_sum"
   ]
  }
 ],
 "metadata": {
  "kernelspec": {
   "display_name": "base",
   "language": "python",
   "name": "python3"
  },
  "language_info": {
   "codemirror_mode": {
    "name": "ipython",
    "version": 3
   },
   "file_extension": ".py",
   "mimetype": "text/x-python",
   "name": "python",
   "nbconvert_exporter": "python",
   "pygments_lexer": "ipython3",
   "version": "3.9.16"
  }
 },
 "nbformat": 4,
 "nbformat_minor": 2
}

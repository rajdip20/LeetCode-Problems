{
 "cells": [
  {
   "cell_type": "markdown",
   "metadata": {},
   "source": [
    "You are given an integer `n` indicating there are `n` specialty retail stores. There are `m` product types of varying amounts, which are given as a **0-indexed** integer array `quantities`, where `quantities[i]` represents the number of products of the **i<sup>th</sup>** product type.\n",
    "\n",
    "You need to distribute **all products** to the retail stores following these rules:\n",
    "- A store can only be given **at most one product type** but can be given **any** amount of it.\n",
    "- After distribution, each store will have been given some number of products (possibly `0`). Let `x` represent the maximum number of products given to any store. You want `x` to be as small as possible, i.e., you want to **minimize** the **maximum** number of products that are given to any store.\n",
    "\n",
    "Return *the minimum possible* `x`.\n",
    "\n",
    "<br>\n",
    "\n",
    "**Example 1:**\n",
    ">**Input:** n = 6, quantities = [11,6]<br>\n",
    ">**Output:** 3<br>\n",
    ">**Explanation:** One optimal way is:<br>\n",
    ">\\- The 11 products of type 0 are distributed to the first four stores in these amounts: 2, 3, 3, 3<br>\n",
    ">\\- The 6 products of type 1 are distributed to the other two stores in these amounts: 3, 3<br>\n",
    ">The maximum number of products given to any store is max(2, 3, 3, 3, 3, 3) = 3.\n",
    "\n",
    "**Example 2:**\n",
    ">**Input:** n = 7, quantities = [15,10,10]<br>\n",
    ">**Output:** 5<br>\n",
    ">**Explanation:** One optimal way is:<br>\n",
    ">\\- The 15 products of type 0 are distributed to the first three stores in these amounts: 5, 5, 5<br>\n",
    ">\\- The 10 products of type 1 are distributed to the next two stores in these amounts: 5, 5<br>\n",
    ">\\- The 10 products of type 2 are distributed to the last two stores in these amounts: 5, 5<br>\n",
    ">The maximum number of products given to any store is max(5, 5, 5, 5, 5, 5, 5) = 5.\n",
    "\n",
    "**Example 3:**\n",
    ">**Input:** n = 1, quantities = [100000]<br>\n",
    ">**Output:** 100000<br>\n",
    ">**Explanation:** The only optimal way is:<br>\n",
    ">\\- The 100000 products of type 0 are distributed to the only store.<br>\n",
    ">The maximum number of products given to any store is max(100000) = 100000.\n",
    "\n",
    "<br>\n",
    "\n",
    "**Constraints:**\n",
    "- >m == quantities.length\n",
    "- >1 <= m <= n <= 10<sup>5</sup>\n",
    "- >1 <= quantities[i] <= 10<sup>5</sup>"
   ]
  },
  {
   "cell_type": "code",
   "execution_count": 1,
   "metadata": {},
   "outputs": [],
   "source": [
    "class Solution:\n",
    "    def minimizedMaximum(self, n: int, quantities: list[int]) -> int:\n",
    "        def canDistributeWithMaxLoad(x):\n",
    "            stores_needed = 0\n",
    "            for quantity in quantities:\n",
    "                stores_needed += (quantity + x - 1) // x\n",
    "                if stores_needed > n:\n",
    "                    return False\n",
    "            return stores_needed <= n\n",
    "\n",
    "        left, right = 1, max(quantities)\n",
    "        while left < right:\n",
    "            mid = (left + right) // 2\n",
    "            if canDistributeWithMaxLoad(mid):\n",
    "                right = mid\n",
    "            else:\n",
    "                left = mid + 1\n",
    "        \n",
    "        return left"
   ]
  }
 ],
 "metadata": {
  "kernelspec": {
   "display_name": "base",
   "language": "python",
   "name": "python3"
  },
  "language_info": {
   "codemirror_mode": {
    "name": "ipython",
    "version": 3
   },
   "file_extension": ".py",
   "mimetype": "text/x-python",
   "name": "python",
   "nbconvert_exporter": "python",
   "pygments_lexer": "ipython3",
   "version": "3.9.16"
  }
 },
 "nbformat": 4,
 "nbformat_minor": 2
}

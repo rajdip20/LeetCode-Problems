{
 "cells": [
  {
   "cell_type": "markdown",
   "metadata": {},
   "source": [
    "You are given an array of integers `nums` of length `n` and a *positive* integer `k`.\n",
    "\n",
    "The **power** of an array is defined as:\n",
    "- Its **maximum** element if all of its elements are **consecutive** and **sorted** in **ascending** order.\n",
    "- -1 otherwise.\n",
    "\n",
    "You need to find the **power** of all subarrays of `nums` of size `k`.\n",
    "\n",
    "Return an integer array `results` of size `n - k + 1`, where `results[i]` is the *power* of `nums[i..(i + k - 1)]`.\n",
    "\n",
    "<br>\n",
    "\n",
    "**Example 1:**\n",
    ">**Input:** nums = [1,2,3,4,3,2,5], k = 3<br>\n",
    ">**Output:** [3,4,-1,-1,-1]<br>\n",
    ">**Explanation:**<br>\n",
    ">There are 5 subarrays of `nums` of size 3:<br>\n",
    ">- `[1, 2, 3]` with the maximum element 3.<br>\n",
    ">- `[2, 3, 4]` with the maximum element 4.<br>\n",
    ">- `[3, 4, 3]` whose elements are **not** consecutive.<br>\n",
    ">- `[4, 3, 2]` whose elements are **not** sorted.<br>\n",
    ">- `[3, 2, 5]` whose elements are **not** consecutive.\n",
    "\n",
    "**Example 2:**\n",
    ">**Input:** nums = [2,2,2,2,2], k = 4<br>\n",
    ">**Output:** [-1,-1]\n",
    "\n",
    "**Example 3:**\n",
    ">**Input:** nums = [3,2,3,2,3,2], k = 2<br>\n",
    ">**Output:** [-1,3,-1,3,-1]\n",
    "\n",
    "<br>\n",
    "\n",
    "**Constraints:**\n",
    "- >1 <= n == nums.length <= 500\n",
    "- >1 <= nums[i] <= 10<sup>5</sup>\n",
    "- >1 <= k <= n"
   ]
  },
  {
   "cell_type": "code",
   "execution_count": 1,
   "metadata": {},
   "outputs": [],
   "source": [
    "class Solution:\n",
    "    def resultsArray(self, nums: list[int], k: int) -> list[int]:\n",
    "        res = []\n",
    "        l = 0\n",
    "        consec_cnt = 1\n",
    "        \n",
    "        for r in range(len(nums)):\n",
    "            if r > 0 and nums[r - 1] + 1 == nums[r]:\n",
    "                consec_cnt += 1\n",
    "\n",
    "            if r - l + 1 > k:\n",
    "                if nums[l] + 1 == nums[l + 1]:\n",
    "                    consec_cnt -= 1\n",
    "                l += 1\n",
    "\n",
    "            if r - l + 1 == k:\n",
    "                res.append(nums[r] if consec_cnt == k else -1)\n",
    "        \n",
    "        return res"
   ]
  }
 ],
 "metadata": {
  "kernelspec": {
   "display_name": "base",
   "language": "python",
   "name": "python3"
  },
  "language_info": {
   "codemirror_mode": {
    "name": "ipython",
    "version": 3
   },
   "file_extension": ".py",
   "mimetype": "text/x-python",
   "name": "python",
   "nbconvert_exporter": "python",
   "pygments_lexer": "ipython3",
   "version": "3.9.16"
  }
 },
 "nbformat": 4,
 "nbformat_minor": 2
}

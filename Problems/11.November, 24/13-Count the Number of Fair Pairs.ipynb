{
 "cells": [
  {
   "cell_type": "markdown",
   "metadata": {},
   "source": [
    "Given a **0-indexed** integer array `nums` of size `n` and two integers `lower` and `upper`, return *the number of fair pairs*.\n",
    "\n",
    "A pair `(i, j)` is **fair** if:\n",
    "- `0 <= i < j < n`, and\n",
    "- `lower <= nums[i] + nums[j] <= upper`\n",
    "\n",
    "<br>\n",
    "\n",
    "**Example 1:**\n",
    ">**Input:** nums = [0,1,7,4,4,5], lower = 3, upper = 6<br>\n",
    ">**Output:** 6<br>\n",
    ">**Explanation:** There are 6 fair pairs: (0,3), (0,4), (0,5), (1,3), (1,4), and (1,5).\n",
    "\n",
    "**Example 2:**\n",
    ">**Input:** nums = [1,7,9,2,5], lower = 11, upper = 11<br>\n",
    ">**Output:** 1<br>\n",
    ">**Explanation:** There is a single fair pair: (2,3).\n",
    "\n",
    "<br>\n",
    "\n",
    "**Constraints:**\n",
    "- >1 <= nums.length <= 10<sup>5</sup>\n",
    "- >nums.length == n\n",
    "- >-10<sup>9</sup> <= nums[i] <= 10<sup>9</sup>\n",
    "- >-10<sup>9</sup> <= lower <= upper <= 10<sup>9</sup>"
   ]
  },
  {
   "cell_type": "code",
   "execution_count": 1,
   "metadata": {},
   "outputs": [],
   "source": [
    "class Solution:\n",
    "    def countFairPairs(self, nums: list[int], lower: int, upper: int) -> int:\n",
    "        from bisect import bisect_left, bisect_right\n",
    "\n",
    "        \n",
    "        nums.sort()\n",
    "        n = len(nums)\n",
    "        count = 0\n",
    "        \n",
    "        for i in range(n):\n",
    "            left_limit = bisect_left(nums, lower - nums[i], i + 1, n)\n",
    "            right_limit = bisect_right(nums, upper - nums[i], i + 1, n) - 1\n",
    "            \n",
    "            if left_limit <= right_limit:\n",
    "                count += (right_limit - left_limit + 1)\n",
    "        \n",
    "        return count"
   ]
  }
 ],
 "metadata": {
  "kernelspec": {
   "display_name": "base",
   "language": "python",
   "name": "python3"
  },
  "language_info": {
   "codemirror_mode": {
    "name": "ipython",
    "version": 3
   },
   "file_extension": ".py",
   "mimetype": "text/x-python",
   "name": "python",
   "nbconvert_exporter": "python",
   "pygments_lexer": "ipython3",
   "version": "3.9.16"
  }
 },
 "nbformat": 4,
 "nbformat_minor": 2
}

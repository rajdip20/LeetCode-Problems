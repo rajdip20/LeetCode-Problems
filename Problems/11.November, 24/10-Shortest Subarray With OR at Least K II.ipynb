{
 "cells": [
  {
   "cell_type": "markdown",
   "metadata": {},
   "source": [
    "You are given an array `nums` of **non-negative** integers and an integer `k`.\n",
    "\n",
    "An array is called **special** if the bitwise `OR` of all of its elements is **at least** `k`.\n",
    "\n",
    "Return *the length of the* ***shortest special non-empty*** *subarray of* `nums`*, or return* `-1` *if no special subarray exists*.\n",
    "\n",
    "<br>\n",
    "\n",
    "**Example 1:**\n",
    ">**Input:** nums = [1,2,3], k = 2<br>\n",
    ">**Output:** 1<br>\n",
    ">**Explanation:**<br>\n",
    ">The subarray [3] has OR value of 3. Hence, we return 1.\n",
    "\n",
    "**Example 2:**\n",
    ">**Input:** nums = [2,1,8], k = 10<br>\n",
    ">**Output:** 3<br>\n",
    ">**Explanation:**<br>\n",
    ">The subarray [2,1,8] has OR value of 11. Hence, we return 3.\n",
    "\n",
    "**Example 3:**\n",
    ">**Input:** nums = [1,2], k = 0<br>\n",
    ">**Output:** 1<br>\n",
    ">**Explanation:**<br>\n",
    ">The subarray [1] has OR value of 1. Hence, we return 1.\n",
    "\n",
    "<br>\n",
    "\n",
    "**Constraints:**\n",
    "- >1 <= nums.length <= 2 * 10<sup>5</sup>\n",
    "- >0 <= nums[i] <= 10<sup>9</sup>\n",
    "- >0 <= k <= 10<sup>9</sup>"
   ]
  },
  {
   "cell_type": "code",
   "execution_count": 1,
   "metadata": {},
   "outputs": [],
   "source": [
    "class Solution:\n",
    "    def minimumSubarrayLength(self, nums: list[int], k: int) -> int:\n",
    "        n = len(nums)\n",
    "        bitCount = [0] * 32\n",
    "        currentOR = 0\n",
    "        left = 0\n",
    "        minLength = float('inf')\n",
    "        \n",
    "        for right in range(n):\n",
    "            currentOR |= nums[right]\n",
    "            \n",
    "            for bit in range(32):\n",
    "                if nums[right] & (1 << bit):\n",
    "                    bitCount[bit] += 1\n",
    "            \n",
    "            while left <= right and currentOR >= k:\n",
    "                minLength = min(minLength, right - left + 1)\n",
    "                \n",
    "                updatedOR = 0\n",
    "                for bit in range(32):\n",
    "                    if nums[left] & (1 << bit):\n",
    "                        bitCount[bit] -= 1\n",
    "                    if bitCount[bit] > 0:\n",
    "                        updatedOR |= (1 << bit)\n",
    "                \n",
    "                currentOR = updatedOR\n",
    "                left += 1\n",
    "        \n",
    "        return minLength if minLength != float('inf') else -1"
   ]
  }
 ],
 "metadata": {
  "kernelspec": {
   "display_name": "base",
   "language": "python",
   "name": "python3"
  },
  "language_info": {
   "codemirror_mode": {
    "name": "ipython",
    "version": 3
   },
   "file_extension": ".py",
   "mimetype": "text/x-python",
   "name": "python",
   "nbconvert_exporter": "python",
   "pygments_lexer": "ipython3",
   "version": "3.9.16"
  }
 },
 "nbformat": 4,
 "nbformat_minor": 2
}

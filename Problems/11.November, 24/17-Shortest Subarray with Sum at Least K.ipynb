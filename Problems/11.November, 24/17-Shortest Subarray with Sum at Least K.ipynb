{
 "cells": [
  {
   "cell_type": "markdown",
   "metadata": {},
   "source": [
    "Given an integer array `nums` and an integer `k`, return *the length of the shortest non-empty ***subarray*** of* `nums` *with a sum of at least* `k`. If there is no such **subarray**, return `-1`.\n",
    "\n",
    "A **subarray** is a **contiguous** part of an array.\n",
    "\n",
    "<br>\n",
    "\n",
    "**Example 1:**\n",
    ">**Input:** nums = [1], k = 1<br>\n",
    ">**Output:** 1\n",
    "\n",
    "**Example 2:**\n",
    ">**Input:** nums = [1,2], k = 4<br>\n",
    ">**Output:** -1\n",
    "\n",
    "**Example 3:**\n",
    ">**Input:** nums = [2,-1,2], k = 3<br>\n",
    ">**Output:** 3\n",
    "\n",
    "<br>\n",
    "\n",
    "**Constraints:**\n",
    "- >1 <= nums.length <= 10<sup>5</sup>\n",
    "- >-10<sup>5</sup> <= nums[i] <= 10<sup>5</sup>\n",
    "- >1 <= k <= 10<sup>9</sup>"
   ]
  },
  {
   "cell_type": "code",
   "execution_count": 1,
   "metadata": {},
   "outputs": [],
   "source": [
    "class Solution:\n",
    "    def shortestSubarray(self, nums: list[int], k: int) -> int:\n",
    "        from collections import deque\n",
    "\n",
    "\n",
    "        n = len(nums)\n",
    "        prefix_sum = [0] * (n + 1)\n",
    "        \n",
    "        for i in range(n):\n",
    "            prefix_sum[i + 1] = prefix_sum[i] + nums[i]\n",
    "        \n",
    "        dq = deque()\n",
    "        min_length = float('inf')\n",
    "        \n",
    "        for i in range(n + 1):\n",
    "            while dq and prefix_sum[i] - prefix_sum[dq[0]] >= k:\n",
    "                min_length = min(min_length, i - dq.popleft())\n",
    "            \n",
    "            while dq and prefix_sum[i] <= prefix_sum[dq[-1]]:\n",
    "                dq.pop()\n",
    "            \n",
    "            dq.append(i)\n",
    "        \n",
    "        return min_length if min_length != float('inf') else -1"
   ]
  }
 ],
 "metadata": {
  "kernelspec": {
   "display_name": "base",
   "language": "python",
   "name": "python3"
  },
  "language_info": {
   "codemirror_mode": {
    "name": "ipython",
    "version": 3
   },
   "file_extension": ".py",
   "mimetype": "text/x-python",
   "name": "python",
   "nbconvert_exporter": "python",
   "pygments_lexer": "ipython3",
   "version": "3.9.16"
  }
 },
 "nbformat": 4,
 "nbformat_minor": 2
}

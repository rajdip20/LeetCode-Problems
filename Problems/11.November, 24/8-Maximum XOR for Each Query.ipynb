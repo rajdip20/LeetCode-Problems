{
 "cells": [
  {
   "cell_type": "markdown",
   "metadata": {},
   "source": [
    "You are given a **sorted** array `nums` of `n` non-negative integers and an integer `maximumBit`. You want to perform the following query `n` **times**:\n",
    "1. Find a non-negative integer **k < 2<sup>maximumBit</sup>** such that `nums[0] XOR nums[1] XOR ... XOR nums[nums.length-1] XOR k` is **maximized**. `k` is the answer to the **i<sup>th</sup>** query.\n",
    "2. Remove the **last** element from the current array `nums`.\n",
    "\n",
    "Return *an array* `answer`*, where* `answer[i]` *is the answer to the* **i<sup>th</sup>** *query*.\n",
    "\n",
    "<br>\n",
    "\n",
    "**Example 1:**\n",
    ">**Input:** nums = [0,1,1,3], maximumBit = 2<br>\n",
    ">**Output:** [0,3,2,3]<br>\n",
    ">**Explanation:** The queries are answered as follows:<br>\n",
    ">1<sup>st</sup> query: nums = [0,1,1,3], k = 0 since 0 XOR 1 XOR 1 XOR 3 XOR 0 = 3.<br>\n",
    ">2<sup>nd</sup> query: nums = [0,1,1], k = 3 since 0 XOR 1 XOR 1 XOR 3 = 3.<br>\n",
    ">3<sup>rd</sup> query: nums = [0,1], k = 2 since 0 XOR 1 XOR 2 = 3.<br>\n",
    ">4<sup>th</sup> query: nums = [0], k = 3 since 0 XOR 3 = 3.\n",
    "\n",
    "**Example 2:**\n",
    ">**Input:** nums = [2,3,4,7], maximumBit = 3<br>\n",
    ">**Output:** [5,2,6,5]<br>\n",
    ">**Explanation:** The queries are answered as follows:<br>\n",
    ">1<sup>st</sup> query: nums = [2,3,4,7], k = 5 since 2 XOR 3 XOR 4 XOR 7 XOR 5 = 7.<br>\n",
    ">2<sup>nd</sup> query: nums = [2,3,4], k = 2 since 2 XOR 3 XOR 4 XOR 2 = 7.<br>\n",
    ">3<sup>rd</sup> query: nums = [2,3], k = 6 since 2 XOR 3 XOR 6 = 7.<br>\n",
    ">4<sup>th</sup> query: nums = [2], k = 5 since 2 XOR 5 = 7.\n",
    "\n",
    "**Example 3:**\n",
    ">**Input:** nums = [0,1,2,2,5,7], maximumBit = 3<br>\n",
    ">**Output:** [4,3,6,4,6,7]\n",
    "\n",
    "<br>\n",
    "\n",
    "**Constraints:**\n",
    "- >nums.length == n\n",
    "- >1 <= n <= 10<sup>5</sup>\n",
    "- >1 <= maximumBit <= 20\n",
    "- >0 <= nums[i] < 2<sup>maximumBit</sup>\n",
    "- >nums​​​ is sorted in **ascending** order."
   ]
  },
  {
   "cell_type": "code",
   "execution_count": 1,
   "metadata": {},
   "outputs": [],
   "source": [
    "class Solution:\n",
    "    def getMaximumXor(self, nums: list[int], maximumBit: int) -> list[int]:\n",
    "        n = len(nums)\n",
    "        maxXOR = (1 << maximumBit) - 1\n",
    "        currentXOR = 0\n",
    "\n",
    "        for num in nums:\n",
    "            currentXOR ^= num\n",
    "\n",
    "        result = []\n",
    "        for i in range(n):\n",
    "            result.append(currentXOR ^ maxXOR)\n",
    "            currentXOR ^= nums[n - 1 - i]\n",
    "\n",
    "        return result"
   ]
  }
 ],
 "metadata": {
  "kernelspec": {
   "display_name": "base",
   "language": "python",
   "name": "python3"
  },
  "language_info": {
   "codemirror_mode": {
    "name": "ipython",
    "version": 3
   },
   "file_extension": ".py",
   "mimetype": "text/x-python",
   "name": "python",
   "nbconvert_exporter": "python",
   "pygments_lexer": "ipython3",
   "version": "3.9.16"
  }
 },
 "nbformat": 4,
 "nbformat_minor": 2
}

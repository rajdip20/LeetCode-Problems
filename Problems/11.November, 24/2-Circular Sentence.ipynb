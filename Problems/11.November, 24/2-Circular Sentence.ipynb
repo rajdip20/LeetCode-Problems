{
 "cells": [
  {
   "cell_type": "markdown",
   "metadata": {},
   "source": [
    "A **sentence** is a list of words that are separated by a **single** space with no leading or trailing spaces.\n",
    "- For example, `\"Hello World\"`, `\"HELLO\"`, `\"hello world hello world\"` are all sentences.\n",
    "\n",
    "Words consist of **only** uppercase and lowercase English letters. Uppercase and lowercase English letters are considered different.\n",
    "\n",
    "A sentence is **circular** if:\n",
    "- The last character of a word is equal to the first character of the next word.\n",
    "- The last character of the last word is equal to the first character of the first word.\n",
    "\n",
    "For example, `\"leetcode exercises sound delightful\"`, `\"eetcode\"`, `\"leetcode eats soul\"` are all circular sentences. However, `\"Leetcode is cool\"`, `\"happy Leetcode\"`, `\"Leetcode\"` and `\"I like Leetcode\"` are **not** circular sentences.\n",
    "\n",
    "Given a string `sentence`, return `true` *if it is circular*. Otherwise, return `false`.\n",
    "\n",
    "<br>\n",
    "\n",
    "**Example 1:**\n",
    ">**Input:** sentence = \"leetcode exercises sound delightful\"<br>\n",
    ">**Output:** true<br>\n",
    ">**Explanation:** The words in sentence are [\"leetcode\", \"exercises\", \"sound\", \"delightful\"].<br>\n",
    ">\\- leetcode's last character is equal to exercises's first character.<br>\n",
    ">\\- exercises's last character is equal to sound's first character.<br>\n",
    ">\\- sound's last character is equal to delightful's first character.<br>\n",
    ">\\- delightful's last character is equal to leetcode's first character.<br>\n",
    ">The sentence is circular.\n",
    "\n",
    "**Example 2:**\n",
    ">**Input:** sentence = \"eetcode\"<br>\n",
    ">**Output:** true<br>\n",
    ">**Explanation:** The words in sentence are [\"eetcode\"].<br>\n",
    ">\\- eetcode's last character is equal to eetcode's first character.<br>\n",
    ">The sentence is circular.\n",
    "\n",
    "**Example 3:**\n",
    ">**Input:** sentence = \"Leetcode is cool\"<br>\n",
    ">**Output:** false<br>\n",
    ">**Explanation:** The words in sentence are [\"Leetcode\", \"is\", \"cool\"].<br>\n",
    ">\\- Leetcode's last character is not equal to is's first character.<br>\n",
    ">The sentence is not circular.\n",
    "\n",
    "<br>\n",
    "\n",
    "**Constraints:**\n",
    "- >1 <= sentence.length <= 500\n",
    "- >sentence consist of only lowercase and uppercase English letters and spaces.\n",
    "- >The words in sentence are separated by a single space.\n",
    "- >There are no leading or trailing spaces."
   ]
  },
  {
   "cell_type": "code",
   "execution_count": 1,
   "metadata": {},
   "outputs": [],
   "source": [
    "class Solution:\n",
    "    def isCircularSentence(self, sentence: str) -> bool:\n",
    "        words = sentence.split()\n",
    "    \n",
    "        for i in range(len(words) - 1):\n",
    "            if words[i][-1] != words[i + 1][0]:\n",
    "                return False\n",
    "        \n",
    "        return words[-1][-1] == words[0][0]"
   ]
  }
 ],
 "metadata": {
  "kernelspec": {
   "display_name": "base",
   "language": "python",
   "name": "python3"
  },
  "language_info": {
   "codemirror_mode": {
    "name": "ipython",
    "version": 3
   },
   "file_extension": ".py",
   "mimetype": "text/x-python",
   "name": "python",
   "nbconvert_exporter": "python",
   "pygments_lexer": "ipython3",
   "version": "3.9.16"
  }
 },
 "nbformat": 4,
 "nbformat_minor": 2
}

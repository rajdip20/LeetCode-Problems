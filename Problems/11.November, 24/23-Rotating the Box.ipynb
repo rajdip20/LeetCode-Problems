{
 "cells": [
  {
   "cell_type": "markdown",
   "metadata": {},
   "source": [
    "You are given an `m x n` matrix of characters `box` representing a side-view of a box. Each cell of the box is one of the following:\n",
    "- A stone `'#'`\n",
    "- A stationary obstacle `'*'`\n",
    "- Empty `'.'`\n",
    "\n",
    "The box is rotated **90 degrees clockwise**, causing some of the stones to fall due to gravity. Each stone falls down until it lands on an obstacle, another stone, or the bottom of the box. Gravity **does not** affect the obstacles' positions, and the inertia from the box's rotation **does not** affect the stones' horizontal positions.\n",
    "\n",
    "It is guaranteed that each stone in `box` rests on an obstacle, another stone, or the bottom of the box.\n",
    "\n",
    "Return *an* `n x m` *matrix representing the box after the rotation described above*.\n",
    "\n",
    "<br>\n",
    "\n",
    "**Example 1:**<br><br>\n",
    "![image1](../../images/rotatingtheboxleetcodewithstones.png)<br>\n",
    ">**Input:** box = [[\"#\",\".\",\"#\"]]<br>\n",
    ">**Output:** [[\".\"],<br>\n",
    ">&emsp;&emsp;&emsp;&emsp; [\"#\"],<br>\n",
    ">&emsp;&emsp;&emsp;&emsp; [\"#\"]]\n",
    "\n",
    "**Example 2:**<br><br>\n",
    "![image2](../../images/rotatingtheboxleetcode2withstones.png)<br>\n",
    ">**Input:** box = [[\"#\",\".\",\"\\*\",\".\"],<br>\n",
    ">&emsp;&emsp;&emsp;&emsp;&emsp;&emsp; [\"#\",\"#\",\"\\*\",\".\"]]<br>\n",
    ">**Output:** [[\"#\",\".\"],<br>\n",
    ">&emsp;&emsp;&emsp;&emsp; [\"#\",\"#\"],<br>\n",
    ">&emsp;&emsp;&emsp;&emsp; [\"\\*\",\"\\*\"],<br>\n",
    ">&emsp;&emsp;&emsp;&emsp; [\".\",\".\"]]\n",
    "\n",
    "**Example 3:**<br><br>\n",
    "![image3](../../images/rotatingtheboxleetcode3withstone.png)<br>\n",
    ">**Input:** box = [[\"#\",\"#\",\"\\*\",\".\",\"\\*\",\".\"],<br>\n",
    ">&emsp;&emsp;&emsp;&emsp;&emsp;&emsp; [\"#\",\"#\",\"#\",\"\\*\",\".\",\".\"],<br>\n",
    ">&emsp;&emsp;&emsp;&emsp;&emsp;&emsp; [\"#\",\"#\",\"#\",\".\",\"#\",\".\"]]<br>\n",
    ">**Output:** [[\".\",\"#\",\"#\"],<br>\n",
    ">&emsp;&emsp;&emsp;&emsp; [\".\",\"#\",\"#\"],<br>\n",
    ">&emsp;&emsp;&emsp;&emsp; [\"#\",\"#\",\"\\*\"],<br>\n",
    ">&emsp;&emsp;&emsp;&emsp; [\"#\",\"\\*\",\".\"],<br>\n",
    ">&emsp;&emsp;&emsp;&emsp; [\"#\",\".\",\"\\*\"],<br>\n",
    ">&emsp;&emsp;&emsp;&emsp; [\"#\",\".\",\".\"]]\n",
    "\n",
    "<br>\n",
    "\n",
    "**Constraints:**\n",
    "- >m == box.length\n",
    "- >n == box[i].length\n",
    "- >1 <= m, n <= 500\n",
    "- >box[i][j] is either '#', '*', or '.'."
   ]
  },
  {
   "cell_type": "code",
   "execution_count": 1,
   "metadata": {},
   "outputs": [],
   "source": [
    "class Solution:\n",
    "    def rotateTheBox(self, box: list[list[str]]) -> list[list[str]]:\n",
    "        m, n = len(box), len(box[0])\n",
    "    \n",
    "        rotated = [['.'] * m for _ in range(n)]\n",
    "        for i in range(m):\n",
    "            for j in range(n):\n",
    "                rotated[j][m - 1 - i] = box[i][j]\n",
    "        \n",
    "        for col in range(m):\n",
    "            empty_row = n - 1\n",
    "            for row in range(n - 1, -1, -1):\n",
    "                if rotated[row][col] == '*':\n",
    "                    empty_row = row - 1\n",
    "                elif rotated[row][col] == '#':\n",
    "                    rotated[row][col] = '.'\n",
    "                    rotated[empty_row][col] = '#'\n",
    "                    empty_row -= 1\n",
    "        \n",
    "        return rotated"
   ]
  }
 ],
 "metadata": {
  "kernelspec": {
   "display_name": "base",
   "language": "python",
   "name": "python3"
  },
  "language_info": {
   "codemirror_mode": {
    "name": "ipython",
    "version": 3
   },
   "file_extension": ".py",
   "mimetype": "text/x-python",
   "name": "python",
   "nbconvert_exporter": "python",
   "pygments_lexer": "ipython3",
   "version": "3.9.16"
  }
 },
 "nbformat": 4,
 "nbformat_minor": 2
}

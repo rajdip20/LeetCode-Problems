{
 "cells": [
  {
   "cell_type": "markdown",
   "metadata": {},
   "source": [
    "You are given an `n x n` integer `matrix`. You can do the following operation **any** number of times:\n",
    "- Choose any two **adjacent** elements of `matrix` and **multiply** each of them by `-1`.\n",
    "\n",
    "Two elements are considered **adjacent** if and only if they share a **border**.\n",
    "\n",
    "Your goal is to **maximize** the summation of the matrix's elements. Return *the ***maximum*** sum of the matrix's elements using the operation mentioned above*.\n",
    "\n",
    "<br>\n",
    "\n",
    "**Example 1:**<br><br>\n",
    "![image1](../../images/pc79-q2ex1.png)<br>\n",
    ">**Input:** matrix = [[1,-1],[-1,1]]<br>\n",
    ">**Output:** 4<br>\n",
    ">**Explanation:** We can follow the following steps to reach sum equals 4:<br>\n",
    ">\\- Multiply the 2 elements in the first row by -1.<br>\n",
    ">\\- Multiply the 2 elements in the first column by -1.\n",
    "\n",
    "**Example 2:**<br><br>\n",
    "![image2](../../images/pc79-q2ex2.png)<br>\n",
    ">**Input:** matrix = [[1,2,3],[-1,-2,-3],[1,2,3]]<br>\n",
    ">**Output:** 16<br>\n",
    ">**Explanation:** We can follow the following step to reach sum equals 16:<br>\n",
    ">\\- Multiply the 2 last elements in the second row by -1.\n",
    "\n",
    "<br>\n",
    "\n",
    "**Constraints:**\n",
    "- >n == matrix.length == matrix[i].length\n",
    "- >2 <= n <= 250\n",
    "- >-10<sup>5</sup> <= matrix[i][j] <= 10<sup>5</sup>"
   ]
  },
  {
   "cell_type": "code",
   "execution_count": 1,
   "metadata": {},
   "outputs": [],
   "source": [
    "class Solution:\n",
    "    def maxMatrixSum(self, matrix: list[list[int]]) -> int:\n",
    "        n = len(matrix)\n",
    "        sum_abs = 0\n",
    "        min_abs = float('inf')\n",
    "        neg_count = 0\n",
    "\n",
    "        for i in range(n):\n",
    "            for j in range(n):\n",
    "                value = matrix[i][j]\n",
    "                sum_abs += abs(value)\n",
    "                if value < 0:\n",
    "                    neg_count += 1\n",
    "                min_abs = min(min_abs, abs(value))\n",
    "\n",
    "        if neg_count % 2 == 0:\n",
    "            return sum_abs\n",
    "        else:\n",
    "            return sum_abs - 2 * min_abs"
   ]
  }
 ],
 "metadata": {
  "kernelspec": {
   "display_name": "base",
   "language": "python",
   "name": "python3"
  },
  "language_info": {
   "codemirror_mode": {
    "name": "ipython",
    "version": 3
   },
   "file_extension": ".py",
   "mimetype": "text/x-python",
   "name": "python",
   "nbconvert_exporter": "python",
   "pygments_lexer": "ipython3",
   "version": "3.9.16"
  }
 },
 "nbformat": 4,
 "nbformat_minor": 2
}

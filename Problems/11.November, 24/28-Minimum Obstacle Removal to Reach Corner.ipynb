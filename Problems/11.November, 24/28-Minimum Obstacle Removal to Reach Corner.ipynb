{
 "cells": [
  {
   "cell_type": "markdown",
   "metadata": {},
   "source": [
    "You are given a **0-indexed** 2D integer array `grid` of size `m x n`. Each cell has one of two values:\n",
    "- `0` represents an **empty** cell,\n",
    "- `1` represents an **obstacle** that may be removed.\n",
    "\n",
    "You can move up, down, left, or right from and to an empty cell.\n",
    "\n",
    "Return *the ***minimum*** number of ***obstacles*** to ***remove*** so you can move from the upper left corner* `(0, 0)` *to the lower right corner* `(m - 1, n - 1)`.\n",
    "\n",
    "<br>\n",
    "\n",
    "**Example 1:**<br><br>\n",
    "![image1](../../images/example1drawio-1.png)<br>\n",
    ">**Input:** grid = [[0,1,1],[1,1,0],[1,1,0]]<br>\n",
    ">**Output:** 2<br>\n",
    ">**Explanation:** We can remove the obstacles at (0, 1) and (0, 2) to create a path from (0, 0) to (2, 2).<br>\n",
    ">It can be shown that we need to remove at least 2 obstacles, so we return 2.<br>\n",
    ">Note that there may be other ways to remove 2 obstacles to create a path.\n",
    "\n",
    "**Example 2:**<br><br>\n",
    "![image2](../../images/example1drawio-2.png)<br>\n",
    ">**Input:** grid = [[0,1,0,0,0],[0,1,0,1,0],[0,0,0,1,0]]<br>\n",
    ">**Output:** 0<br>\n",
    ">**Explanation:** We can move from (0, 0) to (2, 4) without removing any obstacles, so we return 0.\n",
    "\n",
    "<br>\n",
    "\n",
    "**Constraints:**\n",
    "- >m == grid.length\n",
    "- >n == grid[i].length\n",
    "- >1 <= m, n <= 10<sup>5</sup>\n",
    "- >2 <= m * n <= 10<sup>5</sup>\n",
    "- >grid[i][j] is either `0` **or** `1`.\n",
    "- >grid[0][0] == grid[m - 1][n - 1] == 0"
   ]
  },
  {
   "cell_type": "code",
   "execution_count": 1,
   "metadata": {},
   "outputs": [],
   "source": [
    "class Solution:\n",
    "    def minimumObstacles(self, grid: list[list[int]]) -> int:\n",
    "        import heapq\n",
    "\n",
    "        m, n = len(grid), len(grid[0])\n",
    "        directions = [(0, 1), (1, 0), (0, -1), (-1, 0)]\n",
    "        heap = [(0, 0, 0)]\n",
    "        costs = [[float('inf')] * n for _ in range(m)]\n",
    "        costs[0][0] = 0\n",
    "\n",
    "        while heap:\n",
    "            cost, x, y = heapq.heappop(heap)\n",
    "\n",
    "            if (x, y) == (m - 1, n - 1):\n",
    "                return cost\n",
    "\n",
    "            for dx, dy in directions:\n",
    "                nx, ny = x + dx, y + dy\n",
    "                if 0 <= nx < m and 0 <= ny < n:\n",
    "                    new_cost = cost + grid[nx][ny]\n",
    "                    if new_cost < costs[nx][ny]:\n",
    "                        costs[nx][ny] = new_cost\n",
    "                        heapq.heappush(heap, (new_cost, nx, ny))\n",
    "        \n",
    "        return -1"
   ]
  }
 ],
 "metadata": {
  "kernelspec": {
   "display_name": "base",
   "language": "python",
   "name": "python3"
  },
  "language_info": {
   "codemirror_mode": {
    "name": "ipython",
    "version": 3
   },
   "file_extension": ".py",
   "mimetype": "text/x-python",
   "name": "python",
   "nbconvert_exporter": "python",
   "pygments_lexer": "ipython3",
   "version": "3.9.16"
  }
 },
 "nbformat": 4,
 "nbformat_minor": 2
}

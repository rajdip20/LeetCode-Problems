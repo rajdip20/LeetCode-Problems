{
 "cells": [
  {
   "cell_type": "markdown",
   "metadata": {},
   "source": [
    "You have a bomb to defuse, and your time is running out! Your informer will provide you with a **circular** array `code` of length of `n` and a key `k`.\n",
    "\n",
    "To decrypt the code, you must replace every number. All the numbers are replaced **simultaneously**.\n",
    "- If `k > 0`, replace the **i<sup>th</sup>** number with the sum of the **next** `k` numbers.\n",
    "- If `k < 0`, replace the **i<sup>th</sup>** number with the sum of the **previous** `k` numbers.\n",
    "- If `k == 0`, replace the **i<sup>th</sup>** number with `0`.\n",
    "\n",
    "As `code` is circular, the next element of `code[n-1]` is `code[0]`, and the previous element of `code[0]` is `code[n-1]`.\n",
    "\n",
    "Given the **circular** array `code` and an integer key `k`, return *the decrypted code to defuse the bomb*!\n",
    "\n",
    "<br>\n",
    "\n",
    "**Example 1:**\n",
    ">**Input:** code = [5,7,1,4], k = 3<br>\n",
    ">**Output:** [12,10,16,13]<br>\n",
    ">**Explanation:** Each number is replaced by the sum of the next 3 numbers. The decrypted code is [7+1+4, 1+4+5, 4+5+7, 5+7+1]. Notice that the numbers wrap around.\n",
    "\n",
    "**Example 2:**\n",
    ">**Input:** code = [1,2,3,4], k = 0<br>\n",
    ">**Output:** [0,0,0,0]<br>\n",
    ">**Explanation:** When k is zero, the numbers are replaced by 0. \n",
    "\n",
    "**Example 3:**\n",
    ">**Input:** code = [2,4,9,3], k = -2<br>\n",
    ">**Output:** [12,5,6,13]<br>\n",
    ">**Explanation:** The decrypted code is [3+9, 2+3, 4+2, 9+4]. Notice that the numbers wrap around again. If k is negative, the sum is of the **previous** numbers.\n",
    "\n",
    "<br>\n",
    "\n",
    "**Constraints:**\n",
    "- >n == code.length\n",
    "- >1 <= n <= 100\n",
    "- >1 <= code[i] <= 100\n",
    "- >-(n - 1) <= k <= n - 1"
   ]
  },
  {
   "cell_type": "code",
   "execution_count": 1,
   "metadata": {},
   "outputs": [],
   "source": [
    "class Solution:\n",
    "    def decrypt(self, code: list[int], k: int) -> list[int]:\n",
    "        n = len(code)\n",
    "        if k == 0:\n",
    "            return [0] * n\n",
    "\n",
    "        extended = code + code\n",
    "        \n",
    "        prefix_sum = [0] * (2 * n + 1)\n",
    "        for i in range(1, 2 * n + 1):\n",
    "            prefix_sum[i] = prefix_sum[i - 1] + extended[i - 1]\n",
    "\n",
    "        result = []\n",
    "        for i in range(n):\n",
    "            if k > 0:\n",
    "                start = i + 1\n",
    "                end = i + k\n",
    "            else:\n",
    "                start = i + n + k\n",
    "                end = i + n - 1\n",
    "            \n",
    "            result.append(prefix_sum[end + 1] - prefix_sum[start])\n",
    "        \n",
    "        return result"
   ]
  }
 ],
 "metadata": {
  "kernelspec": {
   "display_name": "base",
   "language": "python",
   "name": "python3"
  },
  "language_info": {
   "codemirror_mode": {
    "name": "ipython",
    "version": 3
   },
   "file_extension": ".py",
   "mimetype": "text/x-python",
   "name": "python",
   "nbconvert_exporter": "python",
   "pygments_lexer": "ipython3",
   "version": "3.9.16"
  }
 },
 "nbformat": 4,
 "nbformat_minor": 2
}

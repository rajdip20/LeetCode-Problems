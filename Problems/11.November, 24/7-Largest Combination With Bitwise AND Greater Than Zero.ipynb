{
 "cells": [
  {
   "cell_type": "markdown",
   "metadata": {},
   "source": [
    "The **bitwise AND** of an array `nums` is the bitwise AND of all integers in `nums`.\n",
    "- For example, for `nums = [1, 5, 3]`, the bitwise AND is equal to `1 & 5 & 3 = 1`.\n",
    "- Also, for `nums = [7]`, the bitwise AND is `7`.\n",
    "\n",
    "You are given an array of positive integers `candidates`. Evaluate the **bitwise AND** of every **combination** of numbers of `candidates`. Each number in `candidates` may only be used **once** in each combination.\n",
    "\n",
    "Return *the size of the ***largest*** combination of* `candidates` *with a bitwise AND ***greater*** than* `0`.\n",
    "\n",
    "<br>\n",
    "\n",
    "**Example 1:**\n",
    ">**Input:** candidates = [16,17,71,62,12,24,14]<br>\n",
    ">**Output:** 4<br>\n",
    ">**Explanation:** The combination [16,17,62,24] has a bitwise AND of 16 & 17 & 62 & 24 = 16 > 0.<br>\n",
    ">The size of the combination is 4.<br>\n",
    ">It can be shown that no combination with a size greater than 4 has a bitwise AND greater than 0.<br>\n",
    ">Note that more than one combination may have the largest size.<br>\n",
    ">For example, the combination [62,12,24,14] has a bitwise AND of 62 & 12 & 24 & 14 = 8 > 0.\n",
    "\n",
    "**Example 2:**\n",
    ">**Input:** candidates = [8,8]<br>\n",
    ">**Output:** 2<br>\n",
    ">**Explanation:** The largest combination [8,8] has a bitwise AND of 8 & 8 = 8 > 0.<br>\n",
    ">The size of the combination is 2, so we return 2.\n",
    "\n",
    "<br>\n",
    "\n",
    "**Constraints:**\n",
    "- >1 <= candidates.length <= 10<sup>5</sup>\n",
    "- >1 <= candidates[i] <= 10<sup>7</sup>"
   ]
  },
  {
   "cell_type": "code",
   "execution_count": 1,
   "metadata": {},
   "outputs": [],
   "source": [
    "class Solution:\n",
    "    def largestCombination(self, candidates: list[int]) -> int:\n",
    "        bit_count = [0] * 24\n",
    "    \n",
    "        for num in candidates:\n",
    "            for i in range(24):\n",
    "                if num & (1 << i):\n",
    "                    bit_count[i] += 1\n",
    "\n",
    "        return max(bit_count)"
   ]
  }
 ],
 "metadata": {
  "kernelspec": {
   "display_name": "base",
   "language": "python",
   "name": "python3"
  },
  "language_info": {
   "codemirror_mode": {
    "name": "ipython",
    "version": 3
   },
   "file_extension": ".py",
   "mimetype": "text/x-python",
   "name": "python",
   "nbconvert_exporter": "python",
   "pygments_lexer": "ipython3",
   "version": "3.9.16"
  }
 },
 "nbformat": 4,
 "nbformat_minor": 2
}

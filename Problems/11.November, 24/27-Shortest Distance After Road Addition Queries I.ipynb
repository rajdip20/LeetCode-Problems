{
 "cells": [
  {
   "cell_type": "markdown",
   "metadata": {},
   "source": [
    "You are given an integer `n` and a 2D integer array `queries`.\n",
    "\n",
    "There are `n` cities numbered from `0` to `n - 1`. Initially, there is a **unidirectional** road from city `i` to city `i + 1` for all `0 <= i < n - 1`.\n",
    "\n",
    "**queries[i] = [u<sub>i</sub>, v<sub>i</sub>]** represents the addition of a new **unidirectional** road from city **u<sub>i</sub>** to city **v<sub>i</sub>**. After each query, you need to find the **length** of the **shortest path** from city `0` to city `n - 1`.\n",
    "\n",
    "Return an array `answer` where for each `i` in the range `[0, queries.length - 1]`, `answer[i]` is the *length of the shortest path* from city `0` to city `n - 1` after processing the **first** `i + 1` queries.\n",
    "\n",
    "<br>\n",
    "\n",
    "**Example 1:**\n",
    ">**Input:** n = 5, queries = [[2,4],[0,2],[0,4]]<br>\n",
    ">**Output:** [3,2,1]<br>\n",
    ">**Explanation:**<br><br>\n",
    ">![image8](../../images/image8.jpg)<br>\n",
    ">After the addition of the road from 2 to 4, the length of the shortest path from 0 to 4 is 3.<br><br>\n",
    ">![image9](../../images/image9.jpg)<br>\n",
    ">After the addition of the road from 0 to 2, the length of the shortest path from 0 to 4 is 2.<br><br>\n",
    ">![image10](../../images/image10.jpg)<br>\n",
    ">After the addition of the road from 0 to 4, the length of the shortest path from 0 to 4 is 1.\n",
    "\n",
    "**Example 2:**\n",
    ">**Input:** n = 4, queries = [[0,3],[0,2]]<br>\n",
    ">**Output:** [1,1]<br>\n",
    ">**Explanation:**<br><br>\n",
    ">![image11](../../images/image11.jpg)<br>\n",
    ">After the addition of the road from 0 to 3, the length of the shortest path from 0 to 3 is 1.<br><br>\n",
    ">![image12](../../images/image12.jpg)<br>\n",
    ">After the addition of the road from 0 to 2, the length of the shortest path remains 1.\n",
    "\n",
    "<br>\n",
    "\n",
    "**Constraints:**\n",
    "- >3 <= n <= 500\n",
    "- >1 <= queries.length <= 500\n",
    "- >queries[i].length == 2\n",
    "- >0 <= queries[i][0] < queries[i][1] < n\n",
    "- >1 < queries[i][1] - queries[i][0]\n",
    "- >There are no repeated roads among the queries."
   ]
  },
  {
   "cell_type": "code",
   "execution_count": 1,
   "metadata": {},
   "outputs": [],
   "source": [
    "class Solution:\n",
    "    def shortestDistanceAfterQueries(self, n: int, queries: list[list[int]]) -> list[int]:\n",
    "        from collections import deque, defaultdict\n",
    "\n",
    "        graph = defaultdict(list)\n",
    "        for i in range(n - 1):\n",
    "            graph[i].append(i + 1)\n",
    "\n",
    "        def bfs():\n",
    "            visited = [False] * n\n",
    "            queue = deque([(0, 0)])\n",
    "            visited[0] = True\n",
    "            \n",
    "            while queue:\n",
    "                node, dist = queue.popleft()\n",
    "                if node == n - 1:\n",
    "                    return dist\n",
    "                for neighbor in graph[node]:\n",
    "                    if not visited[neighbor]:\n",
    "                        visited[neighbor] = True\n",
    "                        queue.append((neighbor, dist + 1))\n",
    "            return float('inf')\n",
    "\n",
    "        result = []\n",
    "        for u, v in queries:\n",
    "            graph[u].append(v)\n",
    "            result.append(bfs())\n",
    "\n",
    "        return result"
   ]
  }
 ],
 "metadata": {
  "kernelspec": {
   "display_name": "base",
   "language": "python",
   "name": "python3"
  },
  "language_info": {
   "codemirror_mode": {
    "name": "ipython",
    "version": 3
   },
   "file_extension": ".py",
   "mimetype": "text/x-python",
   "name": "python",
   "nbconvert_exporter": "python",
   "pygments_lexer": "ipython3",
   "version": "3.9.16"
  }
 },
 "nbformat": 4,
 "nbformat_minor": 2
}

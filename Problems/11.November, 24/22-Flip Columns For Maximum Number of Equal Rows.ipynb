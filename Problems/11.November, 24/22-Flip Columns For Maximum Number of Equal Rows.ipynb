{
 "cells": [
  {
   "cell_type": "markdown",
   "metadata": {},
   "source": [
    "You are given an `m x n` binary matrix `matrix`.\n",
    "\n",
    "You can choose any number of columns in the matrix and flip every cell in that column (i.e., Change the value of the cell from `0` to `1` or vice versa).\n",
    "\n",
    "Return *the maximum number of rows that have all values equal after some number of flips*.\n",
    "\n",
    "<br>\n",
    "\n",
    "**Example 1:**\n",
    ">**Input:** matrix = [[0,1],[1,1]]<br>\n",
    ">**Output:** 1<br>\n",
    ">**Explanation:** After flipping no values, 1 row has all values equal.\n",
    "\n",
    "**Example 2:**\n",
    ">**Input:** matrix = [[0,1],[1,0]]<br>\n",
    ">**Output:** 2<br>\n",
    ">**Explanation:** After flipping values in the first column, both rows have equal values.\n",
    "\n",
    "**Example 3:**\n",
    ">**Input:** matrix = [[0,0,0],[0,0,1],[1,1,0]]<br>\n",
    ">**Output:** 2<br>\n",
    ">**Explanation:** After flipping values in the first two columns, the last two rows have equal values.\n",
    "\n",
    "<br>\n",
    "\n",
    "**Constraints:**\n",
    "- >m == matrix.length\n",
    "- >n == matrix[i].length\n",
    "- >1 <= m, n <= 300\n",
    "- >matrix[i][j] is either 0 or 1."
   ]
  },
  {
   "cell_type": "code",
   "execution_count": 1,
   "metadata": {},
   "outputs": [],
   "source": [
    "class Solution:\n",
    "    def maxEqualRowsAfterFlips(self, matrix: list[list[int]]) -> int:\n",
    "        from collections import Counter\n",
    "    \n",
    "        pattern_counts = Counter()\n",
    "        \n",
    "        for row in matrix:\n",
    "            normalized = tuple((x ^ row[0]) for x in row)\n",
    "            pattern_counts[normalized] += 1\n",
    "        \n",
    "        return max(pattern_counts.values())"
   ]
  }
 ],
 "metadata": {
  "kernelspec": {
   "display_name": "base",
   "language": "python",
   "name": "python3"
  },
  "language_info": {
   "codemirror_mode": {
    "name": "ipython",
    "version": 3
   },
   "file_extension": ".py",
   "mimetype": "text/x-python",
   "name": "python",
   "nbconvert_exporter": "python",
   "pygments_lexer": "ipython3",
   "version": "3.9.16"
  }
 },
 "nbformat": 4,
 "nbformat_minor": 2
}

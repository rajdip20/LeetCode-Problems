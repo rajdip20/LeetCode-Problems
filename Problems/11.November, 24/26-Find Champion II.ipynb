{
 "cells": [
  {
   "cell_type": "markdown",
   "metadata": {},
   "source": [
    "There are `n` teams numbered from `0` to `n - 1` in a tournament; each team is also a node in a **DAG**.\n",
    "\n",
    "You are given the integer `n` and a **0-indexed** 2D integer array `edges` of length `m` representing the **DAG**, where **edges[i] = [u<sub>i</sub>, v<sub>i</sub>]** indicates that there is a directed edge from team **u<sub>i</sub>** to team **v<sub>i</sub>** in the graph.\n",
    "\n",
    "A directed edge from `a` to `b` in the graph means that team `a` is **stronger** than team `b` and team `b` is **weaker** than team `a`.\n",
    "\n",
    "Team `a` will be the **champion** of the tournament if there is no team `b` that is **stronger** than team `a`.\n",
    "\n",
    "Return *the team that will be the ***champion*** of the tournament if there is a ***unique*** champion, otherwise, return* `-1`.\n",
    "\n",
    "**Notes**\n",
    "- A **cycle** is a series of nodes **a<sub>1</sub>, a<sub>2</sub>, ..., a<sub>n</sub>, a<sub>n+1</sub>** such that node **a<sub>1</sub>** is the same node as node **a<sub>n+1</sub>**, the nodes **a<sub>1</sub>, a<sub>2</sub>, ..., a<sub>n</sub>** are distinct, and there is a directed edge from the node **a<sub>i</sub>** to node **a<sub>i+1</sub>** for every `i` in the range `[1, n]`.\n",
    "- A **DAG** is a directed graph that does not have any **cycle**.\n",
    "\n",
    "<br>\n",
    "\n",
    "**Example 1:**<br><br>\n",
    "![image1](../../images/Graph3.png)<br>\n",
    ">**Input:** n = 3, edges = [[0,1],[1,2]]<br>\n",
    ">**Output:** 0<br>\n",
    ">**Explanation:** Team 1 is weaker than team 0. Team 2 is weaker than team 1. So the champion is team 0.\n",
    "\n",
    "**Example 2:**<br><br>\n",
    "![image2](../../images/graph-4.png)<br>\n",
    ">**Input:** n = 4, edges = [[0,2],[1,3],[1,2]]<br>\n",
    ">**Output:** -1<br>\n",
    ">**Explanation:** Team 2 is weaker than team 0 and team 1. Team 3 is weaker than team 1. But team 1 and team 0 are not weaker than any other teams. So the answer is -1.\n",
    "\n",
    "<br>\n",
    "\n",
    "**Constraints:**\n",
    "- >1 <= n <= 100\n",
    "- >m == edges.length\n",
    "- >0 <= m <= n * (n - 1) / 2\n",
    "- >edges[i].length == 2\n",
    "- >0 <= edge[i][j] <= n - 1\n",
    "- >edges[i][0] != edges[i][1]\n",
    "- >The input is generated such that if team a is stronger than team b, team b is not stronger than team a.\n",
    "- >The input is generated such that if team a is stronger than team b and team b is stronger than team c, then team a is stronger than team c."
   ]
  },
  {
   "cell_type": "code",
   "execution_count": 1,
   "metadata": {},
   "outputs": [],
   "source": [
    "class Solution:\n",
    "    def findChampion(self, n: int, edges: list[list[int]]) -> int:\n",
    "        in_degree = [0] * n\n",
    "    \n",
    "        for u, v in edges:\n",
    "            in_degree[v] += 1\n",
    "        \n",
    "        champions = [i for i in range(n) if in_degree[i] == 0]\n",
    "        \n",
    "        if len(champions) == 1:\n",
    "            return champions[0]\n",
    "        return -1"
   ]
  }
 ],
 "metadata": {
  "kernelspec": {
   "display_name": "base",
   "language": "python",
   "name": "python3"
  },
  "language_info": {
   "codemirror_mode": {
    "name": "ipython",
    "version": 3
   },
   "file_extension": ".py",
   "mimetype": "text/x-python",
   "name": "python",
   "nbconvert_exporter": "python",
   "pygments_lexer": "ipython3",
   "version": "3.9.16"
  }
 },
 "nbformat": 4,
 "nbformat_minor": 2
}

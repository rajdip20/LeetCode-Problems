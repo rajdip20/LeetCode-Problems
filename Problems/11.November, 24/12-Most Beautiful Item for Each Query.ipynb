{
 "cells": [
  {
   "cell_type": "markdown",
   "metadata": {},
   "source": [
    "You are given a 2D integer array `items` where **items[i] = [price<sub>i</sub>, beauty<sub>i</sub>]** denotes the **price** and **beauty** of an item respectively.\n",
    "\n",
    "You are also given a **0-indexed** integer array `queries`. For each `queries[j]`, you want to determine the **maximum beauty** of an item whose **price** is **less than or equal** to `queries[j]`. If no such item exists, then the answer to this query is `0`.\n",
    "\n",
    "Return *an array* `answer` *of the same length as* `queries` *where* `answer[j]` *is the answer to the* **j<sup>th</sup>** *query*.\n",
    "\n",
    "<br>\n",
    "\n",
    "**Example 1:**\n",
    ">**Input:** items = [[1,2],[3,2],[2,4],[5,6],[3,5]], queries = [1,2,3,4,5,6]<br>\n",
    ">**Output:** [2,4,5,5,6,6]<br>\n",
    ">**Explanation:**<br>\n",
    ">\\- For queries[0]=1, [1,2] is the only item which has price <= 1. Hence, the answer for this query is 2.<br>\n",
    ">\\- For queries[1]=2, the items which can be considered are [1,2] and [2,4]. <br>\n",
    ">&emsp; The maximum beauty among them is 4.<br>\n",
    ">\\- For queries[2]=3 and queries[3]=4, the items which can be considered are [1,2], [3,2], [2,4], and [3,5].<br>\n",
    ">&emsp; The maximum beauty among them is 5.<br>\n",
    ">\\- For queries[4]=5 and queries[5]=6, all items can be considered.<br>\n",
    ">&emsp; Hence, the answer for them is the maximum beauty of all items, i.e., 6.\n",
    "\n",
    "**Example 2:**\n",
    ">**Input:** items = [[1,2],[1,2],[1,3],[1,4]], queries = [1]<br>\n",
    ">**Output:** [4]<br>\n",
    ">**Explanation:** <br>\n",
    ">The price of every item is equal to 1, so we choose the item with the maximum beauty 4. <br>\n",
    ">Note that multiple items can have the same price and/or beauty.  \n",
    "\n",
    "**Example 3:**\n",
    ">**Input:** items = [[10,1000]], queries = [5]<br>\n",
    ">**Output:** [0]<br>\n",
    ">**Explanation:**<br>\n",
    ">No item has a price less than or equal to 5, so no item can be chosen.<br>\n",
    ">Hence, the answer to the query is 0.\n",
    "\n",
    "<br>\n",
    "\n",
    "**Constraints:**\n",
    "- >1 <= items.length, queries.length <= 10<sup>5</sup>\n",
    "- >items[i].length == 2\n",
    "- >1 <= price<sub>i</sub>, beauty<sub>i</sub>, queries[j] <= 10<sup>9</sup>"
   ]
  },
  {
   "cell_type": "code",
   "execution_count": 1,
   "metadata": {},
   "outputs": [],
   "source": [
    "class Solution:\n",
    "    def maximumBeauty(self, items: list[list[int]], queries: list[int]) -> list[int]:\n",
    "        maxI = float('inf')\n",
    "        res = [[0, 0, maxI]]\n",
    "    \n",
    "        items.sort(key=lambda x: x[0])\n",
    "\n",
    "        for price, beauty in items:\n",
    "            lastBracket = res[-1]\n",
    "            if beauty > lastBracket[1]:\n",
    "                res[-1][2] = price\n",
    "                res.append([price, beauty, maxI])\n",
    "\n",
    "        ans = []\n",
    "\n",
    "        for x in queries:\n",
    "            for i in range(len(res) - 1, -1, -1):\n",
    "                if res[i][0] <= x:\n",
    "                    ans.append(res[i][1])\n",
    "                    break\n",
    "\n",
    "        return ans"
   ]
  }
 ],
 "metadata": {
  "kernelspec": {
   "display_name": "base",
   "language": "python",
   "name": "python3"
  },
  "language_info": {
   "codemirror_mode": {
    "name": "ipython",
    "version": 3
   },
   "file_extension": ".py",
   "mimetype": "text/x-python",
   "name": "python",
   "nbconvert_exporter": "python",
   "pygments_lexer": "ipython3",
   "version": "3.9.16"
  }
 },
 "nbformat": 4,
 "nbformat_minor": 2
}

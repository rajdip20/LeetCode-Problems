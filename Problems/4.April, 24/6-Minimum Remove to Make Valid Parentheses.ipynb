{
 "cells": [
  {
   "cell_type": "markdown",
   "metadata": {},
   "source": [
    "Given a string s of `'('` , `')'` and lowercase English characters.\n",
    "\n",
    "Your task is to remove the minimum number of parentheses ( `'('` or `')'`, in any positions ) so that the resulting *parentheses string* is valid and return **any** valid string.\n",
    "\n",
    "Formally, a *parentheses string* is valid if and only if:\n",
    "- It is the empty string, contains only lowercase characters, or\n",
    "- It can be written as `AB` (`A` concatenated with `B`), where `A` and `B` are valid strings, or\n",
    "- It can be written as `(A)`, where `A` is a valid string.\n",
    "\n",
    "<br>\n",
    "\n",
    "**Example 1:**\n",
    ">**Input:** s = \"lee(t(c)o)de)\"<br>\n",
    ">**Output:** \"lee(t(c)o)de\"<br>\n",
    ">**Explanation:** \"lee(t(co)de)\" , \"lee(t(c)ode)\" would also be accepted.\n",
    "\n",
    "**Example 2:**\n",
    ">**Input:** s = \"a)b(c)d\"<br>\n",
    ">**Output:** \"ab(c)d\"\n",
    "\n",
    "**Example 3:**\n",
    ">**Input:** s = \"))((\"<br>\n",
    ">**Output:** \"\"<br>\n",
    ">**Explanation:** An empty string is also valid.\n",
    "\n",
    "<br>\n",
    "\n",
    "**Constraints:**\n",
    "- >1 <= s.length <= 10<sup>5</sup>\n",
    "- >`s[i]` is either `'('` , `')'`, or lowercase English letter`.`"
   ]
  },
  {
   "cell_type": "code",
   "execution_count": 1,
   "metadata": {},
   "outputs": [],
   "source": [
    "class Solution:\n",
    "    def minRemoveToMakeValid(self, s: str) -> str:\n",
    "        stack = []\n",
    "        to_remove = set()\n",
    "        \n",
    "        for i, char in enumerate(s):\n",
    "            if char == '(':\n",
    "                stack.append(i)\n",
    "            elif char == ')':\n",
    "                if stack:\n",
    "                    stack.pop()\n",
    "                else:\n",
    "                    to_remove.add(i)\n",
    "        \n",
    "        to_remove.update(stack)\n",
    "        result = []\n",
    "     \n",
    "        for i, char in enumerate(s):\n",
    "            if i not in to_remove:\n",
    "                result.append(char)\n",
    "        \n",
    "        return ''.join(result)"
   ]
  }
 ],
 "metadata": {
  "kernelspec": {
   "display_name": "base",
   "language": "python",
   "name": "python3"
  },
  "language_info": {
   "codemirror_mode": {
    "name": "ipython",
    "version": 3
   },
   "file_extension": ".py",
   "mimetype": "text/x-python",
   "name": "python",
   "nbconvert_exporter": "python",
   "pygments_lexer": "ipython3",
   "version": "3.9.16"
  }
 },
 "nbformat": 4,
 "nbformat_minor": 2
}

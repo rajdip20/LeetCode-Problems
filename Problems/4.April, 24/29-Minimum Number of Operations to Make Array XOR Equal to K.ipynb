{
 "cells": [
  {
   "cell_type": "markdown",
   "metadata": {},
   "source": [
    "You are given a **0-indexed** integer array `nums` and a positive integer `k`.\n",
    "\n",
    "You can apply the following operation on the array **any** number of times:\n",
    "- Choose **any** element of the array and **flip** a bit in its **binary** representation. Flipping a bit means changing a `0` to `1` or vice versa.\n",
    "\n",
    "Return *the ***minimum*** number of operations required to make the bitwise* `XOR` *of ***all*** elements of the final array equal to* `k`.\n",
    "\n",
    "**Note** that you can flip leading zero bits in the binary representation of elements. For example, for the number **(101)<sub>2</sub>** you can flip the fourth bit and obtain **(1101)<sub>2</sub>**.\n",
    "\n",
    "<br>\n",
    "\n",
    "**Example 1:**\n",
    ">**Input:** nums = [2,1,3,4], k = 1<br>\n",
    ">Output: 2<br>\n",
    ">**Explanation:** We can do the following operations:<br>\n",
    ">\\- Choose element 2 which is 3 == (011)2, we flip the first bit and we obtain (010)2 == 2. nums becomes [2,1,2,4].<br>\n",
    ">\\- Choose element 0 which is 2 == (010)2, we flip the third bit and we obtain (110)2 = 6. nums becomes [6,1,2,4].<br>\n",
    ">The XOR of elements of the final array is (6 XOR 1 XOR 2 XOR 4) == 1 == k.<br>\n",
    ">It can be shown that we cannot make the XOR equal to k in less than 2 operations.\n",
    "\n",
    "**Example 2:**\n",
    ">**Input:** nums = [2,0,2,0], k = 0<br>\n",
    ">**Output:** 0<br>\n",
    ">**Explanation:** The XOR of elements of the array is (2 XOR 0 XOR 2 XOR 0) == 0 == k. So no operation is needed.\n",
    "\n",
    "<br>\n",
    "\n",
    "**Constraints:**\n",
    "- >1 <= nums.length <= 10<sup>5</sup>\n",
    "- >0 <= nums[i] <= 10<sup>6</sup>\n",
    "- >0 <= k <= 10<sup>6</sup>"
   ]
  },
  {
   "cell_type": "code",
   "execution_count": 1,
   "metadata": {},
   "outputs": [],
   "source": [
    "class Solution:\n",
    "    def minOperations(self, nums: list[int], k: int) -> int:\n",
    "        final_xor = 0\n",
    "        for n in nums:\n",
    "            final_xor = final_xor ^ n\n",
    "\n",
    "        count = 0\n",
    "        while k or final_xor:\n",
    "            if (k % 2) != (final_xor % 2):\n",
    "                count += 1\n",
    "\n",
    "            k //= 2\n",
    "            final_xor //= 2\n",
    "\n",
    "        return count"
   ]
  }
 ],
 "metadata": {
  "kernelspec": {
   "display_name": "base",
   "language": "python",
   "name": "python3"
  },
  "language_info": {
   "codemirror_mode": {
    "name": "ipython",
    "version": 3
   },
   "file_extension": ".py",
   "mimetype": "text/x-python",
   "name": "python",
   "nbconvert_exporter": "python",
   "pygments_lexer": "ipython3",
   "version": "3.9.16"
  }
 },
 "nbformat": 4,
 "nbformat_minor": 2
}

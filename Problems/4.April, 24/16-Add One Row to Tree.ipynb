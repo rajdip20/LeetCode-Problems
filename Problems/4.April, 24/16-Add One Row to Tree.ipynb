{
 "cells": [
  {
   "cell_type": "markdown",
   "metadata": {},
   "source": [
    "Given the `root` of a binary tree and two integers `val` and `depth`, add a row of nodes with value `val` at the given depth `depth`.\n",
    "\n",
    "Note that the `root` node is at depth `1`.\n",
    "\n",
    "The adding rule is:\n",
    "- Given the integer `depth`, for each not null tree node `cur` at the depth `depth - 1`, create two tree nodes with value `val` as `cur`'s left subtree root and right subtree root.\n",
    "- `cur`'s original left subtree should be the left subtree of the new left subtree root.\n",
    "- `cur`'s original right subtree should be the right subtree of the new right subtree root.\n",
    "- If `depth == 1` that means there is no depth `depth - 1` at all, then create a tree node with value `val` as the new root of the whole original tree, and the original tree is the new root's left subtree.\n",
    "\n",
    "<br>\n",
    "\n",
    "**Example 1:**\n",
    "\n",
    "![addrow-tree](../../images/addrow-tree.jpg)\n",
    "\n",
    ">**Input:** root = [4,2,6,3,1,5], val = 1, depth = 2<br>\n",
    ">**Output:** [4,1,1,2,null,null,6,3,1,5]\n",
    "\n",
    "**Example 2:**\n",
    "\n",
    "![add2-tree](../../images/add2-tree.jpg)\n",
    "\n",
    ">**Input:** root = [4,2,null,3,1], val = 1, depth = 3<br>\n",
    ">**Output:** [4,2,null,1,1,3,null,null,1]\n",
    "\n",
    "<br>\n",
    "\n",
    "**Constraints:**\n",
    "- >The number of nodes in the tree is in the range [1, 10<sup>4</sup>].\n",
    "- >The depth of the tree is in the range [1, 10<sup>4</sup>].\n",
    "- >-100 <= Node.val <= 100\n",
    "- >-10<sup>5</sup> <= val <= 10<sup>5</sup>\n",
    "- >1 <= depth <= the depth of tree + 1"
   ]
  },
  {
   "cell_type": "code",
   "execution_count": 1,
   "metadata": {},
   "outputs": [],
   "source": [
    "# Definition for a binary tree node.\n",
    "# class TreeNode:\n",
    "#     def __init__(self, val=0, left=None, right=None):\n",
    "#         self.val = val\n",
    "#         self.left = left\n",
    "#         self.right = right\n",
    "class Solution:\n",
    "    def addOneRow(self, root, val: int, depth: int):\n",
    "        if depth == 1:\n",
    "            new_root = TreeNode(val)\n",
    "            new_root.left = root\n",
    "            return new_root\n",
    "        \n",
    "        def dfs(node, level):\n",
    "            if not node:\n",
    "                return\n",
    "            \n",
    "            if level == depth - 1:\n",
    "                left_child = TreeNode(val)\n",
    "                left_child.left = node.left\n",
    "                node.left = left_child\n",
    "                \n",
    "                right_child = TreeNode(val)\n",
    "                right_child.right = node.right\n",
    "                node.right = right_child\n",
    "            else:\n",
    "                dfs(node.left, level + 1)\n",
    "                dfs(node.right, level + 1)\n",
    "        \n",
    "        dfs(root, 1)\n",
    "        return root"
   ]
  }
 ],
 "metadata": {
  "kernelspec": {
   "display_name": "base",
   "language": "python",
   "name": "python3"
  },
  "language_info": {
   "codemirror_mode": {
    "name": "ipython",
    "version": 3
   },
   "file_extension": ".py",
   "mimetype": "text/x-python",
   "name": "python",
   "nbconvert_exporter": "python",
   "pygments_lexer": "ipython3",
   "version": "3.9.16"
  }
 },
 "nbformat": 4,
 "nbformat_minor": 2
}

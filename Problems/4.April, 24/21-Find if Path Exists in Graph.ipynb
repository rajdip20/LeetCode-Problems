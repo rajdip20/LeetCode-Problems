{
 "cells": [
  {
   "cell_type": "markdown",
   "metadata": {},
   "source": [
    "There is a **bi-directional** graph with `n` vertices, where each vertex is labeled from `0` to `n - 1` (**inclusive**). The edges in the graph are represented as a 2D integer array `edges`, where each **edges[i] = [u<sub>i</sub>, v<sub>i</sub>]** denotes a bi-directional edge between vertex **u<sub>i</sub>** and vertex **v<sub>i</sub>**. Every vertex pair is connected by **at most one** edge, and no vertex has an edge to itself.\n",
    "\n",
    "You want to determine if there is a **valid path** that exists from vertex `source` to vertex `destination`.\n",
    "\n",
    "Given `edges` and the integers `n`, `source`, and `destination`, return `true` *if there is a ***valid path*** from* `source` *to* `destination`, *or* `false` *otherwise*.\n",
    "\n",
    "<br>\n",
    "\n",
    "**Example 1:**\n",
    "\n",
    "![validpath-ex1](../../images/validpath-ex1.png)\n",
    "\n",
    ">**Input:** n = 3, edges = [[0,1],[1,2],[2,0]], source = 0, destination = 2<br>\n",
    ">**Output:** true<br>\n",
    ">**Explanation:** There are two paths from vertex 0 to vertex 2:<br>\n",
    ">\\- 0 → 1 → 2<br>\n",
    ">\\- 0 → 2\n",
    "\n",
    "**Example 2:**\n",
    "\n",
    "![validpath-ex2](../../images/validpath-ex2.png)\n",
    "\n",
    ">**Input:** n = 6, edges = [[0,1],[0,2],[3,5],[5,4],[4,3]], source = 0, destination = 5<br>\n",
    ">**Output:** false<br>\n",
    ">**Explanation:** There is no path from vertex 0 to vertex 5.\n",
    "\n",
    "<br>\n",
    "\n",
    "**Constraints:**\n",
    "- >1 <= n <= 2 * 10<sup>5</sup>\n",
    "- >0 <= edges.length <= 2 * 10<sup>5</sup>\n",
    "- >edges[i].length == 2\n",
    "- >0 <= u<sub>i</sub>, v<sub>i</sub> <= n - 1\n",
    "- >u<sub>i</sub> != v<sub>i</sub>\n",
    "- >0 <= source, destination <= n - 1\n",
    "- >There are no duplicate edges.\n",
    "- >There are no self edges."
   ]
  },
  {
   "cell_type": "code",
   "execution_count": 1,
   "metadata": {},
   "outputs": [],
   "source": [
    "class Solution:\n",
    "    def validPath(self, n: int, edges: list[list[int]], source: int, destination: int) -> bool:\n",
    "        graph = [[] for _ in range(n)]\n",
    "\n",
    "        for u, v in edges:\n",
    "            graph[u].append(v)\n",
    "            graph[v].append(u)\n",
    "\n",
    "        visited = set()\n",
    "        stack = [source]\n",
    "\n",
    "        while stack:\n",
    "            vertex = stack.pop()\n",
    "            \n",
    "            if vertex == destination:\n",
    "                return True\n",
    "            visited.add(vertex)\n",
    "            \n",
    "            for neighbor in graph[vertex]:\n",
    "                if neighbor not in visited:\n",
    "                    stack.append(neighbor)\n",
    "\n",
    "        return False"
   ]
  }
 ],
 "metadata": {
  "kernelspec": {
   "display_name": "base",
   "language": "python",
   "name": "python3"
  },
  "language_info": {
   "codemirror_mode": {
    "name": "ipython",
    "version": 3
   },
   "file_extension": ".py",
   "mimetype": "text/x-python",
   "name": "python",
   "nbconvert_exporter": "python",
   "pygments_lexer": "ipython3",
   "version": "3.9.16"
  }
 },
 "nbformat": 4,
 "nbformat_minor": 2
}

{
 "cells": [
  {
   "cell_type": "markdown",
   "metadata": {},
   "source": [
    "A tree is an undirected graph in which any two vertices are connected by *exactly* one path. In other words, any connected graph without simple cycles is a tree.\n",
    "\n",
    "Given a tree of `n` nodes labelled from `0` to `n - 1`, and an array of `n - 1` `edges` where **edges[i] = [a<sub>i</sub>, b<sub>i</sub>]** indicates that there is an undirected edge between the two nodes **a<sub>i</sub>** and **b<sub>i</sub>** in the tree, you can choose any node of the tree as the root. When you select a node `x` as the root, the result tree has height `h`. Among all possible rooted trees, those with minimum height (i.e. `min(h)`)  are called **minimum height trees** (MHTs).\n",
    "\n",
    "Return *a list of all ***MHTs'*** root labels*. You can return the answer in **any order**.\n",
    "\n",
    "The **height** of a rooted tree is the number of edges on the longest downward path between the root and a leaf.\n",
    "\n",
    "<br>\n",
    "\n",
    "**Example 1:**\n",
    "\n",
    "![e1](../../images/e1.jpg)\n",
    "\n",
    ">**Input:** n = 4, edges = [[1,0],[1,2],[1,3]]<br>\n",
    ">**Output:** [1]<br>\n",
    ">**Explanation:** As shown, the height of the tree is 1 when the root is the node with label 1 which is the only MHT.\n",
    "\n",
    "**Example 2:**\n",
    "\n",
    "![e2](../../images/e2.jpg)\n",
    "\n",
    ">**Input:** n = 6, edges = [[3,0],[3,1],[3,2],[3,4],[5,4]]<br>\n",
    ">**Output:** [3,4]\n",
    "\n",
    "<br>\n",
    "\n",
    "**Constraints:**\n",
    "- >1 <= n <= 2 * 10<sup>4</sup>\n",
    "- >edges.length == n - 1\n",
    "- >0 <= a<sub>i</sub>, b<sub>i</sub> < n\n",
    "- >a<sub>i</sub> != b<sub>i</sub>\n",
    "- >All the pairs (a<sub>i</sub>, b<sub>i</sub>) are distinct.\n",
    "- >The given input is **guaranteed** to be a tree and there will be **no repeated** edges."
   ]
  },
  {
   "cell_type": "code",
   "execution_count": 1,
   "metadata": {},
   "outputs": [],
   "source": [
    "class Solution:\n",
    "    def findMinHeightTrees(self, n: int, edges: list[list[int]]) -> list[int]:\n",
    "        from collections import defaultdict\n",
    "\n",
    "        if n == 1:\n",
    "            return [0]\n",
    "\n",
    "        graph = defaultdict(set)\n",
    "        for u, v in edges:\n",
    "            graph[u].add(v)\n",
    "            graph[v].add(u)\n",
    "\n",
    "        leaves = [i for i in range(n) if len(graph[i]) == 1]\n",
    "        remaining_nodes = n\n",
    "        \n",
    "        while remaining_nodes > 2:\n",
    "            remaining_nodes -= len(leaves)\n",
    "            new_leaves = []\n",
    "            \n",
    "            while leaves:\n",
    "                leaf = leaves.pop()\n",
    "                neighbor = graph[leaf].pop()\n",
    "                graph[neighbor].remove(leaf)\n",
    "                if len(graph[neighbor]) == 1:\n",
    "                    new_leaves.append(neighbor)\n",
    "            leaves = new_leaves\n",
    "\n",
    "        return leaves"
   ]
  }
 ],
 "metadata": {
  "kernelspec": {
   "display_name": "base",
   "language": "python",
   "name": "python3"
  },
  "language_info": {
   "codemirror_mode": {
    "name": "ipython",
    "version": 3
   },
   "file_extension": ".py",
   "mimetype": "text/x-python",
   "name": "python",
   "nbconvert_exporter": "python",
   "pygments_lexer": "ipython3",
   "version": "3.9.16"
  }
 },
 "nbformat": 4,
 "nbformat_minor": 2
}

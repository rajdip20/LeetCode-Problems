{
 "cells": [
  {
   "cell_type": "markdown",
   "metadata": {},
   "source": [
    "There are `n` people in a line queuing to buy tickets, where the **0<sup>th</sup>** person is at the **front** of the line and the **(n - 1)<sup>th</sup>** person is at the **back** of the line.\n",
    "\n",
    "You are given a **0-indexed** integer array `tickets` of length `n` where the number of tickets that the **i<sup>th</sup>** person would like to buy is `tickets[i]`.\n",
    "\n",
    "Each person takes **exactly 1 second** to buy a ticket. A person can only buy **1 ticket at a time** and has to go back to **the end** of the line (which happens **instantaneously**) in order to buy more tickets. If a person does not have any tickets left to buy, the person will **leave** the line.\n",
    "\n",
    "Return *the ***time taken*** for the person at position* `k` ***(0-indexed)*** *to finish buying tickets*.\n",
    "\n",
    "<br>\n",
    "\n",
    "**Example 1:**\n",
    ">**Input:** tickets = [2,3,2], k = 2<br>\n",
    ">**Output:** 6<br>\n",
    ">**Explanation:** <br>\n",
    "> \\- In the first pass, everyone in the line buys a ticket and the line becomes [1, 2, 1].<br>\n",
    "> \\- In the second pass, everyone in the line buys a ticket and the line becomes [0, 1, 0].<br>\n",
    ">The person at position 2 has successfully bought 2 tickets and it took 3 + 3 = 6 seconds.\n",
    "\n",
    "**Example 2:**\n",
    ">**Input:** tickets = [5,1,1,1], k = 0<br>\n",
    ">**Output:** 8<br>\n",
    ">**Explanation:**<br>\n",
    "> \\- In the first pass, everyone in the line buys a ticket and the line becomes [4, 0, 0, 0].<br>\n",
    "> \\- In the next 4 passes, only the person in position 0 is buying tickets.<br>\n",
    ">The person at position 0 has successfully bought 5 tickets and it took 4 + 1 + 1 + 1 + 1 = 8 seconds.\n",
    "\n",
    "<br>\n",
    "\n",
    "**Constraints:**\n",
    "- >n == tickets.length\n",
    "- >1 <= n <= 100\n",
    "- >1 <= tickets[i] <= 100\n",
    "- >0 <= k < n"
   ]
  },
  {
   "cell_type": "code",
   "execution_count": 1,
   "metadata": {},
   "outputs": [],
   "source": [
    "class Solution:\n",
    "    def timeRequiredToBuy(self, tickets: list[int], k: int) -> int:\n",
    "        ans = 0\n",
    "        for i, v in enumerate(tickets):\n",
    "            if i <= k:\n",
    "                ans += min(tickets[i], tickets[k])\n",
    "            else:\n",
    "                ans += min(tickets[i], tickets[k] - 1)\n",
    "        \n",
    "        return ans"
   ]
  }
 ],
 "metadata": {
  "kernelspec": {
   "display_name": "base",
   "language": "python",
   "name": "python3"
  },
  "language_info": {
   "codemirror_mode": {
    "name": "ipython",
    "version": 3
   },
   "file_extension": ".py",
   "mimetype": "text/x-python",
   "name": "python",
   "nbconvert_exporter": "python",
   "pygments_lexer": "ipython3",
   "version": "3.9.16"
  }
 },
 "nbformat": 4,
 "nbformat_minor": 2
}

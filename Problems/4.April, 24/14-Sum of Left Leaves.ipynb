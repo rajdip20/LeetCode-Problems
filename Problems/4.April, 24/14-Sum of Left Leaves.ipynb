{
 "cells": [
  {
   "cell_type": "markdown",
   "metadata": {},
   "source": [
    "Given the `root` of a binary tree, return *the sum of all left leaves*.\n",
    "\n",
    "A **leaf** is a node with no children. A **left leaf** is a leaf that is the left child of another node.\n",
    "\n",
    "<br>\n",
    "\n",
    "**Example 1:**\n",
    "\n",
    "![leftsum-tree](../../images/leftsum-tree.jpg)\n",
    "\n",
    ">**Input:** root = [3,9,20,null,null,15,7]<br>\n",
    ">**Output:** 24<br>\n",
    ">**Explanation:** There are two left leaves in the binary tree, with values 9 and 15 respectively.\n",
    "\n",
    "**Example 2:**\n",
    ">**Input:** root = [1]<br>\n",
    ">**Output:** 0\n",
    "\n",
    "<br>\n",
    "\n",
    "**Constraints:**\n",
    "- >The number of nodes in the tree is in the range [1, 1000].\n",
    "- >-1000 <= Node.val <= 1000"
   ]
  },
  {
   "cell_type": "code",
   "execution_count": 1,
   "metadata": {},
   "outputs": [],
   "source": [
    "# Definition for a binary tree node.\n",
    "# class TreeNode:\n",
    "#     def __init__(self, val=0, left=None, right=None):\n",
    "#         self.val = val\n",
    "#         self.left = left\n",
    "#         self.right = right\n",
    "class Solution:\n",
    "    def sumOfLeftLeaves(self, root) -> int:\n",
    "        def isLeaf(node):\n",
    "            return node and not node.left and not node.right\n",
    "\n",
    "        def dfs(node):\n",
    "            if not node:\n",
    "                return 0\n",
    "            \n",
    "            left_sum = dfs(node.left) if node.left else 0\n",
    "            right_sum = dfs(node.right) if node.right else 0\n",
    "            \n",
    "            return left_sum + right_sum + (node.left.val if isLeaf(node.left) else 0)\n",
    "\n",
    "        return dfs(root)"
   ]
  }
 ],
 "metadata": {
  "kernelspec": {
   "display_name": "base",
   "language": "python",
   "name": "python3"
  },
  "language_info": {
   "codemirror_mode": {
    "name": "ipython",
    "version": 3
   },
   "file_extension": ".py",
   "mimetype": "text/x-python",
   "name": "python",
   "nbconvert_exporter": "python",
   "pygments_lexer": "ipython3",
   "version": "3.9.16"
  }
 },
 "nbformat": 4,
 "nbformat_minor": 2
}

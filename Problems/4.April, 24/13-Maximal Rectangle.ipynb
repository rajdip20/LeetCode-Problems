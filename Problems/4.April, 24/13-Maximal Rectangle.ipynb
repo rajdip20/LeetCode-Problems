{
 "cells": [
  {
   "cell_type": "markdown",
   "metadata": {},
   "source": [
    "Given a `rows x cols` binary `matrix` filled with `0`'s and `1`'s, find the largest rectangle containing only `1`'s and return *its area*.\n",
    "\n",
    "<br>\n",
    "\n",
    "**Example 1:**\n",
    "\n",
    "![maximal](../../images/maximal.jpg)\n",
    "\n",
    ">**Input:** matrix = [[\"1\",\"0\",\"1\",\"0\",\"0\"],[\"1\",\"0\",\"1\",\"1\",\"1\"],[\"1\",\"1\",\"1\",\"1\",\"1\"],[\"1\",\"0\",\"0\",\"1\",\"0\"]]<br>\n",
    ">**Output:** 6<br>\n",
    ">**Explanation:** The maximal rectangle is shown in the above picture.\n",
    "\n",
    "**Example 2:**\n",
    ">**Input:** matrix = [[\"0\"]]<br>\n",
    ">**Output:** 0\n",
    "\n",
    "**Example 3:**\n",
    ">**Input:** matrix = [[\"1\"]]<br>\n",
    ">**Output:** 1\n",
    "\n",
    "<br>\n",
    "\n",
    "**Constraints:**\n",
    "- >rows == matrix.length\n",
    "- >cols == matrix[i].length\n",
    "- >1 <= row, cols <= 200\n",
    "- >matrix[i][j] is '0' or '1'."
   ]
  },
  {
   "cell_type": "code",
   "execution_count": 1,
   "metadata": {},
   "outputs": [],
   "source": [
    "class Solution:\n",
    "    def maximalRectangle(self, matrix: list[list[str]]) -> int:\n",
    "        if not matrix:\n",
    "            return 0\n",
    "\n",
    "        rows, cols = len(matrix), len(matrix[0])\n",
    "        dp = [[0] * cols for _ in range(rows)]\n",
    "\n",
    "        for j in range(cols):\n",
    "            dp[0][j] = int(matrix[0][j])\n",
    "\n",
    "        for i in range(1, rows):\n",
    "            for j in range(cols):\n",
    "                if matrix[i][j] == \"1\":\n",
    "                    dp[i][j] = dp[i - 1][j] + 1\n",
    "\n",
    "        max_area = 0\n",
    "        for i in range(rows):\n",
    "            stack = []\n",
    "            for j in range(cols):\n",
    "                while stack and dp[i][j] < dp[i][stack[-1]]:\n",
    "                    height = dp[i][stack.pop()]\n",
    "                    width = j if not stack else j - stack[-1] - 1\n",
    "                    max_area = max(max_area, height * width)\n",
    "                stack.append(j)\n",
    "\n",
    "            while stack:\n",
    "                height = dp[i][stack.pop()]\n",
    "                width = cols if not stack else cols - stack[-1] - 1\n",
    "                max_area = max(max_area, height * width)\n",
    "\n",
    "        return max_area"
   ]
  }
 ],
 "metadata": {
  "kernelspec": {
   "display_name": "base",
   "language": "python",
   "name": "python3"
  },
  "language_info": {
   "codemirror_mode": {
    "name": "ipython",
    "version": 3
   },
   "file_extension": ".py",
   "mimetype": "text/x-python",
   "name": "python",
   "nbconvert_exporter": "python",
   "pygments_lexer": "ipython3",
   "version": "3.9.16"
  }
 },
 "nbformat": 4,
 "nbformat_minor": 2
}

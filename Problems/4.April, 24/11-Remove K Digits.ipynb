{
 "cells": [
  {
   "cell_type": "markdown",
   "metadata": {},
   "source": [
    "Given string num representing a non-negative integer `num`, and an integer `k`, return *the smallest possible integer after removing* `k` *digits from* `num`.\n",
    "\n",
    "<br>\n",
    "\n",
    "**Example 1:**\n",
    ">**Input:** num = \"1432219\", k = 3<br>\n",
    ">**Output:** \"1219\"<br>\n",
    ">**Explanation:** Remove the three digits 4, 3, and 2 to form the new number 1219 which is the smallest.\n",
    "\n",
    "**Example 2:**\n",
    ">**Input:** num = \"10200\", k = 1<br>\n",
    ">**Output:** \"200\"<br>\n",
    ">**Explanation:** Remove the leading 1 and the number is 200. Note that the output must not contain leading zeroes.\n",
    "\n",
    "**Example 3:**\n",
    ">**Input:** num = \"10\", k = 2<br>\n",
    ">**Output:** \"0\"<br>\n",
    ">**Explanation:** Remove all the digits from the number and it is left with nothing which is 0.\n",
    "\n",
    "<br>\n",
    "\n",
    "**Constraints:**\n",
    "- >1 <= k <= num.length <= 10<sup>5</sup>\n",
    "- >num consists of only digits.\n",
    "- >num does not have any leading zeros except for the zero itself."
   ]
  },
  {
   "cell_type": "code",
   "execution_count": 1,
   "metadata": {},
   "outputs": [],
   "source": [
    "class Solution:\n",
    "    def removeKdigits(self, num: str, k: int) -> str:\n",
    "        stack = []\n",
    "        \n",
    "        for digit in num:\n",
    "            while k > 0 and stack and stack[-1] > digit:\n",
    "                stack.pop()\n",
    "                k -= 1\n",
    "            stack.append(digit)\n",
    "        \n",
    "        while k > 0:\n",
    "            stack.pop()\n",
    "            k -= 1\n",
    "        \n",
    "        result = ''.join(stack).lstrip('0')\n",
    "        \n",
    "        return result if result else '0'"
   ]
  }
 ],
 "metadata": {
  "kernelspec": {
   "display_name": "base",
   "language": "python",
   "name": "python3"
  },
  "language_info": {
   "codemirror_mode": {
    "name": "ipython",
    "version": 3
   },
   "file_extension": ".py",
   "mimetype": "text/x-python",
   "name": "python",
   "nbconvert_exporter": "python",
   "pygments_lexer": "ipython3",
   "version": "3.9.16"
  }
 },
 "nbformat": 4,
 "nbformat_minor": 2
}

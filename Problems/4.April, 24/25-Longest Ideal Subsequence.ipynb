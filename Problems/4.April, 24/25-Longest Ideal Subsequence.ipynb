{
 "cells": [
  {
   "cell_type": "markdown",
   "metadata": {},
   "source": [
    "You are given a string `s` consisting of lowercase letters and an integer `k`. We call a string `t` **ideal** if the following conditions are satisfied:\n",
    "- `t` is a **subsequence** of the string `s`.\n",
    "- The absolute difference in the alphabet order of every two **adjacent** letters in `t` is less than or equal to `k`.\n",
    "\n",
    "Return *the length of the ***longest*** ideal string*.\n",
    "\n",
    "A **subsequence** is a string that can be derived from another string by deleting some or no characters without changing the order of the remaining characters.\n",
    "\n",
    "**Note** that the alphabet order is not cyclic. For example, the absolute difference in the alphabet order of `'a'` and `'z'` is `25`, not `1`.\n",
    "\n",
    "<br>\n",
    "\n",
    "**Example 1:**\n",
    ">**Input:** s = \"acfgbd\", k = 2<br>\n",
    ">**Output:** 4<br>\n",
    ">**Explanation:** The longest ideal string is \"acbd\". The length of this string is 4, so 4 is returned.<br>\n",
    ">Note that \"acfgbd\" is not ideal because 'c' and 'f' have a difference of 3 in alphabet order.\n",
    "\n",
    "**Example 2:**\n",
    ">**Input:** s = \"abcd\", k = 3<br>\n",
    ">**Output:** 4<br>\n",
    ">**Explanation:** The longest ideal string is \"abcd\". The length of this string is 4, so 4 is returned.\n",
    "\n",
    "<br>\n",
    "\n",
    "**Constraints:**\n",
    "- >1 <= s.length <= 10<sup>5</sup>\n",
    "- >0 <= k <= 25\n",
    "- >s consists of lowercase English letters."
   ]
  },
  {
   "cell_type": "code",
   "execution_count": 1,
   "metadata": {},
   "outputs": [],
   "source": [
    "class Solution:\n",
    "    def longestIdealString(self, s: str, k: int) -> int:\n",
    "        dp = [0] * 26\n",
    "    \n",
    "        for char in s:\n",
    "            index = ord(char) - ord('a')\n",
    "            max_length = 0\n",
    "            \n",
    "            for i in range(max(0, index - k), min(25, index + k) + 1):\n",
    "                max_length = max(max_length, dp[i])\n",
    "            \n",
    "            dp[index] = max_length + 1\n",
    "        \n",
    "        return max(dp)"
   ]
  }
 ],
 "metadata": {
  "kernelspec": {
   "display_name": "base",
   "language": "python",
   "name": "python3"
  },
  "language_info": {
   "codemirror_mode": {
    "name": "ipython",
    "version": 3
   },
   "file_extension": ".py",
   "mimetype": "text/x-python",
   "name": "python",
   "nbconvert_exporter": "python",
   "pygments_lexer": "ipython3",
   "version": "3.9.16"
  }
 },
 "nbformat": 4,
 "nbformat_minor": 2
}

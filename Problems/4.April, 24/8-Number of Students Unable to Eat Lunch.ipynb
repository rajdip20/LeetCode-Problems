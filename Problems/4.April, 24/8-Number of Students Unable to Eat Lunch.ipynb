{
 "cells": [
  {
   "cell_type": "markdown",
   "metadata": {},
   "source": [
    "The school cafeteria offers circular and square sandwiches at lunch break, referred to by numbers `0` and `1` respectively. All students stand in a queue. Each student either prefers square or circular sandwiches.\n",
    "\n",
    "The number of sandwiches in the cafeteria is equal to the number of students. The sandwiches are placed in a **stack**. At each step:\n",
    "- If the student at the front of the queue prefers the sandwich on the top of the stack, they will take it and leave the queue.\n",
    "- Otherwise, they will leave it and go to the queue's end.\n",
    "\n",
    "This continues until none of the queue students want to take the top sandwich and are thus unable to eat.\n",
    "\n",
    "You are given two integer arrays `students` and `sandwiches` where `sandwiches[i]` is the type of the **i<sup>​​​​​​th</sup>** sandwich in the stack (`i = 0` is the top of the stack) and `students[j]` is the preference of the **j<sup>​​​​​​th</sup>** student in the initial queue (`j = 0` is the front of the queue). Return the number of students that are unable to eat.\n",
    "\n",
    "<br>\n",
    "\n",
    "**Example 1:**\n",
    ">**Input:** students = [1,1,0,0], sandwiches = [0,1,0,1]<br>\n",
    ">**Output:** 0 <br>\n",
    "> Explanation:<br>\n",
    "> \\- Front student leaves the top sandwich and returns to the end of the line making students = [1,0,0,1].<br>\n",
    "> \\- Front student leaves the top sandwich and returns to the end of the line making students = [0,0,1,1].<br>\n",
    "> \\- Front student takes the top sandwich and leaves the line making students = [0,1,1] and sandwiches = [1,0,1].<br>\n",
    "> \\- Front student leaves the top sandwich and returns to the end of the line making students = [1,1,0].<br>\n",
    "> \\- Front student takes the top sandwich and leaves the line making students = [1,0] and sandwiches = [0,1].<br>\n",
    "> \\- Front student leaves the top sandwich and returns to the end of the line making students = [0,1].<br>\n",
    "> \\- Front student takes the top sandwich and leaves the line making students = [1] and sandwiches = [1].<br>\n",
    "> \\- Front student takes the top sandwich and leaves the line making students = [] and sandwiches = [].<br>\n",
    "> Hence all students are able to eat.\n",
    "\n",
    "**Example 2:**\n",
    ">**Input:** students = [1,1,1,0,0,1], sandwiches = [1,0,0,0,1,1]<br>\n",
    ">**Output:** 3\n",
    "\n",
    "<br>\n",
    "\n",
    "**Constraints:**\n",
    "- >1 <= students.length, sandwiches.length <= 100\n",
    "- >students.length == sandwiches.length\n",
    "- >sandwiches[i] is 0 or 1.\n",
    "- >students[i] is 0 or 1."
   ]
  },
  {
   "cell_type": "code",
   "execution_count": 1,
   "metadata": {},
   "outputs": [],
   "source": [
    "class Solution:\n",
    "    def countStudents(self, students: list[int], sandwiches: list[int]) -> int:\n",
    "        stack = sandwiches[::-1]\n",
    "        queue = students\n",
    "        unable_to_eat = 0\n",
    "\n",
    "        while queue:\n",
    "            if queue[0] == stack[-1]:\n",
    "                queue.pop(0)\n",
    "                stack.pop()\n",
    "                unable_to_eat = 0\n",
    "            else:\n",
    "                queue.append(queue.pop(0))\n",
    "                unable_to_eat += 1\n",
    "\n",
    "                if unable_to_eat == len(queue):\n",
    "                    break\n",
    "\n",
    "        return len(queue)"
   ]
  }
 ],
 "metadata": {
  "kernelspec": {
   "display_name": "base",
   "language": "python",
   "name": "python3"
  },
  "language_info": {
   "codemirror_mode": {
    "name": "ipython",
    "version": 3
   },
   "file_extension": ".py",
   "mimetype": "text/x-python",
   "name": "python",
   "nbconvert_exporter": "python",
   "pygments_lexer": "ipython3",
   "version": "3.9.16"
  }
 },
 "nbformat": 4,
 "nbformat_minor": 2
}

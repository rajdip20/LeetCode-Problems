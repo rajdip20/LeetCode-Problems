{
 "cells": [
  {
   "cell_type": "markdown",
   "metadata": {},
   "source": [
    "You are given the `root` of a binary tree where each node has a value in the range `[0, 25]` representing the letters `'a'` to `'z'`.\n",
    "\n",
    "Return *the ***lexicographically smallest*** string that starts at a leaf of this tree and ends at the root*.\n",
    "\n",
    "As a reminder, any shorter prefix of a string is **lexicographically smaller**.\n",
    "- For example, `\"ab\"` is lexicographically smaller than `\"aba\"`.\n",
    "\n",
    "A leaf of a node is a node that has no children.\n",
    "\n",
    "<br>\n",
    "\n",
    "**Example 1:**\n",
    "\n",
    "![tree1](../../images/tree1.png)\n",
    "\n",
    ">**Input:** root = [0,1,2,3,4,3,4]<br>\n",
    ">**Output:** \"dba\"\n",
    "\n",
    "**Example 2:**\n",
    "\n",
    "![tree2](../../images/tree2.png)\n",
    "\n",
    ">**Input:** root = [25,1,3,1,3,0,2]<br>\n",
    ">**Output:** \"adz\"\n",
    "\n",
    "**Example 3:**\n",
    "\n",
    "![tree3](../../images/tree3.png)\n",
    "\n",
    ">**Input:** root = [2,2,1,null,1,0,null,0]<br>\n",
    ">**Output:** \"abc\"\n",
    "\n",
    "<br>\n",
    "\n",
    "**Constraints:**\n",
    "- >The number of nodes in the tree is in the range [1, 8500].\n",
    "- >0 <= Node.val <= 25"
   ]
  },
  {
   "cell_type": "code",
   "execution_count": 1,
   "metadata": {},
   "outputs": [],
   "source": [
    "# Definition for a binary tree node.\n",
    "# class TreeNode:\n",
    "#     def __init__(self, val=0, left=None, right=None):\n",
    "#         self.val = val\n",
    "#         self.left = left\n",
    "#         self.right = right\n",
    "class Solution:\n",
    "    def smallestFromLeaf(self, root) -> str:\n",
    "        def dfs(node, path):\n",
    "            if not node:\n",
    "                return\n",
    "            \n",
    "            path.append(chr(ord('a') + node.val))\n",
    "            \n",
    "            if not node.left and not node.right:\n",
    "                curr_str = ''.join(reversed(path))\n",
    "                nonlocal result\n",
    "                if not result or curr_str < result:\n",
    "                    result = curr_str\n",
    "            else:\n",
    "                dfs(node.left, path)\n",
    "                dfs(node.right, path)\n",
    "            \n",
    "            path.pop()\n",
    "        \n",
    "        result = \"\"\n",
    "        dfs(root, [])\n",
    "        \n",
    "        return result"
   ]
  }
 ],
 "metadata": {
  "kernelspec": {
   "display_name": "base",
   "language": "python",
   "name": "python3"
  },
  "language_info": {
   "codemirror_mode": {
    "name": "ipython",
    "version": 3
   },
   "file_extension": ".py",
   "mimetype": "text/x-python",
   "name": "python",
   "nbconvert_exporter": "python",
   "pygments_lexer": "ipython3",
   "version": "3.9.16"
  }
 },
 "nbformat": 4,
 "nbformat_minor": 2
}

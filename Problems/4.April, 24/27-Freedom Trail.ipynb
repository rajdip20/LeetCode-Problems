{
 "cells": [
  {
   "cell_type": "markdown",
   "metadata": {},
   "source": [
    "In the video game Fallout 4, the quest **\"Road to Freedom\"** requires players to reach a metal dial called the **\"Freedom Trail Ring\"** and use the dial to spell a specific keyword to open the door.\n",
    "\n",
    "Given a string `ring` that represents the code engraved on the outer ring and another string `key` that represents the keyword that needs to be spelled, return *the minimum number of steps to spell all the characters in the keyword*.\n",
    "\n",
    "Initially, the first character of the ring is aligned at the `\"12:00\"` direction. You should spell all the characters in `key` one by one by rotating `ring` clockwise or anticlockwise to make each character of the string key aligned at the `\"12:00\"` direction and then by pressing the center button.\n",
    "\n",
    "At the stage of rotating the ring to spell the key character `key[i]`:\n",
    "1. You can rotate the ring clockwise or anticlockwise by one place, which counts as one step. The final purpose of the rotation is to align one of `ring`'s characters at the `\"12:00\"` direction, where this character must equal `key[i]`.\n",
    "2. If the character `key[i]` has been aligned at the `\"12:00\"` direction, press the center button to spell, which also counts as **one step**. After the pressing, you could begin to spell the next character in the key (next stage). Otherwise, you have finished all the spelling.\n",
    "\n",
    "<br>\n",
    "\n",
    "**Example 1:**\n",
    "\n",
    "![ring](../../images/ring.jpg)\n",
    "\n",
    ">**Input:** ring = \"godding\", key = \"gd\"<br>\n",
    ">**Output:** 4<br>\n",
    ">**Explanation:**<br>\n",
    ">For the first key character 'g', since it is already in place, we just need 1 step to spell this character. <br>\n",
    ">For the second key character 'd', we need to rotate the ring \"godding\" anticlockwise by two steps to make it become \"ddinggo\".<br>\n",
    ">Also, we need 1 more step for spelling.<br>\n",
    ">So the final output is 4.\n",
    "\n",
    "**Example 2:**\n",
    ">**Input:** ring = \"godding\", key = \"godding\"<br>\n",
    ">**Output:** 13\n",
    "\n",
    "<br>\n",
    "\n",
    "**Constraints:**\n",
    "- >1 <= ring.length, key.length <= 100\n",
    "- >ring and key consist of only lower case English letters.\n",
    "- >It is guaranteed that key could always be spelled by rotating ring."
   ]
  },
  {
   "cell_type": "code",
   "execution_count": 1,
   "metadata": {},
   "outputs": [],
   "source": [
    "class Solution:\n",
    "    def findRotateSteps(self, ring: str, key: str) -> int:\n",
    "        def dist(index1, index2):\n",
    "            return min(abs(index1 - index2), len(ring) - abs(index1 - index2))\n",
    "\n",
    "        def dfs(pos, key_index):\n",
    "            if key_index == len(key):\n",
    "                return 0\n",
    "            if (pos, key_index) in memo:\n",
    "                return memo[(pos, key_index)]\n",
    "            \n",
    "            options = [i for i, char in enumerate(ring) if char == key[key_index]]\n",
    "            res = float('inf')\n",
    "            \n",
    "            for option in options:\n",
    "                steps = dist(pos, option) + 1\n",
    "                res = min(res, steps + dfs(option, key_index + 1))\n",
    "            \n",
    "            memo[(pos, key_index)] = res\n",
    "            return res\n",
    "\n",
    "        memo = {}\n",
    "        return dfs(0, 0)"
   ]
  }
 ],
 "metadata": {
  "kernelspec": {
   "display_name": "base",
   "language": "python",
   "name": "python3"
  },
  "language_info": {
   "codemirror_mode": {
    "name": "ipython",
    "version": 3
   },
   "file_extension": ".py",
   "mimetype": "text/x-python",
   "name": "python",
   "nbconvert_exporter": "python",
   "pygments_lexer": "ipython3",
   "version": "3.9.16"
  }
 },
 "nbformat": 4,
 "nbformat_minor": 2
}

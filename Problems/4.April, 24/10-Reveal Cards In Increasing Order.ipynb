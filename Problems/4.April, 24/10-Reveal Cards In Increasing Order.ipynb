{
 "cells": [
  {
   "cell_type": "markdown",
   "metadata": {},
   "source": [
    "You are given an integer array `deck`. There is a deck of cards where every card has a unique integer. The integer on the **i<sup>th</sup>** card is `deck[i]`.\n",
    "\n",
    "You can order the deck in any order you want. Initially, all the cards start face down (unrevealed) in one deck.\n",
    "\n",
    "You will do the following steps repeatedly until all cards are revealed:\n",
    "1. Take the top card of the deck, reveal it, and take it out of the deck.\n",
    "2. If there are still cards in the deck then put the next top card of the deck at the bottom of the deck.\n",
    "3. If there are still unrevealed cards, go back to step 1. Otherwise, stop.\n",
    "\n",
    "Return *an ordering of the deck that would reveal the cards in increasing order*.\n",
    "\n",
    "**Note** that the first entry in the answer is considered to be the top of the deck.\n",
    "\n",
    "<br>\n",
    "\n",
    "**Example 1:**\n",
    ">**Input:** deck = [17,13,11,2,3,5,7]<br>\n",
    ">**Output:** [2,13,3,11,5,17,7]<br>\n",
    ">**Explanation:** <br>\n",
    ">We get the deck in the order [17,13,11,2,3,5,7] (this order does not matter), and reorder it.<br>\n",
    ">After reordering, the deck starts as [2,13,3,11,5,17,7], where 2 is the top of the deck.<br>\n",
    ">We reveal 2, and move 13 to the bottom.  The deck is now [3,11,5,17,7,13].<br>\n",
    ">We reveal 3, and move 11 to the bottom.  The deck is now [5,17,7,13,11].<br>\n",
    ">We reveal 5, and move 17 to the bottom.  The deck is now [7,13,11,17].<br>\n",
    ">We reveal 7, and move 13 to the bottom.  The deck is now [11,17,13].<br>\n",
    ">We reveal 11, and move 17 to the bottom.  The deck is now [13,17].<br>\n",
    ">We reveal 13, and move 17 to the bottom.  The deck is now [17].<br>\n",
    ">We reveal 17.<br>\n",
    ">Since all the cards revealed are in increasing order, the answer is correct.\n",
    "\n",
    "**Example 2:**\n",
    ">**Input:** deck = [1,1000]<br>\n",
    ">**Output:** [1,1000]\n",
    "\n",
    "<br>\n",
    "\n",
    "**Constraints:**\n",
    "- >1 <= deck.length <= 1000\n",
    "- >1 <= deck[i] <= 10<sup>6</sup>\n",
    "- >All the values of deck are **unique**."
   ]
  },
  {
   "cell_type": "code",
   "execution_count": 1,
   "metadata": {},
   "outputs": [],
   "source": [
    "class Solution:\n",
    "    def deckRevealedIncreasing(self, deck: list[int]) -> list[int]:\n",
    "        from collections import deque\n",
    "\n",
    "        deck.sort(reverse=True)\n",
    "        revealed_order = deque()\n",
    "        \n",
    "        for card in deck:\n",
    "            if revealed_order:\n",
    "                revealed_order.appendleft(revealed_order.pop())\n",
    "            revealed_order.appendleft(card)\n",
    "        \n",
    "        return list(revealed_order)"
   ]
  }
 ],
 "metadata": {
  "kernelspec": {
   "display_name": "base",
   "language": "python",
   "name": "python3"
  },
  "language_info": {
   "codemirror_mode": {
    "name": "ipython",
    "version": 3
   },
   "file_extension": ".py",
   "mimetype": "text/x-python",
   "name": "python",
   "nbconvert_exporter": "python",
   "pygments_lexer": "ipython3",
   "version": "3.9.16"
  }
 },
 "nbformat": 4,
 "nbformat_minor": 2
}

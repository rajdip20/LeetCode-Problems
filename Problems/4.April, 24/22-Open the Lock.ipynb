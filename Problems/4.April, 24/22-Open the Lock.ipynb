{
 "cells": [
  {
   "cell_type": "markdown",
   "metadata": {},
   "source": [
    "You have a lock in front of you with 4 circular wheels. Each wheel has 10 slots: `'0', '1', '2', '3', '4', '5', '6', '7', '8', '9'`. The wheels can rotate freely and wrap around: for example we can turn `'9'` to be `'0'`, or `'0'` to be `'9'`. Each move consists of turning one wheel one slot.\n",
    "\n",
    "The lock initially starts at `'0000'`, a string representing the state of the 4 wheels.\n",
    "\n",
    "You are given a list of `deadends` dead ends, meaning if the lock displays any of these codes, the wheels of the lock will stop turning and you will be unable to open it.\n",
    "\n",
    "Given a `target` representing the value of the wheels that will unlock the lock, return the minimum total number of turns required to open the lock, or -1 if it is impossible.\n",
    "\n",
    "<br>\n",
    "\n",
    "**Example 1:**\n",
    ">**Input:** deadends = [\"0201\",\"0101\",\"0102\",\"1212\",\"2002\"], target = \"0202\"<br>\n",
    ">**Output:** 6<br>\n",
    ">**Explanation:** <br>\n",
    ">A sequence of valid moves would be \"0000\" -> \"1000\" -> \"1100\" -> \"1200\" -> \"1201\" -> \"1202\" -> \"0202\".<br>\n",
    ">Note that a sequence like \"0000\" -> \"0001\" -> \"0002\" -> \"0102\" -> \"0202\" would be invalid,<br>\n",
    ">because the wheels of the lock become stuck after the display becomes the dead end \"0102\".\n",
    "\n",
    "**Example 2:**\n",
    ">**Input:** deadends = [\"8888\"], target = \"0009\"<br>\n",
    ">**Output:** 1<br>\n",
    ">**Explanation:** We can turn the last wheel in reverse to move from \"0000\" -> \"0009\".\n",
    "\n",
    "**Example 3:**\n",
    ">**Input:** deadends = [\"8887\",\"8889\",\"8878\",\"8898\",\"8788\",\"8988\",\"7888\",\"9888\"], target = \"8888\"<br>\n",
    ">**Output:** -1<br>\n",
    ">**Explanation:** We cannot reach the target without getting stuck.\n",
    "\n",
    "<br>\n",
    "\n",
    "**Constraints:**\n",
    "- >1 <= deadends.length <= 500\n",
    "- >deadends[i].length == 4\n",
    "- >target.length == 4\n",
    "- >target **will not be** in the list deadends.\n",
    "- >target and deadends[i] consist of digits only."
   ]
  },
  {
   "cell_type": "code",
   "execution_count": 1,
   "metadata": {},
   "outputs": [],
   "source": [
    "class Solution:\n",
    "    def openLock(self, deadends: list[str], target: str) -> int:\n",
    "        from collections import deque\n",
    "\n",
    "\n",
    "        queue = deque()\n",
    "        deadends = set(deadends)\n",
    "        \n",
    "        if \"0000\" not in deadends:\n",
    "            deadends.add(\"0000\")\n",
    "            queue.append((\"0000\", 0))\n",
    "        \n",
    "        while queue:\n",
    "            curr_combination, moves = queue.popleft()\n",
    "            if curr_combination == target:\n",
    "                return moves\n",
    "            \n",
    "            for i in range(4):\n",
    "                new_combination = curr_combination[:i] + str((int(curr_combination[i]) + 1) % 10) + curr_combination[i + 1:]\n",
    "                \n",
    "                if new_combination not in deadends:\n",
    "                    deadends.add(new_combination)\n",
    "                    queue.append((new_combination, moves + 1))\n",
    "                new_combination = curr_combination[:i] + str((int(curr_combination[i]) - 1) % 10) + curr_combination[i + 1:]\n",
    "                \n",
    "                if new_combination not in deadends:\n",
    "                    deadends.add(new_combination)\n",
    "                    queue.append((new_combination, moves + 1))\n",
    "        return -1"
   ]
  }
 ],
 "metadata": {
  "kernelspec": {
   "display_name": "base",
   "language": "python",
   "name": "python3"
  },
  "language_info": {
   "codemirror_mode": {
    "name": "ipython",
    "version": 3
   },
   "file_extension": ".py",
   "mimetype": "text/x-python",
   "name": "python",
   "nbconvert_exporter": "python",
   "pygments_lexer": "ipython3",
   "version": "3.9.16"
  }
 },
 "nbformat": 4,
 "nbformat_minor": 2
}

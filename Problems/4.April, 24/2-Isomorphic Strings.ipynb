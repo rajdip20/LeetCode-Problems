{
 "cells": [
  {
   "cell_type": "markdown",
   "metadata": {},
   "source": [
    "Given two strings `s` and `t`, *determine if they are isomorphic*.\n",
    "\n",
    "Two strings `s` and `t` are isomorphic if the characters in `s` can be replaced to get `t`.\n",
    "\n",
    "All occurrences of a character must be replaced with another character while preserving the order of characters. No two characters may map to the same character, but a character may map to itself.\n",
    "\n",
    "<br>\n",
    "\n",
    "**Example 1:**\n",
    ">**Input:** s = \"egg\", t = \"add\"<br>\n",
    ">**Output:** true\n",
    "\n",
    "**Example 2:**\n",
    ">**Input:** s = \"foo\", t = \"bar\"<br>\n",
    ">**Output:** false\n",
    "\n",
    "**Example 3:**\n",
    ">**Input:** s = \"paper\", t = \"title\"<br>\n",
    ">**Output:** true\n",
    " \n",
    "<br>\n",
    "\n",
    "**Constraints:**\n",
    "- >1 <= s.length <= 5 * 10<sup>4</sup>\n",
    "- >t.length == s.length\n",
    "- >s and t consist of any valid ascii character."
   ]
  },
  {
   "cell_type": "code",
   "execution_count": null,
   "metadata": {},
   "outputs": [],
   "source": [
    "class Solution:\n",
    "    def isIsomorphic(self, s: str, t: str) -> bool:\n",
    "        if len(s) != len(t):\n",
    "            return False\n",
    "        \n",
    "        s_to_t_mapping = {}\n",
    "        t_to_s_mapping = {}\n",
    "        \n",
    "        for char_s, char_t in zip(s, t):\n",
    "            if char_s in s_to_t_mapping:\n",
    "                if s_to_t_mapping[char_s] != char_t:\n",
    "                    return False\n",
    "            else:\n",
    "                s_to_t_mapping[char_s] = char_t\n",
    "            \n",
    "            if char_t in t_to_s_mapping:\n",
    "                if t_to_s_mapping[char_t] != char_s:\n",
    "                    return False\n",
    "            else:\n",
    "                t_to_s_mapping[char_t] = char_s\n",
    "        \n",
    "        return True"
   ]
  }
 ],
 "metadata": {
  "kernelspec": {
   "display_name": "base",
   "language": "python",
   "name": "python3"
  },
  "language_info": {
   "codemirror_mode": {
    "name": "ipython",
    "version": 3
   },
   "file_extension": ".py",
   "mimetype": "text/x-python",
   "name": "python",
   "nbconvert_exporter": "python",
   "pygments_lexer": "ipython3",
   "version": "3.9.16"
  }
 },
 "nbformat": 4,
 "nbformat_minor": 2
}

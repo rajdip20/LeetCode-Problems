{
 "cells": [
  {
   "cell_type": "markdown",
   "metadata": {},
   "source": [
    "You are given `row x col` `grid` representing a map where `grid[i][j] = 1` represents land and `grid[i][j] = 0` represents water.\n",
    "\n",
    "Grid cells are connected **horizontally/vertically** (not diagonally). The `grid` is completely surrounded by water, and there is exactly one island (i.e., one or more connected land cells).\n",
    "\n",
    "The island doesn't have \"lakes\", meaning the water inside isn't connected to the water around the island. One cell is a square with side length 1. The grid is rectangular, width and height don't exceed 100. Determine the perimeter of the island.\n",
    "\n",
    "<br>\n",
    "\n",
    "**Example 1:**\n",
    "\n",
    "![island](../../images/island.png)\n",
    "\n",
    ">**Input:** grid = [[0,1,0,0],[1,1,1,0],[0,1,0,0],[1,1,0,0]]<br>\n",
    ">**Output:** 16<br>\n",
    ">**Explanation:** The perimeter is the 16 yellow stripes in the image above.\n",
    "\n",
    "**Example 2:**\n",
    ">**Input:** grid = [[1]]<br>\n",
    ">**Output:** 4\n",
    "\n",
    "**Example 3:**\n",
    ">**Input:** grid = [[1,0]]<br>\n",
    ">**Output:** 4\n",
    "\n",
    "<br>\n",
    "\n",
    "**Constraints:**\n",
    "- >row == grid.length\n",
    "- >col == grid[i].length\n",
    "- >1 <= row, col <= 100\n",
    "- >grid[i][j] is 0 or 1.\n",
    "- >There is exactly one island in grid."
   ]
  },
  {
   "cell_type": "code",
   "execution_count": 1,
   "metadata": {},
   "outputs": [],
   "source": [
    "class Solution:\n",
    "    def islandPerimeter(self, grid: list[list[int]]) -> int:\n",
    "        rows, cols = len(grid), len(grid[0])\n",
    "        perimeter = 0\n",
    "\n",
    "        for i in range(rows):\n",
    "            for j in range(cols):\n",
    "                if grid[i][j] == 1:\n",
    "                    perimeter += 4\n",
    "\n",
    "                    if i > 0 and grid[i - 1][j] == 1:\n",
    "                        perimeter -= 2\n",
    "                    if j > 0 and grid[i][j - 1] == 1:\n",
    "                        perimeter -= 2\n",
    "\n",
    "        return perimeter"
   ]
  }
 ],
 "metadata": {
  "kernelspec": {
   "display_name": "base",
   "language": "python",
   "name": "python3"
  },
  "language_info": {
   "codemirror_mode": {
    "name": "ipython",
    "version": 3
   },
   "file_extension": ".py",
   "mimetype": "text/x-python",
   "name": "python",
   "nbconvert_exporter": "python",
   "pygments_lexer": "ipython3",
   "version": "3.9.16"
  }
 },
 "nbformat": 4,
 "nbformat_minor": 2
}

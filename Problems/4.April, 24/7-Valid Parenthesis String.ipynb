{
 "cells": [
  {
   "cell_type": "markdown",
   "metadata": {},
   "source": [
    "Given a string `s` containing only three types of characters: `'('`, `')'` and `'*'`, return `true` *if* `s` *is valid*.\n",
    "\n",
    "The following rules define a **valid** string:\n",
    "- Any left parenthesis `'('` must have a corresponding right parenthesis `')'`.\n",
    "- Any right parenthesis `')'` must have a corresponding left parenthesis `'('`.\n",
    "- Left parenthesis `'('` must go before the corresponding right parenthesis `')'`.\n",
    "- `'*'` could be treated as a single right parenthesis `')'` or a single left parenthesis `'('` or an empty string `\"\"`.\n",
    "\n",
    "<br>\n",
    "\n",
    "**Example 1:**\n",
    ">**Input:** s = \"()\"<br>\n",
    ">**Output:** true\n",
    "\n",
    "**Example 2:**\n",
    ">**Input:** s = \"(*)\"<br>\n",
    ">**Output:** true\n",
    "\n",
    "**Example 3:**\n",
    ">**Input:** s = \"(*))\"<br>\n",
    ">**Output:** true\n",
    "\n",
    "<br>\n",
    "\n",
    "**Constraints:**\n",
    "- >1 <= s.length <= 100\n",
    "- >s[i] is '(', ')' or '*'."
   ]
  },
  {
   "cell_type": "code",
   "execution_count": 1,
   "metadata": {},
   "outputs": [],
   "source": [
    "class Solution:\n",
    "    def checkValidString(self, s: str) -> bool:\n",
    "        stack = []\n",
    "        stars = []\n",
    "        \n",
    "        for i, char in enumerate(s):\n",
    "            if char == '(':\n",
    "                stack.append(i)\n",
    "            elif char == '*':\n",
    "                stars.append(i)\n",
    "            else:\n",
    "                if stack:\n",
    "                    stack.pop()\n",
    "                elif stars:\n",
    "                    stars.pop()\n",
    "                else:\n",
    "                    return False\n",
    "        \n",
    "        while stack and stars:\n",
    "            if stack[-1] < stars[-1]:\n",
    "                stack.pop()\n",
    "                stars.pop()\n",
    "            else:\n",
    "                break\n",
    "        \n",
    "        return not stack"
   ]
  }
 ],
 "metadata": {
  "kernelspec": {
   "display_name": "base",
   "language": "python",
   "name": "python3"
  },
  "language_info": {
   "codemirror_mode": {
    "name": "ipython",
    "version": 3
   },
   "file_extension": ".py",
   "mimetype": "text/x-python",
   "name": "python",
   "nbconvert_exporter": "python",
   "pygments_lexer": "ipython3",
   "version": "3.9.16"
  }
 },
 "nbformat": 4,
 "nbformat_minor": 2
}

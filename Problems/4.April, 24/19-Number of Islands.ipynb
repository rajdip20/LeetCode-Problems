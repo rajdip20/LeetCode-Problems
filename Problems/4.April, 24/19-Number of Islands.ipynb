{
 "cells": [
  {
   "cell_type": "markdown",
   "metadata": {},
   "source": [
    "Given an `m x n` 2D binary grid `grid` which represents a map of `'1'`s (land) and `'0'`s (water), return *the number of islands*.\n",
    "\n",
    "An **island** is surrounded by water and is formed by connecting adjacent lands horizontally or vertically. You may assume all four edges of the grid are all surrounded by water.\n",
    "\n",
    "<br>\n",
    "\n",
    "**Example 1:**\n",
    ">**Input:** grid = [<br>\n",
    ">&emsp; [\"1\",\"1\",\"1\",\"1\",\"0\"],<br>\n",
    ">&emsp; [\"1\",\"1\",\"0\",\"1\",\"0\"],<br>\n",
    ">&emsp; [\"1\",\"1\",\"0\",\"0\",\"0\"],<br>\n",
    ">&emsp; [\"0\",\"0\",\"0\",\"0\",\"0\"]<br>\n",
    ">]<br>\n",
    ">**Output:** 1\n",
    "\n",
    "**Example 2:**\n",
    ">**Input:** grid = [<br>\n",
    ">&emsp; [\"1\",\"1\",\"0\",\"0\",\"0\"],<br>\n",
    ">&emsp; [\"1\",\"1\",\"0\",\"0\",\"0\"],<br>\n",
    ">&emsp; [\"0\",\"0\",\"1\",\"0\",\"0\"],<br>\n",
    ">&emsp; [\"0\",\"0\",\"0\",\"1\",\"1\"]<br>\n",
    ">]<br>\n",
    ">**Output:** 3\n",
    "\n",
    "<br>\n",
    "\n",
    "**Constraints:**\n",
    "- >m == grid.length\n",
    "- >n == grid[i].length\n",
    "- >1 <= m, n <= 300\n",
    "- >grid[i][j] is '0' or '1'."
   ]
  },
  {
   "cell_type": "code",
   "execution_count": 1,
   "metadata": {},
   "outputs": [],
   "source": [
    "class Solution:\n",
    "    def numIslands(self, grid: list[list[str]]) -> int:\n",
    "        if not grid:\n",
    "            return 0\n",
    "        \n",
    "        rows, cols = len(grid), len(grid[0])\n",
    "        num_islands = 0\n",
    "        \n",
    "        def dfs(i, j):\n",
    "            if i < 0 or i >= rows or j < 0 or j >= cols or grid[i][j] == '0':\n",
    "                return\n",
    "            \n",
    "            grid[i][j] = '0'\n",
    "            dfs(i + 1, j)\n",
    "            dfs(i - 1, j)\n",
    "            dfs(i, j + 1)\n",
    "            dfs(i, j - 1)\n",
    "        \n",
    "        for i in range(rows):\n",
    "            for j in range(cols):\n",
    "                if grid[i][j] == '1':\n",
    "                    num_islands += 1\n",
    "                    dfs(i, j)\n",
    "        \n",
    "        return num_islands"
   ]
  }
 ],
 "metadata": {
  "kernelspec": {
   "display_name": "base",
   "language": "python",
   "name": "python3"
  },
  "language_info": {
   "codemirror_mode": {
    "name": "ipython",
    "version": 3
   },
   "file_extension": ".py",
   "mimetype": "text/x-python",
   "name": "python",
   "nbconvert_exporter": "python",
   "pygments_lexer": "ipython3",
   "version": "3.9.16"
  }
 },
 "nbformat": 4,
 "nbformat_minor": 2
}

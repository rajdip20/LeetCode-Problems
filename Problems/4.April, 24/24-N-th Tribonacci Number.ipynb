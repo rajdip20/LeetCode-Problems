{
 "cells": [
  {
   "cell_type": "markdown",
   "metadata": {},
   "source": [
    "The Tribonacci sequence T<sub>n</sub> is defined as follows: \n",
    "\n",
    "T<sub>0</sub> = 0, T<sub>1</sub> = 1, T<sub>2</sub> = 1, and T<sub>n+3</sub> = T<sub>n</sub> + T<sub>n+1</sub> + T<sub>n+2</sub> for n >= 0.\n",
    "\n",
    "Given `n`, return the value of T<sub>n</sub>.\n",
    "\n",
    "<br>\n",
    "\n",
    "**Example 1:**\n",
    ">**Input:** n = 4<br>\n",
    ">**Output:** 4<br>\n",
    ">**Explanation:**<br>\n",
    ">T_3 = 0 + 1 + 1 = 2<br>\n",
    ">T_4 = 1 + 1 + 2 = 4\n",
    "\n",
    "**Example 2:**\n",
    ">**Input:** n = 25<br>\n",
    ">**Output:** 1389537\n",
    "\n",
    "<br>\n",
    "\n",
    "**Constraints:**\n",
    "- >0 <= n <= 37\n",
    "- >The answer is guaranteed to fit within a 32-bit integer, ie. answer <= 2^31 - 1."
   ]
  },
  {
   "cell_type": "code",
   "execution_count": 1,
   "metadata": {},
   "outputs": [],
   "source": [
    "class Solution:\n",
    "    def tribonacci(self, n: int) -> int:\n",
    "        if n == 0:\n",
    "            return 0\n",
    "        elif n == 1 or n == 2:\n",
    "            return 1\n",
    "\n",
    "        tn_minus_3, tn_minus_2, tn_minus_1 = 0, 1, 1\n",
    "\n",
    "        for i in range(3, n + 1):\n",
    "            tn = tn_minus_3 + tn_minus_2 + tn_minus_1\n",
    "            tn_minus_3, tn_minus_2, tn_minus_1 = tn_minus_2, tn_minus_1, tn\n",
    "\n",
    "        return tn_minus_1"
   ]
  }
 ],
 "metadata": {
  "kernelspec": {
   "display_name": "base",
   "language": "python",
   "name": "python3"
  },
  "language_info": {
   "codemirror_mode": {
    "name": "ipython",
    "version": 3
   },
   "file_extension": ".py",
   "mimetype": "text/x-python",
   "name": "python",
   "nbconvert_exporter": "python",
   "pygments_lexer": "ipython3",
   "version": "3.9.16"
  }
 },
 "nbformat": 4,
 "nbformat_minor": 2
}

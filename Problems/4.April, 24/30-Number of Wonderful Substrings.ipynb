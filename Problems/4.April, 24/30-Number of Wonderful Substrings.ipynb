{
 "cells": [
  {
   "cell_type": "markdown",
   "metadata": {},
   "source": [
    "A **wonderful** string is a string where **at most one** letter appears an **odd** number of times.\n",
    "- For example, `\"ccjjc\"` and `\"abab\"` are wonderful, but `\"ab\"` is not.\n",
    "\n",
    "Given a string `word` that consists of the first ten lowercase English letters (`'a'` through `'j'`), return *the ***number of wonderful non-empty substrings*** in* `word`. *If the same substring appears multiple times in* `word`, *then count ***each occurrence*** separately*.\n",
    "\n",
    "A **substring** is a contiguous sequence of characters in a string.\n",
    "\n",
    "<br>\n",
    "\n",
    "**Example 1:**\n",
    ">**Input:** word = \"aba\"<br>\n",
    ">**Output:** 4<br>\n",
    ">**Explanation:** The four wonderful substrings are underlined below:<br>\n",
    ">\\- \"aba\" -> \"a\"<br>\n",
    ">\\- \"aba\" -> \"b\"<br>\n",
    ">\\- \"aba\" -> \"a\"<br>\n",
    ">\\- \"aba\" -> \"aba\"\n",
    "\n",
    "**Example 2:**\n",
    ">**Input:** word = \"aabb\"<br>\n",
    ">**Output:** 9<br>\n",
    ">**Explanation:** The nine wonderful substrings are underlined below:<br>\n",
    ">\\- \"aabb\" -> \"a\"<br>\n",
    ">\\- \"aabb\" -> \"aa\"<br>\n",
    ">\\- \"aabb\" -> \"aab\"<br>\n",
    ">\\- \"aabb\" -> \"aabb\"<br>\n",
    ">\\- \"aabb\" -> \"a\"<br>\n",
    ">\\- \"aabb\" -> \"abb\"<br>\n",
    ">\\- \"aabb\" -> \"b\"<br>\n",
    ">\\- \"aabb\" -> \"bb\"<br>\n",
    ">\\- \"aabb\" -> \"b\"\n",
    "\n",
    "**Example 3:**\n",
    ">**Input:** word = \"he\"<br>\n",
    ">**Output:** 2<br>\n",
    ">**Explanation:** The two wonderful substrings are underlined below:<br>\n",
    ">\\- \"he\" -> \"h\"<br>\n",
    ">\\- \"he\" -> \"e\"\n",
    "\n",
    "<br>\n",
    "\n",
    "**Constraints:**\n",
    "- >1 <= word.length <= 10<sup>5</sup>\n",
    "- >word consists of lowercase English letters from 'a' to 'j'."
   ]
  },
  {
   "cell_type": "code",
   "execution_count": 1,
   "metadata": {},
   "outputs": [],
   "source": [
    "class Solution:\n",
    "    def wonderfulSubstrings(self, word: str) -> int:\n",
    "        count = {0: 1}\n",
    "        curr = 0\n",
    "        res = 0\n",
    "        \n",
    "        for char in word:\n",
    "            curr ^= 1 << (ord(char) - ord('a'))\n",
    "            \n",
    "            res += count.get(curr, 0)\n",
    "            \n",
    "            for i in range(10):\n",
    "                res += count.get(curr ^ (1 << i), 0)\n",
    "            \n",
    "            count[curr] = count.get(curr, 0) + 1\n",
    "        \n",
    "        return res"
   ]
  }
 ],
 "metadata": {
  "kernelspec": {
   "display_name": "base",
   "language": "python",
   "name": "python3"
  },
  "language_info": {
   "codemirror_mode": {
    "name": "ipython",
    "version": 3
   },
   "file_extension": ".py",
   "mimetype": "text/x-python",
   "name": "python",
   "nbconvert_exporter": "python",
   "pygments_lexer": "ipython3",
   "version": "3.9.16"
  }
 },
 "nbformat": 4,
 "nbformat_minor": 2
}

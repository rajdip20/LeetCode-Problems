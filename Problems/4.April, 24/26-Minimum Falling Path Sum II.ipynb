{
 "cells": [
  {
   "cell_type": "markdown",
   "metadata": {},
   "source": [
    "Given an `n x n` integer matrix `grid`, return *the minimum sum of a ***falling path with non-zero shifts*** *.\n",
    "\n",
    "A **falling path with non-zero shifts** is a choice of exactly one element from each row of `grid` such that no two elements chosen in adjacent rows are in the same column.\n",
    "\n",
    "<br>\n",
    "\n",
    "**Example 1:**\n",
    "\n",
    "![falling-grid](../../images/falling-grid.jpg)\n",
    "\n",
    ">**Input:** grid = [[1,2,3],[4,5,6],[7,8,9]]<br>\n",
    ">**Output:** 13<br>\n",
    ">**Explanation:** <br>\n",
    ">The possible falling paths are:<br>\n",
    ">[1,5,9], [1,5,7], [1,6,7], [1,6,8],<br>\n",
    ">[2,4,8], [2,4,9], [2,6,7], [2,6,8],<br>\n",
    ">[3,4,8], [3,4,9], [3,5,7], [3,5,9]<br>\n",
    ">The falling path with the smallest sum is [1,5,7], so the answer is 13.\n",
    "\n",
    "**Example 2:**\n",
    ">**Input:** grid = [[7]]<br>\n",
    ">**Output:** 7\n",
    "\n",
    "<br>\n",
    "\n",
    "**Constraints:**\n",
    "- >n == grid.length == grid[i].length\n",
    "- >1 <= n <= 200\n",
    "- >-99 <= grid[i][j] <= 99"
   ]
  },
  {
   "cell_type": "code",
   "execution_count": 1,
   "metadata": {},
   "outputs": [],
   "source": [
    "class Solution:\n",
    "    def minFallingPathSum(self, grid: list[list[int]]) -> int:\n",
    "        n = len(grid)\n",
    "        if n == 1:\n",
    "            return grid[0][0]\n",
    "        \n",
    "        dp = list(grid[0])\n",
    "        \n",
    "        for i in range(1, n):\n",
    "            new_dp = [float('inf')] * n\n",
    "            for j in range(n):\n",
    "                for k in range(n):\n",
    "                    if k != j:\n",
    "                        new_dp[j] = min(new_dp[j], dp[k] + grid[i][j])\n",
    "            dp = new_dp\n",
    "        \n",
    "        return min(dp)"
   ]
  }
 ],
 "metadata": {
  "kernelspec": {
   "display_name": "base",
   "language": "python",
   "name": "python3"
  },
  "language_info": {
   "codemirror_mode": {
    "name": "ipython",
    "version": 3
   },
   "file_extension": ".py",
   "mimetype": "text/x-python",
   "name": "python",
   "nbconvert_exporter": "python",
   "pygments_lexer": "ipython3",
   "version": "3.9.16"
  }
 },
 "nbformat": 4,
 "nbformat_minor": 2
}

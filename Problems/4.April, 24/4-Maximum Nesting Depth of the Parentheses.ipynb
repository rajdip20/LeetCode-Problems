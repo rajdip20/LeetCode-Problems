{
 "cells": [
  {
   "cell_type": "markdown",
   "metadata": {},
   "source": [
    "A string is a **valid parentheses** **string** (denoted **VPS**) if it meets one of the following:\n",
    "- It is an empty string `\"\"`, or a single character not equal to `\"(\"` or `\")\"`,\n",
    "- It can be written as `AB` (`A` concatenated with `B`), where `A` and `B` are **VPS**'s, or\n",
    "- It can be written as `(A)`, where `A` is a **VPS**.\n",
    "\n",
    "We can similarly define the **nesting depth** `depth(S)` of any VPS `S` as follows:\n",
    "- `depth(\"\") = 0`\n",
    "- `depth(C) = 0`, where `C` is a string with a single character not equal to `\"(\"` or `\")\"`.\n",
    "- `depth(A + B) = max(depth(A), depth(B))`, where `A` and `B` are **VPS**'s.\n",
    "- `depth(\"(\" + A + \")\") = 1 + depth(A)`, where `A` is a **VPS**.\n",
    "\n",
    "For example, `\"\"`, `\"()()\"`, and `\"()(()())\"` are **VPS**'s (with nesting depths 0, 1, and 2), and `\")(\"` and `\"(()\"` are not **VPS**'s.\n",
    "\n",
    "Given a **VPS** represented as string `s`, return *the ***nesting depth*** of* `s`.\n",
    "\n",
    "<br>\n",
    "\n",
    "**Example 1:**\n",
    ">**Input:** s = \"(1+(2*3)+((8)/4))+1\"<br>\n",
    ">**Output:** 3<br>\n",
    ">**Explanation:** Digit 8 is inside of 3 nested parentheses in the string.\n",
    "\n",
    "**Example 2:**\n",
    ">**Input:** s = \"(1)+((2))+(((3)))\"<br>\n",
    ">**Output:** 3\n",
    "\n",
    "<br>\n",
    "\n",
    "**Constraints:**\n",
    "- >1 <= s.length <= 100\n",
    "- >s consists of digits 0-9 and characters '+', '-', '*', '/', '(', and ')'.\n",
    "- >It is guaranteed that parentheses expression s is a **VPS**."
   ]
  },
  {
   "cell_type": "code",
   "execution_count": 1,
   "metadata": {},
   "outputs": [],
   "source": [
    "class Solution:\n",
    "    def maxDepth(self, s: str) -> int:\n",
    "        max_depth = 0\n",
    "        current_depth = 0\n",
    "        \n",
    "        for char in s:\n",
    "            if char == '(':\n",
    "                current_depth += 1\n",
    "                max_depth = max(max_depth, current_depth)\n",
    "            elif char == ')':\n",
    "                current_depth -= 1\n",
    "        \n",
    "        return max_depth"
   ]
  }
 ],
 "metadata": {
  "kernelspec": {
   "display_name": "base",
   "language": "python",
   "name": "python3"
  },
  "language_info": {
   "codemirror_mode": {
    "name": "ipython",
    "version": 3
   },
   "file_extension": ".py",
   "mimetype": "text/x-python",
   "name": "python",
   "nbconvert_exporter": "python",
   "pygments_lexer": "ipython3",
   "version": "3.9.16"
  }
 },
 "nbformat": 4,
 "nbformat_minor": 2
}

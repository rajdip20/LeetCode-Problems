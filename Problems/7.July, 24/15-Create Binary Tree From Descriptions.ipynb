{
 "cells": [
  {
   "cell_type": "markdown",
   "metadata": {},
   "source": [
    "You are given a 2D integer array `descriptions` where **descriptions[i] = [parent<sub>i</sub>, child<sub>i</sub>, isLeft<sub>i</sub>]** indicates that **parent<sub>i</sub>** is the **parent** of **child<sub>i</sub>** in a binary tree of **unique** values. Furthermore,\n",
    "- If **isLeft<sub>i</sub> == 1**, then **child<sub>i</sub>** is the left child of **parent<sub>i</sub>**.\n",
    "- If **isLeft<sub>i</sub> == 0**, then **child<sub>i</sub>** is the right child of **parent<sub>i</sub>**.\n",
    "\n",
    "Construct the binary tree described by `descriptions` and return *its* ***root***.\n",
    "\n",
    "The test cases will be generated such that the binary tree is **valid**.\n",
    "\n",
    "<br>\n",
    "\n",
    "**Example 1:**\n",
    "\n",
    "![img1](../../images/example1drawio.png)\n",
    "\n",
    ">**Input:** descriptions = [[20,15,1],[20,17,0],[50,20,1],[50,80,0],[80,19,1]]<br>\n",
    ">**Output:** [50,20,80,15,17,19]<br>\n",
    ">**Explanation:** The root node is the node with value 50 since it has no parent.<br>\n",
    "The resulting binary tree is shown in the diagram.\n",
    "\n",
    "**Example 2:**\n",
    "\n",
    "![img2](../../images/example2drawio.png)\n",
    "\n",
    ">**Input:** descriptions = [[1,2,1],[2,3,0],[3,4,1]]<br>\n",
    ">**Output:** [1,2,null,null,3,4]<br>\n",
    ">**Explanation:** The root node is the node with value 1 since it has no parent.<br>\n",
    "The resulting binary tree is shown in the diagram.\n",
    "\n",
    "<br>\n",
    "\n",
    "**Constraints:**\n",
    "- >1 <= descriptions.length <= 10<sup>4</sup>\n",
    "- >descriptions[i].length == 3\n",
    "- >1 <= parent<sub>i</sub>, child<sub>i</sub> <= 10<sup>5</sup>\n",
    "- >0 <= isLeft<sub>i</sub> <= 1\n",
    "- >The binary tree described by descriptions is valid."
   ]
  },
  {
   "cell_type": "code",
   "execution_count": 1,
   "metadata": {},
   "outputs": [],
   "source": [
    "# Definition for a binary tree node.\n",
    "# class TreeNode:\n",
    "#     def __init__(self, val=0, left=None, right=None):\n",
    "#         self.val = val\n",
    "#         self.left = left\n",
    "#         self.right = right\n",
    "class Solution:\n",
    "    def createBinaryTree(self, descriptions: list[list[int]]):\n",
    "        nodes = {}\n",
    "        children = set()\n",
    "        \n",
    "        def getNode(val):\n",
    "            if val not in nodes:\n",
    "                nodes[val] = TreeNode(val)\n",
    "            return nodes[val]\n",
    "        \n",
    "        for parent, child, isLeft in descriptions:\n",
    "            parentNode = getNode(parent)\n",
    "            childNode = getNode(child)\n",
    "            \n",
    "            if isLeft:\n",
    "                parentNode.left = childNode\n",
    "            else:\n",
    "                parentNode.right = childNode\n",
    "            \n",
    "            children.add(child)\n",
    "        \n",
    "        for parent, child, isLeft in descriptions:\n",
    "            if parent not in children:\n",
    "                return nodes[parent]"
   ]
  }
 ],
 "metadata": {
  "kernelspec": {
   "display_name": "base",
   "language": "python",
   "name": "python3"
  },
  "language_info": {
   "codemirror_mode": {
    "name": "ipython",
    "version": 3
   },
   "file_extension": ".py",
   "mimetype": "text/x-python",
   "name": "python",
   "nbconvert_exporter": "python",
   "pygments_lexer": "ipython3",
   "version": "3.9.16"
  }
 },
 "nbformat": 4,
 "nbformat_minor": 2
}

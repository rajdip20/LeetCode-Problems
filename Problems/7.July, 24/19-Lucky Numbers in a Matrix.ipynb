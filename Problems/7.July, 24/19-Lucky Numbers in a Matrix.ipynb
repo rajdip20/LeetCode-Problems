{
 "cells": [
  {
   "cell_type": "markdown",
   "metadata": {},
   "source": [
    "Given an `m x n` matrix of **distinct** numbers, return *all ***lucky numbers*** in the matrix in ***any*** order*.\n",
    "\n",
    "A **lucky number** is an element of the matrix such that it is the minimum element in its row and maximum in its column.\n",
    "\n",
    "<br>\n",
    "\n",
    "**Example 1:**\n",
    ">**Input:** matrix = [[3,7,8],[9,11,13],[15,16,17]]<br>\n",
    ">**Output:** [15]<br>\n",
    ">**Explanation:** 15 is the only lucky number since it is the minimum in its row and the maximum in its column.\n",
    "\n",
    "**Example 2:**\n",
    ">**Input:** matrix = [[1,10,4,2],[9,3,8,7],[15,16,17,12]]<br>\n",
    ">**Output:** [12]<br>\n",
    ">**Explanation:** 12 is the only lucky number since it is the minimum in its row and the maximum in its column.\n",
    "\n",
    "**Example 3:**\n",
    ">**Input:** matrix = [[7,8],[1,2]]<br>\n",
    ">**Output:** [7]<br>\n",
    ">**Explanation:** 7 is the only lucky number since it is the minimum in its row and the maximum in its column.\n",
    "\n",
    "<br>\n",
    "\n",
    "**Constraints:**\n",
    "- >m == mat.length\n",
    "- >n == mat[i].length\n",
    "- >1 <= n, m <= 50\n",
    "- >1 <= matrix[i][j] <= 10<sup>5</sup>.\n",
    "- >All elements in the matrix are distinct."
   ]
  },
  {
   "cell_type": "code",
   "execution_count": 1,
   "metadata": {},
   "outputs": [],
   "source": [
    "class Solution:\n",
    "    def luckyNumbers (self, matrix: list[list[int]]) -> list[int]:\n",
    "        m = len(matrix)\n",
    "                \n",
    "        min_in_rows = [(min(row), i) for i, row in enumerate(matrix)]\n",
    "        lucky_numbers = []\n",
    "        \n",
    "        for min_value, row_index in min_in_rows:\n",
    "            col_index = matrix[row_index].index(min_value)\n",
    "            if all(min_value >= matrix[row][col_index] for row in range(m)):\n",
    "                lucky_numbers.append(min_value)\n",
    "        \n",
    "        return lucky_numbers"
   ]
  }
 ],
 "metadata": {
  "kernelspec": {
   "display_name": "base",
   "language": "python",
   "name": "python3"
  },
  "language_info": {
   "codemirror_mode": {
    "name": "ipython",
    "version": 3
   },
   "file_extension": ".py",
   "mimetype": "text/x-python",
   "name": "python",
   "nbconvert_exporter": "python",
   "pygments_lexer": "ipython3",
   "version": "3.9.16"
  }
 },
 "nbformat": 4,
 "nbformat_minor": 2
}

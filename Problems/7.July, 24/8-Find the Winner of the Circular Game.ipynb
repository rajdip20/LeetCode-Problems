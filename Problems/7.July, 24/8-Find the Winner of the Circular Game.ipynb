{
 "cells": [
  {
   "cell_type": "markdown",
   "metadata": {},
   "source": [
    "There are `n` friends that are playing a game. The friends are sitting in a circle and are numbered from `1` to `n` in **clockwise order**. More formally, moving clockwise from the **i<sup>th</sup>** friend brings you to the **(i+1)<sup>th</sup>** friend for `1 <= i < n`, and moving clockwise from the **n<sup>th</sup>** friend brings you to the **1<sup>st</sup>** friend.\n",
    "\n",
    "The rules of the game are as follows:\n",
    "1. **Start** at the **1<sup>st</sup>** friend.\n",
    "2. Count the next `k` friends in the clockwise direction **including** the friend you started at. The counting wraps around the circle and may count some friends more than once.\n",
    "3. The last friend you counted leaves the circle and loses the game.\n",
    "4. If there is still more than one friend in the circle, go back to step `2` **starting** from the friend **immediately clockwise** of the friend who just lost and repeat.\n",
    "Else, the last friend in the circle wins the game.\n",
    "\n",
    "Given the number of friends, `n`, and an integer `k`, return *the winner of the game*.\n",
    "\n",
    "<br>\n",
    "\n",
    "**Example 1:**\n",
    "\n",
    "![img](../../images/ic234-q2-ex11.png)\n",
    "\n",
    ">**Input:** n = 5, k = 2<br>\n",
    ">**Output:** 3<br>\n",
    ">**Explanation:** Here are the steps of the game:<br>\n",
    ">1) Start at friend 1.<br>\n",
    ">2) Count 2 friends clockwise, which are friends 1 and 2.<br>\n",
    ">3) Friend 2 leaves the circle. Next start is friend 3.<br>\n",
    ">4) Count 2 friends clockwise, which are friends 3 and 4.<br>\n",
    ">5) Friend 4 leaves the circle. Next start is friend 5.<br>\n",
    ">6) Count 2 friends clockwise, which are friends 5 and 1.<br>\n",
    ">7) Friend 1 leaves the circle. Next start is friend 3.<br>\n",
    ">8) Count 2 friends clockwise, which are friends 3 and 5.<br>\n",
    ">9) Friend 5 leaves the circle. Only friend 3 is left, so they are the winner.\n",
    "\n",
    "**Example 2:**\n",
    ">**Input:** n = 6, k = 5<br>\n",
    ">**Output:** 1<br>\n",
    ">**Explanation:** The friends leave in this order: 5, 4, 6, 2, 3. The winner is friend 1.\n",
    "\n",
    "<br>\n",
    "\n",
    "**Constraints:**\n",
    "- >1 <= k <= n <= 500\n",
    "\n",
    "<br><br>\n",
    "\n",
    "**Follow up:**<br>\n",
    "Could you solve this problem in linear time with constant space?"
   ]
  },
  {
   "cell_type": "code",
   "execution_count": 1,
   "metadata": {},
   "outputs": [],
   "source": [
    "class Solution:\n",
    "    def findTheWinner(self, n: int, k: int) -> int:\n",
    "        def josephus(n, k):\n",
    "            if n == 1:\n",
    "                return 0\n",
    "            else:\n",
    "                return (josephus(n-1, k) + k) % n\n",
    "\n",
    "        return josephus(n, k) + 1"
   ]
  }
 ],
 "metadata": {
  "kernelspec": {
   "display_name": "base",
   "language": "python",
   "name": "python3"
  },
  "language_info": {
   "codemirror_mode": {
    "name": "ipython",
    "version": 3
   },
   "file_extension": ".py",
   "mimetype": "text/x-python",
   "name": "python",
   "nbconvert_exporter": "python",
   "pygments_lexer": "ipython3",
   "version": "3.9.16"
  }
 },
 "nbformat": 4,
 "nbformat_minor": 2
}

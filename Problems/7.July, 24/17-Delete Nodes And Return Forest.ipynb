{
 "cells": [
  {
   "cell_type": "markdown",
   "metadata": {},
   "source": [
    "Given the `root` of a binary tree, each node in the tree has a distinct value.\n",
    "\n",
    "After deleting all nodes with a value in `to_delete`, we are left with a forest (a disjoint union of trees).\n",
    "\n",
    "Return the roots of the trees in the remaining forest. You may return the result in any order.\n",
    "\n",
    "<br>\n",
    "\n",
    "**Example 1:**\n",
    "\n",
    "![node1](../../images/nodes1.png)\n",
    "\n",
    ">**Input:** root = [1,2,3,4,5,6,7], to_delete = [3,5]<br>\n",
    ">**Output:** [[1,2,null,4],[6],[7]]\n",
    "\n",
    "**Example 2:**\n",
    ">**Input:** root = [1,2,4,null,3], to_delete = [3]<br>\n",
    ">**Output:** [[1,2,4]]\n",
    "\n",
    "<br>\n",
    "\n",
    "**Constraints:**\n",
    "- >The number of nodes in the given tree is at most 1000.\n",
    "- >Each node has a distinct value between 1 and 1000.\n",
    "- >to_delete.length <= 1000\n",
    "- >to_delete contains distinct values between 1 and 1000."
   ]
  },
  {
   "cell_type": "code",
   "execution_count": 1,
   "metadata": {},
   "outputs": [],
   "source": [
    "# Definition for a binary tree node.\n",
    "# class TreeNode:\n",
    "#     def __init__(self, val=0, left=None, right=None):\n",
    "#         self.val = val\n",
    "#         self.left = left\n",
    "#         self.right = right\n",
    "class Solution:\n",
    "    def delNodes(self, root, to_delete: list[int]):\n",
    "        to_delete_set = set(to_delete)\n",
    "        forest = []\n",
    "\n",
    "        def dfs(node, is_root):\n",
    "            if not node:\n",
    "                return None\n",
    "            root_deleted = node.val in to_delete_set\n",
    "            if is_root and not root_deleted:\n",
    "                forest.append(node)\n",
    "            node.left = dfs(node.left, root_deleted)\n",
    "            node.right = dfs(node.right, root_deleted)\n",
    "            return None if root_deleted else node\n",
    "\n",
    "        dfs(root, True)\n",
    "        return forest"
   ]
  }
 ],
 "metadata": {
  "kernelspec": {
   "display_name": "base",
   "language": "python",
   "name": "python3"
  },
  "language_info": {
   "codemirror_mode": {
    "name": "ipython",
    "version": 3
   },
   "file_extension": ".py",
   "mimetype": "text/x-python",
   "name": "python",
   "nbconvert_exporter": "python",
   "pygments_lexer": "ipython3",
   "version": "3.9.16"
  }
 },
 "nbformat": 4,
 "nbformat_minor": 2
}

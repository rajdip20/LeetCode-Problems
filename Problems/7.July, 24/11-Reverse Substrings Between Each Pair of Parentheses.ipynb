{
 "cells": [
  {
   "cell_type": "markdown",
   "metadata": {},
   "source": [
    "You are given a string `s` that consists of lower case English letters and brackets.\n",
    "\n",
    "Reverse the strings in each pair of matching parentheses, starting from the innermost one.\n",
    "\n",
    "Your result should **not** contain any brackets.\n",
    "\n",
    "<br>\n",
    "\n",
    "**Example 1:**\n",
    ">**Input:** s = \"(abcd)\"<br>\n",
    ">**Output:** \"dcba\"\n",
    "\n",
    "**Example 2:**\n",
    ">**Input:** s = \"(u(love)i)\"<br>\n",
    ">**Output:** \"iloveu\"<br>\n",
    ">**Explanation:** The substring \"love\" is reversed first, then the whole string is reversed.\n",
    "\n",
    "**Example 3:**\n",
    ">**Input:** s = \"(ed(et(oc))el)\"<br>\n",
    ">**Output:** \"leetcode\"<br>\n",
    ">**Explanation:** First, we reverse the substring \"oc\", then \"etco\", and finally, the whole string.\n",
    "\n",
    "<br>\n",
    "\n",
    "**Constraints:**\n",
    "- >1 <= s.length <= 2000\n",
    "- >s only contains lower case English characters and parentheses.\n",
    "- >It is guaranteed that all parentheses are balanced."
   ]
  },
  {
   "cell_type": "code",
   "execution_count": 1,
   "metadata": {},
   "outputs": [],
   "source": [
    "class Solution:\n",
    "    def reverseParentheses(self, s: str) -> str:\n",
    "        stack = []\n",
    "    \n",
    "        for char in s:\n",
    "            if char == ')':\n",
    "                temp = []\n",
    "                while stack and stack[-1] != '(':\n",
    "                    temp.append(stack.pop())\n",
    "                stack.pop()\n",
    "                stack.extend(temp)\n",
    "            else:\n",
    "                stack.append(char)\n",
    "        \n",
    "        return ''.join(stack)"
   ]
  }
 ],
 "metadata": {
  "kernelspec": {
   "display_name": "base",
   "language": "python",
   "name": "python3"
  },
  "language_info": {
   "codemirror_mode": {
    "name": "ipython",
    "version": 3
   },
   "file_extension": ".py",
   "mimetype": "text/x-python",
   "name": "python",
   "nbconvert_exporter": "python",
   "pygments_lexer": "ipython3",
   "version": "3.9.16"
  }
 },
 "nbformat": 4,
 "nbformat_minor": 2
}

{
 "cells": [
  {
   "cell_type": "markdown",
   "metadata": {},
   "source": [
    "Given an array of integers `nums`, sort the array in **increasing** order based on the frequency of the values. If multiple values have the same frequency, sort them in **decreasing** order.\n",
    "\n",
    "Return the *sorted array*.\n",
    "\n",
    "<br>\n",
    "\n",
    "**Example 1:**\n",
    ">**Input:** nums = [1,1,2,2,2,3]<br>\n",
    ">**Output:** [3,1,1,2,2,2]<br>\n",
    ">**Explanation:** '3' has a frequency of 1, '1' has a frequency of 2, and '2' has a frequency of 3.\n",
    "\n",
    "**Example 2:**\n",
    ">**Input:** nums = [2,3,1,3,2]<br>\n",
    ">**Output:** [1,3,3,2,2]<br>\n",
    ">**Explanation:** '2' and '3' both have a frequency of 2, so they are sorted in decreasing order.\n",
    "\n",
    "**Example 3:**\n",
    ">**Input:** nums = [-1,1,-6,4,5,-6,1,4,1]<br>\n",
    ">**Output:** [5,-1,4,4,-6,-6,1,1,1]\n",
    "\n",
    "<br>\n",
    "\n",
    "**Constraints:**\n",
    "- >1 <= nums.length <= 100\n",
    "- >-100 <= nums[i] <= 100"
   ]
  },
  {
   "cell_type": "code",
   "execution_count": 1,
   "metadata": {},
   "outputs": [],
   "source": [
    "class Solution:\n",
    "    def frequencySort(self, nums: list[int]) -> list[int]:\n",
    "        from collections import Counter\n",
    "\n",
    "        freq = Counter(nums)\n",
    "        nums.sort(key=lambda x: (freq[x], -x))\n",
    "        \n",
    "        return nums"
   ]
  }
 ],
 "metadata": {
  "kernelspec": {
   "display_name": "base",
   "language": "python",
   "name": "python3"
  },
  "language_info": {
   "codemirror_mode": {
    "name": "ipython",
    "version": 3
   },
   "file_extension": ".py",
   "mimetype": "text/x-python",
   "name": "python",
   "nbconvert_exporter": "python",
   "pygments_lexer": "ipython3",
   "version": "3.9.16"
  }
 },
 "nbformat": 4,
 "nbformat_minor": 2
}

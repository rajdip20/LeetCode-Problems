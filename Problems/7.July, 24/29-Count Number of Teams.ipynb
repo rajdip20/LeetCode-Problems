{
 "cells": [
  {
   "cell_type": "markdown",
   "metadata": {},
   "source": [
    "There are `n` soldiers standing in a line. Each soldier is assigned a **unique** `rating` **value**.\n",
    "\n",
    "You have to form a team of 3 soldiers amongst them under the following rules:\n",
    "- Choose 3 soldiers with index (`i`, `j`, `k`) with rating (`rating[i]`, `rating[j]`, `rating[k]`).\n",
    "- A team is valid if: (`rating[i] < rating[j] < rating[k]`) or (`rating[i] > rating[j] > rating[k]`) where (`0 <= i < j < k < n`).\n",
    "\n",
    "Return the number of teams you can form given the conditions. (soldiers can be part of multiple teams).\n",
    "\n",
    "<br>\n",
    "\n",
    "**Example 1:**\n",
    ">**Input:** rating = [2,5,3,4,1]<br>\n",
    ">**Output:** 3<br>\n",
    ">**Explanation:** We can form three teams given the conditions. (2,3,4), (5,4,1), (5,3,1). \n",
    "\n",
    "**Example 2:**\n",
    ">**Input:** rating = [2,1,3]<br>\n",
    ">**Output:** 0<br>\n",
    ">**Explanation:** We can't form any team given the conditions.\n",
    "\n",
    "**Example 3:**\n",
    ">**Input:** rating = [1,2,3,4]<br>\n",
    ">**Output:** 4\n",
    "\n",
    "<br>\n",
    "\n",
    "**Constraints:**\n",
    "- >n == rating.length\n",
    "- >3 <= n <= 1000\n",
    "- >1 <= rating[i] <= 10<sup>5</sup>\n",
    "- >All the integers in rating are **unique**."
   ]
  },
  {
   "cell_type": "code",
   "execution_count": 1,
   "metadata": {},
   "outputs": [],
   "source": [
    "class Solution:\n",
    "    def numTeams(self, rating: list[int]) -> int:\n",
    "        n = len(rating)\n",
    "        count = 0\n",
    "        \n",
    "        for j in range(n):\n",
    "            left_smaller = left_larger = 0\n",
    "            right_smaller = right_larger = 0\n",
    "            \n",
    "            for i in range(j):\n",
    "                if rating[i] < rating[j]:\n",
    "                    left_smaller += 1\n",
    "                elif rating[i] > rating[j]:\n",
    "                    left_larger += 1\n",
    "            \n",
    "            for k in range(j + 1, n):\n",
    "                if rating[k] < rating[j]:\n",
    "                    right_smaller += 1\n",
    "                elif rating[k] > rating[j]:\n",
    "                    right_larger += 1\n",
    "            \n",
    "            count += left_smaller * right_larger + left_larger * right_smaller\n",
    "        \n",
    "        return count"
   ]
  }
 ],
 "metadata": {
  "kernelspec": {
   "display_name": "base",
   "language": "python",
   "name": "python3"
  },
  "language_info": {
   "codemirror_mode": {
    "name": "ipython",
    "version": 3
   },
   "file_extension": ".py",
   "mimetype": "text/x-python",
   "name": "python",
   "nbconvert_exporter": "python",
   "pygments_lexer": "ipython3",
   "version": "3.9.16"
  }
 },
 "nbformat": 4,
 "nbformat_minor": 2
}

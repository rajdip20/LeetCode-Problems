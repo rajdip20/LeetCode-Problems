{
 "cells": [
  {
   "cell_type": "markdown",
   "metadata": {},
   "source": [
    "You are given the `head` of a linked list, which contains a series of integers **separated** by `0`'s. The **beginning** and **end** of the linked list will have `Node.val == 0`.\n",
    "\n",
    "For **every** two consecutive `0`'s, **merge** all the nodes lying in between them into a single node whose value is the **sum** of all the merged nodes. The modified list should not contain any `0`'s.\n",
    "\n",
    "Return *the* `head` *of the modified linked list*.\n",
    "\n",
    "<br>\n",
    "\n",
    "**Example 1:**\n",
    "\n",
    "![ex1-1](../../images/ex1-1.png)\n",
    "\n",
    ">**Input:** head = [0,3,1,0,4,5,2,0]<br>\n",
    ">**Output:** [4,11]<br>\n",
    ">**Explanation:** <br>\n",
    ">The above figure represents the given linked list. The modified list contains<br>\n",
    ">\\- The sum of the nodes marked in green: 3 + 1 = 4.<br>\n",
    ">\\- The sum of the nodes marked in red: 4 + 5 + 2 = 11.\n",
    "\n",
    "**Example 2:**\n",
    "\n",
    "![ex2-1](../../images/ex2-1.png)\n",
    "\n",
    ">**Input:** head = [0,1,0,3,0,2,2,0]<br>\n",
    ">**Output:** [1,3,4]<br>\n",
    ">**Explanation:** <br>\n",
    ">The above figure represents the given linked list. The modified list contains<br>\n",
    ">\\- The sum of the nodes marked in green: 1 = 1.<br>\n",
    ">\\- The sum of the nodes marked in red: 3 = 3.\n",
    ">\\- The sum of the nodes marked in yellow: 2 + 2 = 4.\n",
    "\n",
    "<br>\n",
    "\n",
    "**Constraints:**\n",
    "- >The number of nodes in the list is in the range [3, 2 * 10<sup>5</sup>].\n",
    "- >0 <= Node.val <= 1000\n",
    "- >There are **no** two consecutive nodes with Node.val == 0.\n",
    "- >The **beginning** and **end** of the linked list have Node.val == 0."
   ]
  },
  {
   "cell_type": "code",
   "execution_count": 1,
   "metadata": {},
   "outputs": [],
   "source": [
    "# Definition for singly-linked list.\n",
    "# class ListNode:\n",
    "#     def __init__(self, val=0, next=None):\n",
    "#         self.val = val\n",
    "#         self.next = next\n",
    "class Solution:\n",
    "    def mergeNodes(self, head):\n",
    "        current = head\n",
    "        dummy = ListNode(0)\n",
    "        new_list = dummy\n",
    "        current_sum = 0\n",
    "        \n",
    "        current = current.next\n",
    "        \n",
    "        while current:\n",
    "            if current.val == 0:\n",
    "                new_list.next = ListNode(current_sum)\n",
    "                new_list = new_list.next\n",
    "                current_sum = 0\n",
    "            else:\n",
    "                current_sum += current.val\n",
    "            current = current.next\n",
    "        \n",
    "        return dummy.next"
   ]
  }
 ],
 "metadata": {
  "kernelspec": {
   "display_name": "base",
   "language": "python",
   "name": "python3"
  },
  "language_info": {
   "codemirror_mode": {
    "name": "ipython",
    "version": 3
   },
   "file_extension": ".py",
   "mimetype": "text/x-python",
   "name": "python",
   "nbconvert_exporter": "python",
   "pygments_lexer": "ipython3",
   "version": "3.9.16"
  }
 },
 "nbformat": 4,
 "nbformat_minor": 2
}

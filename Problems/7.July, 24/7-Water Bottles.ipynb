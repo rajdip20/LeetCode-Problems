{
 "cells": [
  {
   "cell_type": "markdown",
   "metadata": {},
   "source": [
    "There are `numBottles` water bottles that are initially full of water. You can exchange `numExchange` empty water bottles from the market with one full water bottle.\n",
    "\n",
    "The operation of drinking a full water bottle turns it into an empty bottle.\n",
    "\n",
    "Given the two integers `numBottles` and `numExchange`, return *the ***maximum*** number of water bottles you can drink*.\n",
    "\n",
    "<br>\n",
    "\n",
    "**Example 1:**\n",
    "\n",
    "![water_bottles1](../../images/sample_1_1875.png)\n",
    "\n",
    ">**Input:** numBottles = 9, numExchange = 3<br>\n",
    ">**Output:** 13<br>\n",
    ">**Explanation:** You can exchange 3 empty bottles to get 1 full water bottle.<br>\n",
    ">Number of water bottles you can drink: 9 + 3 + 1 = 13.\n",
    "\n",
    "**Example 2:**\n",
    "\n",
    "![water_bottles2](../../images/sample_2_1875.png)\n",
    "\n",
    ">**Input:** numBottles = 15, numExchange = 4<br>\n",
    ">**Output:** 19<br>\n",
    ">**Explanation:** You can exchange 4 empty bottles to get 1 full water bottle. <br>\n",
    ">Number of water bottles you can drink: 15 + 3 + 1 = 19.\n",
    "\n",
    "<br>\n",
    "\n",
    "**Constraints:**\n",
    "- >1 <= numBottles <= 100\n",
    "- >2 <= numExchange <= 100"
   ]
  },
  {
   "cell_type": "code",
   "execution_count": 1,
   "metadata": {},
   "outputs": [],
   "source": [
    "class Solution:\n",
    "    def numWaterBottles(self, numBottles: int, numExchange: int) -> int:\n",
    "        total_drunk = 0\n",
    "        empty_bottles = 0\n",
    "        \n",
    "        while numBottles > 0:\n",
    "            total_drunk += numBottles\n",
    "            empty_bottles += numBottles\n",
    "            \n",
    "            numBottles = empty_bottles // numExchange\n",
    "            empty_bottles = empty_bottles % numExchange\n",
    "        \n",
    "        return total_drunk"
   ]
  }
 ],
 "metadata": {
  "kernelspec": {
   "display_name": "base",
   "language": "python",
   "name": "python3"
  },
  "language_info": {
   "codemirror_mode": {
    "name": "ipython",
    "version": 3
   },
   "file_extension": ".py",
   "mimetype": "text/x-python",
   "name": "python",
   "nbconvert_exporter": "python",
   "pygments_lexer": "ipython3",
   "version": "3.9.16"
  }
 },
 "nbformat": 4,
 "nbformat_minor": 2
}

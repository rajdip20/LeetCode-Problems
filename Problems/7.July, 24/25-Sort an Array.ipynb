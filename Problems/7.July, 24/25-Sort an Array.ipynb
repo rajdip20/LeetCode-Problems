{
 "cells": [
  {
   "cell_type": "markdown",
   "metadata": {},
   "source": [
    "Given an array of integers `nums`, sort the array in ascending order and return it.\n",
    "\n",
    "You must solve the problem **without using any built-in** functions in `O(nlog(n))` time complexity and with the smallest space complexity possible.\n",
    "\n",
    "<br>\n",
    "\n",
    "**Example 1:**\n",
    ">**Input:** nums = [5,2,3,1]<br>\n",
    ">**Output:** [1,2,3,5]<br>\n",
    ">**Explanation:** After sorting the array, the positions of some numbers are not changed (for example, 2 and 3), while the positions of other numbers are changed (for example, 1 and 5).\n",
    "\n",
    "**Example 2:**\n",
    ">**Input:** nums = [5,1,1,2,0,0]<br>\n",
    ">**Output:** [0,0,1,1,2,5]<br>\n",
    ">**Explanation:** Note that the values of nums are not necessairly unique.\n",
    "\n",
    "<br>\n",
    "\n",
    "**Constraints:**\n",
    "- >1 <= nums.length <= 5 * 10<sup>4</sup>\n",
    "- >-5 * 10<sup>4</sup> <= nums[i] <= 5 * 10<sup>4</sup>"
   ]
  },
  {
   "cell_type": "code",
   "execution_count": 1,
   "metadata": {},
   "outputs": [],
   "source": [
    "class Solution:\n",
    "    def sortArray(self, nums: list[int]) -> list[int]:\n",
    "        def heapify(arr, n, i):\n",
    "            largest = i\n",
    "            left = 2 * i + 1\n",
    "            right = 2 * i + 2\n",
    "\n",
    "            if left < n and arr[i] < arr[left]:\n",
    "                largest = left\n",
    "\n",
    "            if right < n and arr[largest] < arr[right]:\n",
    "                largest = right\n",
    "\n",
    "            if largest != i:\n",
    "                arr[i], arr[largest] = arr[largest], arr[i]\n",
    "\n",
    "                heapify(arr, n, largest)\n",
    "\n",
    "        \n",
    "        n = len(nums)\n",
    "\n",
    "        for i in range(n // 2 - 1, -1, -1):\n",
    "            heapify(nums, n, i)\n",
    "\n",
    "        for i in range(n-1, 0, -1):\n",
    "            nums[i], nums[0] = nums[0], nums[i]\n",
    "            heapify(nums, i, 0)\n",
    "\n",
    "        return nums"
   ]
  }
 ],
 "metadata": {
  "kernelspec": {
   "display_name": "base",
   "language": "python",
   "name": "python3"
  },
  "language_info": {
   "codemirror_mode": {
    "name": "ipython",
    "version": 3
   },
   "file_extension": ".py",
   "mimetype": "text/x-python",
   "name": "python",
   "nbconvert_exporter": "python",
   "pygments_lexer": "ipython3",
   "version": "3.9.16"
  }
 },
 "nbformat": 4,
 "nbformat_minor": 2
}

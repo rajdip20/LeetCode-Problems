{
 "cells": [
  {
   "cell_type": "markdown",
   "metadata": {},
   "source": [
    "The Leetcode file system keeps a log each time some user performs a *change folder* operation.<br><br>\n",
    "The operations are described below:\n",
    "- `\"../\"` : Move to the parent folder of the current folder. (If you are already in the main folder, **remain in the same folder**).\n",
    "- `\"./\"` : Remain in the same folder.\n",
    "- `\"x/\"` : Move to the child folder named `x` (This folder is **guaranteed to always exist**).\n",
    "\n",
    "You are given a list of strings `logs` where `logs[i]` is the operation performed by the user at the **i<sup>th</sup>** step.\n",
    "\n",
    "The file system starts in the main folder, then the operations in `logs` are performed.\n",
    "\n",
    "Return *the minimum number of operations needed to go back to the main folder after the change folder operations*.\n",
    "\n",
    "<br>\n",
    "\n",
    "**Example 1:**\n",
    "\n",
    "![sample_11](../../images/sample_11_1957.png)\n",
    "\n",
    ">**Input:** logs = [\"d1/\",\"d2/\",\"../\",\"d21/\",\"./\"]<br>\n",
    ">**Output:** 2<br>\n",
    ">**Explanation:** Use this change folder operation \"../\" 2 times and go back to the main folder.\n",
    "\n",
    "**Example 2:**\n",
    "\n",
    "![sample_22](../../images/sample_22_1957.png)\n",
    "\n",
    ">**Input:** logs = [\"d1/\",\"d2/\",\"./\",\"d3/\",\"../\",\"d31/\"]<br>\n",
    ">**Output:** 3\n",
    "\n",
    "**Example 3:**\n",
    ">**Input:** logs = [\"d1/\",\"../\",\"../\",\"../\"]<br>\n",
    ">**Output:** 0\n",
    "\n",
    "<br>\n",
    "\n",
    "**Constraints:**\n",
    "- >1 <= logs.length <= 10<sup>3</sup>\n",
    "- >2 <= logs[i].length <= 10\n",
    "- >logs[i] contains lowercase English letters, digits, '.', and '/'.\n",
    "- >logs[i] follows the format described in the statement.\n",
    "- >Folder names consist of lowercase English letters and digits."
   ]
  },
  {
   "cell_type": "code",
   "execution_count": 1,
   "metadata": {},
   "outputs": [],
   "source": [
    "class Solution:\n",
    "    def minOperations(self, logs: list[str]) -> int:\n",
    "        depth = 0\n",
    "        \n",
    "        for log in logs:\n",
    "            if log == \"../\":\n",
    "                if depth > 0:\n",
    "                    depth -= 1\n",
    "            elif log == \"./\":\n",
    "                continue\n",
    "            else:\n",
    "                depth += 1\n",
    "        \n",
    "        return depth"
   ]
  }
 ],
 "metadata": {
  "kernelspec": {
   "display_name": "base",
   "language": "python",
   "name": "python3"
  },
  "language_info": {
   "codemirror_mode": {
    "name": "ipython",
    "version": 3
   },
   "file_extension": ".py",
   "mimetype": "text/x-python",
   "name": "python",
   "nbconvert_exporter": "python",
   "pygments_lexer": "ipython3",
   "version": "3.9.16"
  }
 },
 "nbformat": 4,
 "nbformat_minor": 2
}

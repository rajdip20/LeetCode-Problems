{
 "cells": [
  {
   "cell_type": "markdown",
   "metadata": {},
   "source": [
    "You are given a string `s` and two integers `x` and `y`. You can perform two types of operations any number of times.\n",
    "- Remove substring `\"ab\"` and gain `x` points.\n",
    "    - For example, when removing `\"ab\"` from `\"cabxbae\"` it becomes `\"cxbae\"`.\n",
    "- Remove substring `\"ba\"` and gain `y` points.\n",
    "    - For example, when removing `\"ba\"` from `\"cabxbae\"` it becomes `\"cabxe\"`.\n",
    "\n",
    "Return *the maximum points you can gain after applying the above operations on* `s`.\n",
    "\n",
    "<br>\n",
    "\n",
    "**Example 1:**\n",
    ">**Input:** s = \"cdbcbbaaabab\", x = 4, y = 5<br>\n",
    ">**Output:** 19<br>\n",
    ">**Explanation:**<br>\n",
    ">\\- Remove the \"ba\" underlined in \"cdbcbbaaabab\". Now, s = \"cdbcbbaaab\" and 5 points are added to the score.<br>\n",
    ">\\- Remove the \"ab\" underlined in \"cdbcbbaaab\". Now, s = \"cdbcbbaa\" and 4 points are added to the score.<br>\n",
    ">\\- Remove the \"ba\" underlined in \"cdbcbbaa\". Now, s = \"cdbcba\" and 5 points are added to the score.<br>\n",
    ">\\- Remove the \"ba\" underlined in \"cdbcba\". Now, s = \"cdbc\" and 5 points are added to the score.<br>\n",
    ">Total score = 5 + 4 + 5 + 5 = 19.\n",
    "\n",
    "**Example 2:**\n",
    ">**Input:** s = \"aabbaaxybbaabb\", x = 5, y = 4<br>\n",
    ">**Output:** 20\n",
    "\n",
    "<br>\n",
    "\n",
    "**Constraints:**\n",
    "- >1 <= s.length <= 10<sup>5</sup>\n",
    "- >1 <= x, y <= 10<sup>4</sup>\n",
    "- >s consists of lowercase English letters."
   ]
  },
  {
   "cell_type": "code",
   "execution_count": 1,
   "metadata": {},
   "outputs": [],
   "source": [
    "class Solution:\n",
    "    def maximumGain(self, s: str, x: int, y: int) -> int:\n",
    "        def remove_and_score(s, first, second, points):\n",
    "            stack = []\n",
    "            score = 0\n",
    "            for char in s:\n",
    "                if stack and stack[-1] == first and char == second:\n",
    "                    stack.pop()\n",
    "                    score += points\n",
    "                else:\n",
    "                    stack.append(char)\n",
    "            return ''.join(stack), score\n",
    "        \n",
    "        if x > y:\n",
    "            remaining_string, score = remove_and_score(s, 'a', 'b', x)\n",
    "            _, score2 = remove_and_score(remaining_string, 'b', 'a', y)\n",
    "        else:\n",
    "            remaining_string, score = remove_and_score(s, 'b', 'a', y)\n",
    "            _, score2 = remove_and_score(remaining_string, 'a', 'b', x)\n",
    "        \n",
    "        return score + score2"
   ]
  }
 ],
 "metadata": {
  "kernelspec": {
   "display_name": "base",
   "language": "python",
   "name": "python3"
  },
  "language_info": {
   "codemirror_mode": {
    "name": "ipython",
    "version": 3
   },
   "file_extension": ".py",
   "mimetype": "text/x-python",
   "name": "python",
   "nbconvert_exporter": "python",
   "pygments_lexer": "ipython3",
   "version": "3.9.16"
  }
 },
 "nbformat": 4,
 "nbformat_minor": 2
}

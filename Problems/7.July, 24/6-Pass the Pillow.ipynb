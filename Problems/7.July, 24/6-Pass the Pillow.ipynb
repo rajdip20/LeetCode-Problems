{
 "cells": [
  {
   "cell_type": "markdown",
   "metadata": {},
   "source": [
    "There are `n` people standing in a line labeled from `1` to `n`. The first person in the line is holding a pillow initially. Every second, the person holding the pillow passes it to the next person standing in the line. Once the pillow reaches the end of the line, the direction changes, and people continue passing the pillow in the opposite direction.\n",
    "- For example, once the pillow reaches the **n<sup>th</sup>** person they pass it to the **n - 1<sup>th</sup>** person, then to the **n - 2<sup>th</sup>** person and so on.\n",
    "\n",
    "Given the two positive integers `n` and `time`, return *the index of the person holding the pillow after* `time` *seconds*.\n",
    "\n",
    "<br>\n",
    "\n",
    "**Example 1:**\n",
    ">**Input:** n = 4, time = 5<br>\n",
    ">**Output:** 2<br>\n",
    ">**Explanation:** People pass the pillow in the following way: 1 -> 2 -> 3 -> 4 -> 3 -> 2.<br>\n",
    ">After five seconds, the 2nd person is holding the pillow.\n",
    "\n",
    "**Example 2:**\n",
    ">**Input:** n = 3, time = 2<br>\n",
    ">**Output:** 3<br>\n",
    ">**Explanation:** People pass the pillow in the following way: 1 -> 2 -> 3.<br>\n",
    ">After two seconds, the 3rd person is holding the pillow.\n",
    "\n",
    "<br>\n",
    "\n",
    "**Constraints:**\n",
    "- >2 <= n <= 1000\n",
    "- >1 <= time <= 1000"
   ]
  },
  {
   "cell_type": "code",
   "execution_count": 1,
   "metadata": {},
   "outputs": [],
   "source": [
    "class Solution:\n",
    "    def passThePillow(self, n: int, time: int) -> int:\n",
    "        current_position = 1\n",
    "        direction = 1\n",
    "        \n",
    "        for _ in range(time):\n",
    "            current_position += direction\n",
    "            if current_position == n:\n",
    "                direction = -1\n",
    "            elif current_position == 1:\n",
    "                direction = 1\n",
    "        \n",
    "        return current_position"
   ]
  }
 ],
 "metadata": {
  "kernelspec": {
   "display_name": "base",
   "language": "python",
   "name": "python3"
  },
  "language_info": {
   "codemirror_mode": {
    "name": "ipython",
    "version": 3
   },
   "file_extension": ".py",
   "mimetype": "text/x-python",
   "name": "python",
   "nbconvert_exporter": "python",
   "pygments_lexer": "ipython3",
   "version": "3.9.16"
  }
 },
 "nbformat": 4,
 "nbformat_minor": 2
}

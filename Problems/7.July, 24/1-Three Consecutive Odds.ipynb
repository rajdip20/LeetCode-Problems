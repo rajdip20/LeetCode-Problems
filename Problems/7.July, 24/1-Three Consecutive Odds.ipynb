{
 "cells": [
  {
   "cell_type": "markdown",
   "metadata": {},
   "source": [
    "Given an integer array `arr`, return `true` if there are three consecutive odd numbers in the array. Otherwise, return `false`.\n",
    "\n",
    "<br>\n",
    "\n",
    "**Example 1:**\n",
    ">**Input:** arr = [2,6,4,1]<br>\n",
    ">**Output:** false<br>\n",
    ">**Explanation:** There are no three consecutive odds.\n",
    "\n",
    "**Example 2:**\n",
    ">**Input:** arr = [1,2,34,3,4,5,7,23,12]<br>\n",
    ">**Output:** true<br>\n",
    ">**Explanation:** [5,7,23] are three consecutive odds.\n",
    "\n",
    "<br>\n",
    "\n",
    "**Constraints:**\n",
    "- >1 <= arr.length <= 1000\n",
    "- >1 <= arr[i] <= 1000"
   ]
  },
  {
   "cell_type": "code",
   "execution_count": 1,
   "metadata": {},
   "outputs": [],
   "source": [
    "class Solution:\n",
    "    def threeConsecutiveOdds(self, arr: list[int]) -> bool:\n",
    "        for i in range(len(arr) - 2):\n",
    "            if arr[i] % 2 == 1 and arr[i + 1] % 2 == 1 and arr[i + 2] % 2 == 1:\n",
    "                return True\n",
    "        return False"
   ]
  }
 ],
 "metadata": {
  "kernelspec": {
   "display_name": "base",
   "language": "python",
   "name": "python3"
  },
  "language_info": {
   "codemirror_mode": {
    "name": "ipython",
    "version": 3
   },
   "file_extension": ".py",
   "mimetype": "text/x-python",
   "name": "python",
   "nbconvert_exporter": "python",
   "pygments_lexer": "ipython3",
   "version": "3.9.16"
  }
 },
 "nbformat": 4,
 "nbformat_minor": 2
}

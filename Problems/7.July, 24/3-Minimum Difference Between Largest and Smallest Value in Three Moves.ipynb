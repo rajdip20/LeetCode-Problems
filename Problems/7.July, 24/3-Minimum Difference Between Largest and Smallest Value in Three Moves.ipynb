{
 "cells": [
  {
   "cell_type": "markdown",
   "metadata": {},
   "source": [
    "You are given an integer array `nums`.\n",
    "\n",
    "In one move, you can choose one element of `nums` and change it to **any value**.\n",
    "\n",
    "Return *the minimum difference between the largest and smallest value of `nums` ***after performing at most three moves*** *.\n",
    "\n",
    "<br>\n",
    "\n",
    "**Example 1:**\n",
    ">**Input:** nums = [5,3,2,4]<br>\n",
    ">**Output:** 0<br>\n",
    ">**Explanation:** We can make at most 3 moves.<br>\n",
    ">In the first move, change 2 to 3. nums becomes [5,3,3,4].<br>\n",
    ">In the second move, change 4 to 3. nums becomes [5,3,3,3].<br>\n",
    ">In the third move, change 5 to 3. nums becomes [3,3,3,3].<br>\n",
    ">After performing 3 moves, the difference between the minimum and maximum is 3 - 3 = 0.\n",
    "\n",
    "**Example 2:**\n",
    ">**Input:** nums = [1,5,0,10,14]<br>\n",
    ">**Output:** 1<br>\n",
    ">**Explanation:** We can make at most 3 moves.<br>\n",
    ">In the first move, change 5 to 0. nums becomes [1,0,0,10,14].<br>\n",
    ">In the second move, change 10 to 0. nums becomes [1,0,0,0,14].<br>\n",
    ">In the third move, change 14 to 1. nums becomes [1,0,0,0,1].<br>\n",
    ">After performing 3 moves, the difference between the minimum and maximum is 1 - 0 = 1.<br>\n",
    ">It can be shown that there is no way to make the difference 0 in 3 moves.\n",
    "\n",
    "**Example 3:**\n",
    ">**Input:** nums = [3,100,20]<br>\n",
    ">**Output:** 0<br>\n",
    ">**Explanation:** We can make at most 3 moves.<br>\n",
    ">In the first move, change 100 to 7. nums becomes [3,7,20].<br>\n",
    ">In the second move, change 20 to 7. nums becomes [3,7,7].<br>\n",
    ">In the third move, change 3 to 7. nums becomes [7,7,7].<br>\n",
    ">After performing 3 moves, the difference between the minimum and maximum is 7 - 7 = 0.\n",
    "\n",
    "<br>\n",
    "\n",
    "**Constraints:**\n",
    "- >1 <= nums.length <= 10<sup>5</sup>\n",
    "- >-10<sup>9</sup> <= nums[i] <= 10<sup>9</sup>"
   ]
  },
  {
   "cell_type": "code",
   "execution_count": 1,
   "metadata": {},
   "outputs": [],
   "source": [
    "class Solution:\n",
    "    def minDifference(self, nums: list[int]) -> int:\n",
    "        if len(nums) <= 4:\n",
    "            return 0\n",
    "        \n",
    "        nums.sort()\n",
    "        n = len(nums)\n",
    "        \n",
    "        min_diff = min(\n",
    "            nums[n-1] - nums[3],\n",
    "            nums[n-2] - nums[2],\n",
    "            nums[n-3] - nums[1],\n",
    "            nums[n-4] - nums[0]\n",
    "        )\n",
    "        \n",
    "        return min_diff"
   ]
  }
 ],
 "metadata": {
  "kernelspec": {
   "display_name": "base",
   "language": "python",
   "name": "python3"
  },
  "language_info": {
   "codemirror_mode": {
    "name": "ipython",
    "version": 3
   },
   "file_extension": ".py",
   "mimetype": "text/x-python",
   "name": "python",
   "nbconvert_exporter": "python",
   "pygments_lexer": "ipython3",
   "version": "3.9.16"
  }
 },
 "nbformat": 4,
 "nbformat_minor": 2
}

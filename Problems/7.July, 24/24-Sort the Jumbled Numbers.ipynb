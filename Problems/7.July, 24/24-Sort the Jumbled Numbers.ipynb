{
 "cells": [
  {
   "cell_type": "markdown",
   "metadata": {},
   "source": [
    "You are given a **0-indexed** integer array `mapping` which represents the mapping rule of a shuffled decimal system. `mapping[i] = j` means digit `i` should be mapped to digit `j` in this system.\n",
    "\n",
    "The **mapped value** of an integer is the new integer obtained by replacing each occurrence of digit `i` in the integer with `mapping[i]` for all `0 <= i <= 9`.\n",
    "\n",
    "You are also given another integer array `nums`. Return *the array* `nums` *sorted in ***non-decreasing*** order based on the ***mapped values*** of its elements*.\n",
    "\n",
    "Notes:\n",
    "- Elements with the same mapped values should appear in the **same relative order** as in the input.\n",
    "- The elements of `nums` should only be sorted based on their mapped values and **not be replaced** by them.\n",
    "\n",
    "<br>\n",
    "\n",
    "**Example 1:**\n",
    ">**Input:** mapping = [8,9,4,0,2,1,3,5,7,6], nums = [991,338,38]<br>\n",
    ">**Output:** [338,38,991]<br>\n",
    ">**Explanation:** <br>\n",
    ">Map the number 991 as follows:<br>\n",
    ">1. mapping[9] = 6, so all occurrences of the digit 9 will become 6.<br>\n",
    ">2. mapping[1] = 9, so all occurrences of the digit 1 will become 9.<br>\n",
    ">\n",
    ">Therefore, the mapped value of 991 is 669.<br>\n",
    ">338 maps to 007, or 7 after removing the leading zeros.<br>\n",
    ">38 maps to 07, which is also 7 after removing leading zeros.<br>\n",
    ">Since 338 and 38 share the same mapped value, they should remain in the same relative order, so 338 comes before 38.<br>\n",
    ">Thus, the sorted array is [338,38,991].\n",
    "\n",
    "**Example 2:**\n",
    ">**Input:** mapping = [0,1,2,3,4,5,6,7,8,9], nums = [789,456,123]<br>\n",
    ">**Output:** [123,456,789]<br>\n",
    ">**Explanation:** 789 maps to 789, 456 maps to 456, and 123 maps to 123. Thus, the sorted array is [123,456,789].\n",
    "\n",
    "<br>\n",
    "\n",
    "**Constraints:**\n",
    "- >mapping.length == 10\n",
    "- >0 <= mapping[i] <= 9\n",
    "- >All the values of mapping[i] are **unique**.\n",
    "- >1 <= nums.length <= 3 * 10<sup>4</sup>\n",
    "- >0 <= nums[i] < 10<sup>9</sup>"
   ]
  },
  {
   "cell_type": "code",
   "execution_count": 1,
   "metadata": {},
   "outputs": [],
   "source": [
    "class Solution:\n",
    "    def sortJumbled(self, mapping: list[int], nums: list[int]) -> list[int]:\n",
    "        def get_mapped_value(number, mapping):\n",
    "            mapped_str = ''.join(str(mapping[int(digit)]) for digit in str(number))\n",
    "            return int(mapped_str)\n",
    "\n",
    "\n",
    "        return sorted(nums, key=lambda x: get_mapped_value(x, mapping))"
   ]
  }
 ],
 "metadata": {
  "kernelspec": {
   "display_name": "base",
   "language": "python",
   "name": "python3"
  },
  "language_info": {
   "codemirror_mode": {
    "name": "ipython",
    "version": 3
   },
   "file_extension": ".py",
   "mimetype": "text/x-python",
   "name": "python",
   "nbconvert_exporter": "python",
   "pygments_lexer": "ipython3",
   "version": "3.9.16"
  }
 },
 "nbformat": 4,
 "nbformat_minor": 2
}

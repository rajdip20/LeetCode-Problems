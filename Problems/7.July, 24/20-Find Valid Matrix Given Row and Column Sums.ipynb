{
 "cells": [
  {
   "cell_type": "markdown",
   "metadata": {},
   "source": [
    "You are given two arrays `rowSum` and `colSum` of non-negative integers where `rowSum[i]` is the sum of the elements in the **i<sup>th</sup>** row and `colSum[j]` is the sum of the elements of the **j<sup>th</sup>** column of a 2D matrix. In other words, you do not know the elements of the matrix, but you do know the sums of each row and column.\n",
    "\n",
    "Find any matrix of non-negative integers of size `rowSum.length x colSum.length` that satisfies the `rowSum` and `colSum` requirements.\n",
    "\n",
    "Return *a 2D array representing ***any*** matrix that fulfills the requirements*. It's guaranteed that **at least one** matrix that fulfills the requirements exists.\n",
    "\n",
    "<br>\n",
    "\n",
    "**Example 1:**\n",
    ">**Input:** rowSum = [3,8], colSum = [4,7]<br>\n",
    ">**Output:** [[3,0],<br>\n",
    ">&emsp;&emsp;&emsp;&emsp; [1,7]]<br>\n",
    ">**Explanation:** <br>\n",
    ">0<sup>th</sup> row: 3 + 0 = 3 == rowSum[0]<br>\n",
    ">1<sup>st</sup> row: 1 + 7 = 8 == rowSum[1]<br>\n",
    ">0<sup>th</sup> column: 3 + 1 = 4 == colSum[0]<br>\n",
    ">1<sup>st</sup> column: 0 + 7 = 7 == colSum[1]<br>\n",
    ">The row and column sums match, and all matrix elements are non-negative.<br>\n",
    ">Another possible matrix is: [[1,2],<br>\n",
    ">&emsp;&emsp;&emsp;&emsp;&emsp;&emsp;&emsp;&emsp;&emsp;&emsp;&emsp;&emsp; [3,5]]\n",
    "\n",
    "**Example 2:**\n",
    ">**Input:** rowSum = [5,7,10], colSum = [8,6,8]<br>\n",
    ">**Output:** [[0,5,0],<br>\n",
    ">&emsp;&emsp;&emsp;&emsp; [6,1,0],<br>\n",
    ">&emsp;&emsp;&emsp;&emsp; [2,0,8]]<br>\n",
    "\n",
    "<br>\n",
    "\n",
    "**Constraints:**\n",
    "- >1 <= rowSum.length, colSum.length <= 500\n",
    "- >0 <= rowSum[i], colSum[i] <= 10<sup>8</sup>\n",
    "- >sum(rowSum) == sum(colSum)"
   ]
  },
  {
   "cell_type": "code",
   "execution_count": 1,
   "metadata": {},
   "outputs": [],
   "source": [
    "class Solution:\n",
    "    def restoreMatrix(self, rowSum: list[int], colSum: list[int]) -> list[list[int]]:\n",
    "        m, n = len(rowSum), len(colSum)\n",
    "        matrix = [[0] * n for _ in range(m)]\n",
    "        \n",
    "        i, j = 0, 0\n",
    "        while i < m and j < n:\n",
    "            val = min(rowSum[i], colSum[j])\n",
    "            matrix[i][j] = val\n",
    "            rowSum[i] -= val\n",
    "            colSum[j] -= val\n",
    "            \n",
    "            if rowSum[i] == 0:\n",
    "                i += 1\n",
    "            if colSum[j] == 0:\n",
    "                j += 1\n",
    "        \n",
    "        return matrix"
   ]
  }
 ],
 "metadata": {
  "kernelspec": {
   "display_name": "base",
   "language": "python",
   "name": "python3"
  },
  "language_info": {
   "codemirror_mode": {
    "name": "ipython",
    "version": 3
   },
   "file_extension": ".py",
   "mimetype": "text/x-python",
   "name": "python",
   "nbconvert_exporter": "python",
   "pygments_lexer": "ipython3",
   "version": "3.9.16"
  }
 },
 "nbformat": 4,
 "nbformat_minor": 2
}

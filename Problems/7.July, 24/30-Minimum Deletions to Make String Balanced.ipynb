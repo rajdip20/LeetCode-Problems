{
 "cells": [
  {
   "cell_type": "markdown",
   "metadata": {},
   "source": [
    "You are given a string `s` consisting only of characters `'a'` and `'b'​​​`​.\n",
    "\n",
    "You can delete any number of characters in `s` to make `s` **balanced**. `s` is **balanced** if there is no pair of indices `(i,j)` such that `i < j` and `s[i] = 'b'` and `s[j]= 'a'`.\n",
    "\n",
    "Return *the ***minimum*** number of deletions needed to make* `s` ***balanced***.\n",
    "\n",
    "<br>\n",
    "\n",
    "**Example 1:**\n",
    ">**Input:** s = \"aababbab\"<br>\n",
    ">**Output:** 2<br>\n",
    ">**Explanation:** You can either:<br>\n",
    ">Delete the characters at 0-indexed positions 2 and 6 (\"aababbab\" -> \"aaabbb\"), or<br>\n",
    ">Delete the characters at 0-indexed positions 3 and 6 (\"aababbab\" -> \"aabbbb\").\n",
    "\n",
    "**Example 2:**\n",
    ">**Input:** s = \"bbaaaaabb\"<br>\n",
    ">**Output:** 2<br>\n",
    ">**Explanation:** The only solution is to delete the first two characters.\n",
    "\n",
    "<br>\n",
    "\n",
    "**Constraints:**\n",
    "- >1 <= s.length <= 10<sup>5</sup>\n",
    "- >s[i] is 'a' or 'b'​​."
   ]
  },
  {
   "cell_type": "code",
   "execution_count": 1,
   "metadata": {},
   "outputs": [],
   "source": [
    "class Solution:\n",
    "    def minimumDeletions(self, s: str) -> int:\n",
    "        ans, count = 0, 0\n",
    "        \n",
    "        for i in s:\n",
    "            if i == 'b':\n",
    "                count += 1\n",
    "            elif count:\n",
    "                ans += 1\n",
    "                count -= 1\n",
    "        \n",
    "        return ans"
   ]
  }
 ],
 "metadata": {
  "kernelspec": {
   "display_name": "base",
   "language": "python",
   "name": "python3"
  },
  "language_info": {
   "codemirror_mode": {
    "name": "ipython",
    "version": 3
   },
   "file_extension": ".py",
   "mimetype": "text/x-python",
   "name": "python",
   "nbconvert_exporter": "python",
   "pygments_lexer": "ipython3",
   "version": "3.9.16"
  }
 },
 "nbformat": 4,
 "nbformat_minor": 2
}

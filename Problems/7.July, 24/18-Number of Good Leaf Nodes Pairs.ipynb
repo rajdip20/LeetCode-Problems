{
 "cells": [
  {
   "cell_type": "markdown",
   "metadata": {},
   "source": [
    "You are given the `root` of a binary tree and an integer `distance`. A pair of two different **leaf** nodes of a binary tree is said to be good if the length of **the shortest path** between them is less than or equal to `distance`.\n",
    "\n",
    "Return *the number of good leaf node pairs* in the tree.\n",
    "\n",
    "<br>\n",
    "\n",
    "**Example 1:**\n",
    "\n",
    "![e6](../../images/e6.jpg)\n",
    "\n",
    ">**Input:** root = [1,2,3,null,4], distance = 3<br>\n",
    ">**Output:** 1<br>\n",
    ">**Explanation:** The leaf nodes of the tree are 3 and 4 and the length of the shortest path between them is 3. This is the only good pair.\n",
    "\n",
    "**Example 2:**\n",
    "\n",
    "![e7](../../images/e7.jpg)\n",
    "\n",
    ">**Input:** root = [1,2,3,4,5,6,7], distance = 3<br>\n",
    ">**Output:** 2<br>\n",
    ">**Explanation:** The good pairs are [4,5] and [6,7] with shortest path = 2. The pair [4,6] is not good because the length of ther shortest path between them is 4.\n",
    "\n",
    "**Example 3:**\n",
    ">**Input:** root = [7,1,4,6,null,5,3,null,null,null,null,null,2], distance = 3<br>\n",
    ">**Output:** 1<br>\n",
    ">**Explanation:** The only good pair is [2,5].\n",
    "\n",
    "<br>\n",
    "\n",
    "**Constraints:**\n",
    "- >The number of nodes in the tree is in the range [1, 2<sup>10</sup>].\n",
    "- >1 <= Node.val <= 100\n",
    "- >1 <= distance <= 10"
   ]
  },
  {
   "cell_type": "code",
   "execution_count": 1,
   "metadata": {},
   "outputs": [],
   "source": [
    "# Definition for a binary tree node.\n",
    "# class TreeNode:\n",
    "#     def __init__(self, val=0, left=None, right=None):\n",
    "#         self.val = val\n",
    "#         self.left = left\n",
    "#         self.right = right\n",
    "class Solution:\n",
    "    def countPairs(self, root, distance: int) -> int:\n",
    "        def dfs(node):\n",
    "            if not node:\n",
    "                return []\n",
    "            if not node.left and not node.right:\n",
    "                return [1]\n",
    "            \n",
    "            left_distances = dfs(node.left)\n",
    "            right_distances = dfs(node.right)\n",
    "            \n",
    "            for ld in left_distances:\n",
    "                for rd in right_distances:\n",
    "                    if ld + rd <= distance:\n",
    "                        self.result += 1\n",
    "            \n",
    "            current_distances = [d + 1 for d in left_distances + right_distances if d + 1 <= distance]\n",
    "            \n",
    "            return current_distances\n",
    "        \n",
    "        self.result = 0\n",
    "        dfs(root)\n",
    "        return self.result"
   ]
  }
 ],
 "metadata": {
  "kernelspec": {
   "display_name": "base",
   "language": "python",
   "name": "python3"
  },
  "language_info": {
   "codemirror_mode": {
    "name": "ipython",
    "version": 3
   },
   "file_extension": ".py",
   "mimetype": "text/x-python",
   "name": "python",
   "nbconvert_exporter": "python",
   "pygments_lexer": "ipython3",
   "version": "3.9.16"
  }
 },
 "nbformat": 4,
 "nbformat_minor": 2
}

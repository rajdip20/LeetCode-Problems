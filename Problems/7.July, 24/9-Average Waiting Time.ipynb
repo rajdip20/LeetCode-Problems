{
 "cells": [
  {
   "cell_type": "markdown",
   "metadata": {},
   "source": [
    "There is a restaurant with a single chef. You are given an array `customers`, where **customers[i] = [arrival<sub>i</sub>, time<sub>i</sub>]**:\n",
    "- **arrival<sub>i</sub>** is the arrival time of the **i<sup>th</sup>** customer. The arrival times are sorted in **non-decreasing** order.\n",
    "- **time<sub>i</sub>** is the time needed to prepare the order of the **i<sup>th</sup>** customer.\n",
    "\n",
    "When a customer arrives, he gives the chef his order, and the chef starts preparing it once he is idle. The customer waits till the chef finishes preparing his order. The chef does not prepare food for more than one customer at a time. The chef prepares food for customers **in the order they were given in the input**.\n",
    "\n",
    "Return *the ***average*** waiting time of all customers*. Solutions within **10<sup>-5</sup>** from the actual answer are considered accepted.\n",
    "\n",
    "<br>\n",
    "\n",
    "**Example 1:**\n",
    ">**Input:** customers = [[1,2],[2,5],[4,3]]<br>\n",
    ">**Output:** 5.00000<br>\n",
    ">**Explanation:**<br>\n",
    ">.1) The first customer arrives at time 1, the chef takes his order and starts preparing it immediately at time 1, and finishes at time 3, so the waiting time of the first customer is 3 - 1 = 2.<br>\n",
    ">2) The second customer arrives at time 2, the chef takes his order and starts preparing it at time 3, and finishes at time 8, so the waiting time of the second customer is 8 - 2 = 6.<br>\n",
    ">3) The third customer arrives at time 4, the chef takes his order and starts preparing it at time 8, and finishes at time 11, so the waiting time of the third customer is 11 - 4 = 7.<br>\n",
    ">So the average waiting time = (2 + 6 + 7) / 3 = 5.\n",
    "\n",
    "**Example 2:**\n",
    ">**Input:** customers = [[5,2],[5,4],[10,3],[20,1]]<br>\n",
    ">**Output:** 3.25000<br>\n",
    ">**Explanation:**<br>\n",
    ">.1) The first customer arrives at time 5, the chef takes his order and starts preparing it immediately at time 5, and finishes at time 7, so the waiting time of the first customer is 7 - 5 = 2.<br>\n",
    ">2) The second customer arrives at time 5, the chef takes his order and starts preparing it at time 7, and finishes at time 11, so the waiting time of the second customer is 11 - 5 = 6.<br>\n",
    ">3) The third customer arrives at time 10, the chef takes his order and starts preparing it at time 11, and finishes at time 14, so the waiting time of the third customer is 14 - 10 = 4.<br>\n",
    ">4) The fourth customer arrives at time 20, the chef takes his order and starts preparing it immediately at time 20, and finishes at time 21, so the waiting time of the fourth customer is 21 - 20 = 1.<br>\n",
    ">So the average waiting time = (2 + 6 + 4 + 1) / 4 = 3.25.\n",
    "\n",
    "<br>\n",
    "\n",
    "**Constraints:**\n",
    "- >1 <= customers.length <= 10<sup>5</sup>\n",
    "- >1 <= arrival<sub>i</sub>, time<sub>i</sub> <= 10<sup>4</sup>\n",
    "- >arrival<sub>i</sub> <= arrival<sub>i+1</sub>"
   ]
  },
  {
   "cell_type": "code",
   "execution_count": 1,
   "metadata": {},
   "outputs": [],
   "source": [
    "class Solution:\n",
    "    def averageWaitingTime(self, customers: list[list[int]]) -> float:\n",
    "        current_time = 0\n",
    "        total_waiting_time = 0\n",
    "        n = len(customers)\n",
    "        \n",
    "        for arrival, time in customers:\n",
    "            if current_time < arrival:\n",
    "                current_time = arrival\n",
    "            finish_time = current_time + time\n",
    "            waiting_time = finish_time - arrival\n",
    "            total_waiting_time += waiting_time\n",
    "            current_time = finish_time\n",
    "        \n",
    "        return total_waiting_time / n"
   ]
  }
 ],
 "metadata": {
  "kernelspec": {
   "display_name": "base",
   "language": "python",
   "name": "python3"
  },
  "language_info": {
   "codemirror_mode": {
    "name": "ipython",
    "version": 3
   },
   "file_extension": ".py",
   "mimetype": "text/x-python",
   "name": "python",
   "nbconvert_exporter": "python",
   "pygments_lexer": "ipython3",
   "version": "3.9.16"
  }
 },
 "nbformat": 4,
 "nbformat_minor": 2
}

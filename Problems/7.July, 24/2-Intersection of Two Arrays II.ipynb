{
 "cells": [
  {
   "cell_type": "markdown",
   "metadata": {},
   "source": [
    "Given two integer arrays `nums1` and `nums2`, return *an array of their intersection*. Each element in the result must appear as many times as it shows in both arrays and you may return the result in **any order**.\n",
    "\n",
    "<br>\n",
    "\n",
    "**Example 1:**\n",
    ">**Input:** nums1 = [1,2,2,1], nums2 = [2,2]<br>\n",
    ">**Output:** [2,2]\n",
    "\n",
    "**Example 2:**\n",
    ">**Input:** nums1 = [4,9,5], nums2 = [9,4,9,8,4]<br>\n",
    ">**Output:** [4,9]<br>\n",
    ">**Explanation:** [9,4] is also accepted.\n",
    "\n",
    "<br>\n",
    "\n",
    "**Constraints:**\n",
    "- >1 <= nums1.length, nums2.length <= 1000\n",
    "- >0 <= nums1[i], nums2[i] <= 1000\n",
    "\n",
    "<br><br>\n",
    "\n",
    "**Follow up:**\n",
    "- What if the given array is already sorted? How would you optimize your algorithm?\n",
    "- What if `nums1`'s size is small compared to `nums2`'s size? Which algorithm is better?\n",
    "- What if elements of `nums2` are stored on disk, and the memory is limited such that you cannot load all elements into the memory at once?"
   ]
  },
  {
   "cell_type": "code",
   "execution_count": 1,
   "metadata": {},
   "outputs": [],
   "source": [
    "class Solution:\n",
    "    def intersect(self, nums1: list[int], nums2: list[int]) -> list[int]:\n",
    "        count_map = {}\n",
    "        for num in nums1:\n",
    "            if num in count_map:\n",
    "                count_map[num] += 1\n",
    "            else:\n",
    "                count_map[num] = 1\n",
    "        \n",
    "        intersection = []\n",
    "        for num in nums2:\n",
    "            if num in count_map and count_map[num] > 0:\n",
    "                intersection.append(num)\n",
    "                count_map[num] -= 1\n",
    "        \n",
    "        return intersection"
   ]
  }
 ],
 "metadata": {
  "kernelspec": {
   "display_name": "base",
   "language": "python",
   "name": "python3"
  },
  "language_info": {
   "codemirror_mode": {
    "name": "ipython",
    "version": 3
   },
   "file_extension": ".py",
   "mimetype": "text/x-python",
   "name": "python",
   "nbconvert_exporter": "python",
   "pygments_lexer": "ipython3",
   "version": "3.9.16"
  }
 },
 "nbformat": 4,
 "nbformat_minor": 2
}

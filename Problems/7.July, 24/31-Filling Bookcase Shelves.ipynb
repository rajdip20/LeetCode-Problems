{
 "cells": [
  {
   "cell_type": "markdown",
   "metadata": {},
   "source": [
    "You are given an array `books` where **books[i] = [thickness<sub>i</sub>, height<sub>i</sub>]** indicates the thickness and height of the **i<sup>th</sup>** book. You are also given an integer `shelfWidth`.\n",
    "\n",
    "We want to place these books in order onto bookcase shelves that have a total width `shelfWidth`.\n",
    "\n",
    "We choose some of the books to place on this shelf such that the sum of their thickness is less than or equal to `shelfWidth`, then build another level of the shelf of the bookcase so that the total height of the bookcase has increased by the maximum height of the books we just put down. We repeat this process until there are no more books to place.\n",
    "\n",
    "Note that at each step of the above process, the order of the books we place is the same order as the given sequence of books.\n",
    "- For example, if we have an ordered list of `5` books, we might place the first and second book onto the first shelf, the third book on the second shelf, and the fourth and fifth book on the last shelf.\n",
    "\n",
    "Return *the minimum possible height that the total bookshelf can be after placing shelves in this manner*.\n",
    "\n",
    "<br>\n",
    "\n",
    "**Example 1:**\n",
    "\n",
    "![shelves](../../images/shelves.png)\n",
    "\n",
    ">**Input:** books = [[1,1],[2,3],[2,3],[1,1],[1,1],[1,1],[1,2]], shelfWidth = 4<br>\n",
    ">**Output:** 6<br>\n",
    ">**Explanation:**<br>\n",
    ">The sum of the heights of the 3 shelves is 1 + 3 + 2 = 6.<br>\n",
    ">Notice that book number 2 does not have to be on the first shelf.\n",
    "\n",
    "**Example 2:**\n",
    ">**Input:** books = [[1,3],[2,4],[3,2]], shelfWidth = 6<br>\n",
    ">**Output:** 4\n",
    "\n",
    "<br>\n",
    "\n",
    "**Constraints:**\n",
    "- >1 <= books.length <= 1000\n",
    "- >1 <= thickness<sub>i</sub> <= shelfWidth <= 1000\n",
    "- >1 <= height<sub>i</sub> <= 1000"
   ]
  },
  {
   "cell_type": "code",
   "execution_count": 1,
   "metadata": {},
   "outputs": [],
   "source": [
    "class Solution:\n",
    "    def minHeightShelves(self, books: list[list[int]], shelfWidth: int) -> int:\n",
    "        n = len(books)\n",
    "        dp = [float('inf')] * (n + 1)\n",
    "        dp[0] = 0\n",
    "\n",
    "        for i in range(1, n + 1):\n",
    "            totalWidth = 0\n",
    "            maxHeight = 0\n",
    "            for j in range(i - 1, -1, -1):\n",
    "                totalWidth += books[j][0]\n",
    "                if totalWidth > shelfWidth:\n",
    "                    break\n",
    "                maxHeight = max(maxHeight, books[j][1])\n",
    "                dp[i] = min(dp[i], dp[j] + maxHeight)\n",
    "        \n",
    "        return dp[n]"
   ]
  }
 ],
 "metadata": {
  "kernelspec": {
   "display_name": "base",
   "language": "python",
   "name": "python3"
  },
  "language_info": {
   "codemirror_mode": {
    "name": "ipython",
    "version": 3
   },
   "file_extension": ".py",
   "mimetype": "text/x-python",
   "name": "python",
   "nbconvert_exporter": "python",
   "pygments_lexer": "ipython3",
   "version": "3.9.16"
  }
 },
 "nbformat": 4,
 "nbformat_minor": 2
}

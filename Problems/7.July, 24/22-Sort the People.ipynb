{
 "cells": [
  {
   "cell_type": "markdown",
   "metadata": {},
   "source": [
    "You are given an array of strings `names`, and an array `heights` that consists of **distinct** positive integers. Both arrays are of length `n`.\n",
    "\n",
    "For each index `i`, `names[i]` and `heights[i]` denote the name and height of the **i<sup>th</sup>** person.\n",
    "\n",
    "Return `names` *sorted in ***descending*** order by the people's heights*.\n",
    "\n",
    "<br>\n",
    "\n",
    "**Example 1:**\n",
    ">**Input:** names = [\"Mary\",\"John\",\"Emma\"], heights = [180,165,170]<br>\n",
    ">**Output:** [\"Mary\",\"Emma\",\"John\"]<br>\n",
    ">**Explanation:** Mary is the tallest, followed by Emma and John.\n",
    "\n",
    "**Example 2:**\n",
    ">**Input:** names = [\"Alice\",\"Bob\",\"Bob\"], heights = [155,185,150]<br>\n",
    ">**Output:** [\"Bob\",\"Alice\",\"Bob\"]<br>\n",
    ">**Explanation:** The first Bob is the tallest, followed by Alice and the second Bob.\n",
    "\n",
    "<br>\n",
    "\n",
    "**Constraints:**\n",
    "- >n == names.length == heights.length\n",
    "- >1 <= n <= 10<sup>3</sup>\n",
    "- >1 <= names[i].length <= 20\n",
    "- >1 <= heights[i] <= 10<sup>5</sup>\n",
    "- >names[i] consists of lower and upper case English letters.\n",
    "- >All the values of heights are distinct."
   ]
  },
  {
   "cell_type": "code",
   "execution_count": 1,
   "metadata": {},
   "outputs": [],
   "source": [
    "class Solution:\n",
    "    def sortPeople(self, names: list[str], heights: list[int]) -> list[str]:\n",
    "        people = list(zip(heights, names))\n",
    "    \n",
    "        people.sort(reverse=True, key=lambda x: x[0])\n",
    "        sorted_names = [name for height, name in people]\n",
    "        \n",
    "        return sorted_names"
   ]
  }
 ],
 "metadata": {
  "kernelspec": {
   "display_name": "base",
   "language": "python",
   "name": "python3"
  },
  "language_info": {
   "codemirror_mode": {
    "name": "ipython",
    "version": 3
   },
   "file_extension": ".py",
   "mimetype": "text/x-python",
   "name": "python",
   "nbconvert_exporter": "python",
   "pygments_lexer": "ipython3",
   "version": "3.9.16"
  }
 },
 "nbformat": 4,
 "nbformat_minor": 2
}

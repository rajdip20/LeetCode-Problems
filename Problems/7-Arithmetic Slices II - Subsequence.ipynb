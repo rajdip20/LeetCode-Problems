{
 "cells": [
  {
   "cell_type": "markdown",
   "metadata": {},
   "source": [
    "Given an integer array `nums`, return *the number of all the **arithmetic subsequences** of `nums`*.\n",
    "\n",
    "A sequence of numbers is called arithmetic if it consists of **at least three elements** and if the difference between any two consecutive elements is the same.\n",
    "\n",
    "- For example, `[1, 3, 5, 7, 9]`, `[7, 7, 7, 7]`, and `[3, -1, -5, -9]` are arithmetic sequences.\n",
    "- For example, `[1, 1, 2, 5, 7]` is not an arithmetic sequence.\n",
    "\n",
    "A **subsequence** of an array is a sequence that can be formed by removing some elements (possibly none) of the array.\n",
    "\n",
    "- For example, `[2,5,10]` is a subsequence of `[1,2,1,2,4,1,5,10]`.\n",
    "\n",
    "The test cases are generated so that the answer fits in 32-bit integer.\n",
    "\n",
    " <br>\n",
    "\n",
    "**Example 1:**\n",
    "\n",
    ">**Input:** nums = [2,4,6,8,10]<br>\n",
    ">**Output:** 7<br>\n",
    ">**Explanation:** All arithmetic subsequence slices are:<br>\n",
    ">[2,4,6]<br>\n",
    ">[4,6,8]<br>\n",
    ">[6,8,10]<br>\n",
    ">[2,4,6,8]<br>\n",
    ">[4,6,8,10]<br>\n",
    ">[2,4,6,8,10]<br>\n",
    ">[2,6,10]\n",
    "\n",
    "\n",
    "**Example 2:**\n",
    "\n",
    ">**Input:** nums = [7,7,7,7,7]<br>\n",
    ">**Output:** 16<br>\n",
    ">**Explanation:** Any subsequence of this array is arithmetic.\n",
    " \n",
    " <br>\n",
    "\n",
    "**Constraints:**\n",
    "\n",
    "- >1  <= nums.length <= 1000\n",
    "- >-2<sup>31</sup> <= nums[i] <= 2<sup>31</sup> - 1"
   ]
  },
  {
   "cell_type": "code",
   "execution_count": 1,
   "metadata": {},
   "outputs": [],
   "source": [
    "class Solution:\n",
    "    def numberOfArithmeticSlices(self, nums: list[int]) -> int:\n",
    "        total_count = 0\n",
    "        dp = [{} for _ in range(len(nums))]\n",
    "\n",
    "        for i in range(len(nums)):\n",
    "            for j in range(i):\n",
    "                diff = nums[i] - nums[j]\n",
    "                count = dp[j].get(diff, 0)\n",
    "                origin = dp[i].get(diff, 0)\n",
    "                dp[i][diff] = origin + count + 1\n",
    "                total_count += count\n",
    "        \n",
    "        return total_count"
   ]
  }
 ],
 "metadata": {
  "kernelspec": {
   "display_name": "base",
   "language": "python",
   "name": "python3"
  },
  "language_info": {
   "codemirror_mode": {
    "name": "ipython",
    "version": 3
   },
   "file_extension": ".py",
   "mimetype": "text/x-python",
   "name": "python",
   "nbconvert_exporter": "python",
   "pygments_lexer": "ipython3",
   "version": "3.9.16"
  }
 },
 "nbformat": 4,
 "nbformat_minor": 2
}

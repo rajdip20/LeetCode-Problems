{
 "cells": [
  {
   "cell_type": "markdown",
   "metadata": {},
   "source": [
    "You are given an array `nums` consisting of **positive** integers.\n",
    "\n",
    "Return *the ***total frequencies*** of elements in* `nums` *such that those elements all have the ***maximum*** frequency*.\n",
    "\n",
    "The **frequency** of an element is the number of occurrences of that element in the array.\n",
    "\n",
    "<br>\n",
    "\n",
    "**Example 1:**\n",
    ">**Input:** nums = [1,2,2,3,1,4]<br>\n",
    ">**Output:** 4<br>\n",
    ">**Explanation:** The elements 1 and 2 have a frequency of 2 which is the maximum frequency in the array.<br>\n",
    ">So the number of elements in the array with maximum frequency is 4.\n",
    "\n",
    "\n",
    "**Example 2:**\n",
    ">**Input:** nums = [1,2,3,4,5]<br>\n",
    ">**Output:** 5<br>\n",
    ">**Explanation:** All elements of the array have a frequency of 1 which is the maximum.<br>\n",
    ">So the number of elements in the array with maximum frequency is 5.\n",
    " \n",
    "\n",
    "**Constraints:**\n",
    "- >1 <= nums.length <= 100\n",
    "- >1 <= nums[i] <= 100"
   ]
  },
  {
   "cell_type": "code",
   "execution_count": 1,
   "metadata": {},
   "outputs": [],
   "source": [
    "class Solution:\n",
    "    def maxFrequencyElements(self, nums: list[int]) -> int:\n",
    "        frequency = {}\n",
    "        max_freq = 0\n",
    "\n",
    "        for num in nums:\n",
    "            frequency[num] = frequency.get(num, 0) + 1\n",
    "            max_freq = max(max_freq, frequency[num])\n",
    "\n",
    "        total_freq = 0\n",
    "        for freq in frequency.values():\n",
    "            if freq == max_freq:\n",
    "                total_freq += freq\n",
    "\n",
    "        return total_freq"
   ]
  }
 ],
 "metadata": {
  "kernelspec": {
   "display_name": "base",
   "language": "python",
   "name": "python3"
  },
  "language_info": {
   "codemirror_mode": {
    "name": "ipython",
    "version": 3
   },
   "file_extension": ".py",
   "mimetype": "text/x-python",
   "name": "python",
   "nbconvert_exporter": "python",
   "pygments_lexer": "ipython3",
   "version": "3.9.16"
  }
 },
 "nbformat": 4,
 "nbformat_minor": 2
}

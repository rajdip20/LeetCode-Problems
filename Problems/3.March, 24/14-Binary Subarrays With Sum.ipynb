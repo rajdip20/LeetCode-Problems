{
 "cells": [
  {
   "cell_type": "markdown",
   "metadata": {},
   "source": [
    "Given a binary array `nums` and an integer `goal`, return *the number of non-empty ***subarrays*** with a sum* `goal`.\n",
    "\n",
    "A **subarray** is a contiguous part of the array.\n",
    "\n",
    "<br>\n",
    "\n",
    "**Example 1:**\n",
    ">**Input:** nums = [1,0,1,0,1], goal = 2<br>\n",
    ">**Output:** 4<br>\n",
    ">**Explanation:** The 4 subarrays are bolded and underlined below:<br>\n",
    ">[<u>**1**</u>,<u>**0**</u>,<u>**1**</u>,0,1]<br>\n",
    ">[<u>**1**</u>,<u>**0**</u>,<u>**1**</u>,<u>**0**</u>,1]<br>\n",
    ">[1,<u>**0**</u>,<u>**1**</u>,<u>**0**</u>,<u>**1**</u>]<br>\n",
    ">[1,0,<u>**1**</u>,<u>**0**</u>,<u>**1**</u>]\n",
    "\n",
    "**Example 2:**\n",
    ">**Input:** nums = [0,0,0,0,0], goal = 0<br>\n",
    ">**Output:** 15\n",
    "\n",
    "<br>\n",
    "\n",
    "**Constraints:**\n",
    "- >1 <= nums.length <= 3 * 10<sup>4</sup>\n",
    "- >nums[i] is either 0 or 1.\n",
    "- >0 <= goal <= nums.length"
   ]
  },
  {
   "cell_type": "code",
   "execution_count": 1,
   "metadata": {},
   "outputs": [],
   "source": [
    "class Solution:\n",
    "    def numSubarraysWithSum(self, nums: list[int], goal: int) -> int:\n",
    "        count = 0\n",
    "        prefix_sum = 0\n",
    "        sum_count = {0: 1}\n",
    "        \n",
    "        for num in nums:\n",
    "            prefix_sum += num\n",
    "            if prefix_sum - goal in sum_count:\n",
    "                count += sum_count[prefix_sum - goal]\n",
    "            \n",
    "            if prefix_sum in sum_count:\n",
    "                sum_count[prefix_sum] += 1\n",
    "            else:\n",
    "                sum_count[prefix_sum] = 1\n",
    "        \n",
    "        return count"
   ]
  }
 ],
 "metadata": {
  "kernelspec": {
   "display_name": "base",
   "language": "python",
   "name": "python3"
  },
  "language_info": {
   "codemirror_mode": {
    "name": "ipython",
    "version": 3
   },
   "file_extension": ".py",
   "mimetype": "text/x-python",
   "name": "python",
   "nbconvert_exporter": "python",
   "pygments_lexer": "ipython3",
   "version": "3.9.16"
  }
 },
 "nbformat": 4,
 "nbformat_minor": 2
}

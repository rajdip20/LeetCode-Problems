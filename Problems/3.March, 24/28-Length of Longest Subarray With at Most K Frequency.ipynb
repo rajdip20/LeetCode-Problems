{
 "cells": [
  {
   "cell_type": "markdown",
   "metadata": {},
   "source": [
    "You are given an integer array `nums` and an integer `k`.\n",
    "\n",
    "The **frequency** of an element `x` is the number of times it occurs in an array.\n",
    "\n",
    "An array is called **good** if the frequency of each element in this array is **less than or equal** to `k`.\n",
    "\n",
    "Return *the length of the* ***longest good*** *subarray of* `nums`.\n",
    "\n",
    "A **subarray** is a contiguous non-empty sequence of elements within an array.\n",
    "\n",
    "<br>\n",
    "\n",
    "**Example 1:**\n",
    ">**Input:** nums = [1,2,3,1,2,3,1,2], k = 2<br>\n",
    ">**Output:** 6<br>\n",
    ">**Explanation:** The longest possible good subarray is [1,2,3,1,2,3] since the values 1, 2, and 3 occur at most twice in this subarray. Note that the subarrays [2,3,1,2,3,1] and [3,1,2,3,1,2] are also good.<br>\n",
    ">It can be shown that there are no good subarrays with length more than 6.\n",
    "\n",
    "**Example 2:**\n",
    ">**Input:** nums = [1,2,1,2,1,2,1,2], k = 1<br>\n",
    ">**Output:** 2<br>\n",
    ">**Explanation:** The longest possible good subarray is [1,2] since the values 1 and 2 occur at most once in this subarray. Note that the subarray [2,1] is also good.<br>\n",
    ">It can be shown that there are no good subarrays with length more than 2.\n",
    "\n",
    "**Example 3:**\n",
    ">**Input:** nums = [5,5,5,5,5,5,5], k = 4<br>\n",
    ">**Output:** 4<br>\n",
    ">**Explanation:** The longest possible good subarray is [5,5,5,5] since the value 5 occurs 4 times in this subarray.<br>\n",
    ">It can be shown that there are no good subarrays with length more than 4.\n",
    "\n",
    "<br>\n",
    "\n",
    "**Constraints:**\n",
    "- >1 <= nums.length <= 10<sup>5</sup>\n",
    "- >1 <= nums[i] <= 10<sup>9</sup>\n",
    "- >1 <= k <= nums.length"
   ]
  },
  {
   "cell_type": "code",
   "execution_count": 1,
   "metadata": {},
   "outputs": [],
   "source": [
    "class Solution:\n",
    "    def maxSubarrayLength(self, nums: list[int], k: int) -> int:\n",
    "        freq = {}\n",
    "        n = len(nums)\n",
    "        ans = left = right = 0\n",
    "\n",
    "        while right < n:\n",
    "            freq[nums[right]] = freq.get(nums[right], 0) + 1\n",
    "            \n",
    "            while freq[nums[right]] > k:\n",
    "                freq[nums[left]] -= 1\n",
    "                left += 1\n",
    "            \n",
    "            ans = max(ans, right - left + 1)\n",
    "            right += 1\n",
    "        \n",
    "        return ans"
   ]
  }
 ],
 "metadata": {
  "kernelspec": {
   "display_name": "base",
   "language": "python",
   "name": "python3"
  },
  "language_info": {
   "codemirror_mode": {
    "name": "ipython",
    "version": 3
   },
   "file_extension": ".py",
   "mimetype": "text/x-python",
   "name": "python",
   "nbconvert_exporter": "python",
   "pygments_lexer": "ipython3",
   "version": "3.9.16"
  }
 },
 "nbformat": 4,
 "nbformat_minor": 2
}

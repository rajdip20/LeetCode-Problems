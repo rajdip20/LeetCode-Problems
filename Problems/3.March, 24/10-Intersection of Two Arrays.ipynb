{
 "cells": [
  {
   "cell_type": "markdown",
   "metadata": {},
   "source": [
    "Given two integer arrays `nums1` and `nums2`, return *an array of their intersection*. Each element in the result must be **unique** and you may return the result in **any order**.\n",
    "\n",
    "<br>\n",
    "\n",
    "**Example 1:**\n",
    ">**Input:** nums1 = [1,2,2,1], nums2 = [2,2]<br>\n",
    ">**Output:** [2]\n",
    "\n",
    "\n",
    "**Example 2:**\n",
    ">**Input:** nums1 = [4,9,5], nums2 = [9,4,9,8,4]<br>\n",
    ">**Output:** [9,4]<br>\n",
    ">**Explanation:** [4,9] is also accepted.\n",
    " \n",
    "<br>\n",
    "\n",
    "**Constraints:**\n",
    "- >1 <= nums1.length, nums2.length <= 1000\n",
    "- >0 <= nums1[i], nums2[i] <= 1000"
   ]
  },
  {
   "cell_type": "code",
   "execution_count": 1,
   "metadata": {},
   "outputs": [],
   "source": [
    "class Solution:\n",
    "    def intersection(self, nums1: list[int], nums2: list[int]) -> list[int]:\n",
    "        set1 = set(nums1)\n",
    "        set2 = set(nums2)\n",
    "        \n",
    "        return list(set1.intersection(set2))"
   ]
  }
 ],
 "metadata": {
  "kernelspec": {
   "display_name": "base",
   "language": "python",
   "name": "python3"
  },
  "language_info": {
   "codemirror_mode": {
    "name": "ipython",
    "version": 3
   },
   "file_extension": ".py",
   "mimetype": "text/x-python",
   "name": "python",
   "nbconvert_exporter": "python",
   "pygments_lexer": "ipython3",
   "version": "3.9.16"
  }
 },
 "nbformat": 4,
 "nbformat_minor": 2
}

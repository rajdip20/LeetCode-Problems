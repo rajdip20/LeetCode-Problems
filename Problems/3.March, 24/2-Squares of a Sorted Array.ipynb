{
 "cells": [
  {
   "cell_type": "markdown",
   "metadata": {},
   "source": [
    "Given an integer array `nums` sorted in **non-decreasing** order, return *an array of ***the squares of each number*** sorted in non-decreasing order*.\n",
    "\n",
    "<br>\n",
    "\n",
    "**Example 1:**\n",
    ">**Input:** nums = [-4,-1,0,3,10]<br>\n",
    ">**Output:** [0,1,9,16,100]<br>\n",
    ">**Explanation:** After squaring, the array becomes [16,1,0,9,100].<br>\n",
    ">After sorting, it becomes [0,1,9,16,100].\n",
    "\n",
    "\n",
    "**Example 2:**\n",
    ">**Input:** nums = [-7,-3,2,3,11]<br>\n",
    ">**Output:** [4,9,9,49,121]\n",
    " \n",
    "<br>\n",
    "\n",
    "**Constraints:**\n",
    "- >1 <= nums.length <= 10<sup>4</sup>\n",
    "- >-10<sup>4</sup> <= nums[i] <= 10<sup>4</sup>\n",
    "- >nums is sorted in **non-decreasing** order.\n",
    " \n",
    "<br><br>\n",
    "\n",
    "**Follow up:** Squaring each element and sorting the new array is very trivial, could you find an `O(n)` solution using a different approach?"
   ]
  },
  {
   "cell_type": "code",
   "execution_count": 1,
   "metadata": {},
   "outputs": [],
   "source": [
    "class Solution:\n",
    "    def sortedSquares(self, nums: list[int]) -> list[int]:\n",
    "        n = len(nums)\n",
    "        result = [0] * n\n",
    "        left, right = 0, n - 1\n",
    "        index = n - 1\n",
    "\n",
    "        while left <= right:\n",
    "            left_square = nums[left] ** 2\n",
    "            right_quare = nums[right] ** 2\n",
    "\n",
    "            if left_square > right_quare:\n",
    "                result[index] = left_square\n",
    "                left += 1\n",
    "            else:\n",
    "                result[index] = right_quare\n",
    "                right -= 1\n",
    "            \n",
    "            index -= 1\n",
    "        \n",
    "        return result"
   ]
  }
 ],
 "metadata": {
  "kernelspec": {
   "display_name": "base",
   "language": "python",
   "name": "python3"
  },
  "language_info": {
   "codemirror_mode": {
    "name": "ipython",
    "version": 3
   },
   "file_extension": ".py",
   "mimetype": "text/x-python",
   "name": "python",
   "nbconvert_exporter": "python",
   "pygments_lexer": "ipython3",
   "version": "3.9.16"
  }
 },
 "nbformat": 4,
 "nbformat_minor": 2
}

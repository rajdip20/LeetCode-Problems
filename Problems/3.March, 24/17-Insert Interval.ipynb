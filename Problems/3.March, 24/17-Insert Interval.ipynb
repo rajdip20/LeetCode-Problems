{
 "cells": [
  {
   "cell_type": "markdown",
   "metadata": {},
   "source": [
    "You are given an array of non-overlapping intervals `intervals` where **intervals[i] = [start<sub>i</sub>, end<sub>i</sub>]** represent the start and the end of the **i<sup>th</sup>** interval and `intervals` is sorted in ascending order by **start<sub>i</sub>**. You are also given an interval **newInterval = [start, end]** that represents the start and end of another interval.\n",
    "\n",
    "Insert `newInterval` into `intervals` such that `intervals` is still sorted in ascending order by **start<sub>i</sub>** and **intervals** still does not have any overlapping intervals (merge overlapping intervals if necessary).\n",
    "\n",
    "Return `intervals` *after the insertion*.\n",
    "\n",
    "**Note** that you don't need to modify `intervals` in-place. You can make a new array and return it.\n",
    "\n",
    "<br>\n",
    "\n",
    "**Example 1:**\n",
    ">**Input:** intervals = [[1,3],[6,9]], newInterval = [2,5]<br>\n",
    ">**Output:** [[1,5],[6,9]]\n",
    "\n",
    "**Example 2:**\n",
    ">**Input:** intervals = [[1,2],[3,5],[6,7],[8,10],[12,16]], newInterval = [4,8]<br>\n",
    ">**Output:** [[1,2],[3,10],[12,16]]<br>\n",
    ">**Explanation:** Because the new interval [4,8] overlaps with [3,5],[6,7],[8,10].\n",
    "\n",
    "<br>\n",
    "\n",
    "**Constraints:**\n",
    "- >0 <= intervals.length <= 10<sup>4</sup>\n",
    "- >intervals[i].length == 2\n",
    "- >0 <= start<sub>i</sub> <= end<sub>i</sub> <= 10<sup>5</sup>\n",
    "- >intervals is sorted by start<sub>i</sub> in ascending order.\n",
    "- >newInterval.length == 2\n",
    "- >0 <= start <= end <= 10<sup>5</sup>"
   ]
  },
  {
   "cell_type": "code",
   "execution_count": 1,
   "metadata": {},
   "outputs": [],
   "source": [
    "class Solution:\n",
    "    def insert(self, intervals: list[list[int]], newInterval: list[int]) -> list[list[int]]:\n",
    "        result = []\n",
    "        inserted = False\n",
    "        \n",
    "        for interval in intervals:\n",
    "            if interval[1] < newInterval[0] or interval[0] > newInterval[1]:\n",
    "                if not inserted and interval[0] > newInterval[1]:\n",
    "                    result.append(newInterval)\n",
    "                    inserted = True\n",
    "                result.append(interval)\n",
    "            else:\n",
    "                newInterval[0] = min(newInterval[0], interval[0])\n",
    "                newInterval[1] = max(newInterval[1], interval[1])\n",
    "        \n",
    "        if not inserted:\n",
    "            result.append(newInterval)\n",
    "        \n",
    "        return result"
   ]
  }
 ],
 "metadata": {
  "kernelspec": {
   "display_name": "base",
   "language": "python",
   "name": "python3"
  },
  "language_info": {
   "codemirror_mode": {
    "name": "ipython",
    "version": 3
   },
   "file_extension": ".py",
   "mimetype": "text/x-python",
   "name": "python",
   "nbconvert_exporter": "python",
   "pygments_lexer": "ipython3",
   "version": "3.9.16"
  }
 },
 "nbformat": 4,
 "nbformat_minor": 2
}

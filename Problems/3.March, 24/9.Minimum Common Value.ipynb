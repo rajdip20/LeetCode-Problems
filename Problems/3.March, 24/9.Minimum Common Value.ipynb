{
 "cells": [
  {
   "cell_type": "markdown",
   "metadata": {},
   "source": [
    "Given two integer arrays `nums1` and `nums2`, sorted in non-decreasing order, return *the ***minimum integer common*** to both arrays*. If there is no common integer amongst `nums1` and `nums2`, return `-1`.\n",
    "\n",
    "Note that an integer is said to be **common** to `nums1` and `nums2` if both arrays have **at least one** occurrence of that integer.\n",
    "\n",
    "<br>\n",
    "\n",
    "**Example 1:**\n",
    ">**Input:** nums1 = [1,2,3], nums2 = [2,4]<br>\n",
    ">**Output:** 2<br>\n",
    ">**Explanation:** The smallest element common to both arrays is 2, so we return 2.\n",
    "\n",
    "**Example 2:**\n",
    ">**Input:** nums1 = [1,2,3,6], nums2 = [2,3,4,5]<br>\n",
    ">**Output:** 2<br>\n",
    ">**Explanation:** There are two common elements in the array 2 and 3 out of which 2 is the smallest, so 2 is returned.\n",
    "\n",
    "<br>\n",
    "\n",
    "**Constraints:**\n",
    "- >1 <= nums1.length, nums2.length <= 10<sup>5</sup>\n",
    "- >1 <= nums1[i], nums2[j] <= 10<sup>9</sup>\n",
    "- >Both nums1 and nums2 are sorted in **non-decreasing** order."
   ]
  },
  {
   "cell_type": "code",
   "execution_count": 1,
   "metadata": {},
   "outputs": [],
   "source": [
    "class Solution:\n",
    "    def getCommon(self, nums1: list[int], nums2: list[int]) -> int:\n",
    "        i = j = 0\n",
    "        common_min = float('inf')\n",
    "        \n",
    "        while i < len(nums1) and j < len(nums2):\n",
    "            if nums1[i] == nums2[j]:\n",
    "                common_min = min(common_min, nums1[i])\n",
    "                i += 1\n",
    "                j += 1\n",
    "            elif nums1[i] < nums2[j]:\n",
    "                i += 1\n",
    "            else:\n",
    "                j += 1\n",
    "        \n",
    "        return common_min if common_min != float('inf') else -1"
   ]
  }
 ],
 "metadata": {
  "kernelspec": {
   "display_name": "base",
   "language": "python",
   "name": "python3"
  },
  "language_info": {
   "codemirror_mode": {
    "name": "ipython",
    "version": 3
   },
   "file_extension": ".py",
   "mimetype": "text/x-python",
   "name": "python",
   "nbconvert_exporter": "python",
   "pygments_lexer": "ipython3",
   "version": "3.9.16"
  }
 },
 "nbformat": 4,
 "nbformat_minor": 2
}

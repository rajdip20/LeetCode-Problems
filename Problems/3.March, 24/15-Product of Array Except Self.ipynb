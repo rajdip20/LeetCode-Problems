{
 "cells": [
  {
   "cell_type": "markdown",
   "metadata": {},
   "source": [
    "Given an integer array `nums`, return *an array* `answer` *such that* `answer[i]` *is equal to the product of all the elements of* `nums` *except* `nums[i]`.\n",
    "\n",
    "The product of any prefix or suffix of `nums` is **guaranteed** to fit in a **32-bit** integer.\n",
    "\n",
    "You must write an algorithm that runs in `O(n)` time and without using the division operation.\n",
    "\n",
    "<br>\n",
    "\n",
    "**Example 1:**\n",
    "**Input:** nums = [1,2,3,4]<br>\n",
    "**Output:** [24,12,8,6]\n",
    "\n",
    "**Example 2:**\n",
    "**Input:** nums = [-1,1,0,-3,3]<br>\n",
    "**Output:** [0,0,9,0,0]\n",
    " \n",
    "<br>\n",
    "\n",
    "**Constraints:**\n",
    "- >2 <= nums.length <= 10<sup>5</sup>\n",
    "- >-30 <= nums[i] <= 30\n",
    "- >The product of any prefix or suffix of nums is **guaranteed** to fit in a **32-bit** integer.\n",
    " \n",
    "<br>\n",
    "\n",
    "**Follow up:** Can you solve the problem in `O(1)` extra space complexity? (The output array **does not** count as extra space for space complexity analysis.)"
   ]
  },
  {
   "cell_type": "code",
   "execution_count": 1,
   "metadata": {},
   "outputs": [],
   "source": [
    "class Solution:\n",
    "    def productExceptSelf(self, nums: list[int]) -> list[int]:\n",
    "        n = len(nums)\n",
    "    \n",
    "        left = [1] * n\n",
    "        right = [1] * n\n",
    "        answer = [1] * n\n",
    "        \n",
    "        for i in range(1, n):\n",
    "            left[i] = left[i - 1] * nums[i - 1]\n",
    "        \n",
    "        for i in range(n - 2, -1, -1):\n",
    "            right[i] = right[i + 1] * nums[i + 1]\n",
    "        \n",
    "        for i in range(n):\n",
    "            answer[i] = left[i] * right[i]\n",
    "        \n",
    "        return answer"
   ]
  }
 ],
 "metadata": {
  "kernelspec": {
   "display_name": "base",
   "language": "python",
   "name": "python3"
  },
  "language_info": {
   "codemirror_mode": {
    "name": "ipython",
    "version": 3
   },
   "file_extension": ".py",
   "mimetype": "text/x-python",
   "name": "python",
   "nbconvert_exporter": "python",
   "pygments_lexer": "ipython3",
   "version": "3.9.16"
  }
 },
 "nbformat": 4,
 "nbformat_minor": 2
}

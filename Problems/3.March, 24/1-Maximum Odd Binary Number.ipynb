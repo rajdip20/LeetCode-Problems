{
 "cells": [
  {
   "cell_type": "markdown",
   "metadata": {},
   "source": [
    "You are given a **binary** string `s` that contains at least one `'1'`.\n",
    "\n",
    "You have to **rearrange** the bits in such a way that the resulting binary number is the **maximum odd binary number** that can be created from this combination.\n",
    "\n",
    "Return a string representing the maximum odd binary number that can be created from the given combination.\n",
    "\n",
    "**Note** that the resulting string **can** have leading zeros.\n",
    "\n",
    "<br>\n",
    "\n",
    "**Example 1:**\n",
    ">**Input:** s = \"010\"<br>\n",
    ">**Output:** \"001\"<br>\n",
    ">**Explanation:** Because there is just one '1', it must be in the last position. So the answer is \"001\".\n",
    "\n",
    "\n",
    "**Example 2:**\n",
    ">**Input:** s = \"0101\"<br>\n",
    ">**Output:** \"1001\"<br>\n",
    ">**Explanation:** One of the '1's must be in the last position. The maximum number that can be made with the remaining digits is \"100\". So the answer is \"1001\".\n",
    " \n",
    "<br>\n",
    "\n",
    "**Constraints:**\n",
    "- >1 <= s.length <= 100\n",
    "- >s consists only of '0' and '1'.\n",
    "- >s contains at least one '1'."
   ]
  },
  {
   "cell_type": "code",
   "execution_count": 1,
   "metadata": {},
   "outputs": [],
   "source": [
    "class Solution:\n",
    "    def maximumOddBinaryNumber(self, s: str) -> str:\n",
    "        cnt1 = s.count('1')\n",
    "        cnt0 = s.count('0')\n",
    "        ans = '1' * (cnt1 - 1) + '0' * cnt0 + '1'\n",
    "        return ans"
   ]
  }
 ],
 "metadata": {
  "kernelspec": {
   "display_name": "base",
   "language": "python",
   "name": "python3"
  },
  "language_info": {
   "codemirror_mode": {
    "name": "ipython",
    "version": 3
   },
   "file_extension": ".py",
   "mimetype": "text/x-python",
   "name": "python",
   "nbconvert_exporter": "python",
   "pygments_lexer": "ipython3",
   "version": "3.9.16"
  }
 },
 "nbformat": 4,
 "nbformat_minor": 2
}

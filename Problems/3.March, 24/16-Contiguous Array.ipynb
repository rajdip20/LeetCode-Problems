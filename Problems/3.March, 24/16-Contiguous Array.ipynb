{
 "cells": [
  {
   "cell_type": "markdown",
   "metadata": {},
   "source": [
    "Given a binary array `nums`, return *the maximum length of a contiguous subarray with an equal number of* `0` *and* `1`.\n",
    "\n",
    "<br>\n",
    "\n",
    "**Example 1:**\n",
    ">**Input:** nums = [0,1]<br>\n",
    ">**Output:** 2<br>\n",
    ">**Explanation:** [0, 1] is the longest contiguous subarray with an equal number of 0 and 1.\n",
    "\n",
    "**Example 2:**\n",
    ">**Input:** nums = [0,1,0]<br>\n",
    ">**Output:** 2<br>\n",
    ">**Explanation:** [0, 1] (or [1, 0]) is a longest contiguous subarray with equal number of 0 and 1.\n",
    "\n",
    "<br>\n",
    "\n",
    "**Constraints:**\n",
    "- >1 <= nums.length <= 10<sup>5</sup>\n",
    "- >nums[i] is either 0 or 1."
   ]
  },
  {
   "cell_type": "code",
   "execution_count": 1,
   "metadata": {},
   "outputs": [],
   "source": [
    "class Solution:\n",
    "    def findMaxLength(self, nums: list[int]) -> int:\n",
    "        max_length = 0\n",
    "        count = 0\n",
    "        sum_indices = {0: -1}\n",
    "\n",
    "        for i in range(len(nums)):\n",
    "            if nums[i] == 0:\n",
    "                count -= 1\n",
    "            else:\n",
    "                count += 1\n",
    "            \n",
    "            if count in sum_indices:\n",
    "                max_length = max(max_length, i - sum_indices[count])\n",
    "            else:\n",
    "                sum_indices[count] = i\n",
    "        \n",
    "        return max_length"
   ]
  }
 ],
 "metadata": {
  "kernelspec": {
   "display_name": "base",
   "language": "python",
   "name": "python3"
  },
  "language_info": {
   "codemirror_mode": {
    "name": "ipython",
    "version": 3
   },
   "file_extension": ".py",
   "mimetype": "text/x-python",
   "name": "python",
   "nbconvert_exporter": "python",
   "pygments_lexer": "ipython3",
   "version": "3.9.16"
  }
 },
 "nbformat": 4,
 "nbformat_minor": 2
}

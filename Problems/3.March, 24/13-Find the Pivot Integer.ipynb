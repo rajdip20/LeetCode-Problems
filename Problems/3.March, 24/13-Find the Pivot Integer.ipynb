{
 "cells": [
  {
   "cell_type": "markdown",
   "metadata": {},
   "source": [
    "Given a positive integer `n`, find the **pivot integer** `x` such that:\n",
    "- The sum of all elements between `1` and `x` inclusively equals the sum of all elements between `x` and `n` inclusively.\n",
    "\n",
    "Return *the pivot integer* `x`. If no such integer exists, return `-1`. It is guaranteed that there will be at most one pivot index for the given input.\n",
    "\n",
    "<br>\n",
    "\n",
    "**Example 1:**\n",
    ">**Input:** n = 8<br>\n",
    ">**Output:** 6<br>\n",
    ">**Explanation:** 6 is the pivot integer since: 1 + 2 + 3 + 4 + 5 + 6 = 6 + 7 + 8 = 21.\n",
    "\n",
    "**Example 2:**\n",
    ">**Input:** n = 1<br>\n",
    ">**Output:** 1<br>\n",
    ">**Explanation:** 1 is the pivot integer since: 1 = 1.\n",
    "\n",
    "**Example 3:**\n",
    ">**Input:** n = 4<br>\n",
    ">**Output:** -1<br>\n",
    ">**Explanation:** It can be proved that no such integer exist.\n",
    "\n",
    "<br>\n",
    "\n",
    "**Constraints:**\n",
    "- >1 <= n <= 1000"
   ]
  },
  {
   "cell_type": "code",
   "execution_count": 1,
   "metadata": {},
   "outputs": [],
   "source": [
    "class Solution:\n",
    "    def pivotInteger(self, n: int) -> int:\n",
    "        import math\n",
    "\n",
    "        x = math.sqrt(n * (n + 1) / 2)\n",
    "\n",
    "        if x % 1 != 0:\n",
    "            return -1\n",
    "        else:\n",
    "            return int(x)"
   ]
  }
 ],
 "metadata": {
  "kernelspec": {
   "display_name": "base",
   "language": "python",
   "name": "python3"
  },
  "language_info": {
   "codemirror_mode": {
    "name": "ipython",
    "version": 3
   },
   "file_extension": ".py",
   "mimetype": "text/x-python",
   "name": "python",
   "nbconvert_exporter": "python",
   "pygments_lexer": "ipython3",
   "version": "3.9.16"
  }
 },
 "nbformat": 4,
 "nbformat_minor": 2
}

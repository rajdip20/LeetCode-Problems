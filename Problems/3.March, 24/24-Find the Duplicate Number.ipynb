{
 "cells": [
  {
   "cell_type": "markdown",
   "metadata": {},
   "source": [
    "Given an array of integers `nums` containing `n + 1` integers where each integer is in the range `[1, n]` inclusive.\n",
    "\n",
    "There is only **one repeated number** in `nums`, return *this repeated number*.\n",
    "\n",
    "You must solve the problem **without** modifying the array `nums` and uses only constant extra space.\n",
    "\n",
    "<br>\n",
    "\n",
    "**Example 1:**\n",
    ">**Input:** nums = [1,3,4,2,2]<br>\n",
    ">**Output:** 2\n",
    "\n",
    "**Example 2:**\n",
    ">**Input:** nums = [3,1,3,4,2]<br>\n",
    ">**Output:** 3\n",
    "\n",
    "**Example 3:**\n",
    ">**Input:** nums = [3,3,3,3,3]<br>\n",
    ">**Output:** 3\n",
    "\n",
    "<br>\n",
    "\n",
    "**Constraints:**\n",
    "- >1 <= n <= 10<sup>5</sup>\n",
    "- >nums.length == n + 1\n",
    "- >1 <= nums[i] <= n\n",
    "- >All the integers in nums appear only **once** except for **precisely one integer** which appears **two or more** times.\n",
    "\n",
    "<br><br>\n",
    "\n",
    "**Follow up:**\n",
    "- How can we prove that at least one duplicate number must exist in `nums`?\n",
    "- Can you solve the problem in linear runtime complexity?"
   ]
  },
  {
   "cell_type": "code",
   "execution_count": 1,
   "metadata": {},
   "outputs": [],
   "source": [
    "class Solution:\n",
    "    def findDuplicate(self, nums: list[int]) -> int:\n",
    "        a = set()\n",
    "\n",
    "        for ele in nums:\n",
    "            if ele in a:\n",
    "                return ele\n",
    "            a.add(ele)"
   ]
  }
 ],
 "metadata": {
  "kernelspec": {
   "display_name": "base",
   "language": "python",
   "name": "python3"
  },
  "language_info": {
   "codemirror_mode": {
    "name": "ipython",
    "version": 3
   },
   "file_extension": ".py",
   "mimetype": "text/x-python",
   "name": "python",
   "nbconvert_exporter": "python",
   "pygments_lexer": "ipython3",
   "version": "3.9.16"
  }
 },
 "nbformat": 4,
 "nbformat_minor": 2
}

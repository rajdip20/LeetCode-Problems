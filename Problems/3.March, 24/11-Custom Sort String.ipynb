{
 "cells": [
  {
   "cell_type": "markdown",
   "metadata": {},
   "source": [
    "You are given two strings `order` and `s`. All the characters of `order` are unique and were sorted in some custom order previously.\n",
    "\n",
    "Permute the characters of `s` so that they match the `order` that order was sorted. More specifically, if a character `x` occurs before a character `y` in `order`, then `x` should occur before `y` in the permuted string.\n",
    "\n",
    "Return *any permutation of* `s` *that satisfies this property*.\n",
    " \n",
    "<br>\n",
    "\n",
    "**Example 1:**\n",
    ">**Input:** order = \"cba\", s = \"abcd\" <br>\n",
    ">**Output:** \"cbad\" <br>\n",
    ">**Explanation:** **\"a\"**, **\"b\"**, **\"c\"** appear in order, so the order of **\"a\"**, **\"b\"**, **\"c\"** should be **\"c\"**, **\"b\"**, and **\"a\"**.<br>\n",
    ">Since **\"d\"** does not appear in **order**, it can be at any position in the returned string. **\"dcba\"**, **\"cdba\"**, **\"cbda\"** are also valid outputs.\n",
    "\n",
    "**Example 2:**\n",
    ">**Input:**  order = \"bcafg\", s = \"abcd\" <br>\n",
    ">**Output:**  \"bcad\" <br>\n",
    ">**Explanation:** The characters **\"b\"**, **\"c\"**, and **\"a\"** from order dictate the order for the characters in **s**. The character **\"d\"** in **s** does not appear in **order**, so its position is flexible.<br>\n",
    ">Following the order of appearance in **order**, **\"b\"**, **\"c\"**, and **\"a\"** from **s** should be arranged as **\"b\"**, **\"c\"**, **\"a\"**. **\"d\"** can be placed at any position since it's not in order. The output **\"bcad\"** correctly follows this rule. Other arrangements like **\"bacd\"** or **\"bcda\"** would also be valid, as long as **\"b\"**, **\"c\"**, **\"a\"** maintain their order.\n",
    "\n",
    "<br>\n",
    "\n",
    "**Constraints:**\n",
    "- >1 <= order.length <= 26\n",
    "- >1 <= s.length <= 200\n",
    "- >order and s consist of lowercase English letters.\n",
    "- >All the characters of order are **unique**."
   ]
  },
  {
   "cell_type": "code",
   "execution_count": 1,
   "metadata": {},
   "outputs": [],
   "source": [
    "class Solution:\n",
    "    def customSortString(self, order: str, s: str) -> str:\n",
    "        count = {char: 0 for char in order}\n",
    "        \n",
    "        for char in s:\n",
    "            if char in count:\n",
    "                count[char] += 1\n",
    "\n",
    "        result = ''\n",
    "        \n",
    "        for char in order:\n",
    "            result += char * count[char]\n",
    "        \n",
    "        for char in s:\n",
    "            if char not in order:\n",
    "                result += char\n",
    "\n",
    "        return result"
   ]
  }
 ],
 "metadata": {
  "kernelspec": {
   "display_name": "base",
   "language": "python",
   "name": "python3"
  },
  "language_info": {
   "codemirror_mode": {
    "name": "ipython",
    "version": 3
   },
   "file_extension": ".py",
   "mimetype": "text/x-python",
   "name": "python",
   "nbconvert_exporter": "python",
   "pygments_lexer": "ipython3",
   "version": "3.9.16"
  }
 },
 "nbformat": 4,
 "nbformat_minor": 2
}

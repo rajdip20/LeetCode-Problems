{
 "cells": [
  {
   "cell_type": "markdown",
   "metadata": {},
   "source": [
    "You are given an integer array `nums` and a **positive** integer `k`.\n",
    "\n",
    "Return *the number of subarrays where the* ***maximum*** *element of* `nums` *appears* ***at least*** `k` *times in that subarray*.\n",
    "\n",
    "A **subarray** is a contiguous sequence of elements within an array.\n",
    "\n",
    "<br>\n",
    "\n",
    "**Example 1:**\n",
    ">**Input:** nums = [1,3,2,3,3], k = 2<br>\n",
    ">**Output:** 6<br>\n",
    ">**Explanation:** The subarrays that contain the element 3 at least 2 times are: [1,3,2,3], [1,3,2,3,3], [3,2,3], [3,2,3,3], [2,3,3] and [3,3].\n",
    "\n",
    "**Example 2:**\n",
    ">**Input:** nums = [1,4,2,1], k = 3<br>\n",
    ">**Output:** 0<br>\n",
    ">**Explanation:** No subarray contains the element 4 at least 3 times.\n",
    "\n",
    "<br>\n",
    "\n",
    "**Constraints:**\n",
    "- >1 <= nums.length <= 10<sup>5</sup>\n",
    "- >1 <= nums[i] <= 10<sup>6</sup>\n",
    "- >1 <= k <= 10<sup>5</sup>"
   ]
  },
  {
   "cell_type": "code",
   "execution_count": 1,
   "metadata": {},
   "outputs": [],
   "source": [
    "class Solution:\n",
    "    def countSubarrays(self, nums: list[int], k: int) -> int:\n",
    "        maxnum = max(nums)\n",
    "        ans = 0\n",
    "        n = len(nums)\n",
    "\n",
    "        maxind = [-1]\n",
    "        for i in range(n):\n",
    "            if nums[i] == maxnum:\n",
    "                maxind.append(i)\n",
    "\n",
    "        indsize = len(maxind)\n",
    "\n",
    "        for i in range(1, indsize - k + 1):\n",
    "            l = maxind[i] - maxind[i - 1] - 1\n",
    "            r = n - 1 - maxind[i + k - 1]\n",
    "            ans += (l + 1) * (r + 1)\n",
    "\n",
    "        return ans"
   ]
  }
 ],
 "metadata": {
  "kernelspec": {
   "display_name": "base",
   "language": "python",
   "name": "python3"
  },
  "language_info": {
   "codemirror_mode": {
    "name": "ipython",
    "version": 3
   },
   "file_extension": ".py",
   "mimetype": "text/x-python",
   "name": "python",
   "nbconvert_exporter": "python",
   "pygments_lexer": "ipython3",
   "version": "3.9.16"
  }
 },
 "nbformat": 4,
 "nbformat_minor": 2
}

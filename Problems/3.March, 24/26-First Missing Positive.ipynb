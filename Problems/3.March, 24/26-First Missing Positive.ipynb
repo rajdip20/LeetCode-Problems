{
 "cells": [
  {
   "cell_type": "markdown",
   "metadata": {},
   "source": [
    "Given an unsorted integer array `nums`. Return *the smallest positive integer that is not present in* `nums`.\n",
    "\n",
    "You must implement an algorithm that runs in `O(n)` time and uses `O(1)` auxiliary space.\n",
    "\n",
    "<br>\n",
    "\n",
    "**Example 1:**\n",
    ">**Input:** nums = [1,2,0]<br>\n",
    ">**Output:** 3<br>\n",
    ">**Explanation:** The numbers in the range [1,2] are all in the array.\n",
    "\n",
    "**Example 2:**\n",
    ">**Input:** nums = [3,4,-1,1]<br>\n",
    ">**Output:** 2<br>\n",
    ">**Explanation:** 1 is in the array but 2 is missing.\n",
    "\n",
    "**Example 3:**\n",
    ">**Input:** nums = [7,8,9,11,12]<br>\n",
    ">**Output:** 1<br>\n",
    ">**Explanation:** The smallest positive integer 1 is missing.\n",
    " \n",
    "<br>\n",
    "\n",
    "**Constraints:**\n",
    "- >1 <= nums.length <= 10<sup>5</sup>\n",
    "- >-2<sup>31</sup> <= nums[i] <= 2<sup>31</sup> - 1"
   ]
  },
  {
   "cell_type": "code",
   "execution_count": 1,
   "metadata": {},
   "outputs": [],
   "source": [
    "class Solution:\n",
    "    def firstMissingPositive(self, nums: list[int]) -> int:\n",
    "        n = len(nums)\n",
    "        \n",
    "        for i in range(n):\n",
    "            while 1 <= nums[i] <= n and nums[nums[i] - 1] != nums[i]:\n",
    "                nums[nums[i] - 1], nums[i] = nums[i], nums[nums[i] - 1]\n",
    "\n",
    "        for i in range(n):\n",
    "            if nums[i] != i + 1:\n",
    "                return i + 1\n",
    "\n",
    "        return n + 1"
   ]
  }
 ],
 "metadata": {
  "kernelspec": {
   "display_name": "base",
   "language": "python",
   "name": "python3"
  },
  "language_info": {
   "codemirror_mode": {
    "name": "ipython",
    "version": 3
   },
   "file_extension": ".py",
   "mimetype": "text/x-python",
   "name": "python",
   "nbconvert_exporter": "python",
   "pygments_lexer": "ipython3",
   "version": "3.9.16"
  }
 },
 "nbformat": 4,
 "nbformat_minor": 2
}

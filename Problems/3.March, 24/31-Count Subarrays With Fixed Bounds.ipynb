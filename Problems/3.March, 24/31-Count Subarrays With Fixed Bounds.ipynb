{
 "cells": [
  {
   "cell_type": "markdown",
   "metadata": {},
   "source": [
    "You are given an integer array `nums` and two integers `minK` and `maxK`.\n",
    "\n",
    "A **fixed-bound subarray** of `nums` is a subarray that satisfies the following conditions:\n",
    "- The **minimum** value in the subarray is equal to `minK`.\n",
    "- The **maximum** value in the subarray is equal to `maxK`.\n",
    "\n",
    "Return *the* ***number*** *of fixed-bound subarrays*.\n",
    "\n",
    "A **subarray** is a **contiguous** part of an array.\n",
    "\n",
    "<br>\n",
    "\n",
    "**Example 1:**\n",
    ">**Input:** nums = [1,3,5,2,7,5], minK = 1, maxK = 5<br>\n",
    ">**Output:** 2<br>\n",
    ">**Explanation:** The fixed-bound subarrays are [1,3,5] and [1,3,5,2].\n",
    "\n",
    "**Example 2:**\n",
    ">**Input:** nums = [1,1,1,1], minK = 1, maxK = 1<br>\n",
    ">**Output:** 10<br>\n",
    ">**Explanation:** Every subarray of nums is a fixed-bound subarray. There are 10 possible subarrays.\n",
    "\n",
    "<br>\n",
    "\n",
    "**Constraints:**\n",
    "- >2 <= nums.length <= 10<sup>5</sup>\n",
    "- >1 <= nums[i], minK, maxK <= 10<sup>6</sup>"
   ]
  },
  {
   "cell_type": "code",
   "execution_count": 1,
   "metadata": {},
   "outputs": [],
   "source": [
    "class Solution:\n",
    "    def countSubarrays(self, nums: list[int], minK: int, maxK: int) -> int:\n",
    "        res = 0\n",
    "        bad_idx = left_idx = right_idx = -1\n",
    "\n",
    "        for i, num in enumerate(nums) :\n",
    "            if not minK <= num <= maxK:\n",
    "                bad_idx = i\n",
    "\n",
    "            if num == minK:\n",
    "                left_idx = i\n",
    "\n",
    "            if num == maxK:\n",
    "                right_idx = i\n",
    "\n",
    "            res += max(0, min(left_idx, right_idx) - bad_idx)\n",
    "\n",
    "        return res"
   ]
  }
 ],
 "metadata": {
  "kernelspec": {
   "display_name": "base",
   "language": "python",
   "name": "python3"
  },
  "language_info": {
   "codemirror_mode": {
    "name": "ipython",
    "version": 3
   },
   "file_extension": ".py",
   "mimetype": "text/x-python",
   "name": "python",
   "nbconvert_exporter": "python",
   "pygments_lexer": "ipython3",
   "version": "3.9.16"
  }
 },
 "nbformat": 4,
 "nbformat_minor": 2
}

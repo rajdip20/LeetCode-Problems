{
 "cells": [
  {
   "cell_type": "markdown",
   "metadata": {},
   "source": [
    "Given a string `s` consisting only of characters `'a'`, `'b'`, and `'c'`. You are asked to apply the following algorithm on the string any number of times:\n",
    "1. Pick a **non-empty** prefix from the string `s` where all the characters in the prefix are equal.\n",
    "2. Pick a **non-empty** suffix from the string `s` where all the characters in this suffix are equal.\n",
    "3. The prefix and the suffix should not intersect at any index.\n",
    "4. The characters from the prefix and suffix must be the same.\n",
    "5. Delete both the prefix and the suffix.\n",
    "\n",
    "Return *the ***minimum length*** of* `s` *after performing the above operation any number of times (possibly zero times)*.\n",
    " \n",
    "<br>\n",
    "\n",
    "**Example 1:**\n",
    ">**Input:** s = \"ca\"\n",
    ">**Output:** 2\n",
    ">**Explanation:** You can't remove any characters, so the string stays as is.\n",
    "\n",
    "**Example 2:**\n",
    ">**Input:** s = \"cabaabac\"\n",
    ">**Output:** 0\n",
    ">**Explanation:** An optimal sequence of operations is:\n",
    ">\\- Take prefix = \"c\" and suffix = \"c\" and remove them, s = \"abaaba\".\n",
    ">\\- Take prefix = \"a\" and suffix = \"a\" and remove them, s = \"baab\".\n",
    ">\\- Take prefix = \"b\" and suffix = \"b\" and remove them, s = \"aa\".\n",
    ">\\- Take prefix = \"a\" and suffix = \"a\" and remove them, s = \"\".\n",
    "\n",
    "**Example 3:**\n",
    ">**Input:** s = \"aabccabba\"\n",
    ">**Output:** 3\n",
    ">**Explanation:** An optimal sequence of operations is:\n",
    ">\\- Take prefix = \"aa\" and suffix = \"a\" and remove them, s = \"bccabb\".\n",
    ">\\- Take prefix = \"b\" and suffix = \"bb\" and remove them, s = \"cca\".\n",
    " \n",
    "<br>\n",
    "\n",
    "**Constraints:**\n",
    "- >1 <= s.length <= 10<sup>5</sup>\n",
    "- >s only consists of characters 'a', 'b', and 'c'."
   ]
  },
  {
   "cell_type": "code",
   "execution_count": 1,
   "metadata": {},
   "outputs": [],
   "source": [
    "class Solution:\n",
    "    def minimumLength(self, s: str) -> int:\n",
    "        left, right = 0, len(s) - 1\n",
    "        \n",
    "        while left < right and s[left] == s[right]:\n",
    "            char = s[left]\n",
    "            \n",
    "            while left <= right and s[left] == char:\n",
    "                left += 1\n",
    "            \n",
    "            while right >= left and s[right] == char:\n",
    "                right -= 1\n",
    "        \n",
    "        return right - left + 1"
   ]
  }
 ],
 "metadata": {
  "kernelspec": {
   "display_name": "base",
   "language": "python",
   "name": "python3"
  },
  "language_info": {
   "codemirror_mode": {
    "name": "ipython",
    "version": 3
   },
   "file_extension": ".py",
   "mimetype": "text/x-python",
   "name": "python",
   "nbconvert_exporter": "python",
   "pygments_lexer": "ipython3",
   "version": "3.9.16"
  }
 },
 "nbformat": 4,
 "nbformat_minor": 2
}

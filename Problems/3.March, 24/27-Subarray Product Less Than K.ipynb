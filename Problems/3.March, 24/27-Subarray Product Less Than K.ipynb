{
 "cells": [
  {
   "cell_type": "markdown",
   "metadata": {},
   "source": [
    "Given an array of integers `nums` and an integer `k`, return *the number of contiguous subarrays where the product of all the elements in the subarray is strictly less than* `k`.\n",
    "\n",
    "<br>\n",
    "\n",
    "**Example 1:**\n",
    ">**Input:** nums = [10,5,2,6], k = 100<br>\n",
    ">**Output:** 8<br>\n",
    ">**Explanation:** The 8 subarrays that have product less than 100 are:<br>\n",
    ">[10], [5], [2], [6], [10, 5], [5, 2], [2, 6], [5, 2, 6]<br>\n",
    ">Note that [10, 5, 2] is not included as the product of 100 is not strictly less than k.\n",
    "\n",
    "**Example 2:**\n",
    ">**Input:** nums = [1,2,3], k = 0<br>\n",
    ">**Output:** 0\n",
    " \n",
    "<br>\n",
    "\n",
    "**Constraints:**\n",
    "- >1 <= nums.length <= 3 * 10<sup>4</sup>\n",
    "- >1 <= nums[i] <= 1000\n",
    "- >0 <= k <= 10<sup>6</sup>"
   ]
  },
  {
   "cell_type": "code",
   "execution_count": 1,
   "metadata": {},
   "outputs": [],
   "source": [
    "class Solution:\n",
    "    def numSubarrayProductLessThanK(self, nums: list[int], k: int) -> int:\n",
    "        if k <= 1:\n",
    "            return 0\n",
    "        \n",
    "        left, count, product = 0, 0, 1\n",
    "        \n",
    "        for right in range(len(nums)):\n",
    "            product *= nums[right]\n",
    "        \n",
    "            while product >= k:\n",
    "                product //= nums[left]\n",
    "                left += 1\n",
    "            count += right - left + 1\n",
    "        \n",
    "        return count"
   ]
  }
 ],
 "metadata": {
  "kernelspec": {
   "display_name": "base",
   "language": "python",
   "name": "python3"
  },
  "language_info": {
   "codemirror_mode": {
    "name": "ipython",
    "version": 3
   },
   "file_extension": ".py",
   "mimetype": "text/x-python",
   "name": "python",
   "nbconvert_exporter": "python",
   "pygments_lexer": "ipython3",
   "version": "3.9.16"
  }
 },
 "nbformat": 4,
 "nbformat_minor": 2
}

{
 "cells": [
  {
   "cell_type": "markdown",
   "metadata": {},
   "source": [
    "You start with an initial **power** of `power`, an initial **score** of `0`, and a bag of tokens given as an integer array `tokens`, where each `tokens[i]` donates the value of token<sub>i</sub>.\n",
    "\n",
    "Your goal is to **maximize** the total **score** by strategically playing these tokens. In one move, you can play an **unplayed** token in one of the two ways (but not both for the same token):\n",
    "- **Face-up:** If your current power is **at least** `tokens[i]`, you may play token<sub>i</sub>, losing `tokens[i]` power and gaining `1` score.\n",
    "- **Face-down:** If your current score is **at least** `1`, you may play token<sub>i</sub>, gaining `tokens[i]` power and losing `1` score.\n",
    "\n",
    "Return *the ***maximum*** possible score you can achieve after playing ***any*** number of tokens*.\n",
    "\n",
    "<br> \n",
    "\n",
    "**Example 1:**\n",
    ">**Input:** tokens = [100], power = 50<br>\n",
    ">**Output:** 0<br>\n",
    ">**Explanation:** Since your score is `0` initially, you cannot play the token face-down. You also cannot play it face-up since your power (`50`) is less than `tokens[0]` (`100`).\n",
    "\n",
    "\n",
    "**Example 2:**\n",
    ">**Input:** tokens = [200,100], power = 150<br>\n",
    ">**Output:** 1<br>\n",
    ">**Explanation:** Play token1 (`100`) face-up, reducing your power to `50` and increasing your score to `1`.<br>\n",
    ">There is no need to play token<sub>0</sub>, since you cannot play it face-up to add to your score. The maximum score achievable is `1`.\n",
    "\n",
    "\n",
    "**Example 3:**\n",
    ">**Input:** tokens = [100,200,300,400], power = 200<br>\n",
    ">**Output:** 2<br>\n",
    ">**Explanation:** Play the tokens in this order to get a score of `2`:<br>\n",
    ">Play token<sub>0</sub> (`100`) face-up, reducing power to `100` and increasing score to `1`.<br>\n",
    ">Play token<sub>3</sub> (`400`) face-down, increasing power to `500` and reducing score to `0`.<br>\n",
    ">Play token<sub>1</sub> (`200`) face-up, reducing power to `300` and increasing score to `1`.<br>\n",
    ">Play token<sub>2</sub> (`300`) face-up, reducing power to `0` and increasing score to `2`.<br>\n",
    ">The maximum score achievable is `2`.\n",
    "\n",
    "<br>\n",
    "\n",
    "**Constraints:**\n",
    "- >0 <= tokens.length <= 1000\n",
    "- >0 <= tokens[i], power < 10<sup>4</sup>"
   ]
  },
  {
   "cell_type": "code",
   "execution_count": 1,
   "metadata": {},
   "outputs": [],
   "source": [
    "class Solution:\n",
    "    def bagOfTokensScore(self, tokens: list[int], power: int) -> int:\n",
    "        tokens.sort()\n",
    "        left, right = 0, len(tokens) - 1\n",
    "        score = 0\n",
    "        maxScore = 0\n",
    "        \n",
    "        while left <= right:\n",
    "            if power >= tokens[left]:\n",
    "                power -= tokens[left]\n",
    "                score += 1\n",
    "                left += 1\n",
    "                maxScore = max(maxScore, score)\n",
    "            elif score > 0:\n",
    "                power += tokens[right]\n",
    "                score -= 1\n",
    "                right -= 1\n",
    "            else:\n",
    "                break\n",
    "                \n",
    "        return maxScore"
   ]
  }
 ],
 "metadata": {
  "kernelspec": {
   "display_name": "base",
   "language": "python",
   "name": "python3"
  },
  "language_info": {
   "codemirror_mode": {
    "name": "ipython",
    "version": 3
   },
   "file_extension": ".py",
   "mimetype": "text/x-python",
   "name": "python",
   "nbconvert_exporter": "python",
   "pygments_lexer": "ipython3",
   "version": "3.9.16"
  }
 },
 "nbformat": 4,
 "nbformat_minor": 2
}

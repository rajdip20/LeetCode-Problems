{
 "cells": [
  {
   "cell_type": "markdown",
   "metadata": {},
   "source": [
    "Given the `head` of a linked list, we repeatedly delete consecutive sequences of nodes that sum to `0` until there are no such sequences.\n",
    "\n",
    "After doing so, return the head of the final linked list.  You may return any such answer.\n",
    "\n",
    "<br>\n",
    "\n",
    "(Note that in the examples below, all sequences are serializations of `ListNode` objects.)\n",
    "\n",
    "<br>\n",
    "\n",
    "**Example 1:**\n",
    ">**Input:** head = [1,2,-3,3,1]<br>\n",
    ">**Output:** [3,1]<br>\n",
    ">**Note:** The answer [1,2,1] would also be accepted.\n",
    "\n",
    "**Example 2:**\n",
    ">**Input:** head = [1,2,3,-3,4]<br>\n",
    ">**Output:** [1,2,4]\n",
    "\n",
    "**Example 3:**\n",
    ">**Input:** head = [1,2,3,-3,-2]<br>\n",
    ">**Output:** [1]\n",
    "\n",
    "<br>\n",
    "\n",
    "**Constraints:**\n",
    "- >The given linked list will contain between 1 and 1000 nodes.\n",
    "- >Each node in the linked list has -1000 <= node.val <= 1000."
   ]
  },
  {
   "cell_type": "code",
   "execution_count": 1,
   "metadata": {},
   "outputs": [],
   "source": [
    "# Definition for singly-linked list.\n",
    "# class ListNode:\n",
    "#     def __init__(self, val=0, next=None):\n",
    "#         self.val = val\n",
    "#         self.next = next\n",
    "class Solution:\n",
    "    def removeZeroSumSublists(self, head):\n",
    "        dummy = ListNode(0)\n",
    "        dummy.next = head\n",
    "        prefix_sum = 0\n",
    "        seen = {}\n",
    "        node = dummy\n",
    "\n",
    "        while node:\n",
    "            prefix_sum += node.val\n",
    "            seen[prefix_sum] = node\n",
    "            node = node.next\n",
    "\n",
    "        prefix_sum = 0\n",
    "        node = dummy\n",
    "    \n",
    "        while node:\n",
    "            prefix_sum += node.val\n",
    "            node.next = seen[prefix_sum].next\n",
    "            node = node.next\n",
    "    \n",
    "        return dummy.next"
   ]
  }
 ],
 "metadata": {
  "kernelspec": {
   "display_name": "base",
   "language": "python",
   "name": "python3"
  },
  "language_info": {
   "codemirror_mode": {
    "name": "ipython",
    "version": 3
   },
   "file_extension": ".py",
   "mimetype": "text/x-python",
   "name": "python",
   "nbconvert_exporter": "python",
   "pygments_lexer": "ipython3",
   "version": "3.9.16"
  }
 },
 "nbformat": 4,
 "nbformat_minor": 2
}

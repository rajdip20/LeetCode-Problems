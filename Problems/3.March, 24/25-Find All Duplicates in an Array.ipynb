{
 "cells": [
  {
   "cell_type": "markdown",
   "metadata": {},
   "source": [
    "Given an integer array `nums` of length `n` where all the integers of `nums` are in the range `[1, n]` and each integer appears **once** or **twice**, return *an array of all the integers that appears* ***twice***.\n",
    "\n",
    "You must write an algorithm that runs in `O(n)` time and uses only constant extra space.\n",
    "\n",
    "<br>\n",
    "\n",
    "**Example 1:**\n",
    ">**Input:** nums = [4,3,2,7,8,2,3,1]<br>\n",
    ">**Output:** [2,3]\n",
    "\n",
    "**Example 2:**\n",
    ">**Input:** nums = [1,1,2]<br>\n",
    ">**Output:** [1]\n",
    "\n",
    "**Example 3:**\n",
    ">**Input:** nums = [1]<br>\n",
    ">**Output:** []\n",
    " \n",
    "<br>\n",
    "\n",
    "**Constraints:**\n",
    "- >n == nums.length\n",
    "- >1 <= n <= 10<sup>5</sup>\n",
    "- >1 <= nums[i] <= n\n",
    "- >Each element in nums appears **once** or **twice**."
   ]
  },
  {
   "cell_type": "code",
   "execution_count": 1,
   "metadata": {},
   "outputs": [],
   "source": [
    "class Solution:\n",
    "    def findDuplicates(self, nums: list[int]) -> list[int]:\n",
    "        result = []\n",
    "        \n",
    "        for num in nums:\n",
    "            idx = abs(num) - 1\n",
    "            \n",
    "            if nums[idx] > 0:\n",
    "                nums[idx] = -nums[idx]\n",
    "            else:\n",
    "                result.append(idx + 1)\n",
    "        \n",
    "        return result"
   ]
  }
 ],
 "metadata": {
  "kernelspec": {
   "display_name": "base",
   "language": "python",
   "name": "python3"
  },
  "language_info": {
   "codemirror_mode": {
    "name": "ipython",
    "version": 3
   },
   "file_extension": ".py",
   "mimetype": "text/x-python",
   "name": "python",
   "nbconvert_exporter": "python",
   "pygments_lexer": "ipython3",
   "version": "3.9.16"
  }
 },
 "nbformat": 4,
 "nbformat_minor": 2
}

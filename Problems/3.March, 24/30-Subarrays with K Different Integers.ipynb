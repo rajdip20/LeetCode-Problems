{
 "cells": [
  {
   "cell_type": "markdown",
   "metadata": {},
   "source": [
    "Given an integer array `nums` and an integer `k`, return *the number of* ***good subarrays*** *of* `nums`.\n",
    "\n",
    "A **good array** is an array where the number of different integers in that array is exactly `k`.\n",
    "- For example, `[1,2,3,1,2]` has `3` different integers: `1`, `2`, and `3`.\n",
    "\n",
    "A **subarray** is a **contiguous** part of an array.\n",
    "\n",
    "<br>\n",
    "\n",
    "**Example 1:**\n",
    ">**Input:** nums = [1,2,1,2,3], k = 2<br>\n",
    ">**Output:** 7<br>\n",
    ">**Explanation:** Subarrays formed with exactly 2 different integers: [1,2], [2,1], [1,2], [2,3], [1,2,1], [2,1,2], [1,2,1,2]\n",
    "\n",
    "**Example 2:**\n",
    ">**Input:** nums = [1,2,1,3,4], k = 3<br>\n",
    ">**Output:** 3<br>\n",
    ">**Explanation:** Subarrays formed with exactly 3 different integers: [1,2,1,3], [2,1,3], [1,3,4].\n",
    "\n",
    "<br>\n",
    "\n",
    "**Constraints:**\n",
    "- >1 <= nums.length <= 2 * 10<sup>4</sup>\n",
    "- >1 <= nums[i], k <= nums.length"
   ]
  },
  {
   "cell_type": "code",
   "execution_count": 1,
   "metadata": {},
   "outputs": [],
   "source": [
    "class Solution:\n",
    "    def subarraysWithKDistinct(self, nums: list[int], k: int) -> int:\n",
    "        from collections import defaultdict\n",
    "\n",
    "\n",
    "        def subarraysWithAtMost(kEle):\n",
    "            freq = defaultdict(int)\n",
    "            l = ans = 0\n",
    "\n",
    "            for r,num in enumerate(nums):\n",
    "                freq[num] += 1\n",
    "                \n",
    "                while len(freq) > kEle:\n",
    "                    freq[nums[l]] -= 1\n",
    "                    \n",
    "                    if freq[nums[l]] == 0:\n",
    "                        del freq[nums[l]]\n",
    "                    \n",
    "                    l += 1\n",
    "                \n",
    "                ans += r - l + 1\n",
    "            \n",
    "            return ans\n",
    "\n",
    "        return subarraysWithAtMost(k) - subarraysWithAtMost(k - 1)"
   ]
  }
 ],
 "metadata": {
  "kernelspec": {
   "display_name": "base",
   "language": "python",
   "name": "python3"
  },
  "language_info": {
   "codemirror_mode": {
    "name": "ipython",
    "version": 3
   },
   "file_extension": ".py",
   "mimetype": "text/x-python",
   "name": "python",
   "nbconvert_exporter": "python",
   "pygments_lexer": "ipython3",
   "version": "3.9.16"
  }
 },
 "nbformat": 4,
 "nbformat_minor": 2
}

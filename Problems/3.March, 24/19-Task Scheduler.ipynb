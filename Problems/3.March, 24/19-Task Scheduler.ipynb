{
 "cells": [
  {
   "cell_type": "markdown",
   "metadata": {},
   "source": [
    "You are given an array of CPU `tasks`, each represented by letters A to Z, and a cooling time, `n`. Each cycle or interval allows the completion of one task. Tasks can be completed in any order, but there's a constraint: **identical** tasks must be separated by at least `n` intervals due to cooling time.\n",
    "\n",
    "​Return the *minimum number of intervals* required to complete all tasks.\n",
    "\n",
    "<br>\n",
    "\n",
    "**Example 1:**\n",
    ">**Input:** tasks = [\"A\",\"A\",\"A\",\"B\",\"B\",\"B\"], n = 2<br>\n",
    ">**Output:** 8<br>\n",
    ">**Explanation:** A possible sequence is: A -> B -> idle -> A -> B -> idle -> A -> B.<br>\n",
    ">After completing task A, you must wait two cycles before doing A again. The same applies to task B. In the 3rd interval, neither A nor B can be done, so you idle. By the 4th cycle, you can do A again as 2 intervals have passed.\n",
    "\n",
    "**Example 2:**\n",
    ">**Input:** tasks = [\"A\",\"C\",\"A\",\"B\",\"D\",\"B\"], n = 1<br>\n",
    ">**Output:** 6<br>\n",
    ">**Explanation:** A possible sequence is: A -> B -> C -> D -> A -> B.<br>\n",
    ">With a cooling interval of 1, you can repeat a task after just one other task.\n",
    "\n",
    "**Example 3:**\n",
    ">**Input:** tasks = [\"A\",\"A\",\"A\", \"B\",\"B\",\"B\"], n = 3<br>\n",
    ">**Output:** 10<br>\n",
    ">**Explanation:** A possible sequence is: A -> B -> idle -> idle -> A -> B -> idle -> idle -> A -> B.<br>\n",
    ">There are only two types of tasks, A and B, which need to be separated by 3 intervals. This leads to idling twice between repetitions of these tasks.\n",
    "\n",
    "<br> \n",
    "\n",
    "**Constraints:**\n",
    "- >1 <= tasks.length <= 10<sup>4</sup>\n",
    "- >tasks[i] is an uppercase English letter.\n",
    "- >0 <= n <= 100"
   ]
  },
  {
   "cell_type": "code",
   "execution_count": 1,
   "metadata": {},
   "outputs": [],
   "source": [
    "class Solution:\n",
    "    def leastInterval(self, tasks: list[str], n: int) -> int:\n",
    "        freq = [0] * 26\n",
    "        \n",
    "        for task in tasks:\n",
    "            freq[ord(task) - ord('A')] += 1\n",
    "        \n",
    "        freq.sort()\n",
    "        chunk = freq[25] - 1\n",
    "        idle = chunk * n\n",
    "\n",
    "        for i in range(24, -1, -1):\n",
    "            idle -= min(chunk, freq[i])\n",
    "\n",
    "        return len(tasks) + idle if idle >= 0 else len(tasks)"
   ]
  }
 ],
 "metadata": {
  "kernelspec": {
   "display_name": "base",
   "language": "python",
   "name": "python3"
  },
  "language_info": {
   "codemirror_mode": {
    "name": "ipython",
    "version": 3
   },
   "file_extension": ".py",
   "mimetype": "text/x-python",
   "name": "python",
   "nbconvert_exporter": "python",
   "pygments_lexer": "ipython3",
   "version": "3.9.16"
  }
 },
 "nbformat": 4,
 "nbformat_minor": 2
}

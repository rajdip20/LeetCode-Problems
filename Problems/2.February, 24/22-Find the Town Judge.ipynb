{
 "cells": [
  {
   "cell_type": "markdown",
   "metadata": {},
   "source": [
    "In a town, there are `n` people labeled from `1` to `n`. There is a rumor that one of these people is secretly the town judge.\n",
    "\n",
    "If the town judge exists, then:\n",
    "1. The town judge trusts nobody.\n",
    "2. Everybody (except for the town judge) trusts the town judge.\n",
    "3. There is exactly one person that satisfies properties 1 and 2.\n",
    "\n",
    "You are given an array `trust` where **trust[i] = [a<sub>i</sub>, b<sub>i</sub>]** representing that the person labeled **a<sub>i</sub>** trusts the person labeled **b<sub>i</sub>**. If a trust relationship does not exist in `trust` array, then such a trust relationship does not exist.\n",
    "\n",
    "Return *the label of the town judge if the town judge exists and can be identified, or return* `-1` *otherwise*.\n",
    "\n",
    "<br>\n",
    "\n",
    "**Example 1:**\n",
    ">**Input:** n = 2, trust = [[1,2]]<br>\n",
    ">**Output:** 2\n",
    "\n",
    "\n",
    "**Example 2:**\n",
    ">**Input:** n = 3, trust = [[1,3],[2,3]]<br>\n",
    ">**Output:** 3\n",
    "\n",
    "\n",
    "**Example 3:**\n",
    ">**Input:** n = 3, trust = [[1,3],[2,3],[3,1]]<br>\n",
    ">**Output:** -1\n",
    "\n",
    "\n",
    "<br>\n",
    "\n",
    "**Constraints:**\n",
    "- 1 <= n <= 1000\n",
    "- 0 <= trust.length <= 10<sup>4</sup>\n",
    "- trust[i].length == 2\n",
    "- All the pairs of trust are **unique**.\n",
    "- a<sub>i</sub> != b<sub>i</sub>\n",
    "- 1 <= a<sub>i</sub>, b<sub>i</sub> <= n"
   ]
  },
  {
   "cell_type": "code",
   "execution_count": 1,
   "metadata": {},
   "outputs": [],
   "source": [
    "class Solution:\n",
    "    def findJudge(self, n: int, trust: list[list[int]]) -> int:\n",
    "        trust_scores = [0] * (n + 1)\n",
    "        is_trusted = [0] * (n + 1)\n",
    "\n",
    "        for i in trust:\n",
    "            trust_scores[i[0]] += 1\n",
    "            is_trusted[i[1]] += 1\n",
    "\n",
    "        answer = -1\n",
    "\n",
    "        for i in range(1, n + 1):\n",
    "            if trust_scores[i] == 0 and is_trusted[i] == n - 1:\n",
    "                answer = i\n",
    "\n",
    "        return answer"
   ]
  }
 ],
 "metadata": {
  "kernelspec": {
   "display_name": "base",
   "language": "python",
   "name": "python3"
  },
  "language_info": {
   "codemirror_mode": {
    "name": "ipython",
    "version": 3
   },
   "file_extension": ".py",
   "mimetype": "text/x-python",
   "name": "python",
   "nbconvert_exporter": "python",
   "pygments_lexer": "ipython3",
   "version": "3.9.16"
  }
 },
 "nbformat": 4,
 "nbformat_minor": 2
}

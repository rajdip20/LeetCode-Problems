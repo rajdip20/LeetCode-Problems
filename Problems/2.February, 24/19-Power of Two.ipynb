{
 "cells": [
  {
   "cell_type": "markdown",
   "metadata": {},
   "source": [
    "Given an integer `n`, return *`true` if it is a power of two. Otherwise, return `false`*.\n",
    "\n",
    "An integer `n` is a power of two, if there exists an integer `x` such that **n == 2<sup>x</sup>**.\n",
    "\n",
    "<br> \n",
    "\n",
    "**Example 1:**\n",
    ">**Input:** n = 1<br>\n",
    ">**Output:** true<br>\n",
    ">**Explanation:** 20 = 1\n",
    "\n",
    "\n",
    "**Example 2:**\n",
    ">**Input:** n = 16<br>\n",
    ">**Output:** true<br>\n",
    ">**Explanation:** 24 = 16\n",
    "\n",
    "\n",
    "**Example 3:**\n",
    ">**Input:** n = 3<br>\n",
    ">**Output:** false\n",
    "\n",
    "<br>\n",
    "\n",
    "**Constraints:**\n",
    "- >-2<sup>31</sup> <= n <= 2<sup>31</sup> - 1\n",
    " \n",
    "\n",
    "**Follow up:** Could you solve it without loops/recursion?"
   ]
  },
  {
   "cell_type": "code",
   "execution_count": 1,
   "metadata": {},
   "outputs": [],
   "source": [
    "class Solution:\n",
    "    def isPowerOfTwo(self, n: int) -> bool:\n",
    "        if n <= 0:\n",
    "            return False\n",
    "        return n & (n - 1) == 0"
   ]
  }
 ],
 "metadata": {
  "kernelspec": {
   "display_name": "base",
   "language": "python",
   "name": "python3"
  },
  "language_info": {
   "codemirror_mode": {
    "name": "ipython",
    "version": 3
   },
   "file_extension": ".py",
   "mimetype": "text/x-python",
   "name": "python",
   "nbconvert_exporter": "python",
   "pygments_lexer": "ipython3",
   "version": "3.9.16"
  }
 },
 "nbformat": 4,
 "nbformat_minor": 2
}

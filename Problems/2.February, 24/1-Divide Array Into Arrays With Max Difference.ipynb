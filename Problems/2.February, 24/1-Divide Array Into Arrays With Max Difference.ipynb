{
 "cells": [
  {
   "cell_type": "markdown",
   "metadata": {},
   "source": [
    "You are given an integer array `nums` of size `n` and a positive integer `k`.\n",
    "\n",
    "Divide the array into one or more arrays of size `3` satisfying the following conditions:\n",
    "\n",
    "- **Each** element of `nums` should be in **exactly** one array.\n",
    "- The difference between any two elements in one array is less than or equal to `k`.\n",
    "\n",
    "Return *a **2D** array containing all the arrays. If it is impossible to satisfy the conditions, return an empty array. And if there are multiple answers, return **any** of them*.\n",
    "\n",
    "<br>\n",
    "\n",
    "**Example 1:**\n",
    "\n",
    ">**Input:** nums = [1,3,4,8,7,9,3,5,1], k = 2<br>\n",
    ">**Output:** [[1,1,3],[3,4,5],[7,8,9]]<br>\n",
    ">**Explanation:** We can divide the array into the following arrays: [1,1,3], [3,4,5] and [7,8,9].<br>\n",
    ">The difference between any two elements in each array is less than or equal to 2.<br>\n",
    ">Note that the order of elements is not important.\n",
    "\n",
    "\n",
    "**Example 2:**\n",
    "\n",
    ">**Input:** nums = [1,3,3,2,7,3], k = 3<br>\n",
    ">**Output:** []<br>\n",
    ">**Explanation:** It is not possible to divide the array satisfying all the conditions.\n",
    " \n",
    "<br>\n",
    "\n",
    "**Constraints:**\n",
    "- >n == nums.length\n",
    "- >1 <= n <= 10<sup>5</sup>\n",
    "- >n is a multiple of 3.\n",
    "- >1 <= nums[i] <= 10<sup>5</sup>\n",
    "- >1 <= k <= 10<sup>5</sup>"
   ]
  },
  {
   "cell_type": "code",
   "execution_count": 1,
   "metadata": {},
   "outputs": [],
   "source": [
    "class Solution:\n",
    "    def divideArray(self, nums: list[int], k: int) -> list[list[int]]:\n",
    "        nums.sort()\n",
    "        result = []\n",
    "        n = len(nums)\n",
    "\n",
    "        for i in range(n):\n",
    "            if i % 3 == 0:\n",
    "                current_array = [nums[i]]\n",
    "                j = nums[i]\n",
    "            \n",
    "            elif i % 3 == 1:\n",
    "                if nums[i] - j > k:\n",
    "                    return []\n",
    "                \n",
    "                current_array.append(nums[i])\n",
    "            else:\n",
    "                if nums[i] - j > k:\n",
    "                    return []\n",
    "                \n",
    "                current_array.append(nums[i])\n",
    "                result.append(current_array)\n",
    "        \n",
    "        return result"
   ]
  }
 ],
 "metadata": {
  "kernelspec": {
   "display_name": "base",
   "language": "python",
   "name": "python3"
  },
  "language_info": {
   "codemirror_mode": {
    "name": "ipython",
    "version": 3
   },
   "file_extension": ".py",
   "mimetype": "text/x-python",
   "name": "python",
   "nbconvert_exporter": "python",
   "pygments_lexer": "ipython3",
   "version": "3.9.16"
  }
 },
 "nbformat": 4,
 "nbformat_minor": 2
}

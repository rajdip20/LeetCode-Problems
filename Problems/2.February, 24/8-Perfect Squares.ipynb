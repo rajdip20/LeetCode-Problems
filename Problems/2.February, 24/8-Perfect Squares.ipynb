{
 "cells": [
  {
   "cell_type": "markdown",
   "metadata": {},
   "source": [
    "Given an integer `n`, return *the least number of perfect square numbers that sum to* `n`.\n",
    "\n",
    "A **perfect square** is an integer that is the square of an integer; in other words, it is the product of some integer with itself. For example, `1`, `4`, `9`, and `16` are perfect squares while `3` and `11` are not.\n",
    "\n",
    "<br> \n",
    "\n",
    "**Example 1:**\n",
    ">**Input:** n = 12<br>\n",
    ">**Output:** 3<br>\n",
    ">**Explanation:** 12 = 4 + 4 + 4.\n",
    "\n",
    "\n",
    "**Example 2:**\n",
    ">**Input:** n = 13<br>\n",
    ">**Output:** 2<br>\n",
    ">**Explanation:** 13 = 4 + 9.\n",
    " \n",
    "<br>\n",
    "\n",
    "**Constraints:**\n",
    "- >1 <= n <= 10<sup>4</sup>"
   ]
  },
  {
   "cell_type": "code",
   "execution_count": 1,
   "metadata": {},
   "outputs": [],
   "source": [
    "class Solution:\n",
    "    def numSquares(self, n: int) -> int:\n",
    "        import math\n",
    "\n",
    "        dp = [0] * (n + 1)\n",
    "\n",
    "        for i in range(1, n + 1):\n",
    "            dp[i] = i\n",
    "\n",
    "            for j in range(1, int(math.sqrt(i)) + 1):\n",
    "                dp[i] = min(dp[i], 1 + dp[i - j * j])\n",
    "\n",
    "        return dp[n]"
   ]
  }
 ],
 "metadata": {
  "kernelspec": {
   "display_name": "base",
   "language": "python",
   "name": "python3"
  },
  "language_info": {
   "codemirror_mode": {
    "name": "ipython",
    "version": 3
   },
   "file_extension": ".py",
   "mimetype": "text/x-python",
   "name": "python",
   "nbconvert_exporter": "python",
   "pygments_lexer": "ipython3",
   "version": "3.9.16"
  }
 },
 "nbformat": 4,
 "nbformat_minor": 2
}

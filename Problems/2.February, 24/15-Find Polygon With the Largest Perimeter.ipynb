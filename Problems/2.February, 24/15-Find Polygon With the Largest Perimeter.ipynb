{
 "cells": [
  {
   "cell_type": "markdown",
   "metadata": {},
   "source": [
    "You are given an array of **positive** integers `nums` of length `n`.\n",
    "\n",
    "A **polygon** is a closed plane figure that has at least `3` sides. The **longest side** of a polygon is **smaller** than the sum of its other sides.\n",
    "\n",
    "Conversely, if you have `k` (`k >= 3`) **positive** real numbers **a<sub>1</sub>, a<sub>2</sub>, a<sub>3</sub>, ..., a<sub>k</sub>** where **a<sub>1</sub> <= a<sub>2</sub> <= a<sub>3</sub> <= ... <= a<sub>k</sub>** **and** **a<sub>1</sub> + a<sub>2</sub> + a<sub>3</sub> + ... + a<sub>k-1</sub> > a<sub>k</sub>**, then there **always** exists a polygon with `k` sides whose lengths are **a<sub>1</sub>, a<sub>2</sub>, a<sub>3</sub>, ..., a<sub>k</sub>**.\n",
    "\n",
    "The **perimeter** of a polygon is the sum of lengths of its sides.\n",
    "\n",
    "Return *the ***largest*** possible ***perimeter*** of a ***polygon*** whose sides can be formed from `nums`, or `-1` if it is not possible to create a polygon*.\n",
    "\n",
    "<br> \n",
    "\n",
    "**Example 1:**\n",
    ">**Input:** nums = [5,5,5]<br>\n",
    ">**Output:** 15<br>\n",
    ">**Explanation:** The only possible polygon that can be made from nums has 3 sides: 5, 5, and 5. The perimeter is 5 + 5 + 5 = 15.\n",
    "\n",
    "\n",
    "**Example 2:**\n",
    ">**Input:** nums = [1,12,1,2,5,50,3]<br>\n",
    ">**Output:** 12<br>\n",
    ">**Explanation:** The polygon with the largest perimeter which can be made from nums has 5 sides: 1, 1, 2, 3, and 5. The perimeter is 1 + 1 + 2 + 3 + 5 = 12.<br>\n",
    ">We cannot have a polygon with either 12 or 50 as the longest side because it is not possible to include 2 or more smaller sides that have a greater sum than either of them.<br>\n",
    ">It can be shown that the largest possible perimeter is 12.\n",
    "\n",
    "\n",
    "**Example 3:**\n",
    ">**Input:** nums = [5,5,50]<br>\n",
    ">**Output:** -1<br>\n",
    ">**Explanation:** There is no possible way to form a polygon from nums, as a polygon has at least 3 sides and 50 > 5 + 5.\n",
    " \n",
    "<br>\n",
    "\n",
    "**Constraints:**\n",
    "- >3 <= n <= 10<sup>5</sup>\n",
    "- >1 <= nums[i] <= 10<sup>9</sup>"
   ]
  },
  {
   "cell_type": "code",
   "execution_count": 1,
   "metadata": {},
   "outputs": [],
   "source": [
    "class Solution:\n",
    "    def largestPerimeter(self, nums: list[int]) -> int:\n",
    "        nums.sort()\n",
    "        ele_sum = sum(nums)\n",
    "        \n",
    "        for i in range(len(nums) - 1, 1, -1):\n",
    "            ele_sum -= nums[i]\n",
    "            if ele_sum > nums[i]:\n",
    "                return ele_sum + nums[i]\n",
    "        \n",
    "        return -1"
   ]
  }
 ],
 "metadata": {
  "kernelspec": {
   "display_name": "base",
   "language": "python",
   "name": "python3"
  },
  "language_info": {
   "codemirror_mode": {
    "name": "ipython",
    "version": 3
   },
   "file_extension": ".py",
   "mimetype": "text/x-python",
   "name": "python",
   "nbconvert_exporter": "python",
   "pygments_lexer": "ipython3",
   "version": "3.9.16"
  }
 },
 "nbformat": 4,
 "nbformat_minor": 2
}

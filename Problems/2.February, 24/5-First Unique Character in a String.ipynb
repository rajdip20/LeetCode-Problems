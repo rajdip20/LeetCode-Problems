{
 "cells": [
  {
   "cell_type": "markdown",
   "metadata": {},
   "source": [
    "Given a string `s`, find the first non-repeating character in it and return its index. If it does not exist, return `-1`.\n",
    "\n",
    "<br>\n",
    "\n",
    "**Example 1:**\n",
    ">**Input:** s = \"leetcode\"<br>\n",
    ">**Output:** 0\n",
    "\n",
    "\n",
    "**Example 2:**\n",
    ">**Input:** s = \"loveleetcode\"<br>\n",
    ">**Output:** 2\n",
    "\n",
    "\n",
    "**Example 3:**\n",
    ">**Input:** s = \"aabb\"<br>\n",
    ">**Output:** -1\n",
    "\n",
    "<br>\n",
    "\n",
    "**Constraints:**\n",
    "- >1 <= s.length <= 10<sup>5</sup>\n",
    "- >s consists of only lowercase English letters."
   ]
  },
  {
   "cell_type": "code",
   "execution_count": 1,
   "metadata": {},
   "outputs": [],
   "source": [
    "class Solution:\n",
    "    def firstUniqChar(self, s: str) -> int:\n",
    "        count = {}\n",
    "\n",
    "        for char in s:\n",
    "            if char in count:\n",
    "                count[char] += 1\n",
    "            else:\n",
    "                count[char] = 1\n",
    "        \n",
    "        for i, char in enumerate(s):\n",
    "            if count[char] == 1:\n",
    "                return i\n",
    "        \n",
    "        return -1"
   ]
  }
 ],
 "metadata": {
  "kernelspec": {
   "display_name": "base",
   "language": "python",
   "name": "python3"
  },
  "language_info": {
   "codemirror_mode": {
    "name": "ipython",
    "version": 3
   },
   "file_extension": ".py",
   "mimetype": "text/x-python",
   "name": "python",
   "nbconvert_exporter": "python",
   "pygments_lexer": "ipython3",
   "version": "3.9.16"
  }
 },
 "nbformat": 4,
 "nbformat_minor": 2
}

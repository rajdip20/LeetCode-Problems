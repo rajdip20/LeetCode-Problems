{
 "cells": [
  {
   "cell_type": "markdown",
   "metadata": {},
   "source": [
    "Given a string `s`, sort it in **decreasing order** based on the **frequency** of the characters. The **frequency** of a character is the number of times it appears in the string.\n",
    "\n",
    "Return *the sorted string. If there are multiple answers, return any of them*.\n",
    "\n",
    "<br>\n",
    "\n",
    "**Example 1:**\n",
    ">**Input:** s = \"tree\"<br>\n",
    ">**Output:** \"eert\"<br>\n",
    ">**Explanation:** 'e' appears twice while 'r' and 't' both appear once.<br>\n",
    ">So 'e' must appear before both 'r' and 't'. Therefore \"eetr\" is also a valid answer.\n",
    "\n",
    "\n",
    "**Example 2:**\n",
    ">**Input:** s = \"cccaaa\"<br>\n",
    ">**Output:** \"aaaccc\"<br>\n",
    ">**Explanation:** Both 'c' and 'a' appear three times, so both \"cccaaa\" and \"aaaccc\" are valid answers.<br>\n",
    ">Note that \"cacaca\" is incorrect, as the same characters must be together.\n",
    "\n",
    "\n",
    "**Example 3:**\n",
    ">**Input:** s = \"Aabb\"<br>\n",
    ">**Output:** \"bbAa\"<br>\n",
    ">**Explanation:** \"bbaA\" is also a valid answer, but \"Aabb\" is incorrect.<br>\n",
    ">Note that 'A' and 'a' are treated as two different characters.\n",
    "\n",
    "<br> \n",
    "\n",
    "**Constraints:**\n",
    "- >1 <= s.length <= 5 * 10<sup>5</sup>\n",
    "- >s consists of uppercase and lowercase English letters and digits."
   ]
  },
  {
   "cell_type": "code",
   "execution_count": 1,
   "metadata": {},
   "outputs": [],
   "source": [
    "class Solution:\n",
    "    def frequencySort(self, s: str) -> str:\n",
    "        char_count = {}\n",
    "        \n",
    "        for char in s:\n",
    "            char_count[char] = char_count.get(char, 0) + 1\n",
    "\n",
    "        sorted_chars = sorted(char_count.keys(), key=lambda x: char_count[x], reverse=True)\n",
    "\n",
    "        sorted_string = \"\"\n",
    "        for char in sorted_chars:\n",
    "            sorted_string += char * char_count[char]\n",
    "\n",
    "        return sorted_string"
   ]
  }
 ],
 "metadata": {
  "kernelspec": {
   "display_name": "base",
   "language": "python",
   "name": "python3"
  },
  "language_info": {
   "codemirror_mode": {
    "name": "ipython",
    "version": 3
   },
   "file_extension": ".py",
   "mimetype": "text/x-python",
   "name": "python",
   "nbconvert_exporter": "python",
   "pygments_lexer": "ipython3",
   "version": "3.9.16"
  }
 },
 "nbformat": 4,
 "nbformat_minor": 2
}

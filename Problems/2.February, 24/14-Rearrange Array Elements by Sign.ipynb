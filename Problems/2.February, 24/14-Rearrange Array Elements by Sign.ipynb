{
 "cells": [
  {
   "cell_type": "markdown",
   "metadata": {},
   "source": [
    "You are given a **0-indexed** integer array `nums` of **even** length consisting of an **equal** number of positive and negative integers.\n",
    "\n",
    "You should **rearrange** the elements of `nums` such that the modified array follows the given conditions:\n",
    "1. Every **consecutive pair** of integers have **opposite signs**.\n",
    "2. For all integers with the same sign, the **order** in which they were present in `nums` is **preserved**.\n",
    "3. The rearranged array begins with a positive integer.\n",
    "\n",
    "Return *the modified array after rearranging the elements to satisfy the aforementioned conditions*.\n",
    "\n",
    "<br>\n",
    "\n",
    "**Example 1:**\n",
    ">**Input:** nums = [3,1,-2,-5,2,-4]<br>\n",
    ">**Output:** [3,-2,1,-5,2,-4]<br>\n",
    ">**Explanation:**<br>\n",
    ">The positive integers in nums are [3,1,2]. The negative integers are [-2,-5,-4].<br>\n",
    ">The only possible way to rearrange them such that they satisfy all conditions is [3,-2,1,-5,2,-4].<br>\n",
    ">Other ways such as [1,-2,2,-5,3,-4], [3,1,2,-2,-5,-4], [-2,3,-5,1,-4,2] are incorrect because they do not satisfy one or more conditions. \n",
    "\n",
    "\n",
    "**Example 2:**\n",
    ">**Input:** nums = [-1,1]<br>\n",
    ">**Output:** [1,-1]<br>\n",
    ">**Explanation:**<br>\n",
    ">1 is the only positive integer and -1 the only negative integer in nums.<br>\n",
    ">So nums is rearranged to [1,-1].\n",
    " \n",
    "<br>\n",
    "\n",
    "**Constraints:**\n",
    "- >2 <= nums.length <= 2 * 10<sup>5</sup>\n",
    "- >nums.length is **even**\n",
    "- >1 <= |nums[i]| <= 10<sup>5</sup>\n",
    "- >nums consists of **equal** number of positive and negative integers."
   ]
  },
  {
   "cell_type": "code",
   "execution_count": 1,
   "metadata": {},
   "outputs": [],
   "source": [
    "class Solution:\n",
    "    def rearrangeArray(self, nums: list[int]) -> list[int]:\n",
    "        answer = [0] * len(nums)\n",
    "        positive, negative = 0, 1\n",
    "        \n",
    "        for num in nums:\n",
    "            if num > 0:\n",
    "                answer[positive] = num\n",
    "                positive += 2\n",
    "            else:\n",
    "                answer[negative] = num\n",
    "                negative += 2\n",
    "        \n",
    "        return answer"
   ]
  }
 ],
 "metadata": {
  "kernelspec": {
   "display_name": "Python 3",
   "language": "python",
   "name": "python3"
  },
  "language_info": {
   "codemirror_mode": {
    "name": "ipython",
    "version": 3
   },
   "file_extension": ".py",
   "mimetype": "text/x-python",
   "name": "python",
   "nbconvert_exporter": "python",
   "pygments_lexer": "ipython3",
   "version": "3.9.16"
  }
 },
 "nbformat": 4,
 "nbformat_minor": 2
}

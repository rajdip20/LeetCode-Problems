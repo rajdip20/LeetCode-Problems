{
 "cells": [
  {
   "cell_type": "markdown",
   "metadata": {},
   "source": [
    "Given an array of strings `words`, return the first **palindromic** string in the array. If there is no such string, return an **empty string** `\"\"`.\n",
    "\n",
    "A string is **palindromic** if it reads the same forward and backward.\n",
    "\n",
    "<br>\n",
    "\n",
    "**Example 1:**\n",
    ">**Input:** words = [\"abc\",\"car\",\"ada\",\"racecar\",\"cool\"]<br>\n",
    ">**Output:** \"ada\"<br>\n",
    ">**Explanation:** The first string that is palindromic is \"ada\".<br>\n",
    ">Note that \"racecar\" is also palindromic, but it is not the first.\n",
    "\n",
    "\n",
    "**Example 2:**\n",
    ">**Input:** words = [\"notapalindrome\",\"racecar\"]<br>\n",
    ">**Output:** \"racecar\"<br>\n",
    ">**Explanation:** The first and only string that is palindromic is \"racecar\".\n",
    "\n",
    "\n",
    "**Example 3:**\n",
    ">**Input:** words = [\"def\",\"ghi\"]<br>\n",
    ">**Output:** \"\"<br>\n",
    ">**Explanation:** There are no palindromic strings, so the empty string is returned.\n",
    " \n",
    "<br>\n",
    "\n",
    "**Constraints:**\n",
    "- >1 <= words.length <= 100\n",
    "- >1 <= words[i].length <= 100\n",
    "- >words[i] consists only of lowercase English letters."
   ]
  },
  {
   "cell_type": "code",
   "execution_count": 1,
   "metadata": {},
   "outputs": [],
   "source": [
    "class Solution:\n",
    "    def firstPalindrome(self, words: list[str]) -> str:\n",
    "        def is_palindrome(s):\n",
    "            return s == s[::-1]\n",
    "            \n",
    "        for word in words:\n",
    "            if is_palindrome(word):\n",
    "                return word\n",
    "        \n",
    "        return \"\""
   ]
  }
 ],
 "metadata": {
  "kernelspec": {
   "display_name": "base",
   "language": "python",
   "name": "python3"
  },
  "language_info": {
   "codemirror_mode": {
    "name": "ipython",
    "version": 3
   },
   "file_extension": ".py",
   "mimetype": "text/x-python",
   "name": "python",
   "nbconvert_exporter": "python",
   "pygments_lexer": "ipython3",
   "version": "3.9.16"
  }
 },
 "nbformat": 4,
 "nbformat_minor": 2
}

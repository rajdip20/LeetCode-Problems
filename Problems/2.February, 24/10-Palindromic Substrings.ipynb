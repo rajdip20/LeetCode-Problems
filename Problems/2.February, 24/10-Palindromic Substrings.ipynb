{
 "cells": [
  {
   "cell_type": "markdown",
   "metadata": {},
   "source": [
    "Given a string `s`, return the number of **palindromic substrings** in it.\n",
    "\n",
    "A string is a **palindrome** when it reads the same backward as forward.\n",
    "\n",
    "A **substring** is a contiguous sequence of characters within the string.\n",
    "\n",
    "<br>\n",
    "\n",
    "**Example 1:**\n",
    ">**Input:** s = \"abc\"<br>\n",
    ">**Output:** 3<br>\n",
    ">**Explanation:** Three palindromic strings: \"a\", \"b\", \"c\".\n",
    "\n",
    "\n",
    "**Example 2:**\n",
    ">**Input:** s = \"aaa\"<br>\n",
    ">**Output:** 6<br>\n",
    ">**Explanation:** Six palindromic strings: \"a\", \"a\", \"a\", \"aa\", \"aa\", \"aaa\".\n",
    " \n",
    "\n",
    "**Constraints:**\n",
    "- >1 <= s.length <= 1000\n",
    "- >s consists of lowercase English letters."
   ]
  },
  {
   "cell_type": "code",
   "execution_count": 1,
   "metadata": {},
   "outputs": [],
   "source": [
    "class Solution:\n",
    "    def countSubstrings(self, s: str) -> int:\n",
    "        n = len(s)\n",
    "        count = 0\n",
    "        dp = [[False] * n for _ in range(n)]\n",
    "\n",
    "        for i in range(n):\n",
    "            dp[i][i] = True\n",
    "            count += 1\n",
    "\n",
    "        for i in range(n - 1):\n",
    "            if s[i] == s[i + 1]:\n",
    "                dp[i][i + 1] = True\n",
    "                count += 1\n",
    "\n",
    "        for length in range(3, n + 1):\n",
    "            for i in range(n - length + 1):\n",
    "                j = i + length - 1\n",
    "                if dp[i + 1][j - 1] and s[i] == s[j]:\n",
    "                    dp[i][j] = True\n",
    "                    count += 1\n",
    "\n",
    "        return count"
   ]
  }
 ],
 "metadata": {
  "kernelspec": {
   "display_name": "base",
   "language": "python",
   "name": "python3"
  },
  "language_info": {
   "codemirror_mode": {
    "name": "ipython",
    "version": 3
   },
   "file_extension": ".py",
   "mimetype": "text/x-python",
   "name": "python",
   "nbconvert_exporter": "python",
   "pygments_lexer": "ipython3",
   "version": "3.9.16"
  }
 },
 "nbformat": 4,
 "nbformat_minor": 2
}

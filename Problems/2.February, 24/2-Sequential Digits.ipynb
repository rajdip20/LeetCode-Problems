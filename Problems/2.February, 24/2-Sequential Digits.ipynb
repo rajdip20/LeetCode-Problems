{
 "cells": [
  {
   "cell_type": "markdown",
   "metadata": {},
   "source": [
    "An integer has sequential digits if and only if each digit in the number is one more than the previous digit.\n",
    "\n",
    "Return a **sorted** list of all the integers in the range `[low, high]` inclusive that have sequential digits.\n",
    "\n",
    "<br>\n",
    "\n",
    "**Example 1:**\n",
    ">**Input:** low = 100, high = 300<br>\n",
    ">**Output:** [123,234]\n",
    "\n",
    "\n",
    "**Example 2:**\n",
    ">**Input:** low = 1000, high = 13000<br>\n",
    ">**Output:** [1234,2345,3456,4567,5678,6789,12345]\n",
    " \n",
    "<br>\n",
    "\n",
    "**Constraints:**\n",
    "- >10 <= low <= high <= 10^9"
   ]
  },
  {
   "cell_type": "code",
   "execution_count": 1,
   "metadata": {},
   "outputs": [],
   "source": [
    "class Solution:\n",
    "    def sequentialDigits(self, low: int, high: int) -> list[int]:\n",
    "        result = []\n",
    "\n",
    "        for digit in range(1, 10):\n",
    "            num = digit\n",
    "            next_digit = digit + 1\n",
    "\n",
    "            while num <= high and next_digit <= 9:\n",
    "                num = num * 10 + next_digit\n",
    "                next_digit += 1\n",
    "\n",
    "                if low <= num <= high:\n",
    "                    result.append(num)\n",
    "        \n",
    "        return sorted(result)"
   ]
  }
 ],
 "metadata": {
  "kernelspec": {
   "display_name": "base",
   "language": "python",
   "name": "python3"
  },
  "language_info": {
   "codemirror_mode": {
    "name": "ipython",
    "version": 3
   },
   "file_extension": ".py",
   "mimetype": "text/x-python",
   "name": "python",
   "nbconvert_exporter": "python",
   "pygments_lexer": "ipython3",
   "version": "3.9.16"
  }
 },
 "nbformat": 4,
 "nbformat_minor": 2
}

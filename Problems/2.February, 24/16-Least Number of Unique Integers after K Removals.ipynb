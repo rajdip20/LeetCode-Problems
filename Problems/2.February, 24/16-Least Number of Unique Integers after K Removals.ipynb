{
 "cells": [
  {
   "cell_type": "markdown",
   "metadata": {},
   "source": [
    "Given an array of integers `arr` and an integer `k`. Find the *least number of unique integers after removing **exactly** `k` elements*.\n",
    "\n",
    "<br>\n",
    "\n",
    "**Example 1:**\n",
    ">**Input:** arr = [5,5,4], k = 1<br>\n",
    ">**Output:** 1<br>\n",
    ">**Explanation:** Remove the single 4, only 5 is left.\n",
    "\n",
    "\n",
    "**Example 2:**\n",
    ">**Input:** arr = [4,3,1,1,3,3,2], k = 3<br>\n",
    ">**Output:** 2<br>\n",
    ">**Explanation:** Remove 4, 2 and either one of the two 1s or three 3s. 1 and 3 will be left.\n",
    "\n",
    "<br>\n",
    "\n",
    "**Constraints:**\n",
    "- >1 <= arr.length <= 10^5\n",
    "- >1 <= arr[i] <= 10^9\n",
    "- >0 <= k <= arr.length"
   ]
  },
  {
   "cell_type": "code",
   "execution_count": 1,
   "metadata": {},
   "outputs": [],
   "source": [
    "class Solution:\n",
    "    def findLeastNumOfUniqueInts(self, arr: list[int], k: int) -> int:\n",
    "        import heapq\n",
    "        from collections import Counter\n",
    "\n",
    "        counter = Counter(arr)\n",
    "        heap = [(freq, num) for num, freq in counter.items()]\n",
    "        heapq.heapify(heap)\n",
    "\n",
    "        while k > 0:\n",
    "            freq, num = heapq.heappop(heap)\n",
    "            if k >= freq:\n",
    "                k -= freq\n",
    "            else:\n",
    "                freq -= k\n",
    "                k = 0\n",
    "                heapq.heappush(heap, (freq, num))\n",
    "\n",
    "        return len(heap)"
   ]
  }
 ],
 "metadata": {
  "kernelspec": {
   "display_name": "base",
   "language": "python",
   "name": "python3"
  },
  "language_info": {
   "codemirror_mode": {
    "name": "ipython",
    "version": 3
   },
   "file_extension": ".py",
   "mimetype": "text/x-python",
   "name": "python",
   "nbconvert_exporter": "python",
   "pygments_lexer": "ipython3",
   "version": "3.9.16"
  }
 },
 "nbformat": 4,
 "nbformat_minor": 2
}

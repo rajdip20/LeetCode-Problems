{
 "cells": [
  {
   "cell_type": "markdown",
   "metadata": {},
   "source": [
    "Given an integer array `arr`, partition the array into (contiguous) subarrays of length **at most** `k`. After partitioning, each subarray has their values changed to become the maximum value of that subarray.\n",
    "\n",
    "Return *the largest sum of the given array after partitioning. Test cases are generated so that the answer fits in a **32-bit** integer*.\n",
    "\n",
    " \n",
    "<br>\n",
    "\n",
    "**Example 1:**\n",
    ">**Input:** arr = [1,15,7,9,2,5,10], k = 3<br>\n",
    ">**Output:** 84<br>\n",
    ">**Explanation:** arr becomes [15,15,15,9,10,10,10]\n",
    "\n",
    "\n",
    "**Example 2:**\n",
    ">**Input:** arr = [1,4,1,5,7,3,6,1,9,9,3], k = 4<br>\n",
    ">**Output:** 83\n",
    "\n",
    "\n",
    "**Example 3:**\n",
    ">**Input:** arr = [1], k = 1<br>\n",
    ">**Output:** 1\n",
    " \n",
    "<br>\n",
    "\n",
    "**Constraints:**\n",
    "- >1 <= arr.length <= 500\n",
    "- >0 <= arr[i] <= 10<sup>9</sup>\n",
    "- >1 <= k <= arr.length"
   ]
  },
  {
   "cell_type": "code",
   "execution_count": 1,
   "metadata": {},
   "outputs": [],
   "source": [
    "class Solution:\n",
    "    def maxSumAfterPartitioning(self, arr: list[int], k: int) -> int:\n",
    "        n = len(arr)\n",
    "        dp = [0] * (n + 1)\n",
    "\n",
    "        for i in range(1, n + 1):\n",
    "            max_val = 0\n",
    "            for j in range(1, min(k, i) + 1):\n",
    "                max_val = max(max_val, arr[i - j])\n",
    "                dp[i] = max(dp[i], dp[i - j] + max_val * j)\n",
    "\n",
    "        return dp[n]"
   ]
  }
 ],
 "metadata": {
  "kernelspec": {
   "display_name": "base",
   "language": "python",
   "name": "python3"
  },
  "language_info": {
   "codemirror_mode": {
    "name": "ipython",
    "version": 3
   },
   "file_extension": ".py",
   "mimetype": "text/x-python",
   "name": "python",
   "nbconvert_exporter": "python",
   "pygments_lexer": "ipython3",
   "version": "3.9.16"
  }
 },
 "nbformat": 4,
 "nbformat_minor": 2
}

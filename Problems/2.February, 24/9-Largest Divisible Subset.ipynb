{
 "cells": [
  {
   "cell_type": "markdown",
   "metadata": {},
   "source": [
    "Given a set of **distinct** positive integers `nums`, return the largest subset `answer` such that every pair `(answer[i], answer[j])` of elements in this subset satisfies:\n",
    "- answer[i] % answer[j] == 0, or\n",
    "- answer[j] % answer[i] == 0\n",
    "\n",
    "If there are multiple solutions, return any of them.\n",
    "\n",
    "<br> \n",
    "\n",
    "**Example 1:**\n",
    ">**Input:** nums = [1,2,3]<br>\n",
    ">**Output:** [1,2]<br>\n",
    ">**Explanation:** [1,3] is also accepted.\n",
    "\n",
    "\n",
    "**Example 2:**\n",
    ">**Input:** nums = [1,2,4,8]<br>\n",
    ">**Output:** [1,2,4,8]\n",
    " \n",
    "\n",
    "**Constraints:**\n",
    "- >1 <= nums.length <= 1000\n",
    "- >1 <= nums[i] <= 2 * 10<sup>9</sup>\n",
    "- >All the integers in nums are **unique**."
   ]
  },
  {
   "cell_type": "code",
   "execution_count": 1,
   "metadata": {},
   "outputs": [],
   "source": [
    "class Solution:\n",
    "    def largestDivisibleSubset(self, nums: list[int]) -> list[int]:\n",
    "        if not nums:\n",
    "            return []\n",
    "        \n",
    "        nums.sort()\n",
    "        dp = [[num] for num in nums]\n",
    "\n",
    "        for i in range(len(nums)):\n",
    "            for j in range(i):\n",
    "                if nums[i] % nums[j] == 0 and len(dp[j]) + 1 > len(dp[i]):\n",
    "                    dp[i] = dp[j] + [nums[i]]\n",
    "\n",
    "        return max(dp, key=len)"
   ]
  }
 ],
 "metadata": {
  "kernelspec": {
   "display_name": "base",
   "language": "python",
   "name": "python3"
  },
  "language_info": {
   "codemirror_mode": {
    "name": "ipython",
    "version": 3
   },
   "file_extension": ".py",
   "mimetype": "text/x-python",
   "name": "python",
   "nbconvert_exporter": "python",
   "pygments_lexer": "ipython3",
   "version": "3.9.16"
  }
 },
 "nbformat": 4,
 "nbformat_minor": 2
}

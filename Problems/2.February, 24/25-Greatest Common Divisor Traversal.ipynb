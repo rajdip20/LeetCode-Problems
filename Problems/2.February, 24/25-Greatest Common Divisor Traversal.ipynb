{
 "cells": [
  {
   "cell_type": "markdown",
   "metadata": {},
   "source": [
    "You are given a **0-indexed** integer array `nums`, and you are allowed to traverse between its indices. You can **traverse** between index `i` and index `j`, `i != j`, if and only if `gcd(nums[i], nums[j]) > 1`, where `gcd` is the **greatest common divisor**.\n",
    "\n",
    "Your task is to determine if for **every pair** of indices `i` and `j` in nums, where `i < j`, there exists a **sequence of traversals** that can take us from `i` to `j`.\n",
    "\n",
    "Return `true` *if it is possible to traverse between all such pairs of indices, or* `false` *otherwise*.\n",
    "\n",
    "<br>\n",
    "\n",
    "**Example 1:**\n",
    ">**Input:** nums = [2,3,6]<br>\n",
    ">**Output:** true<br>\n",
    ">**Explanation:** In this example, there are 3 possible pairs of indices: (0, 1), (0, 2), and (1, 2).<br>\n",
    ">To go from index 0 to index 1, we can use the sequence of traversals 0 -> 2 -> 1, where we move from index 0 to index 2 because gcd(nums[0], nums[2]) = gcd(2, 6) = 2 > 1, and then move from index 2 to index 1 because gcd(nums[2], nums[1]) = gcd(6, 3) = 3 > 1.<br>\n",
    ">To go from index 0 to index 2, we can just go directly because gcd(nums[0], nums[2]) = gcd(2, 6) = 2 > 1. Likewise, to go from index 1 to index 2, we can just go directly because gcd(nums[1], nums[2]) = gcd(3, 6) = 3 > 1.\n",
    "\n",
    "**Example 2:**\n",
    ">**Input:** nums = [3,9,5]<br>\n",
    ">**Output:** false<br>\n",
    ">**Explanation:** No sequence of traversals can take us from index 0 to index 2 in this example. So, we return false.\n",
    "\n",
    "**Example 3:**\n",
    ">**Input:** nums = [4,3,12,8]<br>\n",
    ">**Output:** true<br>\n",
    ">**Explanation:** There are 6 possible pairs of indices to traverse between: (0, 1), (0, 2), (0, 3), (1, 2), (1, 3), and (2, 3). A valid sequence of traversals exists for each pair, so we return true.\n",
    " \n",
    "<br>\n",
    "\n",
    "**Constraints:**\n",
    "- >1 <= nums.length <= 10<sup>5</sup>\n",
    "- >1 <= nums[i] <= 10<sup>5</sup>"
   ]
  },
  {
   "cell_type": "code",
   "execution_count": 1,
   "metadata": {},
   "outputs": [],
   "source": [
    "class Solution:\n",
    "    def canTraverseAllPairs(self, nums: list[int]) -> bool:\n",
    "        from math import gcd\n",
    "        \n",
    "        if len(nums) == 1:\n",
    "            return True\n",
    "        \n",
    "        nums = set(nums)\n",
    "        \n",
    "        if 1 in nums:\n",
    "            return False\n",
    "        \n",
    "        if len(nums) == 1:\n",
    "            return True\n",
    "        \n",
    "        nums = sorted(nums, reverse=True)\n",
    "\n",
    "        for i in range(len(nums) - 1):\n",
    "            for j in range(i + 1, len(nums)):\n",
    "                \n",
    "                if gcd(nums[i], nums[j]) - 1:\n",
    "                    nums[j] *= nums[i]\n",
    "                    break\n",
    "            else:\n",
    "                return False\n",
    "        \n",
    "        return True"
   ]
  }
 ],
 "metadata": {
  "kernelspec": {
   "display_name": "base",
   "language": "python",
   "name": "python3"
  },
  "language_info": {
   "codemirror_mode": {
    "name": "ipython",
    "version": 3
   },
   "file_extension": ".py",
   "mimetype": "text/x-python",
   "name": "python",
   "nbconvert_exporter": "python",
   "pygments_lexer": "ipython3",
   "version": "3.9.16"
  }
 },
 "nbformat": 4,
 "nbformat_minor": 2
}

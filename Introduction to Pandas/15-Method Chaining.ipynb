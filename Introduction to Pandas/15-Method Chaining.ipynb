{
 "cells": [
  {
   "cell_type": "markdown",
   "metadata": {},
   "source": [
    ">DataFrame `animals`\n",
    ">| Column Name | Type |\n",
    ">| :- | :- |\n",
    ">| name | object |\n",
    ">| species | object |\n",
    ">| age | int |\n",
    ">| weight | int |\n",
    "\n",
    "Write a solution to list the names of animals that weigh **strictly more than** `100` kilograms.\n",
    "\n",
    "Return the animals sorted by weight in **descending order**.\n",
    "\n",
    "The result format is in the following example.\n",
    "\n",
    "**Example 1:**\n",
    ">**Input:** <br>\n",
    ">DataFrame animals:\n",
    ">| name | species | age | weight |\n",
    ">| :- | :- | :- | :- |\n",
    ">| Tatiana | Snake | 98 | 464 |\n",
    ">| Khaled | Giraffe | 50 | 41 |\n",
    ">| Alex | Leopard | 6 | 328 |\n",
    ">| Jonathan | Monkey | 45 | 463 |\n",
    ">| Stefan | Bear | 100 | 50 |\n",
    ">| Tommy | Panda | 26 | 349 |\n",
    ">\n",
    ">**Output:**\n",
    ">| name |\n",
    ">| :- |\n",
    ">| Tatiana |\n",
    ">| Jonathan |\n",
    ">| Tommy |\n",
    ">| Alex |\n",
    ">\n",
    ">**Explanation:** \n",
    ">All animals weighing more than 100 should be included in the results table.<br>\n",
    ">Tatiana's weight is 464, Jonathan's weight is 463, Tommy's weight is 349, and Alex's weight is 328.<br>\n",
    ">The results should be sorted in descending order of weight.\n",
    " \n",
    "<br><br>\n",
    "\n",
    "In Pandas, **method chaining** enables us to perform operations on a DataFrame without breaking up each operation into a separate line or creating multiple temporary variables. \n",
    "\n",
    "Can you complete this task in just **one line** of code using method chaining?"
   ]
  },
  {
   "cell_type": "code",
   "execution_count": 1,
   "metadata": {},
   "outputs": [],
   "source": [
    "import pandas as pd\n",
    "\n",
    "def findHeavyAnimals(animals: pd.DataFrame) -> pd.DataFrame:\n",
    "    return animals.sort_values(by='weight', ascending=False).loc[animals['weight']>100,['name']]"
   ]
  }
 ],
 "metadata": {
  "kernelspec": {
   "display_name": "base",
   "language": "python",
   "name": "python3"
  },
  "language_info": {
   "codemirror_mode": {
    "name": "ipython",
    "version": 3
   },
   "file_extension": ".py",
   "mimetype": "text/x-python",
   "name": "python",
   "nbconvert_exporter": "python",
   "pygments_lexer": "ipython3",
   "version": "3.9.16"
  }
 },
 "nbformat": 4,
 "nbformat_minor": 2
}

{
 "cells": [
  {
   "cell_type": "markdown",
   "metadata": {},
   "source": [
    ">DataFrame `employees`\n",
    ">| Column Name | Type |\n",
    ">| :- | :- |\n",
    ">| name | object |\n",
    ">| salary | int |\n",
    "\n",
    "A company intends to give its employees a pay rise.\n",
    "\n",
    "Write a solution to **modify** the `salary` column by multiplying each salary by 2.\n",
    "\n",
    "The result format is in the following example.\n",
    "\n",
    " \n",
    "\n",
    "**Example 1:**\n",
    ">**Input:**<br>\n",
    ">DataFrame employees\n",
    ">| name | salary |\n",
    ">| :- | :- |\n",
    ">| Jack | 19666 |\n",
    ">| Piper | 74754 |\n",
    ">| Mia | 62509 |\n",
    ">| Ulysses | 54866 |\n",
    ">\n",
    ">**Output:**<br>\n",
    ">| name | salary |\n",
    ">| :- | :- |\n",
    ">| Jack | 39332 |\n",
    ">| Piper | 149508 |\n",
    ">| Mia | 125018 |\n",
    ">| Ulysses | 109732 |\n",
    ">\n",
    ">**Explanation:**<br>\n",
    ">Every salary has been doubled."
   ]
  },
  {
   "cell_type": "code",
   "execution_count": 1,
   "metadata": {},
   "outputs": [],
   "source": [
    "import pandas as pd\n",
    "\n",
    "def modifySalaryColumn(employees: pd.DataFrame) -> pd.DataFrame:\n",
    "    employees['salary'] *= 2\n",
    "    return employees"
   ]
  }
 ],
 "metadata": {
  "kernelspec": {
   "display_name": "base",
   "language": "python",
   "name": "python3"
  },
  "language_info": {
   "codemirror_mode": {
    "name": "ipython",
    "version": 3
   },
   "file_extension": ".py",
   "mimetype": "text/x-python",
   "name": "python",
   "nbconvert_exporter": "python",
   "pygments_lexer": "ipython3",
   "version": "3.9.16"
  }
 },
 "nbformat": 4,
 "nbformat_minor": 2
}

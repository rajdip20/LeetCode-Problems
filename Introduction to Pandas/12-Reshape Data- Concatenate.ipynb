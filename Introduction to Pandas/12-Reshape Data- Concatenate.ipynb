{
 "cells": [
  {
   "cell_type": "markdown",
   "metadata": {},
   "source": [
    ">DataFrame `df1`\n",
    ">| Column Name | Type |\n",
    ">| :- | :- |\n",
    ">| student_id | int |\n",
    ">| name | object |\n",
    ">| age | int |\n",
    ">\n",
    ">DataFrame `df2`\n",
    ">| Column Name | Type |\n",
    ">| :- | :- |\n",
    ">| student_id  | int |\n",
    ">| name | object |\n",
    ">| age | int |\n",
    "\n",
    "Write a solution to concatenate these two DataFrames **vertically** into one DataFrame.\n",
    "\n",
    "The result format is in the following example.\n",
    "\n",
    " \n",
    "\n",
    "**Example 1:**\n",
    "\n",
    ">**Input:**<br>\n",
    ">**df1**\n",
    ">| student_id | name | age |\n",
    ">| :- | :- | :- |\n",
    ">| 1 | Mason | 8 |\n",
    ">| 2 | Ava | 6 |\n",
    ">| 3 | Taylor | 15 |\n",
    ">| 4 | Georgia | 17 |\n",
    ">\n",
    ">**df2**\n",
    ">| student_id | name | age |\n",
    ">| :- | :- | :- |\n",
    ">| 5 | Leo | 7 |\n",
    ">| 6 | Alex | 7 |\n",
    ">\n",
    ">**Output:**\n",
    ">| student_id | name | age |\n",
    ">|:- | :- | :- |\n",
    ">| 1 | Mason | 8 |\n",
    ">| 2 | Ava | 6 |\n",
    ">| 3 | Taylor | 15 |\n",
    ">| 4 | Georgia | 17 |\n",
    ">| 5 | Leo | 7 |\n",
    ">| 6 | Alex | 7 |\n",
    ">\n",
    ">**Explanation:**<br>\n",
    ">The two DataFramess are stacked vertically, and their rows are combined."
   ]
  },
  {
   "cell_type": "code",
   "execution_count": 1,
   "metadata": {},
   "outputs": [],
   "source": [
    "import pandas as pd\n",
    "\n",
    "def concatenateTables(df1: pd.DataFrame, df2: pd.DataFrame) -> pd.DataFrame:\n",
    "    return pd.concat([df1, df2])"
   ]
  }
 ],
 "metadata": {
  "kernelspec": {
   "display_name": "base",
   "language": "python",
   "name": "python3"
  },
  "language_info": {
   "codemirror_mode": {
    "name": "ipython",
    "version": 3
   },
   "file_extension": ".py",
   "mimetype": "text/x-python",
   "name": "python",
   "nbconvert_exporter": "python",
   "pygments_lexer": "ipython3",
   "version": "3.9.16"
  }
 },
 "nbformat": 4,
 "nbformat_minor": 2
}

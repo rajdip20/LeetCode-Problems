{
 "cells": [
  {
   "cell_type": "markdown",
   "metadata": {},
   "source": [
    ">DataFrame `employees`\n",
    ">| Column Name | Type. |\n",
    ">| :- | :- |\n",
    ">| name | object |\n",
    ">| salary | int |\n",
    "\n",
    "A company plans to provide its employees with a bonus.\n",
    "\n",
    "Write a solution to create a new column name `bonus` that contains the **doubled values** of the `salary` column.\n",
    "\n",
    "The result format is in the following example.\n",
    "\n",
    " \n",
    "\n",
    "**Example 1:**\n",
    ">**Input:**<br>\n",
    ">DataFrame employees<br>\n",
    ">| name | salary |\n",
    ">| :- | :- |\n",
    ">| Piper | 4548 |\n",
    ">| Grace | 28150 |\n",
    ">| Georgia | 1103 |\n",
    ">| Willow | 6593 |\n",
    ">| Finn | 74576 |\n",
    ">| Thomas | 24433 |\n",
    ">\n",
    ">**Output:**<br>\n",
    ">| name | salary | bonus |\n",
    ">| :- | :- | :- |\n",
    ">| Piper | 4548 | 9096 |\n",
    ">| Grace | 28150 | 56300 |\n",
    ">| Georgia | 1103 | 2206 |\n",
    ">| Willow | 6593 | 13186 |\n",
    ">| Finn | 74576 | 149152 |\n",
    ">| Thomas | 24433 | 48866 |\n",
    ">\n",
    ">**Explanation:**<br> \n",
    ">A new column bonus is created by doubling the value in the column salary."
   ]
  },
  {
   "cell_type": "code",
   "execution_count": 1,
   "metadata": {},
   "outputs": [],
   "source": [
    "import pandas as pd\n",
    "\n",
    "def createBonusColumn(employees: pd.DataFrame) -> pd.DataFrame:\n",
    "    employees['bonus'] = employees['salary'] * 2\n",
    "\n",
    "    return employees"
   ]
  }
 ],
 "metadata": {
  "kernelspec": {
   "display_name": "base",
   "language": "python",
   "name": "python3"
  },
  "language_info": {
   "codemirror_mode": {
    "name": "ipython",
    "version": 3
   },
   "file_extension": ".py",
   "mimetype": "text/x-python",
   "name": "python",
   "nbconvert_exporter": "python",
   "pygments_lexer": "ipython3",
   "version": "3.9.16"
  }
 },
 "nbformat": 4,
 "nbformat_minor": 2
}

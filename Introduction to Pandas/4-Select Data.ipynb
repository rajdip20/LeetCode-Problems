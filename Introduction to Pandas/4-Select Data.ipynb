{
 "cells": [
  {
   "cell_type": "markdown",
   "metadata": {},
   "source": [
    ">DataFrame students\n",
    ">| Column Name | Type |\n",
    ">| :- | :- |\n",
    ">| student_id | int |\n",
    ">| name | object |\n",
    ">| age | int |\n",
    "\n",
    "\n",
    "Write a solution to select the name and age of the student with `student_id = 101`.\n",
    "\n",
    "The result format is in the following example.\n",
    "\n",
    " \n",
    "\n",
    "**Example 1:**\n",
    ">**Input:**<br>\n",
    ">| student_id | name | age |\n",
    ">| :- | :- | :- |\n",
    ">| 101 | Ulysses | 13 |\n",
    ">| 53 | William | 10 |\n",
    ">| 128 | Henry | 6 |\n",
    ">| 3 | Henry | 11 |\n",
    ">\n",
    ">**Output:**<br>\n",
    ">| name | age | \n",
    ">| :- | :- |\n",
    ">| Ulysses | 13 |\n",
    ">\n",
    ">**Explanation:**<br>\n",
    ">Student Ulysses has student_id = 101, we select the name and age."
   ]
  },
  {
   "cell_type": "code",
   "execution_count": 1,
   "metadata": {},
   "outputs": [],
   "source": [
    "import pandas as pd\n",
    "\n",
    "def selectData(students: pd.DataFrame) -> pd.DataFrame:\n",
    "    return students[students['student_id'] == 101][['name', 'age']]"
   ]
  }
 ],
 "metadata": {
  "kernelspec": {
   "display_name": "base",
   "language": "python",
   "name": "python3"
  },
  "language_info": {
   "codemirror_mode": {
    "name": "ipython",
    "version": 3
   },
   "file_extension": ".py",
   "mimetype": "text/x-python",
   "name": "python",
   "nbconvert_exporter": "python",
   "pygments_lexer": "ipython3",
   "version": "3.9.16"
  }
 },
 "nbformat": 4,
 "nbformat_minor": 2
}

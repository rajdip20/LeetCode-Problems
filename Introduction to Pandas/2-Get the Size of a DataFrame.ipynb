{
 "cells": [
  {
   "cell_type": "markdown",
   "metadata": {},
   "source": [
    ">DataFrame players:<br>\n",
    ">| Column Name | Type |\n",
    ">| :- | :- |\n",
    ">| player_id | int |\n",
    ">| name | object |\n",
    ">| age | int |\n",
    ">| position | object |\n",
    ">| ... | ... |\n",
    "\n",
    "Write a solution to calculate and display the **number of rows and columns** of `players`.\n",
    "\n",
    "Return the result as an array:\n",
    "\n",
    "`[number of rows, number of columns]`\n",
    "\n",
    "The result format is in the following example.\n",
    "\n",
    "<br>\n",
    "\n",
    "**Example 1:**\n",
    ">**Input:**<br>\n",
    ">| player_id | name | age | position | team |\n",
    ">| :- | :- | :- | :- | :- |\n",
    ">| 846 | Mason | 21 | Forward | RealMadrid |\n",
    ">| 749 | Riley | 30 | Winger | Barcelona |\n",
    ">| 155 | Bob | 28 | Striker | ManchesterUnited |\n",
    ">| 583 | Isabella | 32 | Goalkeeper | Liverpool |\n",
    ">| 388 | Zachary | 24 | Midfielder | BayernMunich |\n",
    ">| 883 | Ava | 23 | Defender | Chelsea |\n",
    ">| 355 | Violet | 18 | Striker | Juventus |\n",
    ">| 247 | Thomas | 27 | Striker | ParisSaint-Germain |\n",
    ">| 761 | Jack | 33 | Midfielder | ManchesterCity |\n",
    ">| 642 | Charlie | 36 | Center-back | Arsenal |\n",
    "\n",
    "> <br>\n",
    "\n",
    ">**Output:**<br>\n",
    ">[10, 5]<br>\n",
    ">**Explanation:**<br>\n",
    ">This DataFrame contains 10 rows and 5 columns."
   ]
  },
  {
   "cell_type": "code",
   "execution_count": 1,
   "metadata": {},
   "outputs": [],
   "source": [
    "import pandas as pd\n",
    "\n",
    "def getDataframeSize(players: pd.DataFrame) -> list[int]:\n",
    "    row, column = players.shape\n",
    "    return [row, column]"
   ]
  }
 ],
 "metadata": {
  "kernelspec": {
   "display_name": "base",
   "language": "python",
   "name": "python3"
  },
  "language_info": {
   "codemirror_mode": {
    "name": "ipython",
    "version": 3
   },
   "file_extension": ".py",
   "mimetype": "text/x-python",
   "name": "python",
   "nbconvert_exporter": "python",
   "pygments_lexer": "ipython3",
   "version": "3.9.16"
  }
 },
 "nbformat": 4,
 "nbformat_minor": 2
}

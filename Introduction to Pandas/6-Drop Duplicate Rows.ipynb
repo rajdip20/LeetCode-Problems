{
 "cells": [
  {
   "cell_type": "markdown",
   "metadata": {},
   "source": [
    ">DataFrame customers\n",
    ">| Column Name | Type |\n",
    ">| :- | :- |\n",
    ">| customer_id | int |\n",
    ">| name | object |\n",
    ">| email | object |\n",
    "\n",
    "There are some duplicate rows in the DataFrame based on the `email` column.\n",
    "\n",
    "Write a solution to remove these duplicate rows and keep only the **first** occurrence.\n",
    "\n",
    "The result format is in the following example.\n",
    "\n",
    " \n",
    "\n",
    "**Example 1:**\n",
    ">**Input:**<br>\n",
    ">| customer_id | name | email |\n",
    ">| :- | :- | :- |\n",
    ">| 1 | Ella | emily@example.com |\n",
    ">| 2 | David | michael@example.com |\n",
    ">| 3 | Zachary | sarah@example.com |\n",
    ">| 4 | Alice | john@example.com |\n",
    ">| 5 | Finn | john@example.com |\n",
    ">| 6 | Violet | alice@example.com |\n",
    ">\n",
    ">**Output:**<br>  \n",
    ">| customer_id | name | email |\n",
    ">| :- | :- | :- |\n",
    ">| 1 | Ella | emily@example.com |\n",
    ">| 2 | David | michael@example.com |\n",
    ">| 3 | Zachary | sarah@example.com |\n",
    ">| 4 | Alice | john@example.com |\n",
    ">| 6 | Violet | alice@example.com |\n",
    ">\n",
    ">**Explanation:**<br>\n",
    ">Alic (customer_id = 4) and Finn (customer_id = 5) both use john@example.com, so only the first occurrence of this email is retained."
   ]
  },
  {
   "cell_type": "code",
   "execution_count": 1,
   "metadata": {},
   "outputs": [],
   "source": [
    "import pandas as pd\n",
    "\n",
    "def dropDuplicateEmails(customers: pd.DataFrame) -> pd.DataFrame:\n",
    "    return customers.drop_duplicates('email')"
   ]
  }
 ],
 "metadata": {
  "kernelspec": {
   "display_name": "base",
   "language": "python",
   "name": "python3"
  },
  "language_info": {
   "codemirror_mode": {
    "name": "ipython",
    "version": 3
   },
   "file_extension": ".py",
   "mimetype": "text/x-python",
   "name": "python",
   "nbconvert_exporter": "python",
   "pygments_lexer": "ipython3",
   "version": "3.9.16"
  }
 },
 "nbformat": 4,
 "nbformat_minor": 2
}

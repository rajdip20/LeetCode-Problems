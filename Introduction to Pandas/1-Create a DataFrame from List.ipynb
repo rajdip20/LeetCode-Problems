{
 "cells": [
  {
   "cell_type": "markdown",
   "metadata": {},
   "source": [
    "Write a solution to **create** a DataFrame from a 2D list called `student_data`. This 2D list contains the IDs and ages of some students.\n",
    "\n",
    "The DataFrame should have two columns, `student_id` and `age`, and be in the same order as the original 2D list.\n",
    "\n",
    "The result format is in the following example.\n",
    "\n",
    "<br> \n",
    "\n",
    "**Example 1:**\n",
    ">**Input:**<br>\n",
    ">student_data:<br>\n",
    ">[<br>\n",
    ">&emsp;[1, 15],<br>\n",
    ">&emsp;[2, 11],<br>\n",
    ">&emsp;[3, 11],<br>\n",
    ">&emsp;[4, 20]<br>\n",
    ">]<br>\n",
    ">**Output:**<br>\n",
    ">| student_id | age |\n",
    ">| :- | :- |\n",
    ">| 1          | 15  |\n",
    ">| 2          | 11  |\n",
    ">| 3          | 11  |\n",
    ">| 4          | 20  |\n",
    "\n",
    "> <br>\n",
    "\n",
    ">**Explanation:**<br>\n",
    ">A DataFrame was created on top of student_data, with two columns named `student_id` and `age`."
   ]
  },
  {
   "cell_type": "code",
   "execution_count": 1,
   "metadata": {},
   "outputs": [],
   "source": [
    "import pandas as pd\n",
    "\n",
    "def createDataframe(student_data: list[list[int]]) -> pd.DataFrame:\n",
    "    return pd.DataFrame(student_data, columns=['student_id', 'age'])"
   ]
  }
 ],
 "metadata": {
  "kernelspec": {
   "display_name": "base",
   "language": "python",
   "name": "python3"
  },
  "language_info": {
   "codemirror_mode": {
    "name": "ipython",
    "version": 3
   },
   "file_extension": ".py",
   "mimetype": "text/x-python",
   "name": "python",
   "nbconvert_exporter": "python",
   "pygments_lexer": "ipython3",
   "version": "3.9.16"
  }
 },
 "nbformat": 4,
 "nbformat_minor": 2
}

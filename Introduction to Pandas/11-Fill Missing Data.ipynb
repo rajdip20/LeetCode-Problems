{
 "cells": [
  {
   "cell_type": "markdown",
   "metadata": {},
   "source": [
    ">DataFrame `products`\n",
    ">| Column Name | Type |\n",
    ">| :- | :- |\n",
    ">| name | object |\n",
    ">| quantity | int |\n",
    ">| price | int |\n",
    "\n",
    "Write a solution to fill in the missing value as `0` in the `quantity` column.\n",
    "\n",
    "The result format is in the following example.\n",
    "\n",
    " \n",
    "\n",
    "**Example 1:**\n",
    ">**Input:**\n",
    ">| name | quantity | price |\n",
    ">| :- |:- | :- |\n",
    ">| Wristwatch | None | 135 |\n",
    ">| WirelessEarbuds | None | 821 |\n",
    ">| GolfClubs | 779 | 9319 |\n",
    ">| Printer | 849 | 3051 |\n",
    ">\n",
    ">**Output:**\n",
    ">| name | quantity | price |\n",
    ">| :- | :- | :- |\n",
    ">| Wristwatch | 0 | 135 |\n",
    ">| WirelessEarbuds | 0 | 821 |\n",
    ">| GolfClubs | 779 | 9319 |\n",
    ">| Printer | 849 | 3051 |\n",
    ">\n",
    ">**Explanation:** <br>\n",
    ">The quantity for Wristwatch and WirelessEarbuds are filled by 0."
   ]
  },
  {
   "cell_type": "code",
   "execution_count": 1,
   "metadata": {},
   "outputs": [],
   "source": [
    "import pandas as pd\n",
    "\n",
    "def fillMissingValues(products: pd.DataFrame) -> pd.DataFrame:\n",
    "    products['quantity'].fillna(0, inplace = True)\n",
    "    return products"
   ]
  }
 ],
 "metadata": {
  "kernelspec": {
   "display_name": "base",
   "language": "python",
   "name": "python3"
  },
  "language_info": {
   "codemirror_mode": {
    "name": "ipython",
    "version": 3
   },
   "file_extension": ".py",
   "mimetype": "text/x-python",
   "name": "python",
   "nbconvert_exporter": "python",
   "pygments_lexer": "ipython3",
   "version": "3.9.16"
  }
 },
 "nbformat": 4,
 "nbformat_minor": 2
}

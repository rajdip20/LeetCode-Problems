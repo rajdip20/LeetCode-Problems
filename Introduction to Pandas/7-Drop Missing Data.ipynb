{
 "cells": [
  {
   "cell_type": "markdown",
   "metadata": {},
   "source": [
    ">DataFrame students\n",
    "\n",
    ">| Column Name | Type |\n",
    ">| :- | :- |\n",
    ">| student_id | int |\n",
    ">| name | object |\n",
    ">| age | int |\n",
    "\n",
    "There are some rows having missing values in the `name` column.\n",
    "\n",
    "Write a solution to remove the rows with missing values.\n",
    "\n",
    "The result format is in the following example.\n",
    "\n",
    " \n",
    "\n",
    "**Example 1:**\n",
    ">**Input:**<br>\n",
    ">| student_id | name | age |\n",
    ">| :- | :- | :- |\n",
    ">| 32 | Piper | 5 |\n",
    ">| 217 | None | 19 |\n",
    ">| 779 | Georgia | 20 |\n",
    ">| 849 | Willow | 14 |\n",
    ">\n",
    ">**Output:**<br>\n",
    ">| student_id | name | age |\n",
    ">| :- | :- | :- |\n",
    ">| 32 | Piper | 5 |\n",
    ">| 779 | Georgia | 20 | \n",
    ">| 849 | Willow | 14 | \n",
    ">\n",
    ">**Explanation:**<br> \n",
    ">Student with id 217 havs empty value in the name column, so it will be removed."
   ]
  },
  {
   "cell_type": "code",
   "execution_count": 1,
   "metadata": {},
   "outputs": [],
   "source": [
    "import pandas as pd\n",
    "\n",
    "def dropMissingData(students: pd.DataFrame) -> pd.DataFrame:\n",
    "    return students.dropna(subset=['name'])"
   ]
  }
 ],
 "metadata": {
  "kernelspec": {
   "display_name": "base",
   "language": "python",
   "name": "python3"
  },
  "language_info": {
   "codemirror_mode": {
    "name": "ipython",
    "version": 3
   },
   "file_extension": ".py",
   "mimetype": "text/x-python",
   "name": "python",
   "nbconvert_exporter": "python",
   "pygments_lexer": "ipython3",
   "version": "3.9.16"
  }
 },
 "nbformat": 4,
 "nbformat_minor": 2
}

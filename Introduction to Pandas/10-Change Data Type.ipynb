{
 "cells": [
  {
   "cell_type": "markdown",
   "metadata": {},
   "source": [
    ">DataFrame `students`\n",
    ">| Column Name | Type |\n",
    ">| :- | :- |\n",
    ">| student_id | int |\n",
    ">| name | object |\n",
    ">| age | int |\n",
    ">| grade | float |\n",
    "\n",
    "Write a solution to correct the errors:\n",
    "\n",
    "The `grade` column is stored as floats, convert it to integers.\n",
    "\n",
    "The result format is in the following example.\n",
    "\n",
    " \n",
    "\n",
    "**Example 1:**\n",
    ">**Input:**<br>\n",
    ">DataFrame students:\n",
    ">| student_id | name | age | grade |\n",
    ">|:- | :- | :- | :- |\n",
    ">| 1 | Ava | 6 | 73.0 |\n",
    ">| 2 | Kate | 15 | 87.0 |\n",
    ">\n",
    ">**Output:**\n",
    ">| student_id | name | age | grade |\n",
    ">| :- | :- | :- | :- |\n",
    ">| 1 | Ava | 6 | 73 |\n",
    ">| 2 | Kate | 15 | 87 |\n",
    ">\n",
    ">**Explanation:** <br>\n",
    ">The data types of the column grade is converted to int."
   ]
  },
  {
   "cell_type": "code",
   "execution_count": 1,
   "metadata": {},
   "outputs": [],
   "source": [
    "import pandas as pd\n",
    "\n",
    "def changeDatatype(students: pd.DataFrame) -> pd.DataFrame:\n",
    "    students['grade'] = students[['grade']].astype(int)\n",
    "    return students"
   ]
  }
 ],
 "metadata": {
  "kernelspec": {
   "display_name": "base",
   "language": "python",
   "name": "python3"
  },
  "language_info": {
   "codemirror_mode": {
    "name": "ipython",
    "version": 3
   },
   "file_extension": ".py",
   "mimetype": "text/x-python",
   "name": "python",
   "nbconvert_exporter": "python",
   "pygments_lexer": "ipython3",
   "version": "3.9.16"
  }
 },
 "nbformat": 4,
 "nbformat_minor": 2
}

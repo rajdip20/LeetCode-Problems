{
 "cells": [
  {
   "cell_type": "markdown",
   "metadata": {},
   "source": [
    "Given an integer `n`, return *the number of trailing zeroes in* `n!`.\n",
    "\n",
    "Note that `n! = n * (n - 1) * (n - 2) * ... * 3 * 2 * 1`.\n",
    "\n",
    "<br>\n",
    "\n",
    "**Example 1:**\n",
    ">**Input:** n = 3<br>\n",
    ">**Output:** 0<br>\n",
    ">**Explanation:** 3! = 6, no trailing zero.\n",
    "\n",
    "**Example 2:**\n",
    ">**Input:** n = 5<br>\n",
    ">**Output:** 1<br>\n",
    ">**Explanation:** 5! = 120, one trailing zero.\n",
    "\n",
    "**Example 3:**\n",
    ">**Input:** n = 0<br>\n",
    ">**Output:** 0\n",
    "\n",
    "<br>\n",
    "\n",
    "**Constraints:**\n",
    "0 <= n <= 104\n",
    "\n",
    "<br><br>\n",
    "\n",
    "**Follow up:** Could you write a solution that works in logarithmic time complexity?"
   ]
  },
  {
   "cell_type": "code",
   "execution_count": 1,
   "metadata": {},
   "outputs": [],
   "source": [
    "class Solution:\n",
    "    def trailingZeroes(self, n: int) -> int:\n",
    "        count = 0\n",
    "        power_of_5 = 5\n",
    "        \n",
    "        while n >= power_of_5:\n",
    "            count += n // power_of_5\n",
    "            power_of_5 *= 5\n",
    "        \n",
    "        return count"
   ]
  }
 ],
 "metadata": {
  "kernelspec": {
   "display_name": "base",
   "language": "python",
   "name": "python3"
  },
  "language_info": {
   "codemirror_mode": {
    "name": "ipython",
    "version": 3
   },
   "file_extension": ".py",
   "mimetype": "text/x-python",
   "name": "python",
   "nbconvert_exporter": "python",
   "pygments_lexer": "ipython3",
   "version": "3.9.16"
  }
 },
 "nbformat": 4,
 "nbformat_minor": 2
}

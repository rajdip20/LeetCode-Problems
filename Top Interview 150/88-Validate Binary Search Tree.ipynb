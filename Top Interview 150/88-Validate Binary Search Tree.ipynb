{
 "cells": [
  {
   "cell_type": "markdown",
   "metadata": {},
   "source": [
    "Given the `root` of a binary tree, *determine if it is a valid binary search tree (BST)*.\n",
    "\n",
    "A **valid BST** is defined as follows:\n",
    "- The left subtree of a node contains only nodes with keys **less than** the node's key.\n",
    "- The right subtree of a node contains only nodes with keys **greater than** the node's key.\n",
    "- Both the left and right subtrees must also be binary search trees.\n",
    "\n",
    "<br>\n",
    "\n",
    "**Example 1:**\n",
    "\n",
    "![tree5](../images/tree5.jpg)\n",
    "\n",
    ">**Input:** root = [2,1,3]<br>\n",
    ">**Output:** true\n",
    "\n",
    "**Example 2:**\n",
    "\n",
    "![tree6](../images/tree6.jpg)\n",
    "\n",
    ">**Input:** root = [5,1,4,null,null,3,6]<br>\n",
    ">**Output:** false<br>\n",
    ">**Explanation:** The root node's value is 5 but its right child's value is 4.\n",
    "\n",
    "<br>\n",
    "\n",
    "**Constraints:**\n",
    "- >The number of nodes in the tree is in the range [1, 10<sup>4</sup>].\n",
    "- >-2<sup>31</sup> <= Node.val <= 2<sup>31</sup> - 1"
   ]
  },
  {
   "cell_type": "code",
   "execution_count": 1,
   "metadata": {},
   "outputs": [],
   "source": [
    "# Definition for a binary tree node.\n",
    "# class TreeNode:\n",
    "#     def __init__(self, val=0, left=None, right=None):\n",
    "#         self.val = val\n",
    "#         self.left = left\n",
    "#         self.right = right\n",
    "class Solution:\n",
    "    def isValidBST(self, root) -> bool:\n",
    "        self.prev = None\n",
    "        return self.validate(root)\n",
    "\n",
    "    def validate(self, root):\n",
    "        if root is None:\n",
    "            return True\n",
    "\n",
    "        if not self.validate(root.left):\n",
    "            return False\n",
    "\n",
    "        if self.prev is not None and self.prev >= root.val:\n",
    "            return False\n",
    "\n",
    "        self.prev = root.val\n",
    "\n",
    "        return self.validate(root.right)"
   ]
  }
 ],
 "metadata": {
  "kernelspec": {
   "display_name": "base",
   "language": "python",
   "name": "python3"
  },
  "language_info": {
   "codemirror_mode": {
    "name": "ipython",
    "version": 3
   },
   "file_extension": ".py",
   "mimetype": "text/x-python",
   "name": "python",
   "nbconvert_exporter": "python",
   "pygments_lexer": "ipython3",
   "version": "3.9.16"
  }
 },
 "nbformat": 4,
 "nbformat_minor": 2
}

{
 "cells": [
  {
   "cell_type": "markdown",
   "metadata": {},
   "source": [
    "Given two binary strings `a` and `b`, return *their sum as a binary string*.\n",
    "\n",
    "<br>\n",
    "\n",
    "**Example 1:**\n",
    ">**Input:** a = \"11\", b = \"1\"<br>\n",
    ">**Output:** \"100\"\n",
    "\n",
    "**Example 2:**\n",
    ">**Input:** a = \"1010\", b = \"1011\"<br>\n",
    ">**Output:** \"10101\"\n",
    "\n",
    "<br>\n",
    "\n",
    "**Constraints:**\n",
    "- >1 <= a.length, b.length <= 10<sup>4</sup>\n",
    "- >a and b consist only of '0' or '1' characters.\n",
    "- >Each string does not contain leading zeros except for the zero itself."
   ]
  },
  {
   "cell_type": "code",
   "execution_count": 1,
   "metadata": {},
   "outputs": [],
   "source": [
    "class Solution:\n",
    "    def addBinary(self, a: str, b: str) -> str:\n",
    "        result = []\n",
    "        carry = 0\n",
    "        i, j = len(a) - 1, len(b) - 1\n",
    "        \n",
    "        while i >= 0 or j >= 0 or carry:\n",
    "            bit_a = int(a[i]) if i >= 0 else 0\n",
    "            bit_b = int(b[j]) if j >= 0 else 0\n",
    "            \n",
    "            total = bit_a + bit_b + carry\n",
    "            carry = total // 2\n",
    "            result.append(str(total % 2))\n",
    "            \n",
    "            i -= 1\n",
    "            j -= 1\n",
    "        \n",
    "        return ''.join(result[::-1])"
   ]
  }
 ],
 "metadata": {
  "kernelspec": {
   "display_name": "base",
   "language": "python",
   "name": "python3"
  },
  "language_info": {
   "codemirror_mode": {
    "name": "ipython",
    "version": 3
   },
   "file_extension": ".py",
   "mimetype": "text/x-python",
   "name": "python",
   "nbconvert_exporter": "python",
   "pygments_lexer": "ipython3",
   "version": "3.9.16"
  }
 },
 "nbformat": 4,
 "nbformat_minor": 2
}

{
 "cells": [
  {
   "cell_type": "markdown",
   "metadata": {},
   "source": [
    "Given an input string `s`, reverse the order of the **words**.\n",
    "\n",
    "A **word** is defined as a sequence of non-space characters. The **words** in `s` will be separated by at least one space.\n",
    "\n",
    "Return *a string of the words in reverse order concatenated by a single space*.\n",
    "\n",
    "**Note** that `s` may contain leading or trailing spaces or multiple spaces between two words. The returned string should only have a single space separating the words. Do not include any extra spaces.\n",
    "\n",
    "<br>\n",
    "\n",
    "**Example 1:**\n",
    ">**Input:** s = \"the sky is blue\"<br>\n",
    ">**Output:** \"blue is sky the\"\n",
    "\n",
    "**Example 2:**\n",
    ">**Input:** s = \"  hello world  \"<br>\n",
    ">**Output:** \"world hello\"<br>\n",
    ">**Explanation:** Your reversed string should not contain leading or trailing spaces.\n",
    "\n",
    "**Example 3:**\n",
    ">**Input:** s = \"a good   example\"<br>\n",
    ">**Output:** \"example good a\"<br>\n",
    ">**Explanation:** You need to reduce multiple spaces between two words to a single space in the reversed string.\n",
    " \n",
    "<br>\n",
    "\n",
    "**Constraints:**\n",
    "- >1 <= s.length <= 10<sup>4</sup>\n",
    "- >s contains English letters (upper-case and lower-case), digits, and spaces `' '`.\n",
    "- >There is **at least one** word in s.\n",
    " \n",
    "\n",
    "**Follow-up:** If the string data type is mutable in your language, can you solve it **in-place** with `O(1)` extra space?"
   ]
  },
  {
   "cell_type": "code",
   "execution_count": 1,
   "metadata": {},
   "outputs": [],
   "source": [
    "class Solution:\n",
    "    def reverseWords(self, s: str) -> str:\n",
    "        s = s.strip()\n",
    "        words = s.split()\n",
    "        words.reverse()\n",
    "        return ' '.join(words)"
   ]
  }
 ],
 "metadata": {
  "kernelspec": {
   "display_name": "base",
   "language": "python",
   "name": "python3"
  },
  "language_info": {
   "codemirror_mode": {
    "name": "ipython",
    "version": 3
   },
   "file_extension": ".py",
   "mimetype": "text/x-python",
   "name": "python",
   "nbconvert_exporter": "python",
   "pygments_lexer": "ipython3",
   "version": "3.9.16"
  }
 },
 "nbformat": 4,
 "nbformat_minor": 2
}

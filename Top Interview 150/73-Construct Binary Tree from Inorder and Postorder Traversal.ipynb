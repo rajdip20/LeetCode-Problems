{
 "cells": [
  {
   "cell_type": "markdown",
   "metadata": {},
   "source": [
    "Given two integer arrays `inorder` and `postorder` where `inorder` is the inorder traversal of a binary tree and `postorder` is the postorder traversal of the same tree, construct and return *the binary tree*.\n",
    "\n",
    "<br>\n",
    "\n",
    "**Example 1:**\n",
    "\n",
    "![tree](../images/tree.jpg)\n",
    "\n",
    ">**Input:** inorder = [9,3,15,20,7], postorder = [9,15,7,20,3]<br>\n",
    ">**Output:** [3,9,20,null,null,15,7]\n",
    "\n",
    "**Example 2:**\n",
    ">**Input:** inorder = [-1], postorder = [-1]<br>\n",
    ">**Output:** [-1]\n",
    " \n",
    "\n",
    "**Constraints:**\n",
    "- >1 <= inorder.length <= 3000\n",
    "- >postorder.length == inorder.length\n",
    "- >-3000 <= inorder[i], postorder[i] <= 3000\n",
    "- >inorder and postorder consist of **unique** values.\n",
    "- >Each value of postorder also appears in inorder.\n",
    "- >inorder is **guaranteed** to be the inorder traversal of the tree.\n",
    "- >postorder is **guaranteed** to be the postorder traversal of the tree."
   ]
  },
  {
   "cell_type": "code",
   "execution_count": 1,
   "metadata": {},
   "outputs": [],
   "source": [
    "# Definition for a binary tree node.\n",
    "# class TreeNode:\n",
    "#     def __init__(self, val=0, left=None, right=None):\n",
    "#         self.val = val\n",
    "#         self.left = left\n",
    "#         self.right = right\n",
    "class Solution:\n",
    "    def buildTree(self, inorder: list[int], postorder: list[int]):\n",
    "        def helper(in_start, in_end, post_start, post_end):\n",
    "            if in_start > in_end or post_start > post_end:\n",
    "                return None\n",
    "            \n",
    "            root_val = postorder[post_end]\n",
    "            root = TreeNode(root_val)\n",
    "            \n",
    "            root_idx = inorder.index(root_val)\n",
    "            left_size = root_idx - in_start\n",
    "            \n",
    "            root.left = helper(in_start, root_idx - 1, post_start, post_start + left_size - 1)\n",
    "            root.right = helper(root_idx + 1, in_end, post_start + left_size, post_end - 1)\n",
    "            \n",
    "            return root\n",
    "        \n",
    "        return helper(0, len(inorder) - 1, 0, len(postorder) - 1)"
   ]
  }
 ],
 "metadata": {
  "kernelspec": {
   "display_name": "base",
   "language": "python",
   "name": "python3"
  },
  "language_info": {
   "codemirror_mode": {
    "name": "ipython",
    "version": 3
   },
   "file_extension": ".py",
   "mimetype": "text/x-python",
   "name": "python",
   "nbconvert_exporter": "python",
   "pygments_lexer": "ipython3",
   "version": "3.9.16"
  }
 },
 "nbformat": 4,
 "nbformat_minor": 2
}

{
 "cells": [
  {
   "cell_type": "markdown",
   "metadata": {},
   "source": [
    "Given an array of integers `citations` where `citations[i]` is the number of citations a researcher received for their **i<sup>th</sup>** paper, return *the researcher's h-index*.\n",
    "\n",
    "According to the [definition of h-index on Wikipedia](https://en.wikipedia.org/wiki/H-index): The h-index is defined as the maximum value of `h` such that the given researcher has published at least `h` papers that have each been cited at least `h` times.\n",
    "\n",
    "<br>\n",
    "\n",
    "**Example 1:**\n",
    ">**Input:** citations = [3,0,6,1,5]<br>\n",
    ">**Output:** 3<br>\n",
    ">**Explanation:** [3,0,6,1,5] means the researcher has 5 papers in total and each of them had received 3, 0, 6, 1, 5 citations respectively.<br>\n",
    ">Since the researcher has 3 papers with at least 3 citations each and the remaining two with no more than 3 citations each, their h-index is 3.\n",
    "\n",
    "\n",
    "**Example 2:**\n",
    ">**Input:** citations = [1,3,1]<br>\n",
    ">**Output:** 1\n",
    "\n",
    "<br>\n",
    "\n",
    "**Constraints:**\n",
    "- >n == citations.length\n",
    "- >1 <= n <= 5000\n",
    "- >0 <= citations[i] <= 1000"
   ]
  },
  {
   "cell_type": "code",
   "execution_count": 1,
   "metadata": {},
   "outputs": [],
   "source": [
    "class Solution:\n",
    "    def hIndex(self, citations: list[int]) -> int:\n",
    "        citations.sort(reverse=True)\n",
    "        h = 0\n",
    "        \n",
    "        while h < len(citations) and citations[h] > h:\n",
    "            h += 1\n",
    "        \n",
    "        return h"
   ]
  }
 ],
 "metadata": {
  "kernelspec": {
   "display_name": "base",
   "language": "python",
   "name": "python3"
  },
  "language_info": {
   "codemirror_mode": {
    "name": "ipython",
    "version": 3
   },
   "file_extension": ".py",
   "mimetype": "text/x-python",
   "name": "python",
   "nbconvert_exporter": "python",
   "pygments_lexer": "ipython3",
   "version": "3.9.16"
  }
 },
 "nbformat": 4,
 "nbformat_minor": 2
}

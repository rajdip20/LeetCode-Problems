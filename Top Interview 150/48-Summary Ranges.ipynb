{
 "cells": [
  {
   "cell_type": "markdown",
   "metadata": {},
   "source": [
    "You are given a **sorted unique** integer array `nums`.\n",
    "\n",
    "A **range** `[a,b]` is the set of all integers from `a` to `b` (inclusive).\n",
    "\n",
    "Return the **smallest sorted** list of ranges that **cover all the numbers in the array exactly**. That is, each element of `nums` is covered by exactly one of the ranges, and there is no integer `x` such that `x` is in one of the ranges but not in `nums`.\n",
    "\n",
    "Each range `[a,b]` in the list should be output as:\n",
    "- `\"a->b\"` if `a != b`\n",
    "- `\"a\"` if `a == b`\n",
    " \n",
    "<br>\n",
    "\n",
    "**Example 1:**\n",
    ">**Input:** nums = [0,1,2,4,5,7]<br>\n",
    ">**Output:** [\"0->2\",\"4->5\",\"7\"]<br>\n",
    ">**Explanation:** The ranges are:<br>\n",
    ">[0,2] --> \"0->2\"<br>\n",
    ">[4,5] --> \"4->5\"<br>\n",
    ">[7,7] --> \"7\"\n",
    "\n",
    "**Example 2:**\n",
    ">**Input:** nums = [0,2,3,4,6,8,9]<br>\n",
    ">**Output:** [\"0\",\"2->4\",\"6\",\"8->9\"]<br>\n",
    ">**Explanation:** The ranges are:<br>\n",
    ">[0,0] --> \"0\"<br>\n",
    ">[2,4] --> \"2->4\"<br>\n",
    ">[6,6] --> \"6\"<br>\n",
    ">[8,9] --> \"8->9\"\n",
    " \n",
    "<br>\n",
    "\n",
    "**Constraints:**\n",
    "- >0 <= nums.length <= 20\n",
    "- >-2<sup>31</sup> <= nums[i] <= 2<sup>31</sup> - 1\n",
    "- >All the values of nums are unique.\n",
    "- >nums is sorted in ascending order."
   ]
  },
  {
   "cell_type": "code",
   "execution_count": 1,
   "metadata": {},
   "outputs": [],
   "source": [
    "class Solution:\n",
    "    def summaryRanges(self, nums: list[int]) -> list[str]:\n",
    "        if not nums:\n",
    "            return []\n",
    "        \n",
    "        ranges = []\n",
    "        start = nums[0]\n",
    "        end = nums[0]\n",
    "        \n",
    "        for num in nums[1:]:\n",
    "            if num == end + 1:\n",
    "                end = num\n",
    "            else:\n",
    "                if start == end:\n",
    "                    ranges.append(str(start))\n",
    "                else:\n",
    "                    ranges.append(f\"{start}->{end}\")\n",
    "                start = end = num\n",
    "        \n",
    "        if start == end:\n",
    "            ranges.append(str(start))\n",
    "        else:\n",
    "            ranges.append(f\"{start}->{end}\")\n",
    "        \n",
    "        return ranges"
   ]
  }
 ],
 "metadata": {
  "kernelspec": {
   "display_name": "base",
   "language": "python",
   "name": "python3"
  },
  "language_info": {
   "codemirror_mode": {
    "name": "ipython",
    "version": 3
   },
   "file_extension": ".py",
   "mimetype": "text/x-python",
   "name": "python",
   "nbconvert_exporter": "python",
   "pygments_lexer": "ipython3",
   "version": "3.9.16"
  }
 },
 "nbformat": 4,
 "nbformat_minor": 2
}

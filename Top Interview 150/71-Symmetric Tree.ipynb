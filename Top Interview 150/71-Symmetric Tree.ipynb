{
 "cells": [
  {
   "cell_type": "markdown",
   "metadata": {},
   "source": [
    "Given the `root` of a binary tree, *check whether it is a mirror of itself* (i.e., symmetric around its center).\n",
    "\n",
    "<br>\n",
    "\n",
    "**Example 1:**\n",
    "\n",
    "![symtree1](../images/symtree1.jpg)\n",
    "\n",
    ">**Input:** root = [1,2,2,3,4,4,3]<br>\n",
    ">**Output:** true\n",
    "\n",
    "**Example 2:**\n",
    "\n",
    "![symtree2](../images/symtree2.jpg)\n",
    "\n",
    ">**Input:** root = [1,2,2,null,3,null,3]<br>\n",
    ">**Output:** false\n",
    "\n",
    "<br>\n",
    "\n",
    "**Constraints:**\n",
    "- >The number of nodes in the tree is in the range [1, 1000].\n",
    "- >-100 <= Node.val <= 100\n",
    " \n",
    "<br><br>\n",
    "\n",
    "**Follow up:** Could you solve it both recursively and iteratively?"
   ]
  },
  {
   "cell_type": "code",
   "execution_count": 1,
   "metadata": {},
   "outputs": [],
   "source": [
    "# Definition for a binary tree node.\n",
    "# class TreeNode:\n",
    "#     def __init__(self, val=0, left=None, right=None):\n",
    "#         self.val = val\n",
    "#         self.left = left\n",
    "#         self.right = right\n",
    "class Solution:\n",
    "    def isSymmetric(self, root) -> bool:\n",
    "        def isMirror(left, right):\n",
    "            if not left and not right:\n",
    "                return True\n",
    "            if not left or not right:\n",
    "                return False\n",
    "            \n",
    "            return left.val == right.val and isMirror(left.left, right.right) and isMirror(left.right, right.left)\n",
    "        \n",
    "        return isMirror(root, root)"
   ]
  }
 ],
 "metadata": {
  "kernelspec": {
   "display_name": "base",
   "language": "python",
   "name": "python3"
  },
  "language_info": {
   "codemirror_mode": {
    "name": "ipython",
    "version": 3
   },
   "file_extension": ".py",
   "mimetype": "text/x-python",
   "name": "python",
   "nbconvert_exporter": "python",
   "pygments_lexer": "ipython3",
   "version": "3.9.16"
  }
 },
 "nbformat": 4,
 "nbformat_minor": 2
}

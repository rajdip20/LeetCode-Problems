{
 "cells": [
  {
   "cell_type": "markdown",
   "metadata": {},
   "source": [
    "Given a binary tree\n",
    "\n",
    ">&nbsp; struct Node {<br>\n",
    ">&emsp;&emsp; int val;<br>\n",
    ">&emsp;&emsp; Node *left;<br>\n",
    ">&emsp;&emsp; Node *right;<br>\n",
    ">&emsp;&emsp; Node *next;<br>\n",
    ">&nbsp; }\n",
    "\n",
    "Populate each next pointer to point to its next right node. If there is no next right node, the next pointer should be set to `NULL`.\n",
    "\n",
    "Initially, all next pointers are set to `NULL`.\n",
    "\n",
    "<br>\n",
    "\n",
    "**Example 1:**\n",
    "\n",
    "![117_sample](../images/117_sample.png)\n",
    "\n",
    ">**Input:** root = [1,2,3,4,5,null,7]<br>\n",
    ">**Output:** [1,#,2,3,#,4,5,7,#]<br>\n",
    ">**Explanation:** Given the above binary tree (Figure A), your function should populate each next pointer to point to its next right node, just like in Figure B. The serialized output is in level order as connected by the next pointers, with '#' signifying the end of each level.\n",
    "\n",
    "**Example 2:**\n",
    ">**Input:** root = []<br>\n",
    ">**Output:** []\n",
    "\n",
    "<br>\n",
    "\n",
    "**Constraints:**\n",
    "- >The number of nodes in the tree is in the range [0, 6000].\n",
    "- >-100 <= Node.val <= 100\n",
    "\n",
    "<br><br>\n",
    "\n",
    "**Follow-up:**\n",
    "- You may only use constant extra space.\n",
    "- The recursive approach is fine. You may assume implicit stack space does not count as extra space for this problem."
   ]
  },
  {
   "cell_type": "code",
   "execution_count": 1,
   "metadata": {},
   "outputs": [],
   "source": [
    "\"\"\"\n",
    "# Definition for a Node.\n",
    "class Node:\n",
    "    def __init__(self, val: int = 0, left: 'Node' = None, right: 'Node' = None, next: 'Node' = None):\n",
    "        self.val = val\n",
    "        self.left = left\n",
    "        self.right = right\n",
    "        self.next = next\n",
    "\"\"\"\n",
    "\n",
    "class Solution:\n",
    "    def connect(self, root):\n",
    "        import collections\n",
    "\n",
    "        queue = collections.deque([root])\n",
    "        \n",
    "        while queue:\n",
    "            qLen = len(queue)\n",
    "            for _ in range(qLen):\n",
    "                node = queue.popleft()\n",
    "                if not node: continue\n",
    "                if _ != qLen - 1:\n",
    "                    node.next = queue[0]\n",
    "                if node.left:\n",
    "                    queue.append(node.left)\n",
    "                if node.right:\n",
    "                    queue.append(node.right)\n",
    "        \n",
    "        return root"
   ]
  }
 ],
 "metadata": {
  "kernelspec": {
   "display_name": "base",
   "language": "python",
   "name": "python3"
  },
  "language_info": {
   "codemirror_mode": {
    "name": "ipython",
    "version": 3
   },
   "file_extension": ".py",
   "mimetype": "text/x-python",
   "name": "python",
   "nbconvert_exporter": "python",
   "pygments_lexer": "ipython3",
   "version": "3.9.16"
  }
 },
 "nbformat": 4,
 "nbformat_minor": 2
}

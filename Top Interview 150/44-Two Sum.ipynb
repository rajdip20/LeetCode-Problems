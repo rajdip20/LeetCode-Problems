{
 "cells": [
  {
   "cell_type": "markdown",
   "metadata": {},
   "source": [
    "Given an array of integers `nums` and an integer `target`, return *indices of the two numbers such that they add up to* `target`.\n",
    "\n",
    "You may assume that each input would have **exactly one solution**, and you may not use the same element twice.\n",
    "\n",
    "You can return the answer in any order.\n",
    "\n",
    "<br>\n",
    "\n",
    "**Example 1:**\n",
    ">**Input:** nums = [2,7,11,15], target = 9<br>\n",
    ">**Output:** [0,1]<br>\n",
    ">**Explanation:** Because nums[0] + nums[1] == 9, we return [0, 1].\n",
    "\n",
    "**Example 2:**\n",
    ">**Input:** nums = [3,2,4], target = 6<br>\n",
    ">**Output:** [1,2]\n",
    "\n",
    "**Example 3:**\n",
    ">**Input:** nums = [3,3], target = 6<br>\n",
    ">**Output:** [0,1]\n",
    "\n",
    "<br>\n",
    "\n",
    "**Constraints:**\n",
    "- >2 <= nums.length <= 10<sup>4</sup>\n",
    "- >-10<sup>9</sup> <= nums[i] <= 10<sup>9</sup>\n",
    "- >-10<sup>9</sup> <= target <= 10<sup>9</sup>\n",
    "- >Only one valid answer exists.\n",
    "\n",
    "<br><br>\n",
    "\n",
    "**Follow-up:** Can you come up with an algorithm that is less than **O(n<sup>2</sup>)** time complexity?"
   ]
  },
  {
   "cell_type": "code",
   "execution_count": 1,
   "metadata": {},
   "outputs": [],
   "source": [
    "class Solution:\n",
    "    def twoSum(self, nums: list[int], target: int) -> list[int]:\n",
    "        num_indices = {}\n",
    "    \n",
    "        for i, num in enumerate(nums):\n",
    "            complement = target - num\n",
    "            \n",
    "            if complement in num_indices:\n",
    "                return [num_indices[complement], i]\n",
    "            \n",
    "            num_indices[num] = i"
   ]
  }
 ],
 "metadata": {
  "kernelspec": {
   "display_name": "base",
   "language": "python",
   "name": "python3"
  },
  "language_info": {
   "codemirror_mode": {
    "name": "ipython",
    "version": 3
   },
   "file_extension": ".py",
   "mimetype": "text/x-python",
   "name": "python",
   "nbconvert_exporter": "python",
   "pygments_lexer": "ipython3",
   "version": "3.9.16"
  }
 },
 "nbformat": 4,
 "nbformat_minor": 2
}

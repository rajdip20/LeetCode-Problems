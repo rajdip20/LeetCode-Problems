{
 "cells": [
  {
   "cell_type": "markdown",
   "metadata": {},
   "source": [
    "There are a total of `numCourses` courses you have to take, labeled from `0` to `numCourses - 1`. You are given an array `prerequisites` where **prerequisites[i] = [a<sub>i</sub>, b<sub>i</sub>]** indicates that you **must** take course **b<sub>i</sub>** first if you want to take course **a<sub>i</sub>**.\n",
    "- For example, the pair `[0, 1]`, indicates that to take course `0` you have to first take course `1`.\n",
    "\n",
    "Return *the ordering of courses you should take to finish all courses*. If there are many valid answers, return **any** of them. If it is impossible to finish all courses, return **an empty array**.\n",
    "\n",
    "<br>\n",
    "\n",
    "**Example 1:**\n",
    ">**Input:** numCourses = 2, prerequisites = [[1,0]]<br>\n",
    ">**Output:** [0,1]<br>\n",
    ">**Explanation:** There are a total of 2 courses to take. To take course 1 you should have finished course 0. So the correct course order is [0,1].\n",
    "\n",
    "**Example 2:**\n",
    ">**Input:** numCourses = 4, prerequisites = [[1,0],[2,0],[3,1],[3,2]]<br>\n",
    ">**Output:** [0,2,1,3]<br>\n",
    ">**Explanation:** There are a total of 4 courses to take. To take course 3 you should have finished both courses 1 and 2. Both courses 1 and 2 should be taken after you finished course 0.<br>\n",
    ">So one correct course order is [0,1,2,3]. Another correct ordering is [0,2,1,3].\n",
    "\n",
    "**Example 3:**\n",
    ">**Input:** numCourses = 1, prerequisites = []<br>\n",
    ">**Output:** [0]\n",
    "\n",
    "<br>\n",
    "\n",
    "**Constraints:**\n",
    "- >1 <= numCourses <= 2000\n",
    "- >0 <= prerequisites.length <= numCourses * (numCourses - 1)\n",
    "- >prerequisites[i].length == 2\n",
    "- >0 <= a<sub>i</sub>, b<sub>i</sub> < numCourses\n",
    "- >a<sub>i</sub> != b<sub>i</sub>\n",
    "- >All the pairs [a<sub>i</sub>, b<sub>i</sub>] are **distinct**."
   ]
  },
  {
   "cell_type": "code",
   "execution_count": 1,
   "metadata": {},
   "outputs": [],
   "source": [
    "class Solution:\n",
    "    def findOrder(self, numCourses: int, prerequisites: list[list[int]]) -> list[int]:\n",
    "        from collections import defaultdict\n",
    "\n",
    "        graph = defaultdict(list)\n",
    "        for dest, src in prerequisites:\n",
    "            graph[src].append(dest)\n",
    "\n",
    "        visit = [0] * numCourses\n",
    "        order = []\n",
    "        \n",
    "        def dfs(node):\n",
    "            if visit[node] == 1:\n",
    "                return False\n",
    "            if visit[node] == 2:\n",
    "                return True\n",
    "            \n",
    "            visit[node] = 1\n",
    "            for neighbour in graph[node]:\n",
    "                if not dfs(neighbour):\n",
    "                    return False\n",
    "            visit[node] = 2\n",
    "            order.append(node)\n",
    "            return True\n",
    "        \n",
    "        for course in range(numCourses):\n",
    "            if visit[course] == 0:\n",
    "                if not dfs(course):\n",
    "                    return []\n",
    "        \n",
    "        return order[::-1]"
   ]
  }
 ],
 "metadata": {
  "kernelspec": {
   "display_name": "base",
   "language": "python",
   "name": "python3"
  },
  "language_info": {
   "codemirror_mode": {
    "name": "ipython",
    "version": 3
   },
   "file_extension": ".py",
   "mimetype": "text/x-python",
   "name": "python",
   "nbconvert_exporter": "python",
   "pygments_lexer": "ipython3",
   "version": "3.9.16"
  }
 },
 "nbformat": 4,
 "nbformat_minor": 2
}

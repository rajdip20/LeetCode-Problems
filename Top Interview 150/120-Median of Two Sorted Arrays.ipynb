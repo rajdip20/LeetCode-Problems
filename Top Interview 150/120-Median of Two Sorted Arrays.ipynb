{
 "cells": [
  {
   "cell_type": "markdown",
   "metadata": {},
   "source": [
    "Given two sorted arrays `nums1` and `nums2` of size `m` and `n` respectively, return **the median** of the two sorted arrays.\n",
    "\n",
    "The overall run time complexity should be `O(log (m+n))`.\n",
    "\n",
    "<br>\n",
    "\n",
    "**Example 1:**\n",
    ">**Input:** nums1 = [1,3], nums2 = [2]<br>\n",
    ">**Output:** 2.00000<br>\n",
    ">**Explanation:** merged array = [1,2,3] and median is 2.\n",
    "\n",
    "**Example 2:**\n",
    ">**Input:** nums1 = [1,2], nums2 = [3,4]<br>\n",
    ">**Output:** 2.50000<br>\n",
    ">**Explanation:** merged array = [1,2,3,4] and median is (2 + 3) / 2 = 2.5.\n",
    "\n",
    "<br>\n",
    "\n",
    "**Constraints:**\n",
    "- >nums1.length == m\n",
    "- >nums2.length == n\n",
    "- >0 <= m <= 1000\n",
    "- >0 <= n <= 1000\n",
    "- >1 <= m + n <= 2000\n",
    "- >-10<sup>6</sup> <= nums1[i], nums2[i] <= 10<sup>6</sup>"
   ]
  },
  {
   "cell_type": "code",
   "execution_count": 1,
   "metadata": {},
   "outputs": [],
   "source": [
    "class Solution:\n",
    "    def findMedianSortedArrays(self, nums1: list[int], nums2: list[int]) -> float:\n",
    "        if len(nums1) > len(nums2):\n",
    "            nums1, nums2 = nums2, nums1\n",
    "        \n",
    "        m, n = len(nums1), len(nums2)\n",
    "        imin, imax, half_len = 0, m, (m + n + 1) // 2\n",
    "        \n",
    "        while imin <= imax:\n",
    "            i = (imin + imax) // 2\n",
    "            j = half_len - i\n",
    "            \n",
    "            if i < m and nums1[i] < nums2[j - 1]:\n",
    "                imin = i + 1\n",
    "            elif i > 0 and nums1[i - 1] > nums2[j]:\n",
    "                imax = i - 1\n",
    "            else:\n",
    "                \n",
    "                if i == 0: max_of_left = nums2[j - 1]\n",
    "                elif j == 0: max_of_left = nums1[i - 1]\n",
    "                else: max_of_left = max(nums1[i - 1], nums2[j - 1])\n",
    "                \n",
    "                if (m + n) % 2 == 1:\n",
    "                    return max_of_left\n",
    "                \n",
    "                if i == m: min_of_right = nums2[j]\n",
    "                elif j == n: min_of_right = nums1[i]\n",
    "                else: min_of_right = min(nums1[i], nums2[j])\n",
    "                \n",
    "                return (max_of_left + min_of_right) / 2.0"
   ]
  }
 ],
 "metadata": {
  "kernelspec": {
   "display_name": "base",
   "language": "python",
   "name": "python3"
  },
  "language_info": {
   "codemirror_mode": {
    "name": "ipython",
    "version": 3
   },
   "file_extension": ".py",
   "mimetype": "text/x-python",
   "name": "python",
   "nbconvert_exporter": "python",
   "pygments_lexer": "ipython3",
   "version": "3.9.16"
  }
 },
 "nbformat": 4,
 "nbformat_minor": 2
}

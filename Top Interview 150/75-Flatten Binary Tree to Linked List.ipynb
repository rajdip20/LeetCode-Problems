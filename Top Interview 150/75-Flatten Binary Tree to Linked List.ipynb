{
 "cells": [
  {
   "cell_type": "markdown",
   "metadata": {},
   "source": [
    "Given the `root` of a binary tree, flatten the tree into a \"linked list\":\n",
    "- The \"linked list\" should use the same TreeNode class where the right child pointer points to the next node in the list and the left child pointer is always null.\n",
    "- The \"linked list\" should be in the same order as a [pre-order traversal](https://en.wikipedia.org/wiki/Tree_traversal#Pre-order,_NLR) of the binary tree.\n",
    "\n",
    "<br>\n",
    "\n",
    "**Example 1:**\n",
    "\n",
    "![flaten](../images/flaten.jpg)\n",
    "\n",
    ">**Input:** root = [1,2,5,3,4,null,6]<br>\n",
    ">**Output:** [1,null,2,null,3,null,4,null,5,null,6]\n",
    "\n",
    "**Example 2:**\n",
    ">**Input:** root = []<br>\n",
    ">**Output:** []\n",
    "\n",
    "**Example 3:**\n",
    ">**Input:** root = [0]<br>\n",
    ">**Output:** [0]\n",
    "\n",
    "<br>\n",
    "\n",
    "**Constraints:**\n",
    "- >The number of nodes in the tree is in the range [0, 2000].\n",
    "- >-100 <= Node.val <= 100\n",
    "\n",
    "<br><br>\n",
    "\n",
    "**Follow up:** Can you flatten the tree in-place (with `O(1)` extra space)?"
   ]
  },
  {
   "cell_type": "code",
   "execution_count": 1,
   "metadata": {},
   "outputs": [],
   "source": [
    "# Definition for a binary tree node.\n",
    "# class TreeNode:\n",
    "#     def __init__(self, val=0, left=None, right=None):\n",
    "#         self.val = val\n",
    "#         self.left = left\n",
    "#         self.right = right\n",
    "class Solution:\n",
    "    def flatten(self, root) -> None:\n",
    "        \"\"\"\n",
    "        Do not return anything, modify root in-place instead.\n",
    "        \"\"\"\n",
    "        if not root:\n",
    "            return\n",
    "        \n",
    "        self.flatten(root.left)\n",
    "        self.flatten(root.right)\n",
    "        \n",
    "        right_subtree = root.right\n",
    "        \n",
    "        root.right = root.left\n",
    "        root.left = None\n",
    "        \n",
    "        while root.right:\n",
    "            root = root.right\n",
    "        \n",
    "        root.right = right_subtree"
   ]
  }
 ],
 "metadata": {
  "kernelspec": {
   "display_name": "base",
   "language": "python",
   "name": "python3"
  },
  "language_info": {
   "codemirror_mode": {
    "name": "ipython",
    "version": 3
   },
   "file_extension": ".py",
   "mimetype": "text/x-python",
   "name": "python",
   "nbconvert_exporter": "python",
   "pygments_lexer": "ipython3",
   "version": "3.9.16"
  }
 },
 "nbformat": 4,
 "nbformat_minor": 2
}

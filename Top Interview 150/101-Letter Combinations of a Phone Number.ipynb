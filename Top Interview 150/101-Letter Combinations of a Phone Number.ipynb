{
 "cells": [
  {
   "cell_type": "markdown",
   "metadata": {},
   "source": [
    "Given a string containing digits from `2-9` inclusive, return all possible letter combinations that the number could represent. Return the answer in **any order**.\n",
    "\n",
    "A mapping of digits to letters (just like on the telephone buttons) is given below. Note that 1 does not map to any letters.<br>\n",
    "\n",
    "![telephone-keypad](../images/1200px-telephone-keypad2svg.png)\n",
    "\n",
    "<br>\n",
    "\n",
    "**Example 1:**\n",
    ">**Input:** digits = \"23\"<br>\n",
    ">**Output:** [\"ad\",\"ae\",\"af\",\"bd\",\"be\",\"bf\",\"cd\",\"ce\",\"cf\"]\n",
    "\n",
    "**Example 2:**\n",
    ">**Input:** digits = \"\"<br>\n",
    ">**Output:** []\n",
    "\n",
    "**Example 3:**\n",
    ">**Input:** digits = \"2\"<br>\n",
    ">**Output:** [\"a\",\"b\",\"c\"]\n",
    "\n",
    "<br>\n",
    "\n",
    "**Constraints:**\n",
    "- >0 <= digits.length <= 4\n",
    "- >digits[i] is a digit in the range ['2', '9']."
   ]
  },
  {
   "cell_type": "code",
   "execution_count": 1,
   "metadata": {},
   "outputs": [],
   "source": [
    "class Solution:\n",
    "    def letterCombinations(self, digits: str) -> list[str]:\n",
    "        if not digits:\n",
    "            return []\n",
    "        \n",
    "        phone_map = {\n",
    "            '2': 'abc', '3': 'def', '4': 'ghi', '5': 'jkl',\n",
    "            '6': 'mno', '7': 'pqrs', '8': 'tuv', '9': 'wxyz'\n",
    "        }\n",
    "        \n",
    "        def backtrack(index, path):\n",
    "            if index == len(digits):\n",
    "                combinations.append(''.join(path))\n",
    "                return\n",
    "            possible_letters = phone_map[digits[index]]\n",
    "            for letter in possible_letters:\n",
    "                path.append(letter)\n",
    "                backtrack(index + 1, path)\n",
    "                path.pop()\n",
    "        \n",
    "        combinations = []\n",
    "        backtrack(0, [])\n",
    "        return combinations"
   ]
  }
 ],
 "metadata": {
  "kernelspec": {
   "display_name": "base",
   "language": "python",
   "name": "python3"
  },
  "language_info": {
   "codemirror_mode": {
    "name": "ipython",
    "version": 3
   },
   "file_extension": ".py",
   "mimetype": "text/x-python",
   "name": "python",
   "nbconvert_exporter": "python",
   "pygments_lexer": "ipython3",
   "version": "3.9.16"
  }
 },
 "nbformat": 4,
 "nbformat_minor": 2
}

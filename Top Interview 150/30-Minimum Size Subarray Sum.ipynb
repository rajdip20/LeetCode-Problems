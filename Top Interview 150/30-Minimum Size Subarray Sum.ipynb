{
 "cells": [
  {
   "cell_type": "markdown",
   "metadata": {},
   "source": [
    "Given an array of positive integers `nums` and a positive integer `target`, return *the ***minimal length*** of a subarray whose sum is greater than or equal to* `target`. If there is no such subarray, return `0` instead.\n",
    "\n",
    "<br> \n",
    "\n",
    "**Example 1:**\n",
    ">**Input:** target = 7, nums = [2,3,1,2,4,3]<br>\n",
    ">**Output:** 2<br>\n",
    ">**Explanation:** The subarray [4,3] has the minimal length under the problem constraint.\n",
    "\n",
    "**Example 2:**\n",
    ">**Input:** target = 4, nums = [1,4,4]<br>\n",
    ">**Output:** 1\n",
    "\n",
    "**Example 3:**\n",
    ">**Input:** target = 11, nums = [1,1,1,1,1,1,1,1]<br>\n",
    ">**Output:** 0\n",
    "\n",
    "<br> \n",
    "\n",
    "**Constraints:**\n",
    "- >1 <= target <= 10<sup>9</sup>\n",
    "- >1 <= nums.length <= 10<sup>5</sup>\n",
    "- >1 <= nums[i] <= 10<sup>4</sup>\n",
    " \n",
    "<br><br>\n",
    "\n",
    "**Follow up:** If you have figured out the `O(n)` solution, try coding another solution of which the time complexity is `O(n log(n))`."
   ]
  },
  {
   "cell_type": "code",
   "execution_count": 1,
   "metadata": {},
   "outputs": [],
   "source": [
    "class Solution:\n",
    "    def minSubArrayLen(self, target: int, nums: list[int]) -> int:\n",
    "        n = len(nums)\n",
    "        if n == 0:\n",
    "            return 0\n",
    "        \n",
    "        min_len = float('inf')\n",
    "        window_sum = 0\n",
    "        left = 0\n",
    "        \n",
    "        for right in range(n):\n",
    "            window_sum += nums[right]\n",
    "            \n",
    "            while window_sum >= target:\n",
    "                min_len = min(min_len, right - left + 1)\n",
    "                window_sum -= nums[left]\n",
    "                left += 1\n",
    "        \n",
    "        return min_len if min_len != float('inf') else 0"
   ]
  }
 ],
 "metadata": {
  "kernelspec": {
   "display_name": "base",
   "language": "python",
   "name": "python3"
  },
  "language_info": {
   "codemirror_mode": {
    "name": "ipython",
    "version": 3
   },
   "file_extension": ".py",
   "mimetype": "text/x-python",
   "name": "python",
   "nbconvert_exporter": "python",
   "pygments_lexer": "ipython3",
   "version": "3.9.16"
  }
 },
 "nbformat": 4,
 "nbformat_minor": 2
}

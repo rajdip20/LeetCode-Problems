{
 "cells": [
  {
   "cell_type": "markdown",
   "metadata": {},
   "source": [
    "Given an array `nums` of distinct integers, return *all the possible permutations*. You can return the answer in **any order**.\n",
    "\n",
    "<br>\n",
    "\n",
    "**Example 1:**\n",
    ">**Input:** nums = [1,2,3]<br>\n",
    ">**Output:** [[1,2,3],[1,3,2],[2,1,3],[2,3,1],[3,1,2],[3,2,1]]\n",
    "\n",
    "**Example 2:**\n",
    ">**Input:** nums = [0,1]<br>\n",
    ">**Output:** [[0,1],[1,0]]\n",
    "\n",
    "**Example 3:**\n",
    ">**Input:** nums = [1]<br>\n",
    ">**Output:** [[1]]\n",
    "\n",
    "<br>\n",
    "\n",
    "**Constraints:**\n",
    "- >1 <= nums.length <= 6\n",
    "- >-10 <= nums[i] <= 10\n",
    "- >All the integers of nums are **unique**."
   ]
  },
  {
   "cell_type": "code",
   "execution_count": 1,
   "metadata": {},
   "outputs": [],
   "source": [
    "class Solution:\n",
    "    def permute(self, nums: list[int]) -> list[list[int]]:\n",
    "        def backtrack(start, end):\n",
    "            if start == end:\n",
    "                result.append(nums[:])\n",
    "            for i in range(start, end):\n",
    "                nums[start], nums[i] = nums[i], nums[start]\n",
    "                backtrack(start + 1, end)\n",
    "                nums[start], nums[i] = nums[i], nums[start]\n",
    "\n",
    "        result = []\n",
    "        backtrack(0, len(nums))\n",
    "        return result"
   ]
  }
 ],
 "metadata": {
  "kernelspec": {
   "display_name": "base",
   "language": "python",
   "name": "python3"
  },
  "language_info": {
   "codemirror_mode": {
    "name": "ipython",
    "version": 3
   },
   "file_extension": ".py",
   "mimetype": "text/x-python",
   "name": "python",
   "nbconvert_exporter": "python",
   "pygments_lexer": "ipython3",
   "version": "3.9.16"
  }
 },
 "nbformat": 4,
 "nbformat_minor": 2
}

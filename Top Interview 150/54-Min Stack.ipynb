{
 "cells": [
  {
   "cell_type": "markdown",
   "metadata": {},
   "source": [
    "Design a stack that supports push, pop, top, and retrieving the minimum element in constant time.\n",
    "\n",
    "Implement the `MinStack` class:\n",
    "- `MinStack()` initializes the stack object.\n",
    "- `void push(int val)` pushes the element `val` onto the stack.\n",
    "- `void pop()` removes the element on the top of the stack.\n",
    "- `int top()` gets the top element of the stack.\n",
    "- `int getMin()` retrieves the minimum element in the stack.\n",
    "\n",
    "You must implement a solution with `O(1)` time complexity for each function.\n",
    "\n",
    "<br>\n",
    "\n",
    "**Example 1:**\n",
    ">**Input**<br>\n",
    ">[\"MinStack\",\"push\",\"push\",\"push\",\"getMin\",\"pop\",\"top\",\"getMin\"]<br>\n",
    ">[[],[-2],[0],[-3],[],[],[],[]]<br>\n",
    "><br>\n",
    ">**Output**<br>\n",
    ">[null,null,null,null,-3,null,0,-2]<br>\n",
    "><br>\n",
    ">**Explanation**<br>\n",
    ">MinStack minStack = new MinStack();<br>\n",
    ">minStack.push(-2);<br>\n",
    ">minStack.push(0);<br>\n",
    ">minStack.push(-3);<br>\n",
    ">minStack.getMin(); // return -3<br>\n",
    ">minStack.pop();<br>\n",
    ">minStack.top();    // return 0<br>\n",
    ">minStack.getMin(); // return -2\n",
    " \n",
    "<br>\n",
    "\n",
    "**Constraints:**\n",
    "- >-2<sup>31</sup> <= val <= 2<sup>31</sup> - 1\n",
    "- >Methods pop, top and getMin operations will always be called on **non-empty** stacks.\n",
    "- >At most 3 * 10<sup>4</sup> calls will be made to push, pop, top, and getMin."
   ]
  },
  {
   "cell_type": "code",
   "execution_count": 1,
   "metadata": {},
   "outputs": [],
   "source": [
    "class MinStack:\n",
    "\n",
    "    def __init__(self):\n",
    "        self.main_stack = []\n",
    "        self.min_stack = []\n",
    "\n",
    "    def push(self, val: int) -> None:\n",
    "        self.main_stack.append(val)\n",
    "        if not self.min_stack or val <= self.min_stack[-1]:\n",
    "            self.min_stack.append(val)\n",
    "\n",
    "    def pop(self) -> None:\n",
    "        if self.main_stack:\n",
    "            val = self.main_stack.pop()\n",
    "            if val == self.min_stack[-1]:\n",
    "                self.min_stack.pop()\n",
    "\n",
    "    def top(self) -> int:\n",
    "        if self.main_stack:\n",
    "            return self.main_stack[-1]\n",
    "\n",
    "    def getMin(self) -> int:\n",
    "        if self.min_stack:\n",
    "            return self.min_stack[-1]\n",
    "\n",
    "\n",
    "# Your MinStack object will be instantiated and called as such:\n",
    "# obj = MinStack()\n",
    "# obj.push(val)\n",
    "# obj.pop()\n",
    "# param_3 = obj.top()\n",
    "# param_4 = obj.getMin()"
   ]
  }
 ],
 "metadata": {
  "kernelspec": {
   "display_name": "base",
   "language": "python",
   "name": "python3"
  },
  "language_info": {
   "codemirror_mode": {
    "name": "ipython",
    "version": 3
   },
   "file_extension": ".py",
   "mimetype": "text/x-python",
   "name": "python",
   "nbconvert_exporter": "python",
   "pygments_lexer": "ipython3",
   "version": "3.9.16"
  }
 },
 "nbformat": 4,
 "nbformat_minor": 2
}

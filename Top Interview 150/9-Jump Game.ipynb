{
 "cells": [
  {
   "cell_type": "markdown",
   "metadata": {},
   "source": [
    "You are given an integer array `nums`. You are initially positioned at the array's **first index**, and each element in the array represents your maximum jump length at that position.\n",
    "\n",
    "Return `true` *if you can reach the last index, or* `false` *otherwise*.\n",
    "\n",
    "<br> \n",
    "\n",
    "**Example 1:**\n",
    ">**Input:** nums = [2,3,1,1,4]<br>\n",
    ">**Output:** true<br>\n",
    ">**Explanation:** Jump 1 step from index 0 to 1, then 3 steps to the last index.\n",
    "\n",
    "\n",
    "**Example 2:**\n",
    ">**Input:** nums = [3,2,1,0,4]<br>\n",
    ">**Output:** false<br>\n",
    ">**Explanation:** You will always arrive at index 3 no matter what. Its maximum jump length is 0, which makes it impossible to reach the last index.\n",
    " \n",
    "<br>\n",
    "\n",
    "**Constraints:**\n",
    "- >1 <= nums.length <= 10<sup>4</sup>\n",
    "- >0 <= nums[i] <= 10<sup>5</sup>"
   ]
  },
  {
   "cell_type": "code",
   "execution_count": 1,
   "metadata": {},
   "outputs": [],
   "source": [
    "class Solution:\n",
    "    def canJump(self, nums: list[int]) -> bool:\n",
    "        max_reach = 0\n",
    "        n = len(nums)\n",
    "\n",
    "        for i in range(n):\n",
    "            if i > max_reach:\n",
    "                return False\n",
    "            \n",
    "            max_reach = max(max_reach, i + nums[i])\n",
    "            if max_reach >= n - 1:\n",
    "                return True\n",
    "        \n",
    "        return False"
   ]
  }
 ],
 "metadata": {
  "kernelspec": {
   "display_name": "base",
   "language": "python",
   "name": "python3"
  },
  "language_info": {
   "codemirror_mode": {
    "name": "ipython",
    "version": 3
   },
   "file_extension": ".py",
   "mimetype": "text/x-python",
   "name": "python",
   "nbconvert_exporter": "python",
   "pygments_lexer": "ipython3",
   "version": "3.9.16"
  }
 },
 "nbformat": 4,
 "nbformat_minor": 2
}

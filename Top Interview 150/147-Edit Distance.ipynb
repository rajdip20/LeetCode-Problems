{
 "cells": [
  {
   "cell_type": "markdown",
   "metadata": {},
   "source": [
    "Given two strings `word1` and `word2`, return *the minimum number of operations required to convert `word1` to `word2`*.\n",
    "\n",
    "You have the following three operations permitted on a word:\n",
    "- Insert a character\n",
    "- Delete a character\n",
    "- Replace a character\n",
    "\n",
    "<br>\n",
    "\n",
    "**Example 1:**\n",
    ">**Input:** word1 = \"horse\", word2 = \"ros\"<br>\n",
    ">**Output:** 3<br>\n",
    ">**Explanation:** <br>\n",
    ">horse -> rorse (replace 'h' with 'r')<br>\n",
    ">rorse -> rose (remove 'r')<br>\n",
    ">rose -> ros (remove 'e')\n",
    "\n",
    "**Example 2:**\n",
    ">**Input:** word1 = \"intention\", word2 = \"execution\"<br>\n",
    ">**Output:** 5<br>\n",
    ">**Explanation:** <br>\n",
    ">intention -> inention (remove 't')<br>\n",
    ">inention -> enention (replace 'i' with 'e')<br>\n",
    ">enention -> exention (replace 'n' with 'x')<br>\n",
    ">exention -> exection (replace 'n' with 'c')<br>\n",
    ">exection -> execution (insert 'u')\n",
    "\n",
    "<br>\n",
    "\n",
    "**Constraints:**\n",
    "- >0 <= word1.length, word2.length <= 500\n",
    "- >word1 and word2 consist of lowercase English letters."
   ]
  },
  {
   "cell_type": "code",
   "execution_count": 1,
   "metadata": {},
   "outputs": [],
   "source": [
    "class Solution:\n",
    "    def minDistance(self, word1: str, word2: str) -> int:\n",
    "        m, n = len(word1), len(word2)\n",
    "        dp = [[0] * (n + 1) for _ in range(m + 1)]\n",
    "        \n",
    "        for i in range(m + 1):\n",
    "            dp[i][0] = i\n",
    "        for j in range(n + 1):\n",
    "            dp[0][j] = j\n",
    "\n",
    "        for i in range(1, m + 1):\n",
    "            for j in range(1, n + 1):\n",
    "                if word1[i - 1] == word2[j - 1]:\n",
    "                    dp[i][j] = dp[i - 1][j - 1]\n",
    "                else:\n",
    "                    dp[i][j] = min(dp[i - 1][j - 1], dp[i - 1][j], dp[i][j - 1]) + 1\n",
    "\n",
    "        return dp[m][n]"
   ]
  }
 ],
 "metadata": {
  "kernelspec": {
   "display_name": "base",
   "language": "python",
   "name": "python3"
  },
  "language_info": {
   "codemirror_mode": {
    "name": "ipython",
    "version": 3
   },
   "file_extension": ".py",
   "mimetype": "text/x-python",
   "name": "python",
   "nbconvert_exporter": "python",
   "pygments_lexer": "ipython3",
   "version": "3.9.16"
  }
 },
 "nbformat": 4,
 "nbformat_minor": 2
}

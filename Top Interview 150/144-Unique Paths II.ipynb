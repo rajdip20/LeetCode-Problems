{
 "cells": [
  {
   "cell_type": "markdown",
   "metadata": {},
   "source": [
    "You are given an `m x n` integer array `grid`. There is a robot initially located at the **top-left corner** (i.e., `grid[0][0]`). The robot tries to move to the **bottom-right corner** (i.e., `grid[m - 1][n - 1]`). The robot can only move either down or right at any point in time.\n",
    "\n",
    "An obstacle and space are marked as `1` or `0` respectively in `grid`. A path that the robot takes cannot include **any** square that is an obstacle.\n",
    "\n",
    "Return *the number of possible unique paths that the robot can take to reach the bottom-right corner*.\n",
    "\n",
    "The testcases are generated so that the answer will be less than or equal to **2 * 10<sup>9</sup>**.\n",
    "\n",
    "<br>\n",
    "\n",
    "**Example 1:**\n",
    "\n",
    "![robot1](../images/robot1.jpg)\n",
    "\n",
    ">**Input:** obstacleGrid = [[0,0,0],[0,1,0],[0,0,0]]<br>\n",
    ">**Output:** 2<br>\n",
    ">**Explanation:** There is one obstacle in the middle of the 3x3 grid above.<br>\n",
    ">There are two ways to reach the bottom-right corner:<br>\n",
    ">1. Right -> Right -> Down -> Down<br>\n",
    ">2. Down -> Down -> Right -> Right\n",
    "\n",
    "**Example 2:**\n",
    "\n",
    "![robot2](../images/robot2.jpg)\n",
    "\n",
    ">**Input:** obstacleGrid = [[0,1],[0,0]]<br>\n",
    ">**Output:** 1\n",
    "\n",
    "<br>\n",
    "\n",
    "**Constraints:**\n",
    "- >m == obstacleGrid.length\n",
    "- >n == obstacleGrid[i].length\n",
    "- >1 <= m, n <= 100\n",
    "- >obstacleGrid[i][j] is 0 or 1."
   ]
  },
  {
   "cell_type": "code",
   "execution_count": 1,
   "metadata": {},
   "outputs": [],
   "source": [
    "class Solution:\n",
    "    def uniquePathsWithObstacles(self, obstacleGrid: list[list[int]]) -> int:\n",
    "        m = len(obstacleGrid)\n",
    "        n = len(obstacleGrid[0])\n",
    "        \n",
    "        if obstacleGrid[0][0] == 1:\n",
    "            return 0\n",
    "        \n",
    "        dp = [[0 for _ in range(n)] for _ in range(m)]\n",
    "        dp[0][0] = 1\n",
    "        \n",
    "        for j in range(1, n):\n",
    "            dp[0][j] = dp[0][j-1] if obstacleGrid[0][j] == 0 else 0\n",
    "        \n",
    "        for i in range(1, m):\n",
    "            dp[i][0] = dp[i-1][0] if obstacleGrid[i][0] == 0 else 0\n",
    "        \n",
    "        for i in range(1, m):\n",
    "            for j in range(1, n):\n",
    "                if obstacleGrid[i][j] == 0:\n",
    "                    dp[i][j] = dp[i-1][j] + dp[i][j-1]\n",
    "                else:\n",
    "                    dp[i][j] = 0\n",
    "        \n",
    "        return dp[m-1][n-1]"
   ]
  }
 ],
 "metadata": {
  "kernelspec": {
   "display_name": "base",
   "language": "python",
   "name": "python3"
  },
  "language_info": {
   "codemirror_mode": {
    "name": "ipython",
    "version": 3
   },
   "file_extension": ".py",
   "mimetype": "text/x-python",
   "name": "python",
   "nbconvert_exporter": "python",
   "pygments_lexer": "ipython3",
   "version": "3.9.16"
  }
 },
 "nbformat": 4,
 "nbformat_minor": 2
}

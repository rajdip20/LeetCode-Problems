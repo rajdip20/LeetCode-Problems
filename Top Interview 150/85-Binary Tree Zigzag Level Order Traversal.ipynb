{
 "cells": [
  {
   "cell_type": "markdown",
   "metadata": {},
   "source": [
    "Given the `root` of a binary tree, return *the zigzag level order traversal of its nodes' values*. (i.e., from left to right, then right to left for the next level and alternate between).\n",
    "\n",
    "<br>\n",
    "\n",
    "**Example 1:**\n",
    "\n",
    "![tree4](../images/tree4.jpg)\n",
    "\n",
    ">**Input:** root = [3,9,20,null,null,15,7]<br>\n",
    ">**Output:** [[3],[20,9],[15,7]]\n",
    "\n",
    "**Example 2:**\n",
    ">**Input:** root = [1]<br>\n",
    ">**Output:** [[1]]\n",
    "\n",
    "**Example 3:**\n",
    ">**Input:** root = []<br>\n",
    ">**Output:** []\n",
    "\n",
    "<br>\n",
    "\n",
    "**Constraints:**\n",
    "- >The number of nodes in the tree is in the range [0, 2000].\n",
    "- >-100 <= Node.val <= 100"
   ]
  },
  {
   "cell_type": "code",
   "execution_count": 1,
   "metadata": {},
   "outputs": [],
   "source": [
    "# Definition for a binary tree node.\n",
    "# class TreeNode:\n",
    "#     def __init__(self, val=0, left=None, right=None):\n",
    "#         self.val = val\n",
    "#         self.left = left\n",
    "#         self.right = right\n",
    "class Solution:\n",
    "    def zigzagLevelOrder(self, root) -> list[list[int]]:\n",
    "        from collections import deque\n",
    "\n",
    "\n",
    "        if not root:\n",
    "            return []\n",
    "\n",
    "        result = []\n",
    "        queue = deque([root])\n",
    "        level = 0\n",
    "\n",
    "        while queue:\n",
    "            level_values = []\n",
    "            level_length = len(queue)\n",
    "\n",
    "            for _ in range(level_length):\n",
    "                if level % 2 == 0:\n",
    "                    node = queue.popleft()\n",
    "                    level_values.append(node.val)\n",
    "                    if node.left:\n",
    "                        queue.append(node.left)\n",
    "                    if node.right:\n",
    "                        queue.append(node.right)\n",
    "                else:\n",
    "                    node = queue.pop()\n",
    "                    level_values.append(node.val)\n",
    "                    if node.right:\n",
    "                        queue.appendleft(node.right)\n",
    "                    if node.left:\n",
    "                        queue.appendleft(node.left)\n",
    "            \n",
    "            result.append(level_values)\n",
    "            level += 1\n",
    "\n",
    "        return result\n"
   ]
  }
 ],
 "metadata": {
  "kernelspec": {
   "display_name": "base",
   "language": "python",
   "name": "python3"
  },
  "language_info": {
   "codemirror_mode": {
    "name": "ipython",
    "version": 3
   },
   "file_extension": ".py",
   "mimetype": "text/x-python",
   "name": "python",
   "nbconvert_exporter": "python",
   "pygments_lexer": "ipython3",
   "version": "3.9.16"
  }
 },
 "nbformat": 4,
 "nbformat_minor": 2
}

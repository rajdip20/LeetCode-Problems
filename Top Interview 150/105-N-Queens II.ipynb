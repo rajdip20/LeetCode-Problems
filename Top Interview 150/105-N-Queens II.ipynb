{
 "cells": [
  {
   "cell_type": "markdown",
   "metadata": {},
   "source": [
    "The **n-queens** puzzle is the problem of placing `n` queens on an `n x n` chessboard such that no two queens attack each other.\n",
    "\n",
    "Given an integer `n`, return *the number of distinct solutions to the ***n-queens puzzle****.\n",
    "\n",
    "<br>\n",
    "\n",
    "**Example 1:**\n",
    "![queens](../images/queens.jpg)\n",
    "\n",
    ">**Input:** n = 4<br>\n",
    ">**Output:** 2<br>\n",
    ">**Explanation:** There are two distinct solutions to the 4-queens puzzle as shown.\n",
    "\n",
    "**Example 2:**\n",
    ">**Input:** n = 1<br>\n",
    ">**Output:** 1\n",
    "\n",
    "<br>\n",
    "\n",
    "**Constraints:**\n",
    "- >1 <= n <= 9"
   ]
  },
  {
   "cell_type": "code",
   "execution_count": 1,
   "metadata": {},
   "outputs": [],
   "source": [
    "class Solution:\n",
    "    def totalNQueens(self, n: int) -> int:\n",
    "        def is_not_under_attack(row, col):\n",
    "            for prev_row in range(row):\n",
    "                if board[prev_row] == col or \\\n",
    "                prev_row - board[prev_row] == row - col or \\\n",
    "                prev_row + board[prev_row] == row + col:\n",
    "                    return False\n",
    "            return True\n",
    "\n",
    "        def place_queen(row):\n",
    "            nonlocal count\n",
    "            for col in range(n):\n",
    "                if is_not_under_attack(row, col):\n",
    "                    board[row] = col\n",
    "                    if row + 1 == n:\n",
    "                        count += 1\n",
    "                    else:\n",
    "                        place_queen(row + 1)\n",
    "\n",
    "        count = 0\n",
    "        board = [-1] * n\n",
    "        place_queen(0)\n",
    "        return count"
   ]
  }
 ],
 "metadata": {
  "kernelspec": {
   "display_name": "base",
   "language": "python",
   "name": "python3"
  },
  "language_info": {
   "codemirror_mode": {
    "name": "ipython",
    "version": 3
   },
   "file_extension": ".py",
   "mimetype": "text/x-python",
   "name": "python",
   "nbconvert_exporter": "python",
   "pygments_lexer": "ipython3",
   "version": "3.9.16"
  }
 },
 "nbformat": 4,
 "nbformat_minor": 2
}

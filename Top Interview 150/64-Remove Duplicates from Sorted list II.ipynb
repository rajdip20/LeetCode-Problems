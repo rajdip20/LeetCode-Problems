{
 "cells": [
  {
   "cell_type": "markdown",
   "metadata": {},
   "source": [
    "Given the `head` of a sorted linked list, *delete all nodes that have duplicate numbers, leaving only distinct numbers from the original list*. Return *the linked list ***sorted*** as well*.\n",
    "\n",
    "<br>\n",
    "\n",
    "**Example 1:**\n",
    "\n",
    "![alt text](../images/linkedlist1.jpg)\n",
    "\n",
    ">**Input:** head = [1,2,3,3,4,4,5]<br>\n",
    ">**Output:** [1,2,5]\n",
    "\n",
    "**Example 2:**\n",
    "\n",
    "![alt text](../images/linkedlist2.jpg)\n",
    "\n",
    ">**Input:** head = [1,1,1,2,3]<br>\n",
    ">**Output:** [2,3]\n",
    "\n",
    "<br>\n",
    "\n",
    "**Constraints:**\n",
    "- >The number of nodes in the list is in the range [0, 300].\n",
    "- >-100 <= Node.val <= 100\n",
    "- >The list is guaranteed to be **sorted** in ascending order."
   ]
  },
  {
   "cell_type": "code",
   "execution_count": 1,
   "metadata": {},
   "outputs": [],
   "source": [
    "# Definition for singly-linked list.\n",
    "# class ListNode:\n",
    "#     def __init__(self, val=0, next=None):\n",
    "#         self.val = val\n",
    "#         self.next = next\n",
    "class Solution:\n",
    "    def deleteDuplicates(self, head):\n",
    "        dummy = ListNode(0)\n",
    "        dummy.next = head\n",
    "        prev = dummy\n",
    "\n",
    "        while head:\n",
    "            if head.next and head.val == head.next.val:\n",
    "                while head.next and head.val == head.next.val:\n",
    "                    head = head.next\n",
    "                prev.next = head.next\n",
    "            else:\n",
    "                prev = prev.next\n",
    "            head = head.next\n",
    "\n",
    "        return dummy.next"
   ]
  }
 ],
 "metadata": {
  "kernelspec": {
   "display_name": "base",
   "language": "python",
   "name": "python3"
  },
  "language_info": {
   "codemirror_mode": {
    "name": "ipython",
    "version": 3
   },
   "file_extension": ".py",
   "mimetype": "text/x-python",
   "name": "python",
   "nbconvert_exporter": "python",
   "pygments_lexer": "ipython3",
   "version": "3.9.16"
  }
 },
 "nbformat": 4,
 "nbformat_minor": 2
}

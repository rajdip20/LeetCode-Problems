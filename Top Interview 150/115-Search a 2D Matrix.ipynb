{
 "cells": [
  {
   "cell_type": "markdown",
   "metadata": {},
   "source": [
    "You are given an `m x n` integer matrix `matrix` with the following two properties:\n",
    "- Each row is sorted in non-decreasing order.\n",
    "- The first integer of each row is greater than the last integer of the previous row.\n",
    "\n",
    "Given an integer `target`, return `true` *if* `target` *is in* `matrix` *or* `false` *otherwise*.\n",
    "\n",
    "You must write a solution in `O(log(m * n))` time complexity.\n",
    "\n",
    "\n",
    "<br>\n",
    "\n",
    "**Example 1:**\n",
    "\n",
    "![mat3](../images/mat3.jpg)\n",
    "\n",
    ">**Input:** matrix = [[1,3,5,7],[10,11,16,20],[23,30,34,60]], target = 3<br>\n",
    ">**Output:** true\n",
    "\n",
    "**Example 2:**\n",
    "\n",
    "![mat4](../images/mat4.jpg)\n",
    "\n",
    ">**Input:** matrix = [[1,3,5,7],[10,11,16,20],[23,30,34,60]], target = 13<br>\n",
    ">**Output:** false\n",
    "\n",
    "<br>\n",
    "\n",
    "**Constraints:**\n",
    "- >m == matrix.length\n",
    "- >n == matrix[i].length\n",
    "- >1 <= m, n <= 100\n",
    "- >-10<sup>4</sup> <= matrix[i][j], target <= 10<sup>4</sup>"
   ]
  },
  {
   "cell_type": "code",
   "execution_count": 1,
   "metadata": {},
   "outputs": [],
   "source": [
    "class Solution:\n",
    "    def searchMatrix(self, matrix: list[list[int]], target: int) -> bool:\n",
    "        if not matrix or not matrix[0]:\n",
    "            return False\n",
    "        \n",
    "        m, n = len(matrix), len(matrix[0])\n",
    "        left, right = 0, m * n - 1\n",
    "        \n",
    "        while left <= right:\n",
    "            mid = (left + right) // 2\n",
    "            row, col = divmod(mid, n)\n",
    "            \n",
    "            mid_element = matrix[row][col]\n",
    "            \n",
    "            if mid_element == target:\n",
    "                return True\n",
    "            elif mid_element < target:\n",
    "                left = mid + 1\n",
    "            else:\n",
    "                right = mid - 1\n",
    "        \n",
    "        return False"
   ]
  }
 ],
 "metadata": {
  "kernelspec": {
   "display_name": "base",
   "language": "python",
   "name": "python3"
  },
  "language_info": {
   "codemirror_mode": {
    "name": "ipython",
    "version": 3
   },
   "file_extension": ".py",
   "mimetype": "text/x-python",
   "name": "python",
   "nbconvert_exporter": "python",
   "pygments_lexer": "ipython3",
   "version": "3.9.16"
  }
 },
 "nbformat": 4,
 "nbformat_minor": 2
}

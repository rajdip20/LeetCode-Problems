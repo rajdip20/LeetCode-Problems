{
 "cells": [
  {
   "cell_type": "markdown",
   "metadata": {},
   "source": [
    "Given a string `path`, which is an **absolute path** (starting with a slash `'/'`) to a file or directory in a Unix-style file system, convert it to the simplified **canonical path**.\n",
    "\n",
    "In a Unix-style file system, a period `'.'` refers to the current directory, a double period `'..'` refers to the directory up a level, and any multiple consecutive slashes (i.e. `'//'`) are treated as a single slash `'/'`. For this problem, any other format of periods such as `'...'` are treated as file/directory names.\n",
    "\n",
    "The **canonical path** should have the following format:\n",
    "- The path starts with a single slash `'/'`.\n",
    "- Any two directories are separated by a single slash `'/'`.\n",
    "- The path does not end with a trailing `'/'`.\n",
    "- The path only contains the directories on the path from the root directory to the target file or directory (i.e., no period `'.'` or double period `'..'`)\n",
    "\n",
    "Return *the simplified* ***canonical path***.\n",
    "\n",
    "<br>\n",
    "\n",
    "**Example 1:**\n",
    ">**Input:** path = \"/home/\"<br>\n",
    ">**Output:** \"/home\"<br>\n",
    ">**Explanation:** Note that there is no trailing slash after the last directory name.\n",
    "\n",
    "**Example 2:**\n",
    ">**Input:** path = \"/../\"<br>\n",
    ">**Output:** \"/\"<br>\n",
    ">**Explanation:** Going one level up from the root directory is a no-op, as the root level is the highest level you can go.\n",
    "\n",
    "**Example 3:**\n",
    ">**Input:** path = \"/home//foo/\"<br>\n",
    ">**Output:** \"/home/foo\"<br>\n",
    ">**Explanation:** In the canonical path, multiple consecutive slashes are replaced by a single one.\n",
    "\n",
    "<br>\n",
    "\n",
    "**Constraints:**\n",
    "- >1 <= path.length <= 3000\n",
    "- >path consists of English letters, digits, period '.', slash '/' or '_'.\n",
    "- >path is a valid absolute Unix path."
   ]
  },
  {
   "cell_type": "code",
   "execution_count": 1,
   "metadata": {},
   "outputs": [],
   "source": [
    "class Solution:\n",
    "    def simplifyPath(self, path: str) -> str:\n",
    "        stack = []\n",
    "        components = path.split(\"/\")\n",
    "        \n",
    "        for component in components:\n",
    "            if component == \".\" or component == \"\":\n",
    "                continue\n",
    "            elif component == \"..\":\n",
    "                if stack:\n",
    "                    stack.pop()\n",
    "            else:\n",
    "                stack.append(component)\n",
    "        \n",
    "        return \"/\" + \"/\".join(stack)"
   ]
  }
 ],
 "metadata": {
  "kernelspec": {
   "display_name": "base",
   "language": "python",
   "name": "python3"
  },
  "language_info": {
   "codemirror_mode": {
    "name": "ipython",
    "version": 3
   },
   "file_extension": ".py",
   "mimetype": "text/x-python",
   "name": "python",
   "nbconvert_exporter": "python",
   "pygments_lexer": "ipython3",
   "version": "3.9.16"
  }
 },
 "nbformat": 4,
 "nbformat_minor": 2
}

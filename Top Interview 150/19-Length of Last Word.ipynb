{
 "cells": [
  {
   "cell_type": "markdown",
   "metadata": {},
   "source": [
    "Given a string `s` consisting of words and spaces, return *the length of the ***last*** word in the string*.\n",
    "\n",
    "A **word** is a maximal substring consisting of non-space characters only.\n",
    "\n",
    "<br>\n",
    "\n",
    "**Example 1:**\n",
    ">**Input:** s = \"Hello World\"<br>\n",
    ">**Output:** 5<br>\n",
    ">**Explanation:** The last word is \"World\" with length 5.\n",
    "\n",
    "\n",
    "**Example 2:**\n",
    ">**Input:** s = \"   fly me   to   the moon  \"<br>\n",
    ">**Output:** 4<br>\n",
    ">**Explanation:** The last word is \"moon\" with length 4.\n",
    "\n",
    "\n",
    "**Example 3:**\n",
    ">**Input:** s = \"luffy is still joyboy\"<br>\n",
    ">**Output:** 6<br>\n",
    ">**Explanation:** The last word is \"joyboy\" with length 6.\n",
    " \n",
    "<br>\n",
    "\n",
    "**Constraints:**\n",
    "- >1 <= s.length <= 10<sup>4</sup>\n",
    "- >s consists of only English letters and spaces ' '.\n",
    "- >There will be at least one word in s."
   ]
  },
  {
   "cell_type": "code",
   "execution_count": 1,
   "metadata": {},
   "outputs": [],
   "source": [
    "class Solution:\n",
    "    def lengthOfLastWord(self, s: str) -> int:\n",
    "        s = s.strip()\n",
    "        last_space_index = s.rfind(' ')\n",
    "    \n",
    "        if last_space_index == -1:\n",
    "            return len(s)\n",
    "        else:\n",
    "            return len(s) - last_space_index - 1"
   ]
  }
 ],
 "metadata": {
  "kernelspec": {
   "display_name": "base",
   "language": "python",
   "name": "python3"
  },
  "language_info": {
   "codemirror_mode": {
    "name": "ipython",
    "version": 3
   },
   "file_extension": ".py",
   "mimetype": "text/x-python",
   "name": "python",
   "nbconvert_exporter": "python",
   "pygments_lexer": "ipython3",
   "version": "3.9.16"
  }
 },
 "nbformat": 4,
 "nbformat_minor": 2
}

{
 "cells": [
  {
   "cell_type": "markdown",
   "metadata": {},
   "source": [
    "You are given an integer array `coins` representing coins of different denominations and an integer `amount` representing a total amount of money.\n",
    "\n",
    "Return *the fewest number of coins that you need to make up that amount*. If that amount of money cannot be made up by any combination of the coins, return `-1`.\n",
    "\n",
    "You may assume that you have an infinite number of each kind of coin.\n",
    "\n",
    "<br>\n",
    "\n",
    "**Example 1:**\n",
    ">**Input:** coins = [1,2,5], amount = 11<br>\n",
    ">**Output:** 3<br>\n",
    ">**Explanation:** 11 = 5 + 5 + 1\n",
    "\n",
    "**Example 2:**\n",
    ">**Input:** coins = [2], amount = 3<br>\n",
    ">**Output:** -1\n",
    "\n",
    "**Example 3:**\n",
    ">**Input:** coins = [1], amount = 0<br>\n",
    ">**Output:** 0\n",
    "\n",
    "<br>\n",
    "\n",
    "**Constraints:**\n",
    "- >1 <= coins.length <= 12\n",
    "- >1 <= coins[i] <= 2<sup>31</sup> - 1\n",
    "- >0 <= amount <= 10<sup>4</sup>"
   ]
  },
  {
   "cell_type": "code",
   "execution_count": 1,
   "metadata": {},
   "outputs": [],
   "source": [
    "class Solution:\n",
    "    def coinChange(self, coins: list[int], amount: int) -> int:\n",
    "        dp = [float('inf')] * (amount + 1)\n",
    "        dp[0] = 0\n",
    "\n",
    "        for coin in coins:\n",
    "            for i in range(coin, amount + 1):\n",
    "                dp[i] = min(dp[i], dp[i - coin] + 1)\n",
    "\n",
    "        return dp[amount] if dp[amount] != float('inf') else -1"
   ]
  }
 ],
 "metadata": {
  "kernelspec": {
   "display_name": "base",
   "language": "python",
   "name": "python3"
  },
  "language_info": {
   "codemirror_mode": {
    "name": "ipython",
    "version": 3
   },
   "file_extension": ".py",
   "mimetype": "text/x-python",
   "name": "python",
   "nbconvert_exporter": "python",
   "pygments_lexer": "ipython3",
   "version": "3.9.16"
  }
 },
 "nbformat": 4,
 "nbformat_minor": 2
}

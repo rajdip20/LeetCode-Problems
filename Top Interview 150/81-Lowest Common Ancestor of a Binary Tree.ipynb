{
 "cells": [
  {
   "cell_type": "markdown",
   "metadata": {},
   "source": [
    "Given a binary tree, find the lowest common ancestor (LCA) of two given nodes in the tree.\n",
    "\n",
    "According to the [definition of LCA on Wikipedia](https://en.wikipedia.org/wiki/Lowest_common_ancestor): “The lowest common ancestor is defined between two nodes `p` and `q` as the lowest node in `T` that has both `p` and `q` as descendants (where we allow **a node to be a descendant of itself**).”\n",
    "\n",
    "<br>\n",
    "\n",
    "**Example 1:**\n",
    "\n",
    "![binarytree](../images/binarytree.png)\n",
    "\n",
    ">**Input:** root = [3,5,1,6,2,0,8,null,null,7,4], p = 5, q = 1<br>\n",
    ">**Output:** 3<br>\n",
    ">**Explanation:** The LCA of nodes 5 and 1 is 3.\n",
    "\n",
    "**Example 2:**\n",
    "\n",
    "![binarytree (1)](<../images/binarytree (1).png>)\n",
    "\n",
    ">**Input:** root = [3,5,1,6,2,0,8,null,null,7,4], p = 5, q = 4<br>\n",
    ">**Output:** 5<br>\n",
    ">**Explanation:** The LCA of nodes 5 and 4 is 5, since a node can be a descendant of itself according to the LCA definition.\n",
    "\n",
    "**Example 3:**\n",
    ">**Input:** root = [1,2], p = 1, q = 2<br>\n",
    ">**Output:** 1\n",
    "\n",
    "<br>\n",
    "\n",
    "**Constraints:**\n",
    "- >The number of nodes in the tree is in the range [2, 10<sup>5</sup>].\n",
    "- >-10<sup>9</sup> <= Node.val <= 10<sup>9</sup>\n",
    "- >All Node.val are **unique**.\n",
    "- >p != q\n",
    "- >p and q will exist in the tree."
   ]
  },
  {
   "cell_type": "code",
   "execution_count": 1,
   "metadata": {},
   "outputs": [],
   "source": [
    "# Definition for a binary tree node.\n",
    "# class TreeNode:\n",
    "#     def __init__(self, x):\n",
    "#         self.val = x\n",
    "#         self.left = None\n",
    "#         self.right = None\n",
    "\n",
    "class Solution:\n",
    "    def lowestCommonAncestor(self, root, p, q):\n",
    "        if not root or root.val == p.val or root.val == q.val:\n",
    "            return root\n",
    "\n",
    "        left_lca = self.lowestCommonAncestor(root.left, p, q)\n",
    "        right_lca = self.lowestCommonAncestor(root.right, p, q)\n",
    "\n",
    "        if left_lca and right_lca:\n",
    "            return root\n",
    "\n",
    "        return left_lca or right_lca"
   ]
  }
 ],
 "metadata": {
  "kernelspec": {
   "display_name": "base",
   "language": "python",
   "name": "python3"
  },
  "language_info": {
   "codemirror_mode": {
    "name": "ipython",
    "version": 3
   },
   "file_extension": ".py",
   "mimetype": "text/x-python",
   "name": "python",
   "nbconvert_exporter": "python",
   "pygments_lexer": "ipython3",
   "version": "3.9.16"
  }
 },
 "nbformat": 4,
 "nbformat_minor": 2
}

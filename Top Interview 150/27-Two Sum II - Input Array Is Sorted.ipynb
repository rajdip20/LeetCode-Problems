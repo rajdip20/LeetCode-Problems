{
 "cells": [
  {
   "cell_type": "markdown",
   "metadata": {},
   "source": [
    "Given a **1-indexed** array of integers `numbers` that is already **sorted in non-decreasing order**, find two numbers such that they add up to a specific `target` number. Let these two numbers be **numbers[index<sub>1</sub>]** and **numbers[index<sub>2</sub>]** where **1 <= index<sub>1</sub> < index<sub>2</sub> <= numbers.length**.\n",
    "\n",
    "Return *the indices of the two numbers, ***index<sub>1</sub>*** and ***index<sub>2</sub>***, ***added by one*** as an integer array ***[index<sub>1</sub>, index<sub>2</sub>]*** of length 2*.\n",
    "\n",
    "The tests are generated such that there is **exactly one solution**. You **may not** use the same element twice.\n",
    "\n",
    "Your solution must use only constant extra space.\n",
    "\n",
    "<br>\n",
    "\n",
    "**Example 1:**\n",
    ">**Input:** numbers = [2,7,11,15], target = 9<br>\n",
    ">**Output:** [1,2]<br>\n",
    ">**Explanation:** The sum of 2 and 7 is 9. Therefore, index1 = 1, index2 = 2. We return [1, 2].\n",
    "\n",
    "\n",
    "**Example 2:**\n",
    ">**Input:** numbers = [2,3,4], target = 6<br>\n",
    ">**Output:** [1,3]<br>\n",
    ">**Explanation:** The sum of 2 and 4 is 6. Therefore index1 = 1, index2 = 3. We return [1, 3].\n",
    "\n",
    "\n",
    "**Example 3:**\n",
    ">**Input:** numbers = [-1,0], target = -1<br>\n",
    ">**Output:** [1,2]<br>\n",
    ">**Explanation:** The sum of -1 and 0 is -1. Therefore index1 = 1, index2 = 2. We return [1, 2].\n",
    " \n",
    "<br>\n",
    "\n",
    "**Constraints:**\n",
    "- >2 <= numbers.length <= 3 * 10<sup>4</sup>\n",
    "- >-1000 <= numbers[i] <= 1000\n",
    "- >numbers is sorted in **non-decreasing order**.\n",
    "- >-1000 <= target <= 1000\n",
    "- >The tests are generated such that there is **exactly one solution**."
   ]
  },
  {
   "cell_type": "code",
   "execution_count": 1,
   "metadata": {},
   "outputs": [],
   "source": [
    "class Solution:\n",
    "    def twoSum(self, numbers: list[int], target: int) -> list[int]:\n",
    "        left, right = 0, len(numbers) - 1\n",
    "    \n",
    "        while left < right:\n",
    "            current_sum = numbers[left] + numbers[right]\n",
    "            \n",
    "            if current_sum == target:\n",
    "                return [left + 1, right + 1]\n",
    "            elif current_sum < target:\n",
    "                left += 1\n",
    "            else:\n",
    "                right -= 1\n",
    "        \n",
    "        return [-1, -1]"
   ]
  }
 ],
 "metadata": {
  "kernelspec": {
   "display_name": "base",
   "language": "python",
   "name": "python3"
  },
  "language_info": {
   "codemirror_mode": {
    "name": "ipython",
    "version": 3
   },
   "file_extension": ".py",
   "mimetype": "text/x-python",
   "name": "python",
   "nbconvert_exporter": "python",
   "pygments_lexer": "ipython3",
   "version": "3.9.16"
  }
 },
 "nbformat": 4,
 "nbformat_minor": 2
}

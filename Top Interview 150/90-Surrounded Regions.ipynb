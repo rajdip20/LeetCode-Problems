{
 "cells": [
  {
   "cell_type": "markdown",
   "metadata": {},
   "source": [
    "Given an `m x n` matrix `board` containing `'X'` and `'O'`, *capture all regions that are 4-directionally surrounded by* `'X'`.\n",
    "\n",
    "A region is **captured** by flipping all `'O'`s into `'X'`s in that surrounded region.\n",
    "\n",
    "<br>\n",
    "\n",
    "**Example 1:**\n",
    "\n",
    "![xogrid](../images/xogrid.jpg)\n",
    "\n",
    ">**Input:** board = [[\"X\",\"X\",\"X\",\"X\"],[\"X\",\"O\",\"O\",\"X\"],[\"X\",\"X\",\"O\",\"X\"],[\"X\",\"O\",\"X\",\"X\"]]<br>\n",
    ">**Output:** [[\"X\",\"X\",\"X\",\"X\"],[\"X\",\"X\",\"X\",\"X\"],[\"X\",\"X\",\"X\",\"X\"],[\"X\",\"O\",\"X\",\"X\"]]<br>\n",
    ">**Explanation:** Notice that an 'O' should not be flipped if:<br>\n",
    ">\\- It is on the border, or<br>\n",
    ">\\- It is adjacent to an 'O' that should not be flipped.<br>\n",
    ">The bottom 'O' is on the border, so it is not flipped.<br>\n",
    ">The other three 'O' form a surrounded region, so they are flipped.\n",
    "\n",
    "**Example 2:**\n",
    ">**Input:** board = [[\"X\"]]<br>\n",
    ">**Output:** [[\"X\"]]\n",
    "\n",
    "<br>\n",
    "\n",
    "**Constraints:**\n",
    "- >m == board.length\n",
    "- >n == board[i].length\n",
    "- >1 <= m, n <= 200\n",
    "- >board[i][j] is 'X' or 'O'."
   ]
  },
  {
   "cell_type": "code",
   "execution_count": 1,
   "metadata": {},
   "outputs": [],
   "source": [
    "class Solution:\n",
    "    def solve(self, board: list[list[str]]) -> None:\n",
    "        \"\"\"\n",
    "        Do not return anything, modify board in-place instead.\n",
    "        \"\"\"\n",
    "        if not board or not board[0]:\n",
    "            return\n",
    "\n",
    "        def DFS(i, j):\n",
    "            if i < 0 or i >= len(board) or j < 0 or j >= len(board[0]) or board[i][j] != 'O':\n",
    "                return\n",
    "            \n",
    "            board[i][j] = 'N'\n",
    "            DFS(i + 1, j)\n",
    "            DFS(i - 1, j)\n",
    "            DFS(i, j + 1)\n",
    "            DFS(i, j - 1)\n",
    "\n",
    "        for i in range(len(board)):\n",
    "            for j in range(len(board[0])):\n",
    "                if (i in [0, len(board) - 1] or j in [0, len(board[0]) - 1]) and board[i][j] == 'O':\n",
    "                    DFS(i, j)\n",
    "\n",
    "        for i in range(len(board)):\n",
    "            for j in range(len(board[0])):\n",
    "                if board[i][j] == 'O':\n",
    "                    board[i][j] = 'X'\n",
    "                elif board[i][j] == 'N':\n",
    "                    board[i][j] = 'O'"
   ]
  }
 ],
 "metadata": {
  "kernelspec": {
   "display_name": "base",
   "language": "python",
   "name": "python3"
  },
  "language_info": {
   "codemirror_mode": {
    "name": "ipython",
    "version": 3
   },
   "file_extension": ".py",
   "mimetype": "text/x-python",
   "name": "python",
   "nbconvert_exporter": "python",
   "pygments_lexer": "ipython3",
   "version": "3.9.16"
  }
 },
 "nbformat": 4,
 "nbformat_minor": 2
}

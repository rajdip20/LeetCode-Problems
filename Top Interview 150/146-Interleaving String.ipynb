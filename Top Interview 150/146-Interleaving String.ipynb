{
 "cells": [
  {
   "cell_type": "markdown",
   "metadata": {},
   "source": [
    "Given strings `s1`, `s2`, and `s3`, find whether `s3` is formed by an **interleaving** of `s1` and `s2`.\n",
    "\n",
    "An **interleaving** of two strings `s` and `t` is a configuration where `s` and `t` are divided into `n` and `m` substrings respectively, such that:\n",
    "- **s = s<sub>1</sub> + s<sub>2</sub> + ... + s<sub>n</sub>**\n",
    "- **t = t<sub>1</sub> + t<sub>2</sub> + ... + t<sub>m</sub>**\n",
    "- **|n - m| <= 1**\n",
    "- The **interleaving** is **s<sub>1</sub> + t<sub>1</sub> + s<sub>2</sub> + t<sub>2</sub> + s<sub>3</sub> + t<sub>3</sub> + ...** or **t<sub>1</sub> + s<sub>1</sub> + t<sub>2</sub> + s<sub>2</sub> + t<sub>3</sub> + s<sub>3</sub> + ...**\n",
    "\n",
    "**Note:** `a + b` is the concatenation of strings `a` and `b`.\n",
    "\n",
    "<br>\n",
    "\n",
    "**Example 1:**\n",
    "\n",
    "![interleave](../images/interleave.jpg)\n",
    ">**Input:** s1 = \"aabcc\", s2 = \"dbbca\", s3 = \"aadbbcbcac\"<br>\n",
    ">**Output:** true<br>\n",
    ">**Explanation:** One way to obtain s3 is:<br>\n",
    ">Split s1 into s1 = \"aa\" + \"bc\" + \"c\", and s2 into s2 = \"dbbc\" + \"a\".<br>\n",
    ">Interleaving the two splits, we get \"aa\" + \"dbbc\" + \"bc\" + \"a\" + \"c\" = \"aadbbcbcac\".<br>\n",
    ">Since s3 can be obtained by interleaving s1 and s2, we return true.\n",
    "\n",
    "**Example 2:**\n",
    ">**Input:** s1 = \"aabcc\", s2 = \"dbbca\", s3 = \"aadbbbaccc\"<br>\n",
    ">**Output:** false<br>\n",
    ">**Explanation:** Notice how it is impossible to interleave s2 with any other string to obtain s3.\n",
    "\n",
    "**Example 3:**\n",
    ">**Input:** s1 = \"\", s2 = \"\", s3 = \"\"<br>\n",
    ">**Output:** true\n",
    "\n",
    "<br>\n",
    "\n",
    "**Constraints:**\n",
    "- >0 <= s1.length, s2.length <= 100\n",
    "- >0 <= s3.length <= 200\n",
    "- >s1, s2, and s3 consist of lowercase English letters.\n",
    "\n",
    "<br><br>\n",
    "\n",
    "**Follow up:** Could you solve it using only `O(s2.length)` additional memory space?"
   ]
  },
  {
   "cell_type": "code",
   "execution_count": 1,
   "metadata": {},
   "outputs": [],
   "source": [
    "class Solution:\n",
    "    def isInterleave(self, s1: str, s2: str, s3: str) -> bool:\n",
    "        m, n = len(s1), len(s2)\n",
    "        if m + n != len(s3):\n",
    "            return False\n",
    "\n",
    "        dp = [False] * (n + 1)\n",
    "        dp[0] = True\n",
    "\n",
    "        for j in range(1, n + 1):\n",
    "            dp[j] = dp[j - 1] and s2[j - 1] == s3[j - 1]\n",
    "\n",
    "        for i in range(1, m + 1):\n",
    "            dp[0] = dp[0] and s1[i - 1] == s3[i - 1]\n",
    "            for j in range(1, n + 1):\n",
    "                dp[j] = (dp[j] and s1[i - 1] == s3[i + j - 1]) or (dp[j - 1] and s2[j - 1] == s3[i + j - 1])\n",
    "\n",
    "        return dp[n]"
   ]
  }
 ],
 "metadata": {
  "kernelspec": {
   "display_name": "base",
   "language": "python",
   "name": "python3"
  },
  "language_info": {
   "codemirror_mode": {
    "name": "ipython",
    "version": 3
   },
   "file_extension": ".py",
   "mimetype": "text/x-python",
   "name": "python",
   "nbconvert_exporter": "python",
   "pygments_lexer": "ipython3",
   "version": "3.9.16"
  }
 },
 "nbformat": 4,
 "nbformat_minor": 2
}

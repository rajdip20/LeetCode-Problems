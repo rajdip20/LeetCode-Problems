{
 "cells": [
  {
   "cell_type": "markdown",
   "metadata": {},
   "source": [
    "Given two strings `ransomNote` and `magazine`, return `true` *if* `ransomNote` *can be constructed by using the letters from* `magazine` *and* `false` *otherwise*.\n",
    "\n",
    "Each letter in `magazine` can only be used once in `ransomNote`.\n",
    "\n",
    "<br>\n",
    "\n",
    "**Example 1:**\n",
    ">**Input:** ransomNote = \"a\", magazine = \"b\"<br>\n",
    ">**Output:** false\n",
    "\n",
    "**Example 2:**\n",
    ">**Input:** ransomNote = \"aa\", magazine = \"ab\"<br>\n",
    ">**Output:** false\n",
    "\n",
    "**Example 3:**\n",
    ">**Input:** ransomNote = \"aa\", magazine = \"aab\"<br>\n",
    ">**Output:** true\n",
    " \n",
    "<br>\n",
    "\n",
    "**Constraints:**\n",
    "- >1 <= ransomNote.length, magazine.length <= 105\n",
    "- >ransomNote and magazine consist of lowercase English letters."
   ]
  },
  {
   "cell_type": "code",
   "execution_count": 1,
   "metadata": {},
   "outputs": [],
   "source": [
    "class Solution:\n",
    "    def canConstruct(self, ransomNote: str, magazine: str) -> bool:\n",
    "        magazine_freq = {}\n",
    "        for char in magazine:\n",
    "            magazine_freq[char] = magazine_freq.get(char, 0) + 1\n",
    "        \n",
    "        for char in ransomNote:\n",
    "            if char not in magazine_freq or magazine_freq[char] == 0:\n",
    "                return False\n",
    "            magazine_freq[char] -= 1\n",
    "        \n",
    "        return True"
   ]
  }
 ],
 "metadata": {
  "kernelspec": {
   "display_name": "base",
   "language": "python",
   "name": "python3"
  },
  "language_info": {
   "codemirror_mode": {
    "name": "ipython",
    "version": 3
   },
   "file_extension": ".py",
   "mimetype": "text/x-python",
   "name": "python",
   "nbconvert_exporter": "python",
   "pygments_lexer": "ipython3",
   "version": "3.9.16"
  }
 },
 "nbformat": 4,
 "nbformat_minor": 2
}

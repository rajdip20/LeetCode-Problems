{
 "cells": [
  {
   "cell_type": "markdown",
   "metadata": {},
   "source": [
    "Given a string `s` representing a valid expression, implement a basic calculator to evaluate it, and return *the result of the evaluation*.\n",
    "\n",
    "**Note:** You are **not** allowed to use any built-in function which evaluates strings as mathematical expressions, such as `eval()`.\n",
    "\n",
    "<br>\n",
    "\n",
    "**Example 1:**\n",
    ">**Input:** s = \"1 + 1\"<br>\n",
    ">**Output:** 2\n",
    "\n",
    "**Example 2:**\n",
    ">**Input:** s = \" 2-1 + 2 \"<br>\n",
    ">**Output:** 3\n",
    "\n",
    "**Example 3:**\n",
    ">**Input:** s = \"(1+(4+5+2)-3)+(6+8)\"<br>\n",
    ">**Output:** 23\n",
    "\n",
    "<br>\n",
    "\n",
    "**Constraints:**\n",
    "- >1 <= s.length <= 3 * 10<sup>5</sup>\n",
    "- >s consists of digits, '+', '-', '(', ')', and ' '.\n",
    "- >s represents a valid expression.\n",
    "- >'+' is not used as a unary operation (i.e., \"+1\" and \"+(2 + 3)\" is invalid).\n",
    "- >'-' could be used as a unary operation (i.e., \"-1\" and \"-(2 + 3)\" is valid).\n",
    "- >There will be no two consecutive operators in the input.\n",
    "- >Every number and running calculation will fit in a signed 32-bit integer."
   ]
  },
  {
   "cell_type": "code",
   "execution_count": 1,
   "metadata": {},
   "outputs": [],
   "source": [
    "class Solution:\n",
    "    def calculate(self, s: str) -> int:\n",
    "        stack = []\n",
    "        result = 0\n",
    "        operand = 0\n",
    "        sign = 1\n",
    "\n",
    "        for char in s:\n",
    "            if char.isdigit():\n",
    "                operand = operand * 10 + int(char)\n",
    "            elif char == '+':\n",
    "                result += sign * operand\n",
    "                operand = 0\n",
    "                sign = 1\n",
    "            elif char == '-':\n",
    "                result += sign * operand\n",
    "                operand = 0\n",
    "                sign = -1\n",
    "            elif char == '(':\n",
    "                stack.append(result)\n",
    "                stack.append(sign)\n",
    "                result = 0\n",
    "                sign = 1\n",
    "            elif char == ')':\n",
    "                result += sign * operand\n",
    "                operand = 0\n",
    "                result *= stack.pop()  # Previous sign\n",
    "                result += stack.pop()  # Previous result\n",
    "\n",
    "        return result + sign * operand"
   ]
  }
 ],
 "metadata": {
  "kernelspec": {
   "display_name": "base",
   "language": "python",
   "name": "python3"
  },
  "language_info": {
   "codemirror_mode": {
    "name": "ipython",
    "version": 3
   },
   "file_extension": ".py",
   "mimetype": "text/x-python",
   "name": "python",
   "nbconvert_exporter": "python",
   "pygments_lexer": "ipython3",
   "version": "3.9.16"
  }
 },
 "nbformat": 4,
 "nbformat_minor": 2
}

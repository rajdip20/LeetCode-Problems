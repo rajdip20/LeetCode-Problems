{
 "cells": [
  {
   "cell_type": "markdown",
   "metadata": {},
   "source": [
    "Given a string `s`, return *the longest palindromic substring* in `s`.\n",
    "\n",
    "<br>\n",
    "\n",
    "**Example 1:**\n",
    ">**Input:** s = \"babad\"<br>\n",
    ">**Output:** \"bab\"<br>\n",
    ">**Explanation:** \"aba\" is also a valid answer.\n",
    "\n",
    "**Example 2:**\n",
    ">**Input:** s = \"cbbd\"<br>\n",
    ">**Output:** \"bb\"\n",
    "\n",
    "<br>\n",
    "\n",
    "**Constraints:**\n",
    "- >1 <= s.length <= 1000\n",
    "- >s consist of only digits and English letters."
   ]
  },
  {
   "cell_type": "code",
   "execution_count": 1,
   "metadata": {},
   "outputs": [],
   "source": [
    "class Solution:\n",
    "    def longestPalindrome(self, s: str) -> str:\n",
    "        def expand_around_center(left, right):\n",
    "            while left >= 0 and right < len(s) and s[left] == s[right]:\n",
    "                left -= 1\n",
    "                right += 1\n",
    "            return left + 1, right - 1\n",
    "\n",
    "        if not s or len(s) == 0:\n",
    "            return \"\"\n",
    "        \n",
    "        start, end = 0, 0\n",
    "        \n",
    "        for i in range(len(s)):\n",
    "            left1, right1 = expand_around_center(i, i)\n",
    "            left2, right2 = expand_around_center(i, i + 1)\n",
    "            \n",
    "            if right1 - left1 > end - start:\n",
    "                start, end = left1, right1\n",
    "            if right2 - left2 > end - start:\n",
    "                start, end = left2, right2\n",
    "        \n",
    "        return s[start:end + 1]"
   ]
  }
 ],
 "metadata": {
  "kernelspec": {
   "display_name": "base",
   "language": "python",
   "name": "python3"
  },
  "language_info": {
   "codemirror_mode": {
    "name": "ipython",
    "version": 3
   },
   "file_extension": ".py",
   "mimetype": "text/x-python",
   "name": "python",
   "nbconvert_exporter": "python",
   "pygments_lexer": "ipython3",
   "version": "3.9.16"
  }
 },
 "nbformat": 4,
 "nbformat_minor": 2
}

{
 "cells": [
  {
   "cell_type": "markdown",
   "metadata": {},
   "source": [
    "Given an integer array `nums` sorted in **non-decreasing order**, remove some duplicates [in-place](https://en.wikipedia.org/wiki/In-place_algorithm) such that each unique element appears **at most twice**. The **relative order** of the elements should be kept the **same**.\n",
    "\n",
    "Since it is impossible to change the length of the array in some languages, you must instead have the result be placed in the **first part** of the array `nums`. More formally, if there are `k` elements after removing the duplicates, then the first `k` elements of `nums` should hold the final result. It does not matter what you leave beyond the first `k` elements.\n",
    "\n",
    "Return `k` *after placing the final result in the first* `k` *slots of* `nums`.\n",
    "\n",
    "Do **not** allocate extra space for another array. You must do this by **modifying the input array** [in-place](https://en.wikipedia.org/wiki/In-place_algorithm) with O(1) extra memory.\n",
    "\n",
    "<br>\n",
    "\n",
    "**Custom Judge:**\n",
    "\n",
    "The judge will test your solution with the following code:\n",
    "\n",
    ">int[] nums = [...]; // Input array<br>\n",
    ">int[] expectedNums = [...]; // The expected answer with correct length<br>\n",
    ">\n",
    ">int k = removeDuplicates(nums); // Calls your implementation<br>\n",
    ">\n",
    ">assert k == expectedNums.length;<br>\n",
    ">for (int i = 0; i < k; i++) {<br>\n",
    ">&emsp;    assert nums[i] == expectedNums[i];<br>\n",
    ">}<br>\n",
    "\n",
    "If all assertions pass, then your solution will be **accepted**.\n",
    "\n",
    "<br> \n",
    "\n",
    "**Example 1:**\n",
    ">**Input:** nums = [1,1,1,2,2,3]<br>\n",
    ">**Output:** 5, nums = [1,1,2,2,3, _]<br>\n",
    ">**Explanation:** Your function should return k = 5, with the first five elements of nums being 1, 1, 2, 2 and 3 respectively.<br>\n",
    ">It does not matter what you leave beyond the returned k (hence they are underscores).\n",
    "\n",
    "**Example 2:**\n",
    ">**Input:** nums = [0,0,1,1,1,1,2,3,3]<br>\n",
    ">**Output:** 7, nums = [0,0,1,1,2,3,3,_ ,_]<br>\n",
    ">**Explanation:** Your function should return k = 7, with the first seven elements of nums being 0, 0, 1, 1, 2, 3 and 3 >respectively.<br>\n",
    ">It does not matter what you leave beyond the returned k (hence they are underscores).\n",
    " \n",
    "<br>\n",
    "\n",
    "**Constraints:**\n",
    "- >1 <= nums.length <= 3 * 10<sup>4</sup>\n",
    "- >-10<sup>4</sup> <= nums[i] <= 10<sup>4</sup>\n",
    "- >nums is sorted in **non-decreasing** order."
   ]
  },
  {
   "cell_type": "code",
   "execution_count": 1,
   "metadata": {},
   "outputs": [],
   "source": [
    "class Solution:\n",
    "    def removeDuplicates(self, nums: list[int]) -> int:\n",
    "        index = 1\n",
    "        count = 1\n",
    "\n",
    "        for i in range(1, len(nums)):\n",
    "            if nums[i] == nums[i - 1]:\n",
    "                count += 1\n",
    "            else:\n",
    "                count = 1\n",
    "\n",
    "            if count <= 2:\n",
    "                nums[index] = nums[i]\n",
    "                index += 1\n",
    "        \n",
    "        return index"
   ]
  }
 ],
 "metadata": {
  "kernelspec": {
   "display_name": "base",
   "language": "python",
   "name": "python3"
  },
  "language_info": {
   "codemirror_mode": {
    "name": "ipython",
    "version": 3
   },
   "file_extension": ".py",
   "mimetype": "text/x-python",
   "name": "python",
   "nbconvert_exporter": "python",
   "pygments_lexer": "ipython3",
   "version": "3.9.16"
  }
 },
 "nbformat": 4,
 "nbformat_minor": 2
}

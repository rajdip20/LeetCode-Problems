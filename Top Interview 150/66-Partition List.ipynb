{
 "cells": [
  {
   "cell_type": "markdown",
   "metadata": {},
   "source": [
    "Given the `head` of a linked list and a value `x`, partition it such that all nodes **less than** `x` come before nodes **greater than or equal** to `x`.\n",
    "\n",
    "You should **preserve** the original relative order of the nodes in each of the two partitions.\n",
    "\n",
    "<br>\n",
    "\n",
    "**Example 1:**\n",
    "\n",
    "![partition](../images/partition.jpg)\n",
    "\n",
    ">**Input:** head = [1,4,3,2,5,2], x = 3<br>\n",
    ">**Output:** [1,2,2,4,3,5]\n",
    "\n",
    "**Example 2:**\n",
    ">**Input:** head = [2,1], x = 2<br>\n",
    ">**Output:** [1,2]\n",
    "\n",
    "<br>\n",
    "\n",
    "**Constraints:**\n",
    "- >The number of nodes in the list is in the range [0, 200].\n",
    "- >-100 <= Node.val <= 100\n",
    "- >-200 <= x <= 200"
   ]
  },
  {
   "cell_type": "code",
   "execution_count": 1,
   "metadata": {},
   "outputs": [],
   "source": [
    "# Definition for singly-linked list.\n",
    "# class ListNode:\n",
    "#     def __init__(self, val=0, next=None):\n",
    "#         self.val = val\n",
    "#         self.next = next\n",
    "class Solution:\n",
    "    def partition(self, head, x: int):\n",
    "        before_head = ListNode(0)\n",
    "        after_head = ListNode(0)\n",
    "        before = before_head\n",
    "        after = after_head\n",
    "        \n",
    "        while head:\n",
    "            if head.val < x:\n",
    "                before.next = head\n",
    "                before = before.next\n",
    "            else:\n",
    "                after.next = head\n",
    "                after = after.next\n",
    "            head = head.next\n",
    "        \n",
    "        after.next = None\n",
    "        before.next = after_head.next\n",
    "        \n",
    "        return before_head.next"
   ]
  }
 ],
 "metadata": {
  "kernelspec": {
   "display_name": "base",
   "language": "python",
   "name": "python3"
  },
  "language_info": {
   "codemirror_mode": {
    "name": "ipython",
    "version": 3
   },
   "file_extension": ".py",
   "mimetype": "text/x-python",
   "name": "python",
   "nbconvert_exporter": "python",
   "pygments_lexer": "ipython3",
   "version": "3.9.16"
  }
 },
 "nbformat": 4,
 "nbformat_minor": 2
}

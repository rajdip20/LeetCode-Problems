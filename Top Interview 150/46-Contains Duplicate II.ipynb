{
 "cells": [
  {
   "cell_type": "markdown",
   "metadata": {},
   "source": [
    "Given an integer array `nums` and an integer `k`, return `true` *if there are two* ***distinct indices*** `i` *and* `j` *in the array such that* `nums[i] == nums[j]` *and* `abs(i - j) <= k`.\n",
    "\n",
    "<br>\n",
    "\n",
    "**Example 1:**\n",
    ">**Input:** nums = [1,2,3,1], k = 3<br>\n",
    ">**Output:** true\n",
    "\n",
    "**Example 2:**\n",
    ">**Input:** nums = [1,0,1,1], k = 1<br>\n",
    ">**Output:** true\n",
    "\n",
    "**Example 3:**\n",
    ">**Input:** nums = [1,2,3,1,2,3], k = 2<br>\n",
    ">**Output:** false\n",
    "\n",
    "<br>\n",
    "\n",
    "**Constraints:**\n",
    "- >1 <= nums.length <= 10<sup>5</sup>\n",
    "- >-10<sup>9</sup> <= nums[i] <= 10<sup>9</sup>\n",
    "- >0 <= k <= 10<sup>5</sup>"
   ]
  },
  {
   "cell_type": "code",
   "execution_count": 1,
   "metadata": {},
   "outputs": [],
   "source": [
    "class Solution:\n",
    "    def containsNearbyDuplicate(self, nums: list[int], k: int) -> bool:\n",
    "        num_indices = {}\n",
    "        \n",
    "        for i, num in enumerate(nums):\n",
    "            if num in num_indices and i - num_indices[num] <= k:\n",
    "                return True\n",
    "            \n",
    "            num_indices[num] = i\n",
    "        \n",
    "        return False"
   ]
  }
 ],
 "metadata": {
  "kernelspec": {
   "display_name": "base",
   "language": "python",
   "name": "python3"
  },
  "language_info": {
   "codemirror_mode": {
    "name": "ipython",
    "version": 3
   },
   "file_extension": ".py",
   "mimetype": "text/x-python",
   "name": "python",
   "nbconvert_exporter": "python",
   "pygments_lexer": "ipython3",
   "version": "3.9.16"
  }
 },
 "nbformat": 4,
 "nbformat_minor": 2
}

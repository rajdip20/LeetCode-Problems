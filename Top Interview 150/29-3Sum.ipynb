{
 "cells": [
  {
   "cell_type": "markdown",
   "metadata": {},
   "source": [
    "Given an integer array nums, return all the triplets `[nums[i], nums[j], nums[k]]` such that `i != j`, `i != k`, and `j != k`, and `nums[i] + nums[j] + nums[k] == 0`.\n",
    "\n",
    "Notice that the solution set must not contain duplicate triplets.\n",
    "\n",
    "<br> \n",
    "\n",
    "**Example 1:**\n",
    ">**Input:** nums = [-1,0,1,2,-1,-4]<br>\n",
    ">**Output:** [[-1,-1,2],[-1,0,1]]<br>\n",
    ">**Explanation:** <br>\n",
    ">nums[0] + nums[1] + nums[2] = (-1) + 0 + 1 = 0.<br>\n",
    ">nums[1] + nums[2] + nums[4] = 0 + 1 + (-1) = 0.<br>\n",
    ">nums[0] + nums[3] + nums[4] = (-1) + 2 + (-1) = 0.<br>\n",
    ">The distinct triplets are [-1,0,1] and [-1,-1,2].<br>\n",
    ">Notice that the order of the output and the order of the triplets does not matter.\n",
    "\n",
    "\n",
    "**Example 2:**\n",
    ">**Input:** nums = [0,1,1]<br>\n",
    ">**Output:** []<br>\n",
    ">**Explanation:** The only possible triplet does not sum up to 0.\n",
    "\n",
    "\n",
    "**Example 3:**\n",
    ">**Input:** nums = [0,0,0]<br>\n",
    ">**Output:** [[0,0,0]]<br>\n",
    ">**Explanation:** The only possible triplet sums up to 0.\n",
    "\n",
    "<br>\n",
    "\n",
    "**Constraints:**\n",
    "- >3 <= nums.length <= 3000\n",
    "- >-10<sup>5</sup> <= nums[i] <= 10<sup>5</sup>"
   ]
  },
  {
   "cell_type": "code",
   "execution_count": 1,
   "metadata": {},
   "outputs": [],
   "source": [
    "class Solution:\n",
    "    def threeSum(self, nums: list[int]) -> list[list[int]]:\n",
    "        nums.sort()\n",
    "        n = len(nums)\n",
    "        result = []\n",
    "        \n",
    "        for i in range(n - 2):\n",
    "            if i > 0 and nums[i] == nums[i - 1]:\n",
    "                continue\n",
    "            \n",
    "            left, right = i + 1, n - 1\n",
    "            \n",
    "            while left < right:\n",
    "                total = nums[i] + nums[left] + nums[right]\n",
    "                if total < 0:\n",
    "                    left += 1\n",
    "                elif total > 0:\n",
    "                    right -= 1\n",
    "                else:\n",
    "                    result.append([nums[i], nums[left], nums[right]])\n",
    "                    left += 1\n",
    "                    right -= 1\n",
    "                    while left < right and nums[left] == nums[left - 1]:\n",
    "                        left += 1\n",
    "                    while left < right and nums[right] == nums[right + 1]:\n",
    "                        right -= 1\n",
    "        \n",
    "        return result"
   ]
  }
 ],
 "metadata": {
  "kernelspec": {
   "display_name": "base",
   "language": "python",
   "name": "python3"
  },
  "language_info": {
   "codemirror_mode": {
    "name": "ipython",
    "version": 3
   },
   "file_extension": ".py",
   "mimetype": "text/x-python",
   "name": "python",
   "nbconvert_exporter": "python",
   "pygments_lexer": "ipython3",
   "version": "3.9.16"
  }
 },
 "nbformat": 4,
 "nbformat_minor": 2
}

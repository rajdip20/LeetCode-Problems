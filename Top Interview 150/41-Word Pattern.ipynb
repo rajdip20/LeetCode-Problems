{
 "cells": [
  {
   "cell_type": "markdown",
   "metadata": {},
   "source": [
    "Given a `pattern` and a string `s`, find if `s` follows the same pattern.\n",
    "\n",
    "Here **follow** means a full match, such that there is a bijection between a letter in `pattern` and a **non-empty** word in `s`.\n",
    "\n",
    "<br>\n",
    "\n",
    "**Example 1:**\n",
    ">**Input:** pattern = \"abba\", s = \"dog cat cat dog\"<br>\n",
    ">**Output:** true\n",
    "\n",
    "**Example 2:**\n",
    ">**Input:** pattern = \"abba\", s = \"dog cat cat fish\"<br>\n",
    ">**Output:** false\n",
    "\n",
    "**Example 3:**\n",
    ">**Input:** pattern = \"aaaa\", s = \"dog cat cat dog\"<br>\n",
    ">**Output:** false\n",
    " \n",
    "<br>\n",
    "\n",
    "**Constraints:**\n",
    "- >1 <= pattern.length <= 300\n",
    "- >pattern contains only lower-case English letters.\n",
    "- >1 <= s.length <= 3000\n",
    "- >s contains only lowercase English letters and spaces ' '.\n",
    "- >s **does not contain** any leading or trailing spaces.\n",
    "- >All the words in s are separated by a **single space**."
   ]
  },
  {
   "cell_type": "code",
   "execution_count": 1,
   "metadata": {},
   "outputs": [],
   "source": [
    "class Solution:\n",
    "    def wordPattern(self, pattern: str, s: str) -> bool:\n",
    "        words = s.split()\n",
    "        if len(pattern) != len(words):\n",
    "            return False\n",
    "        \n",
    "        pattern_to_word = {}\n",
    "        word_to_pattern = {}\n",
    "\n",
    "        for char, word in zip(pattern, words):\n",
    "            if char in pattern_to_word:\n",
    "                if pattern_to_word[char] != word:\n",
    "                    return False\n",
    "            else:\n",
    "                pattern_to_word[char] = word\n",
    "\n",
    "            if word in word_to_pattern:\n",
    "                if word_to_pattern[word] != char:\n",
    "                    return False\n",
    "            else:\n",
    "                word_to_pattern[word] = char\n",
    "            \n",
    "        return True"
   ]
  }
 ],
 "metadata": {
  "kernelspec": {
   "display_name": "base",
   "language": "python",
   "name": "python3"
  },
  "language_info": {
   "codemirror_mode": {
    "name": "ipython",
    "version": 3
   },
   "file_extension": ".py",
   "mimetype": "text/x-python",
   "name": "python",
   "nbconvert_exporter": "python",
   "pygments_lexer": "ipython3",
   "version": "3.9.16"
  }
 },
 "nbformat": 4,
 "nbformat_minor": 2
}

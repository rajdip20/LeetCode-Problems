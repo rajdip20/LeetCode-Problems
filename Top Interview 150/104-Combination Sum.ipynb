{
 "cells": [
  {
   "cell_type": "markdown",
   "metadata": {},
   "source": [
    "Given an array of **distinct** integers `candidates` and a target integer `target`, return *a list of all* ***unique combinations*** *of* `candidates` *where the chosen numbers sum to* `target`. You may return the combinations in **any order**.\n",
    "\n",
    "The **same** number may be chosen from `candidates` an **unlimited number of times**. Two combinations are unique if the \n",
    "frequency of at least one of the chosen numbers is different.\n",
    "\n",
    "The test cases are generated such that the number of unique combinations that sum up to `target` is less than `150` combinations for the given input.\n",
    "\n",
    "<br>\n",
    "\n",
    "**Example 1:**\n",
    ">**Input:** candidates = [2,3,6,7], target = 7<br>\n",
    ">**Output:** [[2,2,3],[7]]<br>\n",
    ">**Explanation:**<br>\n",
    ">2 and 3 are candidates, and 2 + 2 + 3 = 7. Note that 2 can be used multiple times.<br>\n",
    ">7 is a candidate, and 7 = 7.<br>\n",
    ">These are the only two combinations.\n",
    "\n",
    "**Example 2:**\n",
    ">**Input:** candidates = [2,3,5], target = 8<br>\n",
    ">**Output:** [[2,2,2,2],[2,3,3],[3,5]]\n",
    "\n",
    "**Example 3:**\n",
    ">**Input:** candidates = [2], target = 1<br>\n",
    ">**Output:** []\n",
    "\n",
    "<br>\n",
    "\n",
    "**Constraints:**\n",
    "- >1 <= candidates.length <= 30\n",
    "- >2 <= candidates[i] <= 40\n",
    "- >All elements of candidates are **distinct**.\n",
    "- >1 <= target <= 40"
   ]
  },
  {
   "cell_type": "code",
   "execution_count": 1,
   "metadata": {},
   "outputs": [],
   "source": [
    "class Solution:\n",
    "    def combinationSum(self, candidates: list[int], target: int) -> list[list[int]]:\n",
    "        def backtrack(remaining, combo, start):\n",
    "            if remaining == 0:\n",
    "                result.append(list(combo))\n",
    "                return\n",
    "            elif remaining < 0:\n",
    "                return\n",
    "\n",
    "            for i in range(start, len(candidates)):\n",
    "                combo.append(candidates[i])\n",
    "                backtrack(remaining - candidates[i], combo, i)\n",
    "                combo.pop()\n",
    "\n",
    "        result = []\n",
    "        candidates.sort()\n",
    "        backtrack(target, [], 0)\n",
    "        return result"
   ]
  }
 ],
 "metadata": {
  "kernelspec": {
   "display_name": "base",
   "language": "python",
   "name": "python3"
  },
  "language_info": {
   "codemirror_mode": {
    "name": "ipython",
    "version": 3
   },
   "file_extension": ".py",
   "mimetype": "text/x-python",
   "name": "python",
   "nbconvert_exporter": "python",
   "pygments_lexer": "ipython3",
   "version": "3.9.16"
  }
 },
 "nbformat": 4,
 "nbformat_minor": 2
}

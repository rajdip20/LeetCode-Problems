{
 "cells": [
  {
   "cell_type": "markdown",
   "metadata": {},
   "source": [
    "Given the `root` of a binary tree, return *the average value of the nodes on each level in the form of an array*. Answers within **10<sup>-5</sup>** of the actual answer will be accepted.\n",
    "\n",
    "<br>\n",
    "\n",
    "**Example 1:**\n",
    "\n",
    "![avg1-tree](../images/avg1-tree.jpg)\n",
    "\n",
    ">**Input:** root = [3,9,20,null,null,15,7]<br>\n",
    ">**Output:** [3.00000,14.50000,11.00000]<br>\n",
    ">**Explanation:** The average value of nodes on level 0 is 3, on level 1 is 14.5, and on level 2 is 11.<br>\n",
    ">Hence return [3, 14.5, 11].\n",
    "\n",
    "**Example 2:**\n",
    "\n",
    "![avg2-tree](../images/avg2-tree.jpg)\n",
    "\n",
    ">**Input:** root = [3,9,20,15,7]<br>\n",
    ">**Output:** [3.00000,14.50000,11.00000]\n",
    "\n",
    "<br>\n",
    "\n",
    "**Constraints:**\n",
    "- >The number of nodes in the tree is in the range [1, 10<sup>4</sup>].\n",
    "- >-2<sup>31</sup> <= Node.val <= 2<sup>31</sup> - 1"
   ]
  },
  {
   "cell_type": "code",
   "execution_count": 1,
   "metadata": {},
   "outputs": [],
   "source": [
    "# Definition for a binary tree node.\n",
    "# class TreeNode:\n",
    "#     def __init__(self, val=0, left=None, right=None):\n",
    "#         self.val = val\n",
    "#         self.left = left\n",
    "#         self.right = right\n",
    "class Solution:\n",
    "    def averageOfLevels(self, root)-> list[float]:\n",
    "        from collections import deque\n",
    "        \n",
    "        if not root:\n",
    "            return []\n",
    "        \n",
    "        averages = []\n",
    "        queue = deque([root])\n",
    "        \n",
    "        while queue:\n",
    "            level_length = len(queue)\n",
    "            level_sum = 0\n",
    "            \n",
    "            for _ in range(level_length):\n",
    "                node = queue.popleft()\n",
    "                level_sum += node.val\n",
    "                \n",
    "                if node.left:\n",
    "                    queue.append(node.left)\n",
    "                if node.right:\n",
    "                    queue.append(node.right)\n",
    "            \n",
    "            averages.append(level_sum / level_length)\n",
    "        \n",
    "        return averages"
   ]
  }
 ],
 "metadata": {
  "kernelspec": {
   "display_name": "base",
   "language": "python",
   "name": "python3"
  },
  "language_info": {
   "codemirror_mode": {
    "name": "ipython",
    "version": 3
   },
   "file_extension": ".py",
   "mimetype": "text/x-python",
   "name": "python",
   "nbconvert_exporter": "python",
   "pygments_lexer": "ipython3",
   "version": "3.9.16"
  }
 },
 "nbformat": 4,
 "nbformat_minor": 2
}

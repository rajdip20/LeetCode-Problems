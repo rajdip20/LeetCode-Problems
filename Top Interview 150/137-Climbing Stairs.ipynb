{
 "cells": [
  {
   "cell_type": "markdown",
   "metadata": {},
   "source": [
    "You are climbing a staircase. It takes `n` steps to reach the top.\n",
    "\n",
    "Each time you can either climb `1` or `2` steps. In how many distinct ways can you climb to the top?\n",
    "\n",
    "<br>\n",
    "\n",
    "**Example 1:**\n",
    ">**Input:** n = 2<br>\n",
    ">**Output:** 2<br>\n",
    ">**Explanation:** There are two ways to climb to the top.\n",
    ">1. 1 step + 1 step\n",
    ">2. 2 steps\n",
    "\n",
    "**Example 2:**\n",
    ">**Input:** n = 3<br>\n",
    ">**Output:** 3<br>\n",
    ">**Explanation:** There are three ways to climb to the top.\n",
    ">1. 1 step + 1 step + 1 step\n",
    ">2. 1 step + 2 steps\n",
    ">3. 2 steps + 1 step\n",
    " \n",
    "<br>\n",
    "\n",
    "**Constraints:**\n",
    "- >1 <= n <= 45"
   ]
  },
  {
   "cell_type": "code",
   "execution_count": 1,
   "metadata": {},
   "outputs": [],
   "source": [
    "class Solution:\n",
    "    def climbStairs(self, n: int) -> int:\n",
    "        if n == 1:\n",
    "            return 1\n",
    "        elif n == 2:\n",
    "            return 2\n",
    "\n",
    "        dp = [0] * (n + 1)\n",
    "        dp[1] = 1\n",
    "        dp[2] = 2\n",
    "\n",
    "        for i in range(3, n + 1):\n",
    "            dp[i] = dp[i - 1] + dp[i - 2]\n",
    "\n",
    "        return dp[n]"
   ]
  }
 ],
 "metadata": {
  "kernelspec": {
   "display_name": "base",
   "language": "python",
   "name": "python3"
  },
  "language_info": {
   "codemirror_mode": {
    "name": "ipython",
    "version": 3
   },
   "file_extension": ".py",
   "mimetype": "text/x-python",
   "name": "python",
   "nbconvert_exporter": "python",
   "pygments_lexer": "ipython3",
   "version": "3.9.16"
  }
 },
 "nbformat": 4,
 "nbformat_minor": 2
}

{
 "cells": [
  {
   "cell_type": "markdown",
   "metadata": {},
   "source": [
    "Roman numerals are represented by seven different symbols: `I`, `V`, `X`, `L`, `C`, `D` and `M`.\n",
    "\n",
    ">**Symbol** &emsp;&emsp; **Value**<br>\n",
    ">I &emsp;&emsp;&emsp;&emsp;&emsp;&emsp; 1<br>\n",
    ">V &emsp;&emsp;&emsp;&emsp;&emsp;&ensp;&nbsp; 5<br>\n",
    ">X &emsp;&emsp;&emsp;&emsp;&emsp;&ensp;&nbsp; 10<br>\n",
    ">L &emsp;&emsp;&emsp;&emsp;&emsp;&emsp; 50<br>\n",
    ">C &emsp;&emsp;&emsp;&emsp;&emsp;&ensp;&nbsp; 100<br>\n",
    ">D &emsp;&emsp;&emsp;&emsp;&emsp;&ensp;&nbsp; 500<br>\n",
    ">M &emsp;&emsp;&emsp;&emsp;&emsp;&ensp; 1000\n",
    "\n",
    "For example, `2` is written as `II` in Roman numeral, just two one's added together. `12` is written as `XII`, which is simply `X + II`. The number `27` is written as `XXVII`, which is `XX + V + II`.\n",
    "\n",
    "Roman numerals are usually written largest to smallest from left to right. However, the numeral for four is not `IIII`. Instead, the number four is written as `IV`. Because the one is before the five we subtract it making four. The same principle applies to the number nine, which is written as `IX`. There are six instances where subtraction is used:\n",
    "- `I` can be placed before `V` (5) and `X` (10) to make 4 and 9. \n",
    "- `X` can be placed before `L` (50) and `C` (100) to make 40 and 90. \n",
    "- `C` can be placed before `D` (500) and `M` (1000) to make 400 and 900.\n",
    "\n",
    "Given an integer, convert it to a roman numeral.\n",
    "\n",
    "<br>\n",
    "\n",
    "**Example 1:**\n",
    ">**Input:** num = 3<br>\n",
    ">**Output:** \"III\"<br>\n",
    ">**Explanation:** 3 is represented as 3 ones.\n",
    "\n",
    "**Example 2:**\n",
    ">**Input:** num = 58<br>\n",
    ">**Output:** \"LVIII\"<br>\n",
    ">**Explanation:** L = 50, V = 5, III = 3.\n",
    "\n",
    "**Example 3:**\n",
    ">**Input:** num = 1994<br>\n",
    ">**Output:** \"MCMXCIV\"<br>\n",
    ">**Explanation:** M = 1000, CM = 900, XC = 90 and IV = 4.\n",
    "\n",
    "<br>\n",
    "\n",
    "**Constraints:**\n",
    "- >1 <= num <= 3999"
   ]
  },
  {
   "cell_type": "code",
   "execution_count": 1,
   "metadata": {},
   "outputs": [],
   "source": [
    "class Solution:\n",
    "    def intToRoman(self, num: int) -> str:\n",
    "        symbols = [\"M\", \"CM\", \"D\", \"CD\", \"C\", \"XC\", \"L\", \"XL\", \"X\", \"IX\", \"V\", \"IV\", \"I\"]\n",
    "        values = [1000, 900, 500, 400, 100, 90, 50, 40, 10, 9, 5, 4, 1]\n",
    "        \n",
    "        result = \"\"\n",
    "\n",
    "        for i in range(len(values)):\n",
    "            while num >= values[i]:\n",
    "                result += symbols[i]\n",
    "                num -= values[i]\n",
    "        \n",
    "        return result"
   ]
  }
 ],
 "metadata": {
  "kernelspec": {
   "display_name": "base",
   "language": "python",
   "name": "python3"
  },
  "language_info": {
   "codemirror_mode": {
    "name": "ipython",
    "version": 3
   },
   "file_extension": ".py",
   "mimetype": "text/x-python",
   "name": "python",
   "nbconvert_exporter": "python",
   "pygments_lexer": "ipython3",
   "version": "3.9.16"
  }
 },
 "nbformat": 4,
 "nbformat_minor": 2
}

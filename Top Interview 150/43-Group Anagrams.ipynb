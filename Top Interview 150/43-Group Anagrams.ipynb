{
 "cells": [
  {
   "cell_type": "markdown",
   "metadata": {},
   "source": [
    "Given an array of strings `strs`, group **the anagrams** together. You can return the answer in **any order**.\n",
    "\n",
    "An **Anagram** is a word or phrase formed by rearranging the letters of a different word or phrase, typically using all the original letters exactly once.\n",
    "\n",
    "<br>\n",
    "\n",
    "**Example 1:**\n",
    ">**Input:** strs = [\"eat\",\"tea\",\"tan\",\"ate\",\"nat\",\"bat\"]<br>\n",
    ">**Output:** [[\"bat\"],[\"nat\",\"tan\"],[\"ate\",\"eat\",\"tea\"]]\n",
    "\n",
    "\n",
    "**Example 2:**\n",
    ">**Input:** strs = [\"\"]<br>\n",
    ">**Output:** [[\"\"]]\n",
    "\n",
    "\n",
    "**Example 3:**\n",
    ">**Input:** strs = [\"a\"]<br>\n",
    ">**Output:** [[\"a\"]]\n",
    "\n",
    "<br>\n",
    "\n",
    "**Constraints:**\n",
    "- >1 <= strs.length <= 10<sup>4</sup>\n",
    "- >0 <= strs[i].length <= 100\n",
    "- >strs[i] consists of lowercase English letters."
   ]
  },
  {
   "cell_type": "code",
   "execution_count": null,
   "metadata": {},
   "outputs": [],
   "source": [
    "class Solution:\n",
    "    def groupAnagrams(self, strs: list[str]) -> list[list[str]]:\n",
    "        anagrams = {}\n",
    "\n",
    "        for word in strs:\n",
    "            sorted_word = ''.join(sorted(word))\n",
    "\n",
    "            if sorted_word in anagrams:\n",
    "                anagrams[sorted_word].append(word)\n",
    "            else:\n",
    "                anagrams[sorted_word] = [word]\n",
    "        \n",
    "        result = list(anagrams.values())\n",
    "        \n",
    "        return result"
   ]
  }
 ],
 "metadata": {
  "kernelspec": {
   "display_name": "base",
   "language": "python",
   "name": "python3"
  },
  "language_info": {
   "codemirror_mode": {
    "name": "ipython",
    "version": 3
   },
   "file_extension": ".py",
   "mimetype": "text/x-python",
   "name": "python",
   "nbconvert_exporter": "python",
   "pygments_lexer": "ipython3",
   "version": "3.9.16"
  }
 },
 "nbformat": 4,
 "nbformat_minor": 2
}

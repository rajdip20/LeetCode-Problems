{
 "cells": [
  {
   "cell_type": "markdown",
   "metadata": {},
   "source": [
    "Given two integers `n` and `k`, return *all possible combinations of* `k` *numbers chosen from the range* `[1, n]`.\n",
    "\n",
    "You may return the answer in **any order**.\n",
    "\n",
    "<br>\n",
    "\n",
    "**Example 1:**\n",
    ">**Input:** n = 4, k = 2<br>\n",
    ">**Output:** [[1,2],[1,3],[1,4],[2,3],[2,4],[3,4]]<br>\n",
    ">**Explanation:** There are 4 choose 2 = 6 total combinations.<br>\n",
    ">Note that combinations are unordered, i.e., [1,2] and [2,1] are considered to be the same combination.\n",
    "\n",
    "**Example 2:**\n",
    ">**Input:** n = 1, k = 1<br>\n",
    ">**Output:** [[1]]<br>\n",
    ">**Explanation:** There is 1 choose 1 = 1 total combination.\n",
    "\n",
    "<br>\n",
    "\n",
    "**Constraints:**\n",
    "- >1 <= n <= 20\n",
    "- >1 <= k <= n"
   ]
  },
  {
   "cell_type": "code",
   "execution_count": 1,
   "metadata": {},
   "outputs": [],
   "source": [
    "class Solution:\n",
    "    def combine(self, n: int, k: int) -> list[list[int]]:\n",
    "        def backtrack(start, path):\n",
    "            if len(path) == k:\n",
    "                output.append(path)\n",
    "                return\n",
    "            \n",
    "            for i in range(start, n + 1):\n",
    "                backtrack(i + 1, path + [i])\n",
    "\n",
    "        output = []\n",
    "        backtrack(1, [])\n",
    "        return output"
   ]
  }
 ],
 "metadata": {
  "kernelspec": {
   "display_name": "base",
   "language": "python",
   "name": "python3"
  },
  "language_info": {
   "codemirror_mode": {
    "name": "ipython",
    "version": 3
   },
   "file_extension": ".py",
   "mimetype": "text/x-python",
   "name": "python",
   "nbconvert_exporter": "python",
   "pygments_lexer": "ipython3",
   "version": "3.9.16"
  }
 },
 "nbformat": 4,
 "nbformat_minor": 2
}

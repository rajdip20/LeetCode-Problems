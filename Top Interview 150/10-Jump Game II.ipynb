{
 "cells": [
  {
   "cell_type": "markdown",
   "metadata": {},
   "source": [
    "You are given a **0-indexed** array of integers `nums` of length `n`. You are initially positioned at `nums[0]`.\n",
    "\n",
    "Each element `nums[i]` represents the maximum length of a forward jump from index `i`. In other words, if you are at `nums[i]`, you can jump to any `nums[i + j]` where:\n",
    "- 0 <= j <= nums[i] and\n",
    "- i + j < n\n",
    "\n",
    "Return *the minimum number of jumps to reach* `nums[n - 1]`. The test cases are generated such that you can reach `nums[n - 1]`.\n",
    "\n",
    "<br>\n",
    "\n",
    "**Example 1:**\n",
    ">**Input:** nums = [2,3,1,1,4]<br>\n",
    ">**Output:** 2<br>\n",
    ">**Explanation:** The minimum number of jumps to reach the last index is 2. Jump 1 step from index 0 to 1, then 3 steps to the last index.\n",
    "\n",
    "\n",
    "**Example 2:**\n",
    ">**Input:** nums = [2,3,0,1,4]<br>\n",
    ">**Output:** 2\n",
    " \n",
    "\n",
    "**Constraints:**\n",
    "- >1 <= nums.length <= 10<sup>4</sup>\n",
    "- >0 <= nums[i] <= 1000\n",
    "- >It's guaranteed that you can reach nums[n - 1]."
   ]
  },
  {
   "cell_type": "code",
   "execution_count": 1,
   "metadata": {},
   "outputs": [],
   "source": [
    "class Solution:\n",
    "    def jump(self, nums: list[int]) -> int:\n",
    "        if len(nums) <= 1:\n",
    "            return 0\n",
    "\n",
    "        jumps = 1\n",
    "        max_reachable = nums[0]\n",
    "        steps_available = nums[0]\n",
    "\n",
    "        for i in range(1, len(nums)):\n",
    "            if i == len(nums) - 1:\n",
    "                return jumps\n",
    "\n",
    "            steps_available -= 1\n",
    "            max_reachable = max(max_reachable, i + nums[i])\n",
    "\n",
    "            if steps_available == 0:\n",
    "                jumps += 1\n",
    "                steps_available = max_reachable - i\n",
    "\n",
    "        return jumps"
   ]
  }
 ],
 "metadata": {
  "kernelspec": {
   "display_name": "Python 3",
   "language": "python",
   "name": "python3"
  },
  "language_info": {
   "codemirror_mode": {
    "name": "ipython",
    "version": 3
   },
   "file_extension": ".py",
   "mimetype": "text/x-python",
   "name": "python",
   "nbconvert_exporter": "python",
   "pygments_lexer": "ipython3",
   "version": "3.9.16"
  }
 },
 "nbformat": 4,
 "nbformat_minor": 2
}

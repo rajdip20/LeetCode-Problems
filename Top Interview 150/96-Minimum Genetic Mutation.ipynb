{
 "cells": [
  {
   "cell_type": "markdown",
   "metadata": {},
   "source": [
    "A gene string can be represented by an 8-character long string, with choices from `'A'`, `'C'`, `'G'`, and `'T'`.\n",
    "\n",
    "Suppose we need to investigate a mutation from a gene string `startGene` to a gene string `endGene` where one mutation is defined as one single character changed in the gene string.\n",
    "- For example, `\"AACCGGTT\" --> \"AACCGGTA\"` is one mutation.\n",
    "\n",
    "There is also a gene bank `bank` that records all the valid gene mutations. A gene must be in `bank` to make it a valid gene string.\n",
    "\n",
    "Given the two gene strings `startGene` and `endGene` and the gene bank `bank`, return *the minimum number of mutations needed to mutate from* `startGene` *to* `endGene`. If there is no such a mutation, return `-1`.\n",
    "\n",
    "Note that the starting point is assumed to be valid, so it might not be included in the bank.\n",
    "\n",
    "<br>\n",
    "\n",
    "**Example 1:**\n",
    ">**Input:** startGene = \"AACCGGTT\", endGene = \"AACCGGTA\", bank = [\"AACCGGTA\"]<br>\n",
    ">**Output:** 1\n",
    "\n",
    "**Example 2:**\n",
    ">**Input:** startGene = \"AACCGGTT\", endGene = \"AAACGGTA\", bank = [\"AACCGGTA\",\"AACCGCTA\",\"AAACGGTA\"]<br>\n",
    ">**Output:** 2\n",
    "\n",
    "<br>\n",
    "\n",
    "**Constraints:**\n",
    "- >0 <= bank.length <= 10\n",
    "- >startGene.length == endGene.length == bank[i].length == 8\n",
    "- >startGene, endGene, and bank[i] consist of only the characters ['A', 'C', 'G', 'T']."
   ]
  },
  {
   "cell_type": "code",
   "execution_count": 1,
   "metadata": {},
   "outputs": [],
   "source": [
    "class Solution:\n",
    "    def minMutation(self, startGene: str, endGene: str, bank: list[str]) -> int:\n",
    "        from collections import deque\n",
    "\n",
    "        if endGene not in bank:\n",
    "            return -1\n",
    "\n",
    "        bank = set(bank)\n",
    "        queue = deque([(startGene, 0)])\n",
    "        \n",
    "        while queue:\n",
    "            current_gene, mutations = queue.popleft()\n",
    "            if current_gene == endGene:\n",
    "                return mutations\n",
    "            \n",
    "            for i in range(len(current_gene)):\n",
    "                for c in 'ACGT':\n",
    "                    mutated_gene = current_gene[:i] + c + current_gene[i+1:]\n",
    "                    if mutated_gene in bank:\n",
    "                        bank.remove(mutated_gene)\n",
    "                        queue.append((mutated_gene, mutations + 1))\n",
    "        \n",
    "        return -1"
   ]
  }
 ],
 "metadata": {
  "kernelspec": {
   "display_name": "base",
   "language": "python",
   "name": "python3"
  },
  "language_info": {
   "codemirror_mode": {
    "name": "ipython",
    "version": 3
   },
   "file_extension": ".py",
   "mimetype": "text/x-python",
   "name": "python",
   "nbconvert_exporter": "python",
   "pygments_lexer": "ipython3",
   "version": "3.9.16"
  }
 },
 "nbformat": 4,
 "nbformat_minor": 2
}

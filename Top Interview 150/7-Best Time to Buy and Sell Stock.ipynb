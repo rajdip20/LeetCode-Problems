{
 "cells": [
  {
   "cell_type": "markdown",
   "metadata": {},
   "source": [
    "You are given an array `prices` where `prices[i]` is the price of a given stock on the **i<sup>th</sup>** day.\n",
    "\n",
    "You want to maximize your profit by choosing a **single day** to buy one stock and choosing a **different day in the future** to sell that stock.\n",
    "\n",
    "Return *the maximum profit you can achieve from this transaction*. If you cannot achieve any profit, return `0`.\n",
    "\n",
    "<br> \n",
    "\n",
    "**Example 1:**\n",
    ">**Input:** prices = [7,1,5,3,6,4]<br>\n",
    ">**Output:** 5<br>\n",
    ">**Explanation:** Buy on day 2 (price = 1) and sell on day 5 (price = 6), profit = 6-1 = 5.<br>\n",
    ">Note that buying on day 2 and selling on day 1 is not allowed because you must buy before you sell.\n",
    "\n",
    "\n",
    "**Example 2:**\n",
    ">**Input:** prices = [7,6,4,3,1]<br>\n",
    ">**Output:** 0<br>\n",
    ">**Explanation:** In this case, no transactions are done and the max profit = 0.\n",
    " \n",
    "\n",
    "**Constraints:**\n",
    "- >1 <= prices.length <= 10<sup>5</sup>\n",
    "- >0 <= prices[i] <= 10<sup>4</sup>"
   ]
  },
  {
   "cell_type": "code",
   "execution_count": null,
   "metadata": {},
   "outputs": [],
   "source": [
    "class Solution:\n",
    "    def maxProfit(self, prices: list[int]) -> int:\n",
    "        if not prices:\n",
    "            return 0\n",
    "\n",
    "        min_price = prices[0]\n",
    "        max_profit = 0\n",
    "\n",
    "        for price in prices:\n",
    "            if price < min_price:\n",
    "                min_price = price\n",
    "            else:\n",
    "                max_profit = max(max_profit, price - min_price)\n",
    "        \n",
    "        return max_profit"
   ]
  }
 ],
 "metadata": {
  "kernelspec": {
   "display_name": "base",
   "language": "python",
   "name": "python3"
  },
  "language_info": {
   "codemirror_mode": {
    "name": "ipython",
    "version": 3
   },
   "file_extension": ".py",
   "mimetype": "text/x-python",
   "name": "python",
   "nbconvert_exporter": "python",
   "pygments_lexer": "ipython3",
   "version": "3.9.16"
  }
 },
 "nbformat": 4,
 "nbformat_minor": 2
}

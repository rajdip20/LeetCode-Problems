{
 "cells": [
  {
   "cell_type": "markdown",
   "metadata": {},
   "source": [
    "Given an array of `intervals` where **intervals[i] = [start<sub>i</sub>, end<sub>i</sub>]**, merge all overlapping intervals, and return *an array of the non-overlapping intervals that cover all the intervals in the input*.\n",
    "\n",
    "<br>\n",
    "\n",
    "**Example 1:**\n",
    ">**Input:** intervals = [[1,3],[2,6],[8,10],[15,18]]\n",
    ">**Output:** [[1,6],[8,10],[15,18]]\n",
    ">**Explanation:** Since intervals [1,3] and [2,6] overlap, merge them into [1,6].\n",
    "\n",
    "**Example 2:**\n",
    ">**Input:** intervals = [[1,4],[4,5]]\n",
    ">**Output:** [[1,5]]\n",
    ">**Explanation:** Intervals [1,4] and [4,5] are considered overlapping.\n",
    "\n",
    "<br>\n",
    "\n",
    "**Constraints:**\n",
    "- >1 <= intervals.length <= 10<sup>4</sup>\n",
    "- >intervals[i].length == 2\n",
    "- >0 <= start<sub>i</sub> <= end<sub>i</sub> <= 10<sup>4</sup>"
   ]
  },
  {
   "cell_type": "code",
   "execution_count": 1,
   "metadata": {},
   "outputs": [],
   "source": [
    "class Solution:\n",
    "    def merge(self, intervals: list[list[int]]) -> list[list[int]]:\n",
    "        if not intervals:\n",
    "            return []\n",
    "        \n",
    "        intervals.sort(key=lambda x: x[0])\n",
    "        merged_intervals = [intervals[0]]\n",
    "        \n",
    "        for i in range(1, len(intervals)):\n",
    "            if intervals[i][0] <= merged_intervals[-1][1]:\n",
    "                merged_intervals[-1][1] = max(merged_intervals[-1][1], intervals[i][1])\n",
    "            else:\n",
    "                merged_intervals.append(intervals[i])\n",
    "        \n",
    "        return merged_intervals"
   ]
  }
 ],
 "metadata": {
  "kernelspec": {
   "display_name": "base",
   "language": "python",
   "name": "python3"
  },
  "language_info": {
   "codemirror_mode": {
    "name": "ipython",
    "version": 3
   },
   "file_extension": ".py",
   "mimetype": "text/x-python",
   "name": "python",
   "nbconvert_exporter": "python",
   "pygments_lexer": "ipython3",
   "version": "3.9.16"
  }
 },
 "nbformat": 4,
 "nbformat_minor": 2
}

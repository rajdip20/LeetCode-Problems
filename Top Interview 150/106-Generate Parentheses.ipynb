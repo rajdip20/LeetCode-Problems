{
 "cells": [
  {
   "cell_type": "markdown",
   "metadata": {},
   "source": [
    "Given `n` pairs of parentheses, write a function to *generate all combinations of well-formed parentheses*.\n",
    "\n",
    "<br>\n",
    "\n",
    "**Example 1:**\n",
    ">**Input:** n = 3<br>\n",
    ">**Output:** [\"((()))\",\"(()())\",\"(())()\",\"()(())\",\"()()()\"]\n",
    "\n",
    "**Example 2:**\n",
    ">**Input:** n = 1<br>\n",
    ">**Output:** [\"()\"]\n",
    "\n",
    "<br>\n",
    "\n",
    "**Constraints:**\n",
    "- >1 <= n <= 8"
   ]
  },
  {
   "cell_type": "code",
   "execution_count": 1,
   "metadata": {},
   "outputs": [],
   "source": [
    "class Solution:\n",
    "    def generateParenthesis(self, n: int) -> list[str]:\n",
    "        def backtrack(s='', left=0, right=0):\n",
    "            if len(s) == 2 * n:\n",
    "                result.append(s)\n",
    "                return\n",
    "            if left < n:\n",
    "                backtrack(s + '(', left + 1, right)\n",
    "            if right < left:\n",
    "                backtrack(s + ')', left, right + 1)\n",
    "\n",
    "        result = []\n",
    "        backtrack()\n",
    "        return result"
   ]
  }
 ],
 "metadata": {
  "kernelspec": {
   "display_name": "base",
   "language": "python",
   "name": "python3"
  },
  "language_info": {
   "codemirror_mode": {
    "name": "ipython",
    "version": 3
   },
   "file_extension": ".py",
   "mimetype": "text/x-python",
   "name": "python",
   "nbconvert_exporter": "python",
   "pygments_lexer": "ipython3",
   "version": "3.9.16"
  }
 },
 "nbformat": 4,
 "nbformat_minor": 2
}

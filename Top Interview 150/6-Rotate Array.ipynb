{
 "cells": [
  {
   "cell_type": "markdown",
   "metadata": {},
   "source": [
    "Given an integer array `nums`, rotate the array to the right by `k` steps, where `k` is non-negative.\n",
    "\n",
    "<br> \n",
    "\n",
    "**Example 1:**\n",
    ">**Input:** nums = [1,2,3,4,5,6,7], k = 3<br>\n",
    ">**Output:** [5,6,7,1,2,3,4]<br>\n",
    ">**Explanation:**<br>\n",
    ">rotate 1 steps to the right: [7,1,2,3,4,5,6]<br>\n",
    ">rotate 2 steps to the right: [6,7,1,2,3,4,5]<br>\n",
    ">rotate 3 steps to the right: [5,6,7,1,2,3,4]\n",
    "\n",
    "\n",
    "**Example 2:**\n",
    ">**Input:** nums = [-1,-100,3,99], k = 2<br>\n",
    ">**Output:** [3,99,-1,-100]<br>\n",
    ">**Explanation:** <br>\n",
    ">rotate 1 steps to the right: [99,-1,-100,3]<br>\n",
    ">rotate 2 steps to the right: [3,99,-1,-100]\n",
    "\n",
    "<br>\n",
    "\n",
    "**Constraints:**\n",
    "- >1 <= nums.length <= 10<sup>5</sup>\n",
    "- >-2<sup>31</sup> <= nums[i] <= 2<sup>31</sup> - 1\n",
    "- >0 <= k <= 10<sup>5</sup>\n",
    " \n",
    "<br><br>\n",
    "\n",
    "**Follow up:**\n",
    "- Try to come up with as many solutions as you can. There are at least **three** different ways to solve this problem.\n",
    "- Could you do it in-place with `O(1)` extra space?"
   ]
  },
  {
   "cell_type": "code",
   "execution_count": 1,
   "metadata": {},
   "outputs": [],
   "source": [
    "class Solution:\n",
    "    def rotate(self, nums: list[int], k: int) -> None:\n",
    "        \"\"\"\n",
    "        Do not return anything, modify nums in-place instead.\n",
    "        \"\"\"\n",
    "        n = len(nums)\n",
    "        k = k % n\n",
    "        nums[:] = nums[-k:] + nums[:-k]"
   ]
  }
 ],
 "metadata": {
  "kernelspec": {
   "display_name": "base",
   "language": "python",
   "name": "python3"
  },
  "language_info": {
   "codemirror_mode": {
    "name": "ipython",
    "version": 3
   },
   "file_extension": ".py",
   "mimetype": "text/x-python",
   "name": "python",
   "nbconvert_exporter": "python",
   "pygments_lexer": "ipython3",
   "version": "3.9.16"
  }
 },
 "nbformat": 4,
 "nbformat_minor": 2
}

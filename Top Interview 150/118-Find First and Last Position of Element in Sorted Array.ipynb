{
 "cells": [
  {
   "cell_type": "markdown",
   "metadata": {},
   "source": [
    "Given an array of integers `nums` sorted in non-decreasing order, find the starting and ending position of a given `target` value.\n",
    "\n",
    "If `target` is not found in the array, return `[-1, -1]`.\n",
    "\n",
    "You must write an algorithm with `O(log n)` runtime complexity.\n",
    "\n",
    "<br>\n",
    "\n",
    "**Example 1:**\n",
    ">**Input:** nums = [5,7,7,8,8,10], target = 8<br>\n",
    ">**Output:** [3,4]\n",
    "\n",
    "**Example 2:**\n",
    ">**Input:** nums = [5,7,7,8,8,10], target = 6<br>\n",
    ">**Output:** [-1,-1]\n",
    "\n",
    "**Example 3:**\n",
    ">**Input:** nums = [], target = 0<br>\n",
    ">**Output:** [-1,-1]\n",
    "\n",
    "<br>\n",
    "\n",
    "**Constraints:**\n",
    "- >0 <= nums.length <= 10<sup>5</sup>\n",
    "- >-10<sup>9</sup> <= nums[i] <= 10<sup>9</sup>\n",
    "- >nums is a non-decreasing array.\n",
    "- >-10<sup>9</sup> <= target <= 10<sup>9</sup>"
   ]
  },
  {
   "cell_type": "code",
   "execution_count": 1,
   "metadata": {},
   "outputs": [],
   "source": [
    "class Solution:\n",
    "    def searchRange(self, nums: list[int], target: int) -> list[int]:\n",
    "        def findLeft(nums, target):\n",
    "            left, right = 0, len(nums) - 1\n",
    "            while left <= right:\n",
    "                mid = (left + right) // 2\n",
    "                if nums[mid] < target:\n",
    "                    left = mid + 1\n",
    "                else:\n",
    "                    right = mid - 1\n",
    "            return left\n",
    "\n",
    "        def findRight(nums, target):\n",
    "            left, right = 0, len(nums) - 1\n",
    "            while left <= right:\n",
    "                mid = (left + right) // 2\n",
    "                if nums[mid] <= target:\n",
    "                    left = mid + 1\n",
    "                else:\n",
    "                    right = mid - 1\n",
    "            return right\n",
    "\n",
    "        left_index = findLeft(nums, target)\n",
    "        right_index = findRight(nums, target)\n",
    "\n",
    "        if left_index <= right_index and right_index < len(nums) and nums[left_index] == target and nums[right_index] == target:\n",
    "            return [left_index, right_index]\n",
    "        else:\n",
    "            return [-1, -1]"
   ]
  }
 ],
 "metadata": {
  "kernelspec": {
   "display_name": "base",
   "language": "python",
   "name": "python3"
  },
  "language_info": {
   "codemirror_mode": {
    "name": "ipython",
    "version": 3
   },
   "file_extension": ".py",
   "mimetype": "text/x-python",
   "name": "python",
   "nbconvert_exporter": "python",
   "pygments_lexer": "ipython3",
   "version": "3.9.16"
  }
 },
 "nbformat": 4,
 "nbformat_minor": 2
}

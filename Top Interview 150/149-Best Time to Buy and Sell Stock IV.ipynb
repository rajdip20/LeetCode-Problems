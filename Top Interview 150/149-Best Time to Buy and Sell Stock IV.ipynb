{
 "cells": [
  {
   "cell_type": "markdown",
   "metadata": {},
   "source": [
    "You are given an integer array `prices` where `prices[i]` is the price of a given stock on the **i<sup>th</sup>** day, and an integer `k`.\n",
    "\n",
    "Find the maximum profit you can achieve. You may complete at most `k` transactions: i.e. you may buy at most `k` times and sell at most `k` times.\n",
    "\n",
    "**Note:** You may not engage in multiple transactions simultaneously (i.e., you must sell the stock before you buy again).\n",
    "\n",
    "<br>\n",
    "\n",
    "**Example 1:**\n",
    ">**Input:** k = 2, prices = [2,4,1]<br>\n",
    ">**Output:** 2<br>\n",
    ">**Explanation:** Buy on day 1 (price = 2) and sell on day 2 (price = 4), profit = 4-2 = 2.\n",
    "\n",
    "**Example 2:**\n",
    ">**Input:** k = 2, prices = [3,2,6,5,0,3]<br>\n",
    ">**Output:** 7<br>\n",
    ">**Explanation:** Buy on day 2 (price = 2) and sell on day 3 (price = 6), profit = 6-2 = 4. Then buy on day 5 (price = 0) and sell on day 6 (price = 3), profit = 3-0 = 3.\n",
    "\n",
    "<br>\n",
    "\n",
    "**Constraints:**\n",
    "- >1 <= k <= 100\n",
    "- >1 <= prices.length <= 1000\n",
    "- >0 <= prices[i] <= 1000"
   ]
  },
  {
   "cell_type": "code",
   "execution_count": 1,
   "metadata": {},
   "outputs": [],
   "source": [
    "class Solution:\n",
    "    def maxProfit(self, k: int, prices: list[int]) -> int:\n",
    "        if not prices:\n",
    "            return 0\n",
    "\n",
    "        n = len(prices)\n",
    "        if k >= n // 2:\n",
    "            return sum(max(prices[i+1] - prices[i], 0) for i in range(n-1))\n",
    "\n",
    "        dp = [[0] * n for _ in range(k+1)]\n",
    "\n",
    "        for i in range(1, k+1):\n",
    "            max_diff = -prices[0]\n",
    "            for j in range(1, n):\n",
    "                dp[i][j] = max(dp[i][j-1], prices[j] + max_diff)\n",
    "                max_diff = max(max_diff, dp[i-1][j] - prices[j])\n",
    "        \n",
    "        return dp[k][n-1]"
   ]
  }
 ],
 "metadata": {
  "kernelspec": {
   "display_name": "base",
   "language": "python",
   "name": "python3"
  },
  "language_info": {
   "codemirror_mode": {
    "name": "ipython",
    "version": 3
   },
   "file_extension": ".py",
   "mimetype": "text/x-python",
   "name": "python",
   "nbconvert_exporter": "python",
   "pygments_lexer": "ipython3",
   "version": "3.9.16"
  }
 },
 "nbformat": 4,
 "nbformat_minor": 2
}

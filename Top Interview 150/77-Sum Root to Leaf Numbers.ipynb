{
 "cells": [
  {
   "cell_type": "markdown",
   "metadata": {},
   "source": [
    "You are given the `root` of a binary tree containing digits from `0` to `9` only.\n",
    "\n",
    "Each root-to-leaf path in the tree represents a number.\n",
    "- For example, the root-to-leaf path `1 -> 2 -> 3` represents the number `123`.\n",
    "\n",
    "Return *the total sum of all root-to-leaf numbers*. Test cases are generated so that the answer will fit in a **32-bit** integer.\n",
    "\n",
    "A **leaf** node is a node with no children.\n",
    "\n",
    "<br>\n",
    "\n",
    "**Example 1:**\n",
    "\n",
    "![num1tree](../images/num1tree.jpg)\n",
    "\n",
    ">**Input:** root = [1,2,3]<br>\n",
    ">**Output:** 25<br>\n",
    ">**Explanation:**<br>\n",
    ">The root-to-leaf path 1->2 represents the number 12.<br>\n",
    ">The root-to-leaf path 1->3 represents the number 13.<br>\n",
    ">Therefore, sum = 12 + 13 = 25.\n",
    "\n",
    "**Example 2:**\n",
    "\n",
    "![num2tree](../images/num2tree.jpg)\n",
    "\n",
    ">**Input:** root = [4,9,0,5,1]<br>\n",
    ">**Output:** 1026<br>\n",
    ">**Explanation:**<br>\n",
    ">The root-to-leaf path 4->9->5 represents the number 495.<br>\n",
    ">The root-to-leaf path 4->9->1 represents the number 491.<br>\n",
    ">The root-to-leaf path 4->0 represents the number 40.<br>\n",
    ">Therefore, sum = 495 + 491 + 40 = 1026.\n",
    "\n",
    "<br>\n",
    "\n",
    "**Constraints:**\n",
    "- >The number of nodes in the tree is in the range [1, 1000].\n",
    "- >0 <= Node.val <= 9\n",
    "- >The depth of the tree will not exceed 10."
   ]
  },
  {
   "cell_type": "code",
   "execution_count": 1,
   "metadata": {},
   "outputs": [],
   "source": [
    "# Definition for a binary tree node.\n",
    "# class TreeNode:\n",
    "#     def __init__(self, val=0, left=None, right=None):\n",
    "#         self.val = val\n",
    "#         self.left = left\n",
    "#         self.right = right\n",
    "class Solution:\n",
    "    def sumNumbers(self, root) -> int:\n",
    "        def dfs(node, current_sum):\n",
    "            if not node:\n",
    "                return 0\n",
    "            \n",
    "            current_sum = current_sum * 10 + node.val\n",
    "            \n",
    "            if not node.left and not node.right:\n",
    "                return current_sum\n",
    "            \n",
    "            left_sum = dfs(node.left, current_sum)\n",
    "            right_sum = dfs(node.right, current_sum)\n",
    "            \n",
    "            return left_sum + right_sum\n",
    "        \n",
    "        return dfs(root, 0)"
   ]
  }
 ],
 "metadata": {
  "kernelspec": {
   "display_name": "base",
   "language": "python",
   "name": "python3"
  },
  "language_info": {
   "codemirror_mode": {
    "name": "ipython",
    "version": 3
   },
   "file_extension": ".py",
   "mimetype": "text/x-python",
   "name": "python",
   "nbconvert_exporter": "python",
   "pygments_lexer": "ipython3",
   "version": "3.9.16"
  }
 },
 "nbformat": 4,
 "nbformat_minor": 2
}

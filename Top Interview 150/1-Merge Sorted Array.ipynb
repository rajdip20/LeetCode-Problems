{
 "cells": [
  {
   "cell_type": "markdown",
   "metadata": {},
   "source": [
    "You are given two integer arrays `nums1` and `nums2`, sorted in **non-decreasing order**, and two integers `m` and `n`, representing the number of elements in `nums1` and `nums2` respectively.\n",
    "\n",
    "**Merge** `nums1` and `nums2` into a single array sorted in **non-decreasing order**.\n",
    "\n",
    "The final sorted array should not be returned by the function, but instead be stored inside the array `nums1`. To accommodate this, `nums1` has a length of `m + n`, where the first `m` elements denote the elements that should be merged, and the last `n` elements are set to `0` and should be ignored. `nums2` has a length of `n`.\n",
    "\n",
    "<br>\n",
    "\n",
    "**Example 1:**\n",
    ">**Input:** nums1 = [1,2,3,0,0,0], m = 3, nums2 = [2,5,6], n = 3<br>\n",
    ">**Output:** [1,2,2,3,5,6]<br>\n",
    ">**Explanation:** The arrays we are merging are [1,2,3] and [2,5,6].<br>\n",
    ">The result of the merge is [1,2,2,3,5,6] with the underlined elements coming from nums1.\n",
    "\n",
    "\n",
    "**Example 2:**\n",
    ">**Input:** nums1 = [1], m = 1, nums2 = [], n = 0<br>\n",
    ">**Output:** [1]<br>\n",
    ">**Explanation:** The arrays we are merging are [1] and [].<br>\n",
    ">The result of the merge is [1].\n",
    "\n",
    "\n",
    "**Example 3:**\n",
    ">**Input:** nums1 = [0], m = 0, nums2 = [1], n = 1<br>\n",
    ">**Output:** [1]<br>\n",
    ">**Explanation:** The arrays we are merging are [] and [1].<br>\n",
    ">The result of the merge is [1].<br>\n",
    ">Note that because m = 0, there are no elements in nums1. The 0 is only there to ensure the merge result can fit in nums1.\n",
    "\n",
    "<br>\n",
    "\n",
    "**Constraints:**\n",
    "- >nums1.length == m + n\n",
    "- >nums2.length == n\n",
    "- >0 <= m, n <= 200\n",
    "- >1 <= m + n <= 200\n",
    "- >-10<sup>9</sup> <= nums1[i], nums2[j] <= 10<sup>9</sup>\n",
    " \n",
    "<br>\n",
    "\n",
    "**Follow up:** Can you come up with an algorithm that runs in `O(m + n)` time?"
   ]
  },
  {
   "cell_type": "code",
   "execution_count": 1,
   "metadata": {},
   "outputs": [],
   "source": [
    "class Solution:\n",
    "    def merge(self, nums1: list[int], m: int, nums2: list[int], n: int) -> None:\n",
    "        \"\"\"\n",
    "        Do not return anything, modify nums1 in-place instead.\n",
    "        \"\"\"\n",
    "        for i in range(n):\n",
    "            nums1[m + i] = nums2[i]\n",
    "        nums1.sort()"
   ]
  }
 ],
 "metadata": {
  "kernelspec": {
   "display_name": "base",
   "language": "python",
   "name": "python3"
  },
  "language_info": {
   "codemirror_mode": {
    "name": "ipython",
    "version": 3
   },
   "file_extension": ".py",
   "mimetype": "text/x-python",
   "name": "python",
   "nbconvert_exporter": "python",
   "pygments_lexer": "ipython3",
   "version": "3.9.16"
  }
 },
 "nbformat": 4,
 "nbformat_minor": 2
}

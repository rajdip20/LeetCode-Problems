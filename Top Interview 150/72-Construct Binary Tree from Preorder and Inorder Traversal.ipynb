{
 "cells": [
  {
   "cell_type": "markdown",
   "metadata": {},
   "source": [
    "Given two integer arrays `preorder` and `inorder` where `preorder` is the preorder traversal of a binary tree and `inorder` is the inorder traversal of the same tree, construct and return *the binary tree*.\n",
    "\n",
    "<br>\n",
    "\n",
    "**Example 1:**\n",
    "\n",
    "![tree](../images/tree.jpg)\n",
    "\n",
    ">**Input:** preorder = [3,9,20,15,7], inorder = [9,3,15,20,7]<br>\n",
    ">**Output:** [3,9,20,null,null,15,7]\n",
    "\n",
    "**Example 2:**\n",
    ">**Input:** preorder = [-1], inorder = [-1]<br>\n",
    ">**Output:** [-1]\n",
    "\n",
    "<br>\n",
    "\n",
    "**Constraints:**\n",
    "- >1 <= preorder.length <= 3000\n",
    "- >inorder.length == preorder.length\n",
    "- >-3000 <= preorder[i], inorder[i] <= 3000\n",
    "- >preorder and inorder consist of **unique** values.\n",
    "- >Each value of inorder also appears in preorder.\n",
    "- >preorder is **guaranteed** to be the preorder traversal of the tree.\n",
    "- >inorder is **guaranteed** to be the inorder traversal of the tree."
   ]
  },
  {
   "cell_type": "code",
   "execution_count": 1,
   "metadata": {},
   "outputs": [],
   "source": [
    "# Definition for a binary tree node.\n",
    "# class TreeNode:\n",
    "#     def __init__(self, val=0, left=None, right=None):\n",
    "#         self.val = val\n",
    "#         self.left = left\n",
    "#         self.right = right\n",
    "class Solution:\n",
    "    def buildTree(self, preorder: list[int], inorder: list[int]):\n",
    "        def helper(pre_start, pre_end, in_start, in_end):\n",
    "            if pre_start > pre_end or in_start > in_end:\n",
    "                return None\n",
    "            \n",
    "            root_val = preorder[pre_start]\n",
    "            root = TreeNode(root_val)\n",
    "            \n",
    "            root_idx = inorder.index(root_val)\n",
    "            \n",
    "            root.left = helper(pre_start + 1, pre_start + root_idx - in_start, in_start, root_idx - 1)\n",
    "            root.right = helper(pre_start + root_idx - in_start + 1, pre_end, root_idx + 1, in_end)\n",
    "            \n",
    "            return root\n",
    "        \n",
    "        return helper(0, len(preorder) - 1, 0, len(inorder) - 1)"
   ]
  }
 ],
 "metadata": {
  "kernelspec": {
   "display_name": "base",
   "language": "python",
   "name": "python3"
  },
  "language_info": {
   "codemirror_mode": {
    "name": "ipython",
    "version": 3
   },
   "file_extension": ".py",
   "mimetype": "text/x-python",
   "name": "python",
   "nbconvert_exporter": "python",
   "pygments_lexer": "ipython3",
   "version": "3.9.16"
  }
 },
 "nbformat": 4,
 "nbformat_minor": 2
}

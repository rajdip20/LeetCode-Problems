{
 "cells": [
  {
   "cell_type": "markdown",
   "metadata": {},
   "source": [
    "Given an integer array `nums` where the elements are sorted in **ascending order**, convert *it to a height-balanced binary search tree*.\n",
    "\n",
    "<br>\n",
    "\n",
    "**Example 1:**\n",
    "\n",
    "![btree1](../images/btree1.jpg)\n",
    "\n",
    ">**Input:** nums = [-10,-3,0,5,9]<br>\n",
    ">**Output:** [0,-3,9,-10,null,5]<br>\n",
    ">**Explanation:** [0,-10,5,null,-3,null,9] is also accepted:<br>\n",
    ">![btree2](../images/btree2.jpg)\n",
    "\n",
    "**Example 2:**\n",
    "\n",
    "![btree3](../images/btree3.jpg)\n",
    "|\n",
    ">**Input:** nums = [1,3]<br>\n",
    ">**Output:** [3,1]<br>\n",
    ">**Explanation:** [1,null,3] and [3,1] are both height-balanced BSTs.\n",
    "\n",
    "<br>\n",
    "\n",
    "**Constraints:**\n",
    "- >1 <= nums.length <= 10<sup>4</sup>\n",
    "- >-10<sup>4</sup> <= nums[i] <= 10<sup>4</sup>\n",
    "- >nums is sorted in a **strictly increasing** order."
   ]
  },
  {
   "cell_type": "code",
   "execution_count": 1,
   "metadata": {},
   "outputs": [],
   "source": [
    "# Definition for a binary tree node.\n",
    "# class TreeNode:\n",
    "#     def __init__(self, val=0, left=None, right=None):\n",
    "#         self.val = val\n",
    "#         self.left = left\n",
    "#         self.right = right\n",
    "class Solution:\n",
    "    def sortedArrayToBST(self, nums: list[int]):\n",
    "        if not nums:\n",
    "            return None\n",
    "\n",
    "        mid = len(nums) // 2\n",
    "        root = TreeNode(nums[mid])\n",
    "        root.left = self.sortedArrayToBST(nums[:mid])\n",
    "        root.right = self.sortedArrayToBST(nums[mid+1:])\n",
    "\n",
    "        return root"
   ]
  }
 ],
 "metadata": {
  "kernelspec": {
   "display_name": "base",
   "language": "python",
   "name": "python3"
  },
  "language_info": {
   "codemirror_mode": {
    "name": "ipython",
    "version": 3
   },
   "file_extension": ".py",
   "mimetype": "text/x-python",
   "name": "python",
   "nbconvert_exporter": "python",
   "pygments_lexer": "ipython3",
   "version": "3.9.16"
  }
 },
 "nbformat": 4,
 "nbformat_minor": 2
}

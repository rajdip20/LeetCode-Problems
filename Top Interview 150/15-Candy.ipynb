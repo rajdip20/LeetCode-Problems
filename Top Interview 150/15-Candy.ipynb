{
 "cells": [
  {
   "cell_type": "markdown",
   "metadata": {},
   "source": [
    "There are `n` children standing in a line. Each child is assigned a rating value given in the integer array `ratings`.\n",
    "\n",
    "You are giving candies to these children subjected to the following requirements:\n",
    "- Each child must have at least one candy.\n",
    "- Children with a higher rating get more candies than their neighbors.\n",
    "\n",
    "Return *the minimum number of candies you need to have to distribute the candies to the children*.\n",
    "\n",
    "<br>\n",
    "\n",
    "**Example 1:**\n",
    ">**Input:** ratings = [1,0,2]<br>\n",
    ">**Output:** 5<br>\n",
    ">**Explanation:** You can allocate to the first, second and third child with 2, 1, 2 candies respectively.\n",
    "\n",
    "\n",
    "**Example 2:**\n",
    ">**Input:** ratings = [1,2,2]<br>\n",
    ">**Output:** 4<br>\n",
    ">**Explanation:** You can allocate to the first, second and third child with 1, 2, 1 candies respectively.<br>\n",
    ">The third child gets 1 candy because it satisfies the above two conditions.\n",
    " \n",
    "<br>\n",
    "\n",
    "**Constraints:**\n",
    "- >n == ratings.length\n",
    "- >1 <= n <= 2 * 10<sup>4</sup>\n",
    "- >0 <= ratings[i] <= 2 * 10<sup>4</sup>"
   ]
  },
  {
   "cell_type": "code",
   "execution_count": 1,
   "metadata": {},
   "outputs": [],
   "source": [
    "class Solution:\n",
    "    def candy(self, ratings: list[int]) -> int:\n",
    "        n = len(ratings)\n",
    "        candies = [1] * n\n",
    "\n",
    "        for i in range(1, n):\n",
    "            if ratings[i] > ratings[i - 1]:\n",
    "                candies[i] = candies[i - 1] + 1\n",
    "\n",
    "        for i in range(n - 2, -1, -1):\n",
    "            if ratings[i] > ratings[i + 1]:\n",
    "                candies[i] = max(candies[i], candies[i + 1] + 1)\n",
    "\n",
    "        return sum(candies)"
   ]
  }
 ],
 "metadata": {
  "kernelspec": {
   "display_name": "base",
   "language": "python",
   "name": "python3"
  },
  "language_info": {
   "codemirror_mode": {
    "name": "ipython",
    "version": 3
   },
   "file_extension": ".py",
   "mimetype": "text/x-python",
   "name": "python",
   "nbconvert_exporter": "python",
   "pygments_lexer": "ipython3",
   "version": "3.9.16"
  }
 },
 "nbformat": 4,
 "nbformat_minor": 2
}

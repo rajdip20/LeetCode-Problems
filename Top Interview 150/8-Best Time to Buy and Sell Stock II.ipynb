{
 "cells": [
  {
   "cell_type": "markdown",
   "metadata": {},
   "source": [
    "You are given an integer array **prices** where **prices[i]** is the price of a given stock on the **i<sup>th</sup>** day.\n",
    "\n",
    "On each day, you may decide to buy and/or sell the stock. You can only hold **at most one** share of the stock at any time. However, you can buy it then immediately sell it on the **same day**.\n",
    "\n",
    "Find and return *the ***maximum*** profit you can achieve*.\n",
    "\n",
    "<br> \n",
    "\n",
    "**Example 1:**\n",
    ">**Input:** prices = [7,1,5,3,6,4]<br>\n",
    ">**Output:** 7<br>\n",
    ">**Explanation:** Buy on day 2 (price = 1) and sell on day 3 (price = 5), profit = 5-1 = 4.<br>\n",
    ">Then buy on day 4 (price = 3) and sell on day 5 (price = 6), profit = 6-3 = 3.<br>\n",
    ">Total profit is 4 + 3 = 7.\n",
    "\n",
    "\n",
    "**Example 2:**\n",
    ">**Input:** prices = [1,2,3,4,5]<br>\n",
    ">**Output:** 4<br>\n",
    ">**Explanation:** Buy on day 1 (price = 1) and sell on day 5 (price = 5), profit = 5-1 = 4.<br>\n",
    ">Total profit is 4.\n",
    "\n",
    "\n",
    "**Example 3:**\n",
    ">**Input:** prices = [7,6,4,3,1]<br>\n",
    ">**Output:** 0<br>\n",
    ">**Explanation:** There is no way to make a positive profit, so we never buy the stock to achieve the maximum profit of 0.\n",
    " \n",
    "<br>\n",
    "\n",
    "**Constraints:**\n",
    "- >1 <= prices.length <= 3 * 10<sup>4</sup>\n",
    "- >0 <= prices[i] <= 10<sup>4</sup>"
   ]
  },
  {
   "cell_type": "code",
   "execution_count": null,
   "metadata": {},
   "outputs": [],
   "source": [
    "class Solution:\n",
    "    def maxProfit(self, prices: list[int]) -> int:\n",
    "        max_profit = 0\n",
    "\n",
    "        for i in range(1, len(prices)):\n",
    "            if prices[i] > prices[i - 1]:\n",
    "                max_profit += prices[i] - prices[i - 1]\n",
    "        \n",
    "        return max_profit"
   ]
  }
 ],
 "metadata": {
  "kernelspec": {
   "display_name": "base",
   "language": "python",
   "name": "python3"
  },
  "language_info": {
   "codemirror_mode": {
    "name": "ipython",
    "version": 3
   },
   "file_extension": ".py",
   "mimetype": "text/x-python",
   "name": "python",
   "nbconvert_exporter": "python",
   "pygments_lexer": "ipython3",
   "version": "3.9.16"
  }
 },
 "nbformat": 4,
 "nbformat_minor": 2
}

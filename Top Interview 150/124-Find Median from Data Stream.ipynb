{
 "cells": [
  {
   "cell_type": "markdown",
   "metadata": {},
   "source": [
    "The **median** is the middle value in an ordered integer list. If the size of the list is even, there is no middle value, and the median is the mean of the two middle values.\n",
    "- For example, for `arr = [2,3,4]`, the median is `3`.\n",
    "- For example, for `arr = [2,3]`, the median is `(2 + 3) / 2 = 2.5`.\n",
    "\n",
    "Implement the MedianFinder class:\n",
    "- `MedianFinder()` initializes the `MedianFinder` object.\n",
    "- `void addNum(int num)` adds the integer `num` from the data stream to the data structure.\n",
    "- `double findMedian()` returns the median of all elements so far. Answers within 10<sup>-5</sup> of the actual answer will be accepted.\n",
    "\n",
    "<br>\n",
    "\n",
    "**Example 1:**\n",
    ">**Input:**<br>\n",
    ">[\"MedianFinder\", \"addNum\", \"addNum\", \"findMedian\", \"addNum\", \"findMedian\"]<br>\n",
    ">[[], [1], [2], [], [3], []]<br>\n",
    ">**Output:**<br>\n",
    ">[null, null, null, 1.5, null, 2.0]<br>\n",
    ">**Explanation:**<br>\n",
    ">MedianFinder medianFinder = new MedianFinder();<br>\n",
    ">medianFinder.addNum(1); &emsp; // arr = [1]<br>\n",
    ">medianFinder.addNum(2); &emsp; // arr = [1, 2]<br>\n",
    ">medianFinder.findMedian(); &nbsp; // return 1.5 (i.e., (1 + 2) / 2)<br>\n",
    ">medianFinder.addNum(3); &emsp; // arr[1, 2, 3]<br>\n",
    ">medianFinder.findMedian(); &ensp; // return 2.0\n",
    "\n",
    "<br>\n",
    "\n",
    "**Constraints:**\n",
    "- >-10<sup>5</sup> <= num <= 10<sup>5</sup>\n",
    "- >There will be at least one element in the data structure before calling findMedian.\n",
    "- >At most 5 * 10<sup>4</sup> calls will be made to addNum and findMedian.\n",
    "\n",
    "<br><br>\n",
    "\n",
    "**Follow up:**\n",
    "- If all integer numbers from the stream are in the range `[0, 100]`, how would you optimize your solution?\n",
    "- If `99%` of all integer numbers from the stream are in the range `[0, 100]`, how would you optimize your solution?"
   ]
  },
  {
   "cell_type": "code",
   "execution_count": 1,
   "metadata": {},
   "outputs": [],
   "source": [
    "import heapq\n",
    "\n",
    "class MedianFinder:\n",
    "    def __init__(self):\n",
    "        self.small = []\n",
    "        self.large = []\n",
    "\n",
    "\n",
    "    def addNum(self, num: int) -> None:\n",
    "        heapq.heappush(self.small, -num)\n",
    "        \n",
    "        if self.small and self.large and (-self.small[0] > self.large[0]):\n",
    "            heapq.heappush(self.large, -heapq.heappop(self.small))\n",
    "        \n",
    "        if len(self.small) > len(self.large) + 1:\n",
    "            heapq.heappush(self.large, -heapq.heappop(self.small))\n",
    "        if len(self.large) > len(self.small):\n",
    "            heapq.heappush(self.small, -heapq.heappop(self.large))\n",
    "\n",
    "\n",
    "    def findMedian(self) -> float:\n",
    "        if len(self.small) > len(self.large):\n",
    "            return -self.small[0]\n",
    "        else:\n",
    "            return (-self.small[0] + self.large[0]) / 2.0\n",
    "\n",
    "\n",
    "# Your MedianFinder object will be instantiated and called as such:\n",
    "# obj = MedianFinder()\n",
    "# obj.addNum(num)\n",
    "# param_2 = obj.findMedian()"
   ]
  }
 ],
 "metadata": {
  "kernelspec": {
   "display_name": "base",
   "language": "python",
   "name": "python3"
  },
  "language_info": {
   "codemirror_mode": {
    "name": "ipython",
    "version": 3
   },
   "file_extension": ".py",
   "mimetype": "text/x-python",
   "name": "python",
   "nbconvert_exporter": "python",
   "pygments_lexer": "ipython3",
   "version": "3.9.16"
  }
 },
 "nbformat": 4,
 "nbformat_minor": 2
}

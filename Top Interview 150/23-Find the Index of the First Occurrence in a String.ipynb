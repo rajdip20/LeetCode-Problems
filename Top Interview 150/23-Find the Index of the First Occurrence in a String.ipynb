{
 "cells": [
  {
   "cell_type": "markdown",
   "metadata": {},
   "source": [
    "Given two strings `needle` and `haystack`, return the index of the first occurrence of `needle` in `haystack`, or `-1` if `needle` is not part of `haystack`.\n",
    "\n",
    "<br>\n",
    "\n",
    "**Example 1:**\n",
    ">**Input:** haystack = \"sadbutsad\", needle = \"sad\"<br>\n",
    ">**Output:** 0<br>\n",
    ">**Explanation:** \"sad\" occurs at index 0 and 6.<br>\n",
    ">The first occurrence is at index 0, so we return 0.\n",
    "\n",
    "\n",
    "**Example 2:**\n",
    ">**Input:** haystack = \"leetcode\", needle = \"leeto\"<br>\n",
    ">**Output:** -1<br>\n",
    ">**Explanation:** \"leeto\" did not occur in \"leetcode\", so we return -1.\n",
    " \n",
    "\n",
    "**Constraints:**\n",
    "- >1 <= haystack.length, needle.length <= 10<sup>4</sup>\n",
    "- >haystack and needle consist of only lowercase English characters."
   ]
  },
  {
   "cell_type": "code",
   "execution_count": 1,
   "metadata": {},
   "outputs": [],
   "source": [
    "class Solution:\n",
    "    def strStr(self, haystack: str, needle: str) -> int:\n",
    "        if len(needle) > len(haystack):\n",
    "            return -1\n",
    "        \n",
    "        for i in range(len(haystack) - len(needle) + 1):\n",
    "            if haystack[i : i + len(needle)] == needle:\n",
    "                return i\n",
    "        \n",
    "        return -1"
   ]
  }
 ],
 "metadata": {
  "kernelspec": {
   "display_name": "base",
   "language": "python",
   "name": "python3"
  },
  "language_info": {
   "codemirror_mode": {
    "name": "ipython",
    "version": 3
   },
   "file_extension": ".py",
   "mimetype": "text/x-python",
   "name": "python",
   "nbconvert_exporter": "python",
   "pygments_lexer": "ipython3",
   "version": "3.9.16"
  }
 },
 "nbformat": 4,
 "nbformat_minor": 2
}

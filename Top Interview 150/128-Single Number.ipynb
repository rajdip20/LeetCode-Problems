{
 "cells": [
  {
   "cell_type": "markdown",
   "metadata": {},
   "source": [
    "Given a **non-empty** array of integers `nums`, every element appears twice except for one. Find that single one.\n",
    "\n",
    "You must implement a solution with a linear runtime complexity and use only constant extra space.\n",
    "\n",
    "<br>\n",
    "\n",
    "**Example 1:**\n",
    ">**Input:** nums = [2,2,1]<br>\n",
    ">**Output:** 1\n",
    "\n",
    "**Example 2:**\n",
    ">**Input:** nums = [4,1,2,1,2]<br>\n",
    ">**Output:** 4\n",
    "\n",
    "**Example 3:**\n",
    ">**Input:** nums = [1]<br>\n",
    ">**Output:** 1\n",
    "\n",
    "<br>\n",
    "\n",
    "**Constraints:**\n",
    "- >1 <= nums.length <= 3 * 10<sup>4</sup>\n",
    "- >-3 * 10<sup>4</sup> <= nums[i] <= 3 * 10<sup>4</sup>\n",
    "- >Each element in the array appears twice except for one element which appears only once."
   ]
  },
  {
   "cell_type": "code",
   "execution_count": 1,
   "metadata": {},
   "outputs": [],
   "source": [
    "class Solution:\n",
    "    def singleNumber(self, nums: list[int]) -> int:\n",
    "        unique = 0\n",
    "\n",
    "        for num in nums:\n",
    "            unique ^= num\n",
    "        \n",
    "        return unique"
   ]
  }
 ],
 "metadata": {
  "kernelspec": {
   "display_name": "base",
   "language": "python",
   "name": "python3"
  },
  "language_info": {
   "codemirror_mode": {
    "name": "ipython",
    "version": 3
   },
   "file_extension": ".py",
   "mimetype": "text/x-python",
   "name": "python",
   "nbconvert_exporter": "python",
   "pygments_lexer": "ipython3",
   "version": "3.9.16"
  }
 },
 "nbformat": 4,
 "nbformat_minor": 2
}

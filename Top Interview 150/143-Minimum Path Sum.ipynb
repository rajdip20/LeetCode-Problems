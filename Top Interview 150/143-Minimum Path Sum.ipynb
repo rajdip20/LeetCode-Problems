{
 "cells": [
  {
   "cell_type": "markdown",
   "metadata": {},
   "source": [
    "Given a `m x n` `grid` filled with non-negative numbers, find a path from top left to bottom right, which minimizes the sum of all numbers along its path.\n",
    "\n",
    "**Note:** You can only move either down or right at any point in time.\n",
    "\n",
    "<br>\n",
    "\n",
    "**Example 1:**\n",
    "\n",
    "![minpath](../images/minpath.jpg)\n",
    "\n",
    ">**Input:** grid = [[1,3,1],[1,5,1],[4,2,1]]<br>\n",
    ">**Output:** 7<br>\n",
    ">**Explanation:** Because the path 1 → 3 → 1 → 1 → 1 minimizes the sum.\n",
    "\n",
    "**Example 2:**\n",
    ">**Input:** grid = [[1,2,3],[4,5,6]]<br>\n",
    ">**Output:** 12\n",
    "\n",
    "<br>\n",
    "\n",
    "**Constraints:**\n",
    "- >m == grid.length\n",
    "- >n == grid[i].length\n",
    "- >1 <= m, n <= 200\n",
    "- >0 <= grid[i][j] <= 200"
   ]
  },
  {
   "cell_type": "code",
   "execution_count": 1,
   "metadata": {},
   "outputs": [],
   "source": [
    "class Solution:\n",
    "    def minPathSum(self, grid: list[list[int]]) -> int:\n",
    "        if not grid or not grid[0]:\n",
    "            return 0\n",
    "        \n",
    "        m, n = len(grid), len(grid[0])\n",
    "        dp = [[0] * n for _ in range(m)]\n",
    "        dp[0][0] = grid[0][0]\n",
    "        \n",
    "        for j in range(1, n):\n",
    "            dp[0][j] = dp[0][j-1] + grid[0][j]\n",
    "        \n",
    "        for i in range(1, m):\n",
    "            dp[i][0] = dp[i-1][0] + grid[i][0]\n",
    "        \n",
    "        for i in range(1, m):\n",
    "            for j in range(1, n):\n",
    "                dp[i][j] = min(dp[i-1][j], dp[i][j-1]) + grid[i][j]\n",
    "        \n",
    "        return dp[m-1][n-1]"
   ]
  }
 ],
 "metadata": {
  "kernelspec": {
   "display_name": "base",
   "language": "python",
   "name": "python3"
  },
  "language_info": {
   "codemirror_mode": {
    "name": "ipython",
    "version": 3
   },
   "file_extension": ".py",
   "mimetype": "text/x-python",
   "name": "python",
   "nbconvert_exporter": "python",
   "pygments_lexer": "ipython3",
   "version": "3.9.16"
  }
 },
 "nbformat": 4,
 "nbformat_minor": 2
}

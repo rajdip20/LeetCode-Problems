{
 "cells": [
  {
   "cell_type": "markdown",
   "metadata": {},
   "source": [
    "Given the `head` of a linked list, return *the list after sorting it in ***ascending order****.\n",
    "\n",
    "<br>\n",
    "\n",
    "**Example 1:**\n",
    "\n",
    "![sort_list_1](../images/sort_list_1.jpg)\n",
    "\n",
    ">**Input:** head = [4,2,1,3]<br>\n",
    ">**Output:** [1,2,3,4]\n",
    "\n",
    "**Example 2:**\n",
    "\n",
    "![sort_list_2](../images/sort_list_2.jpg)\n",
    "\n",
    ">**Input:** head = [-1,5,3,4,0]<br>\n",
    ">**Output:** [-1,0,3,4,5]\n",
    "\n",
    "**Example 3:**\n",
    ">**Input:** head = []<br>\n",
    ">**Output:** []\n",
    "\n",
    "<br>\n",
    "\n",
    "**Constraints:**\n",
    "- >The number of nodes in the list is in the range [0, 5 * 10<sup>4</sup>].\n",
    "- >-10<sup>5</sup> <= Node.val <= 10<sup>5</sup>\n",
    "\n",
    "<br><br>\n",
    "\n",
    "**Follow up:** Can you sort the linked list in `O(n logn)` time and `O(1)` memory (i.e. constant space)?"
   ]
  },
  {
   "cell_type": "code",
   "execution_count": 1,
   "metadata": {},
   "outputs": [],
   "source": [
    "# Definition for singly-linked list.\n",
    "# class ListNode:\n",
    "#     def __init__(self, val=0, next=None):\n",
    "#         self.val = val\n",
    "#         self.next = next\n",
    "class Solution:\n",
    "    def merge(self, l1, l2):\n",
    "        dummy = ListNode()\n",
    "        tail = dummy\n",
    "        while l1 and l2:\n",
    "            if l1.val < l2.val:\n",
    "                tail.next, l1 = l1, l1.next\n",
    "            else:\n",
    "                tail.next, l2 = l2, l2.next\n",
    "            tail = tail.next\n",
    "        tail.next = l1 or l2\n",
    "        return dummy.next\n",
    "    \n",
    "    def sortList(self, head):\n",
    "        if not head or not head.next:\n",
    "            return head\n",
    "\n",
    "        prev, slow, fast = None, head, head\n",
    "        while fast and fast.next:\n",
    "            prev, slow, fast = slow, slow.next, fast.next.next\n",
    "        prev.next = None\n",
    "\n",
    "        l1 = self.sortList(head)\n",
    "        l2 = self.sortList(slow)\n",
    "\n",
    "        return self.merge(l1, l2)"
   ]
  }
 ],
 "metadata": {
  "kernelspec": {
   "display_name": "base",
   "language": "python",
   "name": "python3"
  },
  "language_info": {
   "codemirror_mode": {
    "name": "ipython",
    "version": 3
   },
   "file_extension": ".py",
   "mimetype": "text/x-python",
   "name": "python",
   "nbconvert_exporter": "python",
   "pygments_lexer": "ipython3",
   "version": "3.9.16"
  }
 },
 "nbformat": 4,
 "nbformat_minor": 2
}

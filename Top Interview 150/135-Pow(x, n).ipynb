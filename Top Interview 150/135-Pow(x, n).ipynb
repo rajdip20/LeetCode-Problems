{
 "cells": [
  {
   "cell_type": "markdown",
   "metadata": {},
   "source": [
    "Implement [pow(x, n)](http://www.cplusplus.com/reference/valarray/pow/), which calculates `x` raised to the power `n` (i.e., **x<sup>n</sup>**).\n",
    "\n",
    "<br>\n",
    "\n",
    "**Example 1:**\n",
    ">**Input:** x = 2.00000, n = 10<br>\n",
    ">**Output:** 1024.00000\n",
    "\n",
    "**Example 2:**\n",
    ">**Input:** x = 2.10000, n = 3<br>\n",
    ">**Output:** 9.26100\n",
    "\n",
    "**Example 3:**\n",
    ">**Input:** x = 2.00000, n = -2<br>\n",
    ">**Output:** 0.25000<br>\n",
    ">**Explanation:** 2<sup>-2</sup> = 1/2<sup>2</sup> = 1/4 = 0.25\n",
    "\n",
    "<br>\n",
    "\n",
    "**Constraints:**\n",
    "- >-100.0 < x < 100.0\n",
    "- >-2<sup>31</sup> <= n <= 2<sup>31</sup>-1\n",
    "- >n is an integer.\n",
    "- >Either x is not zero or n > 0.\n",
    "- >-10<sup>4</sup> <= x<sup>n</sup> <= 10<sup>4</sup>"
   ]
  },
  {
   "cell_type": "code",
   "execution_count": 1,
   "metadata": {},
   "outputs": [],
   "source": [
    "class Solution:\n",
    "    def myPow(self, x: float, n: int) -> float:\n",
    "        if n == 0:\n",
    "            return 1.0\n",
    "        if n < 0:\n",
    "            x = 1 / x\n",
    "            n = -n\n",
    "        \n",
    "        result = 1.0\n",
    "        current_product = x\n",
    "        \n",
    "        while n > 0:\n",
    "            if n % 2 == 1:\n",
    "                result *= current_product\n",
    "            current_product *= current_product\n",
    "            n //= 2\n",
    "        \n",
    "        return result"
   ]
  }
 ],
 "metadata": {
  "kernelspec": {
   "display_name": "base",
   "language": "python",
   "name": "python3"
  },
  "language_info": {
   "codemirror_mode": {
    "name": "ipython",
    "version": 3
   },
   "file_extension": ".py",
   "mimetype": "text/x-python",
   "name": "python",
   "nbconvert_exporter": "python",
   "pygments_lexer": "ipython3",
   "version": "3.9.16"
  }
 },
 "nbformat": 4,
 "nbformat_minor": 2
}

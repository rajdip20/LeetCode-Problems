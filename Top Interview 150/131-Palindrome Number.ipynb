{
 "cells": [
  {
   "cell_type": "markdown",
   "metadata": {},
   "source": [
    "Given an integer `x`, return `true` *if* `x` *is a palindrome, and* `false` *otherwise*.\n",
    "\n",
    "<br>\n",
    "\n",
    "**Example 1:**\n",
    ">**Input:** x = 121<br>\n",
    ">**Output:** true<br>\n",
    ">**Explanation:** 121 reads as 121 from left to right and from right to left.\n",
    "\n",
    "**Example 2:**\n",
    ">**Input:** x = -121<br>\n",
    ">**Output:** false<br>\n",
    ">**Explanation:** From left to right, it reads -121. From right to left, it becomes 121-. Therefore it is not a palindrome.\n",
    "\n",
    "**Example 3:**\n",
    ">**Input:** x = 10<br>\n",
    ">**Output:** false<br>\n",
    ">**Explanation:** Reads 01 from right to left. Therefore it is not a palindrome.\n",
    "\n",
    "<br>\n",
    "\n",
    "**Constraints:**\n",
    "- >-2<sup>31</sup> <= x <= 2<sup>31</sup> - 1\n",
    "\n",
    "<br><br>\n",
    "\n",
    "**Follow up:** Could you solve it without converting the integer to a string?"
   ]
  },
  {
   "cell_type": "code",
   "execution_count": 1,
   "metadata": {},
   "outputs": [],
   "source": [
    "class Solution:\n",
    "    def isPalindrome(self, x: int) -> bool:\n",
    "        if x < 0:\n",
    "            return False\n",
    "        \n",
    "        if x != 0 and x % 10 == 0:\n",
    "            return False\n",
    "        \n",
    "        reversed_half = 0\n",
    "        while x > reversed_half:\n",
    "            reversed_half = reversed_half * 10 + x % 10\n",
    "            x //= 10\n",
    "        \n",
    "        return x == reversed_half or x == reversed_half // 10"
   ]
  }
 ],
 "metadata": {
  "kernelspec": {
   "display_name": "base",
   "language": "python",
   "name": "python3"
  },
  "language_info": {
   "codemirror_mode": {
    "name": "ipython",
    "version": 3
   },
   "file_extension": ".py",
   "mimetype": "text/x-python",
   "name": "python",
   "nbconvert_exporter": "python",
   "pygments_lexer": "ipython3",
   "version": "3.9.16"
  }
 },
 "nbformat": 4,
 "nbformat_minor": 2
}

{
 "cells": [
  {
   "cell_type": "markdown",
   "metadata": {},
   "source": [
    "There are `n` gas stations along a circular route, where the amount of gas at the **i<sup>th</sup>** station is `gas[i]`.\n",
    "\n",
    "You have a car with an unlimited gas tank and it costs `cost[i]` of gas to travel from the **i<sup>th</sup>** station to its next **(i + 1)<sup>th</sup>** station. You begin the journey with an empty tank at one of the gas stations.\n",
    "\n",
    "Given two integer arrays `gas` and `cost`, return *the starting gas station's index if you can travel around the circuit once in the clockwise direction, otherwise return* `-1`. *If there exists a solution*, it is **guaranteed** to be **unique**\n",
    "\n",
    "<br>\n",
    "\n",
    "**Example 1:**\n",
    ">**Input:** gas = [1,2,3,4,5], cost = [3,4,5,1,2]<br>\n",
    ">**Output:** 3<br>\n",
    ">**Explanation:**<br>\n",
    ">Start at station 3 (index 3) and fill up with 4 unit of gas. Your tank = 0 + 4 = 4<br>\n",
    ">Travel to station 4. Your tank = 4 - 1 + 5 = 8<br>\n",
    ">Travel to station 0. Your tank = 8 - 2 + 1 = 7<br>\n",
    ">Travel to station 1. Your tank = 7 - 3 + 2 = 6<br>\n",
    ">Travel to station 2. Your tank = 6 - 4 + 3 = 5<br>\n",
    ">Travel to station 3. The cost is 5. Your gas is just enough to travel back to station 3.<br>\n",
    ">Therefore, return 3 as the starting index.\n",
    "\n",
    "\n",
    "**Example 2:**\n",
    ">**Input:** gas = [2,3,4], cost = [3,4,3]<br>\n",
    ">**Output:** -1<br>\n",
    ">**Explanation:**<br>\n",
    ">You can't start at station 0 or 1, as there is not enough gas to travel to the next station.<br>\n",
    ">Let's start at station 2 and fill up with 4 unit of gas. Your tank = 0 + 4 = 4<br>\n",
    ">Travel to station 0. Your tank = 4 - 3 + 2 = 3<br>\n",
    ">Travel to station 1. Your tank = 3 - 3 + 3 = 3<br>\n",
    ">You cannot travel back to station 2, as it requires 4 unit of gas but you only have 3.<br>\n",
    ">Therefore, you can't travel around the circuit once no matter where you start.\n",
    " \n",
    "<br>\n",
    "\n",
    "**Constraints:**\n",
    "- >n == gas.length == cost.length\n",
    "- >1 <= n <= 10<sup>5</sup>\n",
    "- >0 <= gas[i], cost[i] <= 10<sup>4</sup>"
   ]
  },
  {
   "cell_type": "code",
   "execution_count": 1,
   "metadata": {},
   "outputs": [],
   "source": [
    "class Solution:\n",
    "    def canCompleteCircuit(self, gas: list[int], cost: list[int]) -> int:\n",
    "        total_gas = 0\n",
    "        total_cost = 0\n",
    "        start = 0\n",
    "        tank = 0\n",
    "        \n",
    "        for i in range(len(gas)):\n",
    "            total_gas += gas[i]\n",
    "            total_cost += cost[i]\n",
    "            tank += gas[i] - cost[i]\n",
    "            \n",
    "            if tank < 0:\n",
    "                start = i + 1\n",
    "                tank = 0\n",
    "        \n",
    "        if total_gas < total_cost:\n",
    "            return -1\n",
    "        \n",
    "        return start"
   ]
  }
 ],
 "metadata": {
  "kernelspec": {
   "display_name": "base",
   "language": "python",
   "name": "python3"
  },
  "language_info": {
   "codemirror_mode": {
    "name": "ipython",
    "version": 3
   },
   "file_extension": ".py",
   "mimetype": "text/x-python",
   "name": "python",
   "nbconvert_exporter": "python",
   "pygments_lexer": "ipython3",
   "version": "3.9.16"
  }
 },
 "nbformat": 4,
 "nbformat_minor": 2
}

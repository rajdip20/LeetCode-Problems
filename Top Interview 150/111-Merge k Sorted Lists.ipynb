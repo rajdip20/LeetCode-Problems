{
 "cells": [
  {
   "cell_type": "markdown",
   "metadata": {},
   "source": [
    "You are given an array of `k` linked-lists `lists`, each linked-list is sorted in ascending order.\n",
    "\n",
    "*Merge all the linked-lists into one sorted linked-list and return it*.\n",
    "\n",
    "<br>\n",
    "\n",
    "**Example 1:**\n",
    ">**Input:** lists = [[1,4,5],[1,3,4],[2,6]]<br>\n",
    ">**Output:** [1,1,2,3,4,4,5,6]<br>\n",
    ">**Explanation:** The linked-lists are:<br>\n",
    ">[<br>\n",
    ">&emsp; 1->4->5,<br>\n",
    ">&emsp; 1->3->4,<br>\n",
    ">&emsp; 2->6<br>\n",
    ">]<br>\n",
    ">merging them into one sorted list:<br>\n",
    ">1->1->2->3->4->4->5->6\n",
    "\n",
    "**Example 2:**\n",
    ">**Input:** lists = []<br>\n",
    ">**Output:** []\n",
    "\n",
    "**Example 3:**\n",
    ">**Input:** lists = [[]]<br>\n",
    ">**Output:** []\n",
    "\n",
    "<br>\n",
    "\n",
    "**Constraints:**\n",
    "- >k == lists.length\n",
    "- >0 <= k <= 10<sup>4</sup>\n",
    "- >0 <= lists[i].length <= 500\n",
    "- >-10<sup>4</sup> <= lists[i][j] <= 10<sup>4</sup>\n",
    "- >lists[i] is sorted in **ascending order**.\n",
    "- >The sum of lists[i].length will not exceed 10<sup>4</sup>."
   ]
  },
  {
   "cell_type": "code",
   "execution_count": 1,
   "metadata": {},
   "outputs": [],
   "source": [
    "# Definition for singly-linked list.\n",
    "# class ListNode:\n",
    "#     def __init__(self, val=0, next=None):\n",
    "#         self.val = val\n",
    "#         self.next = next\n",
    "class Solution:\n",
    "    def mergeKLists(self, lists):\n",
    "        from heapq import heappush, heappop\n",
    "\n",
    "        if not lists:\n",
    "            return None\n",
    "        \n",
    "        min_heap = []\n",
    "        \n",
    "        # Push the head nodes of all lists into the heap\n",
    "        for i in range(len(lists)):\n",
    "            if lists[i]:\n",
    "                heappush(min_heap, (lists[i].val, i, lists[i]))\n",
    "        \n",
    "        dummy = ListNode()\n",
    "        current = dummy\n",
    "        \n",
    "        while min_heap:\n",
    "            val, idx, node = heappop(min_heap)\n",
    "            current.next = ListNode(val)\n",
    "            current = current.next\n",
    "            if node.next:\n",
    "                heappush(min_heap, (node.next.val, idx, node.next))\n",
    "        \n",
    "        return dummy.next"
   ]
  }
 ],
 "metadata": {
  "kernelspec": {
   "display_name": "base",
   "language": "python",
   "name": "python3"
  },
  "language_info": {
   "codemirror_mode": {
    "name": "ipython",
    "version": 3
   },
   "file_extension": ".py",
   "mimetype": "text/x-python",
   "name": "python",
   "nbconvert_exporter": "python",
   "pygments_lexer": "ipython3",
   "version": "3.9.16"
  }
 },
 "nbformat": 4,
 "nbformat_minor": 2
}

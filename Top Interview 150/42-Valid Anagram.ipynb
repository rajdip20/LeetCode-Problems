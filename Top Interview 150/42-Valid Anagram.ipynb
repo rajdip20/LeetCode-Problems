{
 "cells": [
  {
   "cell_type": "markdown",
   "metadata": {},
   "source": [
    "Given two strings `s` and `t`, return `true` *if* `t`*is an anagram of*`s`, *and* `false` *otherwise*.\n",
    "\n",
    "An **Anagram** is a word or phrase formed by rearranging the letters of a different word or phrase, typically using all the original letters exactly once.\n",
    "\n",
    "<br>\n",
    "\n",
    "**Example 1:**\n",
    ">**Input:** s = \"anagram\", t = \"nagaram\"<br>\n",
    ">**Output:** true\n",
    "\n",
    "**Example 2:**\n",
    ">**Input:** s = \"rat\", t = \"car\"<br>\n",
    ">**Output:** false\n",
    " \n",
    "<br>\n",
    "\n",
    "**Constraints:**\n",
    "- >1 <= s.length, t.length <= 5 * 10<sup>4</sup>\n",
    "- >s and t consist of lowercase English letters.\n",
    "\n",
    "<br><br>\n",
    "\n",
    "**Follow up:** What if the inputs contain Unicode characters? How would you adapt your solution to such a case?"
   ]
  },
  {
   "cell_type": "code",
   "execution_count": 1,
   "metadata": {},
   "outputs": [],
   "source": [
    "class Solution:\n",
    "    def isAnagram(self, s: str, t: str) -> bool:\n",
    "        if len(s) != len(t):\n",
    "            return False\n",
    "        \n",
    "        char_count = {}\n",
    "        \n",
    "        for char in s:\n",
    "            char_count[char] = char_count.get(char, 0) + 1\n",
    "        \n",
    "        for char in t:\n",
    "            if char not in char_count or char_count[char] == 0:\n",
    "                return False\n",
    "            char_count[char] -= 1\n",
    "        \n",
    "        return True"
   ]
  }
 ],
 "metadata": {
  "kernelspec": {
   "display_name": "base",
   "language": "python",
   "name": "python3"
  },
  "language_info": {
   "codemirror_mode": {
    "name": "ipython",
    "version": 3
   },
   "file_extension": ".py",
   "mimetype": "text/x-python",
   "name": "python",
   "nbconvert_exporter": "python",
   "pygments_lexer": "ipython3",
   "version": "3.9.16"
  }
 },
 "nbformat": 4,
 "nbformat_minor": 2
}

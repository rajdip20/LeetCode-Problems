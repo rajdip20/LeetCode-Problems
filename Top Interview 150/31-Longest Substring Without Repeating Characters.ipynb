{
 "cells": [
  {
   "cell_type": "markdown",
   "metadata": {},
   "source": [
    "Given a string `s`, find the length of the **longest** substring without repeating characters.\n",
    " \n",
    "<br>\n",
    "\n",
    "**Example 1:**\n",
    ">**Input:** s = \"abcabcbb\"<br>\n",
    ">**Output:** 3<br>\n",
    ">**Explanation:** The answer is \"abc\", with the length of 3.\n",
    "\n",
    "**Example 2:**\n",
    ">**Input:** s = \"bbbbb\"<br>\n",
    ">**Output:** 1<br>\n",
    ">**Explanation:** The answer is \"b\", with the length of 1.\n",
    "\n",
    "**Example 3:**\n",
    ">**Input:** s = \"pwwkew\"<br>\n",
    ">**Output:** 3<br>\n",
    ">**Explanation:** The answer is \"wke\", with the length of 3.<br>\n",
    ">Notice that the answer must be a substring, \"pwke\" is a subsequence and not a substring.\n",
    "\n",
    "<br>\n",
    "\n",
    "**Constraints:**\n",
    "- >0 <= s.length <= 5 * 10<sup>4</sup>\n",
    "- >s consists of English letters, digits, symbols and spaces."
   ]
  },
  {
   "cell_type": "code",
   "execution_count": 1,
   "metadata": {},
   "outputs": [],
   "source": [
    "class Solution:\n",
    "    def lengthOfLongestSubstring(self, s: str) -> int:\n",
    "        n = len(s)\n",
    "        max_length = 0\n",
    "        char_set = set()\n",
    "        start = 0\n",
    "        end = 0\n",
    "\n",
    "        while end < n:\n",
    "            if s[end] not in char_set:\n",
    "                char_set.add(s[end])\n",
    "                end += 1\n",
    "                max_length = max(max_length, end - start)\n",
    "            else:\n",
    "                char_set.remove(s[start])\n",
    "                start += 1\n",
    "\n",
    "        return max_length"
   ]
  }
 ],
 "metadata": {
  "kernelspec": {
   "display_name": "base",
   "language": "python",
   "name": "python3"
  },
  "language_info": {
   "codemirror_mode": {
    "name": "ipython",
    "version": 3
   },
   "file_extension": ".py",
   "mimetype": "text/x-python",
   "name": "python",
   "nbconvert_exporter": "python",
   "pygments_lexer": "ipython3",
   "version": "3.9.16"
  }
 },
 "nbformat": 4,
 "nbformat_minor": 2
}

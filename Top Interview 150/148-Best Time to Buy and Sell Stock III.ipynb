{
 "cells": [
  {
   "cell_type": "markdown",
   "metadata": {},
   "source": [
    "You are given an array `prices` where `prices[i]` is the price of a given stock on the **i<sup>th</sup>** day.\n",
    "\n",
    "Find the maximum profit you can achieve. You may complete **at most two transactions**.\n",
    "\n",
    "**Note:** You may not engage in multiple transactions simultaneously (i.e., you must sell the stock before you buy again).\n",
    "\n",
    "<br>\n",
    "\n",
    "**Example 1:**\n",
    ">**Input:** prices = [3,3,5,0,0,3,1,4]<br>\n",
    ">**Output:** 6<br>\n",
    ">**Explanation:** Buy on day 4 (price = 0) and sell on day 6 (price = 3), profit = 3-0 = 3.<br>\n",
    ">Then buy on day 7 (price = 1) and sell on day 8 (price = 4), profit = 4-1 = 3.\n",
    "\n",
    "**Example 2:**\n",
    ">**Input:** prices = [1,2,3,4,5]<br>\n",
    ">**Output:** 4<br>\n",
    ">**Explanation:** Buy on day 1 (price = 1) and sell on day 5 (price = 5), profit = 5-1 = 4.<br>\n",
    ">Note that you cannot buy on day 1, buy on day 2 and sell them later, as you are engaging multiple transactions at the same time. You must sell before buying again.\n",
    "\n",
    "**Example 3:**\n",
    ">**Input:** prices = [7,6,4,3,1]<br>\n",
    ">**Output:** 0<br>\n",
    ">**Explanation:** In this case, no transaction is done, i.e. max profit = 0.\n",
    "\n",
    "<br>\n",
    "\n",
    "**Constraints:**\n",
    "- >1 <= prices.length <= 10<sup>5</sup>\n",
    "- >0 <= prices[i] <= 10<sup>5</sup>"
   ]
  },
  {
   "cell_type": "code",
   "execution_count": 1,
   "metadata": {},
   "outputs": [],
   "source": [
    "class Solution:\n",
    "    def maxProfit(self, prices: list[int]) -> int:\n",
    "        if not prices:\n",
    "            return 0\n",
    "\n",
    "        first_buy = float('-inf')\n",
    "        first_sell = 0\n",
    "        second_buy = float('-inf')\n",
    "        second_sell = 0\n",
    "\n",
    "        for price in prices:\n",
    "            first_buy = max(first_buy, -price)\n",
    "            first_sell = max(first_sell, first_buy + price)\n",
    "            second_buy = max(second_buy, first_sell - price)\n",
    "            second_sell = max(second_sell, second_buy + price)\n",
    "\n",
    "        return second_sell"
   ]
  }
 ],
 "metadata": {
  "kernelspec": {
   "display_name": "base",
   "language": "python",
   "name": "python3"
  },
  "language_info": {
   "codemirror_mode": {
    "name": "ipython",
    "version": 3
   },
   "file_extension": ".py",
   "mimetype": "text/x-python",
   "name": "python",
   "nbconvert_exporter": "python",
   "pygments_lexer": "ipython3",
   "version": "3.9.16"
  }
 },
 "nbformat": 4,
 "nbformat_minor": 2
}

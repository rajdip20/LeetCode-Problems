{
 "cells": [
  {
   "cell_type": "markdown",
   "metadata": {},
   "source": [
    "Given the `root` of a binary search tree, and an integer `k`, return *the* **k<sup>th</sup>** *smallest value* ***(1-indexed)*** *of all the values of the nodes in the tree*.\n",
    "\n",
    "<br>\n",
    "\n",
    "**Example 1:**\n",
    "\n",
    "![kthtree1](../images/kthtree1.jpg)\n",
    "\n",
    ">**Input:** root = [3,1,4,null,2], k = 1<br>\n",
    ">**Output:** 1\n",
    "\n",
    "**Example 2:**\n",
    "\n",
    "![kthtree2](../images/kthtree2.jpg)\n",
    "\n",
    ">**Input:** root = [5,3,6,2,4,null,null,1], k = 3<br>\n",
    ">**Output:** 3\n",
    "\n",
    "<br>\n",
    "\n",
    "**Constraints:**\n",
    "- >The number of nodes in the tree is n.\n",
    "- >1 <= k <= n <= 10<sup>4</sup>\n",
    "- >0 <= Node.val <= 10<sup>4</sup>\n",
    "\n",
    "<br><br>\n",
    "\n",
    "**Follow up:** If the BST is modified often (i.e., we can do insert and delete operations) and you need to find the kth smallest frequently, how would you optimize?"
   ]
  },
  {
   "cell_type": "code",
   "execution_count": 1,
   "metadata": {},
   "outputs": [],
   "source": [
    "# Definition for a binary tree node.\n",
    "# class TreeNode:\n",
    "#     def __init__(self, val=0, left=None, right=None):\n",
    "#         self.val = val\n",
    "#         self.left = left\n",
    "#         self.right = right\n",
    "class Solution:\n",
    "    def kthSmallest(self, root, k: int) -> int:\n",
    "        def inorder(node):\n",
    "            nonlocal count, result\n",
    "            if not node:\n",
    "                return\n",
    "            inorder(node.left)\n",
    "            count += 1\n",
    "            if count == k:\n",
    "                result = node.val\n",
    "                return\n",
    "            inorder(node.right)\n",
    "\n",
    "        count = 0\n",
    "        result = None\n",
    "        inorder(root)\n",
    "        return result"
   ]
  }
 ],
 "metadata": {
  "kernelspec": {
   "display_name": "base",
   "language": "python",
   "name": "python3"
  },
  "language_info": {
   "codemirror_mode": {
    "name": "ipython",
    "version": 3
   },
   "file_extension": ".py",
   "mimetype": "text/x-python",
   "name": "python",
   "nbconvert_exporter": "python",
   "pygments_lexer": "ipython3",
   "version": "3.9.16"
  }
 },
 "nbformat": 4,
 "nbformat_minor": 2
}

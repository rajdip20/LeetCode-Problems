{
 "cells": [
  {
   "cell_type": "markdown",
   "metadata": {},
   "source": [
    "A ***transformation sequence*** from word `beginWord` to word `endWord` using a dictionary `wordList` is a sequence of words **beginWord -> s1 -> s2 -> ... -> s<sub>k</sub>** such that:\n",
    "- Every adjacent pair of words differs by a single letter.\n",
    "- Every **s<sub>i</sub>** for `1 <= i <= k` is in `wordList`. Note that `beginWord` does not need to be in `wordList`.\n",
    "- **s<sub>k</sub> == endWord**\n",
    "\n",
    "Given two words, `beginWord` and `endWord`, and a dictionary `wordList`, return *the ***number of words*** in the ***shortest transformation sequence*** from* `beginWord` *to* `endWord`, *or* `0` *if no such sequence exists*.\n",
    "\n",
    "<br>\n",
    "\n",
    "**Example 1:**\n",
    ">**Input:** beginWord = \"hit\", endWord = \"cog\", wordList = [\"hot\",\"dot\",\"dog\",\"lot\",\"log\",\"cog\"]<br>\n",
    ">**Output:** 5<br>\n",
    ">**Explanation:** One shortest transformation sequence is \"hit\" -> \"hot\" -> \"dot\" -> \"dog\" -> cog\", which is 5 words long.\n",
    "\n",
    "**Example 2:**\n",
    ">**Input:** beginWord = \"hit\", endWord = \"cog\", wordList = [\"hot\",\"dot\",\"dog\",\"lot\",\"log\"]<br>\n",
    ">**Output:** 0<br>\n",
    ">**Explanation:** The endWord \"cog\" is not in wordList, therefore there is no valid transformation sequence.\n",
    "\n",
    "<br>\n",
    "\n",
    "**Constraints:**\n",
    "- >1 <= beginWord.length <= 10\n",
    "- >endWord.length == beginWord.length\n",
    "- >1 <= wordList.length <= 5000\n",
    "- >wordList[i].length == beginWord.length\n",
    "- >beginWord, endWord, and wordList[i] consist of lowercase English letters.\n",
    "- >beginWord != endWord\n",
    "- >All the words in wordList are **unique**."
   ]
  },
  {
   "cell_type": "code",
   "execution_count": 1,
   "metadata": {},
   "outputs": [],
   "source": [
    "class Solution:\n",
    "    def ladderLength(self, beginWord: str, endWord: str, wordList: list[str]) -> int:\n",
    "        from collections import deque\n",
    "\n",
    "        if endWord not in wordList:\n",
    "            return 0\n",
    "        \n",
    "        wordSet = set(wordList)\n",
    "        queue = deque([(beginWord, 1)])\n",
    "        \n",
    "        while queue:\n",
    "            word, length = queue.popleft()\n",
    "            if word == endWord:\n",
    "                return length\n",
    "            \n",
    "            for i in range(len(word)):\n",
    "                for c in 'abcdefghijklmnopqrstuvwxyz':\n",
    "                    next_word = word[:i] + c + word[i+1:]\n",
    "                    if next_word in wordSet:\n",
    "                        wordSet.remove(next_word)\n",
    "                        queue.append((next_word, length + 1))\n",
    "        \n",
    "        return 0"
   ]
  }
 ],
 "metadata": {
  "kernelspec": {
   "display_name": "base",
   "language": "python",
   "name": "python3"
  },
  "language_info": {
   "codemirror_mode": {
    "name": "ipython",
    "version": 3
   },
   "file_extension": ".py",
   "mimetype": "text/x-python",
   "name": "python",
   "nbconvert_exporter": "python",
   "pygments_lexer": "ipython3",
   "version": "3.9.16"
  }
 },
 "nbformat": 4,
 "nbformat_minor": 2
}

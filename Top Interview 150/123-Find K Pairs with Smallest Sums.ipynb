{
 "cells": [
  {
   "cell_type": "markdown",
   "metadata": {},
   "source": [
    "You are given two integer arrays `nums1` and `nums2` sorted in **non-decreasing order** and an integer `k`.\n",
    "\n",
    "Define a pair `(u, v)` which consists of one element from the first array and one element from the second array.\n",
    "\n",
    "Return *the* `k`* pairs ***(u<sub>1</sub>, v<sub>1</sub>), (u<sub>2</sub>, v<sub>2</sub>), ..., (u<sub>k</sub>, v<sub>k</sub>)*** with the smallest sums*.\n",
    "\n",
    "<br>\n",
    "\n",
    "**Example 1:**\n",
    ">**Input:** nums1 = [1,7,11], nums2 = [2,4,6], k = 3<br>\n",
    ">**Output:** [[1,2],[1,4],[1,6]]<br>\n",
    ">**Explanation:** The first 3 pairs are returned from the sequence: [1,2],[1,4],[1,6],[7,2],[7,4],[11,2],[7,6],[11,4],[11,6]\n",
    "\n",
    "**Example 2:**\n",
    ">**Input:** nums1 = [1,1,2], nums2 = [1,2,3], k = 2<br>\n",
    ">**Output:** [[1,1],[1,1]]<br>\n",
    ">**Explanation:** The first 2 pairs are returned from the sequence: [1,1],[1,1],[1,2],[2,1],[1,2],[2,2],[1,3],[1,3],[2,3]\n",
    "\n",
    "<br>\n",
    "\n",
    "**Constraints:**\n",
    "- >1 <= nums1.length, nums2.length <= 10<sup>5</sup>\n",
    "- >-10<sup>9</sup> <= nums1[i], nums2[i] <= 10<sup>9</sup>\n",
    "- >nums1 and nums2 both are sorted in **non-decreasing order**.\n",
    "- >1 <= k <= 10<sup>4</sup>\n",
    "- >k <= nums1.length * nums2.length"
   ]
  },
  {
   "cell_type": "code",
   "execution_count": 1,
   "metadata": {},
   "outputs": [],
   "source": [
    "class Solution:\n",
    "    def kSmallestPairs(self, nums1: list[int], nums2: list[int], k: int) -> list[list[int]]:\n",
    "        import heapq\n",
    "\n",
    "        if not nums1 or not nums2 or k == 0:\n",
    "            return []\n",
    "        \n",
    "        min_heap = []\n",
    "        result = []\n",
    "        visited = set()\n",
    "        \n",
    "        for i in range(min(k, len(nums1))):\n",
    "            heapq.heappush(min_heap, (nums1[i] + nums2[0], i, 0))\n",
    "            visited.add((i, 0))\n",
    "        \n",
    "        while k > 0 and min_heap:\n",
    "            sum_val, i, j = heapq.heappop(min_heap)\n",
    "            result.append([nums1[i], nums2[j]])\n",
    "            \n",
    "            if j + 1 < len(nums2) and (i, j + 1) not in visited:\n",
    "                heapq.heappush(min_heap, (nums1[i] + nums2[j + 1], i, j + 1))\n",
    "                visited.add((i, j + 1))\n",
    "            \n",
    "            k -= 1\n",
    "        \n",
    "        return result"
   ]
  }
 ],
 "metadata": {
  "kernelspec": {
   "display_name": "base",
   "language": "python",
   "name": "python3"
  },
  "language_info": {
   "codemirror_mode": {
    "name": "ipython",
    "version": 3
   },
   "file_extension": ".py",
   "mimetype": "text/x-python",
   "name": "python",
   "nbconvert_exporter": "python",
   "pygments_lexer": "ipython3",
   "version": "3.9.16"
  }
 },
 "nbformat": 4,
 "nbformat_minor": 2
}

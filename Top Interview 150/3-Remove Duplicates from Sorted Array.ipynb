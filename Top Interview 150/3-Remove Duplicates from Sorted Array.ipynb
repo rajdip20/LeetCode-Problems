{
 "cells": [
  {
   "cell_type": "markdown",
   "metadata": {},
   "source": [
    "Given an integer array `nums` sorted in **non-decreasing order**, remove the duplicates [in-place](https://en.wikipedia.org/wiki/In-place_algorithm) such that each unique element appears only **once**. The **relative order** of the elements should be kept the **same**. Then return **the number of unique elements in `nums`**.\n",
    "\n",
    "Consider the number of unique elements of `nums` to be `k`, to get accepted, you need to do the following things:\n",
    "- Change the array `nums` such that the first `k` elements of `nums` contain the unique elements in the order they were present in `nums` initially. The remaining elements of `nums` are not important as well as the size of `nums`.\n",
    "- Return `k`.\n",
    "\n",
    "<br>\n",
    "\n",
    "**Custom Judge:**\n",
    "\n",
    "The judge will test your solution with the following code:\n",
    "\n",
    ">int[] nums = [...]; // Input array<br>\n",
    ">int[] expectedNums = [...]; // The expected answer with correct length<br>\n",
    ">\n",
    ">int k = removeDuplicates(nums); // Calls your implementation<br>\n",
    ">\n",
    ">assert k == expectedNums.length;<br>\n",
    ">for (int i = 0; i < k; i++) {<br>\n",
    ">&emsp;    assert nums[i] == expectedNums[i];<br>\n",
    ">}\n",
    "\n",
    "If all assertions pass, then your solution will be **accepted**.\n",
    "\n",
    "<br> \n",
    "\n",
    "**Example 1:**\n",
    ">**Input:** nums = [1,1,2]<br>\n",
    ">**Output:** 2, nums = [1,2, _]<br>\n",
    ">**Explanation:** Your function should return k = 2, with the first two elements of nums being 1 and 2 respectively.<br>\n",
    ">It does not matter what you leave beyond the returned k (hence they are underscores).\n",
    "\n",
    "\n",
    "**Example 2:**\n",
    ">**Input:** nums = [0,0,1,1,1,2,2,3,3,4]<br>\n",
    ">**Output:** 5, nums = [0,1,2,3,4,_ ,_ ,_ ,_ ,_]<br>\n",
    ">**Explanation:** Your function should return k = 5, with the first five elements of nums being 0, 1, 2, 3, and 4 respectively.<br>\n",
    ">It does not matter what you leave beyond the returned k (hence they are underscores).\n",
    "\n",
    "<br>\n",
    "\n",
    "**Constraints:**\n",
    "- >1 <= nums.length <= 3 * 10<sup>4</sup>\n",
    "- >-100 <= nums[i] <= 100\n",
    "- >nums is sorted in **non-decreasing** order."
   ]
  },
  {
   "cell_type": "code",
   "execution_count": 1,
   "metadata": {},
   "outputs": [],
   "source": [
    "class Solution:\n",
    "    def removeDuplicates(self, nums: list[int]) -> int:\n",
    "        for i in range(len(nums) - 1, 0, -1):\n",
    "            if nums[i] == nums[i - 1]:\n",
    "                nums.pop(i)\n",
    "        return len(nums)"
   ]
  }
 ],
 "metadata": {
  "kernelspec": {
   "display_name": "base",
   "language": "python",
   "name": "python3"
  },
  "language_info": {
   "codemirror_mode": {
    "name": "ipython",
    "version": 3
   },
   "file_extension": ".py",
   "mimetype": "text/x-python",
   "name": "python",
   "nbconvert_exporter": "python",
   "pygments_lexer": "ipython3",
   "version": "3.9.16"
  }
 },
 "nbformat": 4,
 "nbformat_minor": 2
}

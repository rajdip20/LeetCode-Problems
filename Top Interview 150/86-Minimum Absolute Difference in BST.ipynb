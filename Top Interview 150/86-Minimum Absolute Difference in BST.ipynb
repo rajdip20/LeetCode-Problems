{
 "cells": [
  {
   "cell_type": "markdown",
   "metadata": {},
   "source": [
    "Given the `root` of a Binary Search Tree (BST), return *the minimum absolute difference between the values of any two different nodes in the tree*.\n",
    "\n",
    "<br>\n",
    "\n",
    "**Example 1:**\n",
    "\n",
    "![bst4](../images/bst4.jpg)\n",
    "\n",
    ">**Input:** root = [4,2,6,1,3]<br>\n",
    ">**Output:** 1\n",
    "\n",
    "**Example 2:**\n",
    "\n",
    "![bst3](../images/bst3.jpg)\n",
    "\n",
    ">**Input:** root = [1,0,48,null,null,12,49]<br>\n",
    ">**Output:** 1\n",
    "\n",
    "<br>\n",
    "\n",
    "**Constraints:**\n",
    "- >The number of nodes in the tree is in the range [2, 10<sup>4</sup>].\n",
    "- >0 <= Node.val <= 10<sup>5</sup>"
   ]
  },
  {
   "cell_type": "code",
   "execution_count": 1,
   "metadata": {},
   "outputs": [],
   "source": [
    "# Definition for a binary tree node.\n",
    "# class TreeNode:\n",
    "#     def __init__(self, val=0, left=None, right=None):\n",
    "#         self.val = val\n",
    "#         self.left = left\n",
    "#         self.right = right\n",
    "class Solution:\n",
    "    def getMinimumDifference(self, root) -> int:\n",
    "        def inorder(node):\n",
    "            nonlocal prev_val, min_diff\n",
    "            if not node:\n",
    "                return\n",
    "            inorder(node.left)\n",
    "            if prev_val is not None:\n",
    "                min_diff = min(min_diff, node.val - prev_val)\n",
    "            prev_val = node.val\n",
    "            inorder(node.right)\n",
    "\n",
    "        prev_val = None\n",
    "        min_diff = float('inf')\n",
    "        inorder(root)\n",
    "        return min_diff"
   ]
  }
 ],
 "metadata": {
  "kernelspec": {
   "display_name": "base",
   "language": "python",
   "name": "python3"
  },
  "language_info": {
   "codemirror_mode": {
    "name": "ipython",
    "version": 3
   },
   "file_extension": ".py",
   "mimetype": "text/x-python",
   "name": "python",
   "nbconvert_exporter": "python",
   "pygments_lexer": "ipython3",
   "version": "3.9.16"
  }
 },
 "nbformat": 4,
 "nbformat_minor": 2
}

{
 "cells": [
  {
   "cell_type": "markdown",
   "metadata": {},
   "source": [
    "A phrase is a **palindrome** if, after converting all uppercase letters into lowercase letters and removing all non-alphanumeric characters, it reads the same forward and backward. Alphanumeric characters include letters and numbers.\n",
    "\n",
    "Given a string `s`, return `true` *if it is a ***palindrome***, or* `false` *otherwise*.\n",
    "\n",
    "<br>\n",
    "\n",
    "**Example 1:**\n",
    ">**Input:** s = \"A man, a plan, a canal: Panama\"<br>\n",
    ">**Output:** true<br>\n",
    ">**Explanation:** \"amanaplanacanalpanama\" is a palindrome.\n",
    "\n",
    "\n",
    "**Example 2:**\n",
    ">**Input:** s = \"race a car\"<br>\n",
    ">**Output:** <br>\n",
    ">**Explanation:** \"raceacar\" is not a palindrome.\n",
    "\n",
    "\n",
    "**Example 3:**\n",
    ">**Input:** s = \" \"<br>\n",
    ">**Output:** true<br>\n",
    ">**Explanation:** s is an empty string \"\" after removing non-alphanumeric characters.<br>\n",
    ">Since an empty string reads the same forward and backward, it is a palindrome.\n",
    "\n",
    "<br>\n",
    "\n",
    "**Constraints:**\n",
    "- >1 <= s.length <= 2 * 10<sup>5</sup>\n",
    "- >s consists only of printable ASCII characters."
   ]
  },
  {
   "cell_type": "code",
   "execution_count": 1,
   "metadata": {},
   "outputs": [],
   "source": [
    "class Solution:\n",
    "    def isPalindrome(self, s: str) -> bool:\n",
    "        def isAlphanumeric(char):\n",
    "            return char.isalnum()\n",
    "        \n",
    "        cleaned_s = ''.join(char.lower() for char in s if isAlphanumeric(char))\n",
    "        left, right = 0, len(cleaned_s) - 1\n",
    "        \n",
    "        while left < right:\n",
    "            if cleaned_s[left] != cleaned_s[right]:\n",
    "                return False\n",
    "            \n",
    "            left += 1\n",
    "            right -= 1\n",
    "        \n",
    "        return True"
   ]
  }
 ],
 "metadata": {
  "kernelspec": {
   "display_name": "base",
   "language": "python",
   "name": "python3"
  },
  "language_info": {
   "codemirror_mode": {
    "name": "ipython",
    "version": 3
   },
   "file_extension": ".py",
   "mimetype": "text/x-python",
   "name": "python",
   "nbconvert_exporter": "python",
   "pygments_lexer": "ipython3",
   "version": "3.9.16"
  }
 },
 "nbformat": 4,
 "nbformat_minor": 2
}

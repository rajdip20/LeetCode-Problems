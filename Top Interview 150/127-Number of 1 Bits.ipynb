{
 "cells": [
  {
   "cell_type": "markdown",
   "metadata": {},
   "source": [
    "Write a function that takes the binary representation of a positive integer and returns the number of set bits it has (also known as the [Hamming weight](http://en.wikipedia.org/wiki/Hamming_weight)).\n",
    "\n",
    "<br>\n",
    "\n",
    "**Example 1:**\n",
    ">**Input:** n = 11<br>\n",
    ">**Output:** 3<br>\n",
    ">**Explanation:**<br>\n",
    ">The input binary string **1011** has a total of three set bits.\n",
    "\n",
    "**Example 2:**\n",
    ">**Input:** n = 128<br>\n",
    ">**Output:** 1<br>\n",
    ">**Explanation:**<br>\n",
    ">The input binary string **10000000** has a total of one set bit.\n",
    "\n",
    "**Example 3:**\n",
    ">**Input:** n = 2147483645<br>\n",
    ">**Output:** 30<br>\n",
    ">**Explanation:**<br>\n",
    ">The input binary string **1111111111111111111111111111101** has a total of thirty set bits.\n",
    "\n",
    "<br>\n",
    "\n",
    "**Constraints:**\n",
    "- >1 <= n <= 2<sup>31</sup> - 1\n",
    "\n",
    "<br><br>\n",
    "\n",
    "**Follow up:** If this function is called many times, how would you optimize it?"
   ]
  },
  {
   "cell_type": "code",
   "execution_count": 1,
   "metadata": {},
   "outputs": [],
   "source": [
    "class Solution:\n",
    "    from functools import lru_cache\n",
    "\n",
    "    @lru_cache(None)\n",
    "    def hammingWeight(self, n: int) -> int:\n",
    "        count = 0\n",
    "        \n",
    "        while n:\n",
    "            n &= n - 1\n",
    "            count += 1\n",
    "        \n",
    "        return count"
   ]
  }
 ],
 "metadata": {
  "kernelspec": {
   "display_name": "base",
   "language": "python",
   "name": "python3"
  },
  "language_info": {
   "codemirror_mode": {
    "name": "ipython",
    "version": 3
   },
   "file_extension": ".py",
   "mimetype": "text/x-python",
   "name": "python",
   "nbconvert_exporter": "python",
   "pygments_lexer": "ipython3",
   "version": "3.9.16"
  }
 },
 "nbformat": 4,
 "nbformat_minor": 2
}

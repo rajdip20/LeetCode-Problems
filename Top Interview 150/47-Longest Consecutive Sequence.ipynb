{
 "cells": [
  {
   "cell_type": "markdown",
   "metadata": {},
   "source": [
    "Given an unsorted array of integers `nums`, return *the length of the longest consecutive elements sequence*.\n",
    "\n",
    "You must write an algorithm that runs in `O(n)` time.\n",
    "\n",
    "<br>\n",
    "\n",
    "**Example 1:**\n",
    ">**Input:** nums = [100,4,200,1,3,2]<br>\n",
    ">**Output:** 4<br>\n",
    ">**Explanation:** The longest consecutive elements sequence is [1, 2, 3, 4]. Therefore its length is 4.\n",
    "\n",
    "**Example 2:**\n",
    ">**Input:** nums = [0,3,7,2,5,8,4,6,0,1]<br>\n",
    ">**Output:** 9\n",
    "\n",
    "<br>\n",
    "\n",
    "**Constraints:**\n",
    "- >0 <= nums.length <= 10<sup>5</sup>\n",
    "- >-10<sup>9</sup> <= nums[i] <= 10<sup>9</sup>"
   ]
  },
  {
   "cell_type": "code",
   "execution_count": 1,
   "metadata": {},
   "outputs": [],
   "source": [
    "class Solution:\n",
    "    def longestConsecutive(self, nums: list[int]) -> int:\n",
    "        num_set = set(nums)\n",
    "        max_length = 0\n",
    "        \n",
    "        for num in nums:\n",
    "            if num - 1 not in num_set:\n",
    "                current_length = 1\n",
    "                next_num = num + 1\n",
    "                \n",
    "                while next_num in num_set:\n",
    "                    current_length += 1\n",
    "                    next_num += 1\n",
    "                \n",
    "                max_length = max(max_length, current_length)\n",
    "        \n",
    "        return max_length"
   ]
  }
 ],
 "metadata": {
  "kernelspec": {
   "display_name": "base",
   "language": "python",
   "name": "python3"
  },
  "language_info": {
   "codemirror_mode": {
    "name": "ipython",
    "version": 3
   },
   "file_extension": ".py",
   "mimetype": "text/x-python",
   "name": "python",
   "nbconvert_exporter": "python",
   "pygments_lexer": "ipython3",
   "version": "3.9.16"
  }
 },
 "nbformat": 4,
 "nbformat_minor": 2
}

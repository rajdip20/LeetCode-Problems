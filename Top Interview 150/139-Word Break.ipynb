{
 "cells": [
  {
   "cell_type": "markdown",
   "metadata": {},
   "source": [
    "Given a string `s` and a dictionary of strings `wordDict`, return `true` if `s` can be segmented into a space-separated sequence of one or more dictionary words.\n",
    "\n",
    "**Note** that the same word in the dictionary may be reused multiple times in the segmentation.\n",
    "\n",
    "<br>\n",
    "\n",
    "**Example 1:**\n",
    ">**Input:** s = \"leetcode\", wordDict = [\"leet\",\"code\"]<br>\n",
    ">**Output:** true<br>\n",
    ">**Explanation:** Return true because \"leetcode\" can be segmented as \"leet code\".\n",
    "\n",
    "**Example 2:**\n",
    ">**Input:** s = \"applepenapple\", wordDict = [\"apple\",\"pen\"]<br>\n",
    ">**Output:** true<br>\n",
    ">**Explanation:** Return true because \"applepenapple\" can be segmented as \"apple pen apple\".<br>\n",
    ">Note that you are allowed to reuse a dictionary word.\n",
    "\n",
    "**Example 3:**\n",
    ">**Input:** s = \"catsandog\", wordDict = [\"cats\",\"dog\",\"sand\",\"and\",\"cat\"]<br>\n",
    ">**Output:** false\n",
    "\n",
    "<br>\n",
    "\n",
    "**Constraints:**\n",
    "- >1 <= s.length <= 300\n",
    "- >1 <= wordDict.length <= 1000\n",
    "- >1 <= wordDict[i].length <= 20\n",
    "- >s and wordDict[i] consist of only lowercase English letters.\n",
    "- >All the strings of wordDict are **unique**."
   ]
  },
  {
   "cell_type": "code",
   "execution_count": 1,
   "metadata": {},
   "outputs": [],
   "source": [
    "class Solution:\n",
    "    def wordBreak(self, s: str, wordDict: list[str]) -> bool:\n",
    "        wordSet = set(wordDict)\n",
    "        n = len(s)\n",
    "        dp = [False] * (n + 1)\n",
    "        dp[0] = True\n",
    "\n",
    "        for i in range(1, n + 1):\n",
    "            for j in range(i):\n",
    "                if dp[j] and s[j:i] in wordSet:\n",
    "                    dp[i] = True\n",
    "                    break\n",
    "\n",
    "        return dp[n]"
   ]
  }
 ],
 "metadata": {
  "kernelspec": {
   "display_name": "base",
   "language": "python",
   "name": "python3"
  },
  "language_info": {
   "codemirror_mode": {
    "name": "ipython",
    "version": 3
   },
   "file_extension": ".py",
   "mimetype": "text/x-python",
   "name": "python",
   "nbconvert_exporter": "python",
   "pygments_lexer": "ipython3",
   "version": "3.9.16"
  }
 },
 "nbformat": 4,
 "nbformat_minor": 2
}

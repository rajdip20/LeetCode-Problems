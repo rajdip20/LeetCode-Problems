{
 "cells": [
  {
   "cell_type": "markdown",
   "metadata": {},
   "source": [
    "Given a `triangle` array, return *the minimum path sum from top to bottom*.\n",
    "\n",
    "For each step, you may move to an adjacent number of the row below. More formally, if you are on index `i` on the current row, you may move to either index `i` or index `i + 1` on the next row.\n",
    "\n",
    "<br>\n",
    "\n",
    "**Example 1:**\n",
    ">**Input:** triangle = [[2],[3,4],[6,5,7],[4,1,8,3]]<br>\n",
    ">**Output:** 11<br>\n",
    ">**Explanation:** The triangle looks like:<br>\n",
    ">&emsp;&emsp;&nbsp; 2<br>\n",
    ">&emsp;&ensp; 3 &ensp; 4<br>\n",
    ">&ensp; 6 &ensp; 5 &ensp; 7<br>\n",
    ">4 &ensp; 1 &ensp; 8 &ensp; 3<br>\n",
    ">The minimum path sum from top to bottom is 2 + 3 + 5 + 1 = 11 (underlined above).\n",
    "\n",
    "**Example 2:**\n",
    ">**Input:** triangle = [[-10]]<br>\n",
    ">**Output:** -10\n",
    "\n",
    "<br>\n",
    "\n",
    "**Constraints:**\n",
    "- >1 <= triangle.length <= 200\n",
    "- >triangle[0].length == 1\n",
    "- >triangle[i].length == triangle[i - 1].length + 1\n",
    "- >-10<sup>4</sup> <= triangle[i][j] <= 10<sup>4</sup>\n",
    "\n",
    "<br><br>\n",
    "\n",
    "**Follow up:** Could you do this using only `O(n)` extra space, where `n` is the total number of rows in the triangle?"
   ]
  },
  {
   "cell_type": "code",
   "execution_count": 1,
   "metadata": {},
   "outputs": [],
   "source": [
    "class Solution:\n",
    "    def minimumTotal(self, triangle: list[list[int]]) -> int:\n",
    "        for row in range(len(triangle) - 2, -1, -1):\n",
    "            for col in range(len(triangle[row])):\n",
    "                triangle[row][col] += min(triangle[row + 1][col], triangle[row + 1][col + 1])\n",
    "        \n",
    "        return triangle[0][0]"
   ]
  }
 ],
 "metadata": {
  "kernelspec": {
   "display_name": "base",
   "language": "python",
   "name": "python3"
  },
  "language_info": {
   "codemirror_mode": {
    "name": "ipython",
    "version": 3
   },
   "file_extension": ".py",
   "mimetype": "text/x-python",
   "name": "python",
   "nbconvert_exporter": "python",
   "pygments_lexer": "ipython3",
   "version": "3.9.16"
  }
 },
 "nbformat": 4,
 "nbformat_minor": 2
}

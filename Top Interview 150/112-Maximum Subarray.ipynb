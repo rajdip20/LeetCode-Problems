{
 "cells": [
  {
   "cell_type": "markdown",
   "metadata": {},
   "source": [
    "Given an integer array `nums`, find the subarray with the largest sum, and return *its sum*.\n",
    "\n",
    "<br>\n",
    "\n",
    "**Example 1:**\n",
    ">**Input:** nums = [-2,1,-3,4,-1,2,1,-5,4]<br>\n",
    ">**Output:** 6<br>\n",
    ">**Explanation:** The subarray [4,-1,2,1] has the largest sum 6.\n",
    "\n",
    "**Example 2:**\n",
    ">**Input:** nums = [1]<br>\n",
    ">**Output:** 1<br>\n",
    ">**Explanation:** The subarray [1] has the largest sum 1.\n",
    "\n",
    "**Example 3:**\n",
    ">**Input:** nums = [5,4,-1,7,8]<br>\n",
    ">**Output:** 23<br>\n",
    ">**Explanation:** The subarray [5,4,-1,7,8] has the largest sum 23.\n",
    "\n",
    "<br>\n",
    "\n",
    "**Constraints:**\n",
    "- >1 <= nums.length <= 10<sup>5</sup>\n",
    "- >-10<sup>4</sup> <= nums[i] <= 10<sup>4</sup>\n",
    "\n",
    "<br><br>\n",
    "\n",
    "**Follow up:** If you have figured out the `O(n)` solution, try coding another solution using the **divide and conquer** approach, which is more subtle."
   ]
  },
  {
   "cell_type": "code",
   "execution_count": 1,
   "metadata": {},
   "outputs": [],
   "source": [
    "class Solution:\n",
    "    def maxSubArray(self, nums: list[int]) -> int:\n",
    "        max_current = nums[0]\n",
    "        max_global = nums[0]\n",
    "        \n",
    "        for i in range(1, len(nums)):\n",
    "            max_current = max(nums[i], max_current + nums[i])\n",
    "            if max_current > max_global:\n",
    "                max_global = max_current\n",
    "        \n",
    "        return max_global"
   ]
  }
 ],
 "metadata": {
  "kernelspec": {
   "display_name": "base",
   "language": "python",
   "name": "python3"
  },
  "language_info": {
   "codemirror_mode": {
    "name": "ipython",
    "version": 3
   },
   "file_extension": ".py",
   "mimetype": "text/x-python",
   "name": "python",
   "nbconvert_exporter": "python",
   "pygments_lexer": "ipython3",
   "version": "3.9.16"
  }
 },
 "nbformat": 4,
 "nbformat_minor": 2
}

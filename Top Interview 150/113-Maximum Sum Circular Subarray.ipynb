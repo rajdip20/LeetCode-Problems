{
 "cells": [
  {
   "cell_type": "markdown",
   "metadata": {},
   "source": [
    "Given a **circular integer array** `nums` of length `n`, return *the maximum possible sum of a non-empty ***subarray*** of* `nums`.\n",
    "\n",
    "A **circular array** means the end of the array connects to the beginning of the array. Formally, the next element of `nums[i]` is `nums[(i + 1) % n]` and the previous element of `nums[i]` is `nums[(i - 1 + n) % n]`.\n",
    "\n",
    "A **subarray** may only include each element of the fixed buffer `nums` at most once. Formally, for a subarray `nums[i], nums[i + 1], ..., nums[j]`, there does not exist `i <= k1`, `k2 <= j` with `k1 % n == k2 % n`.\n",
    "\n",
    "<br>\n",
    "\n",
    "**Example 1:**\n",
    ">**Input:** nums = [1,-2,3,-2]<br>\n",
    ">**Output:** 3<br>\n",
    ">**Explanation:** Subarray [3] has maximum sum 3.\n",
    "\n",
    "**Example 2:**\n",
    ">**Input:** nums = [5,-3,5]<br>\n",
    ">**Output:** 10<br>\n",
    ">**Explanation:** Subarray [5,5] has maximum sum 5 + 5 = 10.\n",
    "\n",
    "**Example 3:**\n",
    ">**Input:** nums = [-3,-2,-3]<br>\n",
    ">**Output:** -2<br>\n",
    ">**Explanation:** Subarray [-2] has maximum sum -2.\n",
    "\n",
    "<br>\n",
    "\n",
    "**Constraints:**\n",
    "- >n == nums.length\n",
    "- >1 <= n <= 3 * 10<sup>4</sup>\n",
    "- >-3 * 10<sup>4</sup> <= nums[i] <= 3 * 10<sup>4</sup>"
   ]
  },
  {
   "cell_type": "code",
   "execution_count": 1,
   "metadata": {},
   "outputs": [],
   "source": [
    "class Solution:\n",
    "    def maxSubarraySumCircular(self, nums: list[int]) -> int:\n",
    "        total_sum = sum(nums)\n",
    "    \n",
    "        def kadane(arr):\n",
    "            current_sum = max_sum = arr[0]\n",
    "            for num in arr[1:]:\n",
    "                current_sum = max(num, current_sum + num)\n",
    "                max_sum = max(max_sum, current_sum)\n",
    "            return max_sum\n",
    "\n",
    "        max_normal = kadane(nums)\n",
    "        if max_normal < 0:\n",
    "            return max_normal\n",
    "        \n",
    "        def kadane_min(arr):\n",
    "            current_sum = min_sum = arr[0]\n",
    "            for num in arr[1:]:\n",
    "                current_sum = min(num, current_sum + num)\n",
    "                min_sum = min(min_sum, current_sum)\n",
    "            return min_sum\n",
    "        \n",
    "        min_subarray_sum = kadane_min(nums)\n",
    "        max_circular = total_sum - min_subarray_sum\n",
    "        \n",
    "        return max(max_normal, max_circular)"
   ]
  }
 ],
 "metadata": {
  "kernelspec": {
   "display_name": "base",
   "language": "python",
   "name": "python3"
  },
  "language_info": {
   "codemirror_mode": {
    "name": "ipython",
    "version": 3
   },
   "file_extension": ".py",
   "mimetype": "text/x-python",
   "name": "python",
   "nbconvert_exporter": "python",
   "pygments_lexer": "ipython3",
   "version": "3.9.16"
  }
 },
 "nbformat": 4,
 "nbformat_minor": 2
}

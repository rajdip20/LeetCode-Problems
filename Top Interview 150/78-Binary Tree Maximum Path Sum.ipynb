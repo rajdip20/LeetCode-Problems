{
 "cells": [
  {
   "cell_type": "markdown",
   "metadata": {},
   "source": [
    "A **path** in a binary tree is a sequence of nodes where each pair of adjacent nodes in the sequence has an edge connecting them. A node can only appear in the sequence **at most once**. Note that the path does not need to pass through the root.\n",
    "\n",
    "The **path sum** of a path is the sum of the node's values in the path.\n",
    "\n",
    "Given the `root` of a binary tree, return *the maximum ***path sum*** of any ***non-empty*** path*.\n",
    "\n",
    "<br>\n",
    "\n",
    "**Example 1:**\n",
    "\n",
    "![exx1](../images/exx1.jpg)\n",
    "\n",
    ">**Input:** root = [1,2,3]<br>\n",
    ">**Output:** 6<br>\n",
    ">**Explanation:** The optimal path is 2 -> 1 -> 3 with a path sum of 2 + 1 + 3 = 6.\n",
    "\n",
    "**Example 2:**\n",
    "\n",
    "![exx2](../images/exx2.jpg)\n",
    "\n",
    ">**Input:** root = [-10,9,20,null,null,15,7]<br>\n",
    ">**Output:** 42<br>\n",
    ">**Explanation:** The optimal path is 15 -> 20 -> 7 with a path sum of 15 + 20 + 7 = 42.\n",
    "\n",
    "<br>\n",
    "\n",
    "**Constraints:**\n",
    "- >The number of nodes in the tree is in the range [1, 3 * 10<sup>4</sup>].\n",
    "- >-1000 <= Node.val <= 1000"
   ]
  },
  {
   "cell_type": "code",
   "execution_count": 1,
   "metadata": {},
   "outputs": [],
   "source": [
    "# Definition for a binary tree node.\n",
    "# class TreeNode:\n",
    "#     def __init__(self, val=0, left=None, right=None):\n",
    "#         self.val = val\n",
    "#         self.left = left\n",
    "#         self.right = right\n",
    "class Solution:\n",
    "    def maxPathSum(self, root) -> int:\n",
    "        def dfs(node):\n",
    "            nonlocal max_sum\n",
    "            if not node:\n",
    "                return 0\n",
    "            \n",
    "            left_sum = max(dfs(node.left), 0)\n",
    "            right_sum = max(dfs(node.right), 0)\n",
    "            max_sum = max(max_sum, left_sum + right_sum + node.val)\n",
    "\n",
    "            return max(left_sum, right_sum) + node.val\n",
    "\n",
    "        max_sum = float('-inf')\n",
    "        dfs(root)\n",
    "\n",
    "        return max_sum"
   ]
  }
 ],
 "metadata": {
  "kernelspec": {
   "display_name": "base",
   "language": "python",
   "name": "python3"
  },
  "language_info": {
   "codemirror_mode": {
    "name": "ipython",
    "version": 3
   },
   "file_extension": ".py",
   "mimetype": "text/x-python",
   "name": "python",
   "nbconvert_exporter": "python",
   "pygments_lexer": "ipython3",
   "version": "3.9.16"
  }
 },
 "nbformat": 4,
 "nbformat_minor": 2
}

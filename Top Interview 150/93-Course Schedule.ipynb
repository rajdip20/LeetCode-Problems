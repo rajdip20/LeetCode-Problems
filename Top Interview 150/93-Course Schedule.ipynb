{
 "cells": [
  {
   "cell_type": "markdown",
   "metadata": {},
   "source": [
    "There are a total of `numCourses` courses you have to take, labeled from `0` to `numCourses - 1`. You are given an array `prerequisites` where **prerequisites[i] = [a<sub>i</sub>, b<sub>i</sub>]** indicates that you must take course **b<sub>i</sub>** first if you want to take course **a<sub>i</sub>**.\n",
    "- For example, the pair `[0, 1]`, indicates that to take course `0` you have to first take course `1`.\n",
    "\n",
    "Return `true` if you can finish all courses. Otherwise, return `false`.\n",
    "\n",
    "<br>\n",
    "\n",
    "**Example 1:**\n",
    ">**Input:** numCourses = 2, prerequisites = [[1,0]]<br>\n",
    ">**Output:** true<br>\n",
    ">**Explanation:** There are a total of 2 courses to take. <br>\n",
    ">To take course 1 you should have finished course 0. So it is possible.\n",
    "\n",
    "**Example 2:**\n",
    ">**Input:** numCourses = 2, prerequisites = [[1,0],[0,1]]<br>\n",
    ">**Output:** false<br>\n",
    ">**Explanation:** There are a total of 2 courses to take. <br>\n",
    ">To take course 1 you should have finished course 0, and to take course 0 you should also have finished course 1. So it is impossible.\n",
    "\n",
    "<br>\n",
    "\n",
    "**Constraints:**\n",
    "- >1 <= numCourses <= 2000\n",
    "- >0 <= prerequisites.length <= 5000\n",
    "- >prerequisites[i].length == 2\n",
    "- >0 <= a<sup>i</sup>, b<sup>i</sup> < numCourses\n",
    "- >All the pairs prerequisites[i] are **unique**."
   ]
  },
  {
   "cell_type": "code",
   "execution_count": 1,
   "metadata": {},
   "outputs": [],
   "source": [
    "class Solution:\n",
    "    def canFinish(self, numCourses: int, prerequisites: list[list[int]]) -> bool:\n",
    "        from collections import defaultdict, deque\n",
    "\n",
    "        graph = defaultdict(list)\n",
    "        in_degree = [0] * numCourses\n",
    "        \n",
    "        for ai, bi in prerequisites:\n",
    "            graph[bi].append(ai)\n",
    "            in_degree[ai] += 1\n",
    "        \n",
    "        queue = deque()\n",
    "        for i in range(numCourses):\n",
    "            if in_degree[i] == 0:\n",
    "                queue.append(i)\n",
    "        \n",
    "        completed_courses = 0\n",
    "        \n",
    "        while queue:\n",
    "            course = queue.popleft()\n",
    "            completed_courses += 1\n",
    "            for neighbor in graph[course]:\n",
    "                in_degree[neighbor] -= 1\n",
    "                if in_degree[neighbor] == 0:\n",
    "                    queue.append(neighbor)\n",
    "        \n",
    "        return completed_courses == numCourses"
   ]
  }
 ],
 "metadata": {
  "kernelspec": {
   "display_name": "base",
   "language": "python",
   "name": "python3"
  },
  "language_info": {
   "codemirror_mode": {
    "name": "ipython",
    "version": 3
   },
   "file_extension": ".py",
   "mimetype": "text/x-python",
   "name": "python",
   "nbconvert_exporter": "python",
   "pygments_lexer": "ipython3",
   "version": "3.9.16"
  }
 },
 "nbformat": 4,
 "nbformat_minor": 2
}

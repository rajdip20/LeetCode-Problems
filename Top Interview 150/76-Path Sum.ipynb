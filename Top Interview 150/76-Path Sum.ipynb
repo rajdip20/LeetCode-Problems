{
 "cells": [
  {
   "cell_type": "markdown",
   "metadata": {},
   "source": [
    "Given the `root` of a binary tree and an integer `targetSum`, return `true` if the tree has a **root-to-leaf** path such that adding up all the values along the path equals `targetSum`.\n",
    "\n",
    "A **leaf** is a node with no children.\n",
    "\n",
    "<br>\n",
    "\n",
    "**Example 1:**\n",
    "\n",
    "![pathsum1](../images/pathsum1.jpg)\n",
    "\n",
    ">**Input:** root = [5,4,8,11,null,13,4,7,2,null,null,null,1], targetSum = 22<br>\n",
    ">**Output:** true<br>\n",
    ">**Explanation:** The root-to-leaf path with the target sum is shown.\n",
    "\n",
    "**Example 2:**\n",
    "\n",
    "![pathsum2](../images/pathsum2.jpg)\n",
    "\n",
    ">**Input:** root = [1,2,3], targetSum = 5<br>\n",
    ">**Output:** false<br>\n",
    ">**Explanation:** There two root-to-leaf paths in the tree:<br>\n",
    ">(1 --> 2): The sum is 3.<br>\n",
    ">(1 --> 3): The sum is 4.<br>\n",
    ">There is no root-to-leaf path with sum = 5.\n",
    "\n",
    "**Example 3:**\n",
    ">**Input:** root = [], targetSum = 0<br>\n",
    ">**Output:** false<br>\n",
    ">**Explanation:** Since the tree is empty, there are no root-to-leaf paths.\n",
    "\n",
    "<br>\n",
    "\n",
    "**Constraints:**\n",
    "- >The number of nodes in the tree is in the range [0, 5000].\n",
    "- >-1000 <= Node.val <= 1000\n",
    "- >-1000 <= targetSum <= 1000"
   ]
  },
  {
   "cell_type": "code",
   "execution_count": 1,
   "metadata": {},
   "outputs": [],
   "source": [
    "# Definition for a binary tree node.\n",
    "# class TreeNode:\n",
    "#     def __init__(self, val=0, left=None, right=None):\n",
    "#         self.val = val\n",
    "#         self.left = left\n",
    "#         self.right = right\n",
    "class Solution:\n",
    "    def hasPathSum(self, root, targetSum: int) -> bool:\n",
    "        if not root:\n",
    "            return False\n",
    "        \n",
    "        if not root.left and not root.right:\n",
    "            return root.val == targetSum\n",
    "        \n",
    "        return self.hasPathSum(root.left, targetSum - root.val) or self.hasPathSum(root.right, targetSum - root.val)"
   ]
  }
 ],
 "metadata": {
  "kernelspec": {
   "display_name": "base",
   "language": "python",
   "name": "python3"
  },
  "language_info": {
   "codemirror_mode": {
    "name": "ipython",
    "version": 3
   },
   "file_extension": ".py",
   "mimetype": "text/x-python",
   "name": "python",
   "nbconvert_exporter": "python",
   "pygments_lexer": "ipython3",
   "version": "3.9.16"
  }
 },
 "nbformat": 4,
 "nbformat_minor": 2
}

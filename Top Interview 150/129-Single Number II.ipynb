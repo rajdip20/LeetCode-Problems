{
 "cells": [
  {
   "cell_type": "markdown",
   "metadata": {},
   "source": [
    "Given an integer array `nums` where every element appears **three times** except for one, which appears **exactly once**. *Find the single element and return it*.\n",
    "\n",
    "You must implement a solution with a linear runtime complexity and use only constant extra space.\n",
    "\n",
    "<br>\n",
    "\n",
    "**Example 1:**\n",
    ">**Input:** nums = [2,2,3,2]<br>\n",
    ">**Output:** 3\n",
    "\n",
    "**Example 2:**\n",
    ">**Input:** nums = [0,1,0,1,0,1,99]<br>\n",
    ">**Output:** 99\n",
    "\n",
    "<br>\n",
    "\n",
    "**Constraints:**\n",
    "- >1 <= nums.length <= 3 * 10<sup>4</sup>\n",
    "- >-2<sup>31</sup> <= nums[i] <= 2<sup>31</sup> - 1\n",
    "- >Each element in nums appears exactly **three times** except for one element which appears **once**."
   ]
  },
  {
   "cell_type": "code",
   "execution_count": 1,
   "metadata": {},
   "outputs": [],
   "source": [
    "class Solution:\n",
    "    def singleNumber(self, nums: list[int]) -> int:\n",
    "        ones, twos = 0, 0\n",
    "    \n",
    "        for num in nums:\n",
    "            twos |= ones & num\n",
    "            ones ^= num\n",
    "            threes = ones & twos\n",
    "            ones &= ~threes\n",
    "            twos &= ~threes\n",
    "        \n",
    "        return ones"
   ]
  }
 ],
 "metadata": {
  "kernelspec": {
   "display_name": "base",
   "language": "python",
   "name": "python3"
  },
  "language_info": {
   "codemirror_mode": {
    "name": "ipython",
    "version": 3
   },
   "file_extension": ".py",
   "mimetype": "text/x-python",
   "name": "python",
   "nbconvert_exporter": "python",
   "pygments_lexer": "ipython3",
   "version": "3.9.16"
  }
 },
 "nbformat": 4,
 "nbformat_minor": 2
}

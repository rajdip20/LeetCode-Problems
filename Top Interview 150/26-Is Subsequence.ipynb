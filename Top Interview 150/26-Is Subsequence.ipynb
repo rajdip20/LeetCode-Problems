{
 "cells": [
  {
   "cell_type": "markdown",
   "metadata": {},
   "source": [
    "Given two strings `s` and `t`, return `true` *if* `s` *is a ***subsequence*** of* `t`, *or* `false` *otherwise*.\n",
    "\n",
    "A **subsequence** of a string is a new string that is formed from the original string by deleting some (can be none) of the characters without disturbing the relative positions of the remaining characters. (i.e., `\"ace\"` is a subsequence of `\"abcde\"` while `\"aec\"` is not).\n",
    "\n",
    "<br>\n",
    "\n",
    "**Example 1:**\n",
    ">**Input:** s = \"abc\", t = \"ahbgdc\"<br>\n",
    ">**Output:** true\n",
    "\n",
    "**Example 2:**\n",
    ">**Input:** s = \"axc\", t = \"ahbgdc\"<br>\n",
    ">**Output:** false\n",
    " \n",
    "<br>\n",
    "\n",
    "**Constraints:**\n",
    "- >0 <= s.length <= 100\n",
    "- >0 <= t.length <= 10<sup>4</sup>\n",
    "- >s and t consist only of lowercase English letters.\n",
    " \n",
    "<br><br>\n",
    "\n",
    "**Follow up:** Suppose there are lots of incoming `s`, say **s<sub>1</sub>, s<sub>2</sub>, ..., s<sub>k</sub>** where **k >= 10<sup>9</sup>**, and you want to check one by one to see if `t` has its subsequence. In this scenario, how would you change your code?"
   ]
  },
  {
   "cell_type": "code",
   "execution_count": 1,
   "metadata": {},
   "outputs": [],
   "source": [
    "class Solution:\n",
    "    def isSubsequence(self, s: str, t: str) -> bool:\n",
    "        s_pointer = 0\n",
    "        t_pointer = 0\n",
    "        \n",
    "        while s_pointer < len(s) and t_pointer < len(t):\n",
    "            if s[s_pointer] == t[t_pointer]:\n",
    "                s_pointer += 1\n",
    "            \n",
    "            t_pointer += 1\n",
    "        \n",
    "        return s_pointer == len(s)"
   ]
  }
 ],
 "metadata": {
  "kernelspec": {
   "display_name": "base",
   "language": "python",
   "name": "python3"
  },
  "language_info": {
   "codemirror_mode": {
    "name": "ipython",
    "version": 3
   },
   "file_extension": ".py",
   "mimetype": "text/x-python",
   "name": "python",
   "nbconvert_exporter": "python",
   "pygments_lexer": "ipython3",
   "version": "3.9.16"
  }
 },
 "nbformat": 4,
 "nbformat_minor": 2
}

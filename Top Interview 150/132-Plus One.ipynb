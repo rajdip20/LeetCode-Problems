{
 "cells": [
  {
   "cell_type": "markdown",
   "metadata": {},
   "source": [
    "You are given a **large integer** represented as an integer array `digits`, where each `digits[i]` is the **i<sup>th</sup>** digit of the integer. The digits are ordered from most significant to least significant in left-to-right order. The large integer does not contain any leading `0`'s.\n",
    "\n",
    "Increment the large integer by one and return *the resulting array of digits*.\n",
    "\n",
    "<br>\n",
    "\n",
    "**Example 1:**\n",
    ">**Input:** digits = [1,2,3]<br>\n",
    ">**Output:** [1,2,4]<br>\n",
    ">**Explanation:** The array represents the integer 123.<br>\n",
    ">Incrementing by one gives 123 + 1 = 124.<br>\n",
    ">Thus, the result should be [1,2,4].\n",
    "\n",
    "**Example 2:**\n",
    ">**Input:** digits = [4,3,2,1]<br>\n",
    ">**Output:** [4,3,2,2]<br>\n",
    ">**Explanation:** The array represents the integer 4321.<br>\n",
    ">Incrementing by one gives 4321 + 1 = 4322.<br>\n",
    ">Thus, the result should be [4,3,2,2].\n",
    "\n",
    "**Example 3:**\n",
    ">**Input:** digits = [9]<br>\n",
    ">**Output:** [1,0]<br>\n",
    ">**Explanation:** The array represents the integer 9.<br>\n",
    ">Incrementing by one gives 9 + 1 = 10.<br>\n",
    ">Thus, the result should be [1,0].\n",
    "\n",
    "<br>\n",
    "\n",
    "**Constraints:**\n",
    "- >1 <= digits.length <= 100\n",
    "- >0 <= digits[i] <= 9\n",
    "- >digits does not contain any leading 0's."
   ]
  },
  {
   "cell_type": "code",
   "execution_count": 1,
   "metadata": {},
   "outputs": [],
   "source": [
    "class Solution:\n",
    "    def plusOne(self, digits: list[int]) -> list[int]:\n",
    "        carry = 1\n",
    "        n = len(digits)\n",
    "        \n",
    "        for i in range(n - 1, -1, -1):\n",
    "            new_value = digits[i] + carry\n",
    "            if new_value == 10:\n",
    "                digits[i] = 0\n",
    "                carry = 1\n",
    "            else:\n",
    "                digits[i] = new_value\n",
    "                carry = 0\n",
    "                break\n",
    "        \n",
    "        if carry == 1:\n",
    "            digits.insert(0, 1)\n",
    "        \n",
    "        return digits"
   ]
  }
 ],
 "metadata": {
  "kernelspec": {
   "display_name": "base",
   "language": "python",
   "name": "python3"
  },
  "language_info": {
   "codemirror_mode": {
    "name": "ipython",
    "version": 3
   },
   "file_extension": ".py",
   "mimetype": "text/x-python",
   "name": "python",
   "nbconvert_exporter": "python",
   "pygments_lexer": "ipython3",
   "version": "3.9.16"
  }
 },
 "nbformat": 4,
 "nbformat_minor": 2
}

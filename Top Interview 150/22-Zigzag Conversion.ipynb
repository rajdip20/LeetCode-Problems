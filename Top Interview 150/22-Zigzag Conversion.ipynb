{
 "cells": [
  {
   "cell_type": "markdown",
   "metadata": {},
   "source": [
    "The string `\"PAYPALISHIRING\"` is written in a zigzag pattern on a given number of rows like this: (you may want to display this pattern in a fixed font for better legibility)\n",
    "\n",
    ">P&emsp;A&emsp;H&emsp;N<br>\n",
    ">A&nbsp;P&nbsp;L&nbsp;S&ensp;I&ensp;I&ensp;G<br>\n",
    ">Y&emsp;&nbsp;I&emsp;&nbsp;R<br>\n",
    "\n",
    "And then read line by line: `\"PAHNAPLSIIGYIR\"`\n",
    "\n",
    "Write the code that will take a string and make this conversion given a number of rows:\n",
    ">string convert(string s, int numRows);\n",
    " \n",
    "<br>\n",
    "\n",
    "**Example 1:**\n",
    ">**Input:** s = \"PAYPALISHIRING\", numRows = 3<br>\n",
    ">**Output:** \"PAHNAPLSIIGYIR\"\n",
    "\n",
    "\n",
    "**Example 2:**\n",
    ">**Input:** s = \"PAYPALISHIRING\", numRows = 4<br>\n",
    ">**Output:** \"PINALSIGYAHRPI\"<br>\n",
    ">**Explanation:**<br>\n",
    ">P&emsp;&emsp;I&emsp;&emsp;N<br>\n",
    ">A&emsp;L&nbsp;S&emsp;&nbsp;I&nbsp;G<br>\n",
    ">Y&nbsp;A&ensp;&nbsp;H&nbsp;R<br>\n",
    ">P&emsp;&emsp;I<br>\n",
    "\n",
    "\n",
    "**Example 3:**\n",
    ">**Input:** s = \"A\", numRows = 1<br>\n",
    ">**Output:** \"A\"\n",
    " \n",
    "<br>\n",
    "\n",
    "**Constraints:**\n",
    "- >1 <= s.length <= 1000\n",
    "- >s consists of English letters (lower-case and upper-case), `','` and `'.'`.\n",
    "- >1 <= numRows <= 1000"
   ]
  },
  {
   "cell_type": "code",
   "execution_count": 1,
   "metadata": {},
   "outputs": [],
   "source": [
    "class Solution:\n",
    "    def convert(self, s: str, numRows: int) -> str:\n",
    "        if numRows == 1 or numRows >= len(s):\n",
    "            return s\n",
    "        \n",
    "        rows = [''] * numRows\n",
    "        index, step = 0, 1\n",
    "        \n",
    "        for char in s:\n",
    "            rows[index] += char\n",
    "            \n",
    "            if index == 0:\n",
    "                step = 1\n",
    "            elif index == numRows - 1:\n",
    "                step = -1\n",
    "            \n",
    "            index += step\n",
    "        \n",
    "        return ''.join(rows)"
   ]
  }
 ],
 "metadata": {
  "kernelspec": {
   "display_name": "base",
   "language": "python",
   "name": "python3"
  },
  "language_info": {
   "codemirror_mode": {
    "name": "ipython",
    "version": 3
   },
   "file_extension": ".py",
   "mimetype": "text/x-python",
   "name": "python",
   "nbconvert_exporter": "python",
   "pygments_lexer": "ipython3",
   "version": "3.9.16"
  }
 },
 "nbformat": 4,
 "nbformat_minor": 2
}

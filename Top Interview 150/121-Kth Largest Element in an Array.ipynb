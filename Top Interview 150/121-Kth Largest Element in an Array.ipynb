{
 "cells": [
  {
   "cell_type": "markdown",
   "metadata": {},
   "source": [
    "Given an integer array `nums` and an integer `k`, return *the* **k<sup>th</sup>** *largest element in the array*.\n",
    "\n",
    "Note that it is the **k<sup>th</sup>** largest element in the sorted order, not the **k<sup>th</sup>** distinct element.\n",
    "\n",
    "Can you solve it without sorting?\n",
    "\n",
    "<br>\n",
    "\n",
    "**Example 1:**\n",
    ">**Input:** nums = [3,2,1,5,6,4], k = 2<br>\n",
    ">**Output:** 5\n",
    "\n",
    "**Example 2:**\n",
    ">**Input:** nums = [3,2,3,1,2,4,5,5,6], k = 4<br>\n",
    ">**Output:** 4\n",
    "\n",
    "<br>\n",
    "\n",
    "**Constraints:**\n",
    "- >1 <= k <= nums.length <= 10<sup>5</sup>\n",
    "- >-10<sup>4</sup> <= nums[i] <= 10<sup>4</sup>"
   ]
  },
  {
   "cell_type": "code",
   "execution_count": 1,
   "metadata": {},
   "outputs": [],
   "source": [
    "class Solution:\n",
    "    def findKthLargest(self, nums: list[int], k: int) -> int:\n",
    "        import heapq\n",
    "\n",
    "        min_heap = nums[:k]\n",
    "        heapq.heapify(min_heap)\n",
    "        \n",
    "        for num in nums[k:]:\n",
    "            if num > min_heap[0]:\n",
    "                heapq.heappop(min_heap)\n",
    "                heapq.heappush(min_heap, num)\n",
    "        \n",
    "        return min_heap[0]"
   ]
  }
 ],
 "metadata": {
  "kernelspec": {
   "display_name": "base",
   "language": "python",
   "name": "python3"
  },
  "language_info": {
   "codemirror_mode": {
    "name": "ipython",
    "version": 3
   },
   "file_extension": ".py",
   "mimetype": "text/x-python",
   "name": "python",
   "nbconvert_exporter": "python",
   "pygments_lexer": "ipython3",
   "version": "3.9.16"
  }
 },
 "nbformat": 4,
 "nbformat_minor": 2
}

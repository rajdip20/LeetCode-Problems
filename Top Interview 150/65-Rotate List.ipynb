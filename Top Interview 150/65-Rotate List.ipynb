{
 "cells": [
  {
   "cell_type": "markdown",
   "metadata": {},
   "source": [
    "Given the `head` of a linked list, rotate the list to the right by `k` places.\n",
    "\n",
    "<br>\n",
    "\n",
    "**Example 1:**\n",
    "\n",
    "![rotate1](../images/rotate1.jpg)\n",
    "\n",
    ">**Input:** head = [1,2,3,4,5], k = 2<br>\n",
    ">**Output:** [4,5,1,2,3]\n",
    "\n",
    "**Example 2:**\n",
    "\n",
    "![rotate2](../images/roate2.jpg)\n",
    "\n",
    ">**Input:** head = [0,1,2], k = 4<br>\n",
    ">**Output:** [2,0,1]\n",
    "\n",
    "<br>\n",
    "\n",
    "**Constraints:**\n",
    "- >The number of nodes in the list is in the range [0, 500].\n",
    "- >-100 <= Node.val <= 100\n",
    "- >0 <= k <= 2 * 10<sup>9</sup>"
   ]
  },
  {
   "cell_type": "code",
   "execution_count": 1,
   "metadata": {},
   "outputs": [],
   "source": [
    "# Definition for singly-linked list.\n",
    "# class ListNode:\n",
    "#     def __init__(self, val=0, next=None):\n",
    "#         self.val = val\n",
    "#         self.next = next\n",
    "class Solution:\n",
    "    def rotateRight(self, head, k: int):\n",
    "        if not head or k == 0:\n",
    "            return head\n",
    "        \n",
    "        length = 1\n",
    "        current = head\n",
    "        while current.next:\n",
    "            current = current.next\n",
    "            length += 1\n",
    "        \n",
    "        if k % length == 0:\n",
    "            return head\n",
    "        \n",
    "        new_head_position = length - (k % length)\n",
    "        prev = None\n",
    "        current = head\n",
    "\n",
    "        for _ in range(new_head_position):\n",
    "            prev = current\n",
    "            current = current.next\n",
    "        \n",
    "        prev.next = None\n",
    "        last_node = current\n",
    "\n",
    "        while last_node.next:\n",
    "            last_node = last_node.next\n",
    "        \n",
    "        last_node.next = head\n",
    "        new_head = current\n",
    "        \n",
    "        return new_head"
   ]
  }
 ],
 "metadata": {
  "kernelspec": {
   "display_name": "base",
   "language": "python",
   "name": "python3"
  },
  "language_info": {
   "codemirror_mode": {
    "name": "ipython",
    "version": 3
   },
   "file_extension": ".py",
   "mimetype": "text/x-python",
   "name": "python",
   "nbconvert_exporter": "python",
   "pygments_lexer": "ipython3",
   "version": "3.9.16"
  }
 },
 "nbformat": 4,
 "nbformat_minor": 2
}

{
 "cells": [
  {
   "cell_type": "markdown",
   "metadata": {},
   "source": [
    "Write an algorithm to determine if a number `n` is happy.\n",
    "\n",
    "A **happy number** is a number defined by the following process:\n",
    "- Starting with any positive integer, replace the number by the sum of the squares of its digits.\n",
    "- Repeat the process until the number equals 1 (where it will stay), or it **loops endlessly in a cycle** which does not include 1.\n",
    "- Those numbers for which this process **ends in 1** are happy.\n",
    "\n",
    "Return `true` *if* `n` *is a happy number, and* `false` *if not*.\n",
    "\n",
    "<br>\n",
    "\n",
    "**Example 1:**\n",
    ">**Input:** n = 19<br>\n",
    ">**Output:** true<br>\n",
    ">**Explanation:**<br>\n",
    ">1<sup>2</sup> + 9<sup>2</sup> = 82<br>\n",
    ">8<sup>2</sup> + 2<sup>2</sup> = 68<br>\n",
    ">6<sup>2</sup> + 8<sup>2</sup> = 100<br>\n",
    ">1<sup>2</sup> + 0<sup>2</sup> + 0<sup>2</sup> = 1\n",
    "\n",
    "**Example 2:**\n",
    ">**Input:** n = 2<br>\n",
    ">**Output:** false\n",
    " \n",
    "<br>\n",
    "\n",
    "**Constraints:**\n",
    "- >1 <= n <= 2<sup>31</sup> - 1"
   ]
  },
  {
   "cell_type": "code",
   "execution_count": 1,
   "metadata": {},
   "outputs": [],
   "source": [
    "class Solution:\n",
    "    def isHappy(self, n: int) -> bool:\n",
    "        def get_next(num):\n",
    "            next_num = 0\n",
    "            \n",
    "            while num > 0:\n",
    "                num, digit = divmod(num, 10)\n",
    "                next_num += digit ** 2\n",
    "            \n",
    "            return next_num\n",
    "        \n",
    "        slow = n\n",
    "        fast = get_next(n)\n",
    "        \n",
    "        while fast != 1 and slow != fast:\n",
    "            slow = get_next(slow)\n",
    "            fast = get_next(get_next(fast))\n",
    "        \n",
    "        return fast == 1"
   ]
  }
 ],
 "metadata": {
  "kernelspec": {
   "display_name": "base",
   "language": "python",
   "name": "python3"
  },
  "language_info": {
   "codemirror_mode": {
    "name": "ipython",
    "version": 3
   },
   "file_extension": ".py",
   "mimetype": "text/x-python",
   "name": "python",
   "nbconvert_exporter": "python",
   "pygments_lexer": "ipython3",
   "version": "3.9.16"
  }
 },
 "nbformat": 4,
 "nbformat_minor": 2
}

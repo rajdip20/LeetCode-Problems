{
 "cells": [
  {
   "cell_type": "markdown",
   "metadata": {},
   "source": [
    "There are some spherical balloons taped onto a flat wall that represents the XY-plane. The balloons are represented as a 2D integer array `points` where **points[i] = [x<sub>start</sub>, x<sub>end</sub>]** denotes a balloon whose **horizontal diameter** stretches between **x<sub>start</sub>** and **x<sub>end</sub>**. You do not know the exact y-coordinates of the balloons.\n",
    "\n",
    "Arrows can be shot up **directly vertically** (in the positive y-direction) from different points along the x-axis. A balloon with **x<sub>start</sub>** and **x<sub>end</sub>** is **burst** by an arrow shot at `x` if **x<sub>start</sub> <= x <= x<sub>end</sub>**. There is no limit to the number of arrows that can be shot. A shot arrow keeps traveling up infinitely, bursting any balloons in its path.\n",
    "\n",
    "Given the array `points`, return *the ***minimum*** number of arrows that must be shot to burst all balloons*.\n",
    "\n",
    "<br>\n",
    "\n",
    "**Example 1:**\n",
    ">**Input:** points = [[10,16],[2,8],[1,6],[7,12]]<br>\n",
    ">**Output:** 2<br>\n",
    ">**Explanation:** The balloons can be burst by 2 arrows:<br>\n",
    ">\\- Shoot an arrow at x = 6, bursting the balloons [2,8] and [1,6].<br>\n",
    ">\\- Shoot an arrow at x = 11, bursting the balloons [10,16] and [7,12].\n",
    "\n",
    "**Example 2:**\n",
    ">**Input:** points = [[1,2],[3,4],[5,6],[7,8]]<br>\n",
    ">**Output:** 4<br>\n",
    ">**Explanation:** One arrow needs to be shot for each balloon for a total of 4 arrows.\n",
    "\n",
    "**Example 3:**\n",
    ">**Input:** points = [[1,2],[2,3],[3,4],[4,5]]<br>\n",
    ">**Output:** 2<br>\n",
    ">**Explanation:** The balloons can be burst by 2 arrows:<br>\n",
    ">\\- Shoot an arrow at x = 2, bursting the balloons [1,2] and [2,3].<br>\n",
    ">\\- Shoot an arrow at x = 4, bursting the balloons [3,4] and [4,5].\n",
    "\n",
    "<br>\n",
    "\n",
    "**Constraints:**\n",
    "- >1 <= points.length <= 10<sup>5</sup>\n",
    "- >points[i].length == 2\n",
    "- >-2<sup>31</sup> <= x<sub>start</sub> < x<sub>end</sub> <= 2<sup>31</sup> - 1"
   ]
  },
  {
   "cell_type": "code",
   "execution_count": 1,
   "metadata": {},
   "outputs": [],
   "source": [
    "class Solution:\n",
    "    def findMinArrowShots(self, points: list[list[int]]) -> int:\n",
    "        if not points:\n",
    "            return 0\n",
    "        \n",
    "        points.sort(key=lambda x: x[1])\n",
    "        arrows = 1\n",
    "        end = points[0][1]\n",
    "\n",
    "        for i in range(1, len(points)):\n",
    "            if points[i][0] > end:\n",
    "                arrows += 1\n",
    "                end = points[i][1]\n",
    "\n",
    "        return arrows"
   ]
  }
 ],
 "metadata": {
  "kernelspec": {
   "display_name": "base",
   "language": "python",
   "name": "python3"
  },
  "language_info": {
   "codemirror_mode": {
    "name": "ipython",
    "version": 3
   },
   "file_extension": ".py",
   "mimetype": "text/x-python",
   "name": "python",
   "nbconvert_exporter": "python",
   "pygments_lexer": "ipython3",
   "version": "3.9.16"
  }
 },
 "nbformat": 4,
 "nbformat_minor": 2
}

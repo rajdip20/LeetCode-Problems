{
 "cells": [
  {
   "cell_type": "markdown",
   "metadata": {},
   "source": [
    "Given a sorted array of distinct integers and a target value, return the index if the target is found. If not, return the index where it would be if it were inserted in order.\n",
    "\n",
    "You must write an algorithm with **O(log n)** runtime complexity.\n",
    "\n",
    "<br>\n",
    "\n",
    "**Example 1:**\n",
    ">**Input:** nums = [1,3,5,6], target = 5<br>\n",
    ">**Output:** 2\n",
    "\n",
    "**Example 2:**\n",
    ">**Input:** nums = [1,3,5,6], target = 2<br>\n",
    ">**Output:** 1\n",
    "\n",
    "**Example 3:**\n",
    ">**Input:** nums = [1,3,5,6], target = 7<br>\n",
    ">**Output:** 4\n",
    "\n",
    "<br>\n",
    "\n",
    "**Constraints:**\n",
    "- >1 <= nums.length <= 10<sup>4</sup>\n",
    "- >-10<sup>4</sup> <= nums[i] <= 10<sup>4</sup>\n",
    "- >nums contains **distinct** values sorted in **ascending** order.\n",
    "- >-10<sup>4</sup> <= target <= 10<sup>4</sup>"
   ]
  },
  {
   "cell_type": "code",
   "execution_count": 1,
   "metadata": {},
   "outputs": [],
   "source": [
    "class Solution:\n",
    "    def searchInsert(self, nums: list[int], target: int) -> int:\n",
    "        left, right = 0, len(nums) - 1\n",
    "        \n",
    "        while left <= right:\n",
    "            mid = (left + right) // 2\n",
    "            if nums[mid] == target:\n",
    "                return mid\n",
    "            elif nums[mid] < target:\n",
    "                left = mid + 1\n",
    "            else:\n",
    "                right = mid - 1\n",
    "        \n",
    "        return left"
   ]
  }
 ],
 "metadata": {
  "kernelspec": {
   "display_name": "base",
   "language": "python",
   "name": "python3"
  },
  "language_info": {
   "codemirror_mode": {
    "name": "ipython",
    "version": 3
   },
   "file_extension": ".py",
   "mimetype": "text/x-python",
   "name": "python",
   "nbconvert_exporter": "python",
   "pygments_lexer": "ipython3",
   "version": "3.9.16"
  }
 },
 "nbformat": 4,
 "nbformat_minor": 2
}

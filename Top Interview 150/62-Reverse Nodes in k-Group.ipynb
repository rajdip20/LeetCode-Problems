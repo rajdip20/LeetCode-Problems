{
 "cells": [
  {
   "cell_type": "markdown",
   "metadata": {},
   "source": [
    "Given the `head` of a linked list, reverse the nodes of the list `k` at a time, and return *the modified list*.\n",
    "\n",
    "`k` is a positive integer and is less than or equal to the length of the linked list. If the number of nodes is not a multiple of `k` then left-out nodes, in the end, should remain as it is.\n",
    "\n",
    "You may not alter the values in the list's nodes, only nodes themselves may be changed.\n",
    "\n",
    "<br>\n",
    "\n",
    "**Example 1:**\n",
    "\n",
    "![alt text](../images/reverse_ex1.jpg)\n",
    "\n",
    ">**Input:** head = [1,2,3,4,5], k = 2<br>\n",
    ">**Output:** [2,1,4,3,5]\n",
    "\n",
    "**Example 2:**\n",
    "\n",
    "![alt text](../images/reverse_ex2.jpg)\n",
    "\n",
    ">**Input:** head = [1,2,3,4,5], k = 3<br>\n",
    ">**Output:** [3,2,1,4,5]\n",
    "\n",
    "<br>\n",
    "\n",
    "**Constraints:**\n",
    "- >The number of nodes in the list is `n`.\n",
    "- >1 <= k <= n <= 5000\n",
    "- >0 <= Node.val <= 1000\n",
    "\n",
    "<br><br>\n",
    "\n",
    "**Follow-up:** Can you solve the problem in `O(1)` extra memory space?"
   ]
  },
  {
   "cell_type": "code",
   "execution_count": 1,
   "metadata": {},
   "outputs": [],
   "source": [
    "# Definition for singly-linked list.\n",
    "# class ListNode:\n",
    "#     def __init__(self, val=0, next=None):\n",
    "#         self.val = val\n",
    "#         self.next = next\n",
    "class Solution:\n",
    "    def reverseKGroup(self, head, k: int):\n",
    "        count = 0\n",
    "        curr = head\n",
    "        \n",
    "        while count < k and curr:\n",
    "            curr = curr.next\n",
    "            count += 1\n",
    "        if count < k:\n",
    "            return head\n",
    "        \n",
    "        prev, curr = None, head\n",
    "        for _ in range(k):\n",
    "            nxt = curr.next\n",
    "            curr.next = prev\n",
    "            prev = curr\n",
    "            curr = nxt\n",
    "        \n",
    "        head.next = self.reverseKGroup(curr, k)\n",
    "        \n",
    "        return prev"
   ]
  }
 ],
 "metadata": {
  "kernelspec": {
   "display_name": "base",
   "language": "python",
   "name": "python3"
  },
  "language_info": {
   "codemirror_mode": {
    "name": "ipython",
    "version": 3
   },
   "file_extension": ".py",
   "mimetype": "text/x-python",
   "name": "python",
   "nbconvert_exporter": "python",
   "pygments_lexer": "ipython3",
   "version": "3.9.16"
  }
 },
 "nbformat": 4,
 "nbformat_minor": 2
}

{
 "cells": [
  {
   "cell_type": "markdown",
   "metadata": {},
   "source": [
    "Given an integer array `nums` and an integer `val`, remove all occurrences of `val` in `nums` [in-place](https://en.wikipedia.org/wiki/In-place_algorithm). The order of the elements may be changed. Then return *the number of elements in **nums** which are not equal to **val***.\n",
    "\n",
    "Consider the number of elements in `nums` which are not equal to `val` be `k`, to get accepted, you need to do the following things:\n",
    "- Change the array `nums` such that the first `k` elements of `nums` contain the elements which are not equal to `val`. The remaining elements of `nums` are not important as well as the size of `nums`.\n",
    "- Return `k`.\n",
    "\n",
    "<br>\n",
    "\n",
    "**Custom Judge:**\n",
    "\n",
    "The judge will test your solution with the following code:\n",
    "\n",
    ">int[] nums = [...]; // Input array<br>\n",
    ">int val = ...; // Value to remove<br>\n",
    ">int[] expectedNums = [...]; // The expected answer with correct length. // It is sorted with no values equaling val.<br>\n",
    ">\n",
    ">int k = removeElement(nums, val); // Calls your implementation<br>\n",
    ">\n",
    ">assert k == expectedNums.length;<br>\n",
    ">sort(nums, 0, k); // Sort the first k elements of nums<br>\n",
    ">for (int i = 0; i < actualLength; i++) {<br>\n",
    ">&emsp;    assert nums[i] == expectedNums[i];<br>\n",
    ">}\n",
    "\n",
    "If all assertions pass, then your solution will be accepted.\n",
    "\n",
    "<br>\n",
    "\n",
    "**Example 1:**\n",
    ">**Input:** nums = [3,2,2,3], val = 3<br>\n",
    ">**Output:** 2, nums = [2,2, _ , _]<br>\n",
    ">**Explanation:** Your function should return k = 2, with the first two elements of nums being 2.<br>\n",
    ">It does not matter what you leave beyond the returned k (hence they are underscores).\n",
    "\n",
    "\n",
    "**Example 2:**\n",
    ">**Input:** nums = [0,1,2,2,3,0,4,2], val = 2<br>\n",
    ">**Output:** 5, nums = [0,1,4,0,3, _ , _ , _]<br>\n",
    ">**Explanation:** Your function should return k = 5, with the first five elements of nums containing 0, 0, 1, 3, and 4.<br>\n",
    ">Note that the five elements can be returned in any order.<br>\n",
    ">It does not matter what you leave beyond the returned k (hence they are underscores).\n",
    " \n",
    "<br>\n",
    "\n",
    "**Constraints:**\n",
    "- >0 <= nums.length <= 100\n",
    "- >0 <= nums[i] <= 50\n",
    "- >0 <= val <= 100"
   ]
  },
  {
   "cell_type": "code",
   "execution_count": 1,
   "metadata": {},
   "outputs": [],
   "source": [
    "class Solution:\n",
    "    def removeElement(self, nums: list[int], val: int) -> int:\n",
    "        index = 0\n",
    "        \n",
    "        for i in range(len(nums)):\n",
    "            if nums[i] != val:\n",
    "                nums[index] = nums[i]\n",
    "                index += 1\n",
    "        \n",
    "        return index"
   ]
  }
 ],
 "metadata": {
  "kernelspec": {
   "display_name": "base",
   "language": "python",
   "name": "python3"
  },
  "language_info": {
   "codemirror_mode": {
    "name": "ipython",
    "version": 3
   },
   "file_extension": ".py",
   "mimetype": "text/x-python",
   "name": "python",
   "nbconvert_exporter": "python",
   "pygments_lexer": "ipython3",
   "version": "3.9.16"
  }
 },
 "nbformat": 4,
 "nbformat_minor": 2
}

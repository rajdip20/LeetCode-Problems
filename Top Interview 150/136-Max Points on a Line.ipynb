{
 "cells": [
  {
   "cell_type": "markdown",
   "metadata": {},
   "source": [
    "Given an array of `points` where **points[i] = [x<sup>i</sup>, y<sup>i</sup>]** represents a point on the **X-Y** plane, return *the maximum number of points that lie on the same straight line*.\n",
    "\n",
    "<br>\n",
    "\n",
    "**Example 1:**\n",
    "\n",
    "![plane1](../images/plane1.jpg)\n",
    "\n",
    ">**Input:** points = [[1,1],[2,2],[3,3]]<br>\n",
    ">**Output:** 3\n",
    "\n",
    "**Example 2:**\n",
    "\n",
    "![plane2](../images/plane2.jpg)\n",
    "\n",
    ">**Input:** points = [[1,1],[3,2],[5,3],[4,1],[2,3],[1,4]]<br>\n",
    ">**Output:** 4\n",
    "\n",
    "<br>\n",
    "\n",
    "**Constraints:**\n",
    "- >1 <= points.length <= 300\n",
    "- >points[i].length == 2\n",
    "- >-10<sup>4</sup> <= x<sub>i</sub>, y<sub>i</sub> <= 10<sup>4</sup>\n",
    "- >All the points are **unique**."
   ]
  },
  {
   "cell_type": "code",
   "execution_count": 1,
   "metadata": {},
   "outputs": [],
   "source": [
    "class Solution:\n",
    "    def maxPoints(self, points: list[list[int]]) -> int:\n",
    "        n = len(points)\n",
    "        maxP = 0\n",
    "\n",
    "        for i in range(n):\n",
    "            X = points[i][0]\n",
    "            Y = points[i][1]\n",
    "            map = {}\n",
    "\n",
    "            for j in range(i+1, n):\n",
    "                dx = points[j][0] - X\n",
    "                dy = points[j][1] - Y\n",
    "\n",
    "                if(dx != 0): \n",
    "                    d = dy/dx\n",
    "                    if d in map:\n",
    "                        map[d] = map[d] + 1\n",
    "                    else:\n",
    "                        map[d] = 1 \n",
    "                else:\n",
    "                    if 20001.0 in map:\n",
    "                        map[20001.0] = map[20001.0] + 1\n",
    "                    else:\n",
    "                        map[20001.0] = 1\n",
    "\n",
    "            if map:\n",
    "                maxP = max(maxP, max(map.values()))\n",
    "\n",
    "        return maxP + 1"
   ]
  }
 ],
 "metadata": {
  "kernelspec": {
   "display_name": "base",
   "language": "python",
   "name": "python3"
  },
  "language_info": {
   "codemirror_mode": {
    "name": "ipython",
    "version": 3
   },
   "file_extension": ".py",
   "mimetype": "text/x-python",
   "name": "python",
   "nbconvert_exporter": "python",
   "pygments_lexer": "ipython3",
   "version": "3.9.16"
  }
 },
 "nbformat": 4,
 "nbformat_minor": 2
}

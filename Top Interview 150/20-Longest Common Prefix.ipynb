{
 "cells": [
  {
   "cell_type": "markdown",
   "metadata": {},
   "source": [
    "Write a function to find the longest common prefix string amongst an array of strings.\n",
    "\n",
    "If there is no common prefix, return an empty string `\"\"`.\n",
    "\n",
    "<br>\n",
    "\n",
    "**Example 1:**\n",
    ">**Input:** strs = [\"flower\",\"flow\",\"flight\"]<br>\n",
    ">**Output:** \"fl\"\n",
    "\n",
    "\n",
    "**Example 2:**\n",
    ">**Input:** strs = [\"dog\",\"racecar\",\"car\"]<br>\n",
    ">**Output:** \"\"<br>\n",
    ">**Explanation:** There is no common prefix among the input strings.\n",
    "\n",
    "<br>\n",
    "\n",
    "**Constraints:**\n",
    "- >1 <= strs.length <= 200\n",
    "- >0 <= strs[i].length <= 200\n",
    "- >strs[i] consists of only lowercase English letters."
   ]
  },
  {
   "cell_type": "code",
   "execution_count": 1,
   "metadata": {},
   "outputs": [],
   "source": [
    "class Solution:\n",
    "    def longestCommonPrefix(self, strs: list[str]) -> str:\n",
    "        if not strs:\n",
    "            return \"\"\n",
    "        \n",
    "        min_len = min(len(s) for s in strs)\n",
    "        \n",
    "        for i in range(min_len):\n",
    "            for j in range(1, len(strs)):\n",
    "                if strs[j][i] != strs[0][i]:\n",
    "                    return strs[0][:i]\n",
    "        \n",
    "        return strs[0][:min_len]"
   ]
  }
 ],
 "metadata": {
  "kernelspec": {
   "display_name": "base",
   "language": "python",
   "name": "python3"
  },
  "language_info": {
   "codemirror_mode": {
    "name": "ipython",
    "version": 3
   },
   "file_extension": ".py",
   "mimetype": "text/x-python",
   "name": "python",
   "nbconvert_exporter": "python",
   "pygments_lexer": "ipython3",
   "version": "3.9.16"
  }
 },
 "nbformat": 4,
 "nbformat_minor": 2
}

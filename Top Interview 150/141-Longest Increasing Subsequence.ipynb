{
 "cells": [
  {
   "cell_type": "markdown",
   "metadata": {},
   "source": [
    "Given an integer array `nums`, return *the length of the longest **strictly increasing** subsequence*.\n",
    "\n",
    "<br>\n",
    "\n",
    "**Example 1:**\n",
    "\n",
    ">**Input:** nums = [10,9,2,5,3,7,101,18]<br>\n",
    ">**Output:** 4<br>\n",
    ">**Explanation:** The longest increasing subsequence is [2,3,7,101], therefore the length is 4.\n",
    "\n",
    "\n",
    "**Example 2:**\n",
    "\n",
    ">Input: nums = [0,1,0,3,2,3]<br>\n",
    ">Output: 4\n",
    "\n",
    "\n",
    "**Example 3:**\n",
    "\n",
    ">Input: nums = [7,7,7,7,7,7,7]<br>\n",
    ">Output: 1\n",
    "\n",
    "<br>\n",
    "\n",
    "**Constraints:**\n",
    "\n",
    "- >1 <= nums.length <= 2500\n",
    "- >-10<sup>4</sup> <= nums[i] <= 10<sup>4</sup>\n",
    " \n",
    "\n",
    "**Follow up:** Can you come up with an algorithm that runs in `O(n log(n))` time complexity?"
   ]
  },
  {
   "cell_type": "code",
   "execution_count": 1,
   "metadata": {},
   "outputs": [],
   "source": [
    "class Solution:\n",
    "    def lengthOfLIS(self, nums: list[int]) -> int:\n",
    "        import bisect\n",
    "\n",
    "        if not nums:\n",
    "            return 0\n",
    "        \n",
    "        dp = [nums[0]]\n",
    "\n",
    "        for i in nums[1:]:\n",
    "            if i > dp[-1]:\n",
    "                dp.append(i)\n",
    "            else:\n",
    "                index = bisect.bisect_left(dp, i)\n",
    "                dp[index] = i\n",
    "        \n",
    "        return len(dp)"
   ]
  }
 ],
 "metadata": {
  "kernelspec": {
   "display_name": "base",
   "language": "python",
   "name": "python3"
  },
  "language_info": {
   "codemirror_mode": {
    "name": "ipython",
    "version": 3
   },
   "file_extension": ".py",
   "mimetype": "text/x-python",
   "name": "python",
   "nbconvert_exporter": "python",
   "pygments_lexer": "ipython3",
   "version": "3.9.16"
  }
 },
 "nbformat": 4,
 "nbformat_minor": 2
}

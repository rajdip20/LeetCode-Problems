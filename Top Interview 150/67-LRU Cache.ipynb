{
 "cells": [
  {
   "cell_type": "markdown",
   "metadata": {},
   "source": [
    "Design a data structure that follows the constraints of a [Least Recently Used (LRU) cache](https://en.wikipedia.org/wiki/Cache_replacement_policies#LRU).\n",
    "\n",
    "Implement the `LRUCache` class:\n",
    "- `LRUCache(int capacity)` Initialize the LRU cache with positive size `capacity`.\n",
    "- `int get(int key)` Return the value of the `key` if the key exists, otherwise return `-1`.\n",
    "- `void put(int key, int value)` Update the value of the `key` if the `key` exists. Otherwise, add the `key-value` pair to the cache. If the number of keys exceeds the `capacity` from this operation, evict the least recently used key.\n",
    "\n",
    "The functions `get` and `put` must each run in `O(1)` average time complexity.\n",
    "\n",
    "<br>\n",
    "\n",
    "**Example 1:**\n",
    ">**Input**<br>\n",
    ">[\"LRUCache\", \"put\", \"put\", \"get\", \"put\", \"get\", \"put\", \"get\", \"get\", \"get\"]<br>\n",
    ">[[2], [1, 1], [2, 2], [1], [3, 3], [2], [4, 4], [1], [3], [4]]<br>\n",
    ">**Output**<br>\n",
    ">[null, null, null, 1, null, -1, null, -1, 3, 4]<br>\n",
    "><br>\n",
    ">**Explanation**<br>\n",
    ">LRUCache lRUCache = new LRUCache(2);<br>\n",
    ">lRUCache.put(1, 1); // cache is {1=1}\n",
    ">lRUCache.put(2, 2); // cache is {1=1, 2=2}<br>\n",
    ">lRUCache.get(1);    // return 1<br>\n",
    ">lRUCache.put(3, 3); // LRU key was 2, evicts key 2, cache is {1=1, 3=3}<br>\n",
    ">lRUCache.get(2);    // returns -1 (not found)<br>\n",
    ">lRUCache.put(4, 4); // LRU key was 1, evicts key 1, cache is {4=4, 3=3}<br>\n",
    ">lRUCache.get(1);    // return -1 (not found)<br>\n",
    ">lRUCache.get(3);    // return 3<br>\n",
    ">lRUCache.get(4);    // return 4\n",
    "\n",
    "<br>\n",
    "\n",
    "**Constraints:**\n",
    "- >1 <= capacity <= 3000\n",
    "- >0 <= key <= 10<sup>4</sup>\n",
    "- >0 <= value <= 10<sup>5</sup>\n",
    "- >At most 2 * 10<sup>5</sup> calls will be made to get and put."
   ]
  },
  {
   "cell_type": "code",
   "execution_count": 1,
   "metadata": {},
   "outputs": [],
   "source": [
    "class LRUCache:\n",
    "\n",
    "    def __init__(self, capacity: int):\n",
    "        from collections import OrderedDict\n",
    "        \n",
    "        self.cache = OrderedDict()\n",
    "        self.capacity = capacity\n",
    "\n",
    "    def get(self, key: int) -> int:\n",
    "        if key not in self.cache:\n",
    "            return -1\n",
    "        else:\n",
    "            self.cache.move_to_end(key, last=True)\n",
    "            \n",
    "            return self.cache[key]\n",
    "\n",
    "    def put(self, key: int, value: int) -> None:\n",
    "        if key in self.cache:\n",
    "            self.cache.move_to_end(key, last=True)\n",
    "        self.cache[key] = value\n",
    "        \n",
    "        if len(self.cache) > self.capacity:\n",
    "            self.cache.popitem(last=False)\n",
    "\n",
    "\n",
    "# Your LRUCache object will be instantiated and called as such:\n",
    "# obj = LRUCache(capacity)\n",
    "# param_1 = obj.get(key)\n",
    "# obj.put(key,value)"
   ]
  }
 ],
 "metadata": {
  "kernelspec": {
   "display_name": "base",
   "language": "python",
   "name": "python3"
  },
  "language_info": {
   "codemirror_mode": {
    "name": "ipython",
    "version": 3
   },
   "file_extension": ".py",
   "mimetype": "text/x-python",
   "name": "python",
   "nbconvert_exporter": "python",
   "pygments_lexer": "ipython3",
   "version": "3.9.16"
  }
 },
 "nbformat": 4,
 "nbformat_minor": 2
}

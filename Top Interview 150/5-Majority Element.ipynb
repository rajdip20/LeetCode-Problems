{
 "cells": [
  {
   "cell_type": "markdown",
   "metadata": {},
   "source": [
    "Given an array `nums` of size `n`, return *the majority element*.\n",
    "\n",
    "The majority element is the element that appears more than `⌊n / 2⌋` times. You may assume that the majority element always exists in the array.\n",
    "\n",
    "<br>\n",
    "\n",
    "**Example 1:**\n",
    ">Input: nums = [3,2,3]<br>\n",
    ">Output: 3\n",
    "\n",
    "\n",
    "**Example 2:**\n",
    ">Input: nums = [2,2,1,1,1,2,2]<br>\n",
    ">Output: 2\n",
    "\n",
    "<br>\n",
    "\n",
    "**Constraints:**\n",
    "- >n == nums.length\n",
    "- >1 <= n <= 5 * 10<sup>4</sup>\n",
    "- >-10<sup>9</sup> <= nums[i] <= 10<sup>9</sup>\n",
    " \n",
    "<br>\n",
    "\n",
    "**Follow-up:** Could you solve the problem in linear time and in `O(1)` space?"
   ]
  },
  {
   "cell_type": "code",
   "execution_count": 1,
   "metadata": {},
   "outputs": [],
   "source": [
    "class Solution:\n",
    "    def majorityElement(self, nums: list[int]) -> int:\n",
    "        majority_elem = None\n",
    "        count = 0\n",
    "\n",
    "        for num in nums:\n",
    "            if count == 0:\n",
    "                majority_elem = num\n",
    "                count = 1\n",
    "            elif num == majority_elem:\n",
    "                count += 1\n",
    "            else:\n",
    "                count -= 1\n",
    "\n",
    "        return majority_elem"
   ]
  }
 ],
 "metadata": {
  "kernelspec": {
   "display_name": "base",
   "language": "python",
   "name": "python3"
  },
  "language_info": {
   "codemirror_mode": {
    "name": "ipython",
    "version": 3
   },
   "file_extension": ".py",
   "mimetype": "text/x-python",
   "name": "python",
   "nbconvert_exporter": "python",
   "pygments_lexer": "ipython3",
   "version": "3.9.16"
  }
 },
 "nbformat": 4,
 "nbformat_minor": 2
}
